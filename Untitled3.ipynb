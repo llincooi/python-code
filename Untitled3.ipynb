{
 "cells": [
  {
   "cell_type": "code",
   "execution_count": 2,
   "metadata": {},
   "outputs": [],
   "source": [
    "# from arm import MAB\n",
    "import numpy as np \n",
    "import matplotlib.pyplot as plt\n",
    "from matplotlib.animation import FuncAnimation\n",
    "import matplotlib.animation as animation\n",
    "from IPython.display import Video\n",
    "from random import choice\n",
    "# Create some data for scatter plot:\n",
    "# - index in the array (from 0...) is the x axis\n",
    "# - selectedArm is the y axis value from the list [0,1,2,3]\n",
    "# - rewardFromArm is the value either 0 or 1 and controls if plotted dot is empty inside\n",
    "# - colorOfArm gives different colors of each y axis value\n",
    "# - facecolorArm controls color of the dot is it is not empty (see rewardFromArm) \n",
    "N_draws = 20\n",
    "numOfArms = 4 \n",
    "selectedArm   = [3, 0, 2, 2, 2, 1, 2, 1, 0, 0, 2, 1, 0, 1, 0, 3, 3, 1, 1, 2]\n",
    "rewardFromArm = [1, 0, 0, 0, 0, 0, 0, 0, 1, 0, 0, 1, 0, 0, 0, 0, 0, 1, 1, 0]\n",
    "colorOfArm    = ['gray', 'red', 'orange', 'orange', 'orange', 'blue', 'orange',\\\n",
    "                 'blue', 'red', 'red', 'orange', 'blue', 'red', 'blue', 'red', \\\n",
    "                 'gray', 'gray', 'blue', 'blue', 'orange']\n",
    "facecolorArm  = ['gray', 'none', 'none', 'none', 'none', 'none', 'none', 'none',\\\n",
    "                 'red', 'none', 'none', 'blue', 'none', 'none', 'none', 'none', \\\n",
    "                 'none', 'blue', 'blue', 'none']\n",
    "defaultPlot = False\n",
    "if defaultPlot:\n",
    "    plt.rcParams['axes.facecolor'] = plt.rcParamsDefault['axes.facecolor']\n",
    "    plt.rcParams['axes.edgecolor'] = plt.rcParamsDefault['axes.edgecolor']\n",
    "    plt.rcParams['axes.grid'] = plt.rcParamsDefault['axes.grid']\n",
    "    plt.rcParams['grid.alpha'] = plt.rcParamsDefault['grid.alpha']\n",
    "    plt.rcParams['grid.color'] = plt.rcParamsDefault['grid.color']\n",
    "else:\n",
    "    plt.rcParams['axes.facecolor'] = '#D9D9D9'\n",
    "    plt.rcParams['axes.edgecolor'] = 'gray'\n",
    "    plt.rcParams['axes.grid'] = True\n",
    "    plt.rcParams['grid.alpha'] = 0.35\n",
    "    #plt.rcParams['grid.color'] = \"#D9D9D9\""
   ]
  },
  {
   "cell_type": "code",
   "execution_count": 3,
   "metadata": {
    "run_control": {
     "marked": false
    }
   },
   "outputs": [],
   "source": [
    "k = 1\n",
    "x = list(range(N_draws))[:k]\n",
    "y = selectedArm[:k]"
   ]
  },
  {
   "cell_type": "code",
   "execution_count": 5,
   "metadata": {},
   "outputs": [
    {
     "data": {
      "text/plain": [
       "[0]"
      ]
     },
     "execution_count": 5,
     "metadata": {},
     "output_type": "execute_result"
    }
   ],
   "source": [
    "x"
   ]
  },
  {
   "cell_type": "code",
   "execution_count": 6,
   "metadata": {},
   "outputs": [
    {
     "data": {
      "text/plain": [
       "[3]"
      ]
     },
     "execution_count": 6,
     "metadata": {},
     "output_type": "execute_result"
    }
   ],
   "source": [
    "y"
   ]
  },
  {
   "cell_type": "code",
   "execution_count": 4,
   "metadata": {},
   "outputs": [
    {
     "data": {
      "text/plain": [
       "array([[0, 3]])"
      ]
     },
     "execution_count": 4,
     "metadata": {},
     "output_type": "execute_result"
    }
   ],
   "source": [
    "np.c_[x,y]"
   ]
  },
  {
   "cell_type": "code",
   "execution_count": null,
   "metadata": {},
   "outputs": [],
   "source": []
  }
 ],
 "metadata": {
  "kernelspec": {
   "display_name": "Python 3",
   "language": "python",
   "name": "python3"
  },
  "language_info": {
   "codemirror_mode": {
    "name": "ipython",
    "version": 3
   },
   "file_extension": ".py",
   "mimetype": "text/x-python",
   "name": "python",
   "nbconvert_exporter": "python",
   "pygments_lexer": "ipython3",
   "version": "3.7.6"
  },
  "toc": {
   "base_numbering": 1,
   "nav_menu": {},
   "number_sections": true,
   "sideBar": true,
   "skip_h1_title": false,
   "title_cell": "Table of Contents",
   "title_sidebar": "Contents",
   "toc_cell": false,
   "toc_position": {},
   "toc_section_display": true,
   "toc_window_display": false
  },
  "varInspector": {
   "cols": {
    "lenName": 16,
    "lenType": 16,
    "lenVar": 40
   },
   "kernels_config": {
    "python": {
     "delete_cmd_postfix": "",
     "delete_cmd_prefix": "del ",
     "library": "var_list.py",
     "varRefreshCmd": "print(var_dic_list())"
    },
    "r": {
     "delete_cmd_postfix": ") ",
     "delete_cmd_prefix": "rm(",
     "library": "var_list.r",
     "varRefreshCmd": "cat(var_dic_list()) "
    }
   },
   "types_to_exclude": [
    "module",
    "function",
    "builtin_function_or_method",
    "instance",
    "_Feature"
   ],
   "window_display": false
  }
 },
 "nbformat": 4,
 "nbformat_minor": 4
}
