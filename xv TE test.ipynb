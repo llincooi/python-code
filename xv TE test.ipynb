{
 "cells": [
  {
   "cell_type": "code",
   "execution_count": 1,
   "metadata": {},
   "outputs": [],
   "source": [
    "import numpy as np\n",
    "import matplotlib.pyplot as plt\n",
    "import math\n",
    "from scipy import signal\n",
    "from scipy.fftpack import fft\n",
    "from scipy import ndimage\n",
    "%matplotlib inline"
   ]
  },
  {
   "cell_type": "code",
   "execution_count": 2,
   "metadata": {},
   "outputs": [],
   "source": [
    "## EqualState assign states with equal possibility for input array x\n",
    "def EqualState(x, num_state):\n",
    "    xs=np.sort(x)\n",
    "    binlen=int(len(x)/num_state-0.5) #round\n",
    "    edges = xs[np.arange(num_state)*binlen]\n",
    "    xstate=np.zeros(len(x))\n",
    "    for i in range(num_state):\n",
    "        xstate[x>=edges[i]] = i\n",
    "    xstate = xstate.astype(int)\n",
    "    return xstate"
   ]
  },
  {
   "cell_type": "code",
   "execution_count": 3,
   "metadata": {},
   "outputs": [],
   "source": [
    "## PIfunc that calculate Unique, Synergy and Redundancy of three unsymmetric varibles\n",
    "def PIfunc(r, x, v, dt, window):\n",
    "    negshift=window[0] # second\n",
    "    posshift=window[1] # second\n",
    "    shiftlen=(posshift-negshift)/dt+1\n",
    "    timeshift=np.linspace(negshift,posshift,int(shiftlen))\n",
    "    bitshift=np.linspace(negshift/dt,posshift/dt,int(shiftlen),dtype = 'int8')\n",
    "    Redun =np.zeros(len(bitshift))\n",
    "    MIxr=np.zeros(len(bitshift))\n",
    "    MIvr=np.zeros(len(bitshift))\n",
    "    MIxvR=np.zeros(len(bitshift))\n",
    "    # shifted data\n",
    "    # shift>0 => y shifted to positive side\n",
    "    for i in range(len(bitshift)):\n",
    "        xx=[]\n",
    "        vv=[]\n",
    "        rr=[]\n",
    "        shift=bitshift[i]\n",
    "        if shift>0:\n",
    "            xx=x[shift:]\n",
    "            vv=v[shift:]\n",
    "            rr=r[:-shift]\n",
    "        elif shift==0:\n",
    "            xx=x\n",
    "            vv=v\n",
    "            rr=r\n",
    "        elif shift<0:\n",
    "            xx=x[:shift]\n",
    "            vv=v[:shift]\n",
    "            rr=r[-shift:]\n",
    "        #find weight of each states by 3D histogram \n",
    "        xedges = np.append(np.unique(xx),(max(xx)+1))\n",
    "        vedges = np.append(np.unique(vv),(max(vv)+1))\n",
    "        redges = np.append(np.unique(rr),(max(rr)+1))\n",
    "        dat = np.concatenate((xx[:,np.newaxis], vv[:,np.newaxis],rr[:,np.newaxis]), axis=1)\n",
    "        N, edges = np.histogramdd(dat, bins=(xedges, vedges, redges))\n",
    "        #Calculate all kinds of probability and make sure the shape of them\n",
    "        px=(np.sum(N,axis=(1,2))/np.sum(N))[:, np.newaxis, np.newaxis]\n",
    "        pv=(np.sum(N,axis=(0,2))/np.sum(N))[np.newaxis, :, np.newaxis]\n",
    "        pr=(np.sum(N,axis=(0,1))/np.sum(N))[np.newaxis ,np.newaxis, :]\n",
    "        pxv=(np.sum(N,axis=2)/np.sum(N))[:, :, np.newaxis]\n",
    "        pxr=(np.sum(N,axis=1)/np.sum(N))[:, np.newaxis, :]\n",
    "        pvr=(np.sum(N,axis=0)/np.sum(N))[np.newaxis, :, :]\n",
    "        pxvr=(N/np.sum(N))\n",
    "        \n",
    "        MIxr[i]=np.nansum(pxr*np.log2(pxr/px/pr))/dt\n",
    "        MIvr[i]=np.nansum(pvr*np.log2(pvr/pv/pr))/dt\n",
    "        MIxvR[i]=np.nansum(pxvr*np.log2(pxvr/pxv/pr))/dt\n",
    "        \n",
    "        PI_xR = np.nansum(pxr*np.log2(pxr/px/pr), axis = (0,1))\n",
    "        PI_vR = np.nansum(pvr*np.log2(pvr/pv/pr), axis = (0,1))\n",
    "        Redun[i] = sum(np.minimum(PI_xR, PI_vR))/dt\n",
    "    return timeshift, MIxr, MIvr, MIxvR, Redun"
   ]
  },
  {
   "cell_type": "code",
   "execution_count": 4,
   "metadata": {},
   "outputs": [],
   "source": [
    "def TransferEntropy(x, y, shift):#T(x->y)\n",
    "    xx = x[:-shift]#x_past\n",
    "    vv = y[:-shift]#y_past\n",
    "    rr = y[shift:]#y_present\n",
    "    xedges = np.append(np.unique(xx),(max(xx)+1))\n",
    "    vedges = np.append(np.unique(vv),(max(vv)+1))\n",
    "    redges = np.append(np.unique(rr),(max(rr)+1))\n",
    "    dat = np.concatenate((xx[:,np.newaxis], vv[:,np.newaxis],rr[:,np.newaxis]), axis=1)\n",
    "    N, edges = np.histogramdd(dat, bins=(xedges, vedges, redges))\n",
    "    px=(np.sum(N,axis=(1,2))/np.sum(N))[:, np.newaxis, np.newaxis]\n",
    "    pv=(np.sum(N,axis=(0,2))/np.sum(N))[np.newaxis, :, np.newaxis]\n",
    "    pr=(np.sum(N,axis=(0,1))/np.sum(N))[np.newaxis ,np.newaxis, :]\n",
    "    pxv=(np.sum(N,axis=2)/np.sum(N))[:, :, np.newaxis]\n",
    "    pxr=(np.sum(N,axis=1)/np.sum(N))[:, np.newaxis, :]\n",
    "    pvr=(np.sum(N,axis=0)/np.sum(N))[np.newaxis, :, :]\n",
    "    pxvr=(N/np.sum(N))\n",
    "    \n",
    "    T = np.nansum(pxvr*np.log2(pxvr*pv/pxv/pvr))/dt\n",
    "    return T"
   ]
  },
  {
   "cell_type": "code",
   "execution_count": 5,
   "metadata": {},
   "outputs": [],
   "source": [
    "dt = 0.01\n",
    "Tot=300\n",
    "T=np.arange(dt,Tot,dt)\n",
    "OX = 'RN'\n",
    "# OX = 'OU'"
   ]
  },
  {
   "cell_type": "code",
   "execution_count": 6,
   "metadata": {},
   "outputs": [],
   "source": [
    "if OX == 'RN':\n",
    "    D = 27*10**5\n",
    "    RN=np.zeros(len(T))\n",
    "    mu, sigma = 0, 1\n",
    "    RN=np.random.normal(mu,sigma,size = (len(T)))\n",
    "#     RN = np.random.rand(len(T))\n",
    "    RN = (RN-np.mean(RN))/np.std(RN)\n",
    "    x_list = [RN.copy()]\n",
    "    Gsigma_list = np.arange(0,102,10)\n",
    "    for i in np.arange(1,len(Gsigma_list)):\n",
    "        x = ndimage.gaussian_filter1d(RN, sigma=Gsigma_list[i])\n",
    "        x = x.astype(float)\n",
    "        x_list.append(x.copy())\n",
    "elif OX == 'OU':\n",
    "    # OU ; input\n",
    "    tau= 1\n",
    "    D = 27*10**5\n",
    "    OU=np.zeros(len(T))\n",
    "    mu, sigma = 0, 1\n",
    "    for i in range(len(T)-1):\n",
    "        OU[i+1]=OU[i]*(1-dt/tau)+math.sqrt(D*dt)*np.random.normal(mu,sigma)\n",
    "    OU = (OU-np.mean(OU))/np.std(OU)\n",
    "\n",
    "    # filtering for OUSmoothed\n",
    "    x_list = []\n",
    "    Fc_list = 2**np.arange(-1.,4.,1.)\n",
    "    for Fc in Fc_list:\n",
    "        b, a = signal.butter(2, 2*Fc*dt, btype='low', analog=False)\n",
    "        x = signal.filtfilt(b, a, OU)\n",
    "        x = x.astype(float)\n",
    "        x_list.append(x.copy())\n",
    "    Fc_list = np.append(Fc_list, 4*Fc_list[-1])\n",
    "    x_list.append(OU)"
   ]
  },
  {
   "cell_type": "code",
   "execution_count": 7,
   "metadata": {},
   "outputs": [],
   "source": [
    "xt_cor_list = []\n",
    "vt_cor_list = []\n",
    "xvt_cor_list = []\n",
    "v_list = []\n",
    "xstate_list = []\n",
    "vstate_list = []\n",
    "\n",
    "\n",
    "for i in range(len(x_list)):\n",
    "    x = x_list[i].copy()\n",
    "#     tv = ndimage.gaussian_filter1d(x.copy(), sigma=1, order=1, mode='reflect') / dt\n",
    "    v = np.append(0,(np.diff(x)/dt))\n",
    "#     v = np.zeros_like(x)\n",
    "#     for j in range(len(x)-1):\n",
    "#         v[j+1] = v[j]+x[j]*dt\n",
    "#     v_list.append(v.copy())\n",
    "\n",
    "    xstate = EqualState(x, 6)\n",
    "    vstate = EqualState(v, 6)\n",
    "    xstate_list.append(xstate.copy())\n",
    "    vstate_list.append(vstate.copy())\n",
    "\n",
    "    x_cor = np.correlate(x, x, \"same\")\n",
    "    x_cor = x_cor[:int((len(x_cor)+1)/2)+1]\n",
    "    Taxis = np.flip(T[:len(x_cor)]-dt/2)\n",
    "    xt_cor_list.append(round(np.interp(0.5*max(x_cor),  x_cor, Taxis), 5))\n",
    "    x_cor = np.correlate(v, v, \"same\")\n",
    "    x_cor = x_cor[:int((len(x_cor)+1)/2)+1]\n",
    "    Taxis = np.flip(T[:len(x_cor)]-dt/2)\n",
    "    vt_cor_list.append(round(np.interp(0.5*max(x_cor),  x_cor, Taxis), 5))\n",
    "    xv_cor = np.correlate(x, v, \"same\")\n",
    "    xvt_cor_list.append(np.abs(np.argmax(xv_cor)-np.argmin(xv_cor))*dt)"
   ]
  },
  {
   "cell_type": "code",
   "execution_count": 13,
   "metadata": {},
   "outputs": [
    {
     "name": "stderr",
     "output_type": "stream",
     "text": [
      "C:\\Users\\hydro_leo\\anaconda3\\lib\\site-packages\\ipykernel_launcher.py:48: RuntimeWarning: divide by zero encountered in log2\n",
      "C:\\Users\\hydro_leo\\anaconda3\\lib\\site-packages\\ipykernel_launcher.py:48: RuntimeWarning: invalid value encountered in multiply\n",
      "C:\\Users\\hydro_leo\\anaconda3\\lib\\site-packages\\ipykernel_launcher.py:47: RuntimeWarning: divide by zero encountered in log2\n",
      "C:\\Users\\hydro_leo\\anaconda3\\lib\\site-packages\\ipykernel_launcher.py:47: RuntimeWarning: invalid value encountered in multiply\n",
      "C:\\Users\\hydro_leo\\anaconda3\\lib\\site-packages\\ipykernel_launcher.py:51: RuntimeWarning: divide by zero encountered in log2\n",
      "C:\\Users\\hydro_leo\\anaconda3\\lib\\site-packages\\ipykernel_launcher.py:51: RuntimeWarning: invalid value encountered in multiply\n"
     ]
    }
   ],
   "source": [
    "#calculate information\n",
    "window = [-0,0] # second\n",
    "i = 0\n",
    "dt = 1\n",
    "timeshift, MIx, MIv, MIjoint, Redun = PIfunc(vstate_list[i][:], xstate_list[i][:], vstate_list[i][:], dt, [-3,3])\n",
    "Ux = MIx-Redun\n",
    "Uv = MIv-Redun\n",
    "Syner = MIjoint-MIx-MIv+Redun\n",
    "#T(x->y) = U+S = MI(x_past,[y_past,y])-MI(y_past,y)\n",
    "Txy= Syner+Ux"
   ]
  },
  {
   "cell_type": "code",
   "execution_count": 14,
   "metadata": {},
   "outputs": [
    {
     "name": "stdout",
     "output_type": "stream",
     "text": [
      "Ux = [ 2.35418330e-04  3.69969948e-04  2.34364897e-01 -5.55111512e-17\n",
      " -3.25260652e-19  3.36589376e-04  1.75219587e-04]\n",
      "Uv = [1.71249384e-04 5.03184919e-05 0.00000000e+00 2.16874337e+00\n",
      " 1.77869224e-01 6.79269580e-05 2.55591407e-04]\n",
      "S = [3.62813479e-03 3.69657083e-03 6.50317232e-03 2.22044605e-16\n",
      " 1.85542401e-01 2.88996223e-03 3.76322897e-03]\n",
      "R [3.76054929e-04 2.69549607e-04 1.78741591e-01 4.16219033e-01\n",
      " 8.72366209e-04 2.51941141e-04 2.91712906e-04]\n"
     ]
    }
   ],
   "source": [
    "print('Ux =',Ux)\n",
    "print('Uv =',Uv)\n",
    "print('S =',Syner)\n",
    "print('R',Redun)"
   ]
  },
  {
   "cell_type": "code",
   "execution_count": 15,
   "metadata": {},
   "outputs": [
    {
     "data": {
      "text/plain": [
       "[<matplotlib.lines.Line2D at 0x1c52e6f8f08>]"
      ]
     },
     "execution_count": 15,
     "metadata": {},
     "output_type": "execute_result"
    },
    {
     "data": {
      "image/png": "[encoded data removed]",
      "text/plain": [
       "<Figure size 432x288 with 1 Axes>"
      ]
     },
     "metadata": {
      "needs_background": "light"
     },
     "output_type": "display_data"
    }
   ],
   "source": [
    "plt.plot(Ux)\n",
    "plt.plot(Uv)\n",
    "plt.plot(Syner)\n",
    "plt.plot(Redun)"
   ]
  },
  {
   "cell_type": "code",
   "execution_count": null,
   "metadata": {},
   "outputs": [],
   "source": []
  }
 ],
 "metadata": {
  "kernelspec": {
   "display_name": "Python 3",
   "language": "python",
   "name": "python3"
  },
  "language_info": {
   "codemirror_mode": {
    "name": "ipython",
    "version": 3
   },
   "file_extension": ".py",
   "mimetype": "text/x-python",
   "name": "python",
   "nbconvert_exporter": "python",
   "pygments_lexer": "ipython3",
   "version": "3.7.6"
  },
  "toc": {
   "base_numbering": 1,
   "nav_menu": {},
   "number_sections": true,
   "sideBar": true,
   "skip_h1_title": false,
   "title_cell": "Table of Contents",
   "title_sidebar": "Contents",
   "toc_cell": false,
   "toc_position": {},
   "toc_section_display": true,
   "toc_window_display": false
  },
  "varInspector": {
   "cols": {
    "lenName": 16,
    "lenType": 16,
    "lenVar": 40
   },
   "kernels_config": {
    "python": {
     "delete_cmd_postfix": "",
     "delete_cmd_prefix": "del ",
     "library": "var_list.py",
     "varRefreshCmd": "print(var_dic_list())"
    },
    "r": {
     "delete_cmd_postfix": ") ",
     "delete_cmd_prefix": "rm(",
     "library": "var_list.r",
     "varRefreshCmd": "cat(var_dic_list()) "
    }
   },
   "types_to_exclude": [
    "module",
    "function",
    "builtin_function_or_method",
    "instance",
    "_Feature"
   ],
   "window_display": false
  }
 },
 "nbformat": 4,
 "nbformat_minor": 4
}
