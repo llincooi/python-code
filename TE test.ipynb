{
 "cells": [
  {
   "cell_type": "code",
   "execution_count": 1,
   "metadata": {},
   "outputs": [],
   "source": [
    "import numpy as np\n",
    "import matplotlib.pyplot as plt\n",
    "import math\n",
    "from scipy import signal\n",
    "from scipy.fftpack import fft\n",
    "from scipy import ndimage\n",
    "%matplotlib inline"
   ]
  },
  {
   "cell_type": "code",
   "execution_count": 2,
   "metadata": {},
   "outputs": [],
   "source": [
    "## EqualState assign states with equal possibility for input array x\n",
    "def EqualState(x, num_state):\n",
    "    xs=np.sort(x)\n",
    "    binlen=int(len(x)/num_state-0.5) #round\n",
    "    edges = xs[np.arange(num_state)*binlen]\n",
    "    xstate=np.zeros(len(x))\n",
    "    for i in range(num_state):\n",
    "        xstate[x>=edges[i]] = i\n",
    "    xstate = xstate.astype(int)\n",
    "    return xstate"
   ]
  },
  {
   "cell_type": "code",
   "execution_count": 3,
   "metadata": {},
   "outputs": [],
   "source": [
    "## PIfunc that calculate Unique, Synergy and Redundancy of three unsymmetric varibles\n",
    "def PIfunc(r, x, v, dt, window):\n",
    "    joint = (max(v)+1)*x+v\n",
    "    negshift=window[0] # second\n",
    "    posshift=window[1] # second\n",
    "    shiftlen=(posshift-negshift)/dt+1\n",
    "    timeshift=np.linspace(negshift,posshift,int(shiftlen))\n",
    "    bitshift=np.linspace(negshift/dt,posshift/dt,int(shiftlen),dtype = 'int8')\n",
    "    # shifted data\n",
    "    # shift>0 => y shifted to positive side\n",
    "    MIx=np.zeros(len(bitshift))\n",
    "    MIv=np.zeros(len(bitshift))\n",
    "    Redun =np.zeros(len(bitshift))\n",
    "    MIjoint =np.zeros(len(bitshift))\n",
    "    for i in range(len(bitshift)):\n",
    "        xx=[]\n",
    "        vv=[]\n",
    "        jj=[]\n",
    "        rr=[]\n",
    "        shift=bitshift[i]\n",
    "        if shift>0:\n",
    "            xx=x[shift:]\n",
    "            vv=v[shift:]\n",
    "            jj = joint[shift:]\n",
    "            rr=r[:-shift]\n",
    "        elif shift==0:\n",
    "            xx=x\n",
    "            vv=v\n",
    "            jj = joint\n",
    "            rr=r\n",
    "        elif shift<0:\n",
    "            xx=x[:shift]\n",
    "            vv=v[:shift]\n",
    "            jj = joint[:shift]\n",
    "            rr=r[-shift:]\n",
    "        pxr, xedges, yedges = np.histogram2d(xx, rr, bins=(np.append(np.unique(xx),(max(xx)+1)),np.append(np.unique(rr),(max(rr)+1))), density = True)\n",
    "        pvr, xedges, yedges = np.histogram2d(vv, rr, bins=(np.append(np.unique(vv),(max(vv)+1)),np.append(np.unique(rr),(max(rr)+1))), density = True)\n",
    "        pjr, xedges, yedges = np.histogram2d(jj, rr, bins=(np.append(np.unique(jj),(max(jj)+1)),np.append(np.unique(rr),(max(rr)+1))), density = True)\n",
    "        px=np.sum(pxr,axis=1)\n",
    "        pv=np.sum(pvr,axis=1)\n",
    "        pj=np.sum(pjr,axis=1)\n",
    "        pr=np.sum(pjr,axis=0)\n",
    "        \n",
    "        MIx[i]=np.nansum(pxr*np.log2(pxr/px.reshape(-1,1)/pr))/dt\n",
    "        MIv[i]=np.nansum(pvr*np.log2(pvr/pv.reshape(-1,1)/pr))/dt\n",
    "        MIjoint[i]=np.nansum(pjr*np.log2(pjr/pj.reshape(-1,1)/pr))/dt\n",
    "        \n",
    "        PI_rX = np.nansum(pxr*np.log2(pxr/px.reshape(-1,1)/pr), axis = 0)\n",
    "        PI_rV = np.nansum(pvr*np.log2(pvr/pv.reshape(-1,1)/pr), axis = 0)\n",
    "        Redun[i] = sum(np.minimum(PI_rX, PI_rV))/dt\n",
    "    return timeshift, MIx, MIv, MIjoint, Redun"
   ]
  },
  {
   "cell_type": "code",
   "execution_count": 4,
   "metadata": {},
   "outputs": [],
   "source": [
    "x = np.random.randint(2, size=30000)\n",
    "y = np.array([True])\n",
    "x = x.astype(bool)\n",
    "for i in range(30000-1):\n",
    "    y = np.append(y,(y[i] != x[i]))\n",
    "x = x.astype(int)\n",
    "y = y.astype(int)\n",
    "z = y[1:]\n",
    "y = y[:-1]\n",
    "x = x[:-1]"
   ]
  },
  {
   "cell_type": "code",
   "execution_count": 5,
   "metadata": {},
   "outputs": [
    {
     "name": "stderr",
     "output_type": "stream",
     "text": [
      "C:\\Users\\llinc\\anaconda3\\lib\\site-packages\\ipykernel_launcher.py:45: RuntimeWarning: divide by zero encountered in log2\n",
      "C:\\Users\\llinc\\anaconda3\\lib\\site-packages\\ipykernel_launcher.py:45: RuntimeWarning: invalid value encountered in multiply\n",
      "C:\\Users\\llinc\\anaconda3\\lib\\site-packages\\ipykernel_launcher.py:46: RuntimeWarning: divide by zero encountered in log2\n",
      "C:\\Users\\llinc\\anaconda3\\lib\\site-packages\\ipykernel_launcher.py:46: RuntimeWarning: invalid value encountered in multiply\n",
      "C:\\Users\\llinc\\anaconda3\\lib\\site-packages\\ipykernel_launcher.py:49: RuntimeWarning: divide by zero encountered in log2\n",
      "C:\\Users\\llinc\\anaconda3\\lib\\site-packages\\ipykernel_launcher.py:49: RuntimeWarning: invalid value encountered in multiply\n"
     ]
    }
   ],
   "source": [
    "#calculate information\n",
    "window = [-5,5] # second\n",
    "dt=1\n",
    "timeshift, MIx, MIv, MIjoint, Redun = PIfunc(y, x, z, dt, window)\n",
    "\n",
    "Ux = MIx-Redun\n",
    "Uv = MIv-Redun\n",
    "Syner = MIjoint-MIx-MIv+Redun\n",
    "Txy= Syner+Ux"
   ]
  },
  {
   "cell_type": "code",
   "execution_count": 6,
   "metadata": {},
   "outputs": [
    {
     "data": {
      "text/plain": [
       "[<matplotlib.lines.Line2D at 0x1acc7732b48>]"
      ]
     },
     "execution_count": 6,
     "metadata": {},
     "output_type": "execute_result"
    },
    {
     "data": {
      "image/png": "[encoded data removed]",
      "text/plain": [
       "<Figure size 432x288 with 1 Axes>"
      ]
     },
     "metadata": {
      "needs_background": "light"
     },
     "output_type": "display_data"
    }
   ],
   "source": [
    "#plot PIs (r,x,v)\n",
    "plt.plot(timeshift,Ux, 'r-')\n",
    "plt.plot(timeshift,Uv, 'b-')\n",
    "plt.plot(timeshift,Syner, 'k-')\n",
    "plt.plot(timeshift,Redun, 'g-')"
   ]
  },
  {
   "cell_type": "code",
   "execution_count": 7,
   "metadata": {},
   "outputs": [
    {
     "data": {
      "text/plain": [
       "[<matplotlib.lines.Line2D at 0x1acc77d7c48>]"
      ]
     },
     "execution_count": 7,
     "metadata": {},
     "output_type": "execute_result"
    },
    {
     "data": {
      "image/png": "[encoded data removed]",
      "text/plain": [
       "<Figure size 432x288 with 1 Axes>"
      ]
     },
     "metadata": {
      "needs_background": "light"
     },
     "output_type": "display_data"
    }
   ],
   "source": [
    "#plot MIs\n",
    "plt.plot(timeshift,MIx, 'r-')\n",
    "plt.plot(timeshift,MIv, 'b-')\n",
    "plt.plot(timeshift,MIjoint, 'k-')\n",
    "plt.plot(timeshift,MIx+MIv, 'm-')"
   ]
  },
  {
   "cell_type": "code",
   "execution_count": 8,
   "metadata": {},
   "outputs": [],
   "source": [
    "# print('Ux =',Ux)\n",
    "# print('Uv =',Uv)\n",
    "# print('S =',Syner)\n",
    "# print('R =',Redun)"
   ]
  }
 ],
 "metadata": {
  "kernelspec": {
   "display_name": "Python 3",
   "language": "python",
   "name": "python3"
  },
  "language_info": {
   "codemirror_mode": {
    "name": "ipython",
    "version": 3
   },
   "file_extension": ".py",
   "mimetype": "text/x-python",
   "name": "python",
   "nbconvert_exporter": "python",
   "pygments_lexer": "ipython3",
   "version": "3.7.6"
  }
 },
 "nbformat": 4,
 "nbformat_minor": 4
}
