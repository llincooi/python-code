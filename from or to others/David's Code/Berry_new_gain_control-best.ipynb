{
 "cells": [
  {
   "cell_type": "code",
   "execution_count": 1,
   "metadata": {},
   "outputs": [],
   "source": [
    "import numpy as np\n",
    "import matplotlib.pyplot as plt\n",
    "from mpl_toolkits import mplot3d\n",
    "import math\n",
    "from scipy import signal\n",
    "from scipy.fftpack import fft\n",
    "from scipy import ndimage\n",
    "from scipy import special\n",
    "import math\n",
    "%matplotlib inline"
   ]
  },
  {
   "cell_type": "code",
   "execution_count": 2,
   "metadata": {},
   "outputs": [],
   "source": [
    "# #Temporal kernal\n",
    "def temporal(t):\n",
    "    k1 = 2.2\n",
    "    sigma_1 = 10\n",
    "    u1 = 30\n",
    "    k2 = 1.3\n",
    "    sigma_2 = 20\n",
    "    u2 = 80\n",
    "    kernal1 = (k1/np.sqrt(2*np.pi)/sigma_1)*np.exp(-(t-u1)**2/(2*sigma_1**2))\n",
    "    kernal2 = (k2/np.sqrt(2*np.pi)/sigma_2)*np.exp(-(t-u2)**2/(2*sigma_2**2))\n",
    "    return kernal1-kernal2"
   ]
  },
  {
   "cell_type": "code",
   "execution_count": 3,
   "metadata": {
    "scrolled": true
   },
   "outputs": [
    {
     "data": {
      "image/png": "[encoded data removed]",
      "text/plain": [
       "<Figure size 432x288 with 1 Axes>"
      ]
     },
     "metadata": {
      "needs_background": "light"
     },
     "output_type": "display_data"
    }
   ],
   "source": [
    "#Make Temporal kernal\n",
    "length = 350\n",
    "dt = 0.01\n",
    "tp = temporal(np.arange(0,length+1))\n",
    "tp = tp*50\n",
    "plt.plot(np.arange(0,length+1)*dt,tp)\n",
    "plt.xlabel('time')\n",
    "plt.ylabel('Temporal weight')\n",
    "temp_pre = np.zeros(length)\n",
    "tp = np.concatenate((temp_pre,tp))\n"
   ]
  },
  {
   "cell_type": "code",
   "execution_count": 17,
   "metadata": {},
   "outputs": [],
   "source": [
    "#Spatial kernal\n",
    "def spatial(sigma_1,sigma_2, dx):\n",
    "    x = np.arange(-5*sigma_2,5*sigma_2,dx)\n",
    "    kernal1 = (3.5/np.sqrt(2*np.pi)/sigma_1)*np.exp(-(x)**2/(2*sigma_1**2))\n",
    "    kernal2 = (3/np.sqrt(2*np.pi)/sigma_2)*np.exp(-(x)**2/(2*sigma_2**2))\n",
    "    return kernal1-kernal2\n",
    "    #return kernal2-kernal1"
   ]
  },
  {
   "cell_type": "code",
   "execution_count": null,
   "metadata": {},
   "outputs": [],
   "source": [
    "#Make Spatial kernal\n",
    "sigma_c = 1#RF size of horizontal cell\n",
    "dx = 0.1\n",
    "sk = spatial(sigma_c, 5*sigma_c, dx)\n",
    "plt.plot(sk)\n",
    "plt.xlabel('Distance from receptive field center')\n",
    "plt.ylabel('Spatial weight')"
   ]
  },
  {
   "cell_type": "code",
   "execution_count": null,
   "metadata": {},
   "outputs": [],
   "source": [
    "#Gain control function\n",
    "def gain(v,order,B):\n",
    "    if v <0:\n",
    "        return 1\n",
    "    else:\n",
    "        return 1/(1+(B*v)**order)"
   ]
  },
  {
   "cell_type": "code",
   "execution_count": null,
   "metadata": {},
   "outputs": [],
   "source": [
    "#Feedback filter for u\n",
    "tau = 0.23#sec\n",
    "feedback_filter = np.exp(-np.arange(0,1+dt,dt)/tau)\n",
    "plt.plot(np.arange(0,1+dt,dt),feedback_filter)"
   ]
  },
  {
   "cell_type": "code",
   "execution_count": null,
   "metadata": {},
   "outputs": [],
   "source": [
    "#Width setting\n",
    "xlen = 150*sigma_c#spatial extend of simulation\n",
    "hw = 20*sigma_c#half bar width"
   ]
  },
  {
   "cell_type": "code",
   "execution_count": null,
   "metadata": {},
   "outputs": [],
   "source": [
    "pos_0 = 15*sigma_c#Where the bar start\n",
    "nstep = 1000#time step of simulation\n",
    "velocity = 10*sigma_c#speed of bar\n",
    "order = 4#Order of gain control\n",
    "B = 60#To tune altitude of gain control\n",
    "contrast = 1#Contrast of bar"
   ]
  },
  {
   "cell_type": "code",
   "execution_count": null,
   "metadata": {},
   "outputs": [],
   "source": [
    "real_len = int(xlen/dx)#spatial width\n",
    "s = np.zeros([real_len,nstep])#stimulus\n",
    "u = np.zeros([real_len,nstep])#Output\n",
    "gains = np.zeros([real_len,nstep])#Gain values\n",
    "for i in range(nstep):\n",
    "    #Bar position\n",
    "    pos = pos_0+velocity*dt*i\n",
    "    #Stimulus of bar\n",
    "    s[int((pos- hw)/dx):int((pos+hw)/dx),i] = contrast"
   ]
  },
  {
   "cell_type": "code",
   "execution_count": null,
   "metadata": {},
   "outputs": [],
   "source": [
    "##Make sure the spatial-temporal filter is right\n",
    "temp = np.zeros([real_len,nstep])\n",
    "spatial_temp1 = np.zeros([real_len,nstep])#Linear filter output\n",
    "for i in range(nstep):\n",
    "    temp[:,i] = np.convolve(s[:,i],sk,'same')*dx\n",
    "for j in range(real_len):\n",
    "    spatial_temp1[j,:] = np.convolve(tp,temp[j,:],'same')*dt\n",
    "temp = np.zeros([real_len,nstep])\n",
    "spatial_temp2 = np.zeros([real_len,nstep])#Linear filter output\n",
    "for j in range(real_len):\n",
    "    temp[j,:] = np.convolve(tp,s[j,:],'same')*dt\n",
    "for i in range(nstep):\n",
    "    spatial_temp2[:,i] = np.convolve(temp[:,i],sk,'same')*dx"
   ]
  },
  {
   "cell_type": "code",
   "execution_count": null,
   "metadata": {},
   "outputs": [],
   "source": [
    "##Make sure the spatial-temporal filter is right\n",
    "k = 500\n",
    "plt.plot(s[:,k])\n",
    "plt.plot(spatial_temp1[:,k],'r')\n",
    "plt.figure()\n",
    "plt.plot(s[:,k])\n",
    "plt.plot(spatial_temp2[:,k],'b')"
   ]
  },
  {
   "cell_type": "code",
   "execution_count": null,
   "metadata": {},
   "outputs": [],
   "source": [
    "#######Main part##########\n",
    "for i in range(len(feedback_filter),nstep,1):\n",
    "    for j in range(real_len):\n",
    "        v = np.convolve(feedback_filter,spatial_temp1[j,i-len(feedback_filter)+1:i+1],'valid')*dt#average by expotential filtering\n",
    "        g = gain(v,order,B)#Gain control\n",
    "        spatial_temp1[j,i] = spatial_temp1[j,i]*g\n",
    "        u[j,i] = spatial_temp1[j,i]#*g\n",
    "        gains[j,i] = g"
   ]
  },
  {
   "cell_type": "code",
   "execution_count": null,
   "metadata": {},
   "outputs": [],
   "source": [
    "###Nonlinearity\n",
    "u[u<0]= 0####Make negative number to zero"
   ]
  },
  {
   "cell_type": "code",
   "execution_count": null,
   "metadata": {},
   "outputs": [],
   "source": [
    "for k in range(len(tp),nstep,1000):\n",
    "    plt.figure()\n",
    "    plt.plot(s[:,k],'b',label='stimulus')\n",
    "    plt.plot(gains[:,k],'y',label='gain')\n",
    "    plt.plot(spatial_temp2[:,k],'r',label='filtered')#After convolution result\n",
    "    plt.plot(u[:,k]*10,'g',label='output')\n",
    "    plt.xlabel('Position')\n",
    "    plt.ylabel('Amplitude')\n",
    "    plt.legend()\n",
    "plt.savefig('gain_control.jpg')"
   ]
  },
  {
   "cell_type": "code",
   "execution_count": null,
   "metadata": {},
   "outputs": [],
   "source": []
  }
 ],
 "metadata": {
  "kernelspec": {
   "display_name": "Python 3",
   "language": "python",
   "name": "python3"
  },
  "language_info": {
   "codemirror_mode": {
    "name": "ipython",
    "version": 3
   },
   "file_extension": ".py",
   "mimetype": "text/x-python",
   "name": "python",
   "nbconvert_exporter": "python",
   "pygments_lexer": "ipython3",
   "version": "3.7.6"
  },
  "toc": {
   "base_numbering": 1,
   "nav_menu": {},
   "number_sections": true,
   "sideBar": true,
   "skip_h1_title": false,
   "title_cell": "Table of Contents",
   "title_sidebar": "Contents",
   "toc_cell": false,
   "toc_position": {},
   "toc_section_display": true,
   "toc_window_display": false
  },
  "varInspector": {
   "cols": {
    "lenName": 16,
    "lenType": 16,
    "lenVar": 40
   },
   "kernels_config": {
    "python": {
     "delete_cmd_postfix": "",
     "delete_cmd_prefix": "del ",
     "library": "var_list.py",
     "varRefreshCmd": "print(var_dic_list())"
    },
    "r": {
     "delete_cmd_postfix": ") ",
     "delete_cmd_prefix": "rm(",
     "library": "var_list.r",
     "varRefreshCmd": "cat(var_dic_list()) "
    }
   },
   "types_to_exclude": [
    "module",
    "function",
    "builtin_function_or_method",
    "instance",
    "_Feature"
   ],
   "window_display": false
  }
 },
 "nbformat": 4,
 "nbformat_minor": 4
}
