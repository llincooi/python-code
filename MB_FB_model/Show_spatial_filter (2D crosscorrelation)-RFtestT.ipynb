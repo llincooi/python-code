{
 "cells": [
  {
   "cell_type": "markdown",
   "metadata": {},
   "source": [
    "# Import and functions"
   ]
  },
  {
   "cell_type": "code",
   "execution_count": 1,
   "metadata": {},
   "outputs": [
    {
     "name": "stdout",
     "output_type": "stream",
     "text": [
      "importing Jupyter notebook from SpatialTemporal_Correlation_and_Convolution.ipynb\n"
     ]
    }
   ],
   "source": [
    "import numpy as np\n",
    "import matplotlib.pyplot as plt\n",
    "from mpl_toolkits import mplot3d\n",
    "import math\n",
    "from scipy import signal\n",
    "from scipy.fftpack import fft\n",
    "from scipy import ndimage\n",
    "from scipy import special\n",
    "import math\n",
    "import time as toc\n",
    "import import_ipynb\n",
    "import os\n",
    "\n",
    "\n",
    "try:\n",
    "    os.chdir('C:\\\\Users\\\\hydro_leo\\\\Documents\\\\GitHub\\\\python-code\\\\Modules')\n",
    "except:\n",
    "    os.chdir('C:\\\\Users\\\\llinc\\\\GitHub\\\\python-code\\\\Modules')\n",
    "from SpatialTemporal_Correlation_and_Convolution import STcorrelate\n",
    "from SpatialTemporal_Correlation_and_Convolution import ST_STA\n",
    "from SpatialTemporal_Correlation_and_Convolution import STconvolve\n",
    "try:\n",
    "    os.chdir('C:\\\\Users\\\\hydro_leo\\\\Documents\\\\GitHub\\\\python-code\\\\MB_FB_model')\n",
    "except:\n",
    "    os.chdir('C:\\\\Users\\\\llinc\\\\GitHub\\\\python-code\\\\MB_FB_model')\n",
    "%matplotlib inline"
   ]
  },
  {
   "cell_type": "code",
   "execution_count": 2,
   "metadata": {},
   "outputs": [],
   "source": [
    "def Gaussian_filter_1d(x,s):\n",
    "    return(np.exp(-(x/s)**2))/s/np.sqrt(np.pi)"
   ]
  },
  {
   "cell_type": "code",
   "execution_count": 3,
   "metadata": {},
   "outputs": [],
   "source": [
    "def Retina_Mechine_1D(stimulus, sigma_dict, para_dict, dx, dt, loc_dict = 1):\n",
    "    if loc_dict == 1:\n",
    "        loc_dict = {}\n",
    "        loc_dict['C'] = 1\n",
    "        loc_dict['H'] = 1\n",
    "        \n",
    "    klen = max(sigma_dict.values())*5\n",
    "    xx = np.arange(-klen,klen,dx)\n",
    "    KC = Gaussian_filter_1d(xx,sigma_dict['C'])\n",
    "    KH = Gaussian_filter_1d(xx,sigma_dict['H'])\n",
    "\n",
    "    output = np.zeros_like(stimulus)#y output\n",
    "    zts = np.zeros_like(stimulus)#horizontal\n",
    "    sstm = np.zeros_like(stimulus)\n",
    "    rpeak = np.zeros(np.shape(stimulus)[0])\n",
    "    \n",
    "    if 'tau_y' in sigma_dict.keys():\n",
    "        T = np.arange(0,int(sigma_dict['tau_y']/dt*8))*dt\n",
    "        Ky=T/sigma_dict['tau_y'] /sigma_dict['tau_y'] *np.exp(-T/sigma_dict['tau_y'])\n",
    "#         plt.plot(T,Ky)\n",
    "        for j in range(np.shape(stimulus)[1]):\n",
    "            for i in range(len(Ky)-1):\n",
    "                for ii in range(i+1):\n",
    "                    sstm[i,j] += stimulus[ii,j]*Ky[i-ii]*dt\n",
    "            sx = np.convolve(stimulus[:,j],Ky,'valid')*dt\n",
    "            sstm[len(Ky)-1:,j] = sx.copy()\n",
    "    else:\n",
    "        sstm = stimulus.copy()\n",
    "\n",
    "    for i in range(np.shape(stimulus)[0]-1):\n",
    "        s = sstm[i,:]\n",
    "        rs = np.convolve(s,KC,'same')*dx\n",
    "        ry = np.convolve(output[i,:],KH,'same')*dx  # feedback from horizontal cell (y convoluted with horitonatl cell receptive field KH)\n",
    "        rz = np.convolve(zts[i,:],KH,'same')*dx     # feedback from horizontal cell (z convoluted with horitonatl cell receptive field KH)\n",
    "\n",
    "        dyj =(-para_dict['alpha']*output[i,:]+para_dict['k']*(rs-para_dict['phi']*rz))\n",
    "        dzj =(-para_dict['beta']*zts[i,:]+para_dict['g']*output[i,:])\n",
    "        output[i+1,:] = (output[i,:]+dyj*dt)*loc_dict['C']\n",
    "        zts[i+1,:] = (zts[i,:]+dzj*dt)*loc_dict['H']\n",
    "        \n",
    "        maxpos = np.argmax(output[i+1,:])\n",
    "        rpeak[i+1]= maxpos*dx\n",
    "    return output, zts, rpeak\n",
    "\n",
    "def FB_FF_1l_1D(stimulus, sigma_dict, para_dict, dx, dt, loc_dict = 1):\n",
    "    if loc_dict == 1:\n",
    "        loc_dict = {}\n",
    "        loc_dict['C'] = 1\n",
    "        loc_dict['H'] = 1\n",
    "        \n",
    "    klen = min(max(sigma_dict.values())*3, int(stimulus.shape[1]/2/dx))\n",
    "    xx = np.arange(-klen,klen+dx,dx)\n",
    "    KC = Gaussian_filter_1d(xx,sigma_dict['C'])\n",
    "    KH = Gaussian_filter_1d(xx,sigma_dict['H'])\n",
    "    KB = Gaussian_filter_1d(xx,sigma_dict['B'])\n",
    "    plt.plot(KC)\n",
    "    plt.plot(KH)\n",
    "    plt.plot(KB)\n",
    "    plt.plot(KC-KH)\n",
    "    \n",
    "    output = np.zeros_like(stimulus)#y output\n",
    "    zts = np.zeros_like(stimulus)#horizontal\n",
    "    yts = np.zeros_like(stimulus)#horizontal\n",
    "    wts = np.zeros_like(stimulus)#horizontal\n",
    "    sstm = np.zeros_like(stimulus)\n",
    "    rpeak1 = np.zeros(np.shape(stimulus)[0])\n",
    "    rpeak2 = np.zeros(np.shape(stimulus)[0])\n",
    "    rinvertpeak2 = np.zeros(np.shape(stimulus)[0])\n",
    "    \n",
    "    if 'tau_y' in sigma_dict.keys():\n",
    "        T = np.arange(0,int(sigma_dict['tau_y']/dt*8))*dt\n",
    "        Ky=T/sigma_dict['tau_y'] /sigma_dict['tau_y'] *np.exp(-T/sigma_dict['tau_y'])\n",
    "        for j in range(np.shape(stimulus)[1]):\n",
    "            for i in range(len(Ky)-1):\n",
    "                for ii in range(i+1):\n",
    "                    sstm[i,j] += stimulus[ii,j]*Ky[i-ii]*dt\n",
    "            sx = np.convolve(stimulus[:,j],Ky,'valid')*dt\n",
    "            sstm[len(Ky)-1:,j] = sx.copy()\n",
    "    else:\n",
    "        sstm = stimulus.copy()\n",
    "\n",
    "    for i in range(np.shape(stimulus)[0]):\n",
    "        s = sstm[i,:]\n",
    "        rs = np.convolve(s,KC,'same')*dx\n",
    "        ry2z = np.convolve(yts[i-1,:],KH,'same')*dx# feedback from horizontal cell (y convoluted with horitonatl cell receptive field KH)\n",
    "        dyj =(-para_dict['alpha']*yts[i-1,:]+para_dict['k']*(s-para_dict['phi']*zts[i-1,:]))*dt\n",
    "        dzj =(-para_dict['beta']*zts[i-1,:]+para_dict['g']*ry2z)*dt\n",
    "                \n",
    "        yts[i,:] = (yts[i-1,:]+dyj)*loc_dict['C']\n",
    "        zts[i,:] = (zts[i-1,:]+dzj)*loc_dict['H']\n",
    "        ry2w = np.convolve(yts[i-1,:],KB,'same')*dx# feedback from horizontal cell (y convoluted with horitonatl cell receptive field KH)\n",
    "        dwj =(-para_dict['gramma']*wts[i-2,:]+para_dict['p']*((1-para_dict['psy'])*ry2w-para_dict['psy']*zts[i-1,:]))*dt\n",
    "\n",
    "        wts[i-1,:] = (wts[i-2,:]+dwj)\n",
    "        maxpos1 = np.argmax(yts[i,:])\n",
    "        rpeak1[i]= maxpos1*dx\n",
    "        maxpos2 = np.argmax(wts[i-1,:])\n",
    "        rpeak2[i-1]= maxpos2*dx\n",
    "        maxipos2 = np.argmin(wts[i-1,:])\n",
    "        rinvertpeak2[i-1]= maxipos2*dx\n",
    "    \n",
    "    ry2w = np.convolve(yts[i,:],KB,'same')*dx# feedback from horizontal cell (y convoluted with horitonatl cell receptive field KH)\n",
    "    dwj =(-para_dict['gramma']*wts[i-1,:]+para_dict['p']*((1-para_dict['psy'])*ry2w-para_dict['psy']*zts[i,:]))*dt\n",
    "    wts[i,:] = (wts[i-1,:]+dwj)\n",
    "    maxpos2 = np.argmax(wts[i,:])\n",
    "    rpeak2[i]= maxpos2*dx\n",
    "    maxipos2 = np.argmin(wts[i,:])\n",
    "    rinvertpeak2[i]= maxipos2*dx\n",
    "    return wts, zts, yts, rpeak1, rpeak2, rinvertpeak2\n",
    "\n",
    "def FF_FB_2l_1D(stimulus, sigma_dict, para_dict, dx, dt, loc_dict = 0):\n",
    "    if loc_dict == 0:\n",
    "        loc_dict = {}\n",
    "        loc_dict['C'] = 1\n",
    "        loc_dict['H'] = 1\n",
    "        loc_dict['B'] = 1\n",
    "        loc_dict['A'] = 1\n",
    "        \n",
    "        \n",
    "    klen = max(sigma_dict.values())*3\n",
    "    if klen > stimulus.shape[1]/2:\n",
    "        print(klen)\n",
    "    xx = np.arange(-klen,klen+dx,dx)\n",
    "    KH = Gaussian_filter_1d(xx,sigma_dict['H'])\n",
    "    KB = Gaussian_filter_1d(xx,sigma_dict['B'])\n",
    "    KA = Gaussian_filter_1d(xx,sigma_dict['A'])\n",
    "\n",
    "    output = np.zeros_like(stimulus)#y output\n",
    "    z1ts = np.zeros_like(stimulus)#horizontal\n",
    "    y1ts = np.zeros_like(stimulus)#horizontal\n",
    "    z2ts = np.zeros_like(stimulus)#horizontal\n",
    "    y2ts = np.zeros_like(stimulus)#horizontal\n",
    "    sstm = np.zeros_like(stimulus)\n",
    "    rpeak = np.zeros(np.shape(stimulus)[0])\n",
    "    \n",
    "    if 'tau_y' in sigma_dict.keys():\n",
    "        T = np.arange(0,int(sigma_dict['tau_y']/dt*8))*dt\n",
    "        Ky=T/sigma_dict['tau_y'] /sigma_dict['tau_y'] *np.exp(-T/sigma_dict['tau_y'])\n",
    "        for j in range(np.shape(stimulus)[1]):\n",
    "            for i in range(len(Ky)-1):\n",
    "                for ii in range(i+1):\n",
    "                    sstm[i,j] += stimulus[ii,j]*Ky[i-ii]*dt\n",
    "            sx = np.convolve(stimulus[:,j],Ky,'valid')*dt\n",
    "            sstm[len(Ky)-1:,j] = sx.copy()\n",
    "    else:\n",
    "        sstm = stimulus.copy()\n",
    "\n",
    "    for i in range(np.shape(stimulus)[0]):\n",
    "        s = sstm[i,:]\n",
    "        ry1 = np.convolve(y1ts[i-1,:],KH,'same')*dx# feedback from horizontal cell (y convoluted with horitonatl cell receptive field KH)\n",
    "                \n",
    "        dy1j =(-para_dict['alpha1']*y1ts[i-1,:]+para_dict['k1']*s)*dt\n",
    "        dz1j =(-para_dict['beta1']*z1ts[i-1,:]+para_dict['g1']*ry1)*dt\n",
    "        y1ts[i,:] = (y1ts[i-1,:]+dy1j)*loc_dict['C']\n",
    "        z1ts[i,:] = (z1ts[i-1,:]+dz1j)*loc_dict['H']\n",
    "        rz1 = np.convolve(z1ts[i-1,:],KH,'same')*dx# feedback from horizontal cell (z convoluted with horitonatl cell receptive field KH)\n",
    "        ry1to2 = np.convolve(y1ts[i-1,:],KB,'same')*dx\n",
    "        rz2 = np.convolve(z2ts[i-1,:],KA,'same')*dx# feedback from horizontal cell (z convoluted with horitonatl cell receptive field KH)\n",
    "        \n",
    "        dy2j =(-para_dict['alpha2']*y2ts[i-2,:]+para_dict['k2']*(ry1to2-para_dict['phi']*rz1-para_dict['psy']*rz2))*dt\n",
    "        dz2j =(-para_dict['beta2']*z2ts[i-2,:]+para_dict['g2']*y2ts[i-2,:])*dt\n",
    "        y2ts[i-1,:] = (y2ts[i-2,:]+dy2j)*loc_dict['B']\n",
    "        z2ts[i-1,:] = (z2ts[i-2,:]+dz2j)*loc_dict['A']\n",
    "        maxpos = np.argmax(y2ts[i-1,:])\n",
    "        rpeak[i-1]= maxpos*dx\n",
    "    dy2j =(-para_dict['alpha2']*y2ts[i-1,:]+para_dict['k2']*(ry1to2-para_dict['phi']*rz1-para_dict['psy']*rz2))*dt\n",
    "    dz2j =(-para_dict['beta2']*z2ts[i-1,:]+para_dict['g2']*y2ts[i-2,:])*dt\n",
    "    y2ts[i,:] = (y2ts[i-1,:]+dy2j)*loc_dict['B']\n",
    "    z2ts[i,:] = (z2ts[i-1,:]+dz2j)*loc_dict['A']\n",
    "    maxpos = np.argmax(y2ts[i,:])\n",
    "    rpeak[i]= maxpos*dx\n",
    "    return z1ts, z2ts, y1ts, y2ts, rpeak"
   ]
  },
  {
   "cell_type": "code",
   "execution_count": 4,
   "metadata": {},
   "outputs": [],
   "source": [
    "def Ay(para_dict, sigma_dict, x, n = 1000):\n",
    "    alpha = para_dict['alpha']\n",
    "    beta = para_dict['beta']\n",
    "    k = para_dict['k']\n",
    "    phi = para_dict['phi']\n",
    "    g = para_dict['g']\n",
    "    sigma_h = sigma_dict['H']\n",
    "    sigma_c = sigma_dict['C']\n",
    "    ans =  0\n",
    "    for i in range(n+1):\n",
    "        ans += k/alpha/np.sqrt(np.pi)*(-k*g/alpha/beta)**i/np.sqrt(sigma_c**2+i*sigma_h**2)*np.exp(-x**2/(sigma_c**2+i*sigma_h**2))\n",
    "    return ans"
   ]
  },
  {
   "cell_type": "markdown",
   "metadata": {},
   "source": [
    "# Setting parameters"
   ]
  },
  {
   "cell_type": "markdown",
   "metadata": {},
   "source": [
    "## CKC's parameters"
   ]
  },
  {
   "cell_type": "code",
   "execution_count": 5,
   "metadata": {},
   "outputs": [],
   "source": [
    "filename = 'CKC STkernels-good parameters'\n",
    "\n",
    "NGD_sigma_dict = dict()\n",
    "NGD_sigma_dict['H'] = 1\n",
    "NGD_sigma_dict['C'] = NGD_sigma_dict['H']*0.2 # RF size of cone cell\n",
    "dx = NGD_sigma_dict['H']/40.\n",
    "\n",
    "dt=0.01  #large dt will cause  overflow\n",
    "NGD_sigma_dict['tau_y'] = 0.02\n",
    "#Width setting\n",
    "xlen = 50*NGD_sigma_dict['H'] #spatial extend of simulation\n",
    "Dynamical_range = 6*NGD_sigma_dict['H']/dx #188-16 pixels\n",
    "hw = 3*Dynamical_range*dx/22 #half bar width  #8 pixels\n",
    "tempx = np.arange(0,xlen/dx+1)*dx\n",
    "\n",
    "NGD_para_dict = {}\n",
    "NGD_para_dict['alpha'] = 40.\n",
    "NGD_para_dict['beta'] = 2.\n",
    "NGD_para_dict['k'] = 40.\n",
    "NGD_para_dict['phi'] = 5.\n",
    "NGD_para_dict['g'] = 2.\n",
    "\n",
    "\n",
    "FBFF_sigma_dict = NGD_sigma_dict.copy()\n",
    "FBFF_para_dict = NGD_para_dict.copy()\n",
    "FBFF_para_dict['gramma'] = 100.\n",
    "FBFF_para_dict['p'] = 100.\n",
    "FBFF_para_dict['psy'] = 0.3\n",
    "\n",
    "FBFF_sigma_dict['B'] = FBFF_sigma_dict['H']*0.2\n",
    "\n",
    "FFFB_para_dict, FFFB_sigma_dict = {}, {}\n",
    "FFFB_para_dict['alpha2'] = NGD_para_dict['alpha']*2\n",
    "FFFB_para_dict['beta2'] = NGD_para_dict['beta']*2\n",
    "FFFB_para_dict['k2'] = NGD_para_dict['k']*2\n",
    "FFFB_para_dict['phi'] = 1\n",
    "FFFB_para_dict['psy'] = FBFF_para_dict['psy']\n",
    "FFFB_para_dict['g2'] = NGD_para_dict['g']*2\n",
    "\n",
    "FFFB_para_dict['alpha1'] = NGD_para_dict['alpha']\n",
    "FFFB_para_dict['beta1'] = NGD_para_dict['beta']\n",
    "FFFB_para_dict['k1'] = NGD_para_dict['k']\n",
    "FFFB_para_dict['g1'] = NGD_para_dict['g']\n",
    "\n",
    "FFFB_sigma_dict['H'] =  NGD_sigma_dict['H']\n",
    "FFFB_sigma_dict['B'] = NGD_sigma_dict['C']\n",
    "FFFB_sigma_dict['A'] = FFFB_sigma_dict['B']*2.\n",
    "FFFB_sigma_dict['tau_y'] = NGD_sigma_dict['tau_y']\n",
    "\n",
    "\n",
    "\n",
    "# para_dict['g']*para_dict['k']*para_dict['phi']/para_dict['alpha']/para_dict['beta']"
   ]
  },
  {
   "cell_type": "markdown",
   "metadata": {},
   "source": [
    "## Leo's parameters"
   ]
  },
  {
   "cell_type": "code",
   "execution_count": 6,
   "metadata": {},
   "outputs": [],
   "source": [
    "# filename = 'Leo\\'s STkernels-good parameters'\n",
    "\n",
    "# sigma_dict = dict()\n",
    "# sigma_dict['H'] = 1\n",
    "# sigma_dict['C'] = sigma_dict['H']*0.75 # RF size of cone cell\n",
    "# dx = sigma_dict['H']/40.\n",
    "\n",
    "# dt=0.01  #large dt will cause  overflow\n",
    "# sigma_dict['tau_y'] = 0.02\n",
    "\n",
    "# #Width setting\n",
    "# xlen = 50*sigma_dict['H'] #spatial extend of simulation\n",
    "# hw = 0.6*sigma_dict['H']#half bar width\n",
    "# tempx = np.arange(0,xlen+dx,dx)\n",
    "\n",
    "# para_dict = {}\n",
    "# para_dict['alpha'] = 40.\n",
    "# para_dict['beta'] = 2.\n",
    "# para_dict['k'] = 50.\n",
    "# para_dict['phi'] = 20.\n",
    "# para_dict['g'] = 2.\n",
    "\n",
    "# para_dict['g']*para_dict['k']*para_dict['phi']/para_dict['alpha']/para_dict['beta']"
   ]
  },
  {
   "cell_type": "code",
   "execution_count": 7,
   "metadata": {},
   "outputs": [],
   "source": [
    "# #plot analytic result\n",
    "# x = np.arange(-int(xlen/dx/2),int(xlen/dx/2))*dx\n",
    "# plt.plot(Ay(para_dict,sigma_dict,x))\n",
    "# plt.title('Show Analitc Solution of Steady State')"
   ]
  },
  {
   "cell_type": "markdown",
   "metadata": {},
   "source": [
    "# Whole Field STA"
   ]
  },
  {
   "cell_type": "code",
   "execution_count": 14,
   "metadata": {},
   "outputs": [
    {
     "data": {
      "image/png": "[encoded data removed]",
      "text/plain": [
       "<Figure size 432x288 with 1 Axes>"
      ]
     },
     "metadata": {
      "needs_background": "light"
     },
     "output_type": "display_data"
    }
   ],
   "source": [
    "fig, ax = plt.subplots()"
   ]
  },
  {
   "cell_type": "code",
   "execution_count": 15,
   "metadata": {},
   "outputs": [
    {
     "data": {
      "image/png": "[encoded data removed]",
      "text/plain": [
       "<Figure size 432x288 with 1 Axes>"
      ]
     },
     "metadata": {
      "needs_background": "light"
     },
     "output_type": "display_data"
    }
   ],
   "source": [
    "n_twn = np.random.randn(10000)\n",
    "for i in [8,10,15,20]:\n",
    "    wnmean = 10\n",
    "    wnstd = i\n",
    "    homo_cSTA = np.matmul((n_twn*wnstd + wnmean)[:, np.newaxis], np.ones(int(xlen/dx)+1)[np.newaxis, :])\n",
    "#     homo_cSTA = np.matmul((np.random.randint(2, size = 10000))[:, np.newaxis], np.ones(int(xlen/dx)+1)[np.newaxis, :])\n",
    "    wts, zts, yts, _, _, _ = FB_FF_1l_1D(homo_cSTA, FBFF_sigma_dict, FBFF_para_dict, dx, dt)\n",
    "    csta_output = wts.copy()\n",
    "    output = csta_output[:,int(xlen/dx/2)]\n",
    "\n",
    "    TK = np.correlate(output, n_twn, 'same')/ np.correlate(output, np.ones_like(n_twn), 'same')*dt\n",
    "    TK = TK[(round(len(TK)/2)+int(0.5/dt)):(round(len(TK)/2)-1):-1]\n",
    "    TKtaxis = np.arange(-len(TK)+1,1)*dt\n",
    "    ax.plot(TKtaxis,TK, label = str(i))\n",
    "# z1ts, z2ts, y1ts, y2ts, _ = FF_FB_2l_1D(homo_cSTA, FFFB_sigma_dict, FFFB_para_dict, dx, dt)\n",
    "# csta_output = y2ts"
   ]
  },
  {
   "cell_type": "code",
   "execution_count": 16,
   "metadata": {},
   "outputs": [
    {
     "data": {
      "image/png": "[encoded data removed]",
      "text/plain": [
       "<Figure size 432x288 with 1 Axes>"
      ]
     },
     "execution_count": 16,
     "metadata": {},
     "output_type": "execute_result"
    }
   ],
   "source": [
    "ax.legend()\n",
    "fig"
   ]
  },
  {
   "cell_type": "code",
   "execution_count": null,
   "metadata": {},
   "outputs": [],
   "source": []
  }
 ],
 "metadata": {
  "kernelspec": {
   "display_name": "Python 3",
   "language": "python",
   "name": "python3"
  },
  "language_info": {
   "codemirror_mode": {
    "name": "ipython",
    "version": 3
   },
   "file_extension": ".py",
   "mimetype": "text/x-python",
   "name": "python",
   "nbconvert_exporter": "python",
   "pygments_lexer": "ipython3",
   "version": "3.7.6"
  },
  "toc": {
   "base_numbering": 1,
   "nav_menu": {},
   "number_sections": true,
   "sideBar": true,
   "skip_h1_title": false,
   "title_cell": "Table of Contents",
   "title_sidebar": "Contents",
   "toc_cell": false,
   "toc_position": {
    "height": "calc(100% - 180px)",
    "left": "10px",
    "top": "150px",
    "width": "384px"
   },
   "toc_section_display": true,
   "toc_window_display": true
  },
  "varInspector": {
   "cols": {
    "lenName": 16,
    "lenType": 16,
    "lenVar": 40
   },
   "kernels_config": {
    "python": {
     "delete_cmd_postfix": "",
     "delete_cmd_prefix": "del ",
     "library": "var_list.py",
     "varRefreshCmd": "print(var_dic_list())"
    },
    "r": {
     "delete_cmd_postfix": ") ",
     "delete_cmd_prefix": "rm(",
     "library": "var_list.r",
     "varRefreshCmd": "cat(var_dic_list()) "
    }
   },
   "position": {
    "height": "297px",
    "left": "1550px",
    "right": "20px",
    "top": "120px",
    "width": "350px"
   },
   "types_to_exclude": [
    "module",
    "function",
    "builtin_function_or_method",
    "instance",
    "_Feature"
   ],
   "window_display": true
  }
 },
 "nbformat": 4,
 "nbformat_minor": 2
}
