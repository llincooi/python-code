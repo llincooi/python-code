{
 "cells": [
  {
   "cell_type": "code",
   "execution_count": 1,
   "metadata": {},
   "outputs": [],
   "source": [
    "import numpy as np\n",
    "import matplotlib.pyplot as plt\n",
    "from mpl_toolkits import mplot3d\n",
    "import math\n",
    "from scipy import signal\n",
    "from scipy.fftpack import fft\n",
    "from scipy import ndimage\n",
    "from scipy import special\n",
    "import math\n",
    "import time as toc\n",
    "%matplotlib inline"
   ]
  },
  {
   "cell_type": "code",
   "execution_count": 2,
   "metadata": {},
   "outputs": [],
   "source": [
    "def K(x,s):\n",
    "    return(np.exp(-(x/s)**2))/s/np.sqrt(np.pi)"
   ]
  },
  {
   "cell_type": "code",
   "execution_count": 3,
   "metadata": {},
   "outputs": [],
   "source": [
    "def Retina_Mechine_1D(stimulus, sigma_dict, para_dict, dx, dt, loc_dict = 1):\n",
    "    if loc_dict == 1:\n",
    "        loc_dict = {}\n",
    "        loc_dict['C'] = 1\n",
    "        loc_dict['H'] = 1\n",
    "        \n",
    "    klen = max(sigma_dict.values())*5\n",
    "    xx = np.arange(-klen,klen,dx)\n",
    "    KC = K(xx,sigma_dict['C'])\n",
    "    KH = K(xx,sigma_dict['H'])\n",
    "\n",
    "    output = np.zeros_like(stimulus)#y output\n",
    "    zts = np.zeros_like(stimulus)#horizontal\n",
    "    sstm = np.zeros_like(stimulus)\n",
    "    rpeak = np.zeros(np.shape(stimulus)[0])\n",
    "    \n",
    "    if 'tau_y' in sigma_dict.keys():\n",
    "        T = np.arange(1,int(sigma_dict['tau_y']/dt*8))*dt\n",
    "        Ky=T/sigma_dict['tau_y'] /sigma_dict['tau_y'] *np.exp(-T/sigma_dict['tau_y'])\n",
    "        for j in range(np.shape(stimulus)[1]):\n",
    "            for i in range(len(Ky)-1):\n",
    "                for ii in range(i+1):\n",
    "                    sstm[i,j] += stimulus[ii,j]*Ky[i-ii]*dt\n",
    "            sx = np.convolve(stimulus[:,j],Ky,'valid')*dt\n",
    "            sstm[len(Ky)-1:,j] = sx.copy()\n",
    "    else:\n",
    "        sstm = stimulus.copy()\n",
    "\n",
    "    for i in range(np.shape(stimulus)[0]-1):\n",
    "        s = sstm[i,:]\n",
    "        rs = np.convolve(s,KC,'same')*dx\n",
    "        ry = np.convolve(output[i,:],KH,'same')# feedback from horizontal cell (y convoluted with horitonatl cell receptive field KH)\n",
    "        rz = np.convolve(zts[i,:],KH,'same')# feedback from horizontal cell (z convoluted with horitonatl cell receptive field KH)\n",
    "\n",
    "        dyj =(-para_dict['alpha']*output[i,:]+para_dict['k']*(rs-para_dict['phi']*rz))*dt\n",
    "        dzj =(-para_dict['beta']*zts[i,:]+para_dict['g']*output[i,:])*dt\n",
    "        output[i+1,:] = (output[i,:]+dyj)*loc_dict['C']\n",
    "        zts[i+1,:] = (zts[i,:]+dzj)*loc_dict['H']\n",
    "        \n",
    "        maxpos = np.argmax(output[i+1,:])\n",
    "        rpeak[i+1]= maxpos*dx\n",
    "    return output, zts, rpeak"
   ]
  },
  {
   "cell_type": "code",
   "execution_count": 4,
   "metadata": {},
   "outputs": [],
   "source": [
    "def STA(r, x, dt, window):\n",
    "    negshift=round(window[0]/dt) # second\n",
    "    posshift=round(window[1]/dt) # second\n",
    "    xSTS = np.zeros(posshift-negshift)\n",
    "    for i in np.arange(-negshift, len(r)-posshift):\n",
    "        xSTS = xSTS + x[i+negshift:i+posshift]*r[i]\n",
    "        \n",
    "    xSTA = xSTS/sum(r[-negshift:len(r)-posshift])\n",
    "    time = np.arange(negshift*dt, posshift*dt, dt)\n",
    "    return time, xSTA\n",
    "\n",
    "def STA_centered(r, x, dt, window):\n",
    "    x = x - np.mean(x)\n",
    "    negshift=round(window[0]/dt) # second\n",
    "    posshift=round(window[1]/dt) # second\n",
    "    xSTS = np.zeros(posshift-negshift)\n",
    "    for i in np.arange(-negshift, len(r)-posshift):\n",
    "        xSTS = xSTS + x[i+negshift:i+posshift]*r[i]\n",
    "        \n",
    "    xSTA = xSTS/sum(r[-negshift:len(r)-posshift])\n",
    "    time = np.arange(negshift*dt, posshift*dt, dt)\n",
    "    return time, xSTA"
   ]
  },
  {
   "cell_type": "code",
   "execution_count": 5,
   "metadata": {},
   "outputs": [],
   "source": [
    "def Ay(para_dict, sigma_dict, x, n = 1000):\n",
    "    alpha = para_dict['alpha']\n",
    "    beta = para_dict['beta']\n",
    "    k = para_dict['k']\n",
    "    phi = para_dict['phi']\n",
    "    g = para_dict['g']\n",
    "    sigma_h = sigma_dict['H']\n",
    "    sigma_c = sigma_dict['C']\n",
    "    ans =  0\n",
    "    for i in range(n+1):\n",
    "        ans += k/alpha/np.sqrt(np.pi)*(-k*g/alpha/beta)**i/np.sqrt(sigma_c**2+i*sigma_h**2)*np.exp(-x**2/(sigma_c**2+i*sigma_h**2))\n",
    "    return ans"
   ]
  },
  {
   "cell_type": "code",
   "execution_count": 6,
   "metadata": {},
   "outputs": [],
   "source": [
    "sigma_dict = dict()\n",
    "sigma_dict['H'] = 1\n",
    "sigma_dict['C'] = sigma_dict['H']*2/3# RF size of cone cell\n",
    "dx = 0.01*sigma_dict['H']\n",
    " \n",
    "dt=0.01\n",
    "sigma_dict['tau_y'] = 0.02"
   ]
  },
  {
   "cell_type": "code",
   "execution_count": 7,
   "metadata": {},
   "outputs": [],
   "source": [
    "#Width setting\n",
    "xlen = 20*sigma_dict['H'] #spatial extend of simulation\n",
    "hw = 0.75*sigma_dict['H']#half bar width\n",
    "tempx = np.arange(0,xlen,dx)"
   ]
  },
  {
   "cell_type": "code",
   "execution_count": 8,
   "metadata": {},
   "outputs": [
    {
     "data": {
      "text/plain": [
       "0.20833333333333334"
      ]
     },
     "execution_count": 8,
     "metadata": {},
     "output_type": "execute_result"
    }
   ],
   "source": [
    "para_dict = {}\n",
    "para_dict['alpha'] = 80\n",
    "para_dict['beta'] = 2\n",
    "para_dict['k'] = 500\n",
    "para_dict['phi'] = 1.0\n",
    "para_dict['g'] = 1/15\n",
    "\n",
    "para_dict['g']*para_dict['k']*para_dict['phi']/para_dict['alpha']/para_dict['beta']"
   ]
  },
  {
   "cell_type": "code",
   "execution_count": 9,
   "metadata": {},
   "outputs": [
    {
     "data": {
      "text/plain": [
       "Text(0.5, 1.0, 'Show Analitc Solution of Steady State')"
      ]
     },
     "execution_count": 9,
     "metadata": {},
     "output_type": "execute_result"
    },
    {
     "data": {
      "image/png": "[encoded data removed]",
      "text/plain": [
       "<Figure size 432x288 with 1 Axes>"
      ]
     },
     "metadata": {
      "needs_background": "light"
     },
     "output_type": "display_data"
    }
   ],
   "source": [
    "x = np.arange(-int(xlen/dx/2),int(xlen/dx/2))*dx\n",
    "plt.plot(Ay(para_dict,sigma_dict,x))\n",
    "plt.title('Show Analitc Solution of Steady State')"
   ]
  },
  {
   "cell_type": "markdown",
   "metadata": {},
   "source": [
    "## Whole Field STA"
   ]
  },
  {
   "cell_type": "code",
   "execution_count": 10,
   "metadata": {},
   "outputs": [],
   "source": [
    "homo_cSTA = np.matmul((np.random.randn(5000)*0.3+1)[:, np.newaxis], np.ones(int(xlen/dx))[np.newaxis, :])\n",
    "y, zts, _ = Retina_Mechine_1D(homo_cSTA, sigma_dict, para_dict, dx, dt)"
   ]
  },
  {
   "cell_type": "code",
   "execution_count": 11,
   "metadata": {},
   "outputs": [
    {
     "data": {
      "text/plain": [
       "[<matplotlib.lines.Line2D at 0x1843994aec8>]"
      ]
     },
     "execution_count": 11,
     "metadata": {},
     "output_type": "execute_result"
    },
    {
     "data": {
      "image/png": "[encoded data removed]",
      "text/plain": [
       "<Figure size 432x288 with 1 Axes>"
      ]
     },
     "metadata": {
      "needs_background": "light"
     },
     "output_type": "display_data"
    }
   ],
   "source": [
    "#####PLot numerical solution########\n",
    "plt.plot(tempx,y.T[:,-1],'b')#numerical solution\n",
    "plt.plot(tempx,zts.T[:,-1],'r')#numerical solution"
   ]
  },
  {
   "cell_type": "code",
   "execution_count": 12,
   "metadata": {},
   "outputs": [
    {
     "data": {
      "image/png": "[encoded data removed]",
      "text/plain": [
       "<Figure size 432x288 with 1 Axes>"
      ]
     },
     "metadata": {
      "needs_background": "light"
     },
     "output_type": "display_data"
    }
   ],
   "source": [
    "output = y[:,int(xlen/dx/2)]\n",
    "time, xSTA = STA(output, homo_cSTA[:,0], dt, [-0.5,0.25])\n",
    "time, xSTA2 = STA_centered(output, homo_cSTA[:,0], dt, [-0.5,0.25])\n",
    "plt.plot(time, xSTA-1)\n",
    "plt.plot(time, xSTA2)\n",
    "plt.title('temporal filter')\n",
    "plt.grid()"
   ]
  },
  {
   "cell_type": "markdown",
   "metadata": {},
   "source": [
    "## A Smooth Constant speed Moving Bar"
   ]
  },
  {
   "cell_type": "code",
   "execution_count": 13,
   "metadata": {},
   "outputs": [],
   "source": [
    "nstep = 1600\n",
    "moving_bar = np.zeros([nstep, int(xlen/dx)])\n",
    "pos = 0\n",
    "v = 0.5 #dx/step\n",
    "hw = 10 #dx\n",
    "pos = 600\n",
    "speak = np.zeros(nstep)\n",
    "for i in range(nstep):\n",
    "    pos = pos+v\n",
    "    moving_bar[i,max(int(pos-hw), 0):min(int(pos+hw), int(xlen/dx))] = 1\n",
    "    speak[i] = pos*dt"
   ]
  },
  {
   "cell_type": "code",
   "execution_count": 14,
   "metadata": {},
   "outputs": [],
   "source": [
    "SbS_y, zts, rpeak = Retina_Mechine_1D(moving_bar, sigma_dict, para_dict, dx, dt)"
   ]
  },
  {
   "cell_type": "code",
   "execution_count": 15,
   "metadata": {},
   "outputs": [
    {
     "data": {
      "text/plain": [
       "[<matplotlib.lines.Line2D at 0x18447f910c8>]"
      ]
     },
     "execution_count": 15,
     "metadata": {},
     "output_type": "execute_result"
    },
    {
     "data": {
      "image/png": "[encoded data removed]",
      "text/plain": [
       "<Figure size 432x288 with 1 Axes>"
      ]
     },
     "metadata": {
      "needs_background": "light"
     },
     "output_type": "display_data"
    }
   ],
   "source": [
    "#####PLot numerical solution########\n",
    "plt.plot(tempx,SbS_y.T[:,-1],'b')#numerical solution\n",
    "plt.plot(tempx,zts.T[:,-1],'r')#numerical solution"
   ]
  },
  {
   "cell_type": "code",
   "execution_count": 16,
   "metadata": {
    "scrolled": true
   },
   "outputs": [
    {
     "data": {
      "image/png": "[encoded data removed]",
      "text/plain": [
       "<Figure size 1080x360 with 2 Axes>"
      ]
     },
     "metadata": {
      "needs_background": "light"
     },
     "output_type": "display_data"
    }
   ],
   "source": [
    "fig, (ax2, ax3) = plt.subplots(nrows=1, ncols=2) \n",
    "ax2.imshow(moving_bar)\n",
    "ax2.set_title('moving_bar')\n",
    "ax3.imshow(SbS_y)\n",
    "ax3.set_title('step by step output')\n",
    "fig.set_size_inches(15, 5)"
   ]
  },
  {
   "cell_type": "code",
   "execution_count": 17,
   "metadata": {},
   "outputs": [
    {
     "data": {
      "text/plain": [
       "Text(0.5, 1.0, 'prediction')"
      ]
     },
     "execution_count": 17,
     "metadata": {},
     "output_type": "execute_result"
    },
    {
     "data": {
      "image/png": "[encoded data removed]",
      "text/plain": [
       "<Figure size 432x288 with 1 Axes>"
      ]
     },
     "metadata": {
      "needs_background": "light"
     },
     "output_type": "display_data"
    }
   ],
   "source": [
    "plt.plot(((rpeak-speak)/dx)[1:])\n",
    "# plt.xlim([100,nstep])\n",
    "# plt.ylim([-hw,+hw])\n",
    "plt.title('prediction')"
   ]
  },
  {
   "cell_type": "markdown",
   "metadata": {},
   "source": [
    "## spatial-temporal Checker "
   ]
  },
  {
   "cell_type": "code",
   "execution_count": 18,
   "metadata": {},
   "outputs": [],
   "source": [
    "nstep = 10000\n",
    "ST_cSTA = np.random.randn(nstep, int(xlen/dx))*0.3+1\n",
    "y, zts, _ = Retina_Mechine_1D(ST_cSTA, sigma_dict, para_dict, dx, dt)"
   ]
  },
  {
   "cell_type": "code",
   "execution_count": 19,
   "metadata": {},
   "outputs": [
    {
     "data": {
      "text/plain": [
       "[<matplotlib.lines.Line2D at 0x18447f67688>]"
      ]
     },
     "execution_count": 19,
     "metadata": {},
     "output_type": "execute_result"
    },
    {
     "data": {
      "image/png": "[encoded data removed]",
      "text/plain": [
       "<Figure size 432x288 with 1 Axes>"
      ]
     },
     "metadata": {
      "needs_background": "light"
     },
     "output_type": "display_data"
    }
   ],
   "source": [
    "#####PLot numerical solution########\n",
    "plt.plot(tempx,y.T[:,-1],'b')#numerical solution\n",
    "plt.plot(tempx,zts.T[:,-1],'r')#numerical solution"
   ]
  },
  {
   "cell_type": "code",
   "execution_count": null,
   "metadata": {},
   "outputs": [],
   "source": [
    "tic = toc.time()\n",
    "time_window = [-0.4,0.1]\n",
    "space_window = [700,1300]\n",
    "nstep = int(np.diff(time_window)/dt)\n",
    "test2 = np.zeros([nstep, int(xlen/dx)])\n",
    "test3 = np.zeros([nstep, int(xlen/dx)])\n",
    "test4 = np.zeros([nstep, int(xlen/dx)])\n",
    "denominator = np.zeros(int(xlen/dx))\n",
    "denominator2 = np.zeros(int(xlen/dx))\n",
    "step = np.round(np.arange(time_window[0],time_window[1],dt)/dt).astype(int)\n",
    "ST_cSTA_c = ST_cSTA - np.mean(ST_cSTA)\n",
    "for i in range(nstep):\n",
    "    for ii in np.arange(max(-step[i],0), y.shape[0]-1+min(-step[i], 0)):\n",
    "        test2[i,:] += np.correlate(y[ii,:],ST_cSTA_c[step[i]+ii, :], 'same')\n",
    "        denominator += np.correlate(y[ii,:],np.ones_like(ST_cSTA[0, :]), 'same')\n",
    "        denominator2 += np.correlate(np.ones_like(y[ii,:]),np.ones_like(ST_cSTA[0, :]), 'same')\n",
    "    test3[i,:] = np.divide(test2[i,:],denominator,  where = denominator!=0)\n",
    "    test4[i,:] = np.divide(test2[i,:],denominator2,  where = denominator2!=0)\n",
    "#         test2[i,:] += y[ii,int(xlen/dx/2)]*ST_cSTA[step[i]+ii, :]*dt*dx\n",
    "toc.time()-tic"
   ]
  },
  {
   "cell_type": "code",
   "execution_count": null,
   "metadata": {},
   "outputs": [],
   "source": [
    "output = y[:,int(xlen/dx/2)]\n",
    "time, xSTA = STA(output, ST_cSTA[:,0], dt, [-0.4,0.1])\n",
    "test = xSTA[:, np.newaxis]\n",
    "for j in range(1, int(xlen/dx)):\n",
    "    _, xSTA = STA(output, ST_cSTA[:,j], dt, [-0.4,0.1])\n",
    "    test = np.concatenate((test, xSTA[:, np.newaxis]), axis=1)"
   ]
  },
  {
   "cell_type": "code",
   "execution_count": null,
   "metadata": {},
   "outputs": [],
   "source": [
    "test1 = test-(np.mean(ST_cSTA, axis = 0)[np.newaxis,:])\n",
    "fig, (ax2, ax3, ax4) = plt.subplots(nrows=3, ncols=1)\n",
    "ax2.imshow(test[:,750:1250])\n",
    "ax2.set_ylabel('time after spike')\n",
    "# ax2.set_yticks(np.arange(5,50,10))\n",
    "# ax.set_yticklabels(['-0.2','-0.1','0','1','2'])\n",
    "# ax.set_xticks(np.arange(300,701,100))\n",
    "# ax.set_xticklabels(['-200','-100','0','100','200'])\n",
    "# ax.set_xlabel('distance from the cell')\n",
    "# ax.set_xlim([300, 701])\n",
    "ax3.imshow(test1[:,650:1350])\n",
    "ax3.set_ylabel('time after spike')\n",
    "ax4.imshow((test3)[:,650:1350])\n",
    "ax4.set_ylabel('time after spike')\n",
    "fig.set_size_inches(20, 10)"
   ]
  },
  {
   "cell_type": "code",
   "execution_count": null,
   "metadata": {},
   "outputs": [],
   "source": [
    "# plt.imshow((test2-(np.mean(test2, axis = 0)[np.newaxis,:]))[:,650:1350])\n",
    "denominator = (np.append(np.arange(int(xlen/dx/2),int(xlen/dx)), np.arange(int(xlen/dx)-1,int(xlen/dx/2)-1,-1)))\n",
    "plt.imshow((test2)[:,650:1350])\n",
    "fig = plt.gcf()\n",
    "fig.set_size_inches(20, 5)"
   ]
  },
  {
   "cell_type": "code",
   "execution_count": null,
   "metadata": {},
   "outputs": [],
   "source": [
    "index = 39\n",
    "plt.plot(np.squeeze(test2[index,:])/np.max(test2))\n",
    "plt.plot(np.squeeze(test3[index,:])/np.max(test3[index,:]))\n",
    "plt.plot(np.squeeze(test4[index,:])/np.max(test4))\n",
    "step[index], np.argmax(test2), np.argmax(test3)"
   ]
  },
  {
   "cell_type": "markdown",
   "metadata": {},
   "source": [
    "choose center cell and a certain time before spike"
   ]
  },
  {
   "cell_type": "code",
   "execution_count": null,
   "metadata": {},
   "outputs": [],
   "source": [
    "tbs_i = 30\n",
    "xx = np.arange(-dx*150,dx*150,dx)\n",
    "KKK = K(xx, dx*10)\n",
    "plt.plot(np.convolve((test1[tbs_i, :]+np.flip(test1[tbs_i, :]))/2,KKK,'valid')*dx)\n",
    "plt.grid()\n",
    "fig = plt.gcf()\n",
    "fig.set_size_inches(15, 5)"
   ]
  },
  {
   "cell_type": "code",
   "execution_count": null,
   "metadata": {},
   "outputs": [],
   "source": [
    "ST_kernel = []\n",
    "for i in np.arange(0,np.argmin(np.abs(time))):\n",
    "    ST_kernel.append(np.convolve((test1[i, :]+np.flip(test1[i, :]))/2,KKK,'valid')*dx)\n",
    "ST_kernel = np.flipud(np.array(ST_kernel))"
   ]
  },
  {
   "cell_type": "code",
   "execution_count": null,
   "metadata": {},
   "outputs": [],
   "source": [
    "plt.imshow(ST_kernel[:,int(ST_kernel.shape[1]*0.35):int(ST_kernel.shape[1]*0.65)])\n",
    "# plt.imshow(ST_kernel)\n",
    "fig = plt.gcf()\n",
    "fig.set_size_inches(20, 5)"
   ]
  },
  {
   "cell_type": "markdown",
   "metadata": {},
   "source": [
    "## Simply apply spatial-temporal kernel on moving bar"
   ]
  },
  {
   "cell_type": "code",
   "execution_count": null,
   "metadata": {},
   "outputs": [],
   "source": [
    "tic = toc.time()\n",
    "nstep = 1600\n",
    "mb_y = np.zeros([nstep, int(xlen/dx)])\n",
    "for i in range(nstep):\n",
    "    for ii in np.arange(max(i-np.shape(ST_kernel)[0]+1, 0), i+1):\n",
    "        mb_y[i,:] += np.convolve(moving_bar[ii,:],ST_kernel[i-ii, :], 'same')\n",
    "toc.time()-tic"
   ]
  },
  {
   "cell_type": "code",
   "execution_count": null,
   "metadata": {},
   "outputs": [],
   "source": [
    "#1d scipy.signal.convolve much slower than numpy.convolve (https://github.com/scipy/scipy/issues/5280)\n",
    "# STK = np.concatenate((np.zeros_like(ST_kernel),ST_kernel), axis = 0)\n",
    "# np.shape(STK)\n",
    "# tic = toc.time()\n",
    "# nstep = 1600\n",
    "# con2d_y = signal.convolve2d(moving_bar.T, STK.T,  mode='same')\n",
    "# print(toc.time()-tic)\n",
    "# plt.imshow(con2d_y.T)"
   ]
  },
  {
   "cell_type": "code",
   "execution_count": null,
   "metadata": {},
   "outputs": [],
   "source": [
    "fig, (ax2, ax3, ax4) = plt.subplots(nrows=1, ncols=3) \n",
    "ax2.imshow(moving_bar)\n",
    "ax2.set_title('moving_bar')\n",
    "ax3.imshow(SbS_y)\n",
    "ax3.set_title('step by step output')\n",
    "ax4.imshow(mb_y)\n",
    "ax4.set_title('Spatial-Temporal-Fliter output')\n",
    "fig.set_size_inches(15, 5)"
   ]
  },
  {
   "cell_type": "code",
   "execution_count": null,
   "metadata": {},
   "outputs": [],
   "source": [
    "plt.plot(moving_bar[1000,:])\n",
    "plt.plot(SbS_y[1000,:]/max(SbS_y[1000,:]))\n",
    "plt.plot(mb_y[1000,:]/max(mb_y[1000,:]))\n",
    "# plt.plot(con2d_y[1000,:]/max(con2d_y[1000,:]))\n",
    "plt.grid()\n",
    "fig = plt.gcf()\n",
    "plt.legend( ('bar pos', 'SbS_y', 'STF_y'), loc='best', prop={'size': 'large', 'family': 'monospace'})\n",
    "plt.xlim([750,1500])\n",
    "fig.set_size_inches(15, 5)"
   ]
  },
  {
   "cell_type": "markdown",
   "metadata": {},
   "source": [
    "## Apply SVD on Spatial-Temporal Kernel"
   ]
  },
  {
   "cell_type": "code",
   "execution_count": null,
   "metadata": {},
   "outputs": [],
   "source": [
    "from numpy import linalg as la\n",
    "U,sigma,VT=la.svd(ST_kernel)"
   ]
  },
  {
   "cell_type": "code",
   "execution_count": null,
   "metadata": {},
   "outputs": [],
   "source": [
    "sigma/sum(sigma)"
   ]
  },
  {
   "cell_type": "code",
   "execution_count": null,
   "metadata": {},
   "outputs": [],
   "source": [
    "fig, ((ax2, ax3), (ax4, ax5)) = plt.subplots(nrows=2, ncols=2)\n",
    "ax2.plot(U[:,0])\n",
    "ax2.set_title('SVD1 Temporal Kernel')\n",
    "ax3.plot(VT[0,:])\n",
    "ax3.set_title('SVD1 Spatial Kernel')\n",
    "ax4.plot(U[:,1])\n",
    "ax4.set_title('SVD2 Temporal Kernel')\n",
    "ax5.plot(VT[1,:])\n",
    "ax5.set_title('SVD2 Spatial Kernel')\n",
    "fig.set_size_inches(15, 10)"
   ]
  },
  {
   "cell_type": "code",
   "execution_count": null,
   "metadata": {},
   "outputs": [],
   "source": [
    "cSVD = 1\n",
    "SVD_STkernel = np.matmul(U[:,cSVD][:, np.newaxis], VT[cSVD,:][np.newaxis, :])\n",
    "plt.imshow(SVD_STkernel[:,int(ST_kernel.shape[1]*0.3):int(ST_kernel.shape[1]*0.7)])\n",
    "plt.title('SVD'+str(cSVD+1)+'-reconstructed STKernel')\n",
    "fig = plt.gcf()\n",
    "fig.set_size_inches(20, 5)"
   ]
  },
  {
   "cell_type": "code",
   "execution_count": null,
   "metadata": {},
   "outputs": [],
   "source": [
    "nstep = 1600\n",
    "SVD_STK_y = np.zeros([nstep, int(xlen/dx)])\n",
    "for i in range(nstep):\n",
    "    for ii in range(i):\n",
    "        if (i-ii) < np.shape(ST_kernel)[0]:\n",
    "            SVD_STK_y[i,:] += np.convolve(moving_bar[ii,:],SVD_STkernel[i-ii, :], 'same')"
   ]
  },
  {
   "cell_type": "code",
   "execution_count": null,
   "metadata": {},
   "outputs": [],
   "source": [
    "plt.imshow(SVD_STK_y)"
   ]
  },
  {
   "cell_type": "code",
   "execution_count": null,
   "metadata": {},
   "outputs": [],
   "source": [
    "plt.plot(moving_bar[1000,:])\n",
    "plt.plot(SbS_y[1000,:]/max(SbS_y[1000,:]))\n",
    "plt.plot(mb_y[1000,:]/max(mb_y[1000,:]))\n",
    "plt.plot(SVD_STK_y[1000,:]/max(SVD_STK_y[1000,:]))\n",
    "plt.grid()\n",
    "fig = plt.gcf()\n",
    "plt.legend( ('bar pos', 'SbS_y', 'STF_y', 'SVD_STF_y'), loc='best', prop={'size': 'large', 'family': 'monospace'})\n",
    "plt.xlim([750,1500])\n",
    "fig.set_size_inches(15, 5)"
   ]
  },
  {
   "cell_type": "code",
   "execution_count": null,
   "metadata": {},
   "outputs": [],
   "source": [
    "A_y = Ay(para_dict,sigma_dict,x)\n",
    "plt.plot(A_y[149:]/max(A_y))\n",
    "plt.plot(VT[0,:]/min(VT[0,:]))"
   ]
  },
  {
   "cell_type": "code",
   "execution_count": null,
   "metadata": {},
   "outputs": [],
   "source": [
    "A_y = Ay(para_dict,sigma_dict,x)\n",
    "len(VT[0,:] )"
   ]
  },
  {
   "cell_type": "code",
   "execution_count": null,
   "metadata": {},
   "outputs": [],
   "source": [
    "np.argmax(A_y[149:])"
   ]
  },
  {
   "cell_type": "code",
   "execution_count": null,
   "metadata": {},
   "outputs": [],
   "source": [
    "A_y[999], A_y[1000], A_y[1001]"
   ]
  },
  {
   "cell_type": "code",
   "execution_count": null,
   "metadata": {},
   "outputs": [],
   "source": []
  },
  {
   "cell_type": "code",
   "execution_count": null,
   "metadata": {},
   "outputs": [],
   "source": [
    "nstep = 1600\n",
    "moving_bar2 = np.zeros([nstep, int(xlen/dx)])\n",
    "v = 0.8#dx/step\n",
    "hw = 30 #dx\n",
    "pos = 1800\n",
    "speak = np.zeros(nstep)\n",
    "for i in range(nstep):\n",
    "    pos = pos-v\n",
    "    moving_bar2[i,max(int(pos-hw), 0):min(int(pos+hw), int(xlen/dx))] = 1\n",
    "#     speak[i] = pos*dt"
   ]
  },
  {
   "cell_type": "code",
   "execution_count": null,
   "metadata": {},
   "outputs": [],
   "source": [
    "SbS_y2, zts, rpeak = Retina_Mechine_1D(moving_bar2, sigma_dict, para_dict, dx, dt)"
   ]
  },
  {
   "cell_type": "code",
   "execution_count": null,
   "metadata": {},
   "outputs": [],
   "source": [
    "fig, (ax2, ax3) = plt.subplots(nrows=1, ncols=2) \n",
    "ax2.imshow(moving_bar2)\n",
    "ax2.set_title('moving_bar2')\n",
    "ax3.imshow(SbS_y2)\n",
    "ax3.set_title('step by step output2')\n",
    "fig.set_size_inches(15, 5)"
   ]
  },
  {
   "cell_type": "code",
   "execution_count": null,
   "metadata": {},
   "outputs": [],
   "source": [
    "SbS_y3, zts, rpeak = Retina_Mechine_1D(moving_bar2+moving_bar, sigma_dict, para_dict, dx, dt)"
   ]
  },
  {
   "cell_type": "code",
   "execution_count": null,
   "metadata": {},
   "outputs": [],
   "source": [
    "fig, (ax2, ax3, ax4) = plt.subplots(nrows=1, ncols=3) \n",
    "ax2.imshow(moving_bar2+moving_bar)\n",
    "ax2.set_title('moving_bar1+2')\n",
    "ax3.imshow(SbS_y3)\n",
    "ax3.set_title('step by step output3')\n",
    "ax4.imshow(SbS_y+SbS_y2)\n",
    "ax4.set_title('step by step output1+2')\n",
    "fig.set_size_inches(15, 5)"
   ]
  },
  {
   "cell_type": "code",
   "execution_count": null,
   "metadata": {},
   "outputs": [],
   "source": [
    "plt.plot((moving_bar2+moving_bar)[1500,:])\n",
    "plt.plot(SbS_y3[1500,:]/max(SbS_y3[1500,:]))\n",
    "plt.plot((SbS_y+SbS_y2)[1500,:]/max((SbS_y+SbS_y2)[1500,:]))\n",
    "plt.grid()\n",
    "fig = plt.gcf()\n",
    "# plt.legend( ('bar pos', 'SbS_y', 'STF_y', 'SVD_STF_y'), loc='best', prop={'size': 'large', 'family': 'monospace'})\n",
    "# plt.xlim([750,1500])\n",
    "fig.set_size_inches(15, 5)"
   ]
  },
  {
   "cell_type": "code",
   "execution_count": null,
   "metadata": {},
   "outputs": [],
   "source": [
    "SbS_y3 == SbS_y+SbS_y2"
   ]
  },
  {
   "cell_type": "code",
   "execution_count": null,
   "metadata": {},
   "outputs": [],
   "source": [
    "tic = toc.time()\n",
    "nstep = 1600\n",
    "mb_y2 = np.zeros([nstep, int(xlen/dx)])\n",
    "for i in range(nstep):\n",
    "    for ii in np.arange(max(i-np.shape(ST_kernel)[0]+1, 0), i+1):\n",
    "        mb_y2[i,:] += np.convolve(moving_bar2[ii,:],ST_kernel[i-ii, :], 'same')\n",
    "toc.time()-tic"
   ]
  },
  {
   "cell_type": "code",
   "execution_count": null,
   "metadata": {},
   "outputs": [],
   "source": [
    "tic = toc.time()\n",
    "nstep = 1600\n",
    "mb_y3 = np.zeros([nstep, int(xlen/dx)])\n",
    "for i in range(nstep):\n",
    "    for ii in np.arange(max(i-np.shape(ST_kernel)[0]+1, 0), i+1):\n",
    "        mb_y3[i,:] += np.convolve(moving_bar2[ii,:]+moving_bar[ii,:],ST_kernel[i-ii, :], 'same')\n",
    "toc.time()-tic"
   ]
  },
  {
   "cell_type": "code",
   "execution_count": null,
   "metadata": {},
   "outputs": [],
   "source": [
    "fig, (ax2, ax3, ax4) = plt.subplots(nrows=1, ncols=3) \n",
    "ax2.imshow(moving_bar2+moving_bar)\n",
    "ax2.set_title('moving_bar1+2')\n",
    "ax3.imshow(mb_y3)\n",
    "ax3.set_title('step by step output3')\n",
    "ax4.imshow(mb_y+mb_y2)\n",
    "ax4.set_title('step by step output1+2')\n",
    "fig.set_size_inches(15, 5)"
   ]
  },
  {
   "cell_type": "code",
   "execution_count": null,
   "metadata": {},
   "outputs": [],
   "source": [
    "(mb_y3 == mb_y+mb_y2).all()"
   ]
  },
  {
   "cell_type": "code",
   "execution_count": null,
   "metadata": {},
   "outputs": [],
   "source": []
  }
 ],
 "metadata": {
  "kernelspec": {
   "display_name": "Python 3",
   "language": "python",
   "name": "python3"
  },
  "language_info": {
   "codemirror_mode": {
    "name": "ipython",
    "version": 3
   },
   "file_extension": ".py",
   "mimetype": "text/x-python",
   "name": "python",
   "nbconvert_exporter": "python",
   "pygments_lexer": "ipython3",
   "version": "3.7.6"
  }
 },
 "nbformat": 4,
 "nbformat_minor": 2
}
