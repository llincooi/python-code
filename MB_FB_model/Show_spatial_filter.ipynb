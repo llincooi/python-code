{
 "cells": [
  {
   "cell_type": "code",
   "execution_count": 1,
   "metadata": {},
   "outputs": [],
   "source": [
    "import numpy as np\n",
    "import matplotlib.pyplot as plt\n",
    "from mpl_toolkits import mplot3d\n",
    "import math\n",
    "from scipy import signal\n",
    "from scipy.fftpack import fft\n",
    "from scipy import ndimage\n",
    "from scipy import special\n",
    "import math\n",
    "%matplotlib inline"
   ]
  },
  {
   "cell_type": "code",
   "execution_count": 2,
   "metadata": {},
   "outputs": [],
   "source": [
    "def K(x,s):\n",
    "    return(np.exp(-(x/s)**2))/s/np.sqrt(np.pi)"
   ]
  },
  {
   "cell_type": "code",
   "execution_count": 3,
   "metadata": {},
   "outputs": [],
   "source": [
    "def STA(r, x, dt, window):\n",
    "    negshift=round(window[0]/dt) # second\n",
    "    posshift=round(window[1]/dt) # second\n",
    "    xSTS = np.zeros(posshift-negshift)\n",
    "    for i in np.arange(-negshift, len(r)-posshift):\n",
    "        xSTS = xSTS + x[i+negshift:i+posshift]*r[i]\n",
    "        \n",
    "    xSTA = xSTS/sum(r[-negshift:len(r)-posshift])\n",
    "    time = np.arange(negshift*dt, posshift*dt, dt)\n",
    "    return time, xSTA"
   ]
  },
  {
   "cell_type": "code",
   "execution_count": 4,
   "metadata": {},
   "outputs": [],
   "source": [
    "def Ay(k,g,alpha,beta,sigma_c, sigma_h,x,n = 1000):\n",
    "    ans =  0\n",
    "    for i in range(n+1):\n",
    "        ans += k/alpha/np.sqrt(np.pi)*(-k*g/alpha/beta)**i/np.sqrt(sigma_c**2+i*sigma_h**2)*np.exp(-x**2/(sigma_c**2+i*sigma_h**2))\n",
    "    return ans"
   ]
  },
  {
   "cell_type": "code",
   "execution_count": 5,
   "metadata": {},
   "outputs": [],
   "source": [
    "sigma_h = 1# RF size of horizontal cell\n",
    "sigma_c = sigma_h*1/3# RF size of cone cell\n",
    "gamma = 1/(sigma_c**2)\n",
    "klen = 2*sigma_h# half of width of horizontal kernal\n",
    "dx = 0.01*sigma_h\n",
    "##Create spatial kernal\n",
    "klen = sigma_h*3\n",
    "xx = np.arange(-klen,klen,dx)\n",
    "\n",
    "KC = K(xx,sigma_c)\n",
    "KH = K(xx,sigma_h)"
   ]
  },
  {
   "cell_type": "code",
   "execution_count": 6,
   "metadata": {},
   "outputs": [],
   "source": [
    "#Width setting\n",
    "xlen = 10*sigma_h #spatial extend of simulation\n",
    "hw = 0.75*sigma_h#half bar width\n",
    "tempx = np.arange(0,xlen,dx)"
   ]
  },
  {
   "cell_type": "code",
   "execution_count": 7,
   "metadata": {},
   "outputs": [
    {
     "data": {
      "text/plain": [
       "0.8000000000000002"
      ]
     },
     "execution_count": 7,
     "metadata": {},
     "output_type": "execute_result"
    }
   ],
   "source": [
    "dt = 0.01\n",
    "alpha = 1/0.024\n",
    "beta = 1./1.\n",
    "k = alpha\n",
    "phi = 1.\n",
    "g = beta*0.8\n",
    "\n",
    "g*k*phi/alpha/beta"
   ]
  },
  {
   "cell_type": "code",
   "execution_count": 8,
   "metadata": {},
   "outputs": [
    {
     "data": {
      "text/plain": [
       "[<matplotlib.lines.Line2D at 0x2705aa2c408>]"
      ]
     },
     "execution_count": 8,
     "metadata": {},
     "output_type": "execute_result"
    },
    {
     "data": {
      "image/png": "[encoded data removed]",
      "text/plain": [
       "<Figure size 432x288 with 1 Axes>"
      ]
     },
     "metadata": {
      "needs_background": "light"
     },
     "output_type": "display_data"
    }
   ],
   "source": [
    "x = np.arange(-int(xlen/dx/2),int(xlen/dx/2))*dx\n",
    "plt.plot(Ay(k,g,alpha,beta,sigma_c, sigma_h,x))"
   ]
  },
  {
   "cell_type": "markdown",
   "metadata": {},
   "source": [
    "Whole Field STA"
   ]
  },
  {
   "cell_type": "code",
   "execution_count": 9,
   "metadata": {},
   "outputs": [],
   "source": [
    "nstep = 5000\n",
    "\n",
    "y = np.zeros(int(xlen/dx)) # cone cell output\n",
    "z = np.zeros(int(xlen/dx)) # horizontal cell output\n",
    "ry = np.convolve(y,KH,'same')# feedback from horizontal cell (y convoluted with horitonatl cell receptive field KH)\n",
    "rz = np.convolve(z,KH,'same')# feedback from horizontal cell (z convoluted with horitonatl cell receptive field KH)\n",
    "\n",
    "\n",
    "\n",
    "stm = np.zeros([int(xlen/dx),nstep])#input\n",
    "rsp = np.zeros([int(xlen/dx),nstep])#y output\n",
    "zts = np.zeros([int(xlen/dx),nstep])#horizontal\n",
    "\n",
    "for i in range(nstep):\n",
    "    s = np.ones(int(xlen/dx))*np.random.randn()*0.3+1\n",
    "    rs = np.convolve(s,KC,'same')*dx\n",
    "    \n",
    "    dyj =(-alpha*y+k*(rs-phi*rz))*dt\n",
    "    dzj =(-beta*z+g*y)*dt\n",
    "    y = (y+dyj)\n",
    "    z = (z+dzj)\n",
    "\n",
    "    ry = np.convolve(y,KH,'same')# feedback from horizontal cell (y convoluted with horitonatl cell receptive field KH)\n",
    "    rz = np.convolve(z,KH,'same')# feedback from horizontal cell (z convoluted with horitonatl cell receptive field KH)\n",
    "\n",
    "    stm[:,i] = s\n",
    "    rsp[:,i] = y\n",
    "    zts[:,i] = z\n",
    "    "
   ]
  },
  {
   "cell_type": "code",
   "execution_count": 10,
   "metadata": {},
   "outputs": [
    {
     "data": {
      "text/plain": [
       "[<matplotlib.lines.Line2D at 0x2705aae1848>]"
      ]
     },
     "execution_count": 10,
     "metadata": {},
     "output_type": "execute_result"
    },
    {
     "data": {
      "image/png": "[encoded data removed]",
      "text/plain": [
       "<Figure size 432x288 with 1 Axes>"
      ]
     },
     "metadata": {
      "needs_background": "light"
     },
     "output_type": "display_data"
    }
   ],
   "source": [
    "#####PLot numerical solution########\n",
    "plt.plot(tempx,y,'b')#numerical solution\n",
    "plt.plot(tempx,-z,'r')#numerical solution"
   ]
  },
  {
   "cell_type": "markdown",
   "metadata": {},
   "source": [
    "choose center cell and a certain time before spike"
   ]
  },
  {
   "cell_type": "code",
   "execution_count": 11,
   "metadata": {},
   "outputs": [],
   "source": [
    "output = rsp[int(xlen/dx/2),:]\n",
    "time, xSTA = STA(output, stm[0,:], dt, [-0.25,0.25])\n",
    "test = xSTA[:, np.newaxis]\n",
    "for j in range(1, int(xlen/dx)):\n",
    "    _, xSTA = STA(output, stm[j,:], dt, [-0.25,0.25])\n",
    "    test = np.concatenate((test, xSTA[:, np.newaxis]), axis=1)"
   ]
  },
  {
   "cell_type": "code",
   "execution_count": 12,
   "metadata": {},
   "outputs": [
    {
     "data": {
      "image/png": "[encoded data removed]",
      "text/plain": [
       "<Figure size 1080x360 with 1 Axes>"
      ]
     },
     "metadata": {
      "needs_background": "light"
     },
     "output_type": "display_data"
    }
   ],
   "source": [
    "plt.imshow(test)\n",
    "fig = plt.gcf()\n",
    "fig.set_size_inches(15, 5)"
   ]
  },
  {
   "cell_type": "code",
   "execution_count": 13,
   "metadata": {
    "scrolled": true
   },
   "outputs": [
    {
     "data": {
      "image/png": "[encoded data removed]",
      "text/plain": [
       "<Figure size 432x288 with 1 Axes>"
      ]
     },
     "metadata": {
      "needs_background": "light"
     },
     "output_type": "display_data"
    }
   ],
   "source": [
    "plt.plot(time, test[:, int(xlen/dx/2)])\n",
    "plt.grid()"
   ]
  },
  {
   "cell_type": "markdown",
   "metadata": {},
   "source": [
    "Checker spatial-temprol noise"
   ]
  },
  {
   "cell_type": "code",
   "execution_count": 14,
   "metadata": {},
   "outputs": [],
   "source": [
    "nstep = 500000\n",
    "v = 1.5*sigma_h\n",
    "# pos_0 = 3*sigma_h#The center of the bar also where the bar start\n",
    "\n",
    "\n",
    "y = np.zeros(int(xlen/dx)) # cone cell output\n",
    "z = np.zeros(int(xlen/dx)) # horizontal cell output\n",
    "ry = np.convolve(y,KH,'same')# feedback from horizontal cell (y convoluted with horitonatl cell receptive field KH)\n",
    "rz = np.convolve(z,KH,'same')# feedback from horizontal cell (z convoluted with horitonatl cell receptive field KH)\n",
    "\n",
    "\n",
    "\n",
    "rpeak = np.zeros(nstep)#Cone cell peak\n",
    "gpeak = np.zeros(nstep)#Ganglion cell peak\n",
    "\n",
    "stm = np.zeros([int(xlen/dx),nstep])#input\n",
    "rsp = np.zeros([int(xlen/dx),nstep])#y output\n",
    "zts = np.zeros([int(xlen/dx),nstep])#horizontal\n",
    "\n",
    "for i in range(nstep):\n",
    "    s = np.random.randn(int(xlen/dx))*0.3+1\n",
    "#     s = np.random.randint(2, size=int(xlen/dx))*0.3+1\n",
    "    rs = np.convolve(s,KC,'same')*dx\n",
    "    \n",
    "    dyj =(-alpha*y+k*(rs-phi*rz))*dt\n",
    "    dzj =(-beta*z+g*y)*dt\n",
    "    y = (y+dyj)\n",
    "    z = (z+dzj)\n",
    "\n",
    "    ry = np.convolve(y,KH,'same')# feedback from horizontal cell (y convoluted with horitonatl cell receptive field KH)\n",
    "    rz = np.convolve(z,KH,'same')# feedback from horizontal cell (z convoluted with horitonatl cell receptive field KH)\n",
    "    \n",
    "    maxpos = np.argmax(y)\n",
    "    rpeak[i]= maxpos*dx\n",
    "    stm[:,i] = s\n",
    "    rsp[:,i] = y\n",
    "    zts[:,i] = z\n",
    "    "
   ]
  },
  {
   "cell_type": "code",
   "execution_count": 15,
   "metadata": {},
   "outputs": [
    {
     "data": {
      "text/plain": [
       "[<matplotlib.lines.Line2D at 0x27061e94088>]"
      ]
     },
     "execution_count": 15,
     "metadata": {},
     "output_type": "execute_result"
    },
    {
     "data": {
      "image/png": "[encoded data removed]",
      "text/plain": [
       "<Figure size 432x288 with 1 Axes>"
      ]
     },
     "metadata": {
      "needs_background": "light"
     },
     "output_type": "display_data"
    }
   ],
   "source": [
    "#####PLot numerical solution########\n",
    "plt.plot(tempx,y,'b')#numerical solution\n",
    "plt.plot(tempx,-z,'r')#numerical solution"
   ]
  },
  {
   "cell_type": "markdown",
   "metadata": {},
   "source": [
    "choose center cell and a certain time before spike"
   ]
  },
  {
   "cell_type": "code",
   "execution_count": null,
   "metadata": {},
   "outputs": [],
   "source": [
    "output = rsp[int(xlen/dx/2),:]\n",
    "time, xSTA = STA(output, stm[0,:], dt, [-0.25,0.25])\n",
    "test = xSTA[:, np.newaxis]\n",
    "for j in range(1, int(xlen/dx)):\n",
    "    _, xSTA = STA(output, stm[j,:], dt, [-0.25,0.25])\n",
    "    test = np.concatenate((test, xSTA[:, np.newaxis]), axis=1)"
   ]
  },
  {
   "cell_type": "code",
   "execution_count": null,
   "metadata": {},
   "outputs": [],
   "source": [
    "plt.imshow(test[:, 300:700])\n",
    "fig = plt.gcf()\n",
    "fig.set_size_inches(20, 5)"
   ]
  },
  {
   "cell_type": "code",
   "execution_count": null,
   "metadata": {},
   "outputs": [],
   "source": [
    "plt.plot(test[23, :])\n",
    "plt.grid()\n",
    "fig = plt.gcf()\n",
    "fig.set_size_inches(15, 5)"
   ]
  },
  {
   "cell_type": "code",
   "execution_count": null,
   "metadata": {},
   "outputs": [],
   "source": []
  }
 ],
 "metadata": {
  "kernelspec": {
   "display_name": "Python 3",
   "language": "python",
   "name": "python3"
  },
  "language_info": {
   "codemirror_mode": {
    "name": "ipython",
    "version": 3
   },
   "file_extension": ".py",
   "mimetype": "text/x-python",
   "name": "python",
   "nbconvert_exporter": "python",
   "pygments_lexer": "ipython3",
   "version": "3.7.6"
  }
 },
 "nbformat": 4,
 "nbformat_minor": 2
}
