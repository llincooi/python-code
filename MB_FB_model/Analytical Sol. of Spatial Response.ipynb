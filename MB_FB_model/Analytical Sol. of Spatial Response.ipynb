{
 "cells": [
  {
   "cell_type": "markdown",
   "metadata": {},
   "source": [
    "This code is originally to prove the analytical solution of model responce to a non-moving bar.\n",
    "But you can use this code to tune for suitable parameters."
   ]
  },
  {
   "cell_type": "code",
   "execution_count": 1,
   "metadata": {},
   "outputs": [],
   "source": [
    "import numpy as np\n",
    "import matplotlib.pyplot as plt\n",
    "from mpl_toolkits import mplot3d\n",
    "import math\n",
    "from scipy import signal\n",
    "from scipy.fftpack import fft\n",
    "from scipy import ndimage\n",
    "%matplotlib inline"
   ]
  },
  {
   "cell_type": "code",
   "execution_count": 2,
   "metadata": {},
   "outputs": [],
   "source": [
    "def Ay(k,g,alpha,beta,sigma_c, sigma_h,x,n = 1000):\n",
    "    ans =  0\n",
    "    for i in range(n+1):\n",
    "        ans += k/alpha/np.sqrt(np.pi)*(-k*g/alpha/beta)**i/np.sqrt(sigma_c**2+i*sigma_h**2)*np.exp(-x**2/(sigma_c**2+i*sigma_h**2))\n",
    "    return ans"
   ]
  },
  {
   "cell_type": "code",
   "execution_count": 3,
   "metadata": {},
   "outputs": [],
   "source": [
    "def K(x,s):\n",
    "    return (np.exp(-(x/s)**2))/(s*np.sqrt(np.pi))"
   ]
  },
  {
   "cell_type": "code",
   "execution_count": 4,
   "metadata": {},
   "outputs": [],
   "source": [
    "# Guassian function with mean x0 and standard deviation sigma\n",
    "def G(x,x0,sigma):\n",
    "    y = np.exp(-((x-x0)/sigma)**2)\n",
    "    return(y)"
   ]
  },
  {
   "cell_type": "code",
   "execution_count": 5,
   "metadata": {},
   "outputs": [
    {
     "data": {
      "text/plain": [
       "99.0"
      ]
     },
     "execution_count": 5,
     "metadata": {},
     "output_type": "execute_result"
    }
   ],
   "source": [
    "sigma_h = 1.1 # all 'dimention-L' parameters are narmalize by sigma_h\n",
    "sigma_c = 0.1*sigma_h\n",
    "sigma_g = 5.*sigma_c\n",
    "\n",
    "dx = 0.01*sigma_h\n",
    "xlen = 1000 #spatial 'step' of simulation\n",
    "xaxis = np.arange(0, xlen)*dx\n",
    "\n",
    "dis_h = sigma_h\n",
    "dis_c = sigma_c\n",
    "h_loc = np.zeros(xlen)\n",
    "locx = np.arange(dis_h, xlen*dx-dx, dis_h)/dx\n",
    "h_loc[np.round(locx).astype(int)] = 1\n",
    "c_loc = np.zeros(xlen)\n",
    "locx = np.arange(dis_c, xlen*dx-dx, dis_c)/dx\n",
    "c_loc[np.round(locx).astype(int)] = 1\n",
    "\n",
    "sum(c_loc)"
   ]
  },
  {
   "cell_type": "code",
   "execution_count": 6,
   "metadata": {},
   "outputs": [],
   "source": [
    "klen = sigma_h*3\n",
    "xx = np.arange(-klen,klen,dx)\n",
    "\n",
    "KC = K(xx,sigma_c)\n",
    "KH = K(xx,sigma_h)\n",
    "KG = K(xx,sigma_g)"
   ]
  },
  {
   "cell_type": "code",
   "execution_count": 7,
   "metadata": {},
   "outputs": [],
   "source": [
    "s = np.zeros(xlen)\n",
    "i0 = xlen/2\n",
    "hw = (sigma_h/4)\n",
    "s[round(i0-hw/dx):round(i0+hw/dx)] = 50"
   ]
  },
  {
   "cell_type": "code",
   "execution_count": 38,
   "metadata": {},
   "outputs": [
    {
     "data": {
      "text/plain": [
       "1.00000005"
      ]
     },
     "execution_count": 38,
     "metadata": {},
     "output_type": "execute_result"
    }
   ],
   "source": [
    "alpha = 80\n",
    "beta = 10\n",
    "\n",
    "k = 400\n",
    "g = 2.0000001\n",
    "\n",
    "k*g/alpha/beta"
   ]
  },
  {
   "cell_type": "code",
   "execution_count": 41,
   "metadata": {},
   "outputs": [],
   "source": [
    "dt = 0.01\n",
    "\n",
    "\n",
    "\n",
    "nstep = 100\n",
    "v = 10 # moving bar velocity\n",
    "#v = 0\n",
    "\n",
    "y = np.zeros(xlen) # cone cell output\n",
    "z = np.zeros(xlen) # horizontal cell output\n",
    "rz = np.zeros(xlen) \n",
    "ry = np.convolve(y,KH,'same')*dx # feedback from horizontal cell (y convoluted with horitonatl cell receptive field KH)\n",
    "output = np.zeros(xlen) \n",
    "\n",
    "speak = np.zeros(nstep)\n",
    "rpeak = np.zeros(nstep)\n",
    "\n",
    "stm = []\n",
    "rsp = []\n",
    "zts = []\n",
    "tmp = []\n",
    "\n",
    "\n",
    "for i in range(nstep):\n",
    "    rs =  np.convolve(s,KC,'same')*dx\n",
    "\n",
    "    for j in range(xlen):\n",
    "#         if c_loc[j]:\n",
    "#             dyj =(-alpha*y[j]+k*(rs[j]-rz[j]))*dt\n",
    "#             y[j] = y[j]+dyj\n",
    "#         if h_loc[j]:\n",
    "#             dzj =(-beta*z[j]+g*y[j])*dt\n",
    "#             z[j] = z[j]+dzj\n",
    "            \n",
    "            \n",
    "        dyj =(-alpha*y[j]+k*(rs[j]-rz[j]))*dt\n",
    "        dzj =(-beta*z[j]+g*ry[j])*dt\n",
    "        y[j] = y[j]+dyj\n",
    "        z[j] = z[j]+dzj\n",
    "        \n",
    "    rz = np.convolve(z,KH,'same')*dx # feedback from horizontal cell (y convoluted with horitonatl cell receptive field KH)\n",
    "    ry = np.convolve(y,KH,'same')*dx # feedback from horizontal cell (y convoluted with horitonatl cell receptive field KH)\n",
    "    output = np.convolve(y,KC,'same')*dx # feedback from horizontal cell (y convoluted with horitonatl cell receptive field KH)\n",
    "    output = y"
   ]
  },
  {
   "cell_type": "code",
   "execution_count": 42,
   "metadata": {},
   "outputs": [
    {
     "data": {
      "text/plain": [
       "[<matplotlib.lines.Line2D at 0x1fdd292cb08>]"
      ]
     },
     "execution_count": 42,
     "metadata": {},
     "output_type": "execute_result"
    },
    {
     "data": {
      "image/png": "[encoded data removed]",
      "text/plain": [
       "<Figure size 432x288 with 1 Axes>"
      ]
     },
     "metadata": {
      "needs_background": "light"
     },
     "output_type": "display_data"
    }
   ],
   "source": [
    "plt.plot(output)\n",
    "x = np.arange(-xlen/2,xlen/2)*dx\n",
    "plt.plot(np.convolve(s,Ay(k,g,alpha,beta,sigma_c, sigma_h,x),'same')*dx)"
   ]
  },
  {
   "cell_type": "code",
   "execution_count": 33,
   "metadata": {},
   "outputs": [
    {
     "data": {
      "text/plain": [
       "[<matplotlib.lines.Line2D at 0x1fdd27d6788>]"
      ]
     },
     "execution_count": 33,
     "metadata": {},
     "output_type": "execute_result"
    },
    {
     "data": {
      "image/png": "[encoded data removed]",
      "text/plain": [
       "<Figure size 432x288 with 1 Axes>"
      ]
     },
     "metadata": {
      "needs_background": "light"
     },
     "output_type": "display_data"
    }
   ],
   "source": [
    "plt.plot(c_loc)"
   ]
  },
  {
   "cell_type": "markdown",
   "metadata": {},
   "source": [
    "# Result\n",
    "k/alpha will affect peak height. And (k\\*g/alpha/beta) will affect the converging rate, i.e. greater (k*g/alpha/beta) will lead to biphasic outcome."
   ]
  },
  {
   "cell_type": "code",
   "execution_count": null,
   "metadata": {},
   "outputs": [],
   "source": []
  },
  {
   "cell_type": "code",
   "execution_count": null,
   "metadata": {},
   "outputs": [],
   "source": []
  },
  {
   "cell_type": "code",
   "execution_count": null,
   "metadata": {},
   "outputs": [],
   "source": []
  }
 ],
 "metadata": {
  "kernelspec": {
   "display_name": "Python 3",
   "language": "python",
   "name": "python3"
  },
  "language_info": {
   "codemirror_mode": {
    "name": "ipython",
    "version": 3
   },
   "file_extension": ".py",
   "mimetype": "text/x-python",
   "name": "python",
   "nbconvert_exporter": "python",
   "pygments_lexer": "ipython3",
   "version": "3.7.6"
  }
 },
 "nbformat": 4,
 "nbformat_minor": 4
}
