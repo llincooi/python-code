{
 "cells": [
  {
   "cell_type": "code",
   "execution_count": 17,
   "metadata": {},
   "outputs": [],
   "source": [
    "import numpy as np\n",
    "import matplotlib.pyplot as plt\n",
    "from mpl_toolkits import mplot3d\n",
    "import math\n",
    "from scipy import signal\n",
    "from scipy.fftpack import fft\n",
    "from scipy import ndimage\n",
    "%matplotlib inline\n"
   ]
  },
  {
   "cell_type": "code",
   "execution_count": 18,
   "metadata": {},
   "outputs": [],
   "source": [
    "def K(x,s):\n",
    "    return (np.exp(-(x/s)**2))/(s*np.sqrt(np.pi))"
   ]
  },
  {
   "cell_type": "code",
   "execution_count": 19,
   "metadata": {},
   "outputs": [],
   "source": [
    "def PIfunc(r, x, v, dt, window):\n",
    "    negshift=window[0] # second\n",
    "    posshift=window[1] # second\n",
    "    shiftlen=(posshift-negshift)/dt+1\n",
    "    timeshift=np.linspace(negshift,posshift,int(shiftlen))\n",
    "    bitshift=np.linspace(negshift/dt,posshift/dt,int(shiftlen),dtype = 'int16')\n",
    "    Information = dict()\n",
    "    Information[('BROJA_2PID','SI')]=np.zeros(len(bitshift))\n",
    "    Information[('BROJA_2PID','UIx')]=np.zeros(len(bitshift))\n",
    "    Information[('BROJA_2PID','UIv')]=np.zeros(len(bitshift))\n",
    "    Information[('BROJA_2PID','CI')]=np.zeros(len(bitshift))\n",
    "    Information[('Beer','Red')]=np.zeros(len(bitshift))\n",
    "    Information[('Beer','UIx')]=np.zeros(len(bitshift))\n",
    "    Information[('Beer','UIv')]=np.zeros(len(bitshift))\n",
    "    Information[('Beer','Syn')]=np.zeros(len(bitshift))\n",
    "    \n",
    "    Information[('test','SI')]=np.zeros(len(bitshift))\n",
    "    Information[('test','UIx')]=np.zeros(len(bitshift))\n",
    "    Information[('test','UIv')]=np.zeros(len(bitshift))\n",
    "    Information[('test','CI')]=np.zeros(len(bitshift))\n",
    "    # shifted data\n",
    "    # shift>0 => y shifted to positive side\n",
    "    for i in range(len(bitshift)):\n",
    "        xx=[]\n",
    "        vv=[]\n",
    "        rr=[]\n",
    "        shift=bitshift[i]\n",
    "        if shift>0:\n",
    "            xx=x[shift:]\n",
    "            vv=v[shift:]\n",
    "            rr=r[:(-1*shift)]\n",
    "        elif shift==0:\n",
    "            xx=x\n",
    "            vv=v\n",
    "            rr=r\n",
    "        elif shift<0:\n",
    "            xx=x[:shift]\n",
    "            vv=v[:shift]\n",
    "            rr=r[(-1*shift):]\n",
    "        #find weight of each states by 3D histogram \n",
    "        xedges = np.append(np.unique(xx),(max(xx)+1))\n",
    "        vedges = np.append(np.unique(vv),(max(vv)+1))\n",
    "        redges = np.append(np.unique(rr),(max(rr)+1))\n",
    "        dat = np.concatenate((xx[:,np.newaxis], vv[:,np.newaxis],rr[:,np.newaxis]), axis=1)\n",
    "        N, edges = np.histogramdd(dat, bins=(xedges, vedges, redges))\n",
    "        #Calculate all kinds of probability and make sure the shape of them, 0 -> x, 1 -> v, 2 -> r\n",
    "        px=(np.sum(N,axis=(1,2))/np.sum(N))[:, np.newaxis, np.newaxis]\n",
    "        pv=(np.sum(N,axis=(0,2))/np.sum(N))[np.newaxis, :, np.newaxis]\n",
    "        pr=(np.sum(N,axis=(0,1))/np.sum(N))[np.newaxis ,np.newaxis, :]\n",
    "        pxv=(np.sum(N,axis=2)/np.sum(N))[:, :, np.newaxis]\n",
    "        pxr=(np.sum(N,axis=1)/np.sum(N))[:, np.newaxis, :]\n",
    "        pvr=(np.sum(N,axis=0)/np.sum(N))[np.newaxis, :, :]\n",
    "        pxvr=(N/np.sum(N))\n",
    "        \n",
    "        Information[('test','UIx')][i] = np.nansum(pxvr*np.log2(pxvr*px/pxv/pxr))/dt\n",
    "        Information[('test','UIv')][i] = np.nansum(pxvr*np.log2(pxvr*pv/pxv/pvr))/dt\n",
    "\n",
    "\n",
    "        MIxr=np.nansum(pxr*np.log2(pxr/px/pr))/dt\n",
    "        MIvr=np.nansum(pvr*np.log2(pvr/pv/pr))/dt\n",
    "        MIxvR=np.nansum(pxvr*np.log2(pxvr/pxv/pr))/dt\n",
    "        PI_xR = np.nansum(pxr*np.log2(pxr/px/pr), axis = (0,1))\n",
    "        PI_vR = np.nansum(pvr*np.log2(pvr/pv/pr), axis = (0,1))\n",
    "        R = sum(np.minimum(PI_xR, PI_vR))/dt\n",
    "        Information[('Beer','Red')][i] = R\n",
    "        Information[('Beer','UIx')][i] = MIxr - R\n",
    "        Information[('Beer','UIv')][i] = MIvr - R\n",
    "        Information[('Beer','Syn')][i] = MIxvR - MIxr - MIvr + R\n",
    "\n",
    "    return timeshift, Information"
   ]
  },
  {
   "cell_type": "code",
   "execution_count": 20,
   "metadata": {},
   "outputs": [],
   "source": [
    "# using numpy's histogram2d to calculate the mutual information between two sequences\n",
    "def mi_quick(a,b,d,bn=25):\n",
    "    if d>0: xy,_,_ = np.histogram2d(a[d:],b[:-d],bn)\n",
    "    elif d<0: xy,_,_ = np.histogram2d(a[:d],b[-d:],bn)\n",
    "    else: xy,_,_ = np.histogram2d(a,b,bn)\n",
    "    xy /= np.sum(xy)\n",
    "    px = [np.array([max(x,1e-100) for x in np.sum(xy,axis=0)])]\n",
    "    py = np.transpose([[max(x,1e-100) for x in np.sum(xy,axis=1)]])\n",
    "    nxy = (xy/px)/py\n",
    "    nxy[nxy==0] = 1e-100\n",
    "    return np.sum(xy*np.log2(nxy))"
   ]
  },
  {
   "cell_type": "code",
   "execution_count": 21,
   "metadata": {},
   "outputs": [],
   "source": [
    "## EqualState assign states with equal possibility for input array x\n",
    "def EqualState(x, num_state):\n",
    "    xs=np.sort(x)\n",
    "    binlen=int(len(x)/num_state-0.5) #round\n",
    "    edges = xs[np.arange(num_state+1)*binlen]\n",
    "    xstate=np.zeros(len(x))\n",
    "    for i in range(num_state):\n",
    "        xstate[x>=edges[i]] = i\n",
    "    xstate = xstate.astype(int)\n",
    "    return xstate, edges"
   ]
  },
  {
   "cell_type": "code",
   "execution_count": 22,
   "metadata": {},
   "outputs": [],
   "source": [
    "# Guassian function with mean x0 and standard deviation sigma\n",
    "def G(x,x0,sigma):\n",
    "    y = np.exp(-((x-x0)/sigma)**2)\n",
    "    return(y)"
   ]
  },
  {
   "cell_type": "code",
   "execution_count": 23,
   "metadata": {},
   "outputs": [
    {
     "data": {
      "text/plain": [
       "83.0"
      ]
     },
     "execution_count": 23,
     "metadata": {},
     "output_type": "execute_result"
    }
   ],
   "source": [
    "sigma_h = 1 # all 'dimention-L' parameters are narmalize by sigma_h\n",
    "sigma_c = 0.5*sigma_h\n",
    "sigma_g = 10.*sigma_c\n",
    "\n",
    "dx = sigma_h/60.\n",
    "xlen = 5000 #spatial 'step' of simulation\n",
    "xaxis = np.arange(0, xlen)*dx\n",
    "\n",
    "dis_h = sigma_h\n",
    "dis_c = sigma_c\n",
    "h_loc = np.zeros(xlen)\n",
    "locx = np.arange(dis_h, xlen*dx-dx, dis_h)/dx\n",
    "h_loc[np.round(locx).astype(int)] = 1\n",
    "c_loc = np.zeros(xlen)\n",
    "locx = np.arange(dis_c, xlen*dx-dx, dis_c)/dx\n",
    "c_loc[np.round(locx).astype(int)] = 1\n",
    "\n",
    "sum(h_loc)"
   ]
  },
  {
   "cell_type": "code",
   "execution_count": 24,
   "metadata": {},
   "outputs": [],
   "source": [
    "klen = min(sigma_h*3, int(xlen*dx/2))\n",
    "xx = np.arange(-klen,klen,dx)\n",
    "\n",
    "KC = K(xx,sigma_c)\n",
    "KH = K(xx,sigma_h)\n",
    "KG = K(xx,sigma_g)"
   ]
  },
  {
   "cell_type": "code",
   "execution_count": 49,
   "metadata": {},
   "outputs": [
    {
     "data": {
      "text/plain": [
       "(25.0, 0.019230769230769232)"
      ]
     },
     "execution_count": 49,
     "metadata": {},
     "output_type": "execute_result"
    }
   ],
   "source": [
    "num = 10\n",
    "alpha = 100.\n",
    "beta = 1.25\n",
    "k = 50.\n",
    "phi = 1.\n",
    "g = 62.5\n",
    "\n",
    "k*g*phi/alpha/beta,  beta*k/(alpha*beta+k*g*phi)"
   ]
  },
  {
   "cell_type": "code",
   "execution_count": 34,
   "metadata": {},
   "outputs": [],
   "source": [
    "Tot=300\n",
    "dt=0.01\n",
    "T=np.arange(dt,Tot,dt)\n",
    "# OU ; input\n",
    "tau= 1\n",
    "D = 27*10**5\n",
    "OU=np.zeros(len(T))\n",
    "mu, sigma = 0, 1\n",
    "for i in range(len(T)-1):\n",
    "    OU[i+1]=OU[i]*(1-dt/tau)+math.sqrt(D*dt)*np.random.normal(mu,sigma)\n",
    "    \n",
    "# filtering for OUSmoothed\n",
    "cutoffFreq = 1\n",
    "b, a = signal.butter(2, 2*cutoffFreq*dt, btype='low', analog=False)\n",
    "LPOU = signal.filtfilt(b, a, OU)"
   ]
  },
  {
   "cell_type": "code",
   "execution_count": 35,
   "metadata": {},
   "outputs": [],
   "source": [
    "pos_0 = 0\n",
    "y = np.zeros(xlen) # cone cell output\n",
    "z = np.zeros(xlen) # horizontal cell output\n",
    "rz = np.zeros(xlen) # horizontal cell output\n",
    "ry = np.convolve(y,KH,'same') # feedback from horizontal cell (y convoluted with horitonatl cell receptive field KH)\n",
    "nstep = 5000\n",
    "\n",
    "speak = LPOU[0:nstep]\n",
    "rpeak = np.zeros(nstep)\n",
    "\n",
    "stm = []\n",
    "rsp = []\n",
    "zts = []\n",
    "tmp = []\n",
    "\n",
    "\n",
    "for i in range(nstep):\n",
    "    rs =  np.ones(xlen)*speak[i]\n",
    "\n",
    "    dyj =(-alpha*y+k*(rs-rz))*dt\n",
    "    y = (y+dyj)*c_loc\n",
    "    dzj =(-beta*z+g*y)*dt\n",
    "    z = (z+dzj)*h_loc\n",
    "        \n",
    "    rz = np.convolve(z,KH,'same') # feedback from horizontal cell (y convoluted with horitonatl cell receptive field KH)\n",
    "    ry = np.convolve(y,KH,'same') # feedback from horizontal cell (y convoluted with horitonatl cell receptive field KH)\n",
    "\n",
    "    \n",
    "    \n",
    "    output = np.convolve(y,KG,'same')*dx\n",
    "    rpeak[i]= np.convolve(y,KG,'same')[2500]\n",
    "    \n",
    "    stm.append(rs.copy())\n",
    "    rsp.append(y.copy())\n",
    "    zts.append(z.copy())\n",
    "    \n",
    "#     if i%50 == 0:\n",
    "#         #plt.plot(y[maxpos-50:maxpos+50])\n",
    "#         plt.plot(xaxis, output)\n",
    "#         tmp.append(output)\n"
   ]
  },
  {
   "cell_type": "code",
   "execution_count": 36,
   "metadata": {},
   "outputs": [],
   "source": [
    "# plt.plot(rpeak,'.')\n",
    "# plt.plot((speak))\n",
    "# plt.grid()"
   ]
  },
  {
   "cell_type": "code",
   "execution_count": 37,
   "metadata": {},
   "outputs": [],
   "source": [
    "y = np.zeros(nstep)\n",
    "z = np.zeros(nstep)\n",
    "for i in range(nstep-1):\n",
    "    dyj =(-alpha*y[i]+k*(speak[i]-z[i]))*dt\n",
    "    y[i+1] = (y[i]+dyj)\n",
    "    dzj =(-beta*z[i]+g*y[i])*dt\n",
    "    z[i+1] = (z[i]+dzj)"
   ]
  },
  {
   "cell_type": "code",
   "execution_count": 43,
   "metadata": {},
   "outputs": [
    {
     "data": {
      "image/png": "[encoded data removed]",
      "text/plain": [
       "<Figure size 432x288 with 1 Axes>"
      ]
     },
     "metadata": {
      "needs_background": "light"
     },
     "output_type": "display_data"
    }
   ],
   "source": [
    "plt.plot(y[10:-2000],'.')\n",
    "plt.plot(rpeak[10:-2000],'.')\n",
    "plt.plot((speak[10:-2000])/50)\n",
    "plt.grid()"
   ]
  },
  {
   "cell_type": "code",
   "execution_count": 39,
   "metadata": {},
   "outputs": [
    {
     "data": {
      "image/png": "[encoded data removed]",
      "text/plain": [
       "<Figure size 432x288 with 1 Axes>"
      ]
     },
     "metadata": {
      "needs_background": "light"
     },
     "output_type": "display_data"
    }
   ],
   "source": [
    "dms = range(-100,100)\n",
    "mi_ss = [mi_quick(speak,y,d) for d in dms]\n",
    "mi_sr = [mi_quick(speak,rpeak,d) for d in dms]\n",
    "# mi_syy = [mi_quick(speak,nA(yy,20),d) for d in dms]\n",
    "plt.plot(dms, mi_ss)\n",
    "plt.plot(dms, mi_sr)\n",
    "plt.grid()\n",
    "\n",
    "text = r\"$\\alpha$: \"+str(alpha)+'\\nk: '+str(k)+'\\ng: '+str(g)+'\\n'+r'$\\phi$: '+str(phi)+'\\n'+r'$\\beta$: '+str(beta)+'\\nB: '+str(k*g*phi/alpha/beta)\n",
    "plt.text(dms[0], max(mi_sr), text, va = 'top', bbox=dict(boxstyle=\"round\",ec=(1., 0.5, 0.5),fc=(1., 0.8, 0.8),),  wrap=True)\n",
    "figure = plt.gcf()"
   ]
  },
  {
   "cell_type": "code",
   "execution_count": 40,
   "metadata": {},
   "outputs": [],
   "source": [
    "# save_folder = 'C:\\\\Users\\\\hydro_leo\\\\Documents\\\\GitHub\\\\python-code\\\\analysis result\\\\DeltaT vs Tau\\\\'\n",
    "# # save_folder = 'C:\\\\Users\\\\llinc\\\\GitHub\\\\python code\\\\analysis result\\\\DeltaT vs Tau\\\\'\n",
    "# name = str(num)+'.tif'\n",
    "\n",
    "# figure.savefig('WF_test_fig\\\\'+name)"
   ]
  },
  {
   "cell_type": "code",
   "execution_count": 232,
   "metadata": {},
   "outputs": [
    {
     "data": {
      "text/plain": [
       "(24.999999999999996, 0.038461538461538464)"
      ]
     },
     "execution_count": 232,
     "metadata": {},
     "output_type": "execute_result"
    }
   ],
   "source": [
    "dt=0.01\n",
    "nstep = 5000\n",
    "# T=np.arange(dt,Tot,dt)\n",
    "\n",
    "\n",
    "alpha = 1./0.024\n",
    "beta = 1./1.\n",
    "k = alpha\n",
    "phi = 1.\n",
    "g = beta*25\n",
    "\n",
    "k*g*phi/alpha/beta,  beta*k/(alpha*beta+k*g*phi)"
   ]
  },
  {
   "cell_type": "code",
   "execution_count": 261,
   "metadata": {},
   "outputs": [],
   "source": [
    "x = np.random.randn(nstep+99)\n",
    "y = np.zeros(nstep)\n",
    "z = np.zeros(nstep)\n",
    "T = np.arange(100)*dt\n",
    "tau_y = 0.08\n",
    "Ky=T/tau_y/tau_y*np.exp(-T/tau_y)\n",
    "s = np.convolve(x,Ky,'valid')\n",
    "\n",
    "for i in range(nstep-1):\n",
    "    dyj =(-alpha*y[i]+k*(s[i]-z[i]))*dt\n",
    "    y[i+1] = (y[i]+dyj)\n",
    "    dzj =(-beta*z[i]+g*y[i])*dt\n",
    "    z[i+1] = (z[i]+dzj)"
   ]
  },
  {
   "cell_type": "code",
   "execution_count": 269,
   "metadata": {},
   "outputs": [
    {
     "data": {
      "text/plain": [
       "5000"
      ]
     },
     "execution_count": 269,
     "metadata": {},
     "output_type": "execute_result"
    }
   ],
   "source": [
    "len(y)"
   ]
  },
  {
   "cell_type": "code",
   "execution_count": null,
   "metadata": {},
   "outputs": [],
   "source": []
  },
  {
   "cell_type": "code",
   "execution_count": 270,
   "metadata": {},
   "outputs": [],
   "source": [
    "# activation function\n",
    "def nA(x,theta):\n",
    "    y = np.zeros(len(x))\n",
    "    y[np.where(x>theta)]= 1\n",
    "    return(y)\n",
    "\n",
    "def STA(r, x, v, dt, window):\n",
    "    negshift=round(window[0]/dt) # second\n",
    "    posshift=round(window[1]/dt) # second\n",
    "    xSTS = np.zeros(posshift-negshift)\n",
    "    vSTS = np.zeros(posshift-negshift)\n",
    "    for i in np.arange(-negshift, len(r)-posshift):\n",
    "        xSTS = xSTS + x[i+negshift:i+posshift]*r[i]\n",
    "        vSTS = vSTS + v[i+negshift:i+posshift]*r[i]\n",
    "        \n",
    "    xSTA = xSTS/sum(r[-negshift:len(r)-posshift])\n",
    "    vSTA = vSTS/sum(r[-negshift:len(r)-posshift])\n",
    "    time = np.arange(negshift*dt, posshift*dt, dt)\n",
    "    return time, xSTA, vSTA"
   ]
  },
  {
   "cell_type": "code",
   "execution_count": 271,
   "metadata": {},
   "outputs": [
    {
     "data": {
      "text/plain": [
       "0.1592"
      ]
     },
     "execution_count": 271,
     "metadata": {},
     "output_type": "execute_result"
    }
   ],
   "source": [
    "sum(nA(y, np.std(y)))/len(y)"
   ]
  },
  {
   "cell_type": "code",
   "execution_count": 272,
   "metadata": {},
   "outputs": [
    {
     "data": {
      "image/png": "[encoded data removed]",
      "text/plain": [
       "<Figure size 432x288 with 1 Axes>"
      ]
     },
     "metadata": {
      "needs_background": "light"
     },
     "output_type": "display_data"
    }
   ],
   "source": [
    "plt.plot(np.arange(-50,50)*dt,np.correlate(nA(y, np.std(y)), x[99:], 'same')[2450:2550])\n",
    "plt.grid()"
   ]
  },
  {
   "cell_type": "code",
   "execution_count": 274,
   "metadata": {},
   "outputs": [
    {
     "data": {
      "image/png": "[encoded data removed]",
      "text/plain": [
       "<Figure size 432x288 with 1 Axes>"
      ]
     },
     "metadata": {
      "needs_background": "light"
     },
     "output_type": "display_data"
    }
   ],
   "source": [
    "time, xSTA, _ = STA(nA(y, np.std(y)), x[99:], x[99:], dt, [-0.5,dt])\n",
    "plt.plot(time, xSTA)\n",
    "plt.grid()"
   ]
  },
  {
   "cell_type": "code",
   "execution_count": 201,
   "metadata": {},
   "outputs": [
    {
     "data": {
      "text/plain": [
       "2501"
      ]
     },
     "execution_count": 201,
     "metadata": {},
     "output_type": "execute_result"
    }
   ],
   "source": [
    "np.argmax(np.correlate(nA(y, np.std(y)), x, 'same'))"
   ]
  },
  {
   "cell_type": "code",
   "execution_count": null,
   "metadata": {},
   "outputs": [],
   "source": []
  },
  {
   "cell_type": "code",
   "execution_count": null,
   "metadata": {},
   "outputs": [],
   "source": []
  },
  {
   "cell_type": "code",
   "execution_count": null,
   "metadata": {},
   "outputs": [],
   "source": []
  }
 ],
 "metadata": {
  "kernelspec": {
   "display_name": "Python 3",
   "language": "python",
   "name": "python3"
  },
  "language_info": {
   "codemirror_mode": {
    "name": "ipython",
    "version": 3
   },
   "file_extension": ".py",
   "mimetype": "text/x-python",
   "name": "python",
   "nbconvert_exporter": "python",
   "pygments_lexer": "ipython3",
   "version": "3.7.6"
  }
 },
 "nbformat": 4,
 "nbformat_minor": 4
}
