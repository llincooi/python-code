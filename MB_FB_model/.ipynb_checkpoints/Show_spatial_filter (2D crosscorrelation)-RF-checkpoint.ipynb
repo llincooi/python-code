{
 "cells": [
  {
   "cell_type": "markdown",
   "metadata": {},
   "source": [
    "# Import and functions"
   ]
  },
  {
   "cell_type": "code",
   "execution_count": 1,
   "metadata": {},
   "outputs": [
    {
     "name": "stdout",
     "output_type": "stream",
     "text": [
      "importing Jupyter notebook from SpatialTemporal_Correlation_and_Convolution.ipynb\n"
     ]
    }
   ],
   "source": [
    "import numpy as np\n",
    "import matplotlib.pyplot as plt\n",
    "from mpl_toolkits import mplot3d\n",
    "import math\n",
    "from scipy import signal\n",
    "from scipy.fftpack import fft\n",
    "from scipy import ndimage\n",
    "from scipy import special\n",
    "import math\n",
    "import time as toc\n",
    "import import_ipynb\n",
    "import os\n",
    "\n",
    "\n",
    "try:\n",
    "    os.chdir('C:\\\\Users\\\\hydro_leo\\\\Documents\\\\GitHub\\\\python-code\\\\Modules')\n",
    "except:\n",
    "    os.chdir('C:\\\\Users\\\\llinc\\\\GitHub\\\\python-code\\\\Modules')\n",
    "from SpatialTemporal_Correlation_and_Convolution import STcorrelate\n",
    "from SpatialTemporal_Correlation_and_Convolution import ST_STA\n",
    "from SpatialTemporal_Correlation_and_Convolution import STconvolve\n",
    "try:\n",
    "    os.chdir('C:\\\\Users\\\\hydro_leo\\\\Documents\\\\GitHub\\\\python-code\\\\MB_FB_model')\n",
    "except:\n",
    "    os.chdir('C:\\\\Users\\\\llinc\\\\GitHub\\\\python-code\\\\MB_FB_model')\n",
    "%matplotlib inline"
   ]
  },
  {
   "cell_type": "code",
   "execution_count": 2,
   "metadata": {},
   "outputs": [],
   "source": [
    "def Gaussian_filter_1d(x,s):\n",
    "    return(np.exp(-(x/s)**2))/s/np.sqrt(np.pi)"
   ]
  },
  {
   "cell_type": "code",
   "execution_count": 3,
   "metadata": {},
   "outputs": [],
   "source": [
    "def Retina_Mechine_1D(stimulus, sigma_dict, para_dict, dx, dt, loc_dict = 1):\n",
    "    if loc_dict == 1:\n",
    "        loc_dict = {}\n",
    "        loc_dict['C'] = 1\n",
    "        loc_dict['H'] = 1\n",
    "        \n",
    "    klen = max(sigma_dict.values())*5\n",
    "    xx = np.arange(-klen,klen,dx)\n",
    "    KC = Gaussian_filter_1d(xx,sigma_dict['C'])\n",
    "    KH = Gaussian_filter_1d(xx,sigma_dict['H'])\n",
    "\n",
    "    output = np.zeros_like(stimulus)#y output\n",
    "    zts = np.zeros_like(stimulus)#horizontal\n",
    "    sstm = np.zeros_like(stimulus)\n",
    "    rpeak = np.zeros(np.shape(stimulus)[0])\n",
    "    \n",
    "    if 'tau_y' in sigma_dict.keys():\n",
    "        T = np.arange(0,int(sigma_dict['tau_y']/dt*8))*dt\n",
    "        Ky=T/sigma_dict['tau_y'] /sigma_dict['tau_y'] *np.exp(-T/sigma_dict['tau_y'])\n",
    "#         plt.plot(T,Ky)\n",
    "        for j in range(np.shape(stimulus)[1]):\n",
    "            for i in range(len(Ky)-1):\n",
    "                for ii in range(i+1):\n",
    "                    sstm[i,j] += stimulus[ii,j]*Ky[i-ii]*dt\n",
    "            sx = np.convolve(stimulus[:,j],Ky,'valid')*dt\n",
    "            sstm[len(Ky)-1:,j] = sx.copy()\n",
    "    else:\n",
    "        sstm = stimulus.copy()\n",
    "\n",
    "    for i in range(np.shape(stimulus)[0]-1):\n",
    "        s = sstm[i,:]\n",
    "        rs = np.convolve(s,KC,'same')*dx\n",
    "        ry = np.convolve(output[i,:],KH,'same')*dx  # feedback from horizontal cell (y convoluted with horitonatl cell receptive field KH)\n",
    "        rz = np.convolve(zts[i,:],KH,'same')*dx     # feedback from horizontal cell (z convoluted with horitonatl cell receptive field KH)\n",
    "\n",
    "        dyj =(-para_dict['alpha']*output[i,:]+para_dict['k']*(rs-para_dict['phi']*rz))\n",
    "        dzj =(-para_dict['beta']*zts[i,:]+para_dict['g']*output[i,:])\n",
    "        output[i+1,:] = (output[i,:]+dyj*dt)*loc_dict['C']\n",
    "        zts[i+1,:] = (zts[i,:]+dzj*dt)*loc_dict['H']\n",
    "        \n",
    "        maxpos = np.argmax(output[i+1,:])\n",
    "        rpeak[i+1]= maxpos*dx\n",
    "    return output, zts, rpeak\n",
    "\n",
    "def FB_FF_1l_1D(stimulus, sigma_dict, para_dict, dx, dt, loc_dict = 1):\n",
    "    if loc_dict == 1:\n",
    "        loc_dict = {}\n",
    "        loc_dict['C'] = 1\n",
    "        loc_dict['H'] = 1\n",
    "        \n",
    "    klen = min(max(sigma_dict.values())*3, int(stimulus.shape[1]/2/dx))\n",
    "    xx = np.arange(-klen,klen+dx,dx)\n",
    "    KC = Gaussian_filter_1d(xx,sigma_dict['C'])\n",
    "    KH = Gaussian_filter_1d(xx,sigma_dict['H'])\n",
    "    KB = Gaussian_filter_1d(xx,sigma_dict['B'])\n",
    "#     plt.plot(KC)\n",
    "#     plt.plot(KH)\n",
    "#     plt.plot(KB)\n",
    "#     plt.plot(KC-KH)\n",
    "    \n",
    "    output = np.zeros_like(stimulus)#y output\n",
    "    zts = np.zeros_like(stimulus)#horizontal\n",
    "    yts = np.zeros_like(stimulus)#horizontal\n",
    "    wts = np.zeros_like(stimulus)#horizontal\n",
    "    sstm = np.zeros_like(stimulus)\n",
    "    rpeak1 = np.zeros(np.shape(stimulus)[0])\n",
    "    rpeak2 = np.zeros(np.shape(stimulus)[0])\n",
    "    rinvertpeak2 = np.zeros(np.shape(stimulus)[0])\n",
    "    \n",
    "    if 'tau_y' in sigma_dict.keys():\n",
    "        T = np.arange(0,int(sigma_dict['tau_y']/dt*8))*dt\n",
    "        Ky=T/sigma_dict['tau_y'] /sigma_dict['tau_y'] *np.exp(-T/sigma_dict['tau_y'])\n",
    "        for j in range(np.shape(stimulus)[1]):\n",
    "            for i in range(len(Ky)-1):\n",
    "                for ii in range(i+1):\n",
    "                    sstm[i,j] += stimulus[ii,j]*Ky[i-ii]*dt\n",
    "            sx = np.convolve(stimulus[:,j],Ky,'valid')*dt\n",
    "            sstm[len(Ky)-1:,j] = sx.copy()\n",
    "    else:\n",
    "        sstm = stimulus.copy()\n",
    "\n",
    "    for i in range(np.shape(stimulus)[0]):\n",
    "        s = sstm[i,:]\n",
    "        rs = np.convolve(s,KC,'same')*dx\n",
    "        ry2z = np.convolve(yts[i-1,:],KH,'same')*dx# feedback from horizontal cell (y convoluted with horitonatl cell receptive field KH)\n",
    "        dyj =(-para_dict['alpha']*yts[i-1,:]+para_dict['k']*(s-para_dict['phi']*zts[i-1,:]))*dt\n",
    "        dzj =(-para_dict['beta']*zts[i-1,:]+para_dict['g']*ry2z)*dt\n",
    "                \n",
    "        yts[i,:] = (yts[i-1,:]+dyj)*loc_dict['C']\n",
    "        zts[i,:] = (zts[i-1,:]+dzj)*loc_dict['H']\n",
    "        ry2w = np.convolve(yts[i-1,:],KB,'same')*dx# feedback from horizontal cell (y convoluted with horitonatl cell receptive field KH)\n",
    "        dwj =(-para_dict['gramma']*wts[i-2,:]+para_dict['p']*((1-para_dict['psy'])*ry2w-para_dict['psy']*zts[i-1,:]))*dt\n",
    "\n",
    "        wts[i-1,:] = (wts[i-2,:]+dwj)\n",
    "        maxpos1 = np.argmax(yts[i,:])\n",
    "        rpeak1[i]= maxpos1*dx\n",
    "        maxpos2 = np.argmax(wts[i-1,:])\n",
    "        rpeak2[i-1]= maxpos2*dx\n",
    "        maxipos2 = np.argmin(wts[i-1,:])\n",
    "        rinvertpeak2[i-1]= maxipos2*dx\n",
    "    \n",
    "    ry2w = np.convolve(yts[i,:],KB,'same')*dx# feedback from horizontal cell (y convoluted with horitonatl cell receptive field KH)\n",
    "    dwj =(-para_dict['gramma']*wts[i-1,:]+para_dict['p']*((1-para_dict['psy'])*ry2w-para_dict['psy']*zts[i,:]))*dt\n",
    "    wts[i,:] = (wts[i-1,:]+dwj)\n",
    "    maxpos2 = np.argmax(wts[i,:])\n",
    "    rpeak2[i]= maxpos2*dx\n",
    "    maxipos2 = np.argmin(wts[i,:])\n",
    "    rinvertpeak2[i]= maxipos2*dx\n",
    "    return wts, zts, yts, rpeak1, rpeak2, rinvertpeak2"
   ]
  },
  {
   "cell_type": "code",
   "execution_count": 4,
   "metadata": {},
   "outputs": [],
   "source": [
    "def Ay(para_dict, sigma_dict, x, n = 1000):\n",
    "    alpha = para_dict['alpha']\n",
    "    beta = para_dict['beta']\n",
    "    k = para_dict['k']\n",
    "    phi = para_dict['phi']\n",
    "    g = para_dict['g']\n",
    "    sigma_h = sigma_dict['H']\n",
    "    sigma_c = sigma_dict['C']\n",
    "    ans =  0\n",
    "    for i in range(n+1):\n",
    "        ans += k/alpha/np.sqrt(np.pi)*(-k*g/alpha/beta)**i/np.sqrt(sigma_c**2+i*sigma_h**2)*np.exp(-x**2/(sigma_c**2+i*sigma_h**2))\n",
    "    return ans"
   ]
  },
  {
   "cell_type": "markdown",
   "metadata": {},
   "source": [
    "# Setting parameters"
   ]
  },
  {
   "cell_type": "markdown",
   "metadata": {},
   "source": [
    "## CKC's parameters"
   ]
  },
  {
   "cell_type": "code",
   "execution_count": 5,
   "metadata": {},
   "outputs": [],
   "source": [
    "filename = 'CKC STkernels-good parameters'\n",
    "\n",
    "NGD_sigma_dict = dict()\n",
    "NGD_sigma_dict['H'] = 1\n",
    "NGD_sigma_dict['C'] = NGD_sigma_dict['H']*0.2 # RF size of cone cell\n",
    "dx = NGD_sigma_dict['H']/40.\n",
    "\n",
    "dt=0.01  #large dt will cause  overflow\n",
    "NGD_sigma_dict['tau_y'] = 0.02\n",
    "#Width setting\n",
    "xlen = 50*NGD_sigma_dict['H'] #spatial extend of simulation\n",
    "Dynamical_range = 6*NGD_sigma_dict['H']/dx #188-16 pixels\n",
    "hw = 3*Dynamical_range*dx/22 #half bar width  #8 pixels\n",
    "tempx = np.arange(0,xlen/dx+1)*dx\n",
    "\n",
    "NGD_para_dict = {}\n",
    "NGD_para_dict['alpha'] = 40.\n",
    "NGD_para_dict['beta'] = 2.\n",
    "NGD_para_dict['k'] = 40.\n",
    "NGD_para_dict['phi'] = 5.\n",
    "NGD_para_dict['g'] = 2.\n",
    "\n",
    "\n",
    "FBFF_sigma_dict = NGD_sigma_dict.copy()\n",
    "FBFF_para_dict = NGD_para_dict.copy()\n",
    "FBFF_para_dict['gramma'] = 100.\n",
    "FBFF_para_dict['p'] = 100.\n",
    "FBFF_para_dict['psy'] = 0.3\n",
    "\n",
    "FBFF_sigma_dict['B'] = FBFF_sigma_dict['H']*0.5\n",
    "\n",
    "\n",
    "\n",
    "# para_dict['g']*para_dict['k']*para_dict['phi']/para_dict['alpha']/para_dict['beta']"
   ]
  },
  {
   "cell_type": "markdown",
   "metadata": {},
   "source": [
    "## Leo's parameters"
   ]
  },
  {
   "cell_type": "code",
   "execution_count": 6,
   "metadata": {},
   "outputs": [],
   "source": [
    "# filename = 'Leo\\'s STkernels-good parameters'\n",
    "\n",
    "# sigma_dict = dict()\n",
    "# sigma_dict['H'] = 1\n",
    "# sigma_dict['C'] = sigma_dict['H']*0.75 # RF size of cone cell\n",
    "# dx = sigma_dict['H']/40.\n",
    "\n",
    "# dt=0.01  #large dt will cause  overflow\n",
    "# sigma_dict['tau_y'] = 0.02\n",
    "\n",
    "# #Width setting\n",
    "# xlen = 50*sigma_dict['H'] #spatial extend of simulation\n",
    "# hw = 0.6*sigma_dict['H']#half bar width\n",
    "# tempx = np.arange(0,xlen+dx,dx)\n",
    "\n",
    "# para_dict = {}\n",
    "# para_dict['alpha'] = 40.\n",
    "# para_dict['beta'] = 2.\n",
    "# para_dict['k'] = 50.\n",
    "# para_dict['phi'] = 20.\n",
    "# para_dict['g'] = 2.\n",
    "\n",
    "# para_dict['g']*para_dict['k']*para_dict['phi']/para_dict['alpha']/para_dict['beta']"
   ]
  },
  {
   "cell_type": "code",
   "execution_count": 7,
   "metadata": {},
   "outputs": [],
   "source": [
    "# #plot analytic result\n",
    "# x = np.arange(-int(xlen/dx/2),int(xlen/dx/2))*dx\n",
    "# plt.plot(Ay(para_dict,sigma_dict,x))\n",
    "# plt.title('Show Analitc Solution of Steady State')"
   ]
  },
  {
   "cell_type": "markdown",
   "metadata": {},
   "source": [
    "# Whole Field STA"
   ]
  },
  {
   "cell_type": "code",
   "execution_count": 8,
   "metadata": {},
   "outputs": [],
   "source": [
    "wnmean = 1\n",
    "wnstd = 0.2\n",
    "n_twn = np.random.randn(10000)\n",
    "homo_cSTA = np.matmul((n_twn*wnstd + wnmean)[:, np.newaxis], np.ones(int(xlen/dx)+1)[np.newaxis, :])\n",
    "wts, zts, yts, _, _, _ = FB_FF_1l_1D(homo_cSTA, FBFF_sigma_dict, FBFF_para_dict, dx, dt)\n",
    "csta_output = wts\n",
    "# z1ts, z2ts, y1ts, y2ts, _ = FF_FB_2l_1D(homo_cSTA, FFFB_sigma_dict, FFFB_para_dict, dx, dt)\n",
    "# csta_output = y2ts"
   ]
  },
  {
   "cell_type": "code",
   "execution_count": 9,
   "metadata": {},
   "outputs": [
    {
     "data": {
      "text/plain": [
       "[<matplotlib.lines.Line2D at 0x267d04bc448>]"
      ]
     },
     "execution_count": 9,
     "metadata": {},
     "output_type": "execute_result"
    },
    {
     "data": {
      "image/png": "[encoded data removed]",
      "text/plain": [
       "<Figure size 432x288 with 1 Axes>"
      ]
     },
     "metadata": {
      "needs_background": "light"
     },
     "output_type": "display_data"
    }
   ],
   "source": [
    "output = csta_output[:,int(xlen/dx/2)]\n",
    "\n",
    "TK = np.correlate(output, n_twn, 'same')/ np.correlate(output, np.ones_like(n_twn), 'same')*dt\n",
    "TK = TK[(round(len(TK)/2)+int(0.5/dt)):(round(len(TK)/2)-1):-1]\n",
    "TKtaxis = np.arange(-len(TK)+1,1)*dt\n",
    "plt.plot(TKtaxis,TK)"
   ]
  },
  {
   "cell_type": "markdown",
   "metadata": {},
   "source": [
    "# Delta input for Spatial kernel "
   ]
  },
  {
   "cell_type": "code",
   "execution_count": 10,
   "metadata": {},
   "outputs": [],
   "source": [
    "nstep = int(1.6/dt)\n",
    "Delta_input = np.zeros([nstep, int(xlen/dx)+1])\n",
    "Delta_input[:, int(xlen/dx/2)] = 2\n",
    "wts, zts, yts, _, _, _ = FB_FF_1l_1D(Delta_input, FBFF_sigma_dict, FBFF_para_dict, dx, dt)\n",
    "Delta_output = wts"
   ]
  },
  {
   "cell_type": "code",
   "execution_count": 11,
   "metadata": {},
   "outputs": [
    {
     "data": {
      "text/plain": [
       "Text(0.5, 1.0, 'spatial filter')"
      ]
     },
     "execution_count": 11,
     "metadata": {},
     "output_type": "execute_result"
    },
    {
     "data": {
      "image/png": "[encoded data removed]",
      "text/plain": [
       "<Figure size 432x288 with 1 Axes>"
      ]
     },
     "metadata": {
      "needs_background": "light"
     },
     "output_type": "display_data"
    }
   ],
   "source": [
    "plt.plot(Delta_output[-1,int(xlen/dx/2)-int(xlen/dx/10):int(xlen/dx/2)+int(xlen/dx/10)+1])\n",
    "plt.title('spatial filter')"
   ]
  },
  {
   "cell_type": "markdown",
   "metadata": {},
   "source": [
    "# spatial-temporal Checker "
   ]
  },
  {
   "cell_type": "code",
   "execution_count": 12,
   "metadata": {},
   "outputs": [],
   "source": [
    "nstep = 5000\n",
    "n_stwn = np.random.randn(nstep, int(xlen/dx)+1)\n",
    "ST_cSTA = n_stwn*wnstd + wnmean\n",
    "wts, zts, yts, _, _, _ = FB_FF_1l_1D(ST_cSTA, FBFF_sigma_dict, FBFF_para_dict, dx, dt)\n",
    "stcsta_output = wts[:,int(FBFF_sigma_dict['B']/dx):int(-FBFF_sigma_dict['B']/dx)]"
   ]
  },
  {
   "cell_type": "code",
   "execution_count": null,
   "metadata": {},
   "outputs": [],
   "source": [
    "tic = toc.time()\n",
    "time_window = [-0.5,0.1]\n",
    "step = np.round(np.arange(time_window[0],time_window[1],dt)/dt).astype(int)\n",
    "# test2, (time_axis, space_axis) = STcorrelate(ST_cSTA, stcsta_output,step,dx,dt)\n",
    "test4, (time_axis, space_axis) = ST_STA(n_stwn, stcsta_output,step,dx,dt)\n",
    "toc.time()-tic"
   ]
  },
  {
   "cell_type": "code",
   "execution_count": null,
   "metadata": {},
   "outputs": [],
   "source": [
    "space_window = np.arange(-int(xlen/dx/10),1+int(xlen/dx/10))\n",
    "fig, ax2 = plt.subplots(nrows=1, ncols=1)\n",
    "ax2.imshow((test4)[:,space_window+int(xlen/dx/2)])\n",
    "ax2.set_yticks(np.arange(0,len(step),5))\n",
    "ax2.set_yticklabels(step[np.arange(0,len(step),5)])\n",
    "ax2.set_ylabel('time after spike')\n",
    "ax2.set_xticks(np.arange(0,len(space_window),50))\n",
    "ax2.set_xticklabels(space_window[np.arange(0,len(space_window),50)])\n",
    "ax2.set_xlabel('distance from spike')\n",
    "ax2.set_title('2D crosscorrelation')\n",
    "fig = plt.gcf()\n",
    "fig.set_size_inches(16, 10)"
   ]
  },
  {
   "cell_type": "markdown",
   "metadata": {},
   "source": [
    "choose center cell and a certain time before spike"
   ]
  },
  {
   "cell_type": "code",
   "execution_count": null,
   "metadata": {},
   "outputs": [],
   "source": [
    "tbs_i = 49\n",
    "plt.plot(test4[tbs_i, :])\n",
    "plt.grid()\n",
    "fig = plt.gcf()\n",
    "fig.set_size_inches(15, 5)"
   ]
  },
  {
   "cell_type": "code",
   "execution_count": null,
   "metadata": {},
   "outputs": [],
   "source": [
    "# ST_kernel2 = []\n",
    "# for i in np.arange(0,np.argmin(np.abs(step))):\n",
    "#     ST_kernel2.append(test2[i,:]+np.flip(test2[i,:]))\n",
    "# ST_kernel2 = np.flipud(np.array(ST_kernel2)/2)\n",
    "\n",
    "ST_kernel4 = []\n",
    "for i in np.arange(0,np.argmin(np.abs(step))):\n",
    "    ST_kernel4.append(test4[i,:]+np.flip(test4[i,:]))\n",
    "ST_kernel4 = np.flipud(np.array(ST_kernel4)/2)\n",
    "\n",
    "new_time_axis = np.flip(time_axis.copy()[:np.argmin(np.abs(step))])\n",
    "\n"
   ]
  },
  {
   "cell_type": "code",
   "execution_count": null,
   "metadata": {},
   "outputs": [],
   "source": [
    "ST_kernel = ST_kernel4[:, space_window+int(xlen/dx/2)]\n",
    "plt.imshow(ST_kernel)\n",
    "plt.colorbar()\n",
    "fig = plt.gcf()\n",
    "fig.set_size_inches(20, 5)"
   ]
  },
  {
   "cell_type": "markdown",
   "metadata": {},
   "source": [
    "# Separate by Integration"
   ]
  },
  {
   "cell_type": "code",
   "execution_count": null,
   "metadata": {},
   "outputs": [],
   "source": [
    "iTk = np.sum(ST_kernel, axis = 1)*dx\n",
    "iSk = np.sum(ST_kernel, axis = 0)*dt"
   ]
  },
  {
   "cell_type": "code",
   "execution_count": null,
   "metadata": {},
   "outputs": [],
   "source": [
    "plt.plot(space_window, iSk/max(iSk))\n",
    "cut_Delta_output = Delta_output[-1,int(xlen/dx/2)-int(xlen/dx/10):int(xlen/dx/2)+int(xlen/dx/10)+1]\n",
    "plt.plot(space_window, cut_Delta_output/max(cut_Delta_output))\n",
    "plt.title('spatial filter')\n",
    "\n",
    "plt.legend( ('iSk', r'$\\delta Sk$'), loc='best', prop={'size': 'large', 'family': 'monospace'})"
   ]
  },
  {
   "cell_type": "code",
   "execution_count": null,
   "metadata": {
    "scrolled": true
   },
   "outputs": [],
   "source": [
    "plt.plot(new_time_axis, iTk/max(iTk))\n",
    "\n",
    "n_TK = TK/max(TK)\n",
    "plt.plot(TKtaxis,n_TK)\n",
    "plt.grid()\n",
    "\n",
    "plt.title('temporal filter')\n",
    "\n",
    "plt.legend( ('iTk', 'cSTA'), loc='best', prop={'size': 'large', 'family': 'monospace'})"
   ]
  },
  {
   "cell_type": "code",
   "execution_count": null,
   "metadata": {},
   "outputs": [],
   "source": [
    "sSTk = iSk[np.newaxis,:]*iTk[:, np.newaxis]\n",
    "ssSTk = cut_Delta_output[np.newaxis,:]*np.flipud(n_TK[:len(iTk), np.newaxis])"
   ]
  },
  {
   "cell_type": "code",
   "execution_count": null,
   "metadata": {},
   "outputs": [],
   "source": [
    "plt.imshow(ssSTk)\n",
    "plt.colorbar()\n",
    "plt.title('Separatable S-T-filter, '+'from Sk and cSTA')\n",
    "fig = plt.gcf()\n",
    "fig.set_size_inches(20, 5)"
   ]
  },
  {
   "cell_type": "code",
   "execution_count": null,
   "metadata": {},
   "outputs": [],
   "source": [
    "plt.imshow(sSTk)\n",
    "plt.colorbar()\n",
    "plt.title('Separatable S-T-filter, '+'from iSk and iTk')\n",
    "fig = plt.gcf()\n",
    "fig.set_size_inches(20, 5)"
   ]
  },
  {
   "cell_type": "markdown",
   "metadata": {},
   "source": [
    "# Apply SVD on Spatial-Temporal Kernel"
   ]
  },
  {
   "cell_type": "code",
   "execution_count": null,
   "metadata": {},
   "outputs": [],
   "source": [
    "from numpy import linalg as la\n",
    "U,sigma,VT=la.svd(ST_kernel)"
   ]
  },
  {
   "cell_type": "code",
   "execution_count": null,
   "metadata": {},
   "outputs": [],
   "source": [
    "reSTK = np.zeros_like(ST_kernel)\n",
    "for i in range(len(sigma)):\n",
    "    reSTK += sigma[i]*np.matmul(U[:,i][:, np.newaxis], VT[i,:][np.newaxis, :])\n",
    "plt.imshow(reSTK)\n",
    "plt.colorbar()\n",
    "fig = plt.gcf()\n",
    "fig.set_size_inches(20, 5)"
   ]
  },
  {
   "cell_type": "code",
   "execution_count": null,
   "metadata": {},
   "outputs": [],
   "source": [
    "sigma/sum(sigma)"
   ]
  },
  {
   "cell_type": "code",
   "execution_count": null,
   "metadata": {},
   "outputs": [],
   "source": [
    "fig, ((ax2, ax3), (ax4, ax5)) = plt.subplots(nrows=2, ncols=2)\n",
    "ax2.plot(U[:,0])\n",
    "ax2.set_title('SVD1 Temporal Kernel')\n",
    "ax3.plot(VT[0,:])\n",
    "ax3.set_title('SVD1 Spatial Kernel')\n",
    "ax4.plot(U[:,1])\n",
    "ax4.set_title('SVD2 Temporal Kernel')\n",
    "ax5.plot(VT[1,:])\n",
    "ax5.set_title('SVD2 Spatial Kernel')\n",
    "fig.set_size_inches(15, 10)"
   ]
  },
  {
   "cell_type": "code",
   "execution_count": null,
   "metadata": {},
   "outputs": [],
   "source": [
    "plt.plot(space_window, iSk/max(iSk), label = 'iSk')\n",
    "cut_Delta_output = Delta_output[-1,int(xlen/dx/2)-int(xlen/dx/10):int(xlen/dx/2)+int(xlen/dx/10)+1]\n",
    "plt.plot(space_window, cut_Delta_output/max(cut_Delta_output), label = r'$\\delta Sk$')\n",
    "plt.plot(space_window, -VT[0,:]/max(-VT[0,:]), label = 'SVD1')\n",
    "barsize = np.zeros_like(space_window);\n",
    "barsize[np.arange(-round(hw/dx),(round(hw/dx)+1))++round(len(barsize)/2)] = 1\n",
    "plt.plot(space_window, barsize, label = 'Bar')\n",
    "plt.title('spatial filter')\n",
    "plt.legend(loc='best', prop={'size': 'large', 'family': 'monospace'})\n",
    "\n",
    "plt.xlim([-30, 30])"
   ]
  },
  {
   "cell_type": "code",
   "execution_count": null,
   "metadata": {},
   "outputs": [],
   "source": [
    "from scipy.optimize import curve_fit\n",
    "x = space_window.copy()\n",
    "y = -VT[0,:]/max(-VT[0,:])\n",
    "\n",
    "# weighted arithmetic mean (corrected - check the section below)\n",
    "mean = sum(x * y) / sum(y)\n",
    "sigma = np.sqrt(sum((y-min(y)) * (x - mean)**2) / sum(y-min(y)))\n",
    "\n",
    "def Gauss(x, a, x0, sigma):\n",
    "    return a * np.exp(-(x - x0)**2 / (2 * sigma**2))\n",
    "\n",
    "popt,pcov = curve_fit(Gauss, x, y, p0=[max(y), mean, sigma])\n",
    "print(popt)\n",
    "\n",
    "plt.plot(x, y, 'b+:', label='data')\n",
    "plt.plot(x, Gauss(x, *popt), 'r-', label='fit')\n",
    "plt.legend()\n",
    "plt.title('Fig. 3 - Fit for Time Constant')\n",
    "plt.xlabel('Time (s)')\n",
    "plt.ylabel('Voltage (V)')\n",
    "plt.show()"
   ]
  },
  {
   "cell_type": "code",
   "execution_count": null,
   "metadata": {},
   "outputs": [],
   "source": [
    "popt[2]*dx"
   ]
  },
  {
   "cell_type": "code",
   "execution_count": null,
   "metadata": {},
   "outputs": [],
   "source": [
    "plt.plot(new_time_axis, iTk/max(iTk))\n",
    "plt.plot(TKtaxis,n_TK)\n",
    "plt.plot(new_time_axis, -U[:,0]/max(-U[:,0]))\n",
    "plt.grid()\n",
    "\n",
    "plt.title('temporal filter')\n",
    "\n",
    "plt.legend( ('iTk', 'cSTA', 'SVD1'), loc='best', prop={'size': 'large', 'family': 'monospace'})"
   ]
  },
  {
   "cell_type": "code",
   "execution_count": null,
   "metadata": {},
   "outputs": [],
   "source": [
    "cSVD = 0\n",
    "SVD_STkernel = np.matmul(U[:,cSVD][:, np.newaxis], VT[cSVD,:][np.newaxis, :])\n",
    "plt.imshow(SVD_STkernel[:,int(ST_kernel.shape[1]*0.3):int(ST_kernel.shape[1]*0.7)])\n",
    "plt.title('SVD'+str(cSVD+1)+'-reconstructed STKernel')\n",
    "fig = plt.gcf()\n",
    "fig.set_size_inches(20, 5)"
   ]
  },
  {
   "cell_type": "code",
   "execution_count": null,
   "metadata": {},
   "outputs": [],
   "source": [
    "plt.plot(space_window, iSk/max(iSk), label = 'iSk')\n",
    "cut_Delta_output = Delta_output[-1,int(xlen/dx/2)-int(xlen/dx/10):int(xlen/dx/2)+int(xlen/dx/10)+1]\n",
    "plt.plot(space_window, cut_Delta_output/max(cut_Delta_output), label = r'$\\delta Sk$')\n",
    "plt.plot(space_window, -VT[0,:]/max(-VT[0,:]), label = 'SVD1')\n",
    "barsize = np.zeros_like(space_window);\n",
    "barsize[np.arange(-round(hw/dx),(round(hw/dx)+1))++round(len(barsize)/2)] = 1\n",
    "plt.plot(space_window, barsize, label = 'Bar')\n",
    "\n",
    "\n",
    "plt.plot(space_window, barsize, label = 'Bar')\n",
    "plt.title('spatial filter')\n",
    "plt.legend(loc='best', prop={'size': 'large', 'family': 'monospace'})"
   ]
  },
  {
   "cell_type": "code",
   "execution_count": null,
   "metadata": {},
   "outputs": [],
   "source": [
    "KC = Gaussian_filter_1d(space_window*dx,FBFF_sigma_dict['C'])\n",
    "KH = Gaussian_filter_1d(space_window*dx,FBFF_sigma_dict['H'])\n",
    "KB = Gaussian_filter_1d(space_window*dx,FBFF_sigma_dict['B'])\n",
    "plt.plot(KC, label = 'cone')\n",
    "plt.plot(KH, label = 'horizontal')\n",
    "plt.plot(KB, label = 'bipolar')\n",
    "plt.plot(KC-KH, label = 'DoG')\n",
    "plt.plot(-VT[0,:]/max(-VT[0,:])*max(KB), label = 'SVD1')\n",
    "\n",
    "plt.xlim([200-30, 200+30])\n",
    "plt.legend()"
   ]
  },
  {
   "cell_type": "code",
   "execution_count": null,
   "metadata": {},
   "outputs": [],
   "source": [
    "FBFF_sigma_dict"
   ]
  },
  {
   "cell_type": "code",
   "execution_count": null,
   "metadata": {},
   "outputs": [],
   "source": [
    "from scipy.optimize import curve_fit\n",
    "x = space_window.copy()\n",
    "y = KB\n",
    "\n",
    "# weighted arithmetic mean (corrected - check the section below)\n",
    "mean = sum(x * y) / sum(y)\n",
    "sigma = np.sqrt(sum((y-min(y)) * (x - mean)**2) / sum(y-min(y)))\n",
    "\n",
    "def Gauss(x, a, x0, sigma):\n",
    "    return a * np.exp(-(x - x0)**2 / (2 * sigma**2))\n",
    "\n",
    "popt,pcov = curve_fit(Gauss, x, y, p0=[max(y), mean, sigma])\n",
    "print(popt)\n",
    "\n",
    "plt.plot(x, y, 'b+:', label='data')\n",
    "plt.plot(x, Gauss(x, *popt), 'r-', label='fit')\n",
    "plt.legend()\n",
    "plt.title('Fig. 3 - Fit for Time Constant')\n",
    "plt.xlabel('Time (s)')\n",
    "plt.ylabel('Voltage (V)')\n",
    "plt.show()"
   ]
  },
  {
   "cell_type": "code",
   "execution_count": null,
   "metadata": {},
   "outputs": [],
   "source": []
  },
  {
   "cell_type": "code",
   "execution_count": null,
   "metadata": {},
   "outputs": [],
   "source": []
  }
 ],
 "metadata": {
  "kernelspec": {
   "display_name": "Python 3",
   "language": "python",
   "name": "python3"
  },
  "language_info": {
   "codemirror_mode": {
    "name": "ipython",
    "version": 3
   },
   "file_extension": ".py",
   "mimetype": "text/x-python",
   "name": "python",
   "nbconvert_exporter": "python",
   "pygments_lexer": "ipython3",
   "version": "3.7.6"
  },
  "toc": {
   "base_numbering": 1,
   "nav_menu": {},
   "number_sections": true,
   "sideBar": true,
   "skip_h1_title": false,
   "title_cell": "Table of Contents",
   "title_sidebar": "Contents",
   "toc_cell": false,
   "toc_position": {
    "height": "calc(100% - 180px)",
    "left": "10px",
    "top": "150px",
    "width": "384px"
   },
   "toc_section_display": true,
   "toc_window_display": true
  },
  "varInspector": {
   "cols": {
    "lenName": 16,
    "lenType": 16,
    "lenVar": 40
   },
   "kernels_config": {
    "python": {
     "delete_cmd_postfix": "",
     "delete_cmd_prefix": "del ",
     "library": "var_list.py",
     "varRefreshCmd": "print(var_dic_list())"
    },
    "r": {
     "delete_cmd_postfix": ") ",
     "delete_cmd_prefix": "rm(",
     "library": "var_list.r",
     "varRefreshCmd": "cat(var_dic_list()) "
    }
   },
   "position": {
    "height": "297px",
    "left": "1550px",
    "right": "20px",
    "top": "120px",
    "width": "350px"
   },
   "types_to_exclude": [
    "module",
    "function",
    "builtin_function_or_method",
    "instance",
    "_Feature"
   ],
   "window_display": true
  }
 },
 "nbformat": 4,
 "nbformat_minor": 2
}
