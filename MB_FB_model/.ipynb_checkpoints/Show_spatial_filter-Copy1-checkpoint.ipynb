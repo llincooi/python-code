{
 "cells": [
  {
   "cell_type": "code",
   "execution_count": null,
   "metadata": {},
   "outputs": [],
   "source": [
    "import numpy as np\n",
    "import matplotlib.pyplot as plt\n",
    "from mpl_toolkits import mplot3d\n",
    "import math\n",
    "from scipy import signal\n",
    "from scipy.fftpack import fft\n",
    "from scipy import ndimage\n",
    "from scipy import special\n",
    "import math\n",
    "import time as toc\n",
    "%matplotlib inline"
   ]
  },
  {
   "cell_type": "code",
   "execution_count": null,
   "metadata": {},
   "outputs": [],
   "source": [
    "def K(x,s):\n",
    "    return(np.exp(-(x/s)**2))/s/np.sqrt(np.pi)"
   ]
  },
  {
   "cell_type": "code",
   "execution_count": null,
   "metadata": {},
   "outputs": [],
   "source": [
    "def STA(r, x, dt, window):\n",
    "    negshift=round(window[0]/dt) # second\n",
    "    posshift=round(window[1]/dt) # second\n",
    "    xSTS = np.zeros(posshift-negshift)\n",
    "    for i in np.arange(-negshift, len(r)-posshift):\n",
    "        xSTS = xSTS + x[i+negshift:i+posshift]*r[i]\n",
    "        \n",
    "    xSTA = xSTS/sum(r[-negshift:len(r)-posshift])\n",
    "    time = np.arange(negshift*dt, posshift*dt, dt)\n",
    "    return time, xSTA"
   ]
  },
  {
   "cell_type": "code",
   "execution_count": null,
   "metadata": {},
   "outputs": [],
   "source": [
    "def Ay(k,g,alpha,beta,sigma_c, sigma_h,x,n = 1000):\n",
    "    ans =  0\n",
    "    for i in range(n+1):\n",
    "        ans += k/alpha/np.sqrt(np.pi)*(-k*g/alpha/beta)**i/np.sqrt(sigma_c**2+i*sigma_h**2)*np.exp(-x**2/(sigma_c**2+i*sigma_h**2))\n",
    "    return ans"
   ]
  },
  {
   "cell_type": "code",
   "execution_count": null,
   "metadata": {},
   "outputs": [],
   "source": [
    "sigma_h = 1# RF size of horizontal cell\n",
    "sigma_c = sigma_h*2/3# RF size of cone cell\n",
    "gamma = 1/(sigma_c**2)\n",
    "klen = 2*sigma_h# half of width of horizontal kernal\n",
    "dx = 0.01*sigma_h\n",
    "##Create spatial kernal\n",
    "klen = sigma_h*3\n",
    "xx = np.arange(-klen,klen,dx)\n",
    "\n",
    "KC = K(xx,sigma_c)\n",
    "KH = K(xx,sigma_h)\n",
    "KKK = K(xx, dx*10)\n",
    " \n",
    "dt=0.01\n",
    "T = np.arange(100)*dt\n",
    "tau_y = 0.02\n",
    "Ky=T/tau_y/tau_y*np.exp(-T/tau_y)"
   ]
  },
  {
   "cell_type": "code",
   "execution_count": null,
   "metadata": {},
   "outputs": [],
   "source": [
    "#Width setting\n",
    "xlen = 20*sigma_h #spatial extend of simulation\n",
    "hw = 0.75*sigma_h#half bar width\n",
    "tempx = np.arange(0,xlen,dx)"
   ]
  },
  {
   "cell_type": "code",
   "execution_count": null,
   "metadata": {},
   "outputs": [],
   "source": [
    "alpha = 1/0.024\n",
    "beta = 1./1.\n",
    "k = alpha*0.5\n",
    "phi = 1.\n",
    "g = beta\n",
    "\n",
    "g*k*phi/alpha/beta"
   ]
  },
  {
   "cell_type": "code",
   "execution_count": null,
   "metadata": {},
   "outputs": [],
   "source": [
    "x = np.arange(-int(xlen/dx/2),int(xlen/dx/2))*dx\n",
    "plt.plot(Ay(k,g,alpha,beta,sigma_c, sigma_h,x))\n",
    "plt.title('Show Analitc Solution of Steady State')"
   ]
  },
  {
   "cell_type": "markdown",
   "metadata": {},
   "source": [
    "## Whole Field STA"
   ]
  },
  {
   "cell_type": "code",
   "execution_count": null,
   "metadata": {},
   "outputs": [],
   "source": [
    "nstep = 5000\n",
    "\n",
    "y = np.zeros(int(xlen/dx)) # cone cell output\n",
    "z = np.zeros(int(xlen/dx)) # horizontal cell output\n",
    "ry = np.convolve(y,KH,'same')# feedback from horizontal cell (y convoluted with horitonatl cell receptive field KH)\n",
    "rz = np.convolve(z,KH,'same')# feedback from horizontal cell (z convoluted with horitonatl cell receptive field KH)\n",
    "\n",
    "\n",
    "\n",
    "stm = np.zeros([int(xlen/dx),nstep])#input\n",
    "rsp = np.zeros([int(xlen/dx),nstep])#y output\n",
    "zts = np.zeros([int(xlen/dx),nstep])#horizontal\n",
    "\n",
    "x = np.random.randn(nstep+99)*0.3+1\n",
    "T = np.arange(100)*dt\n",
    "tau_y = 0.02\n",
    "Ky=T/tau_y/tau_y*np.exp(-T/tau_y)\n",
    "sx = np.convolve(x,Ky,'valid')*dt\n",
    "\n",
    "for i in range(nstep):\n",
    "    s = np.ones(int(xlen/dx))*sx[i]\n",
    "    rs = np.convolve(s,KC,'same')*dx\n",
    "    \n",
    "    dyj =(-alpha*y+k*(rs-phi*rz))*dt\n",
    "    dzj =(-beta*z+g*y)*dt\n",
    "    y = (y+dyj)\n",
    "    z = (z+dzj)\n",
    "\n",
    "    ry = np.convolve(y,KH,'same')# feedback from horizontal cell (y convoluted with horitonatl cell receptive field KH)\n",
    "    rz = np.convolve(z,KH,'same')# feedback from horizontal cell (z convoluted with horitonatl cell receptive field KH)\n",
    "\n",
    "    stm[:,i] = s\n",
    "    rsp[:,i] = y\n",
    "    zts[:,i] = z\n",
    "    "
   ]
  },
  {
   "cell_type": "code",
   "execution_count": null,
   "metadata": {},
   "outputs": [],
   "source": [
    "#####PLot numerical solution########\n",
    "plt.plot(tempx,y,'b')#numerical solution\n",
    "plt.plot(tempx,-z,'r')#numerical solution"
   ]
  },
  {
   "cell_type": "code",
   "execution_count": null,
   "metadata": {},
   "outputs": [],
   "source": [
    "output = rsp[int(xlen/dx/2),:]\n",
    "time, xSTA = STA(output, x[99:], dt, [-0.5,0.25])\n",
    "plt.plot(time, xSTA)\n",
    "plt.title('temporal filter')\n",
    "plt.grid()"
   ]
  },
  {
   "cell_type": "markdown",
   "metadata": {},
   "source": [
    "## A Smooth Constant speed Moving Bar"
   ]
  },
  {
   "cell_type": "code",
   "execution_count": null,
   "metadata": {},
   "outputs": [],
   "source": [
    "nstep = 1600\n",
    "moving_bar = np.zeros([nstep, int(xlen/dx)])\n",
    "pos = 0\n",
    "v = 0.5 #dx/step\n",
    "hw = 10 #dx\n",
    "pos = 600\n",
    "speak = np.zeros(nstep)\n",
    "for i in range(nstep):\n",
    "    pos = pos+v\n",
    "    moving_bar[i,max(int(pos-hw), 0):min(int(pos+hw), int(xlen/dx))] = 1\n",
    "    speak[i] = pos*dt"
   ]
  },
  {
   "cell_type": "code",
   "execution_count": null,
   "metadata": {},
   "outputs": [],
   "source": [
    "y = np.zeros(int(xlen/dx)) # cone cell output\n",
    "z = np.zeros(int(xlen/dx)) # horizontal cell output\n",
    "ry = np.convolve(y,KH,'same')# feedback from horizontal cell (y convoluted with horitonatl cell receptive field KH)\n",
    "rz = np.convolve(z,KH,'same')# feedback from horizontal cell (z convoluted with horitonatl cell receptive field KH)\n",
    "\n",
    "sstm = np.zeros([nstep,int(xlen/dx)])#smoothed input\n",
    "rsp = np.zeros([int(xlen/dx),nstep])#y output\n",
    "zts = np.zeros([int(xlen/dx),nstep])#horizontal\n",
    "rpeak = np.zeros(nstep)\n",
    "\n",
    "for j in range(0, int(xlen/dx)):\n",
    "    for i in range(len(Ky)-1):\n",
    "        for ii in range(i):\n",
    "            sstm[i,j] += moving_bar[ii,j]*Ky[i-ii]*dt\n",
    "\n",
    "    sx = np.convolve(moving_bar[:,j],Ky,'valid')*dt\n",
    "    sstm[99:,j] = sx.copy()\n",
    "\n",
    "for i in range(nstep):\n",
    "    s = sstm[i,:]\n",
    "    rs = np.convolve(s,KC,'same')*dx\n",
    "    dyj =(-alpha*y+k*(rs-phi*rz))*dt\n",
    "    dzj =(-beta*z+g*y)*dt\n",
    "    y = (y+dyj)\n",
    "    z = (z+dzj)\n",
    "\n",
    "    ry = np.convolve(y,KH,'same')# feedback from horizontal cell (y convoluted with horitonatl cell receptive field KH)\n",
    "    rz = np.convolve(z,KH,'same')# feedback from horizontal cell (z convoluted with horitonatl cell receptive field KH)\n",
    "    \n",
    "    maxpos = np.argmax(y)\n",
    "    rpeak[i]= maxpos*dx\n",
    "    rsp[:,i] = y\n",
    "    zts[:,i] = z"
   ]
  },
  {
   "cell_type": "code",
   "execution_count": null,
   "metadata": {},
   "outputs": [],
   "source": [
    "#####PLot numerical solution########\n",
    "plt.plot(tempx,y,'b')#numerical solution\n",
    "plt.plot(tempx,-z,'r')#numerical solution"
   ]
  },
  {
   "cell_type": "code",
   "execution_count": null,
   "metadata": {
    "scrolled": true
   },
   "outputs": [],
   "source": [
    "fig, (ax2, ax3) = plt.subplots(nrows=1, ncols=2) \n",
    "ax2.imshow(moving_bar)\n",
    "ax2.set_title('moving_bar')\n",
    "ax3.imshow(rsp.T)\n",
    "sbs_y = rsp.T\n",
    "ax3.set_title('step by step output')\n",
    "fig.set_size_inches(15, 5)"
   ]
  },
  {
   "cell_type": "code",
   "execution_count": null,
   "metadata": {},
   "outputs": [],
   "source": [
    "plt.plot(((rpeak-speak)/dx)[1:])\n",
    "# plt.xlim([100,nstep])\n",
    "# plt.ylim([-hw,+hw])\n",
    "plt.title('prediction')"
   ]
  },
  {
   "cell_type": "markdown",
   "metadata": {},
   "source": [
    "## spatial-temporal Checker "
   ]
  },
  {
   "cell_type": "code",
   "execution_count": null,
   "metadata": {},
   "outputs": [],
   "source": [
    "nstep = 500000\n",
    "\n",
    "y = np.zeros(int(xlen/dx)) # cone cell output\n",
    "z = np.zeros(int(xlen/dx)) # horizontal cell output\n",
    "ry = np.convolve(y,KH,'same')# feedback from horizontal cell (y convoluted with horitonatl cell receptive field KH)\n",
    "rz = np.convolve(z,KH,'same')# feedback from horizontal cell (z convoluted with horitonatl cell receptive field KH)\n",
    "\n",
    "stm = np.zeros([int(xlen/dx),nstep])#input\n",
    "sstm = np.zeros([int(xlen/dx),nstep])#smoothed input\n",
    "rsp = np.zeros([int(xlen/dx),nstep])#y output\n",
    "# zts = np.zeros([int(xlen/dx),nstep])#horizontal\n",
    "\n",
    "\n",
    "for j in range(0, int(xlen/dx)):\n",
    "    x = np.random.randn(nstep+99)*0.3+1\n",
    "    stm[j,:] = x[99:].copy()\n",
    "    sx = np.convolve(x,Ky,'valid')*dt\n",
    "    sstm[j,:] = sx.copy()\n",
    "\n",
    "for i in range(nstep):\n",
    "    s = sstm[:,i]\n",
    "    rs = np.convolve(s,KC,'same')*dx\n",
    "    \n",
    "    dyj =(-alpha*y+k*(rs-phi*rz))*dt\n",
    "    dzj =(-beta*z+g*y)*dt\n",
    "    y = (y+dyj)\n",
    "    z = (z+dzj)\n",
    "\n",
    "    ry = np.convolve(y,KH,'same')# feedback from horizontal cell (y convoluted with horitonatl cell receptive field KH)\n",
    "    rz = np.convolve(z,KH,'same')# feedback from horizontal cell (z convoluted with horitonatl cell receptive field KH)\n",
    "    \n",
    "    rsp[:,i] = y\n",
    "#     zts[:,i] = z"
   ]
  },
  {
   "cell_type": "code",
   "execution_count": null,
   "metadata": {},
   "outputs": [],
   "source": [
    "#####PLot numerical solution########\n",
    "plt.plot(tempx,y,'b')#numerical solution\n",
    "plt.plot(tempx,-z,'r')#numerical solution"
   ]
  },
  {
   "cell_type": "code",
   "execution_count": null,
   "metadata": {},
   "outputs": [],
   "source": [
    "output = rsp[int(xlen/dx/2),:]\n",
    "time, xSTA = STA(output, stm[0,:], dt, [-0.4,0.25])\n",
    "test = xSTA[:, np.newaxis]\n",
    "for j in range(1, int(xlen/dx)):\n",
    "    _, xSTA = STA(output, stm[j,:], dt, [-0.4,0.25])\n",
    "    test = np.concatenate((test, xSTA[:, np.newaxis]), axis=1)"
   ]
  },
  {
   "cell_type": "code",
   "execution_count": null,
   "metadata": {},
   "outputs": [],
   "source": [
    "fig, ax = plt.subplots(1,1)\n",
    "ax.imshow(test[:,750:1250])\n",
    "ax.set_ylabel('time after spike')\n",
    "ax.set_yticks(np.arange(5,50,10))\n",
    "ax.set_yticklabels(['-0.2','-0.1','0','1','2'])\n",
    "# ax.set_xticks(np.arange(300,701,100))\n",
    "# ax.set_xticklabels(['-200','-100','0','100','200'])\n",
    "# ax.set_xlabel('distance from the cell')\n",
    "# ax.set_xlim([300, 701])\n",
    "fig.set_size_inches(20, 5)"
   ]
  },
  {
   "cell_type": "markdown",
   "metadata": {},
   "source": [
    "choose center cell and a certain time before spike"
   ]
  },
  {
   "cell_type": "code",
   "execution_count": null,
   "metadata": {},
   "outputs": [],
   "source": [
    "tbs_i = 39\n",
    "plt.plot(np.convolve((test[tbs_i, :]+np.flip(test[tbs_i, :]))/2,KKK,'valid')*dx)\n",
    "plt.grid()\n",
    "fig = plt.gcf()\n",
    "fig.set_size_inches(15, 5)"
   ]
  },
  {
   "cell_type": "code",
   "execution_count": null,
   "metadata": {},
   "outputs": [],
   "source": [
    "ST_kernel = []\n",
    "for i in np.arange(15,41):\n",
    "    ST_kernel.append(np.convolve((test[i, :]+np.flip(test[i, :]))/2,KKK,'valid')*dx)\n",
    "ST_kernel = np.array(ST_kernel)\n",
    "ST_kernel = np.flipud(ST_kernel)-1"
   ]
  },
  {
   "cell_type": "code",
   "execution_count": null,
   "metadata": {},
   "outputs": [],
   "source": [
    "plt.imshow(ST_kernel[:,400:1000])\n",
    "fig = plt.gcf()\n",
    "fig.set_size_inches(20, 5)"
   ]
  },
  {
   "cell_type": "markdown",
   "metadata": {},
   "source": [
    "## Simply apply spatial-temporal kernel on moving bar"
   ]
  },
  {
   "cell_type": "code",
   "execution_count": null,
   "metadata": {},
   "outputs": [],
   "source": [
    "tic = toc.time()\n",
    "nstep = 1600\n",
    "mb_y = np.zeros([nstep, int(xlen/dx)])\n",
    "for i in range(nstep):\n",
    "    for ii in np.arange(max(i-np.shape(ST_kernel)[0]+1, 0), i+1):\n",
    "        mb_y[i,:] += np.convolve(moving_bar[ii,:],ST_kernel[i-ii, :], 'same')\n",
    "toc.time()-tic"
   ]
  },
  {
   "cell_type": "code",
   "execution_count": null,
   "metadata": {},
   "outputs": [],
   "source": [
    "# STK = np.concatenate((np.zeros_like(ST_kernel),ST_kernel), axis = 0)\n",
    "# np.shape(STK)\n",
    "# tic = toc.time()\n",
    "# nstep = 1600\n",
    "# con2d_y = signal.convolve2d(moving_bar, STK,  mode='same')\n",
    "# print(toc.time()-tic)\n",
    "# plt.imshow(con2d_y)"
   ]
  },
  {
   "cell_type": "code",
   "execution_count": null,
   "metadata": {},
   "outputs": [],
   "source": [
    "fig, (ax2, ax3, ax4) = plt.subplots(nrows=1, ncols=3) \n",
    "ax2.imshow(moving_bar)\n",
    "ax2.set_title('moving_bar')\n",
    "ax3.imshow(sbs_y)\n",
    "ax3.set_title('step by step output')\n",
    "ax4.imshow(mb_y)\n",
    "ax4.set_title('Spatial-Temporal-Fliter output')\n",
    "fig.set_size_inches(15, 5)"
   ]
  },
  {
   "cell_type": "code",
   "execution_count": null,
   "metadata": {},
   "outputs": [],
   "source": [
    "plt.plot(moving_bar[1000,:])\n",
    "plt.plot(sbs_y[1000,:]/max(sbs_y[1000,:]))\n",
    "plt.plot(mb_y[1000,:]/max(mb_y[1000,:]))\n",
    "plt.plot(con2d_y[1000,:]/max(con2d_y[1000,:]))\n",
    "plt.grid()\n",
    "fig = plt.gcf()\n",
    "plt.legend( ('bar pos', 'SbS_y', 'STF_y', 'con2d_y'), loc='best', prop={'size': 'large', 'family': 'monospace'})\n",
    "plt.xlim([750,1500])\n",
    "fig.set_size_inches(15, 5)"
   ]
  },
  {
   "cell_type": "markdown",
   "metadata": {},
   "source": [
    "## Apply SVD on Spatial-Temporal Kernel"
   ]
  },
  {
   "cell_type": "code",
   "execution_count": null,
   "metadata": {},
   "outputs": [],
   "source": [
    "from numpy import linalg as la\n",
    "U,sigma,VT=la.svd(ST_kernel)"
   ]
  },
  {
   "cell_type": "code",
   "execution_count": null,
   "metadata": {},
   "outputs": [],
   "source": [
    "sigma/sum(sigma)"
   ]
  },
  {
   "cell_type": "code",
   "execution_count": null,
   "metadata": {},
   "outputs": [],
   "source": [
    "fig, ((ax2, ax3), (ax4, ax5)) = plt.subplots(nrows=2, ncols=2)\n",
    "ax2.plot(U[:,0])\n",
    "ax2.set_title('SVD1 Temporal Kernel')\n",
    "ax3.plot(VT[0,:])\n",
    "ax3.set_title('SVD1 Spatial Kernel')\n",
    "ax4.plot(U[:,1])\n",
    "ax4.set_title('SVD2 Temporal Kernel')\n",
    "ax5.plot(VT[1,:])\n",
    "ax5.set_title('SVD2 Spatial Kernel')\n",
    "fig.set_size_inches(15, 10)"
   ]
  },
  {
   "cell_type": "code",
   "execution_count": null,
   "metadata": {},
   "outputs": [],
   "source": [
    "cSVD = 1\n",
    "SVD_STkernel = np.matmul(U[:,cSVD][:, np.newaxis], VT[cSVD,:][np.newaxis, :])\n",
    "plt.imshow(SVD_STkernel[:,400:1000])\n",
    "plt.title('SVD'+str(cSVD+1)+'-reconstructed STKernel')\n",
    "fig = plt.gcf()\n",
    "fig.set_size_inches(20, 5)"
   ]
  },
  {
   "cell_type": "code",
   "execution_count": null,
   "metadata": {},
   "outputs": [],
   "source": [
    "nstep = 1600\n",
    "SVD_STK_y = np.zeros([nstep, int(xlen/dx)])\n",
    "for i in range(nstep):\n",
    "    for ii in range(i):\n",
    "        if (i-ii) < np.shape(ST_kernel)[0]:\n",
    "            SVD_STK_y[i,:] += np.convolve(moving_bar[ii,:],SVD_STkernel[i-ii, :], 'same')"
   ]
  },
  {
   "cell_type": "code",
   "execution_count": null,
   "metadata": {},
   "outputs": [],
   "source": [
    "plt.imshow(SVD_STK_y)"
   ]
  },
  {
   "cell_type": "code",
   "execution_count": null,
   "metadata": {},
   "outputs": [],
   "source": [
    "plt.plot(moving_bar[1000,:])\n",
    "plt.plot(sbs_y[1000,:]/max(sbs_y[1000,:]))\n",
    "plt.plot(mb_y[1000,:]/max(mb_y[1000,:]))\n",
    "plt.plot(SVD_STK_y[1000,:]/max(SVD_STK_y[1000,:]))\n",
    "plt.grid()\n",
    "fig = plt.gcf()\n",
    "plt.legend( ('bar pos', 'SbS_y', 'STF_y', 'SVD_STF_y'), loc='best', prop={'size': 'large', 'family': 'monospace'})\n",
    "plt.xlim([750,1500])\n",
    "fig.set_size_inches(15, 5)"
   ]
  },
  {
   "cell_type": "code",
   "execution_count": null,
   "metadata": {},
   "outputs": [],
   "source": []
  }
 ],
 "metadata": {
  "kernelspec": {
   "display_name": "Python 3",
   "language": "python",
   "name": "python3"
  },
  "language_info": {
   "codemirror_mode": {
    "name": "ipython",
    "version": 3
   },
   "file_extension": ".py",
   "mimetype": "text/x-python",
   "name": "python",
   "nbconvert_exporter": "python",
   "pygments_lexer": "ipython3",
   "version": "3.7.6"
  }
 },
 "nbformat": 4,
 "nbformat_minor": 2
}
