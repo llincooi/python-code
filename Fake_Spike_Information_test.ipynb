{
 "cells": [
  {
   "cell_type": "code",
   "execution_count": 1,
   "metadata": {},
   "outputs": [],
   "source": [
    "import numpy as np\n",
    "import matplotlib.pyplot as plt\n",
    "import math\n",
    "from scipy import signal\n",
    "from scipy.fftpack import fft\n",
    "from scipy import ndimage\n",
    "%matplotlib inline"
   ]
  },
  {
   "cell_type": "code",
   "execution_count": 2,
   "metadata": {},
   "outputs": [],
   "source": [
    "## EqualState assign states with equal possibility for input array x\n",
    "def EqualState(x, num_state):\n",
    "    xs=np.sort(x)\n",
    "    binlen=int(len(x)/num_state-0.5) #round\n",
    "    edges = xs[np.arange(num_state)*binlen]\n",
    "    xstate=np.zeros(len(x))\n",
    "    for i in range(num_state):\n",
    "        xstate[x>=edges[i]] = i\n",
    "    xstate = xstate.astype(int)\n",
    "    return xstate"
   ]
  },
  {
   "cell_type": "code",
   "execution_count": 116,
   "metadata": {},
   "outputs": [],
   "source": [
    "## PIfunc that calculate Unique, Synergy and Redundancy of three unsymmetric varibles\n",
    "def PIfunc(r, x, v, dt, window):\n",
    "    joint = (max(v)+1)*x+v\n",
    "    negshift=window[0] # second\n",
    "    posshift=window[1] # second\n",
    "    shiftlen=(posshift-negshift)/dt+1\n",
    "    timeshift=np.linspace(negshift,posshift,int(shiftlen))\n",
    "    bitshift=np.linspace(negshift/dt,posshift/dt,int(shiftlen),dtype = 'int8')\n",
    "    # shifted data\n",
    "    # shift>0 => y shifted to positive side\n",
    "    MIx=np.zeros(len(bitshift))\n",
    "    MIv=np.zeros(len(bitshift))\n",
    "    Redun =np.zeros(len(bitshift))\n",
    "    MIjoint =np.zeros(len(bitshift))\n",
    "    for i in range(len(bitshift)):\n",
    "        xx=[]\n",
    "        vv=[]\n",
    "        jj=[]\n",
    "        rr=[]\n",
    "        shift=bitshift[i]\n",
    "        if shift>0:\n",
    "            xx=x[shift:]\n",
    "            vv=v[shift:]\n",
    "            jj = joint[shift:]\n",
    "            rr=r[:-shift]\n",
    "        elif shift==0:\n",
    "            xx=x\n",
    "            vv=v\n",
    "            jj = joint\n",
    "            rr=r\n",
    "        elif shift<0:\n",
    "            xx=x[:shift]\n",
    "            vv=v[:shift]\n",
    "            jj = joint[:shift]\n",
    "            rr=r[-shift:]\n",
    "#         Nxr, xedges, yedges = np.histogram2d(xx, rr, bins=(np.append(np.unique(xx),(max(xx)+1)),np.append(np.unique(rr),(max(rr)+1))), density = True)\n",
    "#         Nvr, xedges, yedges = np.histogram2d(vv, rr, bins=(np.append(np.unique(vv),(max(vv)+1)),np.append(np.unique(rr),(max(rr)+1))), density = True)\n",
    "#         Njr, xedges, yedges = np.histogram2d(jj, rr, bins=(np.append(np.unique(jj),(max(jj)+1)),np.append(np.unique(rr),(max(rr)+1))), density = True)\n",
    "#         px=np.sum(Nxr,axis=1)/np.sum(Nxr)\n",
    "#         pv=np.sum(Nvr,axis=1)/np.sum(Nvr)\n",
    "#         pj=np.sum(Njr,axis=1)/np.sum(Njr)\n",
    "#         pr=np.sum(Nxr,axis=0)/np.sum(Nxr)\n",
    "#         pxr=Nxr/np.sum(Nxr)\n",
    "#         pvr=Nvr/np.sum(Nvr)\n",
    "#         pjr=Njr/np.sum(Njr)\n",
    "        \n",
    "        pxr, xedges, yedges = np.histogram2d(xx, rr, bins=(np.append(np.unique(xx),(max(xx)+1)),np.append(np.unique(rr),(max(rr)+1))), density = True)\n",
    "        pvr, xedges, yedges = np.histogram2d(vv, rr, bins=(np.append(np.unique(vv),(max(vv)+1)),np.append(np.unique(rr),(max(rr)+1))), density = True)\n",
    "        pjr, xedges, yedges = np.histogram2d(jj, rr, bins=(np.append(np.unique(jj),(max(jj)+1)),np.append(np.unique(rr),(max(rr)+1))), density = True)\n",
    "        px=np.sum(pxr,axis=1)\n",
    "        pv=np.sum(pvr,axis=1)\n",
    "        pj=np.sum(pjr,axis=1)\n",
    "        pj, xedges, yedges = np.histogram2d(xx, vv, bins=(np.append(np.unique(xx),(max(xx)+1)),np.append(np.unique(vv),(max(vv)+1))), density = True)\n",
    "        pj = pj.reshape(1,-1)\n",
    "        pj = pj[np.where(pj)]\n",
    "        pr=np.sum(pxr,axis=0)\n",
    "        \n",
    "        MIx[i]=np.nansum(pxr*np.log2(pxr/px.reshape(-1,1)/pr))/dt\n",
    "        MIv[i]=np.nansum(pvr*np.log2(pvr/pv.reshape(-1,1)/pr))/dt\n",
    "        MIjoint[i]=np.nansum(pjr*np.log2(pjr/pj.reshape(-1,1)/pr))/dt\n",
    "        \n",
    "        PI_rX = np.nansum(pxr*np.log2(pxr/px.reshape(-1,1)/pr), axis = 0)\n",
    "        PI_rV = np.nansum(pvr*np.log2(pvr/pv.reshape(-1,1)/pr), axis = 0)\n",
    "        Redun[i] = sum(np.minimum(PI_rX, PI_rV))/dt\n",
    "    return timeshift, MIx, MIv, MIjoint, Redun"
   ]
  },
  {
   "cell_type": "code",
   "execution_count": 117,
   "metadata": {},
   "outputs": [],
   "source": [
    "def  Shannon_entropy(serie):\n",
    "    N , bin_edges = np.histogram(serie, bins=(np.append(np.unique(serie),(max(serie)+1))))\n",
    "    p = N/np.sum(N)\n",
    "    H = np.nansum(-1*p*np.log2(p))\n",
    "    return H"
   ]
  },
  {
   "cell_type": "code",
   "execution_count": 118,
   "metadata": {},
   "outputs": [],
   "source": [
    "#main\n",
    "# OU ; input\n",
    "Tot=300\n",
    "dt=0.01\n",
    "T=np.arange(dt,Tot,dt)\n",
    "tau=1\n",
    "D = 4\n",
    "L=np.zeros(len(T))\n",
    "mu, sigma = 0, 1\n",
    "for i in range(len(T)-1):\n",
    "    L[i+1]=L[i]*(0.5-dt/tau)+math.sqrt(D*dt)*np.random.normal(mu,sigma)\n",
    "    \n",
    "# filtering for OUSmoothed\n",
    "cutoffFreq = 0.5\n",
    "b, a = signal.butter(2, 2*cutoffFreq*dt, btype='low', analog=False)\n",
    "x = signal.filtfilt(b, a, L)\n",
    "#v = ndimage.gaussian_filter1d(x, sigma=1, order=1, mode='wrap') / dt\n",
    "v = np.diff(x)/dt\n",
    "x=x[1:]\n",
    "v=v[0:] #cut ends.  V(n) = X(n) -X(n-1)\n",
    "T=T[1:]"
   ]
  },
  {
   "cell_type": "code",
   "execution_count": 119,
   "metadata": {},
   "outputs": [
    {
     "data": {
      "image/png": "[encoded data removed]",
      "text/plain": [
       "<Figure size 432x288 with 1 Axes>"
      ]
     },
     "metadata": {
      "needs_background": "light"
     },
     "output_type": "display_data"
    }
   ],
   "source": [
    "##response\n",
    "# Model one: simple estimation\n",
    "deltaT = 0.5\n",
    "r1 = x+v*deltaT\n",
    "\n",
    "# Model Two: negative group delay\n",
    "#following paremeters match x+v*0.5s\n",
    "alpha = 60.\n",
    "beta =  2\n",
    "K = 30.\n",
    "g = 30.\n",
    "#following paremeters match x+v*2s\n",
    "# alpha = 19.9\n",
    "# beta =  0.62\n",
    "# K = 10\n",
    "# g = 30\n",
    "y=np.zeros(len(T))\n",
    "z=np.zeros(len(T))\n",
    "for j in range(len(T)-1):\n",
    "    dy=dt*(-alpha*y[j]+K*(x[j]-z[j]))\n",
    "    dz=dt*(-beta*z[j]+g*y[j])\n",
    "    y[j+1]=y[j]+dy\n",
    "    z[j+1]=z[j]+dz\n",
    "\n",
    "y= y/np.std(y)\n",
    "r1= r1/np.std(r1)\n",
    "plt.plot(T,y)\n",
    "plt.plot(T,r1)\n",
    "plt.xlim(160,203)\n",
    "    \n",
    "#Chose which one to be response\n",
    "r = r1"
   ]
  },
  {
   "cell_type": "code",
   "execution_count": 120,
   "metadata": {},
   "outputs": [],
   "source": [
    "#assign states\n",
    "edges = np.append(min(r), np.array([np.std(r),2*np.std(r),3*np.std(r)])+np.mean(r));\n",
    "rstate=np.zeros(len(r))\n",
    "for i in range(4):\n",
    "    rstate[r>=edges[i]] = i\n",
    "rstate = rstate.astype(int)\n",
    "xstate = EqualState(x, 6)\n",
    "vstate = EqualState(v, 6)"
   ]
  },
  {
   "cell_type": "code",
   "execution_count": 121,
   "metadata": {},
   "outputs": [
    {
     "name": "stdout",
     "output_type": "stream",
     "text": [
      "[-13.65957956]\n",
      "[49.57271087]\n",
      "[15.97157273]\n"
     ]
    },
    {
     "name": "stderr",
     "output_type": "stream",
     "text": [
      "C:\\Users\\llinc\\anaconda3\\lib\\site-packages\\ipykernel_launcher.py:58: RuntimeWarning: divide by zero encountered in log2\n",
      "C:\\Users\\llinc\\anaconda3\\lib\\site-packages\\ipykernel_launcher.py:58: RuntimeWarning: invalid value encountered in multiply\n",
      "C:\\Users\\llinc\\anaconda3\\lib\\site-packages\\ipykernel_launcher.py:59: RuntimeWarning: divide by zero encountered in log2\n",
      "C:\\Users\\llinc\\anaconda3\\lib\\site-packages\\ipykernel_launcher.py:59: RuntimeWarning: invalid value encountered in multiply\n",
      "C:\\Users\\llinc\\anaconda3\\lib\\site-packages\\ipykernel_launcher.py:60: RuntimeWarning: divide by zero encountered in log2\n",
      "C:\\Users\\llinc\\anaconda3\\lib\\site-packages\\ipykernel_launcher.py:60: RuntimeWarning: invalid value encountered in multiply\n",
      "C:\\Users\\llinc\\anaconda3\\lib\\site-packages\\ipykernel_launcher.py:62: RuntimeWarning: divide by zero encountered in log2\n",
      "C:\\Users\\llinc\\anaconda3\\lib\\site-packages\\ipykernel_launcher.py:62: RuntimeWarning: invalid value encountered in multiply\n",
      "C:\\Users\\llinc\\anaconda3\\lib\\site-packages\\ipykernel_launcher.py:63: RuntimeWarning: divide by zero encountered in log2\n",
      "C:\\Users\\llinc\\anaconda3\\lib\\site-packages\\ipykernel_launcher.py:63: RuntimeWarning: invalid value encountered in multiply\n"
     ]
    }
   ],
   "source": [
    "#calculate information\n",
    "window = [0,0] # second\n",
    "timeshift, MI1, MI2, MIjoint, Redun = PIfunc(rstate, xstate, vstate, dt, window)\n",
    "I3 = -(MIjoint-MI1-MI2)\n",
    "print(I3)\n",
    "print(MIjoint)\n",
    "print(Redun)"
   ]
  },
  {
   "cell_type": "code",
   "execution_count": 122,
   "metadata": {},
   "outputs": [
    {
     "name": "stdout",
     "output_type": "stream",
     "text": [
      "[-5.58774715]\n",
      "[26.12816118]\n",
      "[0.59885546]\n"
     ]
    },
    {
     "name": "stderr",
     "output_type": "stream",
     "text": [
      "C:\\Users\\llinc\\anaconda3\\lib\\site-packages\\ipykernel_launcher.py:58: RuntimeWarning: divide by zero encountered in log2\n",
      "C:\\Users\\llinc\\anaconda3\\lib\\site-packages\\ipykernel_launcher.py:58: RuntimeWarning: invalid value encountered in multiply\n",
      "C:\\Users\\llinc\\anaconda3\\lib\\site-packages\\ipykernel_launcher.py:60: RuntimeWarning: divide by zero encountered in log2\n",
      "C:\\Users\\llinc\\anaconda3\\lib\\site-packages\\ipykernel_launcher.py:60: RuntimeWarning: invalid value encountered in multiply\n",
      "C:\\Users\\llinc\\anaconda3\\lib\\site-packages\\ipykernel_launcher.py:62: RuntimeWarning: divide by zero encountered in log2\n",
      "C:\\Users\\llinc\\anaconda3\\lib\\site-packages\\ipykernel_launcher.py:62: RuntimeWarning: invalid value encountered in multiply\n"
     ]
    }
   ],
   "source": [
    "#calculate information\n",
    "window = [0,0] # second\n",
    "timeshift, MI1, MI2, MIjoint, Redun = PIfunc(xstate, rstate, vstate, dt, window)\n",
    "I3 = -(MIjoint-MI1-MI2)\n",
    "print(I3)\n",
    "print(MIjoint)\n",
    "print(Redun)"
   ]
  },
  {
   "cell_type": "code",
   "execution_count": 123,
   "metadata": {},
   "outputs": [
    {
     "name": "stdout",
     "output_type": "stream",
     "text": [
      "[-4.49234965]\n",
      "[21.06277785]\n",
      "[0.59885546]\n"
     ]
    },
    {
     "name": "stderr",
     "output_type": "stream",
     "text": [
      "C:\\Users\\llinc\\anaconda3\\lib\\site-packages\\ipykernel_launcher.py:58: RuntimeWarning: divide by zero encountered in log2\n",
      "C:\\Users\\llinc\\anaconda3\\lib\\site-packages\\ipykernel_launcher.py:58: RuntimeWarning: invalid value encountered in multiply\n",
      "C:\\Users\\llinc\\anaconda3\\lib\\site-packages\\ipykernel_launcher.py:60: RuntimeWarning: divide by zero encountered in log2\n",
      "C:\\Users\\llinc\\anaconda3\\lib\\site-packages\\ipykernel_launcher.py:60: RuntimeWarning: invalid value encountered in multiply\n",
      "C:\\Users\\llinc\\anaconda3\\lib\\site-packages\\ipykernel_launcher.py:62: RuntimeWarning: divide by zero encountered in log2\n",
      "C:\\Users\\llinc\\anaconda3\\lib\\site-packages\\ipykernel_launcher.py:62: RuntimeWarning: invalid value encountered in multiply\n"
     ]
    }
   ],
   "source": [
    "#calculate information\n",
    "window = [0,0] # second\n",
    "timeshift, MI1, MI2, MIjoint, Redun = PIfunc(vstate, rstate, xstate, dt, window)\n",
    "I3 = -(MIjoint-MI1-MI2)\n",
    "print(I3)\n",
    "print(MIjoint)\n",
    "print(Redun)"
   ]
  },
  {
   "cell_type": "code",
   "execution_count": 53,
   "metadata": {},
   "outputs": [
    {
     "data": {
      "text/plain": [
       "range(0, 0)"
      ]
     },
     "execution_count": 53,
     "metadata": {},
     "output_type": "execute_result"
    }
   ],
   "source": [
    "range(0)"
   ]
  },
  {
   "cell_type": "code",
   "execution_count": 98,
   "metadata": {},
   "outputs": [],
   "source": [
    "xx = xstate\n",
    "vv = vstate\n",
    "rr = rstate\n",
    "xv = (max(vv)+1)*xx+vv\n",
    "xr = (max(rr)+1)*xx+rr\n",
    "vr = (max(vv)+1)*rr+vv\n",
    "pxr, xedges, yedges = np.histogram2d(xx, rr, bins=(np.append(np.unique(xx),(max(xx)+1)),np.append(np.unique(rr),(max(rr)+1))), density = True)\n",
    "pvr, xedges, yedges = np.histogram2d(vv, rr, bins=(np.append(np.unique(vv),(max(vv)+1)),np.append(np.unique(rr),(max(rr)+1))), density = True)\n",
    "pxv, xedges, yedges = np.histogram2d(xx, vv, bins=(np.append(np.unique(xx),(max(xx)+1)),np.append(np.unique(vv),(max(vv)+1))), density = True)\n",
    "\n",
    "prxv, xedges, yedges = np.histogram2d(xv, rr, bins=(np.append(np.unique(xv),(max(xv)+1)),np.append(np.unique(rr),(max(rr)+1))), density = True)\n",
    "pxvr, xedges, yedges = np.histogram2d(vr, xx, bins=(np.append(np.unique(vr),(max(vr)+1)),np.append(np.unique(xx),(max(xx)+1))), density = True)\n",
    "pvxr, xedges, yedges = np.histogram2d(xr, vv, bins=(np.append(np.unique(xr),(max(xr)+1)),np.append(np.unique(vv),(max(vv)+1))), density = True)"
   ]
  },
  {
   "cell_type": "code",
   "execution_count": 99,
   "metadata": {},
   "outputs": [],
   "source": [
    "px=np.sum(pxr,axis=1)\n",
    "pv=np.sum(pvr,axis=1)\n",
    "pr=np.sum(pxr,axis=0)\n",
    "\n",
    "P_xv=np.sum(prxv,axis=1)\n",
    "P_vr=np.sum(pxvr,axis=1)\n",
    "P_xr=np.sum(pvxr,axis=1)"
   ]
  },
  {
   "cell_type": "code",
   "execution_count": 100,
   "metadata": {},
   "outputs": [
    {
     "name": "stderr",
     "output_type": "stream",
     "text": [
      "C:\\Users\\llinc\\anaconda3\\lib\\site-packages\\ipykernel_launcher.py:1: RuntimeWarning: divide by zero encountered in log2\n",
      "  \"\"\"Entry point for launching an IPython kernel.\n",
      "C:\\Users\\llinc\\anaconda3\\lib\\site-packages\\ipykernel_launcher.py:1: RuntimeWarning: invalid value encountered in multiply\n",
      "  \"\"\"Entry point for launching an IPython kernel.\n",
      "C:\\Users\\llinc\\anaconda3\\lib\\site-packages\\ipykernel_launcher.py:2: RuntimeWarning: divide by zero encountered in log2\n",
      "  \n",
      "C:\\Users\\llinc\\anaconda3\\lib\\site-packages\\ipykernel_launcher.py:2: RuntimeWarning: invalid value encountered in multiply\n",
      "  \n"
     ]
    }
   ],
   "source": [
    "MIxr=np.nansum(pxr*np.log2(pxr/px.reshape(-1,1)/pr))/dt\n",
    "MIvr=np.nansum(pvr*np.log2(pvr/pv.reshape(-1,1)/pr))/dt\n",
    "MIxv=np.nansum(pxv*np.log2(pxv/px.reshape(-1,1)/pv))/dt"
   ]
  },
  {
   "cell_type": "code",
   "execution_count": 101,
   "metadata": {},
   "outputs": [
    {
     "name": "stderr",
     "output_type": "stream",
     "text": [
      "C:\\Users\\llinc\\anaconda3\\lib\\site-packages\\ipykernel_launcher.py:1: RuntimeWarning: divide by zero encountered in log2\n",
      "  \"\"\"Entry point for launching an IPython kernel.\n",
      "C:\\Users\\llinc\\anaconda3\\lib\\site-packages\\ipykernel_launcher.py:1: RuntimeWarning: invalid value encountered in multiply\n",
      "  \"\"\"Entry point for launching an IPython kernel.\n",
      "C:\\Users\\llinc\\anaconda3\\lib\\site-packages\\ipykernel_launcher.py:2: RuntimeWarning: divide by zero encountered in log2\n",
      "  \n",
      "C:\\Users\\llinc\\anaconda3\\lib\\site-packages\\ipykernel_launcher.py:2: RuntimeWarning: invalid value encountered in multiply\n",
      "  \n",
      "C:\\Users\\llinc\\anaconda3\\lib\\site-packages\\ipykernel_launcher.py:3: RuntimeWarning: divide by zero encountered in log2\n",
      "  This is separate from the ipykernel package so we can avoid doing imports until\n",
      "C:\\Users\\llinc\\anaconda3\\lib\\site-packages\\ipykernel_launcher.py:3: RuntimeWarning: invalid value encountered in multiply\n",
      "  This is separate from the ipykernel package so we can avoid doing imports until\n"
     ]
    }
   ],
   "source": [
    "MIrxv=np.nansum(prxv*np.log2(prxv/P_xv.reshape(-1,1)/pr))/dt\n",
    "MIxvr=np.nansum(pxvr*np.log2(pxvr/P_vr.reshape(-1,1)/px))/dt\n",
    "MIvxr=np.nansum(pvxr*np.log2(pvxr/P_xr.reshape(-1,1)/pv))/dt"
   ]
  },
  {
   "cell_type": "code",
   "execution_count": 102,
   "metadata": {},
   "outputs": [
    {
     "name": "stderr",
     "output_type": "stream",
     "text": [
      "C:\\Users\\llinc\\anaconda3\\lib\\site-packages\\ipykernel_launcher.py:1: RuntimeWarning: divide by zero encountered in log2\n",
      "  \"\"\"Entry point for launching an IPython kernel.\n",
      "C:\\Users\\llinc\\anaconda3\\lib\\site-packages\\ipykernel_launcher.py:1: RuntimeWarning: invalid value encountered in multiply\n",
      "  \"\"\"Entry point for launching an IPython kernel.\n",
      "C:\\Users\\llinc\\anaconda3\\lib\\site-packages\\ipykernel_launcher.py:2: RuntimeWarning: divide by zero encountered in log2\n",
      "  \n",
      "C:\\Users\\llinc\\anaconda3\\lib\\site-packages\\ipykernel_launcher.py:2: RuntimeWarning: invalid value encountered in multiply\n",
      "  \n"
     ]
    }
   ],
   "source": [
    "PI_rX = np.nansum(pxr*np.log2(pxr/px.reshape(-1,1)/pr), axis = 0)\n",
    "PI_rV = np.nansum(pvr*np.log2(pvr/pv.reshape(-1,1)/pr), axis = 0)\n",
    "Redun_rXV = sum(np.minimum(PI_rX, PI_rV))/dt"
   ]
  },
  {
   "cell_type": "code",
   "execution_count": 103,
   "metadata": {},
   "outputs": [
    {
     "name": "stderr",
     "output_type": "stream",
     "text": [
      "C:\\Users\\llinc\\anaconda3\\lib\\site-packages\\ipykernel_launcher.py:1: RuntimeWarning: divide by zero encountered in log2\n",
      "  \"\"\"Entry point for launching an IPython kernel.\n",
      "C:\\Users\\llinc\\anaconda3\\lib\\site-packages\\ipykernel_launcher.py:1: RuntimeWarning: invalid value encountered in multiply\n",
      "  \"\"\"Entry point for launching an IPython kernel.\n"
     ]
    }
   ],
   "source": [
    "PI_xR = np.nansum(pxr*np.log2(pxr/px.reshape(-1,1)/pr), axis = 1)\n",
    "PI_xV = np.nansum(pxv*np.log2(pxv/px.reshape(-1,1)/pv), axis = 1)\n",
    "Redun_xVR = sum(np.minimum(PI_xR, PI_xV))/dt"
   ]
  },
  {
   "cell_type": "code",
   "execution_count": 104,
   "metadata": {},
   "outputs": [
    {
     "name": "stderr",
     "output_type": "stream",
     "text": [
      "C:\\Users\\llinc\\anaconda3\\lib\\site-packages\\ipykernel_launcher.py:1: RuntimeWarning: divide by zero encountered in log2\n",
      "  \"\"\"Entry point for launching an IPython kernel.\n",
      "C:\\Users\\llinc\\anaconda3\\lib\\site-packages\\ipykernel_launcher.py:1: RuntimeWarning: invalid value encountered in multiply\n",
      "  \"\"\"Entry point for launching an IPython kernel.\n"
     ]
    }
   ],
   "source": [
    "PI_vR = np.nansum(pvr*np.log2(pvr/pv.reshape(-1,1)/pr), axis = 1)\n",
    "PI_vX = np.nansum(pxv*np.log2(pxv/px.reshape(-1,1)/pv), axis = 0)\n",
    "Redun_vXR = sum(np.minimum(PI_vR, PI_vX))/dt"
   ]
  },
  {
   "cell_type": "code",
   "execution_count": 105,
   "metadata": {},
   "outputs": [
    {
     "data": {
      "text/plain": [
       "-13.192421532034473"
      ]
     },
     "execution_count": 105,
     "metadata": {},
     "output_type": "execute_result"
    }
   ],
   "source": [
    "Hx = Shannon_entropy(xx)/dt\n",
    "Hv = Shannon_entropy(vv)/dt\n",
    "Hr = Shannon_entropy(rr)/dt\n",
    "Hxv = Shannon_entropy(xv)/dt\n",
    "Hxr = Shannon_entropy(xr)/dt\n",
    "Hvr = Shannon_entropy(vr)/dt\n",
    "xvr = (max(xv)+1)*rr+xv\n",
    "Hxvr = Shannon_entropy(xvr)/dt\n",
    "Ixvr = Hx+Hv+Hr-(Hxv+Hvr+Hxr)+Hxvr\n",
    "Ixvr"
   ]
  },
  {
   "cell_type": "code",
   "execution_count": 106,
   "metadata": {},
   "outputs": [
    {
     "name": "stdout",
     "output_type": "stream",
     "text": [
      "0.8187815202464768 0.8187815202466027\n",
      "16.584017057547715 16.584017057547726\n",
      "21.269854539602132 21.269854539602136\n"
     ]
    }
   ],
   "source": [
    "print(MIxv, Hx+Hv-Hxv)\n",
    "print(MIvr, Hr+Hv-Hvr)\n",
    "print(MIxr, Hx+Hr-Hxr)"
   ]
  },
  {
   "cell_type": "code",
   "execution_count": 107,
   "metadata": {},
   "outputs": [
    {
     "name": "stdout",
     "output_type": "stream",
     "text": [
      "51.046293129184235 51.046293129184164\n",
      "29.68108449267956 35.281057591883155\n",
      "29.473976054628114 30.595220109828688\n"
     ]
    }
   ],
   "source": [
    "print(MIrxv, Hr+Hxv-Hxvr)\n",
    "print(MIxvr, Hx+Hvr-Hxvr)\n",
    "print(MIvxr, Hv+Hxr-Hxvr)"
   ]
  },
  {
   "cell_type": "code",
   "execution_count": 37,
   "metadata": {},
   "outputs": [
    {
     "name": "stdout",
     "output_type": "stream",
     "text": [
      "16.679530587451996\n",
      "0.715298987125253\n",
      "0.6995636247901538\n"
     ]
    }
   ],
   "source": [
    "print(Redun_rXV)\n",
    "print(Redun_xVR)\n",
    "print(Redun_vXR)"
   ]
  },
  {
   "cell_type": "code",
   "execution_count": 63,
   "metadata": {},
   "outputs": [
    {
     "data": {
      "text/plain": [
       "array([1.66144410e-01, 1.66677779e-04, 1.64577639e-01, 2.00013334e-03,\n",
       "       3.33355557e-05, 1.60477365e-01, 5.93372892e-03, 1.16674445e-04,\n",
       "       1.44676312e-01, 2.13347557e-02, 3.16687779e-04, 1.31208747e-01,\n",
       "       3.22021468e-02, 1.61677445e-03, 7.22048137e-02, 7.67051137e-02,\n",
       "       1.75345023e-02, 3.33355557e-04])"
      ]
     },
     "execution_count": 63,
     "metadata": {},
     "output_type": "execute_result"
    }
   ],
   "source": [
    "P_xr"
   ]
  },
  {
   "cell_type": "code",
   "execution_count": 64,
   "metadata": {},
   "outputs": [
    {
     "data": {
      "text/plain": [
       "array([[1.66144410e-01, 5.00033336e-04, 0.00000000e+00, 0.00000000e+00],\n",
       "       [1.64577639e-01, 2.00013334e-03, 6.66711114e-05, 0.00000000e+00],\n",
       "       [1.60477365e-01, 5.93372892e-03, 2.33348890e-04, 0.00000000e+00],\n",
       "       [1.44676312e-01, 2.13347557e-02, 6.33375558e-04, 0.00000000e+00],\n",
       "       [1.31208747e-01, 3.22021468e-02, 3.23354890e-03, 0.00000000e+00],\n",
       "       [7.22048137e-02, 7.67051137e-02, 1.75345023e-02, 3.33355557e-04]])"
      ]
     },
     "execution_count": 64,
     "metadata": {},
     "output_type": "execute_result"
    }
   ],
   "source": [
    "pxr"
   ]
  },
  {
   "cell_type": "code",
   "execution_count": 74,
   "metadata": {},
   "outputs": [
    {
     "data": {
      "text/plain": [
       "array([1.66144410e-01, 5.00033336e-04, 1.64577639e-01, 2.00013334e-03,\n",
       "       6.66711114e-05, 1.60477365e-01, 5.93372892e-03, 2.33348890e-04,\n",
       "       1.44676312e-01, 2.13347557e-02, 6.33375558e-04, 1.31208747e-01,\n",
       "       3.22021468e-02, 3.23354890e-03, 7.22048137e-02, 7.67051137e-02,\n",
       "       1.75345023e-02, 3.33355557e-04])"
      ]
     },
     "execution_count": 74,
     "metadata": {},
     "output_type": "execute_result"
    }
   ],
   "source": [
    "serie = xr\n",
    "N , bin_edges = np.histogram(serie, bins=(np.append(np.unique(serie),(max(serie)+1))))\n",
    "p = N/np.sum(N)\n",
    "p"
   ]
  },
  {
   "cell_type": "code",
   "execution_count": 75,
   "metadata": {},
   "outputs": [
    {
     "name": "stdout",
     "output_type": "stream",
     "text": [
      "3.1168526700080923 311.6852670008093\n"
     ]
    },
    {
     "name": "stderr",
     "output_type": "stream",
     "text": [
      "C:\\Users\\llinc\\anaconda3\\lib\\site-packages\\ipykernel_launcher.py:1: RuntimeWarning: divide by zero encountered in log2\n",
      "  \"\"\"Entry point for launching an IPython kernel.\n",
      "C:\\Users\\llinc\\anaconda3\\lib\\site-packages\\ipykernel_launcher.py:1: RuntimeWarning: invalid value encountered in multiply\n",
      "  \"\"\"Entry point for launching an IPython kernel.\n"
     ]
    }
   ],
   "source": [
    "print(-np.nansum(pxr*np.log2(pxr)), Hxr)"
   ]
  },
  {
   "cell_type": "code",
   "execution_count": 73,
   "metadata": {},
   "outputs": [
    {
     "data": {
      "text/plain": [
       "array([ 2.77555756e-17, -3.33355557e-04,  0.00000000e+00,  0.00000000e+00,\n",
       "       -3.33355557e-05,  0.00000000e+00,  0.00000000e+00, -1.16674445e-04,\n",
       "        0.00000000e+00,  0.00000000e+00, -3.16687779e-04,  0.00000000e+00,\n",
       "        0.00000000e+00, -1.61677445e-03,  1.38777878e-17,  1.38777878e-17,\n",
       "        0.00000000e+00,  0.00000000e+00])"
      ]
     },
     "execution_count": 73,
     "metadata": {},
     "output_type": "execute_result"
    }
   ],
   "source": [
    "P_xr-p"
   ]
  },
  {
   "cell_type": "code",
   "execution_count": 127,
   "metadata": {},
   "outputs": [
    {
     "name": "stderr",
     "output_type": "stream",
     "text": [
      "C:\\Users\\llinc\\anaconda3\\lib\\site-packages\\ipykernel_launcher.py:1: RuntimeWarning: divide by zero encountered in log2\n",
      "  \"\"\"Entry point for launching an IPython kernel.\n",
      "C:\\Users\\llinc\\anaconda3\\lib\\site-packages\\ipykernel_launcher.py:1: RuntimeWarning: invalid value encountered in double_scalars\n",
      "  \"\"\"Entry point for launching an IPython kernel.\n"
     ]
    },
    {
     "data": {
      "text/plain": [
       "nan"
      ]
     },
     "execution_count": 127,
     "metadata": {},
     "output_type": "execute_result"
    }
   ],
   "source": [
    "0*np.log2(0)"
   ]
  },
  {
   "cell_type": "code",
   "execution_count": 87,
   "metadata": {},
   "outputs": [],
   "source": [
    "pj, xedges, yedges = np.histogram2d(xx, vv, bins=(np.append(np.unique(xx),(max(xx)+1)),np.append(np.unique(vv),(max(vv)+1))), density = True)"
   ]
  },
  {
   "cell_type": "code",
   "execution_count": 89,
   "metadata": {},
   "outputs": [
    {
     "data": {
      "text/plain": [
       "(36, 1)"
      ]
     },
     "execution_count": 89,
     "metadata": {},
     "output_type": "execute_result"
    }
   ],
   "source": [
    "np.shape(pj.reshape(-1,1))"
   ]
  },
  {
   "cell_type": "code",
   "execution_count": 90,
   "metadata": {},
   "outputs": [
    {
     "data": {
      "text/plain": [
       "array([[0.02570171, 0.03126875, 0.02526835, 0.03010201, 0.03050203,\n",
       "        0.02380159],\n",
       "       [0.02670178, 0.02650177, 0.03120208, 0.02886859, 0.02616841,\n",
       "        0.02720181],\n",
       "       [0.02753517, 0.02666844, 0.02983532, 0.02856857, 0.02660177,\n",
       "        0.02743516],\n",
       "       [0.03160211, 0.02876858, 0.02500167, 0.02013468, 0.02813521,\n",
       "        0.0330022 ],\n",
       "       [0.02673512, 0.0264351 , 0.02863524, 0.03380225, 0.02330155,\n",
       "        0.02773518],\n",
       "       [0.02836856, 0.0270018 , 0.02670178, 0.02516834, 0.03193546,\n",
       "        0.02760184]])"
      ]
     },
     "execution_count": 90,
     "metadata": {},
     "output_type": "execute_result"
    }
   ],
   "source": [
    "pj"
   ]
  },
  {
   "cell_type": "code",
   "execution_count": 91,
   "metadata": {},
   "outputs": [
    {
     "data": {
      "text/plain": [
       "array([ 0,  1,  2,  3,  4,  5,  6,  7,  8,  9, 10, 11, 12, 13, 14, 15, 16,\n",
       "       17, 18, 19, 20, 21, 22, 23, 24, 25, 26, 27, 28, 29, 30, 31, 32, 33,\n",
       "       34, 35])"
      ]
     },
     "execution_count": 91,
     "metadata": {},
     "output_type": "execute_result"
    }
   ],
   "source": [
    "np.unique(xv)"
   ]
  },
  {
   "cell_type": "code",
   "execution_count": 94,
   "metadata": {},
   "outputs": [],
   "source": [
    "a = np.array([0, 1, 0, 1,1,1,1,11,1,1,0])\n",
    "a = a[np.where(a)]"
   ]
  },
  {
   "cell_type": "code",
   "execution_count": null,
   "metadata": {},
   "outputs": [],
   "source": []
  }
 ],
 "metadata": {
  "kernelspec": {
   "display_name": "Python 3",
   "language": "python",
   "name": "python3"
  },
  "language_info": {
   "codemirror_mode": {
    "name": "ipython",
    "version": 3
   },
   "file_extension": ".py",
   "mimetype": "text/x-python",
   "name": "python",
   "nbconvert_exporter": "python",
   "pygments_lexer": "ipython3",
   "version": "3.7.6"
  }
 },
 "nbformat": 4,
 "nbformat_minor": 4
}
