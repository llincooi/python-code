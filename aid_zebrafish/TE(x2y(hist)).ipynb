{
 "cells": [
  {
   "cell_type": "code",
   "execution_count": 1,
   "metadata": {},
   "outputs": [],
   "source": [
    "import numpy as np\n",
    "from random import gauss\n",
    "from math import sqrt\n",
    "import matplotlib as mpl\n",
    "mpl.use('nbagg')\n",
    "from mpl_toolkits.mplot3d import Axes3D\n",
    "import matplotlib.pyplot as plt"
   ]
  },
  {
   "cell_type": "code",
   "execution_count": 2,
   "metadata": {},
   "outputs": [],
   "source": [
    "def SimplifyState(x):\n",
    "    output = np.zeros_like(x)\n",
    "    states = np.sort(np.unique(x))\n",
    "    counter = 0\n",
    "    for state in states:\n",
    "        output[np.where(x==state)] = counter\n",
    "        counter += 1\n",
    "    return output, np.arange(counter)\n",
    "\n",
    "def StateList2D21D(x, statenum):\n",
    "    output = np.zeros(x.shape[1])\n",
    "    for i in range(x.shape[0]):\n",
    "        output = output + x[i]*statenum**i\n",
    "    return output\n",
    "\n",
    "def TE(x, y, xhist_list, yhist_list):\n",
    "    Information = dict()\n",
    "    x, xstates = SimplifyState(x)\n",
    "    y, ystates = SimplifyState(y)\n",
    "    xdat = []\n",
    "    ydat = []\n",
    "    end = min(xhist_list[-1], yhist_list[-1])\n",
    "    for hist in xhist_list:\n",
    "        xhist = x[-end+hist:hist]\n",
    "        xdat.append(xhist.copy())\n",
    "        yhist = y[-end+hist:hist]\n",
    "        ydat.append(yhist.copy())\n",
    "    xhist = StateList2D21D( np.array(xdat), len(xstates))\n",
    "    yhist = StateList2D21D( np.array(ydat), len(ystates))\n",
    "    \n",
    "    xedges = np.append(np.unique(xhist),(max(xhist)+1))\n",
    "    vedges = np.append(np.unique(yhist),(max(yhist)+1))\n",
    "    redges = np.append(np.unique(y),(max(y)+1))\n",
    "    dat = np.concatenate((xhist[:,np.newaxis], yhist[:,np.newaxis],y[-end:,np.newaxis]), axis=1)\n",
    "    N, edges = np.histogramdd(dat, bins=(xedges, vedges, redges))\n",
    "    #Calculate all kinds of probability and make sure the shape of them, 0 -> x, 1 -> v, 2 -> r\n",
    "    # x repersent x-hist\n",
    "    # v repersent y-hist\n",
    "    # r repersent y-now\n",
    "    px=(np.sum(N,axis=(1,2))/np.sum(N))[:, np.newaxis, np.newaxis]\n",
    "    pv=(np.sum(N,axis=(0,2))/np.sum(N))[np.newaxis, :, np.newaxis]\n",
    "    pr=(np.sum(N,axis=(0,1))/np.sum(N))[np.newaxis ,np.newaxis, :]\n",
    "    pxv=(np.sum(N,axis=2)/np.sum(N))[:, :, np.newaxis]\n",
    "    pxr=(np.sum(N,axis=1)/np.sum(N))[:, np.newaxis, :]\n",
    "    pvr=(np.sum(N,axis=0)/np.sum(N))[np.newaxis, :, :]\n",
    "    pxvr=(N/np.sum(N))\n",
    "\n",
    "\n",
    "    MIxr=np.nansum(pxr*np.log2(pxr/px/pr))\n",
    "    MIvr=np.nansum(pvr*np.log2(pvr/pv/pr))\n",
    "    MIxvR=np.nansum(pxvr*np.log2(pxvr/pxv/pr))\n",
    "    PI_xR = np.nansum(pxr*np.log2(pxr/px/pr), axis = (0,1))\n",
    "    PI_vR = np.nansum(pvr*np.log2(pvr/pv/pr), axis = (0,1))\n",
    "    R = sum(np.minimum(PI_xR, PI_vR))\n",
    "    Information[('Beer','Red')] = R\n",
    "    Information[('Beer','UIx2y')] = MIxr - R\n",
    "    Information[('Beer','UIy2y')] = MIvr - R\n",
    "    Information[('Beer','Syn')] = MIxvR - MIxr - MIvr + R\n",
    "\n",
    "    return Information"
   ]
  }
 ],
 "metadata": {
  "kernelspec": {
   "display_name": "Python 3",
   "language": "python",
   "name": "python3"
  },
  "language_info": {
   "codemirror_mode": {
    "name": "ipython",
    "version": 3
   },
   "file_extension": ".py",
   "mimetype": "text/x-python",
   "name": "python",
   "nbconvert_exporter": "python",
   "pygments_lexer": "ipython3",
   "version": "3.7.6"
  },
  "toc": {
   "base_numbering": 1,
   "nav_menu": {},
   "number_sections": true,
   "sideBar": true,
   "skip_h1_title": false,
   "title_cell": "Table of Contents",
   "title_sidebar": "Contents",
   "toc_cell": false,
   "toc_position": {},
   "toc_section_display": true,
   "toc_window_display": false
  },
  "varInspector": {
   "cols": {
    "lenName": 16,
    "lenType": 16,
    "lenVar": 40
   },
   "kernels_config": {
    "python": {
     "delete_cmd_postfix": "",
     "delete_cmd_prefix": "del ",
     "library": "var_list.py",
     "varRefreshCmd": "print(var_dic_list())"
    },
    "r": {
     "delete_cmd_postfix": ") ",
     "delete_cmd_prefix": "rm(",
     "library": "var_list.r",
     "varRefreshCmd": "cat(var_dic_list()) "
    }
   },
   "position": {
    "height": "184px",
    "left": "1550px",
    "right": "20px",
    "top": "120px",
    "width": "350px"
   },
   "types_to_exclude": [
    "module",
    "function",
    "builtin_function_or_method",
    "instance",
    "_Feature"
   ],
   "window_display": true
  }
 },
 "nbformat": 4,
 "nbformat_minor": 4
}
