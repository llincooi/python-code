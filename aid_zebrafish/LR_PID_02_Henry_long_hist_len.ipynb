{
 "cells": [
  {
   "cell_type": "markdown",
   "metadata": {},
   "source": [
    "# PID  of two Lorenz systems\n",
    "# with delayed interaction from 1 to 2\n",
    "\n",
    " Update history:\n",
    "        March 10, 2019 creatin by CKC\n",
    "        \n",
    "        June 12, 2019, with Grange Causality test added by CKC\n",
    "        \n",
    "        Feb 16, 2021 for PID with Leo's code\n",
    "       \n",
    "        "
   ]
  },
  {
   "cell_type": "code",
   "execution_count": 6,
   "metadata": {},
   "outputs": [],
   "source": [
    "import numpy as np\n",
    "from random import gauss\n",
    "from math import sqrt\n",
    "import matplotlib as mpl\n",
    "mpl.use('nbagg')\n",
    "from mpl_toolkits.mplot3d import Axes3D\n",
    "import matplotlib.pyplot as plt\n",
    "%matplotlib inline"
   ]
  },
  {
   "cell_type": "code",
   "execution_count": 7,
   "metadata": {},
   "outputs": [],
   "source": [
    "# Functions from Leo \n",
    "\n",
    "## EqualState assign states with equal possibility for input array x\n",
    "def EqualState(x, num_state):\n",
    "    xs=np.sort(x)\n",
    "    binlen=int(len(x)/num_state-0.5) #round\n",
    "    edges = xs[np.arange(num_state+1)*binlen]\n",
    "    xstate=np.zeros(len(x))\n",
    "    for i in range(num_state):\n",
    "        xstate[x>=edges[i]] = i\n",
    "    xstate = xstate.astype(int)\n",
    "    return xstate, edges\n",
    "\n",
    "# \n",
    "def PIfunc(r, x, v, dt, window):\n",
    "    negshift=window[0] # second\n",
    "    posshift=window[1] # second\n",
    "    shiftlen=(posshift-negshift)/dt+1\n",
    "    timeshift=np.linspace(negshift,posshift,int(shiftlen))\n",
    "    bitshift=np.linspace(negshift/dt,posshift/dt,int(shiftlen),dtype = 'int16')\n",
    "    Information = dict()\n",
    "    Information[('BROJA_2PID','SI')]=np.zeros(len(bitshift))\n",
    "    Information[('BROJA_2PID','UIx')]=np.zeros(len(bitshift))\n",
    "    Information[('BROJA_2PID','UIv')]=np.zeros(len(bitshift))\n",
    "    Information[('BROJA_2PID','CI')]=np.zeros(len(bitshift))\n",
    "    Information[('Beer','Red')]=np.zeros(len(bitshift))\n",
    "    Information[('Beer','UIx')]=np.zeros(len(bitshift))\n",
    "    Information[('Beer','UIv')]=np.zeros(len(bitshift))\n",
    "    Information[('Beer','Syn')]=np.zeros(len(bitshift))\n",
    "    \n",
    "    Information[('test','SI')]=np.zeros(len(bitshift))\n",
    "    Information[('test','UIx')]=np.zeros(len(bitshift))\n",
    "    Information[('test','UIv')]=np.zeros(len(bitshift))\n",
    "    Information[('test','CI')]=np.zeros(len(bitshift))\n",
    "    Redun =np.zeros(len(bitshift))\n",
    "    MIxr=np.zeros(len(bitshift))\n",
    "    MIvr=np.zeros(len(bitshift))\n",
    "    MIxvR=np.zeros(len(bitshift))\n",
    "    parms = dict()\n",
    "    parms['max_iters'] = 20\n",
    "    # shifted data\n",
    "    # shift>0 => y shifted to positive side\n",
    "    for i in range(len(bitshift)):\n",
    "        xx=[]\n",
    "        vv=[]\n",
    "        rr=[]\n",
    "        shift=bitshift[i]\n",
    "        if shift>0:\n",
    "            xx=x[shift:]\n",
    "            vv=v[:(-1*shift)]\n",
    "            rr=r[:(-1*shift)]\n",
    "        elif shift==0:\n",
    "            xx=x\n",
    "            vv=v\n",
    "            rr=r\n",
    "        elif shift<0:\n",
    "            xx=x[:shift]\n",
    "            vv=v[(-1*shift):]\n",
    "            rr=r[(-1*shift):]\n",
    "        #find weight of each states by 3D histogram \n",
    "        xedges = np.append(np.unique(xx),(max(xx)+1))\n",
    "        vedges = np.append(np.unique(vv),(max(vv)+1))\n",
    "        redges = np.append(np.unique(rr),(max(rr)+1))\n",
    "        dat = np.concatenate((xx[:,np.newaxis], vv[:,np.newaxis],rr[:,np.newaxis]), axis=1)\n",
    "        N, edges = np.histogramdd(dat, bins=(xedges, vedges, redges))\n",
    "        #Calculate all kinds of probability and make sure the shape of them, 0 -> x, 1 -> v, 2 -> r\n",
    "        px=(np.sum(N,axis=(1,2))/np.sum(N))[:, np.newaxis, np.newaxis]\n",
    "        pv=(np.sum(N,axis=(0,2))/np.sum(N))[np.newaxis, :, np.newaxis]\n",
    "        pr=(np.sum(N,axis=(0,1))/np.sum(N))[np.newaxis ,np.newaxis, :]\n",
    "        pxv=(np.sum(N,axis=2)/np.sum(N))[:, :, np.newaxis]\n",
    "        pxr=(np.sum(N,axis=1)/np.sum(N))[:, np.newaxis, :]\n",
    "        pvr=(np.sum(N,axis=0)/np.sum(N))[np.newaxis, :, :]\n",
    "        pxvr=(N/np.sum(N))\n",
    "        \n",
    "        Information[('test','UIx')][i] = np.nansum(pxvr*np.log2(pxvr*px/pxv/pxr))/dt\n",
    "        Information[('test','UIv')][i] = np.nansum(pxvr*np.log2(pxvr*pv/pxv/pvr))/dt\n",
    "                \n",
    "#         PDF=Histo3D2Dict(pxvr)\n",
    "#         BROJA_2PID = pid(PDF, cone_solver=\"ECOS\", output=0, **parms)\n",
    "#         Information[('BROJA_2PID','SI')][i]=BROJA_2PID['SI']/dt\n",
    "#         Information[('BROJA_2PID','UIx')][i]=BROJA_2PID['UIY']/dt\n",
    "#         Information[('BROJA_2PID','UIv')][i]=BROJA_2PID['UIZ']/dt\n",
    "#         Information[('BROJA_2PID','CI')][i]=BROJA_2PID['CI']/dt\n",
    "        \n",
    "\n",
    "        MIxr=np.nansum(pxr*np.log2(pxr/px/pr))/dt\n",
    "        MIvr=np.nansum(pvr*np.log2(pvr/pv/pr))/dt\n",
    "        MIxvR=np.nansum(pxvr*np.log2(pxvr/pxv/pr))/dt\n",
    "        PI_xR = np.nansum(pxr*np.log2(pxr/px/pr), axis = (0,1))\n",
    "        PI_vR = np.nansum(pvr*np.log2(pvr/pv/pr), axis = (0,1))\n",
    "        R = sum(np.minimum(PI_xR, PI_vR))/dt\n",
    "        Information[('Beer','Red')][i] = R\n",
    "        Information[('Beer','UIx')][i] = MIxr - R\n",
    "        Information[('Beer','UIv')][i] = MIvr - R\n",
    "        Information[('Beer','Syn')][i] = MIxvR - MIxr - MIvr + R\n",
    "\n",
    "    return timeshift, Information"
   ]
  },
  {
   "cell_type": "code",
   "execution_count": 8,
   "metadata": {},
   "outputs": [
    {
     "data": {
      "text/plain": [
       "100"
      ]
     },
     "execution_count": 8,
     "metadata": {},
     "output_type": "execute_result"
    }
   ],
   "source": [
    "# parameters for the Lorenz system\n",
    "\n",
    "npts = 100000\n",
    "x1 = np.zeros(npts)\n",
    "y1 = np.zeros(npts)\n",
    "z1 = np.zeros(npts)\n",
    "\n",
    "x2 = np.zeros(npts)\n",
    "y2 = np.zeros(npts)\n",
    "z2 = np.zeros(npts)\n",
    "\n",
    "sigma = 10.0\n",
    "rho = 28.\n",
    "beta = 8/3.\n",
    "dt = 0.005\n",
    "\n",
    "x1[0] = -7.0\n",
    "y1[0] = 0.1\n",
    "z1[0] = -1.0\n",
    "\n",
    "x2[0] = -7.1\n",
    "y2[0] = 0.2\n",
    "z2[0] = -0.9\n",
    "\n",
    "'''\n",
    "x2[0] = -7.0\n",
    "y2[0] = 0.1\n",
    "z2[0] = -1.0\n",
    "\n",
    "x1[0] = -7.1\n",
    "y1[0] = 0.2\n",
    "z1[0] = -0.9\n",
    "'''\n",
    "\n",
    "dt = 0.001\n",
    "tau = 0.1\n",
    "delay = int(tau/dt)\n",
    "\n",
    "delay"
   ]
  },
  {
   "cell_type": "code",
   "execution_count": 9,
   "metadata": {},
   "outputs": [],
   "source": [
    "# two non-interacting Lorenz systems\n",
    "# from t =0 to t= delay\n",
    "\n",
    "for i in range(1,delay+1):\n",
    "    dx1 = sigma*(y1[i-1]-x1[i-1])*dt\n",
    "    dy1 = (x1[i-1]*(rho - z1[i-1]) - y1[i-1])*dt\n",
    "    dz1 = (x1[i-1]*y1[i-1] - beta*z1[i-1])*dt\n",
    "    \n",
    "    x1[i] = x1[i-1] + dx1\n",
    "    y1[i] = y1[i-1] + dy1\n",
    "    z1[i] = z1[i-1] + dz1\n",
    "\n",
    "    dx2 = sigma*(y2[i-1]-x2[i-1] )*dt\n",
    "    dy2 = (x2[i-1]*(rho - z2[i-1]) - y2[i-1])*dt\n",
    "    dz2 = (x2[i-1]*y2[i-1] - beta*z2[i-1])*dt\n",
    "    \n",
    "    x2[i] = x2[i-1] + dx2\n",
    "    y2[i] = y2[i-1] + dy2\n",
    "    z2[i] = z2[i-1] + dz2"
   ]
  },
  {
   "cell_type": "code",
   "execution_count": 10,
   "metadata": {},
   "outputs": [],
   "source": [
    "# two Lorenz systems with delay interaction from 1 to 2\n",
    "# only in the x direction starting from t = delay+1\n",
    "\n",
    "kx1 = 0.0\n",
    "ky1 = 0.0\n",
    "kz1 = 0.0\n",
    "\n",
    "kx2 = 2.0\n",
    "kx2 = 1.0\n",
    "ky2 = 0.0\n",
    "kz2 = 0.0\n",
    "\n",
    "for i in range(delay+1,npts):\n",
    "    int_x12 = kx2*(x1[i-1]-x2[i-delay-1])\n",
    "    int_y12 = ky2*(y1[i-1]-y2[i-delay-1])\n",
    "    int_z12 = kz2*(z1[i-1]-z2[i-delay-1])\n",
    "    \n",
    "    dx2 = sigma*(y2[i-1]-x2[i-1] +             int_x12)*dt\n",
    "    dy2 = (x2[i-1]*(rho - z2[i-1]) - y2[i-1] + int_y12)*dt\n",
    "    dz2 = (x2[i-1]*y2[i-1] - beta*z2[i-1] +    int_z12)*dt\n",
    "    \n",
    "    x2[i] = x2[i-1] + dx2\n",
    "    y2[i] = y2[i-1] + dy2\n",
    "    z2[i] = z2[i-1] + dz2\n",
    "\n",
    "#for i in range(delay,npts):    \n",
    "    \n",
    "    int_x21 = kx1*(x2[i-1]-x1[i-delay-1])\n",
    "    int_y21 = ky1*(y2[i-1]-y1[i-delay-1])\n",
    "    int_z21 = kz1*(z2[i-1]-z1[i-delay-1])\n",
    "    \n",
    "    dx1 = sigma*(y1[i-1]-x1[i-1] +             int_x21)*dt\n",
    "    dy1 = (x1[i-1]*(rho - z1[i-1]) - y1[i-1] + int_y21)*dt\n",
    "    dz1 = (x1[i-1]*y1[i-1] - beta*z1[i-1] +    int_z21)*dt\n",
    "    \n",
    "    x1[i] = x1[i-1] + dx1\n",
    "    y1[i] = y1[i-1] + dy1\n",
    "    z1[i] = z1[i-1] + dz1\n"
   ]
  },
  {
   "cell_type": "code",
   "execution_count": 11,
   "metadata": {},
   "outputs": [
    {
     "data": {
      "text/plain": [
       "[<matplotlib.lines.Line2D at 0x1d04eb04970>]"
      ]
     },
     "execution_count": 11,
     "metadata": {},
     "output_type": "execute_result"
    },
    {
     "data": {
      "image/png": "[encoded data removed]",
      "text/plain": [
       "<Figure size 432x288 with 1 Axes>"
      ]
     },
     "metadata": {
      "needs_background": "light"
     },
     "output_type": "display_data"
    }
   ],
   "source": [
    "# x1 (master) and x2 (slave) are now synchronized.\n",
    "# with x2 (red) head of x1\n",
    "\n",
    "n1=40000\n",
    "n0 =35000\n",
    "plt.plot(x1[n0:n1],'b')\n",
    "plt.plot(x2[n0:n1],'r')"
   ]
  },
  {
   "cell_type": "code",
   "execution_count": 12,
   "metadata": {},
   "outputs": [
    {
     "data": {
      "text/plain": [
       "[<matplotlib.lines.Line2D at 0x1d04ee25be0>]"
      ]
     },
     "execution_count": 12,
     "metadata": {},
     "output_type": "execute_result"
    },
    {
     "data": {
      "image/png": "[encoded data removed]",
      "text/plain": [
       "<Figure size 432x288 with 1 Axes>"
      ]
     },
     "metadata": {
      "needs_background": "light"
     },
     "output_type": "display_data"
    }
   ],
   "source": [
    "plt.plot(x2,y2)"
   ]
  },
  {
   "cell_type": "code",
   "execution_count": 13,
   "metadata": {},
   "outputs": [],
   "source": [
    "# using numpy's histogram2d to calculate the mutual information between two sequences\n",
    "def mi_quick(a,b,d,bn=25):\n",
    "    if d>0: xy,_,_ = np.histogram2d(a[d:],b[:-d],bn)\n",
    "    elif d<0: xy,_,_ = np.histogram2d(a[:d],b[-d:],bn)\n",
    "    else: xy,_,_ = np.histogram2d(a,b,bn)\n",
    "    xy /= np.sum(xy)\n",
    "    px = [np.array([max(x,1e-100) for x in np.sum(xy,axis=0)])]\n",
    "    py = np.transpose([[max(x,1e-100) for x in np.sum(xy,axis=1)]])\n",
    "    nxy = (xy/px)/py\n",
    "    nxy[nxy==0] = 1e-100\n",
    "    return np.sum(xy*np.log2(nxy))"
   ]
  },
  {
   "cell_type": "code",
   "execution_count": 14,
   "metadata": {},
   "outputs": [],
   "source": [
    "dms = range(-199,200)\n",
    "mi_auto = [mi_quick(x2,x2,d) for d in dms]\n",
    "mi_x12 = [mi_quick(x1,x2,d) for d in dms]\n"
   ]
  },
  {
   "cell_type": "code",
   "execution_count": 15,
   "metadata": {},
   "outputs": [
    {
     "data": {
      "image/png": "[encoded data removed]",
      "text/plain": [
       "<Figure size 432x288 with 1 Axes>"
      ]
     },
     "metadata": {
      "needs_background": "light"
     },
     "output_type": "display_data"
    }
   ],
   "source": [
    "# Since x2 has the same structure of x1,\n",
    "# it can be well ahead of x1 in mutual information\n",
    "\n",
    "f,a = plt.subplots()\n",
    "a.plot(dms,mi_auto,label='mi_auto')\n",
    "a.plot(dms,mi_x12,label='mi_x12')\n",
    "#a.set_xlim([-30,30])\n",
    "a.legend(frameon=False)\n",
    "a.set_ylabel('mutual information (bits)')\n",
    "a.set_xlabel('time delay (steps)')\n",
    "plt.show()"
   ]
  },
  {
   "cell_type": "markdown",
   "metadata": {},
   "source": [
    "# starts of PID computation with a history length of 1 time step"
   ]
  },
  {
   "cell_type": "code",
   "execution_count": 16,
   "metadata": {},
   "outputs": [],
   "source": [
    "# Generate x1n as history of x1np1 (np1 is short for n plus one)\n",
    "\n",
    "npts = len(x1)\n",
    "x1n = x1[0:npts-1].copy()\n",
    "x2n = x2[0:npts-1].copy()\n",
    "x1np1 = x1[1:npts].copy()\n",
    "x2np1 = x2[1:npts].copy()\n"
   ]
  },
  {
   "cell_type": "code",
   "execution_count": 17,
   "metadata": {},
   "outputs": [],
   "source": [
    "nstate = 8\n",
    "x1np1_state, _= EqualState(x1np1, nstate)\n",
    "x2np1_state, _= EqualState(x2np1, nstate)\n",
    "x1n_state, _  = EqualState(x1n, nstate)\n",
    "x2n_state, _  = EqualState(x2n, nstate)"
   ]
  },
  {
   "cell_type": "code",
   "execution_count": null,
   "metadata": {},
   "outputs": [],
   "source": [
    "dt=0.01\n",
    "window=[-2,2]\n",
    "\n",
    "dest_future = x2np1_state.copy()\n",
    "source_hist = x1n_state.copy()\n",
    "dest_hist   = x2n_state.copy()\n",
    "\n",
    "# timeshift, Information_list = PIfunc(dest_future, source_hist, dest_hist, dt, window)\n",
    "# timeshift, Information_list = PIfunc(x2n_state, x2n_state, x1n_state, dt, window)\n",
    "timeshift, Information_list2 = PIfunc(x2n_state, x1n_state, x2n_state, dt, window)"
   ]
  },
  {
   "cell_type": "code",
   "execution_count": null,
   "metadata": {
    "scrolled": false
   },
   "outputs": [],
   "source": [
    "my_dpi=80\n",
    "plt.figure(figsize=(800/my_dpi, 600/my_dpi), dpi=my_dpi)\n",
    "\n",
    "Us = Information_list[('Beer','UIx')]\n",
    "Ud = Information_list[('Beer','UIv')]\n",
    "S  = Information_list[('Beer','Syn')]\n",
    "R  = Information_list[('Beer','Red')]\n",
    "\n",
    "plt.figure(figsize=(800/my_dpi, 600/my_dpi), dpi=my_dpi)\n",
    "plt.plot(timeshift,Us*100, 'r-')\n",
    "plt.plot(timeshift,Ud, 'b-')\n",
    "plt.plot(timeshift,S*100, 'k-')\n",
    "plt.plot(timeshift,R, 'g-')\n",
    "plt.legend( ('$U_{s-hist}$', '$U_{d-hist}$', 'synergy', 'redundancy'), loc='best', prop={'size': 'large', 'family': 'monospace'})"
   ]
  },
  {
   "cell_type": "code",
   "execution_count": null,
   "metadata": {},
   "outputs": [],
   "source": [
    "kx2"
   ]
  },
  {
   "cell_type": "code",
   "execution_count": null,
   "metadata": {},
   "outputs": [],
   "source": [
    "# Display MI to check if it is the same as above\n",
    "\n",
    "my_dpi=100\n",
    "plt.figure(figsize=(800/my_dpi, 600/my_dpi), dpi=my_dpi)\n",
    "MIs = Us + R\n",
    "MId = Ud + R\n",
    "\n",
    "plt.plot(timeshift,MIs, 'r-')\n",
    "plt.plot(timeshift,MId, 'b-')\n",
    "#plt.plot(timeshift,Information_list[('Beer','UIx')]+Information_list[('Beer','Red')]+Information_list[('Beer','UIv')]+Information_list[('Beer','Syn')], 'k-')\n",
    "#plt.plot(timeshift,Information_list[('Beer','UIx')]+2*Information_list[('Beer','Red')]+Information_list[('Beer','UIv')], 'm-')\n",
    "\n",
    "plt.grid()\n",
    "plt.legend( ('MIs', 'MId'), loc='best', prop={'size': 'large', 'family': 'monospace'})\n"
   ]
  },
  {
   "cell_type": "code",
   "execution_count": null,
   "metadata": {},
   "outputs": [],
   "source": [
    "# Check Peter's calculation\n",
    "\n",
    "plt.plot(Us+R)\n",
    "plt.plot(Ud+R)\n",
    "plt.plot(Us+S)\n",
    "plt.plot(Ud+S)"
   ]
  },
  {
   "cell_type": "markdown",
   "metadata": {},
   "source": [
    "# Longer history length"
   ]
  },
  {
   "cell_type": "code",
   "execution_count": 18,
   "metadata": {},
   "outputs": [],
   "source": [
    "def calc_ent(x):\n",
    "    if np.ndim(x)==2:\n",
    "        x_value_list, x_value_counts = np.unique(x, axis=0, return_counts=True)\n",
    "        ent = 0.0\n",
    "        for x_value in x_value_list:\n",
    "            p = float(x_value_counts[np.where((x_value==x_value_list).all(axis=1))]) / len(x) \n",
    "            logp = np.log2(p)\n",
    "            ent -= p * logp\n",
    "    elif np.ndim(x)==1:\n",
    "        x_value_list, x_value_counts = np.unique(x, axis=0, return_counts=True)\n",
    "        ent = 0.0\n",
    "        for x_value in x_value_list:\n",
    "            p = float(x_value_counts[np.where(x_value==x_value_list)]) / len(x) \n",
    "            logp = np.log2(p)\n",
    "            ent -= p * logp        \n",
    "        \n",
    "    return ent\n",
    "\n",
    "def MI(y, x1):\n",
    "    # MI(x1;y) = ent(x1) - ent(x1|y)\n",
    "    # calc ent(x1|y)\n",
    "    if np.ndim(y)==1:\n",
    "        y_value_list, y_value_counts = np.unique(y, axis=0, return_counts=True)\n",
    "        \n",
    "        ent1 = 0.0\n",
    "        \n",
    "        for y_value in y_value_list:\n",
    "            sub_x1 = x1[np.where(y==y_value)]\n",
    "            temp_ent = calc_ent(sub_x1)\n",
    "            p = float(y_value_counts[np.where(y_value==y_value_list)]) / len(y)\n",
    "            ent1 += p * temp_ent \n",
    "    elif np.ndim(y)==2:\n",
    "        y_value_list, y_value_counts = np.unique(y, axis=0, return_counts=True)\n",
    "        \n",
    "        ent1 = 0.0\n",
    "        \n",
    "        for y_value in y_value_list:\n",
    "            sub_x1 = x1[np.where((y==y_value).all(axis=1))]\n",
    "            temp_ent = calc_ent(sub_x1)\n",
    "            p = float(y_value_counts[np.where((y_value==y_value_list).all(axis=1))]) / len(y)\n",
    "            ent1 += p * temp_ent        \n",
    "    \n",
    "    return calc_ent(x1) - ent1\n",
    "\n",
    "def cond_MI(x_cond, y_cond, xt):\n",
    "    # conditional MI(x_cond;xt|y_cond) = ent(x_cond|y_cond) - ent(x_cond|xt,y_cond)\n",
    "    \n",
    "    # construct xy_cond\n",
    "    xt = np.reshape(xt, (1,len(xt)))\n",
    "    xy_cond = np.concatenate((y_cond, xt.T), axis=1)\n",
    "\n",
    "    y_value_list, y_value_counts = np.unique(y_cond, axis=0, return_counts=True)\n",
    "    xy_value_list, xy_value_counts = np.unique(xy_cond, axis=0, return_counts=True)\n",
    "    ent1 = 0.0\n",
    "    ent2 = 0.0\n",
    "    \n",
    "    # calculate H(x_cond|y_cond)\n",
    "    for y_value in y_value_list:\n",
    "        sub_x = x_cond[np.where((y_cond==y_value).all(axis=1))]\n",
    "        temp_ent = calc_ent(sub_x)\n",
    "        py = float(y_value_counts[np.where((y_value==y_value_list).all(axis=1))]) / len(y_cond)\n",
    "        ent1 += py * temp_ent\n",
    "\n",
    "    # calculate H(x_cond|xt, y_cond)\n",
    "    for xy_value in xy_value_list:\n",
    "        sub_x2 = x_cond[np.where((xy_cond==xy_value).all(axis=1))]\n",
    "        temp_ent2 = calc_ent(sub_x2)\n",
    "        pxy = float(xy_value_counts[np.where((xy_value==xy_value_list).all(axis=1))]) / len(xy_cond)      \n",
    "        ent2 += pxy * temp_ent2\n",
    "\n",
    "    return ent1 - ent2"
   ]
  },
  {
   "cell_type": "code",
   "execution_count": 19,
   "metadata": {},
   "outputs": [],
   "source": [
    "def pid_fig4(r, x, v, shift):\n",
    "    if shift>0:\n",
    "        xx=x[shift:]\n",
    "        vv=v[:(-1*shift)]\n",
    "        rr=r[:(-1*shift)]\n",
    "    elif shift==0:\n",
    "        xx=x\n",
    "        vv=v\n",
    "        rr=r\n",
    "    elif shift<0:\n",
    "        xx=x[:shift]\n",
    "        vv=v[(-1*shift):]\n",
    "        rr=r[(-1*shift):]\n",
    "        \n",
    "    dest_future = rr\n",
    "    source_hist = xx\n",
    "    dest_hist = vv\n",
    "    \n",
    "    m1 = MI(dest_future,dest_hist)\n",
    "    m2 = MI(dest_future,source_hist)\n",
    "    cm1 = cond_MI(dest_hist, source_hist, dest_future)\n",
    "    cm2 = cond_MI(source_hist, dest_hist, dest_future)\n",
    "    \n",
    "    #print('Ud+R = ', m1)\n",
    "    #print('Us+R = ', m2)\n",
    "\n",
    "    #print('Ud+S = ', cm1)\n",
    "    #print('Us+S = ', cm2)\n",
    "    \n",
    "    #print(m1+cm2)\n",
    "    #print(m2+cm1)\n",
    "    \n",
    "    return m1, m2, cm1, cm2"
   ]
  },
  {
   "cell_type": "code",
   "execution_count": 21,
   "metadata": {},
   "outputs": [],
   "source": [
    "h = 10 # history length\n",
    "dms = np.arange(-199,200, 10)\n",
    "dest_hist = np.array([x2n_state[i:i+h] for i in range(0,len(x2n_state)-h)])\n",
    "source_hist = np.array([x1n_state[i:i+h] for i in range(0,len(x1n_state)-h)])\n",
    "dest_future = np.array([x2n_state[i+h] for i in range(0, len(x2n_state)-h)])\n",
    "\n",
    "m1 = []\n",
    "m2 = []\n",
    "cm1 = []\n",
    "cm2 = []\n",
    "\n",
    "for shift in dms:\n",
    "    a,b,c,d = pid_fig4(dest_future, source_hist, dest_hist, shift)\n",
    "    m1.append(a)\n",
    "    m2.append(b)\n",
    "    cm1.append(c)\n",
    "    cm2.append(d)"
   ]
  },
  {
   "cell_type": "code",
   "execution_count": 22,
   "metadata": {},
   "outputs": [
    {
     "data": {
      "text/plain": [
       "<matplotlib.legend.Legend at 0x1d04ef0de20>"
      ]
     },
     "execution_count": 22,
     "metadata": {},
     "output_type": "execute_result"
    },
    {
     "data": {
      "image/png": "[encoded data removed]",
      "text/plain": [
       "<Figure size 432x288 with 1 Axes>"
      ]
     },
     "metadata": {
      "needs_background": "light"
     },
     "output_type": "display_data"
    }
   ],
   "source": [
    "plt.figure\n",
    "plt.plot(dms, m1, label='Ud+R')\n",
    "plt.plot(dms, m2, label='Us+R')\n",
    "plt.plot(dms, cm1, label='Ud+S')\n",
    "plt.plot(dms, cm2, label='Us+S')\n",
    "plt.legend()"
   ]
  },
  {
   "cell_type": "markdown",
   "metadata": {},
   "source": [
    "# TE by Leo"
   ]
  },
  {
   "cell_type": "code",
   "execution_count": 23,
   "metadata": {},
   "outputs": [],
   "source": [
    "def TE(x, y, xhist_list, yhist_list):\n",
    "    Information = dict()\n",
    "\n",
    "    parms = dict()\n",
    "    parms['max_iters'] = 20\n",
    "    # shifted data\n",
    "    # shift>0 => y shifted to positive side\n",
    "    xedge = np.append(np.unique(x),(max(x)+1))\n",
    "    yedge = np.append(np.unique(y),(max(y)+1))\n",
    "    dat = []\n",
    "    edges = []\n",
    "    end = min(xhist_list[-1], yhist_list[-1])\n",
    "    for hist in xhist_list:\n",
    "        xhist = x[-end+hist:hist]\n",
    "        dat.append(xhist.copy())\n",
    "        edges.append(xedge)\n",
    "    for hist in yhist_list:\n",
    "        yhist = y[-end+hist:hist]\n",
    "        dat.append(yhist.copy())\n",
    "        edges.append(yedge)\n",
    "    dat.append(y[-end:])\n",
    "    edges.append(yedge)\n",
    "    N, _ = np.histogramdd(np.array(dat).T, bins=edges)\n",
    "    N = np.reshape(N, (len(np.unique(x))**len(xhist_list),len(np.unique(y))**len(yhist_list), len(np.unique(y))))\n",
    "    #Calculate all kinds of probability and make sure the shape of them, 0 -> x, 1 -> v, 2 -> r\n",
    "    # x repersent x-hist\n",
    "    # v repersent y-hist\n",
    "    # r repersent y-now\n",
    "    px=(np.sum(N,axis=(1,2))/np.sum(N))[:, np.newaxis, np.newaxis]\n",
    "    pv=(np.sum(N,axis=(0,2))/np.sum(N))[np.newaxis, :, np.newaxis]\n",
    "    pr=(np.sum(N,axis=(0,1))/np.sum(N))[np.newaxis ,np.newaxis, :]\n",
    "    pxv=(np.sum(N,axis=2)/np.sum(N))[:, :, np.newaxis]\n",
    "    pxr=(np.sum(N,axis=1)/np.sum(N))[:, np.newaxis, :]\n",
    "    pvr=(np.sum(N,axis=0)/np.sum(N))[np.newaxis, :, :]\n",
    "    pxvr=(N/np.sum(N))\n",
    "\n",
    "\n",
    "    MIxr=np.nansum(pxr*np.log2(pxr/px/pr))\n",
    "    MIvr=np.nansum(pvr*np.log2(pvr/pv/pr))\n",
    "    MIxvR=np.nansum(pxvr*np.log2(pxvr/pxv/pr))\n",
    "    PI_xR = np.nansum(pxr*np.log2(pxr/px/pr), axis = (0,1))\n",
    "    PI_vR = np.nansum(pvr*np.log2(pvr/pv/pr), axis = (0,1))\n",
    "    R = sum(np.minimum(PI_xR, PI_vR))\n",
    "    Information[('Beer','Red')] = R\n",
    "    Information[('Beer','UIx2y')] = MIxr - R\n",
    "    Information[('Beer','UIy2y')] = MIvr - R\n",
    "    Information[('Beer','Syn')] = MIxvR - MIxr - MIvr + R\n",
    "\n",
    "    return Information"
   ]
  },
  {
   "cell_type": "code",
   "execution_count": 27,
   "metadata": {},
   "outputs": [
    {
     "ename": "ValueError",
     "evalue": "invalid dims: array size defined by dims is larger than the maximum possible size.",
     "output_type": "error",
     "traceback": [
      "\u001b[1;31m---------------------------------------------------------------------------\u001b[0m",
      "\u001b[1;31mValueError\u001b[0m                                Traceback (most recent call last)",
      "\u001b[1;32m<ipython-input-27-99d53888e7dd>\u001b[0m in \u001b[0;36m<module>\u001b[1;34m\u001b[0m\n\u001b[0;32m      5\u001b[0m \u001b[0mSyn\u001b[0m \u001b[1;33m=\u001b[0m \u001b[1;33m[\u001b[0m\u001b[1;33m]\u001b[0m\u001b[1;33m\u001b[0m\u001b[1;33m\u001b[0m\u001b[0m\n\u001b[0;32m      6\u001b[0m \u001b[1;32mfor\u001b[0m \u001b[0mshift\u001b[0m \u001b[1;32min\u001b[0m \u001b[0mhdms\u001b[0m\u001b[1;33m:\u001b[0m\u001b[1;33m\u001b[0m\u001b[1;33m\u001b[0m\u001b[0m\n\u001b[1;32m----> 7\u001b[1;33m     \u001b[0mInformation\u001b[0m \u001b[1;33m=\u001b[0m \u001b[0mTE\u001b[0m\u001b[1;33m(\u001b[0m\u001b[0mx1n_state\u001b[0m\u001b[1;33m,\u001b[0m \u001b[0mx2n_state\u001b[0m\u001b[1;33m,\u001b[0m \u001b[0mnp\u001b[0m\u001b[1;33m.\u001b[0m\u001b[0marange\u001b[0m\u001b[1;33m(\u001b[0m\u001b[0mshift\u001b[0m\u001b[1;33m,\u001b[0m\u001b[0mshift\u001b[0m\u001b[1;33m-\u001b[0m\u001b[1;36m10\u001b[0m\u001b[1;33m,\u001b[0m\u001b[1;33m-\u001b[0m\u001b[1;36m1\u001b[0m\u001b[1;33m)\u001b[0m\u001b[1;33m,\u001b[0m \u001b[1;33m-\u001b[0m\u001b[0mnp\u001b[0m\u001b[1;33m.\u001b[0m\u001b[0marange\u001b[0m\u001b[1;33m(\u001b[0m\u001b[1;36m1\u001b[0m\u001b[1;33m,\u001b[0m\u001b[1;36m11\u001b[0m\u001b[1;33m)\u001b[0m\u001b[1;33m)\u001b[0m\u001b[1;33m\u001b[0m\u001b[1;33m\u001b[0m\u001b[0m\n\u001b[0m\u001b[0;32m      8\u001b[0m     \u001b[0mUIx2y\u001b[0m\u001b[1;33m.\u001b[0m\u001b[0mappend\u001b[0m\u001b[1;33m(\u001b[0m\u001b[0mInformation\u001b[0m\u001b[1;33m[\u001b[0m\u001b[1;33m(\u001b[0m\u001b[1;34m'Beer'\u001b[0m\u001b[1;33m,\u001b[0m\u001b[1;34m'UIx2y'\u001b[0m\u001b[1;33m)\u001b[0m\u001b[1;33m]\u001b[0m\u001b[1;33m)\u001b[0m\u001b[1;33m\u001b[0m\u001b[1;33m\u001b[0m\u001b[0m\n\u001b[0;32m      9\u001b[0m     \u001b[0mUIy2y\u001b[0m\u001b[1;33m.\u001b[0m\u001b[0mappend\u001b[0m\u001b[1;33m(\u001b[0m\u001b[0mInformation\u001b[0m\u001b[1;33m[\u001b[0m\u001b[1;33m(\u001b[0m\u001b[1;34m'Beer'\u001b[0m\u001b[1;33m,\u001b[0m\u001b[1;34m'UIy2y'\u001b[0m\u001b[1;33m)\u001b[0m\u001b[1;33m]\u001b[0m\u001b[1;33m)\u001b[0m\u001b[1;33m\u001b[0m\u001b[1;33m\u001b[0m\u001b[0m\n",
      "\u001b[1;32m<ipython-input-23-bc69d6daee0c>\u001b[0m in \u001b[0;36mTE\u001b[1;34m(x, y, xhist_list, yhist_list)\u001b[0m\n\u001b[0;32m     21\u001b[0m     \u001b[0mdat\u001b[0m\u001b[1;33m.\u001b[0m\u001b[0mappend\u001b[0m\u001b[1;33m(\u001b[0m\u001b[0my\u001b[0m\u001b[1;33m[\u001b[0m\u001b[1;33m-\u001b[0m\u001b[0mend\u001b[0m\u001b[1;33m:\u001b[0m\u001b[1;33m]\u001b[0m\u001b[1;33m)\u001b[0m\u001b[1;33m\u001b[0m\u001b[1;33m\u001b[0m\u001b[0m\n\u001b[0;32m     22\u001b[0m     \u001b[0medges\u001b[0m\u001b[1;33m.\u001b[0m\u001b[0mappend\u001b[0m\u001b[1;33m(\u001b[0m\u001b[0myedge\u001b[0m\u001b[1;33m)\u001b[0m\u001b[1;33m\u001b[0m\u001b[1;33m\u001b[0m\u001b[0m\n\u001b[1;32m---> 23\u001b[1;33m     \u001b[0mN\u001b[0m\u001b[1;33m,\u001b[0m \u001b[0m_\u001b[0m \u001b[1;33m=\u001b[0m \u001b[0mnp\u001b[0m\u001b[1;33m.\u001b[0m\u001b[0mhistogramdd\u001b[0m\u001b[1;33m(\u001b[0m\u001b[0mnp\u001b[0m\u001b[1;33m.\u001b[0m\u001b[0marray\u001b[0m\u001b[1;33m(\u001b[0m\u001b[0mdat\u001b[0m\u001b[1;33m)\u001b[0m\u001b[1;33m.\u001b[0m\u001b[0mT\u001b[0m\u001b[1;33m,\u001b[0m \u001b[0mbins\u001b[0m\u001b[1;33m=\u001b[0m\u001b[0medges\u001b[0m\u001b[1;33m)\u001b[0m\u001b[1;33m\u001b[0m\u001b[1;33m\u001b[0m\u001b[0m\n\u001b[0m\u001b[0;32m     24\u001b[0m     \u001b[0mN\u001b[0m \u001b[1;33m=\u001b[0m \u001b[0mnp\u001b[0m\u001b[1;33m.\u001b[0m\u001b[0mreshape\u001b[0m\u001b[1;33m(\u001b[0m\u001b[0mN\u001b[0m\u001b[1;33m,\u001b[0m \u001b[1;33m(\u001b[0m\u001b[0mlen\u001b[0m\u001b[1;33m(\u001b[0m\u001b[0mnp\u001b[0m\u001b[1;33m.\u001b[0m\u001b[0munique\u001b[0m\u001b[1;33m(\u001b[0m\u001b[0mx\u001b[0m\u001b[1;33m)\u001b[0m\u001b[1;33m)\u001b[0m\u001b[1;33m**\u001b[0m\u001b[0mlen\u001b[0m\u001b[1;33m(\u001b[0m\u001b[0mxhist_list\u001b[0m\u001b[1;33m)\u001b[0m\u001b[1;33m,\u001b[0m\u001b[0mlen\u001b[0m\u001b[1;33m(\u001b[0m\u001b[0mnp\u001b[0m\u001b[1;33m.\u001b[0m\u001b[0munique\u001b[0m\u001b[1;33m(\u001b[0m\u001b[0my\u001b[0m\u001b[1;33m)\u001b[0m\u001b[1;33m)\u001b[0m\u001b[1;33m**\u001b[0m\u001b[0mlen\u001b[0m\u001b[1;33m(\u001b[0m\u001b[0myhist_list\u001b[0m\u001b[1;33m)\u001b[0m\u001b[1;33m,\u001b[0m \u001b[0mlen\u001b[0m\u001b[1;33m(\u001b[0m\u001b[0mnp\u001b[0m\u001b[1;33m.\u001b[0m\u001b[0munique\u001b[0m\u001b[1;33m(\u001b[0m\u001b[0my\u001b[0m\u001b[1;33m)\u001b[0m\u001b[1;33m)\u001b[0m\u001b[1;33m)\u001b[0m\u001b[1;33m)\u001b[0m\u001b[1;33m\u001b[0m\u001b[1;33m\u001b[0m\u001b[0m\n\u001b[0;32m     25\u001b[0m     \u001b[1;31m#Calculate all kinds of probability and make sure the shape of them, 0 -> x, 1 -> v, 2 -> r\u001b[0m\u001b[1;33m\u001b[0m\u001b[1;33m\u001b[0m\u001b[1;33m\u001b[0m\u001b[0m\n",
      "\u001b[1;32m<__array_function__ internals>\u001b[0m in \u001b[0;36mhistogramdd\u001b[1;34m(*args, **kwargs)\u001b[0m\n",
      "\u001b[1;32m~\\anaconda3\\lib\\site-packages\\numpy\\lib\\histograms.py\u001b[0m in \u001b[0;36mhistogramdd\u001b[1;34m(sample, bins, range, normed, weights, density)\u001b[0m\n\u001b[0;32m   1088\u001b[0m     \u001b[1;31m# Compute the sample indices in the flattened histogram matrix.\u001b[0m\u001b[1;33m\u001b[0m\u001b[1;33m\u001b[0m\u001b[1;33m\u001b[0m\u001b[0m\n\u001b[0;32m   1089\u001b[0m     \u001b[1;31m# This raises an error if the array is too large.\u001b[0m\u001b[1;33m\u001b[0m\u001b[1;33m\u001b[0m\u001b[1;33m\u001b[0m\u001b[0m\n\u001b[1;32m-> 1090\u001b[1;33m     \u001b[0mxy\u001b[0m \u001b[1;33m=\u001b[0m \u001b[0mnp\u001b[0m\u001b[1;33m.\u001b[0m\u001b[0mravel_multi_index\u001b[0m\u001b[1;33m(\u001b[0m\u001b[0mNcount\u001b[0m\u001b[1;33m,\u001b[0m \u001b[0mnbin\u001b[0m\u001b[1;33m)\u001b[0m\u001b[1;33m\u001b[0m\u001b[1;33m\u001b[0m\u001b[0m\n\u001b[0m\u001b[0;32m   1091\u001b[0m \u001b[1;33m\u001b[0m\u001b[0m\n\u001b[0;32m   1092\u001b[0m     \u001b[1;31m# Compute the number of repetitions in xy and assign it to the\u001b[0m\u001b[1;33m\u001b[0m\u001b[1;33m\u001b[0m\u001b[1;33m\u001b[0m\u001b[0m\n",
      "\u001b[1;32m<__array_function__ internals>\u001b[0m in \u001b[0;36mravel_multi_index\u001b[1;34m(*args, **kwargs)\u001b[0m\n",
      "\u001b[1;31mValueError\u001b[0m: invalid dims: array size defined by dims is larger than the maximum possible size."
     ]
    }
   ],
   "source": [
    "hdms = np.arange(-199,0,10)\n",
    "UIx2y = []\n",
    "UIy2y = []\n",
    "Red = []\n",
    "Syn = []\n",
    "for shift in hdms:\n",
    "    Information = TE(x1n_state, x2n_state, np.arange(shift,shift-10,-1), -np.arange(1,11))\n",
    "    UIx2y.append(Information[('Beer','UIx2y')])\n",
    "    UIy2y.append(Information[('Beer','UIy2y')])\n",
    "    Red.append(Information[('Beer','Red')])\n",
    "    Syn.append(Information[('Beer','Syn')])"
   ]
  },
  {
   "cell_type": "code",
   "execution_count": 35,
   "metadata": {},
   "outputs": [],
   "source": [
    "x = x1n_state\n",
    "y = x2n_state\n",
    "xhist_list = np.arange(shift,shift-10,-2)\n",
    "yhist_list = -np.arange(1,11)\n",
    "\n",
    "\n",
    "xedge = np.append(np.unique(x),(max(x)+1))\n",
    "yedge = np.append(np.unique(y),(max(y)+1))\n",
    "dat = []\n",
    "edges = []\n",
    "end = min(xhist_list[-1], yhist_list[-1])\n",
    "for hist in xhist_list:\n",
    "    xhist = x[-end+hist:hist]\n",
    "    dat.append(xhist.copy())\n",
    "    edges.append(xedge)\n",
    "for hist in yhist_list:\n",
    "    yhist = y[-end+hist:hist]\n",
    "    dat.append(yhist.copy())\n",
    "    edges.append(yedge)\n",
    "dat.append(y[-end:])\n",
    "edges.append(yedge)"
   ]
  },
  {
   "cell_type": "code",
   "execution_count": 36,
   "metadata": {},
   "outputs": [
    {
     "data": {
      "text/plain": [
       "(16, 99792)"
      ]
     },
     "execution_count": 36,
     "metadata": {},
     "output_type": "execute_result"
    }
   ],
   "source": [
    "np.array(dat).shape"
   ]
  },
  {
   "cell_type": "code",
   "execution_count": 37,
   "metadata": {},
   "outputs": [
    {
     "ename": "MemoryError",
     "evalue": "Unable to allocate 63.2 PiB for an array with shape (8888888888888889,) and data type int64",
     "output_type": "error",
     "traceback": [
      "\u001b[1;31m---------------------------------------------------------------------------\u001b[0m",
      "\u001b[1;31mMemoryError\u001b[0m                               Traceback (most recent call last)",
      "\u001b[1;32m<ipython-input-37-31073213b4ed>\u001b[0m in \u001b[0;36m<module>\u001b[1;34m\u001b[0m\n\u001b[1;32m----> 1\u001b[1;33m \u001b[0mN\u001b[0m\u001b[1;33m,\u001b[0m \u001b[0m_\u001b[0m \u001b[1;33m=\u001b[0m \u001b[0mnp\u001b[0m\u001b[1;33m.\u001b[0m\u001b[0mhistogramdd\u001b[0m\u001b[1;33m(\u001b[0m\u001b[0mnp\u001b[0m\u001b[1;33m.\u001b[0m\u001b[0marray\u001b[0m\u001b[1;33m(\u001b[0m\u001b[0mdat\u001b[0m\u001b[1;33m)\u001b[0m\u001b[1;33m.\u001b[0m\u001b[0mT\u001b[0m\u001b[1;33m,\u001b[0m \u001b[0mbins\u001b[0m\u001b[1;33m=\u001b[0m\u001b[0medges\u001b[0m\u001b[1;33m)\u001b[0m\u001b[1;33m\u001b[0m\u001b[1;33m\u001b[0m\u001b[0m\n\u001b[0m",
      "\u001b[1;32m<__array_function__ internals>\u001b[0m in \u001b[0;36mhistogramdd\u001b[1;34m(*args, **kwargs)\u001b[0m\n",
      "\u001b[1;32m~\\anaconda3\\lib\\site-packages\\numpy\\lib\\histograms.py\u001b[0m in \u001b[0;36mhistogramdd\u001b[1;34m(sample, bins, range, normed, weights, density)\u001b[0m\n\u001b[0;32m   1092\u001b[0m     \u001b[1;31m# Compute the number of repetitions in xy and assign it to the\u001b[0m\u001b[1;33m\u001b[0m\u001b[1;33m\u001b[0m\u001b[1;33m\u001b[0m\u001b[0m\n\u001b[0;32m   1093\u001b[0m     \u001b[1;31m# flattened histmat.\u001b[0m\u001b[1;33m\u001b[0m\u001b[1;33m\u001b[0m\u001b[1;33m\u001b[0m\u001b[0m\n\u001b[1;32m-> 1094\u001b[1;33m     \u001b[0mhist\u001b[0m \u001b[1;33m=\u001b[0m \u001b[0mnp\u001b[0m\u001b[1;33m.\u001b[0m\u001b[0mbincount\u001b[0m\u001b[1;33m(\u001b[0m\u001b[0mxy\u001b[0m\u001b[1;33m,\u001b[0m \u001b[0mweights\u001b[0m\u001b[1;33m,\u001b[0m \u001b[0mminlength\u001b[0m\u001b[1;33m=\u001b[0m\u001b[0mnbin\u001b[0m\u001b[1;33m.\u001b[0m\u001b[0mprod\u001b[0m\u001b[1;33m(\u001b[0m\u001b[1;33m)\u001b[0m\u001b[1;33m)\u001b[0m\u001b[1;33m\u001b[0m\u001b[1;33m\u001b[0m\u001b[0m\n\u001b[0m\u001b[0;32m   1095\u001b[0m \u001b[1;33m\u001b[0m\u001b[0m\n\u001b[0;32m   1096\u001b[0m     \u001b[1;31m# Shape into a proper matrix\u001b[0m\u001b[1;33m\u001b[0m\u001b[1;33m\u001b[0m\u001b[1;33m\u001b[0m\u001b[0m\n",
      "\u001b[1;32m<__array_function__ internals>\u001b[0m in \u001b[0;36mbincount\u001b[1;34m(*args, **kwargs)\u001b[0m\n",
      "\u001b[1;31mMemoryError\u001b[0m: Unable to allocate 63.2 PiB for an array with shape (8888888888888889,) and data type int64"
     ]
    }
   ],
   "source": [
    "N, _ = np.histogramdd(np.array(dat).T, bins=edges)"
   ]
  },
  {
   "cell_type": "markdown",
   "metadata": {},
   "source": [
    "# NO more lines below this line"
   ]
  },
  {
   "cell_type": "code",
   "execution_count": 26,
   "metadata": {},
   "outputs": [
    {
     "data": {
      "text/plain": [
       "array([1, 1, 1, ..., 2, 2, 2])"
      ]
     },
     "execution_count": 26,
     "metadata": {},
     "output_type": "execute_result"
    }
   ],
   "source": [
    "x1n_state"
   ]
  },
  {
   "cell_type": "code",
   "execution_count": null,
   "metadata": {},
   "outputs": [],
   "source": []
  }
 ],
 "metadata": {
  "kernelspec": {
   "display_name": "Python 3",
   "language": "python",
   "name": "python3"
  },
  "language_info": {
   "codemirror_mode": {
    "name": "ipython",
    "version": 3
   },
   "file_extension": ".py",
   "mimetype": "text/x-python",
   "name": "python",
   "nbconvert_exporter": "python",
   "pygments_lexer": "ipython3",
   "version": "3.8.5"
  },
  "toc": {
   "base_numbering": 1,
   "nav_menu": {},
   "number_sections": true,
   "sideBar": true,
   "skip_h1_title": false,
   "title_cell": "Table of Contents",
   "title_sidebar": "Contents",
   "toc_cell": false,
   "toc_position": {
    "height": "calc(100% - 180px)",
    "left": "10px",
    "top": "150px",
    "width": "273.188px"
   },
   "toc_section_display": true,
   "toc_window_display": true
  },
  "varInspector": {
   "cols": {
    "lenName": 16,
    "lenType": 16,
    "lenVar": 40
   },
   "kernels_config": {
    "python": {
     "delete_cmd_postfix": "",
     "delete_cmd_prefix": "del ",
     "library": "var_list.py",
     "varRefreshCmd": "print(var_dic_list())"
    },
    "r": {
     "delete_cmd_postfix": ") ",
     "delete_cmd_prefix": "rm(",
     "library": "var_list.r",
     "varRefreshCmd": "cat(var_dic_list()) "
    }
   },
   "position": {
    "height": "261px",
    "left": "1008px",
    "right": "20px",
    "top": "120px",
    "width": "338px"
   },
   "types_to_exclude": [
    "module",
    "function",
    "builtin_function_or_method",
    "instance",
    "_Feature"
   ],
   "window_display": false
  }
 },
 "nbformat": 4,
 "nbformat_minor": 2
}
