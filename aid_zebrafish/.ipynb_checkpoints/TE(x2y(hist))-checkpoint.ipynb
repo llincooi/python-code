{
 "cells": [
  {
   "cell_type": "code",
   "execution_count": 1,
   "metadata": {},
   "outputs": [],
   "source": [
    "import numpy as np\n",
    "from random import gauss\n",
    "from math import sqrt\n",
    "import matplotlib as mpl\n",
    "mpl.use('nbagg')\n",
    "from mpl_toolkits.mplot3d import Axes3D\n",
    "import matplotlib.pyplot as plt"
   ]
  },
  {
   "cell_type": "code",
   "execution_count": 2,
   "metadata": {},
   "outputs": [],
   "source": [
    "def TE(x, y, xhist_list, yhist_list):\n",
    "    Information = dict()\n",
    "\n",
    "    parms = dict()\n",
    "    parms['max_iters'] = 20\n",
    "    # shifted data\n",
    "    # shift>0 => y shifted to positive side\n",
    "    xedge = np.append(np.unique(x),(max(x)+1))\n",
    "    yedge = np.append(np.unique(y),(max(y)+1))\n",
    "    dat = []\n",
    "    edges = []\n",
    "    end = min(xhist_list[-1], yhist_list[-1])\n",
    "    for hist in xhist_list:\n",
    "        xhist = x[-end+hist:hist]\n",
    "        dat.append(xhist.copy())\n",
    "        edges.append(xedge)\n",
    "    for hist in yhist_list:\n",
    "        yhist = y[-end+hist:hist]\n",
    "        dat.append(yhist.copy())\n",
    "        edges.append(yedge)\n",
    "    dat.append(y[-end:])\n",
    "    edges.append(yedge)\n",
    "    N, _ = np.histogramdd(np.array(dat).T, bins=edges)\n",
    "    N = np.reshape(N, (len(np.unique(x))**len(xhist_list),len(np.unique(y))**len(yhist_list), len(np.unique(y))))\n",
    "    #Calculate all kinds of probability and make sure the shape of them, 0 -> x, 1 -> v, 2 -> r\n",
    "    # x repersent x-hist\n",
    "    # v repersent y-hist\n",
    "    # r repersent y-now\n",
    "    px=(np.sum(N,axis=(1,2))/np.sum(N))[:, np.newaxis, np.newaxis]\n",
    "    pv=(np.sum(N,axis=(0,2))/np.sum(N))[np.newaxis, :, np.newaxis]\n",
    "    pr=(np.sum(N,axis=(0,1))/np.sum(N))[np.newaxis ,np.newaxis, :]\n",
    "    pxv=(np.sum(N,axis=2)/np.sum(N))[:, :, np.newaxis]\n",
    "    pxr=(np.sum(N,axis=1)/np.sum(N))[:, np.newaxis, :]\n",
    "    pvr=(np.sum(N,axis=0)/np.sum(N))[np.newaxis, :, :]\n",
    "    pxvr=(N/np.sum(N))\n",
    "\n",
    "\n",
    "    MIxr=np.nansum(pxr*np.log2(pxr/px/pr))\n",
    "    MIvr=np.nansum(pvr*np.log2(pvr/pv/pr))\n",
    "    MIxvR=np.nansum(pxvr*np.log2(pxvr/pxv/pr))\n",
    "    PI_xR = np.nansum(pxr*np.log2(pxr/px/pr), axis = (0,1))\n",
    "    PI_vR = np.nansum(pvr*np.log2(pvr/pv/pr), axis = (0,1))\n",
    "    R = sum(np.minimum(PI_xR, PI_vR))\n",
    "    Information[('Beer','Red')] = R\n",
    "    Information[('Beer','UIx2y')] = MIxr - R\n",
    "    Information[('Beer','UIy2y')] = MIvr - R\n",
    "    Information[('Beer','Syn')] = MIxvR - MIxr - MIvr + R\n",
    "\n",
    "    return Information"
   ]
  }
 ],
 "metadata": {
  "kernelspec": {
   "display_name": "Python 3",
   "language": "python",
   "name": "python3"
  },
  "language_info": {
   "codemirror_mode": {
    "name": "ipython",
    "version": 3
   },
   "file_extension": ".py",
   "mimetype": "text/x-python",
   "name": "python",
   "nbconvert_exporter": "python",
   "pygments_lexer": "ipython3",
   "version": "3.8.5"
  },
  "toc": {
   "base_numbering": 1,
   "nav_menu": {},
   "number_sections": true,
   "sideBar": true,
   "skip_h1_title": false,
   "title_cell": "Table of Contents",
   "title_sidebar": "Contents",
   "toc_cell": false,
   "toc_position": {},
   "toc_section_display": true,
   "toc_window_display": false
  },
  "varInspector": {
   "cols": {
    "lenName": 16,
    "lenType": 16,
    "lenVar": 40
   },
   "kernels_config": {
    "python": {
     "delete_cmd_postfix": "",
     "delete_cmd_prefix": "del ",
     "library": "var_list.py",
     "varRefreshCmd": "print(var_dic_list())"
    },
    "r": {
     "delete_cmd_postfix": ") ",
     "delete_cmd_prefix": "rm(",
     "library": "var_list.r",
     "varRefreshCmd": "cat(var_dic_list()) "
    }
   },
   "types_to_exclude": [
    "module",
    "function",
    "builtin_function_or_method",
    "instance",
    "_Feature"
   ],
   "window_display": false
  }
 },
 "nbformat": 4,
 "nbformat_minor": 4
}
