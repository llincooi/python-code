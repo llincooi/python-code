{
 "cells": [
  {
   "cell_type": "code",
   "execution_count": 1,
   "metadata": {},
   "outputs": [],
   "source": [
    "import numpy as np\n",
    "def NGD2L_TK_AS(T, epsilon, gamma, omegastar, deltastar, tau_y, Dmp):\n",
    "    dt = np.mean(np.diff(T))\n",
    "    dt = dt/50\n",
    "    T = np.arange(0, T[-1]+dt, dt)\n",
    "    x = T/tau_y /tau_y *np.exp(-T/tau_y)*dt\n",
    "    \n",
    "    Kw = -Dmp*( 1/np.cos(deltastar)*np.exp(-epsilon*T)*np.cos(T*omegastar+deltastar) -np.exp(-gamma*T) )\n",
    "    w = np.convolve(x, Kw, 'full')[:len(T):50]*dt\n",
    "    return w/(dt)"
   ]
  },
  {
   "cell_type": "code",
   "execution_count": 2,
   "metadata": {},
   "outputs": [],
   "source": [
    "import numpy as np\n",
    "def NGD_TK_AS(T, epsilon, omegastar, deltastar, tau_y, Bmp):\n",
    "    dt = np.mean(np.diff(T))\n",
    "    dt = 0.1*dt\n",
    "    T = np.arange(0, T[-1]+dt, dt)\n",
    "    x = T/tau_y /tau_y *np.exp(-T/tau_y)*dt\n",
    "    \n",
    "    Kt = -Bmp*np.exp(-T*epsilon)*np.cos(T*omegastar+deltastar)\n",
    "    return np.convolve(x, Kt, 'full')[:len(T):10]"
   ]
  },
  {
   "cell_type": "code",
   "execution_count": 3,
   "metadata": {},
   "outputs": [],
   "source": [
    "import numpy as np\n",
    "def ParaTrans(ASparadict, mag):     # because of overfitting, I assume alpha = mag*beta\n",
    "    for k in ASparadict.keys():\n",
    "        globals()[k] = ASparadict[k]\n",
    "    global beta, alpha, g, l, Amp \n",
    "    \n",
    "    beta = epsilon*2/(1+mag)\n",
    "    alpha = epsilon*2*mag/(1+mag)\n",
    "    g = omegastar**2 + (alpha-beta)**2 /4\n",
    "    l = ((2*omegastar*np.tan(deltastar)*(-beta+gamma)+(alpha-beta)*(beta-gamma)+2*g)/\n",
    "                (g*(-alpha-beta+2*gamma-2*omegastar*np.tan(deltastar))))\n",
    "    Amp = (g+alpha*beta-alpha*gamma-beta*gamma+gamma**2)/(-beta+gamma+g*l)\n",
    "    DiffParadict = {'alpha':[], 'beta':[], 'gamma':[], 'g':[], 'l':[], 'tau_y':[], 'Amp':[], 'error':[]}\n",
    "    for k in DiffParadict.keys():\n",
    "        DiffParadict[k] = globals()[k]\n",
    "    return DiffParadict"
   ]
  },
  {
   "cell_type": "code",
   "execution_count": 4,
   "metadata": {},
   "outputs": [],
   "source": [
    "# import numpy as np\n",
    "# def ParaTrans(ASparadict, mag):     # because of overfitting, I assume alpha = mag*beta\n",
    "#     for k in ASparadict.keys():\n",
    "#         globals()[k] = ASparadict[k]\n",
    "#     global beta, alpha, g, l, Amp \n",
    "    \n",
    "#     beta = epsilon*2/(1+mag)\n",
    "#     alpha = epsilon*2*mag/(1+mag)\n",
    "#     g = omegastar**2 + (alpha-beta)**2 /4\n",
    "#     l = ((2*omegastar*np.tan(deltastar)*(-beta+gamma)+(alpha-beta)*(beta-gamma)+2*g)/\n",
    "#                 (g*(-alpha-beta+2*gamma-2*omegastar*np.tan(deltastar))))\n",
    "#     Amp = (g+alpha*beta-alpha*gamma-beta*gamma+gamma**2)/(-beta+gamma+g*l)\n",
    "#     DiffParadict = {'alpha':[], 'beta':[], 'gamma':[], 'g':[], 'l':[], 'tau_y':[], 'Amp':[], 'error':[]}\n",
    "#     for k in DiffParadict.keys():\n",
    "#         DiffParadict[k] = globals()[k]\n",
    "#     return DiffParadict"
   ]
  }
 ],
 "metadata": {
  "kernelspec": {
   "display_name": "Python 3",
   "language": "python",
   "name": "python3"
  },
  "language_info": {
   "codemirror_mode": {
    "name": "ipython",
    "version": 3
   },
   "file_extension": ".py",
   "mimetype": "text/x-python",
   "name": "python",
   "nbconvert_exporter": "python",
   "pygments_lexer": "ipython3",
   "version": "3.7.6"
  },
  "toc": {
   "base_numbering": 1,
   "nav_menu": {},
   "number_sections": true,
   "sideBar": true,
   "skip_h1_title": false,
   "title_cell": "Table of Contents",
   "title_sidebar": "Contents",
   "toc_cell": false,
   "toc_position": {},
   "toc_section_display": true,
   "toc_window_display": false
  },
  "varInspector": {
   "cols": {
    "lenName": 16,
    "lenType": 16,
    "lenVar": 40
   },
   "kernels_config": {
    "python": {
     "delete_cmd_postfix": "",
     "delete_cmd_prefix": "del ",
     "library": "var_list.py",
     "varRefreshCmd": "print(var_dic_list())"
    },
    "r": {
     "delete_cmd_postfix": ") ",
     "delete_cmd_prefix": "rm(",
     "library": "var_list.r",
     "varRefreshCmd": "cat(var_dic_list()) "
    }
   },
   "types_to_exclude": [
    "module",
    "function",
    "builtin_function_or_method",
    "instance",
    "_Feature"
   ],
   "window_display": false
  }
 },
 "nbformat": 4,
 "nbformat_minor": 4
}
