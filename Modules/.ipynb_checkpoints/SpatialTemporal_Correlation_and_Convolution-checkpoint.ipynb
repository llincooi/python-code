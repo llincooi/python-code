{
 "cells": [
  {
   "cell_type": "markdown",
   "metadata": {},
   "source": [
    "Because signal.2dcorrelate is extremely slow. It would be faster using for-loop and np.correlate for a one-short-side 2d output. So do convolution."
   ]
  },
  {
   "cell_type": "code",
   "execution_count": 1,
   "metadata": {},
   "outputs": [],
   "source": [
    "import numpy as np\n",
    "# from numba import jit\n",
    "# import matplotlib.pyplot as plt"
   ]
  },
  {
   "cell_type": "code",
   "execution_count": 2,
   "metadata": {
    "run_control": {
     "marked": false
    }
   },
   "outputs": [],
   "source": [
    "# @jit\n",
    "def STcorrelate(x,y,tstep,dx,dt,c=1):\n",
    "    if c ==1:\n",
    "        x_c = x-np.mean(x)\n",
    "        y_c = y-np.mean(y)\n",
    "    else:\n",
    "        x_c = x.copy()\n",
    "        y_c = y.copy()\n",
    "    STkernel = np.zeros([len(tstep),max(x.shape[1], y.shape[1])])\n",
    "    time_axis = tstep*dt\n",
    "    space_axis = np.arange(max(x.shape[1], y.shape[1]))*dx\n",
    "    space_axis = space_axis-np.mean(space_axis)\n",
    "    for i in range(len(tstep)):\n",
    "        for ii in np.arange(max(-tstep[i],0), y_c.shape[0]-1+min(-tstep[i], 0)):\n",
    "            STkernel[i,:] += np.correlate(y_c[ii,:],x_c[tstep[i]+ii, :],'same')*dx*dt\n",
    "    return STkernel, (time_axis, space_axis)"
   ]
  },
  {
   "cell_type": "code",
   "execution_count": 3,
   "metadata": {},
   "outputs": [],
   "source": [
    "# @jit\n",
    "def STconvolve(x,k,dx,dt):\n",
    "    output = np.zeros([x.shape[0], max(x.shape[1], k.shape[1])])\n",
    "    for i in range(x.shape[0]):\n",
    "        for ii in np.arange(max(i-k.shape[0]+1, 0), i+1):\n",
    "            output[i,:] += np.convolve(x[ii,:],k[i-ii, :],'same')*dx*dt\n",
    "    return output"
   ]
  },
  {
   "cell_type": "code",
   "execution_count": 4,
   "metadata": {},
   "outputs": [],
   "source": [
    "# @jit\n",
    "def ST_STA(x,r,tstep,dx,dt,c = 0):\n",
    "    y = r\n",
    "    if c == 1:\n",
    "        x_c = x-np.mean(x)\n",
    "        y_c = y-np.mean(y)\n",
    "    else:\n",
    "        x_c = x.copy()\n",
    "        y_c = y.copy()\n",
    "    STkernel = np.zeros([len(tstep),max(x.shape[1], y.shape[1])])\n",
    "    Denominator = np.zeros([len(tstep),max(x.shape[1], y.shape[1])])\n",
    "    time_axis = tstep*dt\n",
    "    space_axis = np.arange(max(x.shape[1], y.shape[1]))*dx\n",
    "    space_axis = space_axis-np.mean(space_axis)\n",
    "    for i in range(len(tstep)):\n",
    "        for ii in np.arange(max(-tstep[i],0), y_c.shape[0]-1+min(-tstep[i], 0)):\n",
    "            STkernel[i,:] += np.correlate(y_c[ii,:],x_c[tstep[i]+ii, :],'same')*dx*dt\n",
    "            Denominator[i,:] += np.correlate(y_c[ii,:],np.ones_like(x_c[tstep[i]+ii, :]),'same')*dx*dt\n",
    "    return STkernel/Denominator, (time_axis, space_axis)"
   ]
  },
  {
   "cell_type": "code",
   "execution_count": null,
   "metadata": {},
   "outputs": [],
   "source": []
  }
 ],
 "metadata": {
  "kernelspec": {
   "display_name": "Python 3",
   "language": "python",
   "name": "python3"
  },
  "language_info": {
   "codemirror_mode": {
    "name": "ipython",
    "version": 3
   },
   "file_extension": ".py",
   "mimetype": "text/x-python",
   "name": "python",
   "nbconvert_exporter": "python",
   "pygments_lexer": "ipython3",
   "version": "3.7.6"
  },
  "toc": {
   "base_numbering": 1,
   "nav_menu": {},
   "number_sections": true,
   "sideBar": true,
   "skip_h1_title": false,
   "title_cell": "Table of Contents",
   "title_sidebar": "Contents",
   "toc_cell": false,
   "toc_position": {},
   "toc_section_display": true,
   "toc_window_display": false
  },
  "varInspector": {
   "cols": {
    "lenName": 16,
    "lenType": 16,
    "lenVar": 40
   },
   "kernels_config": {
    "python": {
     "delete_cmd_postfix": "",
     "delete_cmd_prefix": "del ",
     "library": "var_list.py",
     "varRefreshCmd": "print(var_dic_list())"
    },
    "r": {
     "delete_cmd_postfix": ") ",
     "delete_cmd_prefix": "rm(",
     "library": "var_list.r",
     "varRefreshCmd": "cat(var_dic_list()) "
    }
   },
   "types_to_exclude": [
    "module",
    "function",
    "builtin_function_or_method",
    "instance",
    "_Feature"
   ],
   "window_display": false
  }
 },
 "nbformat": 4,
 "nbformat_minor": 4
}
