{
 "cells": [
  {
   "cell_type": "markdown",
   "metadata": {},
   "source": [
    "# import"
   ]
  },
  {
   "cell_type": "code",
   "execution_count": 1,
   "metadata": {},
   "outputs": [
    {
     "name": "stdout",
     "output_type": "stream",
     "text": [
      "importing Jupyter notebook from time_shifted_PID.ipynb\n"
     ]
    }
   ],
   "source": [
    "import numpy as np\n",
    "import matplotlib.pyplot as plt\n",
    "from mpl_toolkits import mplot3d\n",
    "from matplotlib.ticker import MaxNLocator\n",
    "from mpl_toolkits.mplot3d import Axes3D\n",
    "import math\n",
    "from scipy import signal\n",
    "from scipy.fftpack import fft\n",
    "from scipy import ndimage\n",
    "from scipy.io import loadmat\n",
    "import os\n",
    "import import_ipynb\n",
    "os.chdir(os.getcwd()+'\\\\Modules')\n",
    "from time_shifted_PID import PIfunc\n",
    "%matplotlib inline"
   ]
  },
  {
   "cell_type": "code",
   "execution_count": 2,
   "metadata": {},
   "outputs": [],
   "source": [
    "def nc(x):\n",
    "    x = x.astype(float)\n",
    "    return (x-np.mean(x))/np.std(x)"
   ]
  },
  {
   "cell_type": "markdown",
   "metadata": {},
   "source": [
    "# Main"
   ]
  },
  {
   "cell_type": "markdown",
   "metadata": {},
   "source": [
    "## input"
   ]
  },
  {
   "cell_type": "code",
   "execution_count": 2,
   "metadata": {},
   "outputs": [],
   "source": [
    "dt = 0.01\n",
    "Tot=300\n",
    "T=np.arange(dt,Tot,dt)\n",
    "OX = 'RN'\n",
    "# OX = 'OU'"
   ]
  },
  {
   "cell_type": "code",
   "execution_count": 8,
   "metadata": {},
   "outputs": [
    {
     "data": {
      "text/plain": [
       "29999"
      ]
     },
     "execution_count": 8,
     "metadata": {},
     "output_type": "execute_result"
    }
   ],
   "source": [
    "len(xSTA)"
   ]
  },
  {
   "cell_type": "code",
   "execution_count": 48,
   "metadata": {},
   "outputs": [],
   "source": [
    "if OX == 'RN':\n",
    "    D = 27*10**5\n",
    "    RN=np.zeros(len(T))\n",
    "    mu, sigma = 0, 1\n",
    "    RN=np.random.normal(mu,sigma,size = (len(T)))\n",
    "    RN = (RN-np.mean(RN))/np.std(RN)\n",
    "    x_list = [RN.copy()]\n",
    "    Gsigma_list = np.arange(0,102,10)\n",
    "    for i in np.arange(1,len(Gsigma_list)):\n",
    "        x = ndimage.gaussian_filter1d(RN, sigma=Gsigma_list[i])\n",
    "        x = x.astype(float)\n",
    "        x_list.append(x.copy())\n",
    "        \n",
    "    D = 27*10**5\n",
    "    RN=np.zeros(len(T))\n",
    "    mu, sigma = 0, 1\n",
    "    RN=np.random.normal(mu,sigma,size = (len(T)))\n",
    "    RN = (RN-np.mean(RN))/np.std(RN)\n",
    "    z_list = [RN.copy()]\n",
    "    Gsigma_list = np.arange(0,102,10)\n",
    "    for i in np.arange(1,len(Gsigma_list)):\n",
    "        z = ndimage.gaussian_filter1d(RN, sigma=Gsigma_list[i])\n",
    "        z = z.astype(float)\n",
    "        z_list.append(z.copy())\n",
    "elif OX == 'OU':\n",
    "    # OU ; input\n",
    "    tau= 1\n",
    "    D = 27*10**5\n",
    "    OU=np.zeros(len(T))\n",
    "    mu, sigma = 0, 1\n",
    "    for i in range(len(T)-1):\n",
    "        OU[i+1]=OU[i]*(1-dt/tau)+math.sqrt(D*dt)*np.random.normal(mu,sigma)\n",
    "    OU = (OU-np.mean(OU))/np.std(OU)\n",
    "\n",
    "    # filtering for OUSmoothed\n",
    "    x_list = []\n",
    "    Fc_list = 2**np.arange(-1.,4.,1.)\n",
    "    for Fc in Fc_list:\n",
    "        b, a = signal.butter(2, 2*Fc*dt, btype='low', analog=False)\n",
    "        x = signal.filtfilt(b, a, OU)\n",
    "        x = x.astype(float)\n",
    "        x_list.append(x.copy())\n",
    "    Fc_list = np.append(Fc_list, 4*Fc_list[-1])\n",
    "    x_list.append(OU)"
   ]
  },
  {
   "cell_type": "code",
   "execution_count": 49,
   "metadata": {},
   "outputs": [],
   "source": [
    "v_list = []\n",
    "for i in range(len(x_list)):\n",
    "    x = x_list[i].copy()\n",
    "    tv = ndimage.gaussian_filter1d(x.copy(), sigma=1, order=1, mode='reflect') / dt\n",
    "    v = np.append(0,(np.diff(x)/dt))\n",
    "    v_list.append(v.copy())"
   ]
  },
  {
   "cell_type": "code",
   "execution_count": 54,
   "metadata": {},
   "outputs": [
    {
     "name": "stdout",
     "output_type": "stream",
     "text": [
      "PT=0.0(s)\n"
     ]
    },
    {
     "data": {
      "image/png": "[encoded data removed]",
      "text/plain": [
       "<Figure size 432x288 with 1 Axes>"
      ]
     },
     "metadata": {
      "needs_background": "light"
     },
     "output_type": "display_data"
    }
   ],
   "source": [
    "x1 = v_list[2]\n",
    "x2 = z_list[3]\n",
    "# x2 = x0\n",
    "\n",
    "Lambda = 0.5\n",
    "r = (1-Lambda)*x1+Lambda*x2\n",
    "\n",
    "xSTA = np.correlate(nc(x1), nc(r), 'same')#/ np.correlate(np.ones_like(x1), rstate, 'same')\n",
    "vSTA = np.correlate(nc(x2), nc(r), 'same')#/ np.correlate(np.ones_like(x2), rstate, 'same')\n",
    "plt.plot(T-np.mean(T), np.sqrt(xSTA**2+vSTA**2), 'k')\n",
    "plt.plot(T-np.mean(T), xSTA, 'r')\n",
    "plt.plot(T-np.mean(T), vSTA, 'b')\n",
    "# plt.gca().set_ylabel('STA')\n",
    "plt.grid()\n",
    "plt.xlim([-1,1])\n",
    "print('PT='+str((T-np.mean(T))[np.argmax(xSTA**2+vSTA**2)])+'(s)')"
   ]
  },
  {
   "cell_type": "code",
   "execution_count": null,
   "metadata": {},
   "outputs": [],
   "source": []
  }
 ],
 "metadata": {
  "kernelspec": {
   "display_name": "Python 3",
   "language": "python",
   "name": "python3"
  },
  "language_info": {
   "codemirror_mode": {
    "name": "ipython",
    "version": 3
   },
   "file_extension": ".py",
   "mimetype": "text/x-python",
   "name": "python",
   "nbconvert_exporter": "python",
   "pygments_lexer": "ipython3",
   "version": "3.7.6"
  },
  "toc": {
   "base_numbering": "0",
   "nav_menu": {},
   "number_sections": true,
   "sideBar": true,
   "skip_h1_title": false,
   "title_cell": "Table of Contents",
   "title_sidebar": "Contents",
   "toc_cell": false,
   "toc_position": {
    "height": "calc(100% - 180px)",
    "left": "10px",
    "top": "150px",
    "width": "165px"
   },
   "toc_section_display": true,
   "toc_window_display": true
  },
  "varInspector": {
   "cols": {
    "lenName": 16,
    "lenType": 16,
    "lenVar": 40
   },
   "kernels_config": {
    "python": {
     "delete_cmd_postfix": "",
     "delete_cmd_prefix": "del ",
     "library": "var_list.py",
     "varRefreshCmd": "print(var_dic_list())"
    },
    "r": {
     "delete_cmd_postfix": ") ",
     "delete_cmd_prefix": "rm(",
     "library": "var_list.r",
     "varRefreshCmd": "cat(var_dic_list()) "
    }
   },
   "position": {
    "height": "289.703px",
    "left": "1548.44px",
    "right": "20px",
    "top": "117px",
    "width": "350px"
   },
   "types_to_exclude": [
    "module",
    "function",
    "builtin_function_or_method",
    "instance",
    "_Feature"
   ],
   "window_display": false
  }
 },
 "nbformat": 4,
 "nbformat_minor": 4
}
