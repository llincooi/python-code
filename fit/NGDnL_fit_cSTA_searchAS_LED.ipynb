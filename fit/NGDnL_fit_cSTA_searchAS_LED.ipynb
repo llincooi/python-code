{
 "cells": [
  {
   "cell_type": "markdown",
   "metadata": {},
   "source": [
    "# Functions"
   ]
  },
  {
   "cell_type": "code",
   "execution_count": 1,
   "metadata": {
    "run_control": {
     "marked": true
    }
   },
   "outputs": [
    {
     "name": "stdout",
     "output_type": "stream",
     "text": [
      "importing Jupyter notebook from StimulusnResponse.ipynb\n"
     ]
    }
   ],
   "source": [
    "import numpy as np\n",
    "import matplotlib.pyplot as plt\n",
    "from scipy.io import loadmat\n",
    "from scipy.optimize import curve_fit\n",
    "import os\n",
    "import warnings\n",
    "warnings.filterwarnings('ignore')\n",
    "%matplotlib inline\n",
    "\n",
    "import import_ipynb\n",
    "try:\n",
    "    os.chdir('C:\\\\Users\\\\hydro_leo\\\\Documents\\\\GitHub\\\\python-code\\\\Modules')\n",
    "except:\n",
    "    os.chdir('C:\\\\Users\\\\llinc\\\\GitHub\\\\python-code\\\\Modules')\n",
    "from StimulusnResponse import expSnR"
   ]
  },
  {
   "cell_type": "code",
   "execution_count": 2,
   "metadata": {},
   "outputs": [],
   "source": [
    "#This function deals with differentiation of angle within [-pi,pi).\n",
    "#It will fail if angle array x change too fast.\n",
    "def angular_gradient(x):\n",
    "    diffx= np.gradient(x)\n",
    "    diffx[np.abs(diffx)>0.6*np.pi] -= np.pi*diffx[np.abs(diffx)>0.6*np.pi]/abs(diffx[np.abs(diffx)>0.6*np.pi])\n",
    "    return diffx"
   ]
  },
  {
   "cell_type": "markdown",
   "metadata": {},
   "source": [
    "![title](D:\\GoogleDrive\\retina\\Chou's data\\20210504\\FIG\\cSTA\\fitNGD2Lparameter.tiff)"
   ]
  },
  {
   "cell_type": "code",
   "execution_count": 3,
   "metadata": {},
   "outputs": [
    {
     "data": {
      "text/plain": [
       "[<matplotlib.lines.Line2D at 0x2e12c38e2c8>]"
      ]
     },
     "execution_count": 3,
     "metadata": {},
     "output_type": "execute_result"
    },
    {
     "data": {
      "image/png": "[encoded data removed]",
      "text/plain": [
       "<Figure size 432x288 with 1 Axes>"
      ]
     },
     "metadata": {
      "needs_background": "light"
     },
     "output_type": "display_data"
    }
   ],
   "source": [
    "fig, ax = plt.subplots()\n",
    "dt = 0.01\n",
    "x_list, T_list, rstate_list = expSnR(['D:\\\\GoogleDrive\\\\retina\\\\Chou\\'s data\\\\20200408\\\\20200408_cSTA_sort_unit2.mat']\n",
    "                                     , dt, 'LED', np.arange(60)+1)\n",
    "x = x_list[0]\n",
    "x = x-np.mean(x)\n",
    "cn = 53-1\n",
    "rstate = rstate_list[0][cn,:]\n",
    "cSTA = np.correlate(x , rstate, 'same')/ np.correlate(np.ones_like(x), rstate, 'same')\n",
    "cSTA = cSTA[int(len(cSTA)/2):int(len(cSTA)/2-1/dt)-1:-1]\n",
    "taxis = -np.arange(len(cSTA))*dt\n",
    "ax.plot(taxis, cSTA, 'b+:')"
   ]
  },
  {
   "cell_type": "markdown",
   "metadata": {},
   "source": [
    "# NGD1L"
   ]
  },
  {
   "cell_type": "code",
   "execution_count": 4,
   "metadata": {},
   "outputs": [],
   "source": [
    "def NGD_TK(T, alpha, beta, g,  tau_y, Amp):\n",
    "    dt = np.mean(np.diff(T))\n",
    "    dt = 0.1*dt\n",
    "    T = np.arange(0, T[-1]+dt, dt)\n",
    "    x = T/tau_y /tau_y *np.exp(-T/tau_y)*dt\n",
    "    \n",
    "    y=np.zeros_like(x)\n",
    "    z=np.zeros_like(x)\n",
    "    w=np.zeros_like(x)\n",
    "    for j in range(len(x)-1):\n",
    "        dy=dt*(-alpha*y[j] + -x[j]-z[j] )\n",
    "        dz=dt*(-beta *z[j]  + g*y[j] )\n",
    "        y[j+1]=y[j]+dy\n",
    "        z[j+1]=z[j]+dz\n",
    "#     print(len(w), len(w[::10]))\n",
    "    return Amp*y[::10]/(dt) #normalized by integration"
   ]
  },
  {
   "cell_type": "code",
   "execution_count": 5,
   "metadata": {},
   "outputs": [],
   "source": [
    "def NGD_TK_AS(T, tau, omegastar, deltastar, tau_y, Bmp):\n",
    "    dt = np.mean(np.diff(T))\n",
    "    dt = 0.1*dt\n",
    "    T = np.arange(0, T[-1]+dt, dt)\n",
    "    x = T/tau_y /tau_y *np.exp(-T/tau_y)*dt\n",
    "    \n",
    "    Kt = -Bmp*np.exp(-T/tau)*np.cos(T*omegastar+deltastar)\n",
    "    return np.convolve(x, Kt, 'full')[:len(T):10]"
   ]
  },
  {
   "cell_type": "code",
   "execution_count": 6,
   "metadata": {
    "run_control": {
     "marked": false
    }
   },
   "outputs": [
    {
     "name": "stdout",
     "output_type": "stream",
     "text": [
      "alpha: 29.720752078374467\n",
      "beta : 0.8985577712627879\n",
      "g    : 2161.968546114135\n",
      "tau_y: 0.0703792898689763\n",
      "Amp  : 17.223775670410063\n"
     ]
    },
    {
     "data": {
      "image/png": "[encoded data removed]",
      "text/plain": [
       "<Figure size 432x288 with 1 Axes>"
      ]
     },
     "execution_count": 6,
     "metadata": {},
     "output_type": "execute_result"
    }
   ],
   "source": [
    "alpha, beta = 14.,1.2\n",
    "g = 680.\n",
    "tau_y = 0.03\n",
    "Amp = 4\n",
    "popt,pcov = curve_fit(NGD_TK, np.abs(taxis) , cSTA, p0=[alpha, beta, g,  tau_y, Amp],\n",
    "                      bounds = ([0     , 0     , 0     , 0     , 0     ],\n",
    "                                [np.inf, np.inf, np.inf, 0.6   , np.inf]) )\n",
    "[alpha, beta, g,  tau_y, Amp] = popt\n",
    "print('alpha:',alpha)\n",
    "print('beta :',beta)\n",
    "print('g    :',g)\n",
    "print('tau_y:',tau_y)\n",
    "print('Amp  :',Amp)\n",
    "fit_cSTA = NGD_TK(np.abs(taxis), *popt).copy()\n",
    "ax.plot(taxis, fit_cSTA)\n",
    "fig"
   ]
  },
  {
   "cell_type": "markdown",
   "metadata": {},
   "source": [
    "## Parameter Transfer"
   ]
  },
  {
   "cell_type": "code",
   "execution_count": 7,
   "metadata": {},
   "outputs": [
    {
     "name": "stdout",
     "output_type": "stream",
     "text": [
      "alpha: 29.720752078374467\n",
      "beta : 0.8985577712627879\n",
      "g    : 2161.968546114135\n",
      "tau_y: 0.0703792898689763\n",
      "Amp  : 17.223775670410063\n",
      "\n",
      "\n",
      "alpha: 29.72075207837446\n",
      "beta : 0.898557771262789\n",
      "g    : 2161.9685461141344\n",
      "tau_y: 0.0703792898689763\n",
      "Amp  : 17.223775670410063\n"
     ]
    }
   ],
   "source": [
    "print('alpha:',alpha)\n",
    "print('beta :',beta)\n",
    "print('g    :',g)\n",
    "print('tau_y:',tau_y)\n",
    "print('Amp  :',Amp)\n",
    "tau = 2/(alpha+beta)\n",
    "omegastar = np.sqrt(4*g-(alpha-beta)**2)/2\n",
    "deltastar = np.arctan((alpha-beta)/np.sqrt(4*g-(alpha-beta)**2))\n",
    "Bmp = Amp*np.sqrt(4*g)/np.sqrt(4*g-(alpha-beta)**2) #=A/np.cos(deltastar)\n",
    "print('\\n')\n",
    "print('alpha:',1/tau+omegastar*np.tan(deltastar))\n",
    "print('beta :',1/tau-omegastar*np.tan(deltastar))\n",
    "print('g    :',omegastar**2*(1+np.tan(deltastar)**2))\n",
    "print('tau_y:',tau_y)\n",
    "print('Amp  :',Bmp*np.cos(deltastar))"
   ]
  },
  {
   "cell_type": "code",
   "execution_count": 8,
   "metadata": {},
   "outputs": [
    {
     "name": "stdout",
     "output_type": "stream",
     "text": [
      "tau      : 0.06531825863552879\n",
      "omegastar: 44.20733903940509\n",
      "deltastar: 0.3151259696234272\n",
      "tau_y    : 0.0703792898689763\n",
      "Bmp      : 18.11584815074542\n"
     ]
    },
    {
     "data": {
      "image/png": "[encoded data removed]",
      "text/plain": [
       "<Figure size 432x288 with 1 Axes>"
      ]
     },
     "metadata": {
      "needs_background": "light"
     },
     "output_type": "display_data"
    }
   ],
   "source": [
    "plt.plot(taxis, fit_cSTA)\n",
    "test_cSTA = NGD_TK_AS(np.abs(taxis), tau, omegastar, deltastar, tau_y, Bmp)\n",
    "plt.plot(taxis, test_cSTA)\n",
    "print('tau      :',2/(alpha+beta))\n",
    "print('omegastar:',np.sqrt(4*g-(alpha-beta)**2)/2)\n",
    "print('deltastar:',np.arctan((alpha-beta)/np.sqrt(4*g-(alpha-beta)**2)))\n",
    "print('tau_y    :',tau_y)\n",
    "print('Bmp      :',Amp*np.sqrt(4*g)/np.sqrt(4*g-(alpha-beta)**2))"
   ]
  },
  {
   "cell_type": "code",
   "execution_count": 9,
   "metadata": {
    "run_control": {
     "marked": false
    }
   },
   "outputs": [
    {
     "name": "stdout",
     "output_type": "stream",
     "text": [
      "tau      : 0.07178929872142926\n",
      "omegastar: 44.48571100175153\n",
      "deltastar: 0.3075910703959358\n",
      "tau_y    : 0.07201062642778806\n",
      "Bmp      : 18.142148853401704\n"
     ]
    },
    {
     "data": {
      "image/png": "[encoded data removed]",
      "text/plain": [
       "<Figure size 432x288 with 1 Axes>"
      ]
     },
     "execution_count": 9,
     "metadata": {},
     "output_type": "execute_result"
    }
   ],
   "source": [
    "tau  = 1/10\n",
    "omegastar= 32\n",
    "deltastar= 0.\n",
    "tau_y    = 0.06\n",
    "Bmp      = 17\n",
    "\n",
    "popt,pcov = curve_fit(NGD_TK_AS, np.abs(taxis) , cSTA, p0=[tau, omegastar, deltastar, tau_y, Bmp],\n",
    "                      bounds = ([0     , 0     , 0     , 0     , 0     ],\n",
    "                                [np.inf, np.inf, np.inf, 0.6   , np.inf]) )\n",
    "[tau, omegastar, deltastar, tau_y, Bmp] = popt\n",
    "print('tau      :',tau)\n",
    "print('omegastar:',omegastar)\n",
    "print('deltastar:',deltastar)\n",
    "print('tau_y    :',tau_y)\n",
    "print('Bmp      :',Bmp)\n",
    "fit_cSTA = NGD_TK_AS(np.abs(taxis), *popt).copy()\n",
    "ax.plot(taxis, fit_cSTA)\n",
    "fig"
   ]
  },
  {
   "cell_type": "markdown",
   "metadata": {},
   "source": [
    "# NGD2L_FBFF "
   ]
  },
  {
   "cell_type": "code",
   "execution_count": 10,
   "metadata": {},
   "outputs": [],
   "source": [
    "def NGD2L_TK(T, alpha, beta, gamma, g, h, tau_y, Amp):\n",
    "    dt = np.mean(np.diff(T))\n",
    "    dt = dt/50\n",
    "    T = np.arange(0, T[-1]+dt, dt)\n",
    "    x = T/tau_y /tau_y *np.exp(-T/tau_y)*dt\n",
    "    \n",
    "    y=np.zeros_like(x)\n",
    "    z=np.zeros_like(x)\n",
    "    w=np.zeros_like(x)\n",
    "    for j in range(len(x)-1):\n",
    "        dy=dt*(-alpha*y[j] + x[j]-z[j] )\n",
    "        dz=dt*(-beta *z[j] + g*y[j] )\n",
    "        dw=dt*(-gamma*w[j] + y[j]-h*z[j] )\n",
    "        y[j+1]=y[j]+dy\n",
    "        z[j+1]=z[j]+dz\n",
    "        w[j+1]=w[j]+dw\n",
    "#     print(len(w), len(w[::10]))\n",
    "    return -Amp*w[::50]/(dt)#normalized by integration"
   ]
  },
  {
   "cell_type": "code",
   "execution_count": 11,
   "metadata": {},
   "outputs": [],
   "source": [
    "def NGD2L_TK_AS(T, tau, gamma, omegastar, deltastar, tau_y, Dmp):\n",
    "    dt = np.mean(np.diff(T))\n",
    "    dt = dt/50\n",
    "    T = np.arange(0, T[-1]+dt, dt)\n",
    "    x = T/tau_y /tau_y *np.exp(-T/tau_y)*dt\n",
    "    \n",
    "    Kw = -Dmp*( 1/np.cos(deltastar)*np.exp(-T/tau)*np.cos(T*omegastar+deltastar) -np.exp(-gamma*T) )\n",
    "    w = np.convolve(x, Kw, 'full')[:len(T):50]*dt\n",
    "    return w/(dt)"
   ]
  },
  {
   "cell_type": "code",
   "execution_count": 12,
   "metadata": {},
   "outputs": [
    {
     "ename": "RuntimeError",
     "evalue": "Optimal parameters not found: The maximum number of function evaluations is exceeded.",
     "output_type": "error",
     "traceback": [
      "\u001b[1;31m---------------------------------------------------------------------------\u001b[0m",
      "\u001b[1;31mRuntimeError\u001b[0m                              Traceback (most recent call last)",
      "\u001b[1;32m<ipython-input-12-76392accc3a1>\u001b[0m in \u001b[0;36m<module>\u001b[1;34m\u001b[0m\n\u001b[0;32m      7\u001b[0m popt,pcov = curve_fit(NGD2L_TK, np.abs(taxis) , cSTA, p0=[alpha, beta, gamma, g, h, tau_y, Amp],\n\u001b[0;32m      8\u001b[0m                       bounds = ([0     , 0     , 0     , 0     , 0     , 0     , 0     ],\n\u001b[1;32m----> 9\u001b[1;33m                                 [np.inf, np.inf, np.inf, np.inf, np.inf, 0.6   , np.inf]) )\n\u001b[0m\u001b[0;32m     10\u001b[0m \u001b[1;33m[\u001b[0m\u001b[0malpha\u001b[0m\u001b[1;33m,\u001b[0m \u001b[0mbeta\u001b[0m\u001b[1;33m,\u001b[0m \u001b[0mgamma\u001b[0m\u001b[1;33m,\u001b[0m \u001b[0mg\u001b[0m\u001b[1;33m,\u001b[0m \u001b[0mh\u001b[0m\u001b[1;33m,\u001b[0m \u001b[0mtau_y\u001b[0m\u001b[1;33m,\u001b[0m \u001b[0mAmp\u001b[0m\u001b[1;33m]\u001b[0m \u001b[1;33m=\u001b[0m \u001b[0mpopt\u001b[0m\u001b[1;33m\u001b[0m\u001b[1;33m\u001b[0m\u001b[0m\n\u001b[0;32m     11\u001b[0m \u001b[0mprint\u001b[0m\u001b[1;33m(\u001b[0m\u001b[1;34m'alpha :'\u001b[0m\u001b[1;33m,\u001b[0m\u001b[0malpha\u001b[0m\u001b[1;33m)\u001b[0m\u001b[1;33m\u001b[0m\u001b[1;33m\u001b[0m\u001b[0m\n",
      "\u001b[1;32m~\\anaconda3\\lib\\site-packages\\scipy\\optimize\\minpack.py\u001b[0m in \u001b[0;36mcurve_fit\u001b[1;34m(f, xdata, ydata, p0, sigma, absolute_sigma, check_finite, bounds, method, jac, **kwargs)\u001b[0m\n\u001b[0;32m    776\u001b[0m \u001b[1;33m\u001b[0m\u001b[0m\n\u001b[0;32m    777\u001b[0m         \u001b[1;32mif\u001b[0m \u001b[1;32mnot\u001b[0m \u001b[0mres\u001b[0m\u001b[1;33m.\u001b[0m\u001b[0msuccess\u001b[0m\u001b[1;33m:\u001b[0m\u001b[1;33m\u001b[0m\u001b[1;33m\u001b[0m\u001b[0m\n\u001b[1;32m--> 778\u001b[1;33m             \u001b[1;32mraise\u001b[0m \u001b[0mRuntimeError\u001b[0m\u001b[1;33m(\u001b[0m\u001b[1;34m\"Optimal parameters not found: \"\u001b[0m \u001b[1;33m+\u001b[0m \u001b[0mres\u001b[0m\u001b[1;33m.\u001b[0m\u001b[0mmessage\u001b[0m\u001b[1;33m)\u001b[0m\u001b[1;33m\u001b[0m\u001b[1;33m\u001b[0m\u001b[0m\n\u001b[0m\u001b[0;32m    779\u001b[0m \u001b[1;33m\u001b[0m\u001b[0m\n\u001b[0;32m    780\u001b[0m         \u001b[0mysize\u001b[0m \u001b[1;33m=\u001b[0m \u001b[0mlen\u001b[0m\u001b[1;33m(\u001b[0m\u001b[0mres\u001b[0m\u001b[1;33m.\u001b[0m\u001b[0mfun\u001b[0m\u001b[1;33m)\u001b[0m\u001b[1;33m\u001b[0m\u001b[1;33m\u001b[0m\u001b[0m\n",
      "\u001b[1;31mRuntimeError\u001b[0m: Optimal parameters not found: The maximum number of function evaluations is exceeded."
     ]
    }
   ],
   "source": [
    "alpha, beta = 14.,14.\n",
    "gamma = 36.\n",
    "g = 680.\n",
    "h = 0.01\n",
    "tau_y = 0.027\n",
    "Amp = 100\n",
    "popt,pcov = curve_fit(NGD2L_TK, np.abs(taxis) , cSTA, p0=[alpha, beta, gamma, g, h, tau_y, Amp],\n",
    "                      bounds = ([0     , 0     , 0     , 0     , 0     , 0     , 0     ],\n",
    "                                [np.inf, np.inf, np.inf, np.inf, np.inf, 0.6   , np.inf]) )\n",
    "[alpha, beta, gamma, g, h, tau_y, Amp] = popt\n",
    "print('alpha :',alpha)\n",
    "print('beta  :',beta)\n",
    "print('gamma :',gamma)\n",
    "print('g     :',g)\n",
    "print('h     :',h)\n",
    "print('tau_y :',tau_y)\n",
    "print('Amp   :',Amp)\n",
    "fit_cSTA = NGD2L_TK(np.abs(taxis), *popt).copy()\n",
    "ax.plot(taxis, fit_cSTA)\n",
    "fig"
   ]
  },
  {
   "cell_type": "markdown",
   "metadata": {},
   "source": [
    "## Parameter Transfer"
   ]
  },
  {
   "cell_type": "code",
   "execution_count": null,
   "metadata": {},
   "outputs": [],
   "source": [
    "plt.plot(taxis, fit_cSTA)\n",
    "tau = 2/(alpha+beta)\n",
    "omegastar = np.sqrt(4*g-(alpha-beta)**2)/2\n",
    "deltastar = np.arctan( (beta**2-2*g-alpha*beta+alpha*gamma-beta*gamma-alpha*g*h-beta*g*h+2*gamma*g*h)\n",
    "                      /(np.sqrt(4*g-(alpha-beta)**2)*(-beta+gamma+g*h)) )\n",
    "Dmp = -Amp*(beta-gamma-g*h)/(g+alpha*beta-alpha*gamma-beta*gamma+gamma**2)\n",
    "test_cSTA = NGD2L_TK_AS(np.abs(taxis), tau, gamma, omegastar, deltastar, tau_y, Dmp)\n",
    "plt.plot(taxis, test_cSTA)\n",
    "print('tau      :',tau)\n",
    "print('gamma    :',gamma)\n",
    "print('omegastar:',omegastar)\n",
    "print('deltastar:',deltastar)\n",
    "print('tau_y    :',tau_y)\n",
    "# print('Bmp      :',Bmp)\n",
    "print('Dmp      :',Dmp)"
   ]
  },
  {
   "cell_type": "code",
   "execution_count": null,
   "metadata": {},
   "outputs": [],
   "source": [
    "plt.plot(taxis, fit_cSTA)\n",
    "alpha = 1/tau\n",
    "beta = 1/tau\n",
    "g = omegastar**2\n",
    "h = ( (-1/tau+gamma)*omegastar*np.tan(deltastar)+omegastar**2 )/( omegastar**2*(-1/tau+gamma-omegastar*np.tan(deltastar)) )\n",
    "Amp = Dmp*(g+alpha**2-2*alpha*gamma+gamma**2)/(-alpha+gamma+g*h)\n",
    "newfit_cSTA = NGD2L_TK(np.abs(taxis), alpha, beta, gamma, g, h, tau_y, Amp)\n",
    "plt.plot(taxis, newfit_cSTA)"
   ]
  },
  {
   "cell_type": "code",
   "execution_count": null,
   "metadata": {},
   "outputs": [],
   "source": [
    "# tau = 2/(alpha+beta)\n",
    "# omegastar = np.sqrt(4*g-(alpha-beta)**2)/2\n",
    "# deltastar = 0\n",
    "# Bmp = 20\n",
    "# Dmp = 1\n",
    "popt,pcov = curve_fit(NGD2L_TK_AS, np.abs(taxis) , cSTA, p0=[tau, gamma, omegastar, deltastar, tau_y,  Dmp],\n",
    "                      bounds = ([0     , 0     , 0     ,-np.pi, 0     , 0     ],\n",
    "                                [np.inf, np.inf, np.inf, np.pi, 0.6   , np.inf]) )\n",
    "[tau, gamma, omegastar, deltastar, tau_y,  Dmp] = popt\n",
    "print('tau      :',tau)\n",
    "print('gamma    :',gamma)\n",
    "print('omegastar:',omegastar)\n",
    "print('deltastar:',deltastar)\n",
    "print('tau_y    :',tau_y)\n",
    "print('Dmp      :',Dmp)\n",
    "fit_cSTA = NGD2L_TK_AS(np.abs(taxis), *popt).copy()\n",
    "ax.plot(taxis, fit_cSTA)\n",
    "fig"
   ]
  },
  {
   "cell_type": "code",
   "execution_count": null,
   "metadata": {},
   "outputs": [],
   "source": [
    "np.cos(deltastar)"
   ]
  },
  {
   "cell_type": "code",
   "execution_count": null,
   "metadata": {},
   "outputs": [],
   "source": []
  }
 ],
 "metadata": {
  "kernelspec": {
   "display_name": "Python 3",
   "language": "python",
   "name": "python3"
  },
  "language_info": {
   "codemirror_mode": {
    "name": "ipython",
    "version": 3
   },
   "file_extension": ".py",
   "mimetype": "text/x-python",
   "name": "python",
   "nbconvert_exporter": "python",
   "pygments_lexer": "ipython3",
   "version": "3.7.6"
  },
  "toc": {
   "base_numbering": 1,
   "nav_menu": {
    "height": "187px",
    "width": "383px"
   },
   "number_sections": true,
   "sideBar": true,
   "skip_h1_title": false,
   "title_cell": "Table of Contents",
   "title_sidebar": "Contents",
   "toc_cell": false,
   "toc_position": {
    "height": "789px",
    "left": "557px",
    "top": "241px",
    "width": "165px"
   },
   "toc_section_display": true,
   "toc_window_display": true
  },
  "varInspector": {
   "cols": {
    "lenName": 16,
    "lenType": 16,
    "lenVar": 40
   },
   "kernels_config": {
    "python": {
     "delete_cmd_postfix": "",
     "delete_cmd_prefix": "del ",
     "library": "var_list.py",
     "varRefreshCmd": "print(var_dic_list())"
    },
    "r": {
     "delete_cmd_postfix": ") ",
     "delete_cmd_prefix": "rm(",
     "library": "var_list.r",
     "varRefreshCmd": "cat(var_dic_list()) "
    }
   },
   "position": {
    "height": "273px",
    "left": "1523px",
    "right": "20px",
    "top": "112px",
    "width": "350px"
   },
   "types_to_exclude": [
    "module",
    "function",
    "builtin_function_or_method",
    "instance",
    "_Feature"
   ],
   "window_display": true
  }
 },
 "nbformat": 4,
 "nbformat_minor": 4
}
