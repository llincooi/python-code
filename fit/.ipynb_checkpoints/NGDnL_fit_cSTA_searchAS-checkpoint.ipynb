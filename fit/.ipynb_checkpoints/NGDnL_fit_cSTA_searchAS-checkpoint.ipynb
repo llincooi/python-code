{
 "cells": [
  {
   "cell_type": "markdown",
   "metadata": {},
   "source": [
    "# Functions"
   ]
  },
  {
   "cell_type": "code",
   "execution_count": 1,
   "metadata": {
    "run_control": {
     "marked": true
    }
   },
   "outputs": [],
   "source": [
    "import numpy as np\n",
    "import matplotlib.pyplot as plt\n",
    "from scipy.io import loadmat\n",
    "from scipy.optimize import curve_fit\n",
    "import os\n",
    "import warnings\n",
    "warnings.filterwarnings('ignore')\n",
    "%matplotlib inline"
   ]
  },
  {
   "cell_type": "code",
   "execution_count": 2,
   "metadata": {},
   "outputs": [],
   "source": [
    "#This function deals with differentiation of angle within [-pi,pi).\n",
    "#It will fail if angle array x change too fast.\n",
    "def angular_gradient(x):\n",
    "    diffx= np.gradient(x)\n",
    "    diffx[np.abs(diffx)>0.6*np.pi] -= np.pi*diffx[np.abs(diffx)>0.6*np.pi]/abs(diffx[np.abs(diffx)>0.6*np.pi])\n",
    "    return diffx"
   ]
  },
  {
   "cell_type": "markdown",
   "metadata": {},
   "source": [
    "# main"
   ]
  },
  {
   "cell_type": "code",
   "execution_count": 3,
   "metadata": {},
   "outputs": [
    {
     "data": {
      "text/plain": [
       "[<matplotlib.lines.Line2D at 0x251c333d288>]"
      ]
     },
     "execution_count": 3,
     "metadata": {},
     "output_type": "execute_result"
    },
    {
     "data": {
      "image/png": "[encoded data removed]",
      "text/plain": [
       "<Figure size 432x288 with 1 Axes>"
      ]
     },
     "metadata": {
      "needs_background": "light"
     },
     "output_type": "display_data"
    }
   ],
   "source": [
    "fig, ax = plt.subplots()\n",
    "exp_folder = 'D:\\\\GoogleDrive\\\\retina\\\\Chou\\'s data\\\\20210504'\n",
    "annots = loadmat(exp_folder+'\\\\merge\\\\merge_0224_cSTA_wf_3min_Q100_re', squeeze_me = True)\n",
    "x = annots['bin_pos']\n",
    "x = x-np.mean(x)\n",
    "dt = 1/60\n",
    "cn = 38-1\n",
    "\n",
    "spike = annots['reconstruct_spikes'][cn]\n",
    "rstate, _ = np.histogram(spike, np.arange(len(x)+1)*dt)\n",
    "cSTA = np.correlate(x , rstate, 'same')/ np.correlate(np.ones_like(x), rstate, 'same')\n",
    "cSTA = cSTA[int(len(cSTA)/2):int(len(cSTA)/2-1/dt)-1:-1]\n",
    "taxis = -np.arange(len(cSTA))*dt\n",
    "ax.plot(taxis, cSTA, 'b+:')"
   ]
  },
  {
   "cell_type": "markdown",
   "metadata": {},
   "source": [
    "# NGD2L_FBFF "
   ]
  },
  {
   "cell_type": "code",
   "execution_count": 4,
   "metadata": {},
   "outputs": [],
   "source": [
    "def NGD2L_TK(T, alpha, beta, gamma, g, h, tau_y, Amp):\n",
    "    dt = np.mean(np.diff(T))\n",
    "    dt = 0.1*dt\n",
    "    T = np.arange(0, T[-1]+dt, dt)\n",
    "    x = T/tau_y /tau_y *np.exp(-T/tau_y)*dt\n",
    "    \n",
    "    y=np.zeros_like(x)\n",
    "    z=np.zeros_like(x)\n",
    "    w=np.zeros_like(x)\n",
    "    for j in range(len(x)-1):\n",
    "        dy=dt*(-alpha*y[j] + -x[j]-z[j] )\n",
    "        dz=dt*(-beta *z[j]  + g*y[j] )\n",
    "        dw=dt*(-gamma*w[j] + y[j]-h*z[j] )\n",
    "        y[j+1]=y[j]+dy\n",
    "        z[j+1]=z[j]+dz\n",
    "        w[j+1]=w[j]+dw\n",
    "#     print(len(w), len(w[::10]))\n",
    "    return Amp*w[::10]/(dt) #normalized by integration"
   ]
  },
  {
   "cell_type": "code",
   "execution_count": 5,
   "metadata": {
    "run_control": {
     "marked": false
    }
   },
   "outputs": [
    {
     "data": {
      "image/png": "[encoded data removed]",
      "text/plain": [
       "<Figure size 432x288 with 1 Axes>"
      ]
     },
     "execution_count": 5,
     "metadata": {},
     "output_type": "execute_result"
    }
   ],
   "source": [
    "alpha, beta = 14.,14.\n",
    "gamma = 36.\n",
    "g = 680.\n",
    "h = 0.01\n",
    "tau_y = 0.027\n",
    "Amp = 100\n",
    "popt,pcov = curve_fit(NGD2L_TK, np.abs(taxis) , cSTA, p0=[alpha, beta, gamma, g, h, tau_y, Amp],\n",
    "                      bounds = ([0     , 0     , 0     , 0     , 0     , 0     , 0     ],\n",
    "                                [np.inf, np.inf, np.inf, np.inf, np.inf, 0.6   , np.inf]) )\n",
    "\n",
    "fit_cSTA = NGD2L_TK(np.abs(taxis), *popt).copy()\n",
    "error2L = sum((fit_cSTA-cSTA)**2)\n",
    "ax.plot(taxis, fit_cSTA)\n",
    "fig"
   ]
  },
  {
   "cell_type": "code",
   "execution_count": 6,
   "metadata": {},
   "outputs": [],
   "source": [
    "def NGD2L_TK(T, alpha, gamma, g, h, tau_y, Amp):\n",
    "    dt = np.mean(np.diff(T))\n",
    "    dt = 0.1*dt\n",
    "    T = np.arange(0, T[-1]+dt, dt)\n",
    "    x = T/tau_y /tau_y *np.exp(-T/tau_y)*dt\n",
    "    \n",
    "    y=np.zeros_like(x)\n",
    "    z=np.zeros_like(x)\n",
    "    w=np.zeros_like(x)\n",
    "    for j in range(len(x)-1):\n",
    "        dy=dt*(-alpha*y[j] + -x[j]-z[j] )\n",
    "        dz=dt*(-alpha *z[j]  + g*y[j] )\n",
    "        dw=dt*(-gamma*w[j] + y[j]-h*z[j] )\n",
    "        y[j+1]=y[j]+dy\n",
    "        z[j+1]=z[j]+dz\n",
    "        w[j+1]=w[j]+dw\n",
    "#     print(len(w), len(w[::10]))\n",
    "    return Amp*w[::10]/(dt)#normalized by integration"
   ]
  },
  {
   "cell_type": "code",
   "execution_count": 7,
   "metadata": {},
   "outputs": [
    {
     "data": {
      "image/png": "[encoded data removed]",
      "text/plain": [
       "<Figure size 432x288 with 1 Axes>"
      ]
     },
     "execution_count": 7,
     "metadata": {},
     "output_type": "execute_result"
    }
   ],
   "source": [
    "alpha, beta = 14.,14.\n",
    "gamma = 36.\n",
    "g = 680.\n",
    "h = 0.01\n",
    "tau_y = 0.027\n",
    "Amp = 100\n",
    "popt,pcov = curve_fit(NGD2L_TK, np.abs(taxis) , cSTA, p0=[alpha, gamma, g, h, tau_y, Amp],\n",
    "                      bounds = ([0     , 0     , 0     , 0     , 0     , 0     ],\n",
    "                                [np.inf, np.inf, np.inf, np.inf, 0.6   , np.inf]) )\n",
    "\n",
    "fit_cSTA = NGD2L_TK(np.abs(taxis), *popt).copy()\n",
    "error2LAB = sum((fit_cSTA-cSTA)**2)\n",
    "ax.plot(taxis, fit_cSTA)\n",
    "fig"
   ]
  },
  {
   "cell_type": "code",
   "execution_count": 11,
   "metadata": {},
   "outputs": [
    {
     "data": {
      "text/plain": [
       "True"
      ]
     },
     "execution_count": 11,
     "metadata": {},
     "output_type": "execute_result"
    }
   ],
   "source": [
    "error2L<error2LAB"
   ]
  },
  {
   "cell_type": "code",
   "execution_count": 12,
   "metadata": {},
   "outputs": [
    {
     "data": {
      "text/plain": [
       "array([7.98931546e+00, 4.65192803e+01, 6.22887377e+02, 1.13341847e-02,\n",
       "       2.06558468e-02, 1.75444839e+02])"
      ]
     },
     "execution_count": 12,
     "metadata": {},
     "output_type": "execute_result"
    }
   ],
   "source": [
    "popt"
   ]
  },
  {
   "cell_type": "code",
   "execution_count": null,
   "metadata": {},
   "outputs": [],
   "source": []
  }
 ],
 "metadata": {
  "kernelspec": {
   "display_name": "Python 3",
   "language": "python",
   "name": "python3"
  },
  "language_info": {
   "codemirror_mode": {
    "name": "ipython",
    "version": 3
   },
   "file_extension": ".py",
   "mimetype": "text/x-python",
   "name": "python",
   "nbconvert_exporter": "python",
   "pygments_lexer": "ipython3",
   "version": "3.7.6"
  },
  "toc": {
   "base_numbering": 1,
   "nav_menu": {
    "height": "187px",
    "width": "383px"
   },
   "number_sections": true,
   "sideBar": true,
   "skip_h1_title": false,
   "title_cell": "Table of Contents",
   "title_sidebar": "Contents",
   "toc_cell": false,
   "toc_position": {
    "height": "789px",
    "left": "557px",
    "top": "241px",
    "width": "165px"
   },
   "toc_section_display": true,
   "toc_window_display": true
  },
  "varInspector": {
   "cols": {
    "lenName": 16,
    "lenType": 16,
    "lenVar": 40
   },
   "kernels_config": {
    "python": {
     "delete_cmd_postfix": "",
     "delete_cmd_prefix": "del ",
     "library": "var_list.py",
     "varRefreshCmd": "print(var_dic_list())"
    },
    "r": {
     "delete_cmd_postfix": ") ",
     "delete_cmd_prefix": "rm(",
     "library": "var_list.r",
     "varRefreshCmd": "cat(var_dic_list()) "
    }
   },
   "position": {
    "height": "273px",
    "left": "1523px",
    "right": "20px",
    "top": "112px",
    "width": "350px"
   },
   "types_to_exclude": [
    "module",
    "function",
    "builtin_function_or_method",
    "instance",
    "_Feature"
   ],
   "window_display": true
  }
 },
 "nbformat": 4,
 "nbformat_minor": 4
}
