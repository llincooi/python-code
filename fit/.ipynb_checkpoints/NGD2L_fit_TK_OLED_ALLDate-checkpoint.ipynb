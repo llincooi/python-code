{
 "cells": [
  {
   "cell_type": "markdown",
   "metadata": {},
   "source": [
    "# HEAD"
   ]
  },
  {
   "cell_type": "code",
   "execution_count": 1,
   "metadata": {
    "run_control": {
     "marked": true
    }
   },
   "outputs": [],
   "source": [
    "import numpy as np\n",
    "import matplotlib.pyplot as plt\n",
    "from scipy.io import loadmat\n",
    "from scipy.optimize import curve_fit\n",
    "import os\n",
    "import warnings\n",
    "import pandas as pd\n",
    "warnings.filterwarnings('ignore')\n",
    "%matplotlib inline"
   ]
  },
  {
   "cell_type": "code",
   "execution_count": 2,
   "metadata": {},
   "outputs": [],
   "source": [
    "T = np.arange(0,1,0.01)\n",
    "\n",
    "loadfiles = np.load('D:\\\\GoogleDrive\\\\retina\\\\Chou\\'s data\\\\20210331\\\\Analyzed_data\\\\fitNGD2Lpara.npz', allow_pickle=True)\n",
    "for k in loadfiles.files:\n",
    "    vars()[k] = loadfiles[k][()]\n",
    "Ppara_dict = dict.fromkeys(para_dict.keys())\n",
    "Npara_dict = dict.fromkeys(para_dict.keys())\n",
    "for k in para_dict.keys():\n",
    "    Ppara_dict[k] = para_dict[k][pcn]\n",
    "    Npara_dict[k] = para_dict[k][ncn]\n",
    "\n",
    "for date in ['0413', '0420', '0504','0506']:\n",
    "    loadfiles = np.load('D:\\\\GoogleDrive\\\\retina\\\\Chou\\'s data\\\\2021'+date+'\\\\Analyzed_data\\\\fitNGD2Lpara.npz', allow_pickle=True)\n",
    "    for k in loadfiles.files:\n",
    "        vars()['new_'+k] = loadfiles[k][()]\n",
    "    for k in para_dict.keys():\n",
    "        Ppara_dict[k] = np.append(Ppara_dict[k], new_para_dict[k][new_pcn])\n",
    "        Npara_dict[k] = np.append(Npara_dict[k], new_para_dict[k][new_ncn])\n",
    "\n",
    "NPD = pd.DataFrame(Npara_dict)\n",
    "PPD = pd.DataFrame(Ppara_dict)\n",
    "\n",
    "para_dict = Ppara_dict"
   ]
  },
  {
   "cell_type": "code",
   "execution_count": 3,
   "metadata": {},
   "outputs": [
    {
     "data": {
      "text/plain": [
       "<matplotlib.lines.Line2D at 0x1a346989188>"
      ]
     },
     "execution_count": 3,
     "metadata": {},
     "output_type": "execute_result"
    },
    {
     "data": {
      "image/png": "[encoded data removed]",
      "text/plain": [
       "<Figure size 432x288 with 1 Axes>"
      ]
     },
     "metadata": {
      "needs_background": "light"
     },
     "output_type": "display_data"
    }
   ],
   "source": [
    "data = para_dict['beta']\n",
    "plt.title(r'$\\beta\"$')\n",
    "plt.hist(data,30)\n",
    "plt.axvline(np.mean(data), color = 'r')"
   ]
  },
  {
   "cell_type": "code",
   "execution_count": 4,
   "metadata": {},
   "outputs": [
    {
     "data": {
      "text/plain": [
       "<matplotlib.lines.Line2D at 0x1a346a80808>"
      ]
     },
     "execution_count": 4,
     "metadata": {},
     "output_type": "execute_result"
    },
    {
     "data": {
      "image/png": "[encoded data removed]",
      "text/plain": [
       "<Figure size 432x288 with 1 Axes>"
      ]
     },
     "metadata": {
      "needs_background": "light"
     },
     "output_type": "display_data"
    }
   ],
   "source": [
    "data = para_dict['alpha']\n",
    "plt.title(r'$\\alpha\"$')\n",
    "plt.hist(data,30)\n",
    "plt.axvline(np.mean(data), color = 'r')"
   ]
  },
  {
   "cell_type": "code",
   "execution_count": 5,
   "metadata": {},
   "outputs": [
    {
     "data": {
      "text/plain": [
       "<matplotlib.lines.Line2D at 0x1a346b0f948>"
      ]
     },
     "execution_count": 5,
     "metadata": {},
     "output_type": "execute_result"
    },
    {
     "data": {
      "image/png": "[encoded data removed]",
      "text/plain": [
       "<Figure size 432x288 with 1 Axes>"
      ]
     },
     "metadata": {
      "needs_background": "light"
     },
     "output_type": "display_data"
    }
   ],
   "source": [
    "data = para_dict['gamma']\n",
    "plt.title(r'$\\gamma\"$')\n",
    "plt.hist(data,30)\n",
    "plt.axvline(np.mean(data), color = 'r')"
   ]
  },
  {
   "cell_type": "code",
   "execution_count": 6,
   "metadata": {},
   "outputs": [
    {
     "data": {
      "text/plain": [
       "<matplotlib.lines.Line2D at 0x1a346a98488>"
      ]
     },
     "execution_count": 6,
     "metadata": {},
     "output_type": "execute_result"
    },
    {
     "data": {
      "image/png": "[encoded data removed]",
      "text/plain": [
       "<Figure size 432x288 with 1 Axes>"
      ]
     },
     "metadata": {
      "needs_background": "light"
     },
     "output_type": "display_data"
    }
   ],
   "source": [
    "data = para_dict['g']\n",
    "plt.title(r'$g$')\n",
    "plt.hist(data,30)\n",
    "plt.axvline(np.mean(data), color = 'r')"
   ]
  },
  {
   "cell_type": "code",
   "execution_count": 7,
   "metadata": {},
   "outputs": [
    {
     "data": {
      "text/plain": [
       "<matplotlib.lines.Line2D at 0x1a347cfc048>"
      ]
     },
     "execution_count": 7,
     "metadata": {},
     "output_type": "execute_result"
    },
    {
     "data": {
      "image/png": "[encoded data removed]",
      "text/plain": [
       "<Figure size 432x288 with 1 Axes>"
      ]
     },
     "metadata": {
      "needs_background": "light"
     },
     "output_type": "display_data"
    }
   ],
   "source": [
    "data = para_dict['h']\n",
    "plt.title(r'$h$')\n",
    "plt.hist(data,30)\n",
    "plt.axvline(np.mean(data), color = 'r')"
   ]
  },
  {
   "cell_type": "code",
   "execution_count": 8,
   "metadata": {},
   "outputs": [
    {
     "data": {
      "text/plain": [
       "<matplotlib.lines.Line2D at 0x1a346aafbc8>"
      ]
     },
     "execution_count": 8,
     "metadata": {},
     "output_type": "execute_result"
    },
    {
     "data": {
      "image/png": "[encoded data removed]",
      "text/plain": [
       "<Figure size 432x288 with 1 Axes>"
      ]
     },
     "metadata": {
      "needs_background": "light"
     },
     "output_type": "display_data"
    }
   ],
   "source": [
    "data = para_dict['l']\n",
    "plt.title(r'$l\"$')\n",
    "plt.hist(data,30)\n",
    "plt.axvline(np.mean(data), color = 'r')"
   ]
  },
  {
   "cell_type": "code",
   "execution_count": 9,
   "metadata": {},
   "outputs": [
    {
     "data": {
      "text/plain": [
       "0.025245799510829465"
      ]
     },
     "execution_count": 9,
     "metadata": {},
     "output_type": "execute_result"
    },
    {
     "data": {
      "image/png": "[encoded data removed]",
      "text/plain": [
       "<Figure size 432x288 with 1 Axes>"
      ]
     },
     "metadata": {
      "needs_background": "light"
     },
     "output_type": "display_data"
    }
   ],
   "source": [
    "data = para_dict['tau_y']\n",
    "plt.title(r'$\\tau_y$')\n",
    "plt.hist(data,30)\n",
    "plt.axvline(np.mean(data), color = 'r')\n",
    "np.mean(data)"
   ]
  },
  {
   "cell_type": "code",
   "execution_count": 10,
   "metadata": {},
   "outputs": [
    {
     "data": {
      "text/plain": [
       "<matplotlib.lines.Line2D at 0x1a347f4ed88>"
      ]
     },
     "execution_count": 10,
     "metadata": {},
     "output_type": "execute_result"
    },
    {
     "data": {
      "image/png": "[encoded data removed]",
      "text/plain": [
       "<Figure size 432x288 with 1 Axes>"
      ]
     },
     "metadata": {
      "needs_background": "light"
     },
     "output_type": "display_data"
    }
   ],
   "source": [
    "data = para_dict['Amp']\n",
    "plt.title(r'$Amp$')\n",
    "plt.hist(data,30)\n",
    "plt.axvline(np.mean(data), color = 'r')"
   ]
  },
  {
   "cell_type": "code",
   "execution_count": 11,
   "metadata": {},
   "outputs": [],
   "source": [
    "# I1 = np.where((para_dict['beta']>10) & (para_dict['beta']<40) )[0]\n",
    "# I2 = np.where((para_dict['beta']<=10) & (para_dict['beta']>0))[0]"
   ]
  },
  {
   "cell_type": "code",
   "execution_count": 12,
   "metadata": {},
   "outputs": [
    {
     "data": {
      "text/plain": [
       "Text(0, 0.5, '$\\\\beta$')"
      ]
     },
     "execution_count": 12,
     "metadata": {},
     "output_type": "execute_result"
    },
    {
     "data": {
      "image/png": "[encoded data removed]",
      "text/plain": [
       "<Figure size 432x288 with 1 Axes>"
      ]
     },
     "metadata": {
      "needs_background": "light"
     },
     "output_type": "display_data"
    }
   ],
   "source": [
    "plt.scatter(para_dict['alpha'], para_dict['beta'], c ='b')\n",
    "plt.xlabel(r'$\\alpha$')\n",
    "plt.ylabel(r'$\\beta$')"
   ]
  },
  {
   "cell_type": "code",
   "execution_count": 13,
   "metadata": {},
   "outputs": [
    {
     "data": {
      "text/plain": [
       "Text(0, 0.5, '$l$')"
      ]
     },
     "execution_count": 13,
     "metadata": {},
     "output_type": "execute_result"
    },
    {
     "data": {
      "image/png": "[encoded data removed]",
      "text/plain": [
       "<Figure size 432x288 with 1 Axes>"
      ]
     },
     "metadata": {
      "needs_background": "light"
     },
     "output_type": "display_data"
    }
   ],
   "source": [
    "plt.scatter(para_dict['h'], para_dict['l'], c ='b')\n",
    "plt.xlabel(r'$h$')\n",
    "plt.ylabel(r'$l$')"
   ]
  },
  {
   "cell_type": "code",
   "execution_count": 14,
   "metadata": {},
   "outputs": [
    {
     "data": {
      "text/plain": [
       "Text(0, 0.5, '$g$')"
      ]
     },
     "execution_count": 14,
     "metadata": {},
     "output_type": "execute_result"
    },
    {
     "data": {
      "image/png": "[encoded data removed]",
      "text/plain": [
       "<Figure size 432x288 with 1 Axes>"
      ]
     },
     "metadata": {
      "needs_background": "light"
     },
     "output_type": "display_data"
    }
   ],
   "source": [
    "plt.scatter(para_dict['alpha'], para_dict['g'], c ='b')\n",
    "plt.xlabel(r'$\\alpha$')\n",
    "plt.ylabel(r'$g$')"
   ]
  },
  {
   "cell_type": "code",
   "execution_count": 15,
   "metadata": {},
   "outputs": [
    {
     "data": {
      "text/plain": [
       "Text(0, 0.5, '$g$')"
      ]
     },
     "execution_count": 15,
     "metadata": {},
     "output_type": "execute_result"
    },
    {
     "data": {
      "image/png": "[encoded data removed]",
      "text/plain": [
       "<Figure size 432x288 with 1 Axes>"
      ]
     },
     "metadata": {
      "needs_background": "light"
     },
     "output_type": "display_data"
    }
   ],
   "source": [
    "plt.scatter(0.25*(para_dict['alpha']+para_dict['beta'])**2, para_dict['g'], c ='b')\n",
    "plt.xlabel(r'$\\alpha$')\n",
    "plt.ylabel(r'$g$')"
   ]
  },
  {
   "cell_type": "markdown",
   "metadata": {},
   "source": [
    "# filter by ..."
   ]
  },
  {
   "cell_type": "code",
   "execution_count": 16,
   "metadata": {},
   "outputs": [],
   "source": [
    "Index1 = np.where(np.abs(para_dict['alpha']/para_dict['beta']-1)<0.1)\n",
    "Index2 = np.where(np.abs(para_dict['tau_y']*para_dict['gamma']-1)<0.1)\n",
    "Index3 = np.where(para_dict['error']<2)\n",
    "Index4 = np.where(para_dict['gamma']<20)\n",
    "\n",
    "Index = np.intersect1d(Index1, Index2, Index3)\n",
    "Index = Index4"
   ]
  },
  {
   "cell_type": "code",
   "execution_count": 17,
   "metadata": {},
   "outputs": [
    {
     "data": {
      "text/plain": [
       "19.060214597133413"
      ]
     },
     "execution_count": 17,
     "metadata": {},
     "output_type": "execute_result"
    },
    {
     "data": {
      "image/png": "[encoded data removed]",
      "text/plain": [
       "<Figure size 432x288 with 1 Axes>"
      ]
     },
     "metadata": {
      "needs_background": "light"
     },
     "output_type": "display_data"
    }
   ],
   "source": [
    "data = para_dict['beta']\n",
    "plt.title(r'$\\beta\"$')\n",
    "plt.hist(data,30)\n",
    "data = para_dict['beta'][Index]\n",
    "plt.title(r'$\\beta\"$')\n",
    "plt.hist(data,30)\n",
    "plt.axvline(np.mean(data), color = 'r')\n",
    "np.mean(data)"
   ]
  },
  {
   "cell_type": "code",
   "execution_count": 18,
   "metadata": {},
   "outputs": [
    {
     "data": {
      "text/plain": [
       "16.858225672274017"
      ]
     },
     "execution_count": 18,
     "metadata": {},
     "output_type": "execute_result"
    },
    {
     "data": {
      "image/png": "[encoded data removed]",
      "text/plain": [
       "<Figure size 432x288 with 1 Axes>"
      ]
     },
     "metadata": {
      "needs_background": "light"
     },
     "output_type": "display_data"
    }
   ],
   "source": [
    "data = para_dict['alpha']\n",
    "plt.title(r'$\\alpha\"$')\n",
    "plt.hist(data,30)\n",
    "data = para_dict['alpha'][Index]\n",
    "plt.title(r'$\\alpha\"$')\n",
    "plt.hist(data,30)\n",
    "plt.axvline(np.mean(data), color = 'r')\n",
    "np.mean(data)"
   ]
  },
  {
   "cell_type": "code",
   "execution_count": 19,
   "metadata": {},
   "outputs": [
    {
     "data": {
      "text/plain": [
       "3.9923634750212265"
      ]
     },
     "execution_count": 19,
     "metadata": {},
     "output_type": "execute_result"
    },
    {
     "data": {
      "image/png": "[encoded data removed]",
      "text/plain": [
       "<Figure size 432x288 with 1 Axes>"
      ]
     },
     "metadata": {
      "needs_background": "light"
     },
     "output_type": "display_data"
    }
   ],
   "source": [
    "data = para_dict['gamma']\n",
    "plt.title(r'$\\gamma\"$')\n",
    "plt.hist(data,30)\n",
    "data = para_dict['gamma'][Index]\n",
    "plt.title(r'$\\gamma\"$')\n",
    "plt.hist(data,30)\n",
    "plt.axvline(np.mean(data), color = 'r')\n",
    "np.mean(data)"
   ]
  },
  {
   "cell_type": "code",
   "execution_count": 20,
   "metadata": {},
   "outputs": [
    {
     "data": {
      "text/plain": [
       "1515.3997346013857"
      ]
     },
     "execution_count": 20,
     "metadata": {},
     "output_type": "execute_result"
    },
    {
     "data": {
      "image/png": "[encoded data removed]",
      "text/plain": [
       "<Figure size 432x288 with 1 Axes>"
      ]
     },
     "metadata": {
      "needs_background": "light"
     },
     "output_type": "display_data"
    }
   ],
   "source": [
    "data = para_dict['g']\n",
    "plt.title(r'$g$')\n",
    "plt.hist(data,30)\n",
    "data = para_dict['g'][Index]\n",
    "plt.title(r'$g$')\n",
    "plt.hist(data,30)\n",
    "plt.axvline(np.mean(data), color = 'r')\n",
    "np.mean(data)"
   ]
  },
  {
   "cell_type": "code",
   "execution_count": 21,
   "metadata": {},
   "outputs": [
    {
     "data": {
      "text/plain": [
       "93.05288935423982"
      ]
     },
     "execution_count": 21,
     "metadata": {},
     "output_type": "execute_result"
    },
    {
     "data": {
      "image/png": "[encoded data removed]",
      "text/plain": [
       "<Figure size 432x288 with 1 Axes>"
      ]
     },
     "metadata": {
      "needs_background": "light"
     },
     "output_type": "display_data"
    }
   ],
   "source": [
    "data = para_dict['h']\n",
    "plt.title(r'$h$')\n",
    "plt.hist(data,30)\n",
    "data = para_dict['h'][Index]\n",
    "plt.title(r'$h$')\n",
    "plt.hist(data,30)\n",
    "plt.axvline(np.mean(data), color = 'r')\n",
    "np.mean(data)"
   ]
  },
  {
   "cell_type": "code",
   "execution_count": 22,
   "metadata": {},
   "outputs": [
    {
     "data": {
      "text/plain": [
       "1.2100908616150452"
      ]
     },
     "execution_count": 22,
     "metadata": {},
     "output_type": "execute_result"
    },
    {
     "data": {
      "image/png": "[encoded data removed]",
      "text/plain": [
       "<Figure size 432x288 with 1 Axes>"
      ]
     },
     "metadata": {
      "needs_background": "light"
     },
     "output_type": "display_data"
    }
   ],
   "source": [
    "data = para_dict['l']\n",
    "plt.title(r'$l\"$')\n",
    "plt.hist(data,30)\n",
    "data = para_dict['l'][Index]\n",
    "plt.title(r'$l\"$')\n",
    "plt.hist(data,30)\n",
    "plt.axvline(np.mean(data), color = 'r')\n",
    "np.mean(data)"
   ]
  },
  {
   "cell_type": "code",
   "execution_count": 23,
   "metadata": {},
   "outputs": [
    {
     "data": {
      "text/plain": [
       "0.028196705674150342"
      ]
     },
     "execution_count": 23,
     "metadata": {},
     "output_type": "execute_result"
    },
    {
     "data": {
      "image/png": "[encoded data removed]",
      "text/plain": [
       "<Figure size 432x288 with 1 Axes>"
      ]
     },
     "metadata": {
      "needs_background": "light"
     },
     "output_type": "display_data"
    }
   ],
   "source": [
    "data = para_dict['tau_y']\n",
    "plt.title(r'$\\tau_y$')\n",
    "plt.hist(data,30)\n",
    "data = para_dict['tau_y'][Index]\n",
    "plt.title(r'$\\tau_y$')\n",
    "plt.hist(data,30)\n",
    "plt.axvline(np.mean(data), color = 'r')\n",
    "np.mean(data)"
   ]
  },
  {
   "cell_type": "code",
   "execution_count": 24,
   "metadata": {},
   "outputs": [
    {
     "data": {
      "text/plain": [
       "3.7622356360973472"
      ]
     },
     "execution_count": 24,
     "metadata": {},
     "output_type": "execute_result"
    },
    {
     "data": {
      "image/png": "[encoded data removed]",
      "text/plain": [
       "<Figure size 432x288 with 1 Axes>"
      ]
     },
     "metadata": {
      "needs_background": "light"
     },
     "output_type": "display_data"
    }
   ],
   "source": [
    "data = para_dict['Amp']\n",
    "plt.title(r'$Amp$')\n",
    "plt.hist(data,30)\n",
    "data = para_dict['Amp'][Index]\n",
    "plt.title(r'$Amp$')\n",
    "plt.hist(data,30)\n",
    "plt.axvline(np.mean(data), color = 'r')\n",
    "np.mean(data)"
   ]
  },
  {
   "cell_type": "code",
   "execution_count": 25,
   "metadata": {},
   "outputs": [
    {
     "data": {
      "text/plain": [
       "<matplotlib.lines.Line2D at 0x1a34837cfc8>"
      ]
     },
     "execution_count": 25,
     "metadata": {},
     "output_type": "execute_result"
    },
    {
     "data": {
      "image/png": "[encoded data removed]",
      "text/plain": [
       "<Figure size 432x288 with 1 Axes>"
      ]
     },
     "metadata": {
      "needs_background": "light"
     },
     "output_type": "display_data"
    }
   ],
   "source": [
    "data = para_dict['error']\n",
    "plt.title(r'$error$')\n",
    "plt.hist(data,30)\n",
    "plt.axvline(np.mean(data), color = 'r')"
   ]
  },
  {
   "cell_type": "code",
   "execution_count": 26,
   "metadata": {},
   "outputs": [
    {
     "data": {
      "text/plain": [
       "[<matplotlib.lines.Line2D at 0x1a348131908>]"
      ]
     },
     "execution_count": 26,
     "metadata": {},
     "output_type": "execute_result"
    },
    {
     "data": {
      "image/png": "[encoded data removed]",
      "text/plain": [
       "<Figure size 432x288 with 1 Axes>"
      ]
     },
     "metadata": {
      "needs_background": "light"
     },
     "output_type": "display_data"
    }
   ],
   "source": [
    "plt.scatter(para_dict['alpha'], para_dict['beta'], c ='b')\n",
    "plt.scatter(para_dict['alpha'][Index], para_dict['beta'][Index], c ='r')\n",
    "plt.xlabel(r'$\\alpha$')\n",
    "plt.ylabel(r'$\\beta$')\n",
    "\n",
    "lims = [0, np.max(np.append(para_dict['alpha'], para_dict['beta']))+1]\n",
    "plt.plot(lims, lims, 'k-', alpha=0.75, zorder=0)"
   ]
  },
  {
   "cell_type": "code",
   "execution_count": 27,
   "metadata": {},
   "outputs": [
    {
     "data": {
      "text/plain": [
       "[<matplotlib.lines.Line2D at 0x1a3486c2688>]"
      ]
     },
     "execution_count": 27,
     "metadata": {},
     "output_type": "execute_result"
    },
    {
     "data": {
      "image/png": "[encoded data removed]",
      "text/plain": [
       "<Figure size 432x288 with 1 Axes>"
      ]
     },
     "metadata": {
      "needs_background": "light"
     },
     "output_type": "display_data"
    }
   ],
   "source": [
    "plt.scatter(para_dict['tau_y'], para_dict['gamma'], c ='b')\n",
    "plt.scatter(para_dict['tau_y'][Index], para_dict['gamma'][Index], c ='r')\n",
    "plt.xlabel(r'$\\tau_y$')\n",
    "plt.ylabel(r'$\\gamma$')\n",
    "\n",
    "taxis = np.linspace(0.005, 0.1, 1000)\n",
    "plt.plot(taxis, 1/taxis, 'k-', alpha=0.75, zorder=0)"
   ]
  },
  {
   "cell_type": "code",
   "execution_count": 28,
   "metadata": {},
   "outputs": [
    {
     "data": {
      "text/plain": [
       "[<matplotlib.lines.Line2D at 0x1a34816eb88>]"
      ]
     },
     "execution_count": 28,
     "metadata": {},
     "output_type": "execute_result"
    },
    {
     "data": {
      "image/png": "[encoded data removed]",
      "text/plain": [
       "<Figure size 432x288 with 1 Axes>"
      ]
     },
     "metadata": {
      "needs_background": "light"
     },
     "output_type": "display_data"
    }
   ],
   "source": [
    "plt.scatter(para_dict['h'], para_dict['l'], c ='b')\n",
    "plt.scatter(para_dict['h'][Index], para_dict['l'][Index], c ='r')\n",
    "plt.xlabel(r'$h$')\n",
    "plt.ylabel(r'$l$')\n",
    "\n",
    "lims = [0, np.max(para_dict['h'])]\n",
    "plt.plot(lims, np.array(lims)/50, 'k-', alpha=0.75, zorder=0)\n",
    "plt.plot(lims, np.array(lims)/100, 'k-', alpha=0.75, zorder=0)\n",
    "plt.plot(lims, np.array(lims)/200, 'k-', alpha=0.75, zorder=0)"
   ]
  },
  {
   "cell_type": "code",
   "execution_count": 29,
   "metadata": {},
   "outputs": [
    {
     "data": {
      "text/plain": [
       "Text(0, 0.5, '$g$')"
      ]
     },
     "execution_count": 29,
     "metadata": {},
     "output_type": "execute_result"
    },
    {
     "data": {
      "image/png": "[encoded data removed]",
      "text/plain": [
       "<Figure size 432x288 with 1 Axes>"
      ]
     },
     "metadata": {
      "needs_background": "light"
     },
     "output_type": "display_data"
    }
   ],
   "source": [
    "plt.scatter(para_dict['alpha'], para_dict['g'], c ='b')\n",
    "plt.scatter(para_dict['alpha'][Index], para_dict['g'][Index], c ='r')\n",
    "plt.xlabel(r'$\\alpha$')\n",
    "plt.ylabel(r'$g$')"
   ]
  },
  {
   "cell_type": "code",
   "execution_count": 30,
   "metadata": {},
   "outputs": [
    {
     "data": {
      "text/plain": [
       "[<matplotlib.lines.Line2D at 0x1a3481a6088>]"
      ]
     },
     "execution_count": 30,
     "metadata": {},
     "output_type": "execute_result"
    },
    {
     "data": {
      "image/png": "[encoded data removed]",
      "text/plain": [
       "<Figure size 432x288 with 1 Axes>"
      ]
     },
     "metadata": {
      "needs_background": "light"
     },
     "output_type": "display_data"
    }
   ],
   "source": [
    "plt.scatter(para_dict['Amp'], para_dict['h'], c ='b')\n",
    "plt.scatter(para_dict['Amp'][Index], para_dict['h'][Index], c ='r')\n",
    "plt.xlabel(r'$Amp$')\n",
    "plt.ylabel(r'$h$')\n",
    "\n",
    "Ampaxis = np.linspace(0.5, 35, 1000)\n",
    "plt.plot(Ampaxis, 364/Ampaxis, 'k-', alpha=0.75, zorder=0)"
   ]
  },
  {
   "cell_type": "code",
   "execution_count": 31,
   "metadata": {},
   "outputs": [
    {
     "data": {
      "text/plain": [
       "Text(0, 0.5, '$l$')"
      ]
     },
     "execution_count": 31,
     "metadata": {},
     "output_type": "execute_result"
    },
    {
     "data": {
      "image/png": "[encoded data removed]",
      "text/plain": [
       "<Figure size 432x288 with 1 Axes>"
      ]
     },
     "metadata": {
      "needs_background": "light"
     },
     "output_type": "display_data"
    }
   ],
   "source": [
    "plt.scatter(para_dict['Amp'], para_dict['l'], c ='b')\n",
    "plt.scatter(para_dict['Amp'][Index], para_dict['l'][Index], c ='r')\n",
    "plt.xlabel(r'$Amp$')\n",
    "plt.ylabel(r'$l$')"
   ]
  },
  {
   "cell_type": "code",
   "execution_count": 32,
   "metadata": {},
   "outputs": [
    {
     "data": {
      "text/plain": [
       "[<matplotlib.lines.Line2D at 0x1a3483c26c8>]"
      ]
     },
     "execution_count": 32,
     "metadata": {},
     "output_type": "execute_result"
    },
    {
     "data": {
      "image/png": "[encoded data removed]",
      "text/plain": [
       "<Figure size 432x288 with 1 Axes>"
      ]
     },
     "metadata": {
      "needs_background": "light"
     },
     "output_type": "display_data"
    }
   ],
   "source": [
    "plt.scatter(para_dict['Amp']*para_dict['h'], para_dict['alpha'], c ='b')\n",
    "plt.scatter(para_dict['Amp'][Index]*para_dict['h'][Index], para_dict['alpha'][Index], c ='r')\n",
    "plt.xlabel(r'$Amp*h$')\n",
    "plt.ylabel(r'$\\alpha$')\n",
    "\n",
    "def ll(x, a, b): return x*a+b\n",
    "popt, _ = curve_fit(ll, para_dict['Amp'][Index]*para_dict['h'][Index], para_dict['alpha'][Index])\n",
    "\n",
    "lims = [0, np.max(para_dict['Amp'][Index]*para_dict['h'][Index])]\n",
    "plt.plot(lims, ll(np.array(lims), *popt), 'k-', alpha=0.75, zorder=0)"
   ]
  },
  {
   "cell_type": "code",
   "execution_count": 33,
   "metadata": {},
   "outputs": [
    {
     "data": {
      "text/plain": [
       "1.1837528984992656"
      ]
     },
     "execution_count": 33,
     "metadata": {},
     "output_type": "execute_result"
    },
    {
     "data": {
      "image/png": "[encoded data removed]",
      "text/plain": [
       "<Figure size 432x288 with 1 Axes>"
      ]
     },
     "metadata": {
      "needs_background": "light"
     },
     "output_type": "display_data"
    }
   ],
   "source": [
    "data = para_dict['beta']/para_dict['alpha']\n",
    "plt.title(r'$\\frac{\\beta}{\\alpha}$')\n",
    "plt.hist(data,30)\n",
    "plt.axvline(np.mean(data[Index]), color = 'r')\n",
    "np.mean(data[Index])"
   ]
  },
  {
   "cell_type": "code",
   "execution_count": 34,
   "metadata": {},
   "outputs": [
    {
     "data": {
      "text/plain": [
       "0.09439984843230836"
      ]
     },
     "execution_count": 34,
     "metadata": {},
     "output_type": "execute_result"
    },
    {
     "data": {
      "image/png": "[encoded data removed]",
      "text/plain": [
       "<Figure size 432x288 with 1 Axes>"
      ]
     },
     "metadata": {
      "needs_background": "light"
     },
     "output_type": "display_data"
    }
   ],
   "source": [
    "data = para_dict['tau_y']*para_dict['gamma']\n",
    "plt.title(r'$\\tau_y*\\gamma$')\n",
    "plt.hist(data,30)\n",
    "plt.axvline(np.mean(data[Index]), color = 'r')\n",
    "np.mean(data[Index])"
   ]
  },
  {
   "cell_type": "code",
   "execution_count": 35,
   "metadata": {},
   "outputs": [
    {
     "data": {
      "text/plain": [
       "(array([3., 0., 0., 0., 0., 0., 0., 1., 1., 0., 0., 0., 0., 0., 0., 0., 0.,\n",
       "        1., 0., 0., 1., 1., 0., 0., 0., 0., 0., 0., 0., 1.]),\n",
       " array([2.26005632e-35, 7.98199377e-03, 1.59639875e-02, 2.39459813e-02,\n",
       "        3.19279751e-02, 3.99099689e-02, 4.78919626e-02, 5.58739564e-02,\n",
       "        6.38559502e-02, 7.18379440e-02, 7.98199377e-02, 8.78019315e-02,\n",
       "        9.57839253e-02, 1.03765919e-01, 1.11747913e-01, 1.19729907e-01,\n",
       "        1.27711900e-01, 1.35693894e-01, 1.43675888e-01, 1.51657882e-01,\n",
       "        1.59639875e-01, 1.67621869e-01, 1.75603863e-01, 1.83585857e-01,\n",
       "        1.91567851e-01, 1.99549844e-01, 2.07531838e-01, 2.15513832e-01,\n",
       "        2.23495826e-01, 2.31477819e-01, 2.39459813e-01]),\n",
       " <a list of 30 Patch objects>)"
      ]
     },
     "execution_count": 35,
     "metadata": {},
     "output_type": "execute_result"
    },
    {
     "data": {
      "image/png": "[encoded data removed]",
      "text/plain": [
       "<Figure size 432x288 with 1 Axes>"
      ]
     },
     "metadata": {
      "needs_background": "light"
     },
     "output_type": "display_data"
    }
   ],
   "source": [
    "data = para_dict['tau_y']*para_dict['gamma']\n",
    "plt.title(r'$\\tau_y*\\gamma$')\n",
    "plt.hist(data[Index],30)\n",
    "# plt.axvline(np.mean(data[Index]), color = 'r')\n",
    "# np.mean(data[Index])"
   ]
  },
  {
   "cell_type": "code",
   "execution_count": 36,
   "metadata": {},
   "outputs": [
    {
     "data": {
      "text/plain": [
       "318.59470972741747"
      ]
     },
     "execution_count": 36,
     "metadata": {},
     "output_type": "execute_result"
    },
    {
     "data": {
      "image/png": "[encoded data removed]",
      "text/plain": [
       "<Figure size 432x288 with 1 Axes>"
      ]
     },
     "metadata": {
      "needs_background": "light"
     },
     "output_type": "display_data"
    }
   ],
   "source": [
    "data = para_dict['Amp']*para_dict['h']\n",
    "plt.title(r'$Amp*h$')\n",
    "plt.hist(data,30)\n",
    "plt.axvline(np.mean(data[Index]), color = 'r')\n",
    "np.mean(data[Index])"
   ]
  },
  {
   "cell_type": "code",
   "execution_count": 37,
   "metadata": {},
   "outputs": [
    {
     "data": {
      "text/plain": [
       "0.013831590355484218"
      ]
     },
     "execution_count": 37,
     "metadata": {},
     "output_type": "execute_result"
    },
    {
     "data": {
      "image/png": "[encoded data removed]",
      "text/plain": [
       "<Figure size 432x288 with 1 Axes>"
      ]
     },
     "metadata": {
      "needs_background": "light"
     },
     "output_type": "display_data"
    }
   ],
   "source": [
    "data = para_dict['l']/para_dict['h']\n",
    "plt.title(r'$\\frac{l}{h}$')\n",
    "plt.hist(data,30)\n",
    "data = para_dict['l'][Index]/para_dict['h'][Index]\n",
    "plt.hist(data,30)\n",
    "plt.axvline(np.mean(data), color = 'r')\n",
    "np.mean(data)"
   ]
  },
  {
   "cell_type": "markdown",
   "metadata": {},
   "source": [
    "# plot TK "
   ]
  },
  {
   "cell_type": "code",
   "execution_count": 38,
   "metadata": {},
   "outputs": [],
   "source": [
    "def plotNGD2L_TK(T, alpha, beta, gamma, g, h, l, tau_y, Amp):\n",
    "    dt = np.mean(np.diff(T))\n",
    "    dt = 0.1*dt\n",
    "    T = np.arange(0, T[-1]+dt, dt)\n",
    "    x = T/tau_y /tau_y *np.exp(-T/tau_y)*dt\n",
    "    \n",
    "    y=np.zeros_like(x)\n",
    "    z=np.zeros_like(x)\n",
    "    w=np.zeros_like(x)\n",
    "    for j in range(len(x)-1):\n",
    "        dy=dt*(-alpha*y[j] + x[j]-z[j] )\n",
    "        dz=dt*(-beta*z[j]  + g*y[j] )\n",
    "        dw=dt*(-gamma*w[j] + h*y[j]-l*z[j] )\n",
    "        y[j+1]=y[j]+dy\n",
    "        z[j+1]=z[j]+dz\n",
    "        w[j+1]=w[j]+dw\n",
    "\n",
    "    nTK = w[::10]/(dt) #normalized by integration\n",
    "    return -Amp*nTK"
   ]
  },
  {
   "cell_type": "code",
   "execution_count": 39,
   "metadata": {},
   "outputs": [
    {
     "ename": "TypeError",
     "evalue": "plotNGD2L_TK() takes 9 positional arguments but 10 were given",
     "output_type": "error",
     "traceback": [
      "\u001b[1;31m---------------------------------------------------------------------------\u001b[0m",
      "\u001b[1;31mTypeError\u001b[0m                                 Traceback (most recent call last)",
      "\u001b[1;32m<ipython-input-39-3fdc763b2f7f>\u001b[0m in \u001b[0;36m<module>\u001b[1;34m\u001b[0m\n\u001b[0;32m      1\u001b[0m \u001b[1;32mfor\u001b[0m \u001b[0mI\u001b[0m \u001b[1;32min\u001b[0m \u001b[0mIndex\u001b[0m\u001b[1;33m:\u001b[0m\u001b[1;33m\u001b[0m\u001b[1;33m\u001b[0m\u001b[0m\n\u001b[1;32m----> 2\u001b[1;33m     \u001b[0mplotNGD2L_TK\u001b[0m\u001b[1;33m(\u001b[0m\u001b[0mT\u001b[0m\u001b[1;33m,\u001b[0m \u001b[1;33m*\u001b[0m\u001b[0mPPD\u001b[0m\u001b[1;33m.\u001b[0m\u001b[0mloc\u001b[0m\u001b[1;33m[\u001b[0m\u001b[0mI\u001b[0m\u001b[1;33m]\u001b[0m\u001b[1;33m[\u001b[0m\u001b[1;33m:\u001b[0m\u001b[1;33m-\u001b[0m\u001b[1;36m1\u001b[0m\u001b[1;33m]\u001b[0m\u001b[1;33m)\u001b[0m\u001b[1;33m\u001b[0m\u001b[1;33m\u001b[0m\u001b[0m\n\u001b[0m",
      "\u001b[1;31mTypeError\u001b[0m: plotNGD2L_TK() takes 9 positional arguments but 10 were given"
     ]
    }
   ],
   "source": [
    "for I in Index:\n",
    "    plotNGD2L_TK(T, *PPD.loc[I][:-1])"
   ]
  },
  {
   "cell_type": "code",
   "execution_count": null,
   "metadata": {},
   "outputs": [],
   "source": []
  }
 ],
 "metadata": {
  "kernelspec": {
   "display_name": "Python 3",
   "language": "python",
   "name": "python3"
  },
  "language_info": {
   "codemirror_mode": {
    "name": "ipython",
    "version": 3
   },
   "file_extension": ".py",
   "mimetype": "text/x-python",
   "name": "python",
   "nbconvert_exporter": "python",
   "pygments_lexer": "ipython3",
   "version": "3.7.6"
  },
  "toc": {
   "base_numbering": 1,
   "nav_menu": {
    "height": "187px",
    "width": "383px"
   },
   "number_sections": true,
   "sideBar": true,
   "skip_h1_title": false,
   "title_cell": "Table of Contents",
   "title_sidebar": "Contents",
   "toc_cell": false,
   "toc_position": {
    "height": "789px",
    "left": "557px",
    "top": "241px",
    "width": "165px"
   },
   "toc_section_display": true,
   "toc_window_display": true
  },
  "varInspector": {
   "cols": {
    "lenName": 16,
    "lenType": 16,
    "lenVar": 40
   },
   "kernels_config": {
    "python": {
     "delete_cmd_postfix": "",
     "delete_cmd_prefix": "del ",
     "library": "var_list.py",
     "varRefreshCmd": "print(var_dic_list())"
    },
    "r": {
     "delete_cmd_postfix": ") ",
     "delete_cmd_prefix": "rm(",
     "library": "var_list.r",
     "varRefreshCmd": "cat(var_dic_list()) "
    }
   },
   "position": {
    "height": "273px",
    "left": "1523px",
    "right": "20px",
    "top": "112px",
    "width": "350px"
   },
   "types_to_exclude": [
    "module",
    "function",
    "builtin_function_or_method",
    "instance",
    "_Feature"
   ],
   "window_display": true
  }
 },
 "nbformat": 4,
 "nbformat_minor": 4
}
