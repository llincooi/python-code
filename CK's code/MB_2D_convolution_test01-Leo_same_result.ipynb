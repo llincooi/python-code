{
 "cells": [
  {
   "cell_type": "markdown",
   "metadata": {},
   "source": [
    "## MB_2D_convolution_test01\n",
    "baesd on MB_RF_img_plot_t_first_03\n",
    "#To test whethe 2D and 1D convolution will produce the same result\n",
    "\n",
    "#Update history: \n",
    "2020-08-24 created by ckc\n"
   ]
  },
  {
   "cell_type": "code",
   "execution_count": 1,
   "metadata": {},
   "outputs": [],
   "source": [
    "import numpy as np\n",
    "from scipy import signal\n",
    "import numpy as np\n",
    "import matplotlib.pyplot as plt\n",
    "import time\n",
    "%matplotlib inline"
   ]
  },
  {
   "cell_type": "code",
   "execution_count": 2,
   "metadata": {},
   "outputs": [],
   "source": [
    "w, h = 660, 1500 # w - spatial dimension in units of xx mirons, \n",
    "                # h - temporal dimension (number of time steps) in units of xx ms\n",
    "\n",
    "s = np.zeros((h, w))           # a 2D trajectory (stimulation) of a moving bar\n",
    "response = np.zeros((h,w))     # response of the photo receptors\n"
   ]
  },
  {
   "cell_type": "code",
   "execution_count": 3,
   "metadata": {},
   "outputs": [],
   "source": [
    "# generate a moving bar\n",
    "width =30\n",
    "#width = 30.0\n",
    "speed = 0.44\n",
    "contrast = 0.5\n",
    "origin = int(w/3) # origin of the pulse\n",
    "origin = 0.0\n",
    "for i in range(h): # different time\n",
    "    for j in range(w): # space\n",
    "        s[i][j] = 1.\n",
    "        if j -origin> speed*i and j-origin<speed*i + width:\n",
    "            s[i][j] = contrast\n",
    "        "
   ]
  },
  {
   "cell_type": "code",
   "execution_count": 4,
   "metadata": {
    "scrolled": true
   },
   "outputs": [
    {
     "data": {
      "image/png": "[encoded data removed]",
      "text/plain": [
       "<Figure size 432x288 with 1 Axes>"
      ]
     },
     "metadata": {
      "needs_background": "light"
     },
     "output_type": "display_data"
    }
   ],
   "source": [
    "plt.imshow(s,cmap='gray')\n",
    "plt.show()"
   ]
  },
  {
   "cell_type": "code",
   "execution_count": 5,
   "metadata": {},
   "outputs": [],
   "source": [
    "# spatial filter kernel\n",
    "# use of two Gussians (one inverted) to approx the receptive field\n",
    "\n",
    "rc = 15**2\n",
    "rs = 30**2\n",
    "kc = 2.5\n",
    "ks = 1\n",
    "#ks = 0.0 # no lateral inhibition\n",
    "\n",
    "def k_x(x):\n",
    "\n",
    "    return kc*np.exp(-x**2/rc)-ks*np.exp(-x**2/rs)"
   ]
  },
  {
   "cell_type": "code",
   "execution_count": 6,
   "metadata": {},
   "outputs": [],
   "source": [
    "# create the spatial filter array\n",
    "xlen = 159 # filter length\n",
    "fx = np.zeros(xlen)\n",
    "for i in range(xlen):\n",
    "    fx[i] = k_x((i-xlen/2))\n",
    "    "
   ]
  },
  {
   "cell_type": "code",
   "execution_count": 7,
   "metadata": {},
   "outputs": [
    {
     "data": {
      "text/plain": [
       "[<matplotlib.lines.Line2D at 0x1488c668f88>]"
      ]
     },
     "execution_count": 7,
     "metadata": {},
     "output_type": "execute_result"
    },
    {
     "data": {
      "image/png": "[encoded data removed]",
      "text/plain": [
       "<Figure size 432x288 with 1 Axes>"
      ]
     },
     "metadata": {
      "needs_background": "light"
     },
     "output_type": "display_data"
    }
   ],
   "source": [
    "plt.plot(fx)"
   ]
  },
  {
   "cell_type": "code",
   "execution_count": 8,
   "metadata": {},
   "outputs": [
    {
     "data": {
      "text/plain": [
       "True"
      ]
     },
     "execution_count": 8,
     "metadata": {},
     "output_type": "execute_result"
    }
   ],
   "source": [
    "np.argmax(fx) == np.floor(xlen/2)"
   ]
  },
  {
   "cell_type": "code",
   "execution_count": 9,
   "metadata": {},
   "outputs": [
    {
     "data": {
      "text/plain": [
       "[<matplotlib.lines.Line2D at 0x1488c68ee08>]"
      ]
     },
     "execution_count": 9,
     "metadata": {},
     "output_type": "execute_result"
    },
    {
     "data": {
      "image/png": "[encoded data removed]",
      "text/plain": [
       "<Figure size 432x288 with 1 Axes>"
      ]
     },
     "metadata": {
      "needs_background": "light"
     },
     "output_type": "display_data"
    }
   ],
   "source": [
    "temp = s[1000]\n",
    "r = np.convolve(temp,fx,'same')\n",
    "plt.plot(temp)\n",
    "plt.plot(r)"
   ]
  },
  {
   "cell_type": "code",
   "execution_count": 10,
   "metadata": {},
   "outputs": [],
   "source": [
    "#k_t temporal filter\n",
    "# modeling biphasic response of ganglion cell\n",
    "# This is an off cell\n",
    "# with a = 20/16.5 b = 0.3 c = 0.008 and t in msec\n",
    "# k_t will be zero after 30 msec\n",
    "\n",
    "\n",
    "rtc = 40.0**2\n",
    "rts = 100.0**2\n",
    "ktc = 17\n",
    "kts = 6.85\n",
    "\n",
    "def k_t(t):\n",
    "    if t>0:\n",
    "#        return -a*np.sin(b*t)*np.exp(-c*t*t)\n",
    "        return (-ktc*np.exp(-(t-70)**2/rtc) + kts*np.exp(-(t-150)**2/rts))*10**-5\n",
    "    else:\n",
    "        return 0.0\n"
   ]
  },
  {
   "cell_type": "code",
   "execution_count": 11,
   "metadata": {},
   "outputs": [],
   "source": [
    "# create temporal filter\n",
    "\n",
    "tlen = 49\n",
    "dt = 1.\n",
    "ft = np.zeros(tlen)\n",
    "time = np.zeros(tlen)\n",
    "flag_lisa = 1\n",
    "\n",
    "if flag_lisa > 0.5: # Lisa' filter here\n",
    "    rtc = 2.0**2\n",
    "    rts = 5.0**2\n",
    "    ktc = 17\n",
    "    kts = 6.85\n",
    "    for i in range(tlen):\n",
    "        if i < int(tlen/2):\n",
    "            ft[i]=0.0\n",
    "        else:\n",
    "            t=i-int(tlen/2)+1\n",
    "            ft[i] = (-ktc*np.exp(-(t-3)**2/rtc) + kts*np.exp(-(t-7)**2/rts))*10**-5"
   ]
  },
  {
   "cell_type": "code",
   "execution_count": 12,
   "metadata": {
    "scrolled": true
   },
   "outputs": [
    {
     "data": {
      "image/png": "[encoded data removed]",
      "text/plain": [
       "<Figure size 432x288 with 1 Axes>"
      ]
     },
     "metadata": {
      "needs_background": "light"
     },
     "output_type": "display_data"
    }
   ],
   "source": [
    "# display temporal filter\n",
    "plt.plot(ft)\n",
    "plt.show()"
   ]
  },
  {
   "cell_type": "markdown",
   "metadata": {},
   "source": [
    "## Use 2D convolution to obtain response"
   ]
  },
  {
   "cell_type": "code",
   "execution_count": 13,
   "metadata": {},
   "outputs": [
    {
     "data": {
      "image/png": "[encoded data removed]",
      "text/plain": [
       "<Figure size 432x288 with 1 Axes>"
      ]
     },
     "metadata": {
      "needs_background": "light"
     },
     "output_type": "display_data"
    }
   ],
   "source": [
    "s_len = len(fx)\n",
    "t_len = len(ft)\n",
    "ksp = np.zeros((t_len, s_len))\n",
    "for i in range(t_len):\n",
    "    for j in range(s_len):\n",
    "        ksp[i,j] = ft[i]*fx[j]*(i-j)**2\n",
    "plt.imshow(ksp,cmap='gray')\n",
    "plt.show()"
   ]
  },
  {
   "cell_type": "code",
   "execution_count": 14,
   "metadata": {},
   "outputs": [
    {
     "data": {
      "text/plain": [
       "[<matplotlib.lines.Line2D at 0x1488c744108>]"
      ]
     },
     "execution_count": 14,
     "metadata": {},
     "output_type": "execute_result"
    },
    {
     "data": {
      "image/png": "[encoded data removed]",
      "text/plain": [
       "<Figure size 432x288 with 1 Axes>"
      ]
     },
     "metadata": {
      "needs_background": "light"
     },
     "output_type": "display_data"
    }
   ],
   "source": [
    "plt.plot(ksp[:,8])"
   ]
  },
  {
   "cell_type": "code",
   "execution_count": 15,
   "metadata": {},
   "outputs": [
    {
     "name": "stdout",
     "output_type": "stream",
     "text": [
      "15.998224258422852\n"
     ]
    }
   ],
   "source": [
    "import time\n",
    "t0 = time.time()\n",
    "r = signal.convolve2d(s,ksp,'same')\n",
    "print(time.time()-t0)"
   ]
  },
  {
   "cell_type": "code",
   "execution_count": 16,
   "metadata": {},
   "outputs": [
    {
     "data": {
      "text/plain": [
       "[<matplotlib.lines.Line2D at 0x1488a7d5388>]"
      ]
     },
     "execution_count": 16,
     "metadata": {},
     "output_type": "execute_result"
    },
    {
     "data": {
      "image/png": "[encoded data removed]",
      "text/plain": [
       "<Figure size 432x288 with 1 Axes>"
      ]
     },
     "metadata": {
      "needs_background": "light"
     },
     "output_type": "display_data"
    }
   ],
   "source": [
    "index = 700\n",
    "plt.plot(s[index])\n",
    "plt.plot(r[index]/r[index].max())"
   ]
  },
  {
   "cell_type": "markdown",
   "metadata": {},
   "source": [
    "## apply convolution first in time domain and then in spatial domain"
   ]
  },
  {
   "cell_type": "code",
   "execution_count": 17,
   "metadata": {},
   "outputs": [
    {
     "name": "stdout",
     "output_type": "stream",
     "text": [
      "0.07779192924499512\n"
     ]
    }
   ],
   "source": [
    "r2 = np.zeros((h,w)) \n",
    "t0= time.time()\n",
    "for j in range(w):\n",
    "    aa = s[:,j]\n",
    "    r2[:,j] = np.convolve(aa,ft,\"same\")\n",
    "\n",
    "for i in range(h):\n",
    "    aa = r2[i,:]\n",
    "    r2[i,:] = np.convolve(aa,fx,\"same\")\n",
    "print(time.time()-t0)"
   ]
  },
  {
   "cell_type": "markdown",
   "metadata": {},
   "source": [
    "## Note that there is already anticipation after convolution with 2D kernel"
   ]
  },
  {
   "cell_type": "code",
   "execution_count": 18,
   "metadata": {},
   "outputs": [
    {
     "data": {
      "text/plain": [
       "[<matplotlib.lines.Line2D at 0x1488d7e1e48>]"
      ]
     },
     "execution_count": 18,
     "metadata": {},
     "output_type": "execute_result"
    },
    {
     "data": {
      "image/png": "[encoded data removed]",
      "text/plain": [
       "<Figure size 432x288 with 1 Axes>"
      ]
     },
     "metadata": {
      "needs_background": "light"
     },
     "output_type": "display_data"
    }
   ],
   "source": [
    "index = 700\n",
    "plt.plot(s[index])\n",
    "plt.plot(r2[index]/r2[index].max())"
   ]
  },
  {
   "cell_type": "code",
   "execution_count": 19,
   "metadata": {},
   "outputs": [
    {
     "data": {
      "text/plain": [
       "[<matplotlib.lines.Line2D at 0x1488dfdd788>]"
      ]
     },
     "execution_count": 19,
     "metadata": {},
     "output_type": "execute_result"
    },
    {
     "data": {
      "image/png": "[encoded data removed]",
      "text/plain": [
       "<Figure size 432x288 with 1 Axes>"
      ]
     },
     "metadata": {
      "needs_background": "light"
     },
     "output_type": "display_data"
    }
   ],
   "source": [
    "# compare results with different method\n",
    "plt.plot(r2[index]/r2[index].max())\n",
    "plt.plot(r[index]/r[index].max())"
   ]
  },
  {
   "cell_type": "markdown",
   "metadata": {},
   "source": [
    "# Identical results from these two methods\n",
    "much faster in r2 computation because there is no computation of off-diagonal elements"
   ]
  },
  {
   "cell_type": "code",
   "execution_count": 20,
   "metadata": {},
   "outputs": [
    {
     "data": {
      "image/png": "[encoded data removed]",
      "text/plain": [
       "<Figure size 432x288 with 1 Axes>"
      ]
     },
     "metadata": {
      "needs_background": "light"
     },
     "output_type": "display_data"
    }
   ],
   "source": [
    "# s_len = len(fx)\n",
    "# t_len = int((len(ft)+1)/2)\n",
    "k2sp = ksp[int((len(ft))/2):,:]\n",
    "plt.imshow(k2sp,cmap='gray')\n",
    "plt.show()"
   ]
  },
  {
   "cell_type": "code",
   "execution_count": 21,
   "metadata": {},
   "outputs": [
    {
     "data": {
      "text/plain": [
       "24"
      ]
     },
     "execution_count": 21,
     "metadata": {},
     "output_type": "execute_result"
    }
   ],
   "source": [
    "int((len(ft))/2)"
   ]
  },
  {
   "cell_type": "code",
   "execution_count": 22,
   "metadata": {},
   "outputs": [
    {
     "data": {
      "text/plain": [
       "-1.1393086559444376"
      ]
     },
     "execution_count": 22,
     "metadata": {},
     "output_type": "execute_result"
    }
   ],
   "source": [
    "sum(k2sp[0,:])"
   ]
  },
  {
   "cell_type": "code",
   "execution_count": 23,
   "metadata": {},
   "outputs": [
    {
     "data": {
      "text/plain": [
       "-4.6309953529419865e-05"
      ]
     },
     "execution_count": 23,
     "metadata": {},
     "output_type": "execute_result"
    }
   ],
   "source": [
    "ft[24]"
   ]
  },
  {
   "cell_type": "code",
   "execution_count": 24,
   "metadata": {},
   "outputs": [
    {
     "data": {
      "text/plain": [
       "-1.1393086559444376"
      ]
     },
     "execution_count": 24,
     "metadata": {},
     "output_type": "execute_result"
    }
   ],
   "source": [
    "sum(ksp[24,:])"
   ]
  },
  {
   "cell_type": "code",
   "execution_count": 25,
   "metadata": {},
   "outputs": [
    {
     "data": {
      "text/plain": [
       "-816.0253467801518"
      ]
     },
     "execution_count": 25,
     "metadata": {},
     "output_type": "execute_result"
    }
   ],
   "source": [
    "sum(r[0,:])"
   ]
  },
  {
   "cell_type": "markdown",
   "metadata": {},
   "source": [
    "## Leo's method"
   ]
  },
  {
   "cell_type": "code",
   "execution_count": 26,
   "metadata": {},
   "outputs": [
    {
     "name": "stdout",
     "output_type": "stream",
     "text": [
      "1.0262551307678223\n"
     ]
    }
   ],
   "source": [
    "t0 = time.time()\n",
    "nstep = h\n",
    "mb_y = np.zeros([nstep, w])\n",
    "for i in range(nstep):\n",
    "    for ii in np.arange(max(i-np.shape(k2sp)[0]+1,0),i+1):\n",
    "        mb_y[i,:] += np.convolve(s[ii,:],k2sp[i-ii, :], 'same')\n",
    "print(time.time()-t0)"
   ]
  },
  {
   "cell_type": "code",
   "execution_count": 27,
   "metadata": {},
   "outputs": [
    {
     "data": {
      "text/plain": [
       "[<matplotlib.lines.Line2D at 0x1488e87ef48>]"
      ]
     },
     "execution_count": 27,
     "metadata": {},
     "output_type": "execute_result"
    },
    {
     "data": {
      "image/png": "[encoded data removed]",
      "text/plain": [
       "<Figure size 432x288 with 1 Axes>"
      ]
     },
     "metadata": {
      "needs_background": "light"
     },
     "output_type": "display_data"
    }
   ],
   "source": [
    "# comparison with Leo's method with the other two methods\n",
    "plt.plot(r[index]/r[index].max())\n",
    "plt.plot(r2[index]/r2[index].max())\n",
    "plt.plot(mb_y[index]/mb_y[index].max())"
   ]
  },
  {
   "cell_type": "markdown",
   "metadata": {},
   "source": [
    "## Conclusion:\n",
    "## Leo's method does not produce the same result as the other two methods\n",
    "## Computation time: 22 sec(2D): 2.88 sec (Leo's) : 0.12 sec (1D + 1D)\n",
    "## much more computation in 2D; off diagonal elements"
   ]
  },
  {
   "cell_type": "code",
   "execution_count": 28,
   "metadata": {},
   "outputs": [
    {
     "data": {
      "text/plain": [
       "array([ 6, 11, 14, 17])"
      ]
     },
     "execution_count": 28,
     "metadata": {},
     "output_type": "execute_result"
    }
   ],
   "source": [
    "a = np.array([1, 2])\n",
    "b = np.array([3,4,5,6])\n",
    "np.correlate(b,a,'same')"
   ]
  },
  {
   "cell_type": "code",
   "execution_count": null,
   "metadata": {},
   "outputs": [],
   "source": []
  }
 ],
 "metadata": {
  "kernelspec": {
   "display_name": "Python 3",
   "language": "python",
   "name": "python3"
  },
  "language_info": {
   "codemirror_mode": {
    "name": "ipython",
    "version": 3
   },
   "file_extension": ".py",
   "mimetype": "text/x-python",
   "name": "python",
   "nbconvert_exporter": "python",
   "pygments_lexer": "ipython3",
   "version": "3.7.6"
  }
 },
 "nbformat": 4,
 "nbformat_minor": 2
}
