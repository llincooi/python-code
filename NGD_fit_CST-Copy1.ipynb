{
 "cells": [
  {
   "cell_type": "markdown",
   "metadata": {},
   "source": [
    "You can perform PID on MI(r;(x,v)), and compare the result of different 'x'.<br>\n",
    "'x' can from experimental data or produce in this code for different Tau (Gramma) or cutoff frequency.<br>\n",
    "'r' can be real responses of RGC or from NGD or from x+$\\Delta$*v.<br>\n",
    "Using 20200408 Chou's data, unit2.<br>"
   ]
  },
  {
   "cell_type": "markdown",
   "metadata": {},
   "source": [
    "# Functions"
   ]
  },
  {
   "cell_type": "code",
   "execution_count": 1,
   "metadata": {
    "run_control": {
     "marked": true
    }
   },
   "outputs": [],
   "source": [
    "import numpy as np\n",
    "import matplotlib.pyplot as plt\n",
    "from mpl_toolkits import mplot3d\n",
    "from matplotlib.ticker import MaxNLocator\n",
    "import math\n",
    "from scipy import signal\n",
    "from scipy.fftpack import fft\n",
    "from scipy import ndimage\n",
    "from scipy.io import loadmat\n",
    "from scipy.optimize import curve_fit\n",
    "import os\n",
    "%matplotlib inline"
   ]
  },
  {
   "cell_type": "code",
   "execution_count": 2,
   "metadata": {},
   "outputs": [
    {
     "name": "stdout",
     "output_type": "stream",
     "text": [
      "importing Jupyter notebook from Spike_Generation.ipynb\n"
     ]
    }
   ],
   "source": [
    "import import_ipynb\n",
    "try:\n",
    "    os.chdir('C:\\\\Users\\\\hydro_leo\\\\Documents\\\\GitHub\\\\python-code\\\\Modules')\n",
    "except:\n",
    "    os.chdir('C:\\\\Users\\\\llinc\\\\GitHub\\\\python-code\\\\Modules')\n",
    "from Spike_Generation import NL"
   ]
  },
  {
   "cell_type": "markdown",
   "metadata": {},
   "source": [
    "# Load Experimental data"
   ]
  },
  {
   "cell_type": "code",
   "execution_count": 3,
   "metadata": {},
   "outputs": [
    {
     "data": {
      "text/plain": [
       "[<matplotlib.lines.Line2D at 0x26caec99748>]"
      ]
     },
     "execution_count": 3,
     "metadata": {},
     "output_type": "execute_result"
    },
    {
     "data": {
      "image/png": "[encoded data removed]",
      "text/plain": [
       "<Figure size 432x288 with 1 Axes>"
      ]
     },
     "metadata": {
      "needs_background": "light"
     },
     "output_type": "display_data"
    }
   ],
   "source": [
    "annots = loadmat('D:\\\\GoogleDrive\\\\retina\\\\Chou\\'s data\\\\20210331\\\\merge\\\\merge_0224_cSTA_wf_3min_Q100' \n",
    "                 , squeeze_me = True)\n",
    "x = annots['bin_pos']\n",
    "x = x-np.mean(x)\n",
    "dt = 1/60\n",
    "rstate, _ = np.histogram(annots['reconstruct_spikes'][21-1], np.arange(len(x)+1)*dt)\n",
    "\n",
    "cSTA = np.correlate(x , rstate, 'same')/ np.correlate(np.ones_like(x), rstate, 'same')\n",
    "cSTA = cSTA[int(len(cSTA)/2):int(len(cSTA)/2-1/dt)-1:-1]\n",
    "taxis = -np.arange(len(cSTA))*dt\n",
    "plt.plot(taxis, cSTA)"
   ]
  },
  {
   "cell_type": "code",
   "execution_count": 4,
   "metadata": {},
   "outputs": [
    {
     "data": {
      "text/plain": [
       "-0.06666666666666667"
      ]
     },
     "execution_count": 4,
     "metadata": {},
     "output_type": "execute_result"
    }
   ],
   "source": [
    "taxis[np.argmin(cSTA)]"
   ]
  },
  {
   "cell_type": "code",
   "execution_count": 5,
   "metadata": {},
   "outputs": [],
   "source": [
    "def NGDcSTA(x, alpha, beta, Kg, tau_y, Amp):\n",
    "    dt = 1/60\n",
    "    stimulus = x.copy()\n",
    "    T = np.arange(0,int(tau_y/dt*8))*dt\n",
    "    Ky = T/tau_y /tau_y *np.exp(-T/tau_y)\n",
    "    sstm = np.zeros_like(stimulus)\n",
    "    for i in range(len(Ky)-1):\n",
    "        for ii in range(i+1):\n",
    "            sstm[i] += stimulus[ii]*Ky[i-ii]*dt\n",
    "        sx = np.convolve(stimulus,Ky,'valid')*dt\n",
    "        sstm[len(Ky)-1:] = sx.copy()\n",
    "\n",
    "    y=np.zeros_like(sstm)\n",
    "    z=np.zeros_like(sstm)\n",
    "    for j in range(len(x)-1):\n",
    "        dy=dt*(-alpha*y[j]+(sstm[j]-z[j]))\n",
    "        dz=dt*(-beta*z[j]+Kg*y[j])\n",
    "        y[j+1]=y[j]+dy\n",
    "        z[j+1]=z[j]+dz\n",
    "\n",
    "    fcSTA = np.correlate(x , NL(-y,0), 'same')/ np.correlate(np.ones_like(x ), NL(-y,0), 'same')\n",
    "    fcSTA = fcSTA[int(len(fcSTA)/2):int(len(fcSTA)/2-1/dt)-1:-1]\n",
    "    return  Amp*fcSTA"
   ]
  },
  {
   "cell_type": "code",
   "execution_count": 9,
   "metadata": {},
   "outputs": [
    {
     "name": "stdout",
     "output_type": "stream",
     "text": [
      "[4.57768288e+01 1.20334459e+00 1.26653773e+03 7.70558584e-02\n",
      " 1.18347513e+00]\n"
     ]
    },
    {
     "data": {
      "text/plain": [
       "[<matplotlib.lines.Line2D at 0x26caf2c9888>]"
      ]
     },
     "execution_count": 9,
     "metadata": {},
     "output_type": "execute_result"
    },
    {
     "data": {
      "image/png": "[encoded data removed]",
      "text/plain": [
       "<Figure size 432x288 with 1 Axes>"
      ]
     },
     "metadata": {
      "needs_background": "light"
     },
     "output_type": "display_data"
    }
   ],
   "source": [
    "alpha = 41. #1/sec\n",
    "beta =  2\n",
    "Kg = 900\n",
    "tau_y = 0.03\n",
    "Amp = 1\n",
    "popt,pcov = curve_fit(NGDcSTA, x, cSTA, p0=[alpha, beta, Kg, tau_y,Amp])\n",
    "print(popt)\n",
    "plt.plot(taxis, cSTA, 'b+:', label='data')\n",
    "plt.plot(taxis, NGDcSTA(x, *popt), 'r-', label='fit')"
   ]
  },
  {
   "cell_type": "code",
   "execution_count": 10,
   "metadata": {},
   "outputs": [],
   "source": [
    "name_list = ['alpha', 'beta', 'Kg', 'tau_y', 'Amp']\n",
    "para_dict = {}\n",
    "for l in range(len(popt)):\n",
    "    para_dict[name_list[l]] = popt[l]"
   ]
  },
  {
   "cell_type": "code",
   "execution_count": 11,
   "metadata": {},
   "outputs": [
    {
     "data": {
      "text/plain": [
       "{'alpha': 45.77682881376091,\n",
       " 'beta': 1.203344585556959,\n",
       " 'Kg': 1266.5377344374929,\n",
       " 'tau_y': 0.07705585837703723,\n",
       " 'Amp': 1.1834751343203247}"
      ]
     },
     "execution_count": 11,
     "metadata": {},
     "output_type": "execute_result"
    }
   ],
   "source": [
    "para_dict"
   ]
  },
  {
   "cell_type": "code",
   "execution_count": null,
   "metadata": {},
   "outputs": [],
   "source": []
  }
 ],
 "metadata": {
  "kernelspec": {
   "display_name": "Python 3",
   "language": "python",
   "name": "python3"
  },
  "language_info": {
   "codemirror_mode": {
    "name": "ipython",
    "version": 3
   },
   "file_extension": ".py",
   "mimetype": "text/x-python",
   "name": "python",
   "nbconvert_exporter": "python",
   "pygments_lexer": "ipython3",
   "version": "3.7.6"
  },
  "toc": {
   "base_numbering": 1,
   "nav_menu": {
    "height": "187px",
    "width": "383px"
   },
   "number_sections": true,
   "sideBar": true,
   "skip_h1_title": false,
   "title_cell": "Table of Contents",
   "title_sidebar": "Contents",
   "toc_cell": false,
   "toc_position": {
    "height": "789px",
    "left": "557px",
    "top": "241px",
    "width": "165px"
   },
   "toc_section_display": true,
   "toc_window_display": true
  },
  "varInspector": {
   "cols": {
    "lenName": 16,
    "lenType": 16,
    "lenVar": 40
   },
   "kernels_config": {
    "python": {
     "delete_cmd_postfix": "",
     "delete_cmd_prefix": "del ",
     "library": "var_list.py",
     "varRefreshCmd": "print(var_dic_list())"
    },
    "r": {
     "delete_cmd_postfix": ") ",
     "delete_cmd_prefix": "rm(",
     "library": "var_list.r",
     "varRefreshCmd": "cat(var_dic_list()) "
    }
   },
   "position": {
    "height": "273px",
    "left": "1523px",
    "right": "20px",
    "top": "112px",
    "width": "350px"
   },
   "types_to_exclude": [
    "module",
    "function",
    "builtin_function_or_method",
    "instance",
    "_Feature"
   ],
   "window_display": true
  }
 },
 "nbformat": 4,
 "nbformat_minor": 4
}
