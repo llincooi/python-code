{
 "cells": [
  {
   "cell_type": "markdown",
   "metadata": {},
   "source": [
    "You can perform PID on MI(r;(x,v)), and compare the result of different 'x'.\n",
    "'x' can from experimental data or produce in this code for different Tau (Gramma) or cutoff frequency\n",
    "'r' can be real responses of RGC or form NGD."
   ]
  },
  {
   "cell_type": "markdown",
   "metadata": {
    "heading_collapsed": true
   },
   "source": [
    "# Importing"
   ]
  },
  {
   "cell_type": "code",
   "execution_count": 1,
   "metadata": {
    "hidden": true,
    "hide_output": false,
    "run_control": {
     "marked": true
    }
   },
   "outputs": [],
   "source": [
    "import numpy as np\n",
    "import matplotlib.pyplot as plt\n",
    "from mpl_toolkits import mplot3d\n",
    "from matplotlib.ticker import MaxNLocator\n",
    "import math\n",
    "from scipy import signal\n",
    "from scipy.fftpack import fft\n",
    "from scipy import ndimage\n",
    "from scipy.io import loadmat\n",
    "import os\n",
    "%matplotlib inline"
   ]
  },
  {
   "cell_type": "markdown",
   "metadata": {
    "heading_collapsed": true
   },
   "source": [
    "# Functions"
   ]
  },
  {
   "cell_type": "markdown",
   "metadata": {
    "heading_collapsed": true,
    "hidden": true
   },
   "source": [
    "## PID"
   ]
  },
  {
   "cell_type": "code",
   "execution_count": 2,
   "metadata": {
    "hidden": true,
    "hide_output": false,
    "run_control": {
     "marked": true
    }
   },
   "outputs": [],
   "source": [
    "def PIfunc(r, x, v, dt, window):\n",
    "    negshift=window[0] # second\n",
    "    posshift=window[1] # second\n",
    "    shiftlen=(posshift-negshift)/dt+1\n",
    "    timeshift=np.linspace(negshift,posshift,int(shiftlen))\n",
    "    bitshift=np.linspace(negshift/dt,posshift/dt,int(shiftlen),dtype = 'int16')\n",
    "    Information = dict()\n",
    "    Information[('BROJA_2PID','SI')]=np.zeros(len(bitshift))\n",
    "    Information[('BROJA_2PID','UIx')]=np.zeros(len(bitshift))\n",
    "    Information[('BROJA_2PID','UIv')]=np.zeros(len(bitshift))\n",
    "    Information[('BROJA_2PID','CI')]=np.zeros(len(bitshift))\n",
    "    Information[('Beer','Red')]=np.zeros(len(bitshift))\n",
    "    Information[('Beer','UIx')]=np.zeros(len(bitshift))\n",
    "    Information[('Beer','UIv')]=np.zeros(len(bitshift))\n",
    "    Information[('Beer','Syn')]=np.zeros(len(bitshift))\n",
    "    \n",
    "    Information[('test','SI')]=np.zeros(len(bitshift))\n",
    "    Information[('test','UIx')]=np.zeros(len(bitshift))\n",
    "    Information[('test','UIv')]=np.zeros(len(bitshift))\n",
    "    Information[('test','CI')]=np.zeros(len(bitshift))\n",
    "    Redun =np.zeros(len(bitshift))\n",
    "    MIxr=np.zeros(len(bitshift))\n",
    "    MIvr=np.zeros(len(bitshift))\n",
    "    MIxvR=np.zeros(len(bitshift))\n",
    "    parms = dict()\n",
    "    parms['max_iters'] = 20\n",
    "    # shifted data\n",
    "    # shift>0 => y shifted to positive side\n",
    "    for i in range(len(bitshift)):\n",
    "        xx=[]\n",
    "        vv=[]\n",
    "        rr=[]\n",
    "        shift=bitshift[i]\n",
    "        if shift>0:\n",
    "            xx=x[shift:]\n",
    "            vv=v[shift:]\n",
    "            rr=r[:(-1*shift)]\n",
    "        elif shift==0:\n",
    "            xx=x\n",
    "            vv=v\n",
    "            rr=r\n",
    "        elif shift<0:\n",
    "            xx=x[:shift]\n",
    "            vv=v[:shift]\n",
    "            rr=r[(-1*shift):]\n",
    "        #find weight of each states by 3D histogram \n",
    "        xedges = np.append(np.unique(xx),(max(xx)+1))\n",
    "        vedges = np.append(np.unique(vv),(max(vv)+1))\n",
    "        redges = np.append(np.unique(rr),(max(rr)+1))\n",
    "        dat = np.concatenate((xx[:,np.newaxis], vv[:,np.newaxis],rr[:,np.newaxis]), axis=1)\n",
    "        N, edges = np.histogramdd(dat, bins=(xedges, vedges, redges))\n",
    "        #Calculate all kinds of probability and make sure the shape of them, 0 -> x, 1 -> v, 2 -> r\n",
    "        px=(np.sum(N,axis=(1,2))/np.sum(N))[:, np.newaxis, np.newaxis]\n",
    "        pv=(np.sum(N,axis=(0,2))/np.sum(N))[np.newaxis, :, np.newaxis]\n",
    "        pr=(np.sum(N,axis=(0,1))/np.sum(N))[np.newaxis ,np.newaxis, :]\n",
    "        pxv=(np.sum(N,axis=2)/np.sum(N))[:, :, np.newaxis]\n",
    "        pxr=(np.sum(N,axis=1)/np.sum(N))[:, np.newaxis, :]\n",
    "        pvr=(np.sum(N,axis=0)/np.sum(N))[np.newaxis, :, :]\n",
    "        pxvr=(N/np.sum(N))\n",
    "        \n",
    "        Information[('test','UIx')][i] = np.nansum(pxvr*np.log2(pxvr*px/pxv/pxr))/dt\n",
    "        Information[('test','UIv')][i] = np.nansum(pxvr*np.log2(pxvr*pv/pxv/pvr))/dt\n",
    "                \n",
    "#         PDF=Histo3D2Dict(pxvr)\n",
    "#         BROJA_2PID = pid(PDF, cone_solver=\"ECOS\", output=0, **parms)\n",
    "#         Information[('BROJA_2PID','SI')][i]=BROJA_2PID['SI']/dt\n",
    "#         Information[('BROJA_2PID','UIx')][i]=BROJA_2PID['UIY']/dt\n",
    "#         Information[('BROJA_2PID','UIv')][i]=BROJA_2PID['UIZ']/dt\n",
    "#         Information[('BROJA_2PID','CI')][i]=BROJA_2PID['CI']/dt\n",
    "        \n",
    "\n",
    "        MIxr=np.nansum(pxr*np.log2(pxr/px/pr))/dt\n",
    "        MIvr=np.nansum(pvr*np.log2(pvr/pv/pr))/dt\n",
    "        MIxvR=np.nansum(pxvr*np.log2(pxvr/pxv/pr))/dt\n",
    "        PI_xR = np.nansum(pxr*np.log2(pxr/px/pr), axis = (0,1))\n",
    "        PI_vR = np.nansum(pvr*np.log2(pvr/pv/pr), axis = (0,1))\n",
    "        R = sum(np.minimum(PI_xR, PI_vR))/dt\n",
    "        Information[('Beer','Red')][i] = R\n",
    "        Information[('Beer','UIx')][i] = MIxr - R\n",
    "        Information[('Beer','UIv')][i] = MIvr - R\n",
    "        Information[('Beer','Syn')][i] = MIxvR - MIxr - MIvr + R\n",
    "\n",
    "    return timeshift, Information"
   ]
  },
  {
   "cell_type": "code",
   "execution_count": 3,
   "metadata": {
    "hidden": true,
    "hide_output": false,
    "run_control": {
     "marked": true
    }
   },
   "outputs": [],
   "source": [
    "def PIfunc4ISI(r, x, v, Spike, dt, window, PorP):\n",
    "    negshift=window[0] # second\n",
    "    posshift=window[1] # second\n",
    "    shiftlen=(posshift-negshift)/dt+1\n",
    "    timeshift=np.linspace(negshift,posshift,int(shiftlen))\n",
    "    bitshift=np.linspace(negshift/dt,posshift/dt,int(shiftlen),dtype = 'int16')\n",
    "    Information = dict()\n",
    "    Information[('BROJA_2PID','SI')]=np.zeros(len(bitshift))\n",
    "    Information[('BROJA_2PID','UIx')]=np.zeros(len(bitshift))\n",
    "    Information[('BROJA_2PID','UIv')]=np.zeros(len(bitshift))\n",
    "    Information[('BROJA_2PID','CI')]=np.zeros(len(bitshift))\n",
    "    Information[('Beer','Red')]=np.zeros(len(bitshift))\n",
    "    Information[('Beer','UIx')]=np.zeros(len(bitshift))\n",
    "    Information[('Beer','UIv')]=np.zeros(len(bitshift))\n",
    "    Information[('Beer','Syn')]=np.zeros(len(bitshift))\n",
    "    \n",
    "    Information[('test','SI')]=np.zeros(len(bitshift))\n",
    "    Information[('test','UIx')]=np.zeros(len(bitshift))\n",
    "    Information[('test','UIv')]=np.zeros(len(bitshift))\n",
    "    Information[('test','CI')]=np.zeros(len(bitshift))\n",
    "    Redun =np.zeros(len(bitshift))\n",
    "    MIxr=np.zeros(len(bitshift))\n",
    "    MIvr=np.zeros(len(bitshift))\n",
    "    MIxvR=np.zeros(len(bitshift))\n",
    "    parms = dict()\n",
    "    parms['max_iters'] = 20\n",
    "    # shifted data\n",
    "    # shift>0 => y shifted to positive side\n",
    "    for i in range(len(bitshift)):\n",
    "        xx=[]\n",
    "        vv=[]\n",
    "        rr=[]\n",
    "        shift=bitshift[i]\n",
    "        if shift>0:\n",
    "            xx=x[shift:]\n",
    "            vv=v[shift:]\n",
    "            rr=r[:(-1*shift)]\n",
    "            SS=np.hstack((Spike[:sum(rr)+1],Spike[-1]-timeshift[i]))\n",
    "        elif shift==0:\n",
    "            xx=x\n",
    "            vv=v\n",
    "            rr=r\n",
    "            SS=Spike\n",
    "        elif shift<0:\n",
    "            xx=x[:shift]\n",
    "            vv=v[:shift]\n",
    "            rr=r[(-1*shift):]\n",
    "            SS=np.hstack((-timeshift[i],Spike[-sum(rr)-1:]))\n",
    "        if len(SS)-2 != sum(rr):\n",
    "            print(timeshift[i], SS[0:2], i)\n",
    "            print(len(SS), sum(rr))\n",
    "        new_xx = []\n",
    "        new_vv = []\n",
    "        post_ISI,_ = EqualState(np.diff(SS)[1:],cut_state_n)\n",
    "        pre_ISI,_ = EqualState(np.diff(SS)[:-1],cut_state_n)\n",
    "        for j in np.squeeze(np.where(rr != 0)):\n",
    "            for k in range(rr[j]):\n",
    "                new_xx.append(xx[j])\n",
    "                new_vv.append(vv[j])\n",
    "        new_xx = np.array(new_xx)\n",
    "        new_vv = np.array(new_vv)\n",
    "        if PorP == 'post':\n",
    "            new_rr = post_ISI\n",
    "        elif PorP == 'pre':\n",
    "            new_rr = pre_ISI\n",
    "        #find weight of each states by 3D histogram \n",
    "        xedges = np.append(np.unique(new_xx),(max(new_xx)+1))\n",
    "        vedges = np.append(np.unique(new_vv),(max(new_vv)+1))\n",
    "        redges = np.append(np.unique(new_rr),(max(new_rr)+1))\n",
    "        dat = np.concatenate((new_xx[:,np.newaxis], new_vv[:,np.newaxis],new_rr[:,np.newaxis]), axis=1)\n",
    "        N, edges = np.histogramdd(dat, bins=(xedges, vedges, redges))\n",
    "        #Calculate all kinds of probability and make sure the shape of them, 0 -> x, 1 -> v, 2 -> r\n",
    "        px=(np.sum(N,axis=(1,2))/np.sum(N))[:, np.newaxis, np.newaxis]\n",
    "        pv=(np.sum(N,axis=(0,2))/np.sum(N))[np.newaxis, :, np.newaxis]\n",
    "        pr=(np.sum(N,axis=(0,1))/np.sum(N))[np.newaxis ,np.newaxis, :]\n",
    "        pxv=(np.sum(N,axis=2)/np.sum(N))[:, :, np.newaxis]\n",
    "        pxr=(np.sum(N,axis=1)/np.sum(N))[:, np.newaxis, :]\n",
    "        pvr=(np.sum(N,axis=0)/np.sum(N))[np.newaxis, :, :]\n",
    "        pxvr=(N/np.sum(N))\n",
    "        \n",
    "        Information[('test','UIx')][i] = np.nansum(pxvr*np.log2(pxvr*px/pxv/pxr))/dt\n",
    "        Information[('test','UIv')][i] = np.nansum(pxvr*np.log2(pxvr*pv/pxv/pvr))/dt\n",
    "                \n",
    "#         PDF=Histo3D2Dict(pxvr)\n",
    "#         BROJA_2PID = pid(PDF, cone_solver=\"ECOS\", output=0, **parms)\n",
    "#         Information[('BROJA_2PID','SI')][i]=BROJA_2PID['SI']/dt\n",
    "#         Information[('BROJA_2PID','UIx')][i]=BROJA_2PID['UIY']/dt\n",
    "#         Information[('BROJA_2PID','UIv')][i]=BROJA_2PID['UIZ']/dt\n",
    "#         Information[('BROJA_2PID','CI')][i]=BROJA_2PID['CI']/dt\n",
    "        \n",
    "\n",
    "        MIxr=np.nansum(pxr*np.log2(pxr/px/pr))/dt\n",
    "        MIvr=np.nansum(pvr*np.log2(pvr/pv/pr))/dt\n",
    "        MIxvR=np.nansum(pxvr*np.log2(pxvr/pxv/pr))/dt\n",
    "        PI_xR = np.nansum(pxr*np.log2(pxr/px/pr), axis = (0,1))\n",
    "        PI_vR = np.nansum(pvr*np.log2(pvr/pv/pr), axis = (0,1))\n",
    "        R = sum(np.minimum(PI_xR, PI_vR))/dt\n",
    "        Information[('Beer','Red')][i] = R\n",
    "        Information[('Beer','UIx')][i] = MIxr - R\n",
    "        Information[('Beer','UIv')][i] = MIvr - R\n",
    "        Information[('Beer','Syn')][i] = MIxvR - MIxr - MIvr + R\n",
    "\n",
    "    return timeshift, Information"
   ]
  },
  {
   "cell_type": "markdown",
   "metadata": {
    "heading_collapsed": true,
    "hidden": true
   },
   "source": [
    "## Activation Function"
   ]
  },
  {
   "cell_type": "code",
   "execution_count": 4,
   "metadata": {
    "hidden": true,
    "hide_output": false,
    "run_control": {
     "marked": true
    }
   },
   "outputs": [],
   "source": [
    "def Fake_Spike_Activation_function(realr, r, distribution, noise_list):\n",
    "    rstate=np.zeros(len(r))\n",
    "    model = 0\n",
    "    if distribution == 'burst distributed':\n",
    "        model += 10\n",
    "    elif distribution == 'real distributed':\n",
    "        model += 20\n",
    "    elif distribution == 'fake distributed':\n",
    "        model += 30\n",
    "    for noise in noise_list:\n",
    "        if noise == 'poisson process':\n",
    "            model += 1\n",
    "        elif noise == 'randomly not fire':\n",
    "            model += 100\n",
    "            \n",
    "    if model == 121: #'randomly not fire' + 'real distributed' + 'poisson process'\n",
    "        counter = 0\n",
    "        for n in np.arange(1, max(realr)+1):\n",
    "            edge = np.sort(r)[counter]\n",
    "            counter += round((np.shape(np.where(realr==n))[1])/(len(r)-(np.shape(np.where(realr==0))[1]))*len(r))\n",
    "            rstate[r>=edge] = np.random.poisson(n)\n",
    "        randomly_not_fire = np.append(np.ones(len(r)-(np.shape(np.where(realr==0))[1])), np.zeros(np.shape(np.where(realr==0))[1]))\n",
    "        np.random.shuffle(randomly_not_fire)\n",
    "        rstate = rstate*randomly_not_fire\n",
    "        rstate = rstate.astype(int)\n",
    "    elif model == 21: #'real distributed' + 'poisson process'\n",
    "        counter = 0\n",
    "        for n in np.unique(realr):\n",
    "            edge = np.sort(r)[counter]\n",
    "            counter += (np.shape(np.where(realr==n))[1])\n",
    "            rstate[r>=edge] = np.random.poisson(n)\n",
    "    elif model == 30: #'fake distributed' \n",
    "        edges = np.append(min(r), np.array([np.std(r),2*np.std(r),3*np.std(r)])+np.mean(r));\n",
    "        rstate=np.zeros(len(r))\n",
    "        for i in range(4):\n",
    "            rstate[r>=edges[i]] = i\n",
    "    elif model == 110: #'randomly not fire' + 'burst distributed' \n",
    "        counter = 0\n",
    "        burst_distr = np.array([0.95, 0.03, 0.02]);\n",
    "        for n in np.arange(1,3):\n",
    "            edge = np.sort(r)[int(counter)]\n",
    "            counter += int(len(r)*burst_distr[n]/(1-burst_distr[0])+0.5)\n",
    "            rstate[r>=edge] = n\n",
    "        randomly_not_fire = np.append(np.ones(int(len(r)*(1-burst_distr[0])+0.5)), np.zeros(int(len(r)*burst_distr[0]+0.5)))\n",
    "        np.random.shuffle(randomly_not_fire)\n",
    "        rstate = rstate*randomly_not_fire\n",
    "        rstate = rstate.astype(int)\n",
    "    else:  #'real spike'\n",
    "        rstate = np.nan\n",
    "    return rstate\n",
    "\n",
    "\n"
   ]
  },
  {
   "cell_type": "code",
   "execution_count": 5,
   "metadata": {
    "hidden": true,
    "hide_output": false,
    "run_control": {
     "marked": true
    }
   },
   "outputs": [],
   "source": [
    "# activation function\n",
    "def nA(x,theta=0):\n",
    "    y = np.zeros(len(x))\n",
    "    for i in range(len(x)):\n",
    "        if x[i]- theta>0:\n",
    "            y[i]= 1\n",
    "    return(y)\n",
    "\n",
    "# activation function\n",
    "def nA2(x,theta1, theta2):\n",
    "    y = np.zeros(len(x))\n",
    "    for i in range(len(x)):\n",
    "        if x[i]- theta2>0:\n",
    "            y[i]= 2\n",
    "        elif x[i]- theta1>0:\n",
    "            y[i]= 1\n",
    "    return(y)\n",
    "\n",
    "# activation function\n",
    "def NL(x,theta=0):\n",
    "    y = np.zeros(len(x))\n",
    "    for i in range(len(x)):\n",
    "        if x[i]- theta>0:\n",
    "            y[i]= x[i]-theta\n",
    "    return(y)"
   ]
  },
  {
   "cell_type": "markdown",
   "metadata": {
    "heading_collapsed": true,
    "hidden": true
   },
   "source": [
    "## Get Stimulus and Response"
   ]
  },
  {
   "cell_type": "code",
   "execution_count": 6,
   "metadata": {
    "hidden": true,
    "hide_output": false,
    "run_control": {
     "marked": true
    }
   },
   "outputs": [],
   "source": [
    "def Get_StimulusnResponse(ExporSim, conPar, par_list, IndParValue=1, channelnumber = 39):\n",
    "    rate_rstate_list = []\n",
    "    time_rstate_list = []\n",
    "    Spike_list = []\n",
    "    if ExporSim=='Exp':\n",
    "        x_list = []\n",
    "        T_list = []\n",
    "        if conPar=='Gramma':\n",
    "            for G in par_list:\n",
    "                exp_folder = 'D:\\\\GoogleDrive\\\\retina\\\\Exps\\\\2020\\\\0503'\n",
    "                annots = loadmat(exp_folder+'\\\\merge\\\\'+'merge_0224_OUsmooth_RL_G'+str(G)+'_5min_Q100_6.5mW_1Hz.mat')\n",
    "                x = np.squeeze(annots['bin_pos'])\n",
    "                x = x.astype(float)\n",
    "                x = (x-np.mean(x))/np.std(x)\n",
    "                T = np.squeeze(annots['diode_BT'])\n",
    "                rstate, _ = np.histogram(annots['reconstruct_spikes'][0][channelnumber-1], np.append(0,T))\n",
    "                new_rstate = np.zeros_like(rstate)\n",
    "                \n",
    "                Spike = np.hstack((0, np.squeeze(annots['reconstruct_spikes'][0][channelnumber-1]), T[-1]))\n",
    "                counter = 0\n",
    "                for i in range(len(rstate)):\n",
    "                    counter += rstate[i]\n",
    "                    ISI = (Spike[counter+1]-Spike[counter-rstate[i]])/(rstate[i]+1)\n",
    "                    new_rstate[i] = ISI \n",
    "\n",
    "                rate_rstate_list.append(rstate.copy())\n",
    "                time_rstate_list.append(new_rstate.copy())\n",
    "                Spike_list.append(Spike.copy())\n",
    "                x_list.append( x.copy())\n",
    "                T_list.append( T.copy())\n",
    "            dt = 1/60\n",
    "        elif conPar=='Fc':\n",
    "            for Fc in par_list:\n",
    "                exp_folder = 'D:\\\\GoogleDrive\\\\retina\\\\Exps\\\\2020\\\\0729'\n",
    "                annots = loadmat(exp_folder+'\\\\merge\\\\'+'merge_0727_OUsmooth_Bright_UL_DR_G4.5_5min_Q100_6.5mW_'+str(Fc)+'Hz.mat')\n",
    "                x = np.squeeze(annots['bin_pos'])\n",
    "                x = x.astype(float)\n",
    "                x = (x-np.mean(x))/np.std(x)\n",
    "                T = np.squeeze(annots['diode_BT'])\n",
    "                rstate, _ = np.histogram(annots['reconstruct_spikes'][0][channelnumber-1], np.append(0,T))\n",
    "                new_rstate = np.zeros_like(rstate, dtype = float)\n",
    "\n",
    "                Spike = np.hstack((0, np.squeeze(annots['reconstruct_spikes'][0][channelnumber-1]), T[-1]))\n",
    "                counter = 0\n",
    "                for i in range(len(rstate)):\n",
    "                    counter += rstate[i]\n",
    "                    ISI = (Spike[counter+1]-Spike[counter-rstate[i]])/(rstate[i]+1)\n",
    "                    new_rstate[i] = ISI\n",
    "                \n",
    "                rate_rstate_list.append(rstate.copy())\n",
    "                time_rstate_list.append(new_rstate.copy())\n",
    "                Spike_list.append(Spike.copy())\n",
    "                x_list.append( x.copy())\n",
    "                T_list.append( T.copy())\n",
    "        dt = 1/60\n",
    "    else:    ##'Sim':\n",
    "        if conPar=='Tau':\n",
    "            Tot=300\n",
    "            dt=1./60\n",
    "            T=np.arange(dt,Tot,dt)\n",
    "            # OU ; input\n",
    "            tau= 0.1\n",
    "            D = 27*10**5\n",
    "            OU=np.zeros(len(T))\n",
    "            mu, sigma = 0, 1\n",
    "            cutoffFreq = IndParValue\n",
    "            for tau in par_list:\n",
    "                for i in range(len(T)-1):\n",
    "                    OU[i+1]=OU[i]*(1-dt/tau)+math.sqrt(D*dt)*np.random.normal(mu,sigma)\n",
    "                # filtering for OUSmoothed\n",
    "                LPOU_list = []\n",
    "                b, a = signal.butter(2, 2*cutoffFreq*dt, btype='low', analog=False)\n",
    "                LPOU_list.append(signal.filtfilt(b, a, OU))\n",
    "            x_list = LPOU_list.copy()  ##HMM or OU or LPOU\n",
    "        elif conPar=='Fc':\n",
    "            Tot=300\n",
    "            dt=1./60\n",
    "            T=np.arange(dt,Tot,dt)\n",
    "            # OU ; input\n",
    "            tau= IndParValue\n",
    "            D = 27*10**5\n",
    "            OU=np.zeros(len(T))\n",
    "            mu, sigma = 0, 1\n",
    "            for i in range(len(T)-1):\n",
    "                OU[i+1]=OU[i]*(1-dt/tau)+math.sqrt(D*dt)*np.random.normal(mu,sigma)\n",
    "            # filtering for OUSmoothed\n",
    "            LPOU_list = []\n",
    "            for cutoffFreq in par_list:\n",
    "                if cutoffFreq == np.Inf:\n",
    "                    LPOU_list.append(OU)\n",
    "                elif cutoffFreq == 0:\n",
    "                    LPOU_list.append(np.mean(OU)*np.ones_like(OU))\n",
    "                else:\n",
    "                    b, a = signal.butter(2, 2*cutoffFreq*dt, btype='low', analog=False)\n",
    "                    LPOU_list.append(signal.filtfilt(b, a, OU))\n",
    "            x_list = LPOU_list.copy()  ##HMM or OU or LPOU\n",
    "        T_list = [T]*len(par_list)\n",
    "    return x_list, T_list, dt, rate_rstate_list, time_rstate_list, Spike_list"
   ]
  },
  {
   "cell_type": "markdown",
   "metadata": {
    "heading_collapsed": true,
    "hidden": true
   },
   "source": [
    "## Retina Mechine (1D)"
   ]
  },
  {
   "cell_type": "code",
   "execution_count": 7,
   "metadata": {
    "hidden": true,
    "hide_output": false,
    "run_control": {
     "marked": true
    }
   },
   "outputs": [],
   "source": [
    "def Retina_Mechine_1D(stimulus, sigma_dict, para_dict, dx, dt, loc_dict = 1):\n",
    "    if loc_dict == 1:\n",
    "        loc_dict = {}\n",
    "        loc_dict['C'] = 1\n",
    "        loc_dict['H'] = 1\n",
    "        \n",
    "    klen = max(sigma_dict.values())*5\n",
    "    xx = np.arange(-klen,klen,dx)\n",
    "    KC = Gaussian(xx,sigma_dict['C'])\n",
    "    KH = Gaussian(xx,sigma_dict['H'])\n",
    "\n",
    "    output = np.zeros_like(stimulus)#y output\n",
    "    zts = np.zeros_like(stimulus)#horizontal\n",
    "    sstm = np.zeros_like(stimulus)\n",
    "    rpeak = np.zeros(np.shape(stimulus)[0])\n",
    "    \n",
    "    if 'tau_y' in sigma_dict.keys():\n",
    "        T = np.arange(0,int(sigma_dict['tau_y']/dt*8))*dt\n",
    "        Ky=T/sigma_dict['tau_y'] /sigma_dict['tau_y'] *np.exp(-T/sigma_dict['tau_y'])\n",
    "        for j in range(np.shape(stimulus)[1]):\n",
    "            for i in range(len(Ky)-1):\n",
    "                for ii in range(i+1):\n",
    "                    sstm[i,j] += stimulus[ii,j]*Ky[i-ii]*dt\n",
    "            sx = np.convolve(stimulus[:,j],Ky,'valid')*dt\n",
    "            sstm[len(Ky)-1:,j] = sx.copy()\n",
    "    else:\n",
    "        sstm = stimulus.copy()\n",
    "\n",
    "    for i in range(np.shape(stimulus)[0]-1):\n",
    "        s = sstm[i,:]\n",
    "        rs = np.convolve(s,KC,'same')*dx\n",
    "        ry = np.convolve(output[i,:],KH,'same')*dx# feedback from horizontal cell (y convoluted with horitonatl cell receptive field KH)\n",
    "        rz = np.convolve(zts[i,:],KH,'same')*dx# feedback from horizontal cell (z convoluted with horitonatl cell receptive field KH)\n",
    "\n",
    "        dyj =(-para_dict['alpha']*output[i,:]+para_dict['k']*(rs-para_dict['phi']*rz))*dt\n",
    "        dzj =(-para_dict['beta']*zts[i,:]+para_dict['g']*output[i,:])*dt\n",
    "        output[i+1,:] = (output[i,:]+dyj)*loc_dict['C']\n",
    "        zts[i+1,:] = (zts[i,:]+dzj)*loc_dict['H']\n",
    "        \n",
    "        maxpos = np.argmax(output[i+1,:])\n",
    "        rpeak[i+1]= maxpos*dx\n",
    "    return output, zts, rpeak"
   ]
  },
  {
   "cell_type": "markdown",
   "metadata": {
    "heading_collapsed": true,
    "hidden": true
   },
   "source": [
    "## Spiking Time Generater"
   ]
  },
  {
   "cell_type": "code",
   "execution_count": 8,
   "metadata": {
    "hidden": true,
    "hide_output": false,
    "run_control": {
     "marked": true
    }
   },
   "outputs": [],
   "source": [
    "def Spike_Time_Generater(rdt, dt, Garmma=1):\n",
    "    rdt = rdt*Garmma\n",
    "    Spike_time = []\n",
    "    \n",
    "    counter = 0\n",
    "    post_remainer_c = 0\n",
    "    p = 1\n",
    "    while True:\n",
    "        the_random_number = np.random.rand()\n",
    "        while (the_random_number < p and counter < len(rdt)):\n",
    "            p *= np.exp(-rdt[counter])\n",
    "            counter += 1\n",
    "        if counter >= len(rdt):\n",
    "            break\n",
    "        remainer_c = -np.log(p/the_random_number)/rdt[counter-1]\n",
    "#         if remainer_c>=1 or remainer_c<=0:\n",
    "#             print('shit!')\n",
    "        Spike_time.append(dt*(counter-remainer_c))\n",
    "        p = np.exp(-remainer_c*rdt[counter-1])\n",
    "    return Spike_time[::Garmma]"
   ]
  },
  {
   "cell_type": "markdown",
   "metadata": {
    "heading_collapsed": true,
    "hidden": true
   },
   "source": [
    "## Others"
   ]
  },
  {
   "cell_type": "code",
   "execution_count": 9,
   "metadata": {
    "hidden": true,
    "hide_output": false,
    "run_control": {
     "marked": true
    }
   },
   "outputs": [],
   "source": [
    "def Histo3D2Dict(P):\n",
    "    PDF = dict()\n",
    "    for i in range(np.size(P, 0)):\n",
    "        for j in range(np.size(P, 1)):\n",
    "            for k in range(np.size(P, 2)):\n",
    "                PDF[(k,i,j)] = float(P[i,j,k])\n",
    "    return PDF"
   ]
  },
  {
   "cell_type": "code",
   "execution_count": 10,
   "metadata": {
    "hidden": true,
    "hide_output": false,
    "run_control": {
     "marked": true
    }
   },
   "outputs": [],
   "source": [
    "## EqualState assign states with equal possibility for input array x\n",
    "def EqualState(x, num_state):\n",
    "    xs=np.sort(x)\n",
    "    binlen=int(len(x)/num_state-0.5) #round\n",
    "    edges = xs[np.arange(num_state+1)*binlen]\n",
    "    xstate=np.zeros(len(x))\n",
    "    for i in range(num_state):\n",
    "        xstate[x>=edges[i]] = i\n",
    "    xstate = xstate.astype(int)\n",
    "    return xstate, edges"
   ]
  },
  {
   "cell_type": "code",
   "execution_count": 11,
   "metadata": {
    "hidden": true,
    "hide_output": false,
    "run_control": {
     "marked": true
    }
   },
   "outputs": [],
   "source": [
    "def STA(r, x, v, dt, window):\n",
    "    negshift=round(window[0]/dt) # second\n",
    "    posshift=round(window[1]/dt) # second\n",
    "    xSTS = np.zeros(posshift-negshift)\n",
    "    vSTS = np.zeros(posshift-negshift)\n",
    "    for i in np.arange(-negshift, len(r)-posshift):\n",
    "        xSTS = xSTS + x[i+negshift:i+posshift]*r[i]\n",
    "        vSTS = vSTS + v[i+negshift:i+posshift]*r[i]\n",
    "    xSTA = xSTS/sum(r[-negshift:len(r)-posshift])\n",
    "    vSTA = vSTS/sum(r[-negshift:len(r)-posshift])\n",
    "    time = np.arange(negshift*dt, posshift*dt, dt)\n",
    "    return time, xSTA, vSTA"
   ]
  },
  {
   "cell_type": "code",
   "execution_count": 12,
   "metadata": {
    "hidden": true,
    "hide_output": false,
    "run_control": {
     "marked": true
    }
   },
   "outputs": [],
   "source": [
    "def Gaussian(x,s):\n",
    "    return(np.exp(-(x/s)**2))/s/np.sqrt(np.pi)"
   ]
  },
  {
   "cell_type": "markdown",
   "metadata": {},
   "source": [
    "# Main\n",
    "\n",
    "Loading Exp.mat for position series,\n",
    "Calculate velocity,\n",
    "Calculate correlation time,\n",
    "Assign states"
   ]
  },
  {
   "cell_type": "code",
   "execution_count": 13,
   "metadata": {
    "hide_output": false,
    "run_control": {
     "marked": true
    }
   },
   "outputs": [],
   "source": [
    "global cut_state_n\n",
    "cut_state_n = 8\n",
    "Fc_list = np.hstack((0, 1./np.arange(10.,1./29.,-1), 29.,np.Inf))\n",
    "x_list, T_list, dt, _, _, _ = Get_StimulusnResponse('Sim', 'Fc', Fc_list, 1)\n",
    "# x_list, T_list, dt, _ = Get_StimulusnResponse('Sim', 'Tau', [1.8,1.4,1,0.6,0.22], 1)"
   ]
  },
  {
   "cell_type": "code",
   "execution_count": 14,
   "metadata": {
    "hide_output": false,
    "run_control": {
     "marked": true
    }
   },
   "outputs": [],
   "source": [
    "v_list = []\n",
    "for i in range(len(x_list)):\n",
    "    v = ndimage.gaussian_filter1d(x_list[i].copy(), sigma=1, order=1, mode='wrap') / dt\n",
    "    v_list.append(v[1:-1].copy())    \n",
    "    x_list[i] = x_list[i][1:-1]\n",
    "    T_list[i] = T_list[i][1:-1]"
   ]
  },
  {
   "cell_type": "code",
   "execution_count": 15,
   "metadata": {
    "hide_output": false,
    "run_control": {
     "marked": true
    }
   },
   "outputs": [],
   "source": [
    "t_cor_list = []\n",
    "for i in range(len(x_list)):\n",
    "    x_cor = np.correlate(x_list[i], x_list[i], \"same\")\n",
    "    x_cor = x_cor[:int((len(x_cor)+1)/2)+1]\n",
    "    Taxis = np.flip(T_list[i][:len(x_cor)]-dt/2)\n",
    "    t_cor_list.append( round(np.interp(0.5*max(x_cor),  x_cor, Taxis), 3))"
   ]
  },
  {
   "cell_type": "code",
   "execution_count": 16,
   "metadata": {
    "hide_output": false,
    "run_control": {
     "marked": true
    }
   },
   "outputs": [],
   "source": [
    "# t_cor_list"
   ]
  },
  {
   "cell_type": "code",
   "execution_count": 17,
   "metadata": {
    "hide_output": false,
    "run_control": {
     "marked": true
    }
   },
   "outputs": [],
   "source": [
    "ystate_list = []\n",
    "xstate_list = []\n",
    "vstate_list = []\n",
    "\n",
    "for i in range(len(x_list)):\n",
    "    xstate, _ = EqualState(x_list[i], cut_state_n)\n",
    "    vstate, _ = EqualState(v_list[i], cut_state_n)\n",
    "    xstate_list.append(xstate)\n",
    "    vstate_list.append(vstate)"
   ]
  },
  {
   "cell_type": "code",
   "execution_count": 18,
   "metadata": {
    "hide_output": false,
    "run_control": {
     "marked": true
    }
   },
   "outputs": [],
   "source": [
    "window = [-1,1] # second"
   ]
  },
  {
   "cell_type": "markdown",
   "metadata": {},
   "source": [
    "# Fake Spike - 1D"
   ]
  },
  {
   "cell_type": "markdown",
   "metadata": {},
   "source": [
    "## Generate Spike by NGD1d and poisson process"
   ]
  },
  {
   "cell_type": "markdown",
   "metadata": {},
   "source": [
    "### 1D-NGD model"
   ]
  },
  {
   "cell_type": "code",
   "execution_count": 19,
   "metadata": {
    "hide_output": false,
    "run_control": {
     "marked": true
    }
   },
   "outputs": [
    {
     "name": "stdout",
     "output_type": "stream",
     "text": [
      "25.0\n"
     ]
    }
   ],
   "source": [
    "sigma_dict = dict()\n",
    "sigma_dict['H'] = 1\n",
    "sigma_dict['C'] = sigma_dict['H']*0.75# RF size of cone cell\n",
    "dx = 0.025*sigma_dict['H']\n",
    " \n",
    "# sigma_dict['tau_y'] = 0.01                                                                                                                                                                                                                                                                                                                                                                                                                                                                                                                                                                                                                                                                                                                                                                                                                                                                                                                                                                                                                                                                                                                                                                                                                                                                                                                                                                                                                                                                                                                                                                                                                                                                                                                                                                                                                                                                                                                                                                                                                                                                                                                                                                                                                                                                                                                                                                                                                                                                                                                                                                                                                                                                                                                                                                                                                                                                                                                               \n",
    "\n",
    "#Width setting\n",
    "xlen = 2000*dx #spatial extend of simulation\n",
    "hw = 3/11**sigma_dict['H']#half bar width\n",
    "tempx = np.arange(0,xlen,dx)\n",
    "\n",
    "para_dict = {}\n",
    "para_dict['alpha'] = 40.\n",
    "para_dict['beta'] = 2.\n",
    "para_dict['k'] = 50.\n",
    "para_dict['phi'] = 20.\n",
    "para_dict['g'] = 2.\n",
    "\n",
    "print(para_dict['g']*para_dict['k']*para_dict['phi']/para_dict['alpha']/para_dict['beta'])\n",
    "\n",
    "y_list = []\n",
    "for i in range(len(x_list)):\n",
    "    LPOU_bar = np.zeros([len(T_list[i]), int(xlen/dx)])\n",
    "    if Fc_list[i] == 0:\n",
    "        speak = xlen/2*np.ones_like(x_list[i])\n",
    "    else:\n",
    "        speak = (x_list[i].copy()-min(x_list[i].copy()))/(max(x_list[i].copy())-min(x_list[i].copy()))*hw*11/dx+600\n",
    "    for j in range(len(T_list[i])):\n",
    "        pos = speak[j]\n",
    "        LPOU_bar[j,max(int(pos-hw/dx), 0):min(int(pos+hw/dx), int(xlen/dx))] = 1\n",
    "    LPOU_y, zts, rpeak = Retina_Mechine_1D(LPOU_bar, sigma_dict, para_dict, dx, dt)\n",
    "    y_list.append(LPOU_y.copy())                      \n",
    "                                                      "
   ]
  },
  {
   "cell_type": "markdown",
   "metadata": {},
   "source": [
    "### Choose Cell for Spike Generation and Assign States"
   ]
  },
  {
   "cell_type": "code",
   "execution_count": 20,
   "metadata": {
    "hide_output": false,
    "run_control": {
     "marked": true
    }
   },
   "outputs": [],
   "source": [
    "Sindex = 660\n",
    "FakeSpike_list = [0]*len(x_list)\n",
    "ystate_list = [0]*len(x_list)\n",
    "time_ystate_list = [0]*len(x_list)\n",
    "order = np.arange(len(x_list))\n",
    "np.random.shuffle(order)\n",
    "ratio, theta = 0, 0\n",
    "for i in order:\n",
    "    y = np.zeros(y_list[i].shape[0])\n",
    "    for j in range( y_list[i].shape[0]):\n",
    "        y[j] = y_list[i][j][Sindex]\n",
    "\n",
    "    theta = np.mean(y)+0.75*np.std(y)# if theta == 0 else theta\n",
    "    r = NL(y, theta)\n",
    "    ratio = sum(r)/(len(r)*dt*6) #if ratio == 0 else ratio  ##set mean firing rate to be 6hz\n",
    "    FakeSpike_list[i] = Spike_Time_Generater(r/ratio, dt, 1)\n",
    "    ystate_list[i], _ = np.histogram(FakeSpike_list[i], np.append(0,T_list[i]))\n",
    "    \n",
    "    \n",
    "    Spike = np.hstack((0, FakeSpike_list[i], T_list[i][-1]))\n",
    "    counter = 0\n",
    "    ty = np.zeros_like(y)\n",
    "    for k in range(len(ystate_list[i])):\n",
    "        counter += ystate_list[i][k]\n",
    "        ty[k] = (Spike[counter+1]-Spike[counter-ystate_list[i][k]])/(ystate_list[i][k]+1)\n",
    "    time_ystate_list[i], _ = EqualState(ty, cut_state_n)"
   ]
  },
  {
   "cell_type": "markdown",
   "metadata": {},
   "source": [
    "## PID on x, {tr, rr} (tr:time code, rr:rate code) (event unit = bin)"
   ]
  },
  {
   "cell_type": "code",
   "execution_count": 21,
   "metadata": {
    "hide_output": false,
    "run_control": {
     "marked": true
    },
    "scrolled": true
   },
   "outputs": [
    {
     "name": "stderr",
     "output_type": "stream",
     "text": [
      "C:\\Users\\llinc\\anaconda3\\lib\\site-packages\\ipykernel_launcher.py:61: RuntimeWarning: invalid value encountered in true_divide\n",
      "C:\\Users\\llinc\\anaconda3\\lib\\site-packages\\ipykernel_launcher.py:62: RuntimeWarning: invalid value encountered in true_divide\n",
      "C:\\Users\\llinc\\anaconda3\\lib\\site-packages\\ipykernel_launcher.py:74: RuntimeWarning: invalid value encountered in true_divide\n",
      "C:\\Users\\llinc\\anaconda3\\lib\\site-packages\\ipykernel_launcher.py:61: RuntimeWarning: divide by zero encountered in log2\n",
      "C:\\Users\\llinc\\anaconda3\\lib\\site-packages\\ipykernel_launcher.py:61: RuntimeWarning: invalid value encountered in multiply\n",
      "C:\\Users\\llinc\\anaconda3\\lib\\site-packages\\ipykernel_launcher.py:62: RuntimeWarning: divide by zero encountered in log2\n",
      "C:\\Users\\llinc\\anaconda3\\lib\\site-packages\\ipykernel_launcher.py:62: RuntimeWarning: invalid value encountered in multiply\n",
      "C:\\Users\\llinc\\anaconda3\\lib\\site-packages\\ipykernel_launcher.py:72: RuntimeWarning: divide by zero encountered in log2\n",
      "C:\\Users\\llinc\\anaconda3\\lib\\site-packages\\ipykernel_launcher.py:72: RuntimeWarning: invalid value encountered in multiply\n",
      "C:\\Users\\llinc\\anaconda3\\lib\\site-packages\\ipykernel_launcher.py:73: RuntimeWarning: divide by zero encountered in log2\n",
      "C:\\Users\\llinc\\anaconda3\\lib\\site-packages\\ipykernel_launcher.py:73: RuntimeWarning: invalid value encountered in multiply\n",
      "C:\\Users\\llinc\\anaconda3\\lib\\site-packages\\ipykernel_launcher.py:74: RuntimeWarning: divide by zero encountered in log2\n",
      "C:\\Users\\llinc\\anaconda3\\lib\\site-packages\\ipykernel_launcher.py:74: RuntimeWarning: invalid value encountered in multiply\n",
      "C:\\Users\\llinc\\anaconda3\\lib\\site-packages\\ipykernel_launcher.py:75: RuntimeWarning: divide by zero encountered in log2\n",
      "C:\\Users\\llinc\\anaconda3\\lib\\site-packages\\ipykernel_launcher.py:75: RuntimeWarning: invalid value encountered in multiply\n",
      "C:\\Users\\llinc\\anaconda3\\lib\\site-packages\\ipykernel_launcher.py:76: RuntimeWarning: divide by zero encountered in log2\n",
      "C:\\Users\\llinc\\anaconda3\\lib\\site-packages\\ipykernel_launcher.py:76: RuntimeWarning: invalid value encountered in multiply\n"
     ]
    }
   ],
   "source": [
    "Information_list = [0]*len(y_list)\n",
    "for i in range(len(y_list)):\n",
    "    timeshift, Information_list[i] = PIfunc(xstate_list[i], time_ystate_list[i], ystate_list[i], dt, window)"
   ]
  },
  {
   "cell_type": "code",
   "execution_count": 22,
   "metadata": {
    "hide_output": false,
    "run_control": {
     "marked": true
    }
   },
   "outputs": [],
   "source": [
    "peak_HeightnPos = {}\n",
    "peak_HeightnPos['MI_tr'] = np.zeros((2, len(x_list)))\n",
    "peak_HeightnPos['MI_rr'] = np.zeros((2, len(x_list)))\n",
    "peak_HeightnPos['MI_tr_rr'] = np.zeros((2, len(x_list)))\n",
    "peak_HeightnPos['CI'] = np.zeros((2, len(x_list)))\n",
    "peak_HeightnPos['SI'] = np.zeros((2, len(x_list)))\n",
    "peak_HeightnPos['UI_tr'] = np.zeros((2, len(x_list)))\n",
    "peak_HeightnPos['UI_rr'] = np.zeros((2, len(x_list)))\n",
    "for i in range(len(x_list)):\n",
    "    UI_tr = np.flip(Information_list[i][('Beer','UIx')])\n",
    "    UI_rr = np.flip(Information_list[i][('Beer','UIv')])\n",
    "    CI = np.flip(Information_list[i][('Beer','Syn')])\n",
    "    SI = np.flip(Information_list[i][('Beer','Red')])\n",
    "    MI_tr = UI_tr+SI\n",
    "    MI_rr = UI_rr+SI\n",
    "    MI_tr_rr = UI_tr+UI_rr+SI+CI\n",
    "    \n",
    "    peak_HeightnPos['MI_tr'][:, i] = np.array([max(MI_tr),timeshift[np.argmax(MI_tr)]])\n",
    "    peak_HeightnPos['MI_rr'][:, i] = np.array([max(MI_rr),timeshift[np.argmax(MI_rr)]])\n",
    "    peak_HeightnPos['MI_tr_rr'][:, i] = np.array([max(MI_tr_rr),timeshift[np.argmax(MI_tr_rr)]])\n",
    "    peak_HeightnPos['CI'][:, i] = np.array([max(CI),timeshift[np.argmax(CI)]])\n",
    "    peak_HeightnPos['SI'][:, i] = np.array([max(SI),timeshift[np.argmax(SI)]])\n",
    "    peak_HeightnPos['UI_tr'][:, i] = np.array([max(UI_tr),timeshift[np.argmax(UI_tr)]])\n",
    "    peak_HeightnPos['UI_rr'][:, i] = np.array([max(UI_rr),timeshift[np.argmax(UI_rr)]])"
   ]
  },
  {
   "cell_type": "code",
   "execution_count": 23,
   "metadata": {
    "hide_output": false,
    "run_control": {
     "marked": true
    }
   },
   "outputs": [
    {
     "name": "stderr",
     "output_type": "stream",
     "text": [
      "C:\\Users\\llinc\\anaconda3\\lib\\site-packages\\ipykernel_launcher.py:5: RuntimeWarning: divide by zero encountered in true_divide\n",
      "  \"\"\"\n"
     ]
    },
    {
     "data": {
      "image/png": "[encoded data removed]",
      "text/plain": [
       "<Figure size 1080x360 with 2 Axes>"
      ]
     },
     "metadata": {
      "needs_background": "light"
     },
     "output_type": "display_data"
    }
   ],
   "source": [
    "fig, (ax2, ax3) = plt.subplots(nrows=1, ncols=2)\n",
    "# Fc_list[-1] = 100\n",
    "# Fc_list[-1] = np.Inf\n",
    "\n",
    "receprocal_Fc_list = 1./Fc_list\n",
    "receprocal_Fc_list[-1] = 0\n",
    "ax2.plot(receprocal_Fc_list,peak_HeightnPos['MI_tr'][0, :])\n",
    "ax2.plot(receprocal_Fc_list,peak_HeightnPos['MI_rr'][0, :])\n",
    "ax2.set_xlabel('1/cutoff_Frequency')\n",
    "ax2.set_ylabel('Information (bit/s)')\n",
    "\n",
    "ax3.plot(receprocal_Fc_list, peak_HeightnPos['MI_tr'][1, :])\n",
    "ax3.plot(receprocal_Fc_list, peak_HeightnPos['MI_rr'][1, :])\n",
    "ax3.set_xlabel('1/cutoff_Frequency')\n",
    "ax3.set_ylabel('time shift (s)')\n",
    "\n",
    "fig.set_size_inches(15, 5)"
   ]
  },
  {
   "cell_type": "markdown",
   "metadata": {},
   "source": [
    "smaller cutoff frequency -> flatter x (stimulus) -> "
   ]
  },
  {
   "cell_type": "markdown",
   "metadata": {},
   "source": [
    "# Fake Spike - 0D"
   ]
  },
  {
   "cell_type": "markdown",
   "metadata": {},
   "source": [
    "## Spike generation"
   ]
  },
  {
   "cell_type": "code",
   "execution_count": 24,
   "metadata": {
    "hide_output": false,
    "run_control": {
     "marked": true
    }
   },
   "outputs": [],
   "source": [
    "#following paremeters match x+v*0.5s\n",
    "alpha = 60. #1/sec\n",
    "beta =  2.\n",
    "K = 30.\n",
    "g = 30.\n",
    "\n",
    "# alpha = 80.\n",
    "# beta = 2.\n",
    "# k = 200.\n",
    "# g = 2/10.\n",
    "\n",
    "deltat = 0.05\n",
    "y_list = []\n",
    "for i in range(len(x_list)):\n",
    "    x = x_list[i].copy()\n",
    "    v = v_list[i].copy()\n",
    "    y=np.zeros(len(T_list[i]))\n",
    "    z=np.zeros(len(T_list[i]))\n",
    "    for j in range(len(T_list[i])-1):\n",
    "        dy=dt*(-alpha*y[j]+K*(x[j]-z[j]))\n",
    "        dz=dt*(-beta*z[j]+g*y[j])\n",
    "        y[j+1]=y[j]+dy\n",
    "        z[j+1]=z[j]+dz\n",
    "    y_list.append(y.copy())"
   ]
  },
  {
   "cell_type": "code",
   "execution_count": 25,
   "metadata": {
    "hide_output": false,
    "run_control": {
     "marked": true
    }
   },
   "outputs": [],
   "source": [
    "FakeSpike_list = [0]*len(x_list)\n",
    "ystate_list = [0]*len(x_list)\n",
    "time_ystate_list = [0]*len(x_list)\n",
    "order = np.arange(len(x_list))\n",
    "np.random.shuffle(order)\n",
    "ratio, theta = 0, 0\n",
    "for i in order:\n",
    "    y = y_list[i]\n",
    "\n",
    "    theta = np.mean(y)+0.75*np.std(y)# if theta == 0 else theta\n",
    "    r = NL(y, theta)\n",
    "    ratio = sum(r)/(len(r)*dt*6) #if ratio == 0 else ratio  ##set mean firing rate to be 6hz\n",
    "    FakeSpike_list[i] = Spike_Time_Generater(r/ratio, dt, 1)\n",
    "    ystate_list[i], _ = np.histogram(FakeSpike_list[i], np.append(0,T_list[i]))\n",
    "    \n",
    "    \n",
    "    Spike = np.hstack((0, FakeSpike_list[i], T_list[i][-1]))\n",
    "    counter = 0\n",
    "    ty = np.zeros_like(y)\n",
    "    for k in range(len(ystate_list[i])):\n",
    "        counter += ystate_list[i][k]\n",
    "        ty[k] = (Spike[counter+1]-Spike[counter-ystate_list[i][k]])/(ystate_list[i][k]+1)\n",
    "    time_ystate_list[i], _ = EqualState(ty, cut_state_n)"
   ]
  },
  {
   "cell_type": "markdown",
   "metadata": {},
   "source": [
    "## PID on x, {tr, rr} (tr:time code, rr:rate code) (event unit = bin)"
   ]
  },
  {
   "cell_type": "code",
   "execution_count": 26,
   "metadata": {
    "hide_output": false,
    "run_control": {
     "marked": true
    },
    "scrolled": true
   },
   "outputs": [
    {
     "name": "stderr",
     "output_type": "stream",
     "text": [
      "C:\\Users\\llinc\\anaconda3\\lib\\site-packages\\ipykernel_launcher.py:61: RuntimeWarning: invalid value encountered in true_divide\n",
      "C:\\Users\\llinc\\anaconda3\\lib\\site-packages\\ipykernel_launcher.py:62: RuntimeWarning: invalid value encountered in true_divide\n",
      "C:\\Users\\llinc\\anaconda3\\lib\\site-packages\\ipykernel_launcher.py:74: RuntimeWarning: invalid value encountered in true_divide\n",
      "C:\\Users\\llinc\\anaconda3\\lib\\site-packages\\ipykernel_launcher.py:61: RuntimeWarning: divide by zero encountered in log2\n",
      "C:\\Users\\llinc\\anaconda3\\lib\\site-packages\\ipykernel_launcher.py:61: RuntimeWarning: invalid value encountered in multiply\n",
      "C:\\Users\\llinc\\anaconda3\\lib\\site-packages\\ipykernel_launcher.py:62: RuntimeWarning: divide by zero encountered in log2\n",
      "C:\\Users\\llinc\\anaconda3\\lib\\site-packages\\ipykernel_launcher.py:62: RuntimeWarning: invalid value encountered in multiply\n",
      "C:\\Users\\llinc\\anaconda3\\lib\\site-packages\\ipykernel_launcher.py:72: RuntimeWarning: divide by zero encountered in log2\n",
      "C:\\Users\\llinc\\anaconda3\\lib\\site-packages\\ipykernel_launcher.py:72: RuntimeWarning: invalid value encountered in multiply\n",
      "C:\\Users\\llinc\\anaconda3\\lib\\site-packages\\ipykernel_launcher.py:73: RuntimeWarning: divide by zero encountered in log2\n",
      "C:\\Users\\llinc\\anaconda3\\lib\\site-packages\\ipykernel_launcher.py:73: RuntimeWarning: invalid value encountered in multiply\n",
      "C:\\Users\\llinc\\anaconda3\\lib\\site-packages\\ipykernel_launcher.py:74: RuntimeWarning: divide by zero encountered in log2\n",
      "C:\\Users\\llinc\\anaconda3\\lib\\site-packages\\ipykernel_launcher.py:74: RuntimeWarning: invalid value encountered in multiply\n",
      "C:\\Users\\llinc\\anaconda3\\lib\\site-packages\\ipykernel_launcher.py:75: RuntimeWarning: divide by zero encountered in log2\n",
      "C:\\Users\\llinc\\anaconda3\\lib\\site-packages\\ipykernel_launcher.py:75: RuntimeWarning: invalid value encountered in multiply\n",
      "C:\\Users\\llinc\\anaconda3\\lib\\site-packages\\ipykernel_launcher.py:76: RuntimeWarning: divide by zero encountered in log2\n",
      "C:\\Users\\llinc\\anaconda3\\lib\\site-packages\\ipykernel_launcher.py:76: RuntimeWarning: invalid value encountered in multiply\n"
     ]
    }
   ],
   "source": [
    "Information_list = [0]*len(y_list)\n",
    "for i in range(len(y_list)):\n",
    "    timeshift, Information_list[i] = PIfunc(xstate_list[i], time_ystate_list[i], ystate_list[i], dt, window)"
   ]
  },
  {
   "cell_type": "code",
   "execution_count": 27,
   "metadata": {
    "hide_output": false,
    "run_control": {
     "marked": true
    }
   },
   "outputs": [],
   "source": [
    "peak_HeightnPos = {}\n",
    "peak_HeightnPos['MI_tr'] = np.zeros((2, len(x_list)))\n",
    "peak_HeightnPos['MI_rr'] = np.zeros((2, len(x_list)))\n",
    "peak_HeightnPos['MI_tr_rr'] = np.zeros((2, len(x_list)))\n",
    "peak_HeightnPos['CI'] = np.zeros((2, len(x_list)))\n",
    "peak_HeightnPos['SI'] = np.zeros((2, len(x_list)))\n",
    "peak_HeightnPos['UI_tr'] = np.zeros((2, len(x_list)))\n",
    "peak_HeightnPos['UI_rr'] = np.zeros((2, len(x_list)))\n",
    "for i in range(len(x_list)):\n",
    "    UI_tr = np.flip(Information_list[i][('Beer','UIx')])\n",
    "    UI_rr = np.flip(Information_list[i][('Beer','UIv')])\n",
    "    CI = np.flip(Information_list[i][('Beer','Syn')])\n",
    "    SI = np.flip(Information_list[i][('Beer','Red')])\n",
    "    MI_tr = UI_tr+SI\n",
    "    MI_rr = UI_rr+SI\n",
    "    MI_tr_rr = UI_tr+UI_rr+SI+CI\n",
    "    \n",
    "    peak_HeightnPos['MI_tr'][:, i] = np.array([max(MI_tr),timeshift[np.argmax(MI_tr)]])\n",
    "    peak_HeightnPos['MI_rr'][:, i] = np.array([max(MI_rr),timeshift[np.argmax(MI_rr)]])\n",
    "    peak_HeightnPos['MI_tr_rr'][:, i] = np.array([max(MI_tr_rr),timeshift[np.argmax(MI_tr_rr)]])\n",
    "    peak_HeightnPos['CI'][:, i] = np.array([max(CI),timeshift[np.argmax(CI)]])\n",
    "    peak_HeightnPos['SI'][:, i] = np.array([max(SI),timeshift[np.argmax(SI)]])\n",
    "    peak_HeightnPos['UI_tr'][:, i] = np.array([max(UI_tr),timeshift[np.argmax(UI_tr)]])\n",
    "    peak_HeightnPos['UI_rr'][:, i] = np.array([max(UI_rr),timeshift[np.argmax(UI_rr)]])"
   ]
  },
  {
   "cell_type": "code",
   "execution_count": 28,
   "metadata": {
    "hide_output": false,
    "run_control": {
     "marked": true
    }
   },
   "outputs": [
    {
     "name": "stderr",
     "output_type": "stream",
     "text": [
      "C:\\Users\\llinc\\anaconda3\\lib\\site-packages\\ipykernel_launcher.py:5: RuntimeWarning: divide by zero encountered in true_divide\n",
      "  \"\"\"\n"
     ]
    },
    {
     "data": {
      "image/png": "[encoded data removed]",
      "text/plain": [
       "<Figure size 1080x360 with 2 Axes>"
      ]
     },
     "metadata": {
      "needs_background": "light"
     },
     "output_type": "display_data"
    }
   ],
   "source": [
    "fig, (ax2, ax3) = plt.subplots(nrows=1, ncols=2)\n",
    "# Fc_list[-1] = 100\n",
    "# Fc_list[-1] = np.Inf\n",
    "\n",
    "receprocal_Fc_list = 1./Fc_list\n",
    "receprocal_Fc_list[-1] = 0\n",
    "ax2.plot(receprocal_Fc_list,peak_HeightnPos['MI_tr'][0, :])\n",
    "ax2.plot(receprocal_Fc_list,peak_HeightnPos['MI_rr'][0, :])\n",
    "ax2.set_title('peak height')\n",
    "ax2.set_xlabel('1/cutoff_Frequency')\n",
    "ax2.set_ylabel('Information (bit/s)')\n",
    "\n",
    "ax3.plot(receprocal_Fc_list, peak_HeightnPos['MI_tr'][1, :])\n",
    "ax3.plot(receprocal_Fc_list, peak_HeightnPos['MI_rr'][1, :])\n",
    "ax3.set_title('peak time')\n",
    "ax3.set_xlabel('1/cutoff_Frequency')\n",
    "ax3.set_ylabel('time shift (s)')\n",
    "\n",
    "fig.set_size_inches(15, 5)"
   ]
  },
  {
   "cell_type": "code",
   "execution_count": 29,
   "metadata": {},
   "outputs": [
    {
     "data": {
      "image/png": "[encoded data removed]",
      "text/plain": [
       "<Figure size 432x288 with 1 Axes>"
      ]
     },
     "metadata": {
      "needs_background": "light"
     },
     "output_type": "display_data"
    }
   ],
   "source": [
    "for i in range(3):\n",
    "    plt.plot(x_list[i])"
   ]
  },
  {
   "cell_type": "code",
   "execution_count": null,
   "metadata": {},
   "outputs": [],
   "source": []
  }
 ],
 "metadata": {
  "kernelspec": {
   "display_name": "Python 3",
   "language": "python",
   "name": "python3"
  },
  "language_info": {
   "codemirror_mode": {
    "name": "ipython",
    "version": 3
   },
   "file_extension": ".py",
   "mimetype": "text/x-python",
   "name": "python",
   "nbconvert_exporter": "python",
   "pygments_lexer": "ipython3",
   "version": "3.7.6"
  },
  "toc": {
   "base_numbering": "0",
   "nav_menu": {
    "height": "187px",
    "width": "383px"
   },
   "number_sections": true,
   "sideBar": true,
   "skip_h1_title": false,
   "title_cell": "Table of Contents",
   "title_sidebar": "Contents",
   "toc_cell": false,
   "toc_position": {
    "height": "789px",
    "left": "557px",
    "top": "241px",
    "width": "318.938px"
   },
   "toc_section_display": true,
   "toc_window_display": true
  },
  "varInspector": {
   "cols": {
    "lenName": 16,
    "lenType": 16,
    "lenVar": 40
   },
   "kernels_config": {
    "python": {
     "delete_cmd_postfix": "",
     "delete_cmd_prefix": "del ",
     "library": "var_list.py",
     "varRefreshCmd": "print(var_dic_list())"
    },
    "r": {
     "delete_cmd_postfix": ") ",
     "delete_cmd_prefix": "rm(",
     "library": "var_list.r",
     "varRefreshCmd": "cat(var_dic_list()) "
    }
   },
   "position": {
    "height": "257px",
    "left": "1092px",
    "right": "20px",
    "top": "102px",
    "width": "462px"
   },
   "types_to_exclude": [
    "module",
    "function",
    "builtin_function_or_method",
    "instance",
    "_Feature"
   ],
   "window_display": false
  }
 },
 "nbformat": 4,
 "nbformat_minor": 4
}
