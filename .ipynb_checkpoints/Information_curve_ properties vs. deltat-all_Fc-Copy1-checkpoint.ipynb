{
 "cells": [
  {
   "cell_type": "code",
   "execution_count": 1,
   "metadata": {},
   "outputs": [],
   "source": [
    "import numpy as np\n",
    "import matplotlib.pyplot as plt\n",
    "import math\n",
    "from scipy import signal\n",
    "from scipy.fftpack import fft\n",
    "from scipy import ndimage\n",
    "from scipy.io import loadmat\n",
    "import os\n",
    "#annots = loadmat('C:\\\\Users\\\\llinc\\\\GitHub\\\\retina_personal\\\\0406\\\\merge\\\\merge_0224_HMM_RL_G2.5_5min_Q100_6.5mW.mat')\n",
    "%matplotlib inline"
   ]
  },
  {
   "cell_type": "code",
   "execution_count": 2,
   "metadata": {},
   "outputs": [],
   "source": [
    "def PIfunc(r, x, v, dt, window):\n",
    "    negshift=window[0] # second\n",
    "    posshift=window[1] # second\n",
    "    shiftlen=(posshift-negshift)/dt+1\n",
    "    timeshift=np.linspace(negshift,posshift,int(shiftlen))\n",
    "    bitshift=np.linspace(negshift/dt,posshift/dt,int(shiftlen),dtype = 'int16')\n",
    "    Information = dict()\n",
    "    Information[('BROJA_2PID','SI')]=np.zeros(len(bitshift))\n",
    "    Information[('BROJA_2PID','UIx')]=np.zeros(len(bitshift))\n",
    "    Information[('BROJA_2PID','UIv')]=np.zeros(len(bitshift))\n",
    "    Information[('BROJA_2PID','CI')]=np.zeros(len(bitshift))\n",
    "    Information[('Beer','Red')]=np.zeros(len(bitshift))\n",
    "    Information[('Beer','UIx')]=np.zeros(len(bitshift))\n",
    "    Information[('Beer','UIv')]=np.zeros(len(bitshift))\n",
    "    Information[('Beer','Syn')]=np.zeros(len(bitshift))\n",
    "    \n",
    "    Information[('test','SI')]=np.zeros(len(bitshift))\n",
    "    Information[('test','UIx')]=np.zeros(len(bitshift))\n",
    "    Information[('test','UIv')]=np.zeros(len(bitshift))\n",
    "    Information[('test','CI')]=np.zeros(len(bitshift))\n",
    "    # shifted data\n",
    "    # shift>0 => y shifted to positive side\n",
    "    for i in range(len(bitshift)):\n",
    "        xx=[]\n",
    "        vv=[]\n",
    "        rr=[]\n",
    "        shift=bitshift[i]\n",
    "        if shift>0:\n",
    "            xx=x[shift:]\n",
    "            vv=v[shift:]\n",
    "            rr=r[:(-1*shift)]\n",
    "        elif shift==0:\n",
    "            xx=x\n",
    "            vv=v\n",
    "            rr=r\n",
    "        elif shift<0:\n",
    "            xx=x[:shift]\n",
    "            vv=v[:shift]\n",
    "            rr=r[(-1*shift):]\n",
    "        #find weight of each states by 3D histogram \n",
    "        xedges = np.append(np.unique(xx),(max(xx)+1))\n",
    "        vedges = np.append(np.unique(vv),(max(vv)+1))\n",
    "        redges = np.append(np.unique(rr),(max(rr)+1))\n",
    "        dat = np.concatenate((xx[:,np.newaxis], vv[:,np.newaxis],rr[:,np.newaxis]), axis=1)\n",
    "        N, edges = np.histogramdd(dat, bins=(xedges, vedges, redges))\n",
    "        #Calculate all kinds of probability and make sure the shape of them, 0 -> x, 1 -> v, 2 -> r\n",
    "        px=(np.sum(N,axis=(1,2))/np.sum(N))[:, np.newaxis, np.newaxis]\n",
    "        pv=(np.sum(N,axis=(0,2))/np.sum(N))[np.newaxis, :, np.newaxis]\n",
    "        pr=(np.sum(N,axis=(0,1))/np.sum(N))[np.newaxis ,np.newaxis, :]\n",
    "        pxv=(np.sum(N,axis=2)/np.sum(N))[:, :, np.newaxis]\n",
    "        pxr=(np.sum(N,axis=1)/np.sum(N))[:, np.newaxis, :]\n",
    "        pvr=(np.sum(N,axis=0)/np.sum(N))[np.newaxis, :, :]\n",
    "        pxvr=(N/np.sum(N))\n",
    "        \n",
    "        Information[('test','UIx')][i] = np.nansum(pxvr*np.log2(pxvr*px/pxv/pxr))/dt\n",
    "        Information[('test','UIv')][i] = np.nansum(pxvr*np.log2(pxvr*pv/pxv/pvr))/dt\n",
    "\n",
    "\n",
    "        MIxr=np.nansum(pxr*np.log2(pxr/px/pr))/dt\n",
    "        MIvr=np.nansum(pvr*np.log2(pvr/pv/pr))/dt\n",
    "        MIxvR=np.nansum(pxvr*np.log2(pxvr/pxv/pr))/dt\n",
    "        PI_xR = np.nansum(pxr*np.log2(pxr/px/pr), axis = (0,1))\n",
    "        PI_vR = np.nansum(pvr*np.log2(pvr/pv/pr), axis = (0,1))\n",
    "        R = sum(np.minimum(PI_xR, PI_vR))/dt\n",
    "        Information[('Beer','Red')][i] = R\n",
    "        Information[('Beer','UIx')][i] = MIxr - R\n",
    "        Information[('Beer','UIv')][i] = MIvr - R\n",
    "        Information[('Beer','Syn')][i] = MIxvR - MIxr - MIvr + R\n",
    "\n",
    "    return timeshift, Information"
   ]
  },
  {
   "cell_type": "code",
   "execution_count": 3,
   "metadata": {},
   "outputs": [],
   "source": [
    "from EqualState import EqualState\n",
    "def Fake_Spike_Activation_function(realr, r, model):\n",
    "    rstate=np.zeros(len(r))\n",
    "    if model == 0: #'randomly not fire' + 'real distributed' + 'poisson process'\n",
    "        counter = 0\n",
    "        for n in np.arange(1, max(realr)+1):\n",
    "            edge = np.sort(r)[counter]\n",
    "            counter += round((np.shape(np.where(realr==n))[1])/(len(r)-(np.shape(np.where(realr==0))[1]))*len(r))\n",
    "            rstate[r>=edge] = np.random.poisson(n)\n",
    "        randomly_not_fire = np.append(np.ones(len(r)-(np.shape(np.where(realr==0))[1])), np.zeros(np.shape(np.where(realr==0))[1]))\n",
    "        np.random.shuffle(randomly_not_fire)\n",
    "        rstate = rstate*randomly_not_fire\n",
    "        rstate = rstate.astype(int)\n",
    "    elif model == 1: #'real distributed' + 'poisson process'\n",
    "        counter = 0\n",
    "        for n in np.unique(realr):\n",
    "            edge = np.sort(r)[counter]\n",
    "            counter += (np.shape(np.where(realr==n))[1])\n",
    "            rstate[r>=edge] = np.random.poisson(n)\n",
    "    elif model == 2: #'fake distributed' \n",
    "        edges = np.append(min(r), np.array([np.std(r),2*np.std(r),3*np.std(r)])+np.mean(r));\n",
    "        rstate=np.zeros(len(r))\n",
    "        for i in range(4):\n",
    "            rstate[r>=edges[i]] = i\n",
    "    elif model == 3: #'burst distributed' + 'randomly not fire' \n",
    "        counter = 0\n",
    "        burst_distr = np.array([0.95, 0.6, 0.4]);\n",
    "        for n in np.arange(1,3):\n",
    "            edge = np.sort(r)[int(counter)]\n",
    "            counter += int(len(r)*burst_distr[n]+0.5)\n",
    "            rstate[r>=edge] = n\n",
    "        randomly_not_fire = np.append(np.ones(int(len(r)*(1-burst_distr[0])+0.5)), np.zeros(int(len(r)*burst_distr[0]+0.5)))\n",
    "        np.random.shuffle(randomly_not_fire)\n",
    "        rstate = rstate*randomly_not_fire\n",
    "        rstate = rstate.astype(int)\n",
    "    else:  #'real spike'\n",
    "        rstate = realr\n",
    "    return rstate\n",
    "\n",
    "# activation function\n",
    "def nA(x,theta=0):\n",
    "    y = np.zeros(len(x))\n",
    "    for i in range(len(x)):\n",
    "        if x[i]- theta>0:\n",
    "            y[i]= 1\n",
    "    return(y)"
   ]
  },
  {
   "cell_type": "markdown",
   "metadata": {},
   "source": [
    "# chose file"
   ]
  },
  {
   "cell_type": "code",
   "execution_count": 4,
   "metadata": {},
   "outputs": [],
   "source": [
    "# exp_folder = 'D:\\\\GoogleDrive\\\\retina\\\\Exps\\\\2020\\\\0503'\n",
    "# G = 4.5\n",
    "# annots = loadmat(exp_folder+'\\\\merge\\\\'+'merge_0224_OUsmooth_RL_G'+str(G)+'_5min_Q100_6.5mW_1Hz.mat')\n",
    "\n",
    "# exp_folder = 'D:\\\\GoogleDrive\\\\retina\\\\Exps\\\\2020\\\\0729'\n",
    "# Fc = 8\n",
    "# annots = loadmat(exp_folder+'\\\\merge\\\\'+'merge_0727_OUsmooth_Bright_UL_DR_G4.5_5min_Q100_6.5mW_'+str(Fc)+'Hz.mat')\n",
    "\n",
    "exp_folder = 'D:\\\\GoogleDrive\\\\retina\\\\Chou\\'s data\\\\20200408'\n",
    "Fc_list = [2,4,7,10]\n",
    "annots_list = []\n",
    "for Fc in Fc_list:\n",
    "    annots_list.append(loadmat(exp_folder+'\\\\20200408_OU_cutoff='+str(Fc)+'_sort_unit2'))"
   ]
  },
  {
   "cell_type": "code",
   "execution_count": 5,
   "metadata": {},
   "outputs": [],
   "source": [
    "dt = 0.01\n",
    "sampling_rate = 20000\n",
    "x_list, v_list, t_cor_list = [], [], []\n",
    "for annots in annots_list:\n",
    "    TimeStamps =np.round(np.squeeze(annots['TimeStamps']))\n",
    "    TimeStamps = TimeStamps.astype(int)\n",
    "    x = annots['a_data'][0, TimeStamps[0]*sampling_rate:TimeStamps[1]*sampling_rate+1]\n",
    "    x = x[::int(sampling_rate*dt)]\n",
    "    x = x.astype(float)\n",
    "    T=np.arange(len(x))*dt\n",
    "    v = ndimage.gaussian_filter1d(x, sigma=5, order=1, mode='reflect') / dt\n",
    "    \n",
    "    x_list.append(x.copy())\n",
    "    v_list.append(v.copy())\n",
    "    x_cor = np.correlate(x, x, \"same\")\n",
    "    x_cor = x_cor[:int((len(x_cor)+1)/2)+1]\n",
    "    Taxis = np.flip(T[:len(x_cor)]-dt/2)\n",
    "    t_cor_list.append(np.interp(0.5*max(x_cor),  x_cor, Taxis))"
   ]
  },
  {
   "cell_type": "markdown",
   "metadata": {},
   "source": [
    "# Set $\\Delta$s"
   ]
  },
  {
   "cell_type": "code",
   "execution_count": null,
   "metadata": {},
   "outputs": [
    {
     "name": "stderr",
     "output_type": "stream",
     "text": [
      "C:\\Users\\hydro_leo\\anaconda3\\lib\\site-packages\\ipykernel_launcher.py:55: RuntimeWarning: divide by zero encountered in log2\n",
      "C:\\Users\\hydro_leo\\anaconda3\\lib\\site-packages\\ipykernel_launcher.py:55: RuntimeWarning: invalid value encountered in multiply\n",
      "C:\\Users\\hydro_leo\\anaconda3\\lib\\site-packages\\ipykernel_launcher.py:56: RuntimeWarning: divide by zero encountered in log2\n",
      "C:\\Users\\hydro_leo\\anaconda3\\lib\\site-packages\\ipykernel_launcher.py:56: RuntimeWarning: invalid value encountered in multiply\n",
      "C:\\Users\\hydro_leo\\anaconda3\\lib\\site-packages\\ipykernel_launcher.py:61: RuntimeWarning: divide by zero encountered in log2\n",
      "C:\\Users\\hydro_leo\\anaconda3\\lib\\site-packages\\ipykernel_launcher.py:61: RuntimeWarning: invalid value encountered in multiply\n",
      "C:\\Users\\hydro_leo\\anaconda3\\lib\\site-packages\\ipykernel_launcher.py:55: RuntimeWarning: invalid value encountered in true_divide\n",
      "C:\\Users\\hydro_leo\\anaconda3\\lib\\site-packages\\ipykernel_launcher.py:59: RuntimeWarning: divide by zero encountered in log2\n",
      "C:\\Users\\hydro_leo\\anaconda3\\lib\\site-packages\\ipykernel_launcher.py:59: RuntimeWarning: invalid value encountered in multiply\n",
      "C:\\Users\\hydro_leo\\anaconda3\\lib\\site-packages\\ipykernel_launcher.py:62: RuntimeWarning: divide by zero encountered in log2\n",
      "C:\\Users\\hydro_leo\\anaconda3\\lib\\site-packages\\ipykernel_launcher.py:62: RuntimeWarning: invalid value encountered in multiply\n",
      "C:\\Users\\hydro_leo\\anaconda3\\lib\\site-packages\\ipykernel_launcher.py:56: RuntimeWarning: invalid value encountered in true_divide\n",
      "C:\\Users\\hydro_leo\\anaconda3\\lib\\site-packages\\ipykernel_launcher.py:60: RuntimeWarning: divide by zero encountered in log2\n",
      "C:\\Users\\hydro_leo\\anaconda3\\lib\\site-packages\\ipykernel_launcher.py:60: RuntimeWarning: invalid value encountered in multiply\n",
      "C:\\Users\\hydro_leo\\anaconda3\\lib\\site-packages\\ipykernel_launcher.py:63: RuntimeWarning: divide by zero encountered in log2\n",
      "C:\\Users\\hydro_leo\\anaconda3\\lib\\site-packages\\ipykernel_launcher.py:63: RuntimeWarning: invalid value encountered in multiply\n"
     ]
    }
   ],
   "source": [
    "##response\n",
    "# Model one: simple estimation\n",
    "window = [-1,1] # second\n",
    "deltaTs = np.hstack((np.arange(0,100,20), np.arange(100,1000,100)))\n",
    "Ux_peaktime_list =[]\n",
    "Uv_peaktime_list = []\n",
    "Syn_peaktime_list = []\n",
    "Rdn_peaktime_list = []\n",
    "Ux_peakH_list =[]\n",
    "Uv_peakH_list = []\n",
    "Syn_peakH_list = []\n",
    "Rdn_peakH_list = []\n",
    "\n",
    "MIx_peakH_list = []\n",
    "MIv_peakH_list = []\n",
    "\n",
    "for i in range(len(annots_list)):\n",
    "    Ux_peaktime =[]\n",
    "    Uv_peaktime = []\n",
    "    Syn_peaktime = []\n",
    "    Rdn_peaktime = []\n",
    "    Ux_peakH =[]\n",
    "    Uv_peakH = []\n",
    "    Syn_peakH = []\n",
    "    Rdn_peakH = []\n",
    "\n",
    "    MIx_peakH = []\n",
    "    MIv_peakH = []\n",
    "\n",
    "    x = x_list[i]\n",
    "    v = v_list[i]\n",
    "    for deltaT in deltaTs:\n",
    "        r = x+v*deltaT\n",
    "        #assign states\n",
    "        model = 2\n",
    "        rstate = Fake_Spike_Activation_function(_, r, model)\n",
    "        #rstate = np.random.poisson(rstate)\n",
    "        rstate = rstate.astype(int)\n",
    "        xstate,edge = EqualState(x, 6)\n",
    "        vstate,edge = EqualState(v, 6)\n",
    "        #calculate information\n",
    "        timeshift, Information = PIfunc(rstate, xstate, vstate, dt, window)\n",
    "        Ux = Information[('Beer','UIx')]\n",
    "        Uv = Information[('Beer','UIv')]\n",
    "        Syner = Information[('Beer','Syn')]\n",
    "        Redun = Information[('Beer','Red')]\n",
    "        #find peak\n",
    "        Ux_peaktime.append( timeshift[int(np.mean(np.where(Ux == max(Ux))))])\n",
    "        Uv_peaktime.append( timeshift[int(np.mean(np.where(Uv == max(Uv))))])\n",
    "        Syn_peaktime.append( timeshift[int(np.mean(np.where(Syner == max(Syner))))])\n",
    "        Rdn_peaktime.append( timeshift[int(np.mean(np.where(Redun == max(Redun))))])\n",
    "        Ux_peakH.append( max(Ux))\n",
    "        Uv_peakH.append( max(Uv))\n",
    "        Syn_peakH.append( max(Syner))\n",
    "        Rdn_peakH.append( max(Redun))\n",
    "        MIx_peakH.append( max(Ux+Redun))\n",
    "        MIv_peakH.append( max(Uv+Redun))\n",
    "        \n",
    "    Ux_peaktime_list.append(np.array(Ux_peaktime).copy())\n",
    "    Uv_peaktime_list.append(np.array(Uv_peaktime).copy())\n",
    "    Syn_peaktime_list.append(np.array(Syn_peaktime).copy())\n",
    "    Rdn_peaktime_list.append(np.array(Rdn_peaktime).copy())\n",
    "    Ux_peakH_list.append(np.array(Ux_peakH).copy())\n",
    "    Uv_peakH_list.append(np.array(Uv_peakH).copy())\n",
    "    Syn_peakH_list.append(np.array(Syn_peakH).copy())\n",
    "    Rdn_peakH_list.append(np.array(Rdn_peakH).copy())\n",
    "\n",
    "    MIx_peakH_list.append(np.array(MIx_peakH).copy())\n",
    "    MIv_peakH_list.append(np.array(MIv_peakH).copy())"
   ]
  },
  {
   "cell_type": "markdown",
   "metadata": {},
   "source": [
    "# Plot and Save"
   ]
  },
  {
   "cell_type": "code",
   "execution_count": null,
   "metadata": {},
   "outputs": [],
   "source": [
    "XOsave = 1\n",
    "save_folder = 'C:\\\\Users\\\\hydro_leo\\\\Documents\\\\GitHub\\\\python-code\\\\4PID_paper\\\\Delta vs. PI\\\\LongDelta\\\\'\n",
    "# save_folder = 'C:\\\\Users\\\\llinc\\\\GitHub\\\\python code\\\\4PID_paper\\\\Delta vs. PI\\\\'\n",
    "name = 'WF_PeakHeights_Fc='+str(Fc)"
   ]
  },
  {
   "cell_type": "markdown",
   "metadata": {},
   "source": [
    "## different Fc (Peak height & time)"
   ]
  },
  {
   "cell_type": "code",
   "execution_count": null,
   "metadata": {
    "run_control": {
     "marked": false
    }
   },
   "outputs": [],
   "source": [
    "fig_list = []\n",
    "for i in range(len(annots_list)):\n",
    "    fig, (ax2, ax3) = plt.subplots(nrows=1, ncols=2) \n",
    "    fig.set_size_inches(15, 5)\n",
    "    fig.suptitle(r'$F_c = $'+ str(Fc_list[i]),y =0.95)\n",
    "    fig_list.append(fig)\n",
    "    xvMeatingTime = np.interp(1,  Uv_peakH_list[i]/Ux_peakH_list[i], deltaTs)\n",
    "    xvMeatingHeight = np.interp(xvMeatingTime,  deltaTs, Ux_peakH_list[i])\n",
    "    ax2.plot(deltaTs,Ux_peakH_list[i], 'r-')\n",
    "    ax2.plot(deltaTs,Uv_peakH_list[i], 'b-')\n",
    "    ax2.plot(deltaTs,Syn_peakH_list[i], 'k-')\n",
    "    ax2.plot(deltaTs,Rdn_peakH_list[i], 'g-')\n",
    "    ax2.scatter(xvMeatingTime, xvMeatingHeight, c = 'purple')\n",
    "    TurningTime = np.interp(np.where(Syn_peakH_list[i] == max(Syn_peakH_list[i]))[0][0],  np.arange(len(deltaTs)), deltaTs)\n",
    "    ax2.scatter(TurningTime , max(Syn_peakH_list[i]), c = 'y')\n",
    "    ax2.set_xlabel(r'$\\Delta $ (s)')\n",
    "    ax2.set_ylabel(r'Peak Height (bit/s)')\n",
    "    ax2.grid(True)\n",
    "    ax2.legend((r'$U_x;$', r'$U_v$', 'synergy', 'redundancy', 'MeetingTime = '+str(round(xvMeatingTime,3))+'(s)', 'TurningTime = '+str(round(TurningTime,3))+'(s)'), loc='best', prop={'size': 'large', 'family': 'monospace'})\n",
    "    \n",
    "\n",
    "    ax3.plot(deltaTs,Ux_peaktime_list[i], 'r-')\n",
    "    usefullI = np.where(Uv_peakH_list[i]>=1)\n",
    "    ax3.plot(deltaTs[usefullI],Uv_peaktime_list[i][usefullI], 'b-')\n",
    "    usefullI = np.where(Syn_peakH_list[i]>=1)\n",
    "    ax3.plot(deltaTs[usefullI],Syn_peaktime_list[i][usefullI], 'k-')\n",
    "    usefullI = np.where(Rdn_peakH_list[i]>=1)\n",
    "    ax3.plot(deltaTs[usefullI],Rdn_peaktime_list[i][usefullI], 'g-')\n",
    "    ax3.set_xlabel(r'$\\Delta$ (s)')\n",
    "    ax3.set_ylabel('Peak time (s)')\n",
    "    ax3.legend( (r'$U_x$ ; '+str(round(Ux_peaktime[-1],3)), r'$U_v$ ; '+str(round(Uv_peaktime[-1],3)), 'synergy; '+str(round(Syn_peaktime[-1],3)), 'redundancy; '+str(round(Rdn_peaktime[-1],3))), loc='best', prop={'size': 'large', 'family': 'monospace'})\n",
    "    ax3.grid(True)"
   ]
  },
  {
   "cell_type": "code",
   "execution_count": null,
   "metadata": {},
   "outputs": [],
   "source": [
    "if XOsave:\n",
    "    for i in range(len(annots_list)):\n",
    "        name = 'PeakHeightsnTime_Fc='+str(Fc_list[i])\n",
    "        fig_list[i].savefig(save_folder+name+'.tif')"
   ]
  },
  {
   "cell_type": "markdown",
   "metadata": {},
   "source": [
    "## different Fc (Ratio)"
   ]
  },
  {
   "cell_type": "code",
   "execution_count": null,
   "metadata": {},
   "outputs": [],
   "source": [
    "for i in range(len(annots_list)):\n",
    "    plt.plot(deltaTs,MIv_peakH_list[i]/MIx_peakH_list[i])\n",
    "    plt.plot(deltaTs,Uv_peakH_list[i]/Ux_peakH_list[i])\n",
    "    plt.plot(deltaTs,Syn_peakH_list[i]/Rdn_peakH_list[i])\n",
    "    plt.xlabel(r'$\\Delta$ (s)')\n",
    "    plt.title(r'$F_c = $'+ str(Fc_list[i]))\n",
    "    plt.legend( ('MIv/MIx', 'Uv/Ux', 'Syn/Rdn') , loc='best', prop={'size': 'large', 'family': 'monospace'})\n",
    "    plt.grid()\n",
    "    if XOsave:\n",
    "        name = 'Ratio_Fc='+str(Fc_list[i])\n",
    "        plt.gcf().savefig(save_folder+name+'.tif')\n",
    "    plt.show()"
   ]
  },
  {
   "cell_type": "markdown",
   "metadata": {},
   "source": [
    "## Ux"
   ]
  },
  {
   "cell_type": "code",
   "execution_count": null,
   "metadata": {},
   "outputs": [],
   "source": [
    "fig, (ax2, ax3) = plt.subplots(nrows=1, ncols=2) \n",
    "fig.set_size_inches(15, 5)\n",
    "fig.suptitle('Ux',y =0.95)\n",
    "legend = []\n",
    "for i in range(len(annots_list)):\n",
    "    legend.append(r'$F_c$='+str(Fc_list[i]))\n",
    "    ax2.plot(deltaTs,Ux_peakH_list[i])\n",
    "    ax2.set_xlabel(r'$\\Delta $ (s)')\n",
    "    ax2.set_ylabel(r'Peak Height (bit/s)')\n",
    "    ax3.plot(deltaTs,Ux_peaktime_list[i])\n",
    "    ax3.set_xlabel(r'$\\Delta$ (s)')\n",
    "    ax3.set_ylabel('Peak time (s)')\n",
    "ax3.legend( legend, loc='best', prop={'size': 'large', 'family': 'monospace'})\n",
    "ax2.legend( legend, loc='best', prop={'size': 'large', 'family': 'monospace'})\n",
    "ax3.grid()\n",
    "ax2.grid()\n",
    "if XOsave:\n",
    "    name = 'Ux_PeakHeightnTime'\n",
    "    plt.gcf().savefig(save_folder+name+'.tif')"
   ]
  },
  {
   "cell_type": "markdown",
   "metadata": {},
   "source": [
    "## Uv"
   ]
  },
  {
   "cell_type": "code",
   "execution_count": null,
   "metadata": {},
   "outputs": [],
   "source": [
    "fig, (ax2, ax3) = plt.subplots(nrows=1, ncols=2) \n",
    "fig.set_size_inches(15, 5)\n",
    "fig.suptitle('Uv',y =0.95)\n",
    "legend = []\n",
    "for i in range(len(annots_list)):\n",
    "    legend.append(r'$F_c$='+str(Fc_list[i]))\n",
    "    ax2.plot(deltaTs,Uv_peakH_list[i])\n",
    "    ax2.set_xlabel(r'$\\Delta $ (s)')\n",
    "    ax2.set_ylabel(r'Peak Height (bit/s)')\n",
    "    usefullI = np.where(Uv_peakH_list[i]>=1)\n",
    "    ax3.plot(deltaTs[usefullI],Uv_peaktime_list[i][usefullI])\n",
    "    ax3.set_xlabel(r'$\\Delta$ (s)')\n",
    "    ax3.set_ylabel('Peak time (s)')\n",
    "ax3.legend( legend, loc='best', prop={'size': 'large', 'family': 'monospace'})\n",
    "ax2.legend( legend, loc='best', prop={'size': 'large', 'family': 'monospace'})\n",
    "ax3.grid()\n",
    "ax2.grid()\n",
    "if XOsave:\n",
    "    name = 'Uv_PeakHeightnTime'\n",
    "    plt.gcf().savefig(save_folder+name+'.tif')"
   ]
  },
  {
   "cell_type": "markdown",
   "metadata": {},
   "source": [
    "## Synergy"
   ]
  },
  {
   "cell_type": "code",
   "execution_count": null,
   "metadata": {},
   "outputs": [],
   "source": [
    "fig, (ax2, ax3) = plt.subplots(nrows=1, ncols=2) \n",
    "fig.set_size_inches(15, 5)\n",
    "fig.suptitle('Synergy',y =0.95)\n",
    "legend = []\n",
    "for i in range(len(annots_list)):\n",
    "    legend.append(r'$F_c$='+str(Fc_list[i]))\n",
    "    ax2.plot(deltaTs,Syn_peakH_list[i])\n",
    "    ax2.set_xlabel(r'$\\Delta $ (s)')\n",
    "    ax2.set_ylabel(r'Peak Height (bit/s)')\n",
    "    usefullI = np.where(Syn_peakH_list[i]>=1)\n",
    "    ax3.plot(deltaTs[usefullI],Syn_peaktime_list[i][usefullI])\n",
    "    ax3.set_xlabel(r'$\\Delta$ (s)')\n",
    "    ax3.set_ylabel('Peak time (s)')\n",
    "ax3.legend( legend, loc='best', prop={'size': 'large', 'family': 'monospace'})\n",
    "ax2.legend( legend, loc='best', prop={'size': 'large', 'family': 'monospace'})\n",
    "ax3.grid()\n",
    "ax2.grid()\n",
    "if XOsave:\n",
    "    name = 'Synergy_PeakHeightnTime'\n",
    "    plt.gcf().savefig(save_folder+name+'.tif')"
   ]
  },
  {
   "cell_type": "markdown",
   "metadata": {},
   "source": [
    "## Redundancy"
   ]
  },
  {
   "cell_type": "code",
   "execution_count": null,
   "metadata": {},
   "outputs": [],
   "source": [
    "fig, (ax2, ax3) = plt.subplots(nrows=1, ncols=2) \n",
    "fig.set_size_inches(15, 5)\n",
    "fig.suptitle('Redundancy',y =0.95)\n",
    "legend = []\n",
    "for i in range(len(annots_list)):\n",
    "    legend.append(r'$F_c$='+str(Fc_list[i]))\n",
    "    ax2.plot(deltaTs,Rdn_peakH_list[i])\n",
    "    ax2.set_xlabel(r'$\\Delta $ (s)')\n",
    "    ax2.set_ylabel(r'Peak Height (bit/s)')\n",
    "    usefullI = np.where(Rdn_peakH_list[i]>=1)\n",
    "    ax3.plot(deltaTs[usefullI],Rdn_peaktime_list[i][usefullI])\n",
    "    ax3.set_xlabel(r'$\\Delta$ (s)')\n",
    "    ax3.set_ylabel('Peak time (s)')\n",
    "ax3.legend( legend, loc='best', prop={'size': 'large', 'family': 'monospace'})\n",
    "ax2.legend( legend, loc='best', prop={'size': 'large', 'family': 'monospace'})\n",
    "ax3.grid()\n",
    "ax2.grid()\n",
    "if XOsave:\n",
    "    name = 'Redundancy_PeakHeightnTime'\n",
    "    plt.gcf().savefig(save_folder+name+'.tif')"
   ]
  },
  {
   "cell_type": "code",
   "execution_count": null,
   "metadata": {},
   "outputs": [],
   "source": [
    "# np.savez(save_folder+name+'.npz', deltaTs=deltaTs, Ux_peakH=Ux_peakH, Uv_peakH=Uv_peakH, Syn_peakH=Syn_peakH, Rdn_peakH=Rdn_peakH)"
   ]
  }
 ],
 "metadata": {
  "kernelspec": {
   "display_name": "Python 3",
   "language": "python",
   "name": "python3"
  },
  "language_info": {
   "codemirror_mode": {
    "name": "ipython",
    "version": 3
   },
   "file_extension": ".py",
   "mimetype": "text/x-python",
   "name": "python",
   "nbconvert_exporter": "python",
   "pygments_lexer": "ipython3",
   "version": "3.7.6"
  },
  "toc": {
   "base_numbering": 1,
   "nav_menu": {},
   "number_sections": true,
   "sideBar": true,
   "skip_h1_title": false,
   "title_cell": "Table of Contents",
   "title_sidebar": "Contents",
   "toc_cell": false,
   "toc_position": {},
   "toc_section_display": true,
   "toc_window_display": true
  },
  "varInspector": {
   "cols": {
    "lenName": 16,
    "lenType": 16,
    "lenVar": 40
   },
   "kernels_config": {
    "python": {
     "delete_cmd_postfix": "",
     "delete_cmd_prefix": "del ",
     "library": "var_list.py",
     "varRefreshCmd": "print(var_dic_list())"
    },
    "r": {
     "delete_cmd_postfix": ") ",
     "delete_cmd_prefix": "rm(",
     "library": "var_list.r",
     "varRefreshCmd": "cat(var_dic_list()) "
    }
   },
   "types_to_exclude": [
    "module",
    "function",
    "builtin_function_or_method",
    "instance",
    "_Feature"
   ],
   "window_display": false
  }
 },
 "nbformat": 4,
 "nbformat_minor": 4
}
