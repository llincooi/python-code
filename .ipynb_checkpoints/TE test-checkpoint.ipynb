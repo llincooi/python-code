{
 "cells": [
  {
   "cell_type": "code",
   "execution_count": 2,
   "metadata": {},
   "outputs": [],
   "source": [
    "import numpy as np\n",
    "import matplotlib.pyplot as plt\n",
    "import math\n",
    "from scipy import signal\n",
    "from scipy.fftpack import fft\n",
    "from scipy import ndimage\n",
    "%matplotlib inline"
   ]
  },
  {
   "cell_type": "code",
   "execution_count": 2,
   "metadata": {},
   "outputs": [],
   "source": [
    "## EqualState assign states with equal possibility for input array x\n",
    "def EqualState(x, num_state):\n",
    "    xs=np.sort(x)\n",
    "    binlen=int(len(x)/num_state-0.5) #round\n",
    "    edges = xs[np.arange(num_state)*binlen]\n",
    "    xstate=np.zeros(len(x))\n",
    "    for i in range(num_state):\n",
    "        xstate[x>=edges[i]] = i\n",
    "    xstate = xstate.astype(int)\n",
    "    return xstate"
   ]
  },
  {
   "cell_type": "code",
   "execution_count": 3,
   "metadata": {},
   "outputs": [],
   "source": [
    "## PIfunc that calculate Unique, Synergy and Redundancy of three unsymmetric varibles\n",
    "def PIfunc(r, x, v, dt, window):\n",
    "    joint = (max(v)+1)*x+v\n",
    "    negshift=window[0] # second\n",
    "    posshift=window[1] # second\n",
    "    shiftlen=(posshift-negshift)/dt+1\n",
    "    timeshift=np.linspace(negshift,posshift,int(shiftlen))\n",
    "    bitshift=np.linspace(negshift/dt,posshift/dt,int(shiftlen),dtype = 'int8')\n",
    "    # shifted data\n",
    "    # shift>0 => y shifted to positive side\n",
    "    MIx=np.zeros(len(bitshift))\n",
    "    MIv=np.zeros(len(bitshift))\n",
    "    Redun =np.zeros(len(bitshift))\n",
    "    MIjoint =np.zeros(len(bitshift))\n",
    "    for i in range(len(bitshift)):\n",
    "        xx=[]\n",
    "        vv=[]\n",
    "        jj=[]\n",
    "        rr=[]\n",
    "        shift=bitshift[i]\n",
    "        if shift>0:\n",
    "            xx=x[shift:]\n",
    "            vv=v[shift:]\n",
    "            jj = joint[shift:]\n",
    "            rr=r[:-shift]\n",
    "        elif shift==0:\n",
    "            xx=x\n",
    "            vv=v\n",
    "            jj = joint\n",
    "            rr=r\n",
    "        elif shift<0:\n",
    "            xx=x[:shift]\n",
    "            vv=v[:shift]\n",
    "            jj = joint[:shift]\n",
    "            rr=r[-shift:]\n",
    "        pxr, xedges, yedges = np.histogram2d(xx, rr, bins=(np.append(np.unique(xx),(max(xx)+1)),np.append(np.unique(rr),(max(rr)+1))), density = True)\n",
    "        pvr, xedges, yedges = np.histogram2d(vv, rr, bins=(np.append(np.unique(vv),(max(vv)+1)),np.append(np.unique(rr),(max(rr)+1))), density = True)\n",
    "        pjr, xedges, yedges = np.histogram2d(jj, rr, bins=(np.append(np.unique(jj),(max(jj)+1)),np.append(np.unique(rr),(max(rr)+1))), density = True)\n",
    "        px=np.sum(pxr,axis=1)\n",
    "        pv=np.sum(pvr,axis=1)\n",
    "        pj=np.sum(pjr,axis=1)\n",
    "        pr=np.sum(pjr,axis=0)\n",
    "        \n",
    "        MIx[i]=np.nansum(pxr*np.log2(pxr/px.reshape(-1,1)/pr))/dt\n",
    "        MIv[i]=np.nansum(pvr*np.log2(pvr/pv.reshape(-1,1)/pr))/dt\n",
    "        MIjoint[i]=np.nansum(pjr*np.log2(pjr/pj.reshape(-1,1)/pr))/dt\n",
    "        \n",
    "        PI_rX = np.nansum(pxr*np.log2(pxr/px.reshape(-1,1)/pr), axis = 0)\n",
    "        PI_rV = np.nansum(pvr*np.log2(pvr/pv.reshape(-1,1)/pr), axis = 0)\n",
    "        Redun[i] = sum(np.minimum(PI_rX, PI_rV))/dt\n",
    "    return timeshift, MIx, MIv, MIjoint, Redun"
   ]
  },
  {
   "cell_type": "code",
   "execution_count": 4,
   "metadata": {},
   "outputs": [],
   "source": [
    "x = np.random.randint(2, size=30000)\n",
    "y = np.array([True])\n",
    "x = x.astype(bool)\n",
    "for i in range(30000-1):\n",
    "    y = np.append(y,(y[i] != x[i]))\n",
    "x = x.astype(int)\n",
    "y = y.astype(int)\n",
    "z = y[1:]\n",
    "y = y[:-1]\n",
    "x = x[:-1]"
   ]
  },
  {
   "cell_type": "code",
   "execution_count": 13,
   "metadata": {},
   "outputs": [
    {
     "name": "stderr",
     "output_type": "stream",
     "text": [
      "C:\\Users\\llinc\\anaconda3\\lib\\site-packages\\ipykernel_launcher.py:46: RuntimeWarning: divide by zero encountered in log2\n",
      "C:\\Users\\llinc\\anaconda3\\lib\\site-packages\\ipykernel_launcher.py:46: RuntimeWarning: invalid value encountered in multiply\n"
     ]
    }
   ],
   "source": [
    "#calculate information\n",
    "window = [0,0] # second\n",
    "dt=1\n",
    "timeshift, MIx, MIv, MIjoint, Redun = PIfunc(z, x, y, dt, window)\n",
    "Ux = MIx-Redun\n",
    "Uv = MIv-Redun\n",
    "Syner = MIjoint-MIx-MIv+Redun"
   ]
  },
  {
   "cell_type": "code",
   "execution_count": 16,
   "metadata": {},
   "outputs": [
    {
     "name": "stdout",
     "output_type": "stream",
     "text": [
      "Ux = [0.]\n",
      "Uv = [1.40431958e-06]\n",
      "S = [0.99999159]\n",
      "R = [3.61661488e-06]\n"
     ]
    }
   ],
   "source": [
    "print('Ux =',Ux)\n",
    "print('Uv =',Uv)\n",
    "print('S =',Syner)\n",
    "print('R =',Redun)"
   ]
  },
  {
   "cell_type": "code",
   "execution_count": 62,
   "metadata": {},
   "outputs": [
    {
     "data": {
      "text/plain": [
       "array([False, False,  True,  True,  True,  True, False,  True,  True])"
      ]
     },
     "execution_count": 62,
     "metadata": {},
     "output_type": "execute_result"
    }
   ],
   "source": [
    "x[1:10]"
   ]
  },
  {
   "cell_type": "code",
   "execution_count": 63,
   "metadata": {},
   "outputs": [
    {
     "data": {
      "text/plain": [
       "array([False, False, False,  True, False,  True, False, False,  True])"
      ]
     },
     "execution_count": 63,
     "metadata": {},
     "output_type": "execute_result"
    }
   ],
   "source": [
    "y[1:10]"
   ]
  },
  {
   "cell_type": "code",
   "execution_count": 64,
   "metadata": {},
   "outputs": [
    {
     "data": {
      "text/plain": [
       "array([False, False,  True, False,  True, False, False,  True, False])"
      ]
     },
     "execution_count": 64,
     "metadata": {},
     "output_type": "execute_result"
    }
   ],
   "source": [
    "z[1:10]"
   ]
  },
  {
   "cell_type": "code",
   "execution_count": 60,
   "metadata": {},
   "outputs": [
    {
     "data": {
      "text/plain": [
       "True"
      ]
     },
     "execution_count": 60,
     "metadata": {},
     "output_type": "execute_result"
    }
   ],
   "source": []
  },
  {
   "cell_type": "code",
   "execution_count": 65,
   "metadata": {},
   "outputs": [
    {
     "data": {
      "text/plain": [
       "False"
      ]
     },
     "execution_count": 65,
     "metadata": {},
     "output_type": "execute_result"
    }
   ],
   "source": [
    "False != False"
   ]
  },
  {
   "cell_type": "code",
   "execution_count": 10,
   "metadata": {},
   "outputs": [
    {
     "name": "stderr",
     "output_type": "stream",
     "text": [
      "C:\\Users\\llinc\\anaconda3\\lib\\site-packages\\ipykernel_launcher.py:49: RuntimeWarning: divide by zero encountered in log2\n",
      "C:\\Users\\llinc\\anaconda3\\lib\\site-packages\\ipykernel_launcher.py:49: RuntimeWarning: invalid value encountered in multiply\n"
     ]
    }
   ],
   "source": [
    "r = z\n",
    "v = y\n",
    "window = [0,0] # second\n",
    "dt=1\n",
    "joint = (max(v)+1)*x+v\n",
    "negshift=window[0] # second\n",
    "posshift=window[1] # second\n",
    "shiftlen=(posshift-negshift)/dt+1\n",
    "timeshift=np.linspace(negshift,posshift,int(shiftlen))\n",
    "bitshift=np.linspace(negshift/dt,posshift/dt,int(shiftlen),dtype = 'int8')\n",
    "# shifted data\n",
    "# shift>0 => y shifted to positive side\n",
    "MIx=np.zeros(len(bitshift))\n",
    "MIv=np.zeros(len(bitshift))\n",
    "Redun =np.zeros(len(bitshift))\n",
    "MIjoint =np.zeros(len(bitshift))\n",
    "for i in range(len(bitshift)):\n",
    "    xx=[]\n",
    "    vv=[]\n",
    "    jj=[]\n",
    "    rr=[]\n",
    "    shift=bitshift[i]\n",
    "    if shift>0:\n",
    "        xx=x[shift:]\n",
    "        vv=v[shift:]\n",
    "        jj = joint[shift:]\n",
    "        rr=r[:-shift]\n",
    "    elif shift==0:\n",
    "        xx=x\n",
    "        vv=v\n",
    "        jj = joint\n",
    "        rr=r\n",
    "    elif shift<0:\n",
    "        xx=x[:shift]\n",
    "        vv=v[:shift]\n",
    "        jj = joint[:shift]\n",
    "        rr=r[-shift:]\n",
    "        \n",
    "    pxr, xedges, yedges = np.histogram2d(xx, rr, bins=(np.append(np.unique(xx),(max(xx)+1)),np.append(np.unique(rr),(max(rr)+1))), density = True)\n",
    "    pvr, xedges, yedges = np.histogram2d(vv, rr, bins=(np.append(np.unique(vv),(max(vv)+1)),np.append(np.unique(rr),(max(rr)+1))), density = True)\n",
    "    pjr, xedges, yedges = np.histogram2d(jj, rr, bins=(np.append(np.unique(jj),(max(jj)+1)),np.append(np.unique(rr),(max(rr)+1))), density = True)\n",
    "    px=np.sum(pxr,axis=1)\n",
    "    pv=np.sum(pvr,axis=1)\n",
    "    pj=np.sum(pjr,axis=1)\n",
    "    pr=np.sum(pjr,axis=0)\n",
    "\n",
    "    MIx[i]=np.nansum(pxr*np.log2(pxr/px.reshape(-1,1)/pr))/dt\n",
    "    MIv[i]=np.nansum(pvr*np.log2(pvr/pv.reshape(-1,1)/pr))/dt\n",
    "    MIjoint[i]=np.nansum(pjr*np.log2(pjr/pj.reshape(-1,1)/pr))/dt\n",
    "\n",
    "    PI_rX = np.nansum(pxr*np.log2(pxr/px.reshape(-1,1)/pr), axis = 0)\n",
    "    PI_rV = np.nansum(pvr*np.log2(pvr/pv.reshape(-1,1)/pr), axis = 0)\n",
    "    Redun[i] = sum(np.minimum(PI_rX, PI_rV))/dt"
   ]
  },
  {
   "cell_type": "code",
   "execution_count": 12,
   "metadata": {},
   "outputs": [
    {
     "data": {
      "text/plain": [
       "array([3.61661488e-06])"
      ]
     },
     "execution_count": 12,
     "metadata": {},
     "output_type": "execute_result"
    }
   ],
   "source": [
    "MIx"
   ]
  },
  {
   "cell_type": "code",
   "execution_count": 3,
   "metadata": {},
   "outputs": [],
   "source": [
    "xedges = [0, 1,2,3,4]\n",
    "yedges = [0, 1]\n",
    "x = np.random.randint(3, size=30000)\n",
    "y = np.random.randint(1, size=30000)\n",
    "H, xedges, yedges = np.histogram2d(x, y, bins=(xedges, yedges))"
   ]
  },
  {
   "cell_type": "code",
   "execution_count": 4,
   "metadata": {},
   "outputs": [
    {
     "data": {
      "text/plain": [
       "array([0, 1, 2, 3, 4])"
      ]
     },
     "execution_count": 4,
     "metadata": {},
     "output_type": "execute_result"
    }
   ],
   "source": [
    " xedges"
   ]
  },
  {
   "cell_type": "code",
   "execution_count": 5,
   "metadata": {},
   "outputs": [
    {
     "data": {
      "text/plain": [
       "array([0, 1])"
      ]
     },
     "execution_count": 5,
     "metadata": {},
     "output_type": "execute_result"
    }
   ],
   "source": [
    "yedges"
   ]
  },
  {
   "cell_type": "code",
   "execution_count": 6,
   "metadata": {},
   "outputs": [
    {
     "data": {
      "text/plain": [
       "array([[ 9875.],\n",
       "       [10183.],\n",
       "       [ 9942.],\n",
       "       [    0.]])"
      ]
     },
     "execution_count": 6,
     "metadata": {},
     "output_type": "execute_result"
    }
   ],
   "source": [
    "H"
   ]
  },
  {
   "cell_type": "code",
   "execution_count": 7,
   "metadata": {},
   "outputs": [
    {
     "data": {
      "text/plain": [
       "(1, 10183)"
      ]
     },
     "execution_count": 7,
     "metadata": {},
     "output_type": "execute_result"
    }
   ],
   "source": [
    "np.shape(np.where(x == 1))"
   ]
  },
  {
   "cell_type": "code",
   "execution_count": 123,
   "metadata": {},
   "outputs": [
    {
     "data": {
      "text/plain": [
       "array([0, 1, 2])"
      ]
     },
     "execution_count": 123,
     "metadata": {},
     "output_type": "execute_result"
    }
   ],
   "source": [
    "np.append(np.unique(xx),(max(xx)+1))"
   ]
  },
  {
   "cell_type": "code",
   "execution_count": 122,
   "metadata": {},
   "outputs": [
    {
     "ename": "AttributeError",
     "evalue": "'numpy.ndarray' object has no attribute 'append'",
     "output_type": "error",
     "traceback": [
      "\u001b[1;31m---------------------------------------------------------------------------\u001b[0m",
      "\u001b[1;31mAttributeError\u001b[0m                            Traceback (most recent call last)",
      "\u001b[1;32m<ipython-input-122-673c6fa0ad5f>\u001b[0m in \u001b[0;36m<module>\u001b[1;34m\u001b[0m\n\u001b[1;32m----> 1\u001b[1;33m \u001b[0mxx\u001b[0m\u001b[1;33m.\u001b[0m\u001b[0mappend\u001b[0m\u001b[1;33m(\u001b[0m\u001b[1;36m1\u001b[0m\u001b[1;33m)\u001b[0m\u001b[1;33m\u001b[0m\u001b[1;33m\u001b[0m\u001b[0m\n\u001b[0m",
      "\u001b[1;31mAttributeError\u001b[0m: 'numpy.ndarray' object has no attribute 'append'"
     ]
    }
   ],
   "source": [
    "xx.append(1)"
   ]
  },
  {
   "cell_type": "code",
   "execution_count": null,
   "metadata": {},
   "outputs": [],
   "source": []
  }
 ],
 "metadata": {
  "kernelspec": {
   "display_name": "Python 3",
   "language": "python",
   "name": "python3"
  },
  "language_info": {
   "codemirror_mode": {
    "name": "ipython",
    "version": 3
   },
   "file_extension": ".py",
   "mimetype": "text/x-python",
   "name": "python",
   "nbconvert_exporter": "python",
   "pygments_lexer": "ipython3",
   "version": "3.7.6"
  }
 },
 "nbformat": 4,
 "nbformat_minor": 4
}
