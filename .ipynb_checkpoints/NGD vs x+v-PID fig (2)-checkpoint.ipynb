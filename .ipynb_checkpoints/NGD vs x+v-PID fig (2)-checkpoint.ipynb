{
 "cells": [
  {
   "cell_type": "markdown",
   "metadata": {},
   "source": [
    "# import and Functions"
   ]
  },
  {
   "cell_type": "code",
   "execution_count": 1,
   "metadata": {},
   "outputs": [],
   "source": [
    "import numpy as np\n",
    "import matplotlib.pyplot as plt\n",
    "import math\n",
    "from scipy import signal\n",
    "from scipy.fftpack import fft\n",
    "from scipy import ndimage\n",
    "from scipy.io import loadmat\n",
    "import os\n",
    "import warnings\n",
    "warnings.filterwarnings('ignore')\n",
    "#annots = loadmat('C:\\\\Users\\\\llinc\\\\GitHub\\\\retina_personal\\\\0406\\\\merge\\\\merge_0224_HMM_RL_G2.5_5min_Q100_6.5mW.mat')\n",
    "%matplotlib inline"
   ]
  },
  {
   "cell_type": "code",
   "execution_count": 2,
   "metadata": {},
   "outputs": [],
   "source": [
    "## EqualState assign states with equal possibility for input array x\n",
    "def EqualState(x, num_state):\n",
    "    xs=np.sort(x)\n",
    "    binlen=int(len(x)/num_state-0.5) #round\n",
    "    edges = xs[np.arange(num_state+1)*binlen]\n",
    "    xstate=np.zeros(len(x))\n",
    "    for i in range(num_state):\n",
    "        xstate[x>=edges[i]] = i\n",
    "    xstate = xstate.astype(int)\n",
    "    return xstate, edges"
   ]
  },
  {
   "cell_type": "code",
   "execution_count": 3,
   "metadata": {},
   "outputs": [],
   "source": [
    "def PIfunc(r, x, v, dt, window):\n",
    "    negshift=window[0] # second\n",
    "    posshift=window[1] # second\n",
    "    shiftlen=(posshift-negshift)/dt+1\n",
    "    timeshift=np.linspace(negshift,posshift,int(shiftlen))\n",
    "    bitshift=np.linspace(negshift/dt,posshift/dt,int(shiftlen),dtype = 'int16')\n",
    "    Information = dict()\n",
    "    Information[('BROJA_2PID','SI')]=np.zeros(len(bitshift))\n",
    "    Information[('BROJA_2PID','UIx')]=np.zeros(len(bitshift))\n",
    "    Information[('BROJA_2PID','UIv')]=np.zeros(len(bitshift))\n",
    "    Information[('BROJA_2PID','CI')]=np.zeros(len(bitshift))\n",
    "    Information[('Beer','Red')]=np.zeros(len(bitshift))\n",
    "    Information[('Beer','UIx')]=np.zeros(len(bitshift))\n",
    "    Information[('Beer','UIv')]=np.zeros(len(bitshift))\n",
    "    Information[('Beer','Syn')]=np.zeros(len(bitshift))\n",
    "    \n",
    "    Information[('test','SI')]=np.zeros(len(bitshift))\n",
    "    Information[('test','UIx')]=np.zeros(len(bitshift))\n",
    "    Information[('test','UIv')]=np.zeros(len(bitshift))\n",
    "    Information[('test','CI')]=np.zeros(len(bitshift))\n",
    "    # shifted data\n",
    "    # shift>0 => y shifted to positive side\n",
    "    for i in range(len(bitshift)):\n",
    "        xx=[]\n",
    "        vv=[]\n",
    "        rr=[]\n",
    "        shift=bitshift[i]\n",
    "        if shift>0:\n",
    "            xx=x[shift:]\n",
    "            vv=v[shift:]\n",
    "            rr=r[:(-1*shift)]\n",
    "        elif shift==0:\n",
    "            xx=x\n",
    "            vv=v\n",
    "            rr=r\n",
    "        elif shift<0:\n",
    "            xx=x[:shift]\n",
    "            vv=v[:shift]\n",
    "            rr=r[(-1*shift):]\n",
    "        #find weight of each states by 3D histogram \n",
    "        xedges = np.append(np.unique(xx),(max(xx)+1))\n",
    "        vedges = np.append(np.unique(vv),(max(vv)+1))\n",
    "        redges = np.append(np.unique(rr),(max(rr)+1))\n",
    "        dat = np.concatenate((xx[:,np.newaxis], vv[:,np.newaxis],rr[:,np.newaxis]), axis=1)\n",
    "        N, edges = np.histogramdd(dat, bins=(xedges, vedges, redges))\n",
    "        #Calculate all kinds of probability and make sure the shape of them, 0 -> x, 1 -> v, 2 -> r\n",
    "        px=(np.sum(N,axis=(1,2))/np.sum(N))[:, np.newaxis, np.newaxis]\n",
    "        pv=(np.sum(N,axis=(0,2))/np.sum(N))[np.newaxis, :, np.newaxis]\n",
    "        pr=(np.sum(N,axis=(0,1))/np.sum(N))[np.newaxis ,np.newaxis, :]\n",
    "        pxv=(np.sum(N,axis=2)/np.sum(N))[:, :, np.newaxis]\n",
    "        pxr=(np.sum(N,axis=1)/np.sum(N))[:, np.newaxis, :]\n",
    "        pvr=(np.sum(N,axis=0)/np.sum(N))[np.newaxis, :, :]\n",
    "        pxvr=(N/np.sum(N))\n",
    "        \n",
    "        Information[('test','UIx')][i] = np.nansum(pxvr*np.log2(pxvr*px/pxv/pxr))/dt\n",
    "        Information[('test','UIv')][i] = np.nansum(pxvr*np.log2(pxvr*pv/pxv/pvr))/dt\n",
    "\n",
    "\n",
    "        MIxr=np.nansum(pxr*np.log2(pxr/px/pr))/dt\n",
    "        MIvr=np.nansum(pvr*np.log2(pvr/pv/pr))/dt\n",
    "        MIxvR=np.nansum(pxvr*np.log2(pxvr/pxv/pr))/dt\n",
    "        PI_xR = np.nansum(pxr*np.log2(pxr/px/pr), axis = (0,1))\n",
    "        PI_vR = np.nansum(pvr*np.log2(pvr/pv/pr), axis = (0,1))\n",
    "        R = sum(np.minimum(PI_xR, PI_vR))/dt\n",
    "        Information[('Beer','Red')][i] = R\n",
    "        Information[('Beer','UIx')][i] = MIxr - R\n",
    "        Information[('Beer','UIv')][i] = MIvr - R\n",
    "        Information[('Beer','Syn')][i] = MIxvR - MIxr - MIvr + R\n",
    "\n",
    "    return timeshift, Information"
   ]
  },
  {
   "cell_type": "code",
   "execution_count": 4,
   "metadata": {},
   "outputs": [],
   "source": [
    "def Spike_Time_Generater(rdt, dt, Garmma=1):\n",
    "    rdt = rdt*Garmma\n",
    "    Spike_time = []\n",
    "    \n",
    "    counter = 0\n",
    "    post_remainer_c = 0\n",
    "    p = 1\n",
    "    while True:\n",
    "        the_random_number = 1-np.random.rand()\n",
    "        while (the_random_number < p and counter < len(rdt)):\n",
    "            p *= np.exp(-rdt[counter])\n",
    "            counter += 1\n",
    "        if counter >= len(rdt):\n",
    "            break\n",
    "        remainer_c = -np.log(p/the_random_number)/rdt[counter-1]\n",
    "#         if remainer_c>=1 or remainer_c<=0:\n",
    "#             print('shit!')\n",
    "        Spike_time.append(dt*(counter-remainer_c))\n",
    "        p = np.exp(-remainer_c*rdt[counter-1])\n",
    "    return Spike_time[::Garmma]\n",
    "\n",
    "# activation function\n",
    "def NL(x,theta=0):\n",
    "    y = np.zeros(len(x))\n",
    "    for i in range(len(x)):\n",
    "        if x[i]- theta>0:\n",
    "            y[i]= x[i]-theta\n",
    "    return(y)"
   ]
  },
  {
   "cell_type": "markdown",
   "metadata": {},
   "source": [
    "# chose file"
   ]
  },
  {
   "cell_type": "code",
   "execution_count": 5,
   "metadata": {},
   "outputs": [],
   "source": [
    "# exp_folder = 'D:\\\\GoogleDrive\\\\retina\\\\Exps\\\\2020\\\\0503'\n",
    "# G = 4.5\n",
    "# annots = loadmat(exp_folder+'\\\\merge\\\\'+'merge_0224_OUsmooth_RL_G'+str(G)+'_5min_Q100_6.5mW_1Hz.mat')\n",
    "\n",
    "# exp_folder = 'D:\\\\GoogleDrive\\\\retina\\\\Exps\\\\2020\\\\0729'\n",
    "# Fc = 8\n",
    "# annots = loadmat(exp_folder+'\\\\merge\\\\'+'merge_0727_OUsmooth_Bright_UL_DR_G4.5_5min_Q100_6.5mW_'+str(Fc)+'Hz.mat')\n",
    "\n",
    "exp_folder = 'D:\\\\GoogleDrive\\\\retina\\\\Chou\\'s data\\\\20200408'\n",
    "Fc_list = [2, 4,7,10]\n",
    "annots_list = []\n",
    "for Fc in Fc_list:\n",
    "    annots_list.append(loadmat(exp_folder+'\\\\20200408_OU_cutoff='+str(Fc)+'_sort_unit2'))"
   ]
  },
  {
   "cell_type": "code",
   "execution_count": 6,
   "metadata": {},
   "outputs": [],
   "source": [
    "dt = 0.01\n",
    "sampling_rate = 20000\n",
    "x_list, v_list, t_cor_list, T_list = [], [], [], []\n",
    "for annots in annots_list:\n",
    "    TimeStamps =np.round(np.squeeze(annots['TimeStamps']))\n",
    "    TimeStamps = TimeStamps.astype(int)\n",
    "    x = annots['a_data'][0, TimeStamps[0]*sampling_rate:TimeStamps[1]*sampling_rate+1]\n",
    "    x = ndimage.gaussian_filter1d(x, sigma=int(sampling_rate*dt/2), mode='reflect') / dt\n",
    "    x = x[::int(sampling_rate*dt)]\n",
    "    x = x.astype(float)\n",
    "    x = (x -np.mean(x))/np.std(x)\n",
    "    T = np.arange(1,len(x)+1)*dt\n",
    "    v = np.append(0,np.diff(x))/dt\n",
    "    \n",
    "    x_list.append(x.copy())\n",
    "    v_list.append(v.copy())\n",
    "    T_list.append(T.copy())\n",
    "    x_cor = np.correlate(x, x, \"same\")\n",
    "    x_cor = x_cor[:int((len(x_cor)+1)/2)+1]\n",
    "    Taxis = np.flip(T[:len(x_cor)]-dt*3/2)\n",
    "    t_cor_list.append(np.interp(0.5*max(x_cor),  x_cor, Taxis))"
   ]
  },
  {
   "cell_type": "code",
   "execution_count": 7,
   "metadata": {},
   "outputs": [
    {
     "data": {
      "text/plain": [
       "[0.5241158203537964,\n",
       " 0.4222846678783801,\n",
       " 0.3954199641047879,\n",
       " 0.38514798623074575]"
      ]
     },
     "execution_count": 7,
     "metadata": {},
     "output_type": "execute_result"
    }
   ],
   "source": [
    "t_cor_list"
   ]
  },
  {
   "cell_type": "markdown",
   "metadata": {},
   "source": [
    "# for $\\beta$"
   ]
  },
  {
   "cell_type": "code",
   "execution_count": 8,
   "metadata": {},
   "outputs": [],
   "source": [
    "# Lambdas =  np.arange(0.1,0.91,0.1)\n",
    "Lambdas =  np.arange(0.3,0.5,0.3)\n",
    "betas = (1-Lambdas)/Lambdas\n",
    "alpha = 20. #1/sec\n",
    "K = 23.\n",
    "g = 40.\n",
    "phi = 1."
   ]
  },
  {
   "cell_type": "code",
   "execution_count": 9,
   "metadata": {
    "scrolled": false
   },
   "outputs": [
    {
     "name": "stdout",
     "output_type": "stream",
     "text": [
      "2 0.3 2.3333333333333335\n",
      "4 0.3 2.3333333333333335\n",
      "7 0.3 2.3333333333333335\n",
      "10 0.3 2.3333333333333335\n"
     ]
    }
   ],
   "source": [
    "##response\n",
    "# Model one: simple estimation\n",
    "window = [-1,1] # second\n",
    "Information_list = [0]*len(annots_list)\n",
    "ngd_Information_list = [0]*len(annots_list)\n",
    "y_list = [0]*len(annots_list)\n",
    "r_list = [0]*len(annots_list)\n",
    "for i in range(len(annots_list)):\n",
    "    x = x_list[i]\n",
    "    v = v_list[i]\n",
    "    xstate,edge = EqualState(x, 6)\n",
    "    vstate,edge = EqualState(v, 6)\n",
    "    Information_list[i] = [0]*len(Lambdas)\n",
    "    ngd_Information_list[i] = [0]*len(Lambdas)\n",
    "    y_list[i] = [0]*len(Lambdas)\n",
    "    r_list[i] = [0]*len(Lambdas)\n",
    "    for j in range(len(Lambdas)):\n",
    "        Lambda = Lambdas[j]\n",
    "        beta = betas[j]\n",
    "        print(Fc_list[i], Lambda, beta)\n",
    "        y=np.zeros(len(T_list[i]))\n",
    "        z=np.zeros(len(T_list[i]))\n",
    "        for k in range(len(T_list[i])-1):\n",
    "            dy=dt*(-alpha*y[k]+K*(x[k]-phi*z[k]))\n",
    "            dz=dt*(-beta*z[k]+g*y[k])\n",
    "            y[k+1]=y[k]+dy\n",
    "            z[k+1]=z[k]+dz\n",
    "        y_list[i][j] = y.copy()\n",
    "        r = NL(np.mean(y)-y, 0)\n",
    "        ratio = sum(r)/T_list[i][-1]/12\n",
    "#         ratio = sum(r)/585\n",
    "        FakeSpike = Spike_Time_Generater(r/ratio, dt, 10)\n",
    "        rstate, _ = np.histogram(FakeSpike, np.append(0,T_list[i]))\n",
    "        rstate = rstate.astype(int)\n",
    "\n",
    "        #calculate information\n",
    "        timeshift, ngd_Information_list[i][j] = PIfunc(rstate, xstate, vstate, dt, window)\n",
    "        \n",
    "        r1 = (1-Lambda)*x+Lambda*v\n",
    "        r_list[i][j] = r1.copy()\n",
    "        r = NL(np.mean(r1)-r1, 0)\n",
    "#         ratio = sum(r)/T_list[i][-1]/12\n",
    "        ratio = sum(r)/585\n",
    "        FakeSpike = Spike_Time_Generater(r/ratio, dt, 10)\n",
    "        rstate, _ = np.histogram(FakeSpike, np.append(0,T_list[i]))\n",
    "        rstate = rstate.astype(int)\n",
    "        #calculate information\n",
    "        timeshift, Information_list[i][j] = PIfunc(rstate, xstate, vstate, dt, window)"
   ]
  },
  {
   "cell_type": "code",
   "execution_count": 10,
   "metadata": {},
   "outputs": [
    {
     "data": {
      "text/plain": [
       "1.9564563058091704"
      ]
     },
     "execution_count": 10,
     "metadata": {},
     "output_type": "execute_result"
    }
   ],
   "source": [
    "585/T_list[i][-1]"
   ]
  },
  {
   "cell_type": "markdown",
   "metadata": {},
   "source": [
    "# For Paper "
   ]
  },
  {
   "cell_type": "code",
   "execution_count": 11,
   "metadata": {},
   "outputs": [
    {
     "name": "stdout",
     "output_type": "stream",
     "text": [
      "Fc= 10\n"
     ]
    },
    {
     "data": {
      "image/png": "[encoded data removed]",
      "text/plain": [
       "<Figure size 1152x355.988 with 2 Axes>"
      ]
     },
     "metadata": {
      "needs_background": "light"
     },
     "output_type": "display_data"
    }
   ],
   "source": [
    "i = 3\n",
    "print('Fc=', Fc_list[i])\n",
    "for j in range(len(Lambdas)):\n",
    "    fig, (ax2, ax3) = plt.subplots(nrows=1, ncols=2) \n",
    "    ax2.plot(timeshift,Information_list[i][j][('Beer','UIx')], 'r-')\n",
    "    ax2.plot(timeshift,Information_list[i][j][('Beer','UIv')], 'b-')\n",
    "    ax2.plot(timeshift,Information_list[i][j][('Beer','Syn')], 'k-')\n",
    "    ax2.plot(timeshift,Information_list[i][j][('Beer','Red')], 'g-')\n",
    "    ax2.plot(timeshift,ngd_Information_list[i][j][('Beer','UIx')], 'r--')\n",
    "    ax2.plot(timeshift,ngd_Information_list[i][j][('Beer','UIv')], 'b--')\n",
    "    ax2.plot(timeshift,ngd_Information_list[i][j][('Beer','Syn')], 'k--')\n",
    "    ax2.plot(timeshift,ngd_Information_list[i][j][('Beer','Red')], 'g--')\n",
    "    ax2.set_title('Partial Information')#+r'$t_{corr}$='+str(t_cor_list[i]))\n",
    "    ax2.set_xlabel('Time (s)')\n",
    "    ax2.set_ylabel('Information (bit/s)')\n",
    "    ax2.legend( (r'$U_x$', r'$U_{\\dotx}$', 'synergy', 'redundancy'), loc='best', prop={'size': 'large', 'family': 'monospace'})\n",
    "    ax2.grid()\n",
    "\n",
    "    #plot MIs\n",
    "    ax3.plot(timeshift,Information_list[i][j][('Beer','UIx')]+Information_list[i][j][('Beer','Red')], 'r-')\n",
    "    ax3.plot(timeshift,Information_list[i][j][('Beer','UIv')]+Information_list[i][j][('Beer','Red')], 'b-')\n",
    "    ax3.plot(timeshift,Information_list[i][j][('Beer','UIx')]+Information_list[i][j][('Beer','Red')]\n",
    "             +Information_list[i][j][('Beer','UIv')]+Information_list[i][j][('Beer','Syn')], 'k-')\n",
    "    ax3.plot(timeshift,Information_list[i][j][('Beer','UIx')]+2*Information_list[i][j][('Beer','Red')]\n",
    "             +Information_list[i][j][('Beer','UIv')], 'm-')\n",
    "    ax3.plot(timeshift,ngd_Information_list[i][j][('Beer','UIx')]+ngd_Information_list[i][j][('Beer','Red')], 'r--')\n",
    "    ax3.plot(timeshift,ngd_Information_list[i][j][('Beer','UIv')]+ngd_Information_list[i][j][('Beer','Red')], 'b--')\n",
    "    ax3.plot(timeshift,ngd_Information_list[i][j][('Beer','UIx')]+ngd_Information_list[i][j][('Beer','Red')]\n",
    "             +ngd_Information_list[i][j][('Beer','UIv')]+ngd_Information_list[i][j][('Beer','Syn')], 'k--')\n",
    "    ax3.plot(timeshift,ngd_Information_list[i][j][('Beer','UIx')]+2*ngd_Information_list[i][j][('Beer','Red')]\n",
    "             +ngd_Information_list[i][j][('Beer','UIv')], 'm--')\n",
    "    ax3.set_title('Mutual Information ')#+r'$t_{corr}$='+str(t_cor_list[i]))\n",
    "    ax3.set_xlabel('Time (s)')\n",
    "    ax3.set_ylabel('Information (bit/s)')\n",
    "    ax3.grid()\n",
    "    ax3.legend( ('I(x,r)', r'I($\\dotx$,r)', r'I({x,$\\dotx$},r)', r'I(x,r)+I($\\dotx$,r)'), loc='best', prop={'size': 'large', 'family': 'monospace'})\n",
    "    ax2.text(-1, 1.5,'soild line: Heuristic model \\ndashed line: NGD model', fontsize = 12)\n",
    "    ax3.text(-1, 2,'soild line: Heuristic model \\ndashed line: NGD model', fontsize = 12)\n",
    "    fig.set_size_inches(16, 4*(np.sqrt(5)-1))"
   ]
  },
  {
   "cell_type": "code",
   "execution_count": 12,
   "metadata": {},
   "outputs": [],
   "source": [
    "# fig.savefig('D:\\\\GoogleDrive\\\\retina\\\\PID_paper\\\\HeuristicVSNGD_TLPID.jpeg')"
   ]
  },
  {
   "cell_type": "code",
   "execution_count": 13,
   "metadata": {},
   "outputs": [],
   "source": [
    "# import pandas as pd\n",
    "# Information_list[0][j][('timeshift','timeshift')] = timeshift\n",
    "# Information_list[0][j][('MI','I(x,r)')] = Information_list[0][j][('Beer','UIx')]+Information_list[0][j][('Beer','Red')]\n",
    "# Information_list[0][j][('MI',r'I($\\dotx$,r)')] = Information_list[0][j][('Beer','UIv')]+Information_list[0][j][('Beer','Red')]\n",
    "# Information_list[0][j][('MI',r'I({x,$\\dotx$},r)')] = Information_list[0][j][('Beer','UIx')]+Information_list[0][j][('Beer','Red')]+Information_list[0][j][('Beer','UIv')]+Information_list[0][j][('Beer','Syn')]\n",
    "# Information_list[0][j][('MI',r'I(x,r)+I($\\dotx$,r)')] = Information_list[0][j][('Beer','UIx')]+2*Information_list[0][j][('Beer','Red')]+Information_list[0][j][('Beer','UIv')]\n",
    "# data_df = pd.DataFrame(Information_list[i][j])\n",
    "\n",
    " \n",
    "# # create and writer pd.DataFrame to excel\n",
    "# name  = 'Piv'\n",
    "# writer = pd.ExcelWriter('D:\\\\GoogleDrive\\\\retina\\\\PID_paper\\\\For Origin Plot\\\\'+name+'.xlsx')\n",
    "# data_df.to_excel(writer,'page_1',float_format='%.5f') # float_format 控制精度\n",
    "\n",
    "# # ngd_Information_list[0][j][('timeshift','timeshift')] = timeshift\n",
    "# ngd_Information_list[0][j][('MI','I(x,r)')] = ngd_Information_list[0][j][('Beer','UIx')]+ngd_Information_list[0][j][('Beer','Red')]\n",
    "# ngd_Information_list[0][j][('MI',r'I($\\dotx$,r)')] = ngd_Information_list[0][j][('Beer','UIv')]+ngd_Information_list[0][j][('Beer','Red')]\n",
    "# ngd_Information_list[0][j][('MI',r'I({x,$\\dotx$},r)')] = ngd_Information_list[0][j][('Beer','UIx')]+ngd_Information_list[0][j][('Beer','Red')]+ngd_Information_list[0][j][('Beer','UIv')]+ngd_Information_list[0][j][('Beer','Syn')]\n",
    "# ngd_Information_list[0][j][('MI',r'I(x,r)+I($\\dotx$,r)')] = ngd_Information_list[0][j][('Beer','UIx')]+2*ngd_Information_list[0][j][('Beer','Red')]+ngd_Information_list[0][j][('Beer','UIv')]\n",
    "# data_df = pd.DataFrame(ngd_Information_list[i][j])\n",
    "\n",
    " \n",
    "# # create and writer pd.DataFrame to excel\n",
    "# data_df.to_excel(writer,'page_2',float_format='%.5f') # float_format 控制精度\n",
    "# writer.save()"
   ]
  }
 ],
 "metadata": {
  "kernelspec": {
   "display_name": "Python 3",
   "language": "python",
   "name": "python3"
  },
  "language_info": {
   "codemirror_mode": {
    "name": "ipython",
    "version": 3
   },
   "file_extension": ".py",
   "mimetype": "text/x-python",
   "name": "python",
   "nbconvert_exporter": "python",
   "pygments_lexer": "ipython3",
   "version": "3.7.6"
  },
  "toc": {
   "base_numbering": 1,
   "nav_menu": {},
   "number_sections": true,
   "sideBar": true,
   "skip_h1_title": false,
   "title_cell": "Table of Contents",
   "title_sidebar": "Contents",
   "toc_cell": false,
   "toc_position": {
    "height": "calc(100% - 180px)",
    "left": "10px",
    "top": "150px",
    "width": "165px"
   },
   "toc_section_display": true,
   "toc_window_display": true
  },
  "varInspector": {
   "cols": {
    "lenName": 16,
    "lenType": 16,
    "lenVar": 40
   },
   "kernels_config": {
    "python": {
     "delete_cmd_postfix": "",
     "delete_cmd_prefix": "del ",
     "library": "var_list.py",
     "varRefreshCmd": "print(var_dic_list())"
    },
    "r": {
     "delete_cmd_postfix": ") ",
     "delete_cmd_prefix": "rm(",
     "library": "var_list.r",
     "varRefreshCmd": "cat(var_dic_list()) "
    }
   },
   "position": {
    "height": "326px",
    "left": "1550px",
    "right": "20px",
    "top": "120px",
    "width": "350px"
   },
   "types_to_exclude": [
    "module",
    "function",
    "builtin_function_or_method",
    "instance",
    "_Feature"
   ],
   "window_display": true
  }
 },
 "nbformat": 4,
 "nbformat_minor": 4
}
