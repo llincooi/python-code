{
 "cells": [
  {
   "cell_type": "code",
   "execution_count": 1,
   "metadata": {},
   "outputs": [],
   "source": [
    "import numpy as np\n",
    "import matplotlib.pyplot as plt\n",
    "import math\n",
    "from scipy import signal\n",
    "from scipy.fftpack import fft\n",
    "from scipy import ndimage\n",
    "from scipy.io import loadmat\n",
    "import os\n",
    "#annots = loadmat('C:\\\\Users\\\\llinc\\\\GitHub\\\\retina_personal\\\\0406\\\\merge\\\\merge_0224_HMM_RL_G2.5_5min_Q100_6.5mW.mat')\n",
    "%matplotlib inline"
   ]
  },
  {
   "cell_type": "code",
   "execution_count": 2,
   "metadata": {},
   "outputs": [],
   "source": [
    "exp_folder = 'D:\\\\Leo\\\\0503'\n",
    "G = 20\n",
    "annots = loadmat(exp_folder+'\\\\merge\\\\'+'merge_0224_OUsmooth_RL_G'+str(G)+'_5min_Q100_6.5mW_1Hz.mat')"
   ]
  },
  {
   "cell_type": "code",
   "execution_count": 3,
   "metadata": {},
   "outputs": [],
   "source": [
    "channelnumber =47-1\n",
    "#os.chdir('C:\\\\Users\\\\llinc\\\\OneDrive\\\\桌面\\\\新增資料夾')"
   ]
  },
  {
   "cell_type": "code",
   "execution_count": 4,
   "metadata": {},
   "outputs": [],
   "source": [
    "## EqualState assign states with equal possibility for input array x\n",
    "def EqualState(x, num_state):\n",
    "    xs=np.sort(x)\n",
    "    binlen=int(len(x)/num_state-0.5) #round\n",
    "    edges = xs[np.arange(num_state)*binlen]\n",
    "    xstate=np.zeros(len(x))\n",
    "    for i in range(num_state):\n",
    "        xstate[x>=edges[i]] = i\n",
    "    xstate = xstate.astype(int)\n",
    "    return xstate"
   ]
  },
  {
   "cell_type": "code",
   "execution_count": 5,
   "metadata": {},
   "outputs": [],
   "source": [
    "## PIfunc that calculate Unique, Synergy and Redundancy of three unsymmetric varibles\n",
    "def PIfunc(r, x, v, dt, window):\n",
    "    negshift=window[0] # second\n",
    "    posshift=window[1] # second\n",
    "    shiftlen=(posshift-negshift)/dt+1\n",
    "    timeshift=np.linspace(negshift,posshift,int(shiftlen))\n",
    "    bitshift=np.linspace(negshift/dt,posshift/dt,int(shiftlen),dtype = 'int16')\n",
    "    Redun =np.zeros(len(bitshift))\n",
    "    MIxr=np.zeros(len(bitshift))\n",
    "    MIvr=np.zeros(len(bitshift))\n",
    "    MIxvR=np.zeros(len(bitshift))\n",
    "    # shifted data\n",
    "    # shift>0 => y shifted to positive side\n",
    "    for i in range(len(bitshift)):\n",
    "        xx=[]\n",
    "        vv=[]\n",
    "        rr=[]\n",
    "        shift=bitshift[i]\n",
    "        if shift>0:\n",
    "            xx=x[shift:]\n",
    "            vv=v[shift:]\n",
    "            rr=r[:(-1*shift)]\n",
    "        elif shift==0:\n",
    "            xx=x\n",
    "            vv=v\n",
    "            rr=r\n",
    "        elif shift<0:\n",
    "            xx=x[:shift]\n",
    "            vv=v[:shift]\n",
    "            rr=r[(-1*shift):]\n",
    "        #find weight of each states by 3D histogram \n",
    "        xedges = np.append(np.unique(xx),(max(xx)+1))\n",
    "        vedges = np.append(np.unique(vv),(max(vv)+1))\n",
    "        redges = np.append(np.unique(rr),(max(rr)+1))\n",
    "        dat = np.concatenate((xx[:,np.newaxis], vv[:,np.newaxis],rr[:,np.newaxis]), axis=1)\n",
    "        N, edges = np.histogramdd(dat, bins=(xedges, vedges, redges))\n",
    "        #Calculate all kinds of probability and make sure the shape of them, 0 -> x, 1 -> v, 2 -> r\n",
    "        px=(np.sum(N,axis=(1,2))/np.sum(N))[:, np.newaxis, np.newaxis]\n",
    "        pv=(np.sum(N,axis=(0,2))/np.sum(N))[np.newaxis, :, np.newaxis]\n",
    "        pr=(np.sum(N,axis=(0,1))/np.sum(N))[np.newaxis ,np.newaxis, :]\n",
    "        pxv=(np.sum(N,axis=2)/np.sum(N))[:, :, np.newaxis]\n",
    "        pxr=(np.sum(N,axis=1)/np.sum(N))[:, np.newaxis, :]\n",
    "        pvr=(np.sum(N,axis=0)/np.sum(N))[np.newaxis, :, :]\n",
    "        pxvr=(N/np.sum(N))\n",
    "        \n",
    "        MIxr[i]=np.nansum(pxr*np.log2(pxr/px/pr))/dt\n",
    "        MIvr[i]=np.nansum(pvr*np.log2(pvr/pv/pr))/dt\n",
    "        MIxvR[i]=np.nansum(pxvr*np.log2(pxvr/pxv/pr))/dt\n",
    "        \n",
    "        PI_xR = np.nansum(pxr*np.log2(pxr/px/pr), axis = (0,1))\n",
    "        PI_vR = np.nansum(pvr*np.log2(pvr/pv/pr), axis = (0,1))\n",
    "        Redun[i] = sum(np.minimum(PI_xR, PI_vR))/dt\n",
    "    return timeshift, MIxr, MIvr, MIxvR, Redun"
   ]
  },
  {
   "cell_type": "code",
   "execution_count": 6,
   "metadata": {},
   "outputs": [
    {
     "data": {
      "text/plain": [
       "(150, 160)"
      ]
     },
     "execution_count": 6,
     "metadata": {},
     "output_type": "execute_result"
    },
    {
     "data": {
      "image/png": "[encoded data removed]",
      "text/plain": [
       "<Figure size 432x288 with 1 Axes>"
      ]
     },
     "metadata": {
      "needs_background": "light"
     },
     "output_type": "display_data"
    }
   ],
   "source": [
    "x = np.squeeze(annots['bin_pos'])\n",
    "x = x.astype(float)\n",
    "x = (x-np.mean(x))/np.std(x)\n",
    "dt = 1./60\n",
    "T=np.squeeze(annots['diode_BT'])\n",
    "v = ndimage.gaussian_filter1d(x, sigma=1, order=1, mode='wrap') / dt\n",
    "#v = np.diff(x)/dt\n",
    "x=x[1:-1]\n",
    "v=v[1:-1] #cut ends.  V(n) = X(n) -X(n-1)\n",
    "T=T[1:-1]\n",
    "#plt.plot(T,L[1:-1], 'm-')\n",
    "plt.plot(T,x, 'r-')\n",
    "plt.plot(T,v, 'r-')\n",
    "plt.xlim(150,160)"
   ]
  },
  {
   "cell_type": "code",
   "execution_count": 7,
   "metadata": {},
   "outputs": [
    {
     "data": {
      "text/plain": [
       "0.37486698519659256"
      ]
     },
     "execution_count": 7,
     "metadata": {},
     "output_type": "execute_result"
    }
   ],
   "source": [
    "x_cor = np.correlate(x, x, \"same\")\n",
    "x_cor = x_cor[:int((len(x_cor)+1)/2)+1]\n",
    "Taxis = np.flip(T[:len(x_cor)]-dt/2)\n",
    "t_cor = np.interp(0.5*max(x_cor),  x_cor, Taxis)\n",
    "t_cor"
   ]
  },
  {
   "cell_type": "code",
   "execution_count": 8,
   "metadata": {},
   "outputs": [
    {
     "name": "stderr",
     "output_type": "stream",
     "text": [
      "C:\\Users\\hydro_leo\\anaconda3\\lib\\site-packages\\ipykernel_launcher.py:46: RuntimeWarning: divide by zero encountered in log2\n",
      "C:\\Users\\hydro_leo\\anaconda3\\lib\\site-packages\\ipykernel_launcher.py:46: RuntimeWarning: invalid value encountered in multiply\n",
      "C:\\Users\\hydro_leo\\anaconda3\\lib\\site-packages\\ipykernel_launcher.py:47: RuntimeWarning: divide by zero encountered in log2\n",
      "C:\\Users\\hydro_leo\\anaconda3\\lib\\site-packages\\ipykernel_launcher.py:47: RuntimeWarning: invalid value encountered in multiply\n",
      "C:\\Users\\hydro_leo\\anaconda3\\lib\\site-packages\\ipykernel_launcher.py:48: RuntimeWarning: divide by zero encountered in log2\n",
      "C:\\Users\\hydro_leo\\anaconda3\\lib\\site-packages\\ipykernel_launcher.py:48: RuntimeWarning: invalid value encountered in multiply\n",
      "C:\\Users\\hydro_leo\\anaconda3\\lib\\site-packages\\ipykernel_launcher.py:50: RuntimeWarning: divide by zero encountered in log2\n",
      "C:\\Users\\hydro_leo\\anaconda3\\lib\\site-packages\\ipykernel_launcher.py:50: RuntimeWarning: invalid value encountered in multiply\n",
      "C:\\Users\\hydro_leo\\anaconda3\\lib\\site-packages\\ipykernel_launcher.py:51: RuntimeWarning: divide by zero encountered in log2\n",
      "C:\\Users\\hydro_leo\\anaconda3\\lib\\site-packages\\ipykernel_launcher.py:51: RuntimeWarning: invalid value encountered in multiply\n"
     ]
    }
   ],
   "source": [
    "##response\n",
    "# Model one: simple estimation\n",
    "window = [-1,1] # second\n",
    "Ux_peak =[]\n",
    "Uv_peak = []\n",
    "Syn_peak = []\n",
    "Rdn_peak = []\n",
    "deltaTs = np.arange(0.1,5,0.1)\n",
    "for deltaT in deltaTs:\n",
    "    r = x+v*deltaT\n",
    "    #assign states\n",
    "    edges = np.append(min(r), np.array([np.std(r),2*np.std(r),3*np.std(r)])+np.mean(r));\n",
    "    rstate=np.zeros(len(r))\n",
    "    for i in range(4):\n",
    "        rstate[r>=edges[i]] = i\n",
    "    #rstate = np.random.poisson(rstate)\n",
    "    rstate = rstate.astype(int)\n",
    "    xstate = EqualState(x, 6)\n",
    "    vstate = EqualState(v, 6)\n",
    "    #calculate information\n",
    "    timeshift, MIx, MIv, MIjoint, Redun = PIfunc(rstate, xstate, vstate, dt, window)\n",
    "    Ux = MIx-Redun\n",
    "    Uv = MIv-Redun\n",
    "    Syner = MIjoint-MIx-MIv+Redun\n",
    "    #plot PI\n",
    "#     plt.plot(timeshift,Ux, 'r-')\n",
    "#     plt.plot(timeshift,Uv, 'b-')\n",
    "#     plt.plot(timeshift,Syner, 'k-')\n",
    "#     plt.plot(timeshift,Redun, 'g-')\n",
    "#     plt.title(r'$\\delta T=$'+str(deltaT))\n",
    "#     plt.xlabel('Time(s)')\n",
    "#     plt.ylabel('Information(bit/s)')\n",
    "#     plt.gcf().set_size_inches(10.7, 6)\n",
    "#     plt.legend( (r'$U_x$', r'$U_v$', 'synergy', 'redundancy'), loc='best', prop={'size': 'large', 'family': 'monospace'})\n",
    "#     plt.show()\n",
    "    #find peak\n",
    "    Ux_peak.append( timeshift[int(np.mean(np.where(Ux == max(Ux))))])\n",
    "    Uv_peak.append( timeshift[int(np.mean(np.where(Uv == max(Uv))))])\n",
    "    Syn_peak.append( timeshift[int(np.mean(np.where(Syner == max(Syner))))])\n",
    "    Rdn_peak.append( timeshift[int(np.mean(np.where(Redun == max(Redun))))])"
   ]
  },
  {
   "cell_type": "code",
   "execution_count": 9,
   "metadata": {},
   "outputs": [],
   "source": [
    "Ux_peak = np.array(Ux_peak)\n",
    "Uv_peak = np.array(Uv_peak)\n",
    "Syn_peak = np.array(Syn_peak)\n",
    "Rdn_peak = np.array(Rdn_peak)"
   ]
  },
  {
   "cell_type": "code",
   "execution_count": 10,
   "metadata": {},
   "outputs": [
    {
     "data": {
      "image/png": "[encoded data removed]",
      "text/plain": [
       "<Figure size 770.4x432 with 1 Axes>"
      ]
     },
     "metadata": {
      "needs_background": "light"
     },
     "output_type": "display_data"
    }
   ],
   "source": [
    "plt.plot(deltaTs,Ux_peak, 'r-')\n",
    "plt.plot(deltaTs[0:],Uv_peak[0:], 'b-')\n",
    "plt.plot(deltaTs,Syn_peak, 'k-')\n",
    "plt.plot(deltaTs,Rdn_peak, 'g-')\n",
    "plt.title(r'$t_{corr} = $'+ str(round(t_cor,3)))\n",
    "plt.xlabel(r'$\\delta T (s)$')\n",
    "plt.ylabel('Peak time (s)')\n",
    "plt.gcf().set_size_inches(10.7, 6)\n",
    "plt.legend( (r'$U_x ;$ '+str(round(Ux_peak[-1],3)), r'$U_v;$ '+str(round(Uv_peak[-1],3)), 'synergy; '+str(round(Syn_peak[-1],3)), 'redundancy; '+str(round(Rdn_peak[-1],3))), loc='best', prop={'size': 'large', 'family': 'monospace'})\n",
    "plt.grid(True)\n",
    "figure = plt.gcf()"
   ]
  },
  {
   "cell_type": "code",
   "execution_count": 11,
   "metadata": {},
   "outputs": [],
   "source": [
    "save_folder = 'C:\\\\Users\\\\hydro_leo\\\\Documents\\\\GitHub\\\\python-code\\\\analysis result\\\\DeltaT vs Tau\\\\'\n",
    "name = 'PeakTimes_G='+str(G)+'.tif'\n",
    "figure.savefig(save_folder+name)"
   ]
  },
  {
   "cell_type": "code",
   "execution_count": null,
   "metadata": {},
   "outputs": [],
   "source": []
  },
  {
   "cell_type": "code",
   "execution_count": null,
   "metadata": {},
   "outputs": [],
   "source": []
  }
 ],
 "metadata": {
  "kernelspec": {
   "display_name": "Python 3",
   "language": "python",
   "name": "python3"
  },
  "language_info": {
   "codemirror_mode": {
    "name": "ipython",
    "version": 3
   },
   "file_extension": ".py",
   "mimetype": "text/x-python",
   "name": "python",
   "nbconvert_exporter": "python",
   "pygments_lexer": "ipython3",
   "version": "3.7.6"
  }
 },
 "nbformat": 4,
 "nbformat_minor": 4
}
