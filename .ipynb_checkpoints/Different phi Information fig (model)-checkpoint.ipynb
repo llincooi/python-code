{
 "cells": [
  {
   "cell_type": "markdown",
   "metadata": {},
   "source": [
    "# import and Functions"
   ]
  },
  {
   "cell_type": "code",
   "execution_count": 1,
   "metadata": {},
   "outputs": [],
   "source": [
    "import numpy as np\n",
    "import matplotlib.pyplot as plt\n",
    "import math\n",
    "from scipy import signal\n",
    "from scipy.fftpack import fft\n",
    "from scipy import ndimage\n",
    "from scipy.io import loadmat\n",
    "from matplotlib.ticker import MaxNLocator\n",
    "import os\n",
    "import warnings\n",
    "warnings.filterwarnings('ignore')\n",
    "#annots = loadmat('C:\\\\Users\\\\llinc\\\\GitHub\\\\retina_personal\\\\0406\\\\merge\\\\merge_0224_HMM_RL_G2.5_5min_Q100_6.5mW.mat')\n",
    "%matplotlib inline"
   ]
  },
  {
   "cell_type": "code",
   "execution_count": 2,
   "metadata": {},
   "outputs": [],
   "source": [
    "## EqualState assign states with equal possibility for input array x\n",
    "def EqualState(x, num_state):\n",
    "    xs=np.sort(x)\n",
    "    binlen=int(len(x)/num_state-0.5) #round\n",
    "    edges = xs[np.arange(num_state+1)*binlen]\n",
    "    xstate=np.zeros(len(x))\n",
    "    for i in range(num_state):\n",
    "        xstate[x>=edges[i]] = i\n",
    "    xstate = xstate.astype(int)\n",
    "    return xstate, edges"
   ]
  },
  {
   "cell_type": "code",
   "execution_count": 3,
   "metadata": {},
   "outputs": [],
   "source": [
    "def PIfunc(r, x, v, dt, window):\n",
    "    negshift=window[0] # second\n",
    "    posshift=window[1] # second\n",
    "    shiftlen=(posshift-negshift)/dt+1\n",
    "    timeshift=np.linspace(negshift,posshift,int(shiftlen))\n",
    "    bitshift=np.linspace(negshift/dt,posshift/dt,int(shiftlen),dtype = 'int16')\n",
    "    Information = dict()\n",
    "    Information[('BROJA_2PID','SI')]=np.zeros(len(bitshift))\n",
    "    Information[('BROJA_2PID','UIx')]=np.zeros(len(bitshift))\n",
    "    Information[('BROJA_2PID','UIv')]=np.zeros(len(bitshift))\n",
    "    Information[('BROJA_2PID','CI')]=np.zeros(len(bitshift))\n",
    "    Information[('Beer','Red')]=np.zeros(len(bitshift))\n",
    "    Information[('Beer','UIx')]=np.zeros(len(bitshift))\n",
    "    Information[('Beer','UIv')]=np.zeros(len(bitshift))\n",
    "    Information[('Beer','Syn')]=np.zeros(len(bitshift))\n",
    "    \n",
    "    Information[('test','SI')]=np.zeros(len(bitshift))\n",
    "    Information[('test','UIx')]=np.zeros(len(bitshift))\n",
    "    Information[('test','UIv')]=np.zeros(len(bitshift))\n",
    "    Information[('test','CI')]=np.zeros(len(bitshift))\n",
    "    # shifted data\n",
    "    # shift>0 => y shifted to positive side\n",
    "    for i in range(len(bitshift)):\n",
    "        xx=[]\n",
    "        vv=[]\n",
    "        rr=[]\n",
    "        shift=bitshift[i]\n",
    "        if shift>0:\n",
    "            xx=x[shift:]\n",
    "            vv=v[shift:]\n",
    "            rr=r[:(-1*shift)]\n",
    "        elif shift==0:\n",
    "            xx=x\n",
    "            vv=v\n",
    "            rr=r\n",
    "        elif shift<0:\n",
    "            xx=x[:shift]\n",
    "            vv=v[:shift]\n",
    "            rr=r[(-1*shift):]\n",
    "        #find weight of each states by 3D histogram \n",
    "        xedges = np.append(np.unique(xx),(max(xx)+1))\n",
    "        vedges = np.append(np.unique(vv),(max(vv)+1))\n",
    "        redges = np.append(np.unique(rr),(max(rr)+1))\n",
    "        dat = np.concatenate((xx[:,np.newaxis], vv[:,np.newaxis],rr[:,np.newaxis]), axis=1)\n",
    "        N, edges = np.histogramdd(dat, bins=(xedges, vedges, redges))\n",
    "        #Calculate all kinds of probability and make sure the shape of them, 0 -> x, 1 -> v, 2 -> r\n",
    "        px=(np.sum(N,axis=(1,2))/np.sum(N))[:, np.newaxis, np.newaxis]\n",
    "        pv=(np.sum(N,axis=(0,2))/np.sum(N))[np.newaxis, :, np.newaxis]\n",
    "        pr=(np.sum(N,axis=(0,1))/np.sum(N))[np.newaxis ,np.newaxis, :]\n",
    "        pxv=(np.sum(N,axis=2)/np.sum(N))[:, :, np.newaxis]\n",
    "        pxr=(np.sum(N,axis=1)/np.sum(N))[:, np.newaxis, :]\n",
    "        pvr=(np.sum(N,axis=0)/np.sum(N))[np.newaxis, :, :]\n",
    "        pxvr=(N/np.sum(N))\n",
    "        \n",
    "        Information[('test','UIx')][i] = np.nansum(pxvr*np.log2(pxvr*px/pxv/pxr))/dt\n",
    "        Information[('test','UIv')][i] = np.nansum(pxvr*np.log2(pxvr*pv/pxv/pvr))/dt\n",
    "\n",
    "\n",
    "        MIxr=np.nansum(pxr*np.log2(pxr/px/pr))/dt\n",
    "        MIvr=np.nansum(pvr*np.log2(pvr/pv/pr))/dt\n",
    "        MIxvR=np.nansum(pxvr*np.log2(pxvr/pxv/pr))/dt\n",
    "        PI_xR = np.nansum(pxr*np.log2(pxr/px/pr), axis = (0,1))\n",
    "        PI_vR = np.nansum(pvr*np.log2(pvr/pv/pr), axis = (0,1))\n",
    "        R = sum(np.minimum(PI_xR, PI_vR))/dt\n",
    "        Information[('Beer','Red')][i] = R\n",
    "        Information[('Beer','UIx')][i] = MIxr - R\n",
    "        Information[('Beer','UIv')][i] = MIvr - R\n",
    "        Information[('Beer','Syn')][i] = MIxvR - MIxr - MIvr + R\n",
    "\n",
    "    return timeshift, Information"
   ]
  },
  {
   "cell_type": "code",
   "execution_count": 4,
   "metadata": {},
   "outputs": [],
   "source": [
    "def Spike_Time_Generater(rdt, dt, Garmma=1):\n",
    "    rdt = rdt*Garmma\n",
    "    Spike_time = []\n",
    "    \n",
    "    counter = 0\n",
    "    post_remainer_c = 0\n",
    "    p = 1\n",
    "    while True:\n",
    "        the_random_number = 1-np.random.rand()\n",
    "        while (the_random_number < p and counter < len(rdt)):\n",
    "            p *= np.exp(-rdt[counter])\n",
    "            counter += 1\n",
    "        if counter >= len(rdt):\n",
    "            break\n",
    "        remainer_c = -np.log(p/the_random_number)/rdt[counter-1]\n",
    "#         if remainer_c>=1 or remainer_c<=0:\n",
    "#             print('shit!')\n",
    "        Spike_time.append(dt*(counter-remainer_c))\n",
    "        p = np.exp(-remainer_c*rdt[counter-1])\n",
    "    return Spike_time[::Garmma]\n",
    "\n",
    "# activation function\n",
    "def NL(x,theta=0):\n",
    "    y = np.zeros(len(x))\n",
    "    for i in range(len(x)):\n",
    "        if x[i]- theta>0:\n",
    "            y[i]= x[i]-theta\n",
    "    return(y)"
   ]
  },
  {
   "cell_type": "markdown",
   "metadata": {},
   "source": [
    "# chose file"
   ]
  },
  {
   "cell_type": "code",
   "execution_count": 5,
   "metadata": {},
   "outputs": [],
   "source": [
    "dt = 0.01\n",
    "Tot=300\n",
    "T=np.arange(dt,Tot,dt)\n",
    "tau= 1\n",
    "D = 27*10**5\n",
    "OU=np.zeros(len(T))\n",
    "mu, sigma = 0, 1\n",
    "for i in range(len(T)-1):\n",
    "    OU[i+1]=OU[i]*(1-dt/tau)+math.sqrt(D*dt)*np.random.normal(mu,sigma)\n",
    "OU = (OU-np.mean(OU))/np.std(OU)\n",
    "\n",
    "# filtering for OUSmoothed\n",
    "Fc = 1\n",
    "b, a = signal.butter(2, 2*Fc*dt, btype='low', analog=False)\n",
    "x = signal.filtfilt(b, a, OU)\n",
    "x = x.astype(float)"
   ]
  },
  {
   "cell_type": "code",
   "execution_count": 6,
   "metadata": {},
   "outputs": [
    {
     "name": "stdout",
     "output_type": "stream",
     "text": [
      "0.7780836676216075\n"
     ]
    }
   ],
   "source": [
    "x = x.astype(float)\n",
    "x = (x -np.mean(x))/np.std(x)\n",
    "x_cor = np.correlate(x, x, \"same\")\n",
    "x_cor = x_cor[:int((len(x_cor)+1)/2)+1]\n",
    "Taxis = np.flip(T[:len(x_cor)]-dt*3/2)\n",
    "t_cor = np.interp(0.5*max(x_cor),  x_cor, Taxis)\n",
    "tv = ndimage.gaussian_filter1d(x, sigma=int(t_cor/dt*0.1), order=1, mode='reflect') / dt\n",
    "v=np.append(0, np.diff(x)/dt)\n",
    "print(t_cor)"
   ]
  },
  {
   "cell_type": "markdown",
   "metadata": {},
   "source": [
    "# Set $\\lambda$s"
   ]
  },
  {
   "cell_type": "code",
   "execution_count": 18,
   "metadata": {},
   "outputs": [],
   "source": [
    "Lambdas =  np.append(np.arange(0,1.0,0.1),1.0)\n",
    "betas = (1-Lambdas)/Lambdas\n",
    "alpha = 40. #1/sec\n",
    "K = 50.\n",
    "phi = 20"
   ]
  },
  {
   "cell_type": "code",
   "execution_count": 19,
   "metadata": {},
   "outputs": [],
   "source": [
    "# Lambdas = betas"
   ]
  },
  {
   "cell_type": "code",
   "execution_count": 20,
   "metadata": {
    "scrolled": false
   },
   "outputs": [
    {
     "ename": "MemoryError",
     "evalue": "",
     "output_type": "error",
     "traceback": [
      "\u001b[1;31m---------------------------------------------------------------------------\u001b[0m",
      "\u001b[1;31mMemoryError\u001b[0m                               Traceback (most recent call last)",
      "\u001b[1;32m<ipython-input-20-17c4978306be>\u001b[0m in \u001b[0;36m<module>\u001b[1;34m\u001b[0m\n\u001b[0;32m     16\u001b[0m     \u001b[0mr\u001b[0m \u001b[1;33m=\u001b[0m \u001b[0mNL\u001b[0m\u001b[1;33m(\u001b[0m\u001b[0mnp\u001b[0m\u001b[1;33m.\u001b[0m\u001b[0mmean\u001b[0m\u001b[1;33m(\u001b[0m\u001b[0my\u001b[0m\u001b[1;33m)\u001b[0m\u001b[1;33m-\u001b[0m\u001b[0my\u001b[0m\u001b[1;33m,\u001b[0m \u001b[1;36m0\u001b[0m\u001b[1;33m)\u001b[0m\u001b[1;33m\u001b[0m\u001b[1;33m\u001b[0m\u001b[0m\n\u001b[0;32m     17\u001b[0m     \u001b[0mratio\u001b[0m \u001b[1;33m=\u001b[0m \u001b[0msum\u001b[0m\u001b[1;33m(\u001b[0m\u001b[0mr\u001b[0m\u001b[1;33m)\u001b[0m\u001b[1;33m/\u001b[0m\u001b[0mT\u001b[0m\u001b[1;33m[\u001b[0m\u001b[1;33m-\u001b[0m\u001b[1;36m1\u001b[0m\u001b[1;33m]\u001b[0m\u001b[1;33m/\u001b[0m\u001b[1;36m12\u001b[0m\u001b[1;33m\u001b[0m\u001b[1;33m\u001b[0m\u001b[0m\n\u001b[1;32m---> 18\u001b[1;33m     \u001b[0mFakeSpike\u001b[0m \u001b[1;33m=\u001b[0m \u001b[0mSpike_Time_Generater\u001b[0m\u001b[1;33m(\u001b[0m\u001b[0mr\u001b[0m\u001b[1;33m/\u001b[0m\u001b[0mratio\u001b[0m\u001b[1;33m,\u001b[0m \u001b[0mdt\u001b[0m\u001b[1;33m,\u001b[0m \u001b[1;36m10\u001b[0m\u001b[1;33m)\u001b[0m\u001b[1;33m\u001b[0m\u001b[1;33m\u001b[0m\u001b[0m\n\u001b[0m\u001b[0;32m     19\u001b[0m     \u001b[0mrstate\u001b[0m\u001b[1;33m,\u001b[0m \u001b[0m_\u001b[0m \u001b[1;33m=\u001b[0m \u001b[0mnp\u001b[0m\u001b[1;33m.\u001b[0m\u001b[0mhistogram\u001b[0m\u001b[1;33m(\u001b[0m\u001b[0mFakeSpike\u001b[0m\u001b[1;33m,\u001b[0m \u001b[0mnp\u001b[0m\u001b[1;33m.\u001b[0m\u001b[0mappend\u001b[0m\u001b[1;33m(\u001b[0m\u001b[1;36m0\u001b[0m\u001b[1;33m,\u001b[0m\u001b[0mT\u001b[0m\u001b[1;33m)\u001b[0m\u001b[1;33m)\u001b[0m\u001b[1;33m\u001b[0m\u001b[1;33m\u001b[0m\u001b[0m\n\u001b[0;32m     20\u001b[0m     \u001b[1;31m#rstate = np.random.poisson(rstate)\u001b[0m\u001b[1;33m\u001b[0m\u001b[1;33m\u001b[0m\u001b[1;33m\u001b[0m\u001b[0m\n",
      "\u001b[1;32m<ipython-input-4-208892a1d359>\u001b[0m in \u001b[0;36mSpike_Time_Generater\u001b[1;34m(rdt, dt, Garmma)\u001b[0m\n\u001b[0;32m     16\u001b[0m \u001b[1;31m#         if remainer_c>=1 or remainer_c<=0:\u001b[0m\u001b[1;33m\u001b[0m\u001b[1;33m\u001b[0m\u001b[1;33m\u001b[0m\u001b[0m\n\u001b[0;32m     17\u001b[0m \u001b[1;31m#             print('shit!')\u001b[0m\u001b[1;33m\u001b[0m\u001b[1;33m\u001b[0m\u001b[1;33m\u001b[0m\u001b[0m\n\u001b[1;32m---> 18\u001b[1;33m         \u001b[0mSpike_time\u001b[0m\u001b[1;33m.\u001b[0m\u001b[0mappend\u001b[0m\u001b[1;33m(\u001b[0m\u001b[0mdt\u001b[0m\u001b[1;33m*\u001b[0m\u001b[1;33m(\u001b[0m\u001b[0mcounter\u001b[0m\u001b[1;33m-\u001b[0m\u001b[0mremainer_c\u001b[0m\u001b[1;33m)\u001b[0m\u001b[1;33m)\u001b[0m\u001b[1;33m\u001b[0m\u001b[1;33m\u001b[0m\u001b[0m\n\u001b[0m\u001b[0;32m     19\u001b[0m         \u001b[0mp\u001b[0m \u001b[1;33m=\u001b[0m \u001b[0mnp\u001b[0m\u001b[1;33m.\u001b[0m\u001b[0mexp\u001b[0m\u001b[1;33m(\u001b[0m\u001b[1;33m-\u001b[0m\u001b[0mremainer_c\u001b[0m\u001b[1;33m*\u001b[0m\u001b[0mrdt\u001b[0m\u001b[1;33m[\u001b[0m\u001b[0mcounter\u001b[0m\u001b[1;33m-\u001b[0m\u001b[1;36m1\u001b[0m\u001b[1;33m]\u001b[0m\u001b[1;33m)\u001b[0m\u001b[1;33m\u001b[0m\u001b[1;33m\u001b[0m\u001b[0m\n\u001b[0;32m     20\u001b[0m     \u001b[1;32mreturn\u001b[0m \u001b[0mSpike_time\u001b[0m\u001b[1;33m[\u001b[0m\u001b[1;33m:\u001b[0m\u001b[1;33m:\u001b[0m\u001b[0mGarmma\u001b[0m\u001b[1;33m]\u001b[0m\u001b[1;33m\u001b[0m\u001b[1;33m\u001b[0m\u001b[0m\n",
      "\u001b[1;31mMemoryError\u001b[0m: "
     ]
    }
   ],
   "source": [
    "##response\n",
    "# Model one: simple estimation\n",
    "window = [-1,1] # second\n",
    "Information_list = []\n",
    "dvInformation_list = []\n",
    "for beta in betas:\n",
    "    g = beta\n",
    "    y=np.zeros(len(T))\n",
    "    z=np.zeros(len(T))\n",
    "    for j in range(len(T)-1):\n",
    "        dy=dt*(-alpha*y[j]+K*(x[j]-phi*z[j]))\n",
    "        dz=dt*(-beta*z[j]+g*y[j])\n",
    "        y[j+1]=y[j]+dy\n",
    "        z[j+1]=z[j]+dz\n",
    "    #assign states\n",
    "    r = NL(np.mean(y)-y, 0)\n",
    "    ratio = sum(r)/T[-1]/12\n",
    "    FakeSpike = Spike_Time_Generater(r/ratio, dt, 10)\n",
    "    rstate, _ = np.histogram(FakeSpike, np.append(0,T))\n",
    "    #rstate = np.random.poisson(rstate)\n",
    "    rstate = rstate.astype(int)\n",
    "    xstate,edge = EqualState(x, 6)\n",
    "    vstate,edge = EqualState(v, 6)\n",
    "    tvstate,edge = EqualState(tv, 6)\n",
    "    #calculate information\n",
    "    timeshift, Information = PIfunc(rstate, xstate, vstate, dt, window)\n",
    "#     timeshift, dvInformation = PIfunc(rstate, xstate, tvstate, dt, window)\n",
    "    Ux = Information[('Beer','UIx')]\n",
    "    Uv = Information[('Beer','UIv')]\n",
    "    Syner = Information[('Beer','Syn')]\n",
    "    Redun = Information[('Beer','Red')]\n",
    "    Information_list.append(Information)\n",
    "    dvInformation_list.append(dvInformation)\n",
    "#         ax.plot(Ux+Uv+Redun+Syner)"
   ]
  },
  {
   "cell_type": "code",
   "execution_count": null,
   "metadata": {
    "scrolled": false
   },
   "outputs": [],
   "source": [
    "fig, ax = plt.subplots(nrows=len(Information_list), ncols=2)\n",
    "for i in range(len(Information_list)): \n",
    "    ax[i][0].plot(timeshift,Information_list[i][('Beer','UIx')], 'r-')\n",
    "    ax[i][0].plot(timeshift,Information_list[i][('Beer','UIv')], 'b-')\n",
    "    ax[i][0].plot(timeshift,Information_list[i][('Beer','Syn')], 'k-')\n",
    "    ax[i][0].plot(timeshift,Information_list[i][('Beer','Red')], 'g-')\n",
    "    \n",
    "#     ax[i][0].plot(timeshift,dvInformation_list[i][('Beer','UIx')], 'r:')\n",
    "#     ax[i][0].plot(timeshift,dvInformation_list[i][('Beer','UIv')], 'b:')\n",
    "#     ax[i][0].plot(timeshift,dvInformation_list[i][('Beer','Syn')], 'k:')\n",
    "#     ax[i][0].plot(timeshift,dvInformation_list[i][('Beer','Red')], 'g:')\n",
    "#     ax[i][0].yaxis.set_major_locator(MaxNLocator(integer=True))\n",
    "    ax[i][0].set_title('Partial Information (Beer) '+r'$\\lambda$ = '+str(round(Lambdas[i],1)))\n",
    "    ax[i][0].set_xlabel('Time(s)')\n",
    "    ax[i][0].set_ylabel('Information(bit/s)')\n",
    "    ax[i][0].legend( (r'$U_x$', r'$U_v$', 'synergy', 'redundancy'), loc='best', prop={'size': 'large', 'family': 'monospace'})\n",
    "    ax[i][0].grid()\n",
    "    \n",
    "    #plot MIs\n",
    "    ax[i][1].plot(timeshift,Information_list[i][('Beer','UIx')]+Information_list[i][('Beer','Red')], 'r-')\n",
    "    ax[i][1].plot(timeshift,Information_list[i][('Beer','UIv')]+Information_list[i][('Beer','Red')], 'b-')\n",
    "    ax[i][1].plot(timeshift,Information_list[i][('Beer','UIx')]+Information_list[i][('Beer','Red')]+\n",
    "                  Information_list[i][('Beer','UIv')]+Information_list[i][('Beer','Syn')], 'k-')\n",
    "    ax[i][1].plot(timeshift,Information_list[i][('Beer','UIx')]+2*Information_list[i][('Beer','Red')]+\n",
    "                  Information_list[i][('Beer','UIv')], 'm-')\n",
    "#     ax[i][1].plot(timeshift,dvInformation_list[i][('Beer','UIx')]+dvInformation_list[i][('Beer','Red')], 'r:')\n",
    "#     ax[i][1].plot(timeshift,dvInformation_list[i][('Beer','UIv')]+dvInformation_list[i][('Beer','Red')], 'b:')\n",
    "#     ax[i][1].plot(timeshift,dvInformation_list[i][('Beer','UIx')]+dvInformation_list[i][('Beer','Red')]+\n",
    "#                   dvInformation_list[i][('Beer','UIv')]+dvInformation_list[i][('Beer','Syn')], 'k:')\n",
    "#     ax[i][1].plot(timeshift,dvInformation_list[i][('Beer','UIx')]+2*dvInformation_list[i][('Beer','Red')]+\n",
    "#                   dvInformation_list[i][('Beer','UIv')], 'm:')\n",
    "    ax[i][1].yaxis.set_major_locator(MaxNLocator(integer=True))\n",
    "    ax[i][1].set_title('Mutual Information '+r'$\\lambda$ = '+str(round(Lambdas[i],1)))\n",
    "    ax[i][1].set_xlabel('Time(s)')\n",
    "    ax[i][1].set_ylabel('Information(bit/s)')\n",
    "    ax[i][1].grid()\n",
    "    ax[i][1].legend( ('MI(x,r)', 'MI(v,r)', 'MI({x,v},r)', 'MI(x,r)+MI(v,r)'), loc='best', prop={'size': 'large', 'family': 'monospace'})\n",
    "fig.set_size_inches(15, 5.5*len(Information_list))"
   ]
  },
  {
   "cell_type": "code",
   "execution_count": null,
   "metadata": {},
   "outputs": [],
   "source": [
    "fig, ax = plt.subplots(nrows=1, ncols=2)\n",
    "ax[0].set_prop_cycle(plt.cycler('color', plt.cm.copper(np.linspace(0, 1, len(Information_list)))))\n",
    "ax[1].set_prop_cycle(plt.cycler('color', plt.cm.copper(np.linspace(0, 1, len(Information_list)))))\n",
    "for i in range(len(Information_list)): \n",
    "    ax[0].plot(timeshift,Information_list[i][('Beer','UIx')])\n",
    "    ax[1].plot(timeshift,Information_list[i][('Beer','UIx')]+Information_list[i][('Beer','Red')])\n",
    "ax[0].set_title(r'$U_x$')\n",
    "ax[0].set_xlabel('Time(s)')\n",
    "ax[0].set_ylabel('Information(bit/s)')\n",
    "ax[0].legend( [r'$\\lambda$ = '+str(round(Lambda,1)) for Lambda in Lambdas], loc='best', prop={'size': 'large', 'family': 'monospace'})\n",
    "ax[0].grid()\n",
    "ax[1].set_title('I(x,r)')\n",
    "ax[1].set_xlabel('Time(s)')\n",
    "ax[1].set_ylabel('Information(bit/s)')\n",
    "ax[1].legend( [r'$\\lambda$ = '+str(round(Lambda,1)) for Lambda in Lambdas], loc='best', prop={'size': 'large', 'family': 'monospace'})\n",
    "ax[1].grid()\n",
    "fig.set_size_inches(15, 5.5)"
   ]
  },
  {
   "cell_type": "code",
   "execution_count": null,
   "metadata": {},
   "outputs": [],
   "source": [
    "fig, ax = plt.subplots(nrows=1, ncols=2)\n",
    "ax[0].set_prop_cycle(plt.cycler('color', plt.cm.copper(np.linspace(0, 1, len(Information_list)))))\n",
    "ax[1].set_prop_cycle(plt.cycler('color', plt.cm.copper(np.linspace(0, 1, len(Information_list)))))\n",
    "for i in range(len(Information_list)): \n",
    "    ax[0].plot(timeshift,Information_list[i][('Beer','UIv')])\n",
    "    ax[1].plot(timeshift,Information_list[i][('Beer','UIv')]+Information_list[i][('Beer','Red')])\n",
    "ax[0].set_title(r'$U_v$')\n",
    "ax[0].set_xlabel('Time(s)')\n",
    "ax[0].set_ylabel('Information(bit/s)')\n",
    "ax[0].legend( [r'$\\lambda$ = '+str(round(Lambda,1)) for Lambda in Lambdas], loc='best', prop={'size': 'large', 'family': 'monospace'})\n",
    "ax[0].grid()\n",
    "ax[1].set_title('I(v,r)')\n",
    "ax[1].set_xlabel('Time(s)')\n",
    "ax[1].set_ylabel('Information(bit/s)')\n",
    "ax[1].legend( [r'$\\lambda$ = '+str(round(Lambda,1)) for Lambda in Lambdas], loc='best', prop={'size': 'large', 'family': 'monospace'})\n",
    "ax[1].grid()\n",
    "fig.set_size_inches(15, 5.5)"
   ]
  },
  {
   "cell_type": "code",
   "execution_count": null,
   "metadata": {},
   "outputs": [],
   "source": [
    "fig, ax = plt.subplots(nrows=1, ncols=2)\n",
    "ax[0].set_prop_cycle(plt.cycler('color', plt.cm.copper(np.linspace(0, 1, len(Information_list)))))\n",
    "ax[1].set_prop_cycle(plt.cycler('color', plt.cm.copper(np.linspace(0, 1, len(Information_list)))))\n",
    "for i in range(len(Information_list)): \n",
    "    ax[0].plot(timeshift,Information_list[i][('Beer','Syn')])\n",
    "#     ax[0].plot(timeshift,Information_list[i][('Beer','Red')], linestyle = 'dashed')\n",
    "    ax[1].plot(timeshift,Information_list[i][('Beer','UIx')]+Information_list[i][('Beer','Red')]+Information_list[i][('Beer','UIv')]+Information_list[i][('Beer','Syn')])\n",
    "ax[0].set_title(r'$Syn$')\n",
    "ax[0].set_xlabel('Time(s)')\n",
    "ax[0].set_ylabel('Information(bit/s)')\n",
    "ax[0].legend( [r'$\\lambda$ = '+str(round(Lambda,1)) for Lambda in Lambdas], loc='best', prop={'size': 'large', 'family': 'monospace'})\n",
    "ax[0].grid()\n",
    "ax[1].set_title('I(x,r)')\n",
    "ax[1].set_xlabel('Time(s)')\n",
    "ax[1].set_ylabel('Information(bit/s)')\n",
    "ax[1].legend( [r'$\\lambda$ = '+str(round(Lambda,1)) for Lambda in Lambdas], loc='best', prop={'size': 'large', 'family': 'monospace'})\n",
    "ax[1].grid()\n",
    "fig.set_size_inches(15, 5.5)"
   ]
  },
  {
   "cell_type": "code",
   "execution_count": null,
   "metadata": {},
   "outputs": [],
   "source": []
  },
  {
   "cell_type": "code",
   "execution_count": null,
   "metadata": {},
   "outputs": [],
   "source": []
  }
 ],
 "metadata": {
  "kernelspec": {
   "display_name": "Python 3",
   "language": "python",
   "name": "python3"
  },
  "language_info": {
   "codemirror_mode": {
    "name": "ipython",
    "version": 3
   },
   "file_extension": ".py",
   "mimetype": "text/x-python",
   "name": "python",
   "nbconvert_exporter": "python",
   "pygments_lexer": "ipython3",
   "version": "3.7.6"
  },
  "toc": {
   "base_numbering": 1,
   "nav_menu": {},
   "number_sections": true,
   "sideBar": true,
   "skip_h1_title": false,
   "title_cell": "Table of Contents",
   "title_sidebar": "Contents",
   "toc_cell": false,
   "toc_position": {
    "height": "calc(100% - 180px)",
    "left": "10px",
    "top": "150px",
    "width": "165px"
   },
   "toc_section_display": true,
   "toc_window_display": true
  },
  "varInspector": {
   "cols": {
    "lenName": 16,
    "lenType": 16,
    "lenVar": 40
   },
   "kernels_config": {
    "python": {
     "delete_cmd_postfix": "",
     "delete_cmd_prefix": "del ",
     "library": "var_list.py",
     "varRefreshCmd": "print(var_dic_list())"
    },
    "r": {
     "delete_cmd_postfix": ") ",
     "delete_cmd_prefix": "rm(",
     "library": "var_list.r",
     "varRefreshCmd": "cat(var_dic_list()) "
    }
   },
   "position": {
    "height": "326px",
    "left": "1550px",
    "right": "20px",
    "top": "120px",
    "width": "350px"
   },
   "types_to_exclude": [
    "module",
    "function",
    "builtin_function_or_method",
    "instance",
    "_Feature"
   ],
   "window_display": false
  }
 },
 "nbformat": 4,
 "nbformat_minor": 4
}
