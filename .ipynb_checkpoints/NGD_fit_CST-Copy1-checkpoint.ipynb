{
 "cells": [
  {
   "cell_type": "markdown",
   "metadata": {},
   "source": [
    "You can perform PID on MI(r;(x,v)), and compare the result of different 'x'.<br>\n",
    "'x' can from experimental data or produce in this code for different Tau (Gramma) or cutoff frequency.<br>\n",
    "'r' can be real responses of RGC or from NGD or from x+$\\Delta$*v.<br>\n",
    "Using 20200408 Chou's data, unit2.<br>"
   ]
  },
  {
   "cell_type": "markdown",
   "metadata": {},
   "source": [
    "# Functions"
   ]
  },
  {
   "cell_type": "code",
   "execution_count": 1,
   "metadata": {
    "run_control": {
     "marked": true
    }
   },
   "outputs": [],
   "source": [
    "import numpy as np\n",
    "import matplotlib.pyplot as plt\n",
    "from mpl_toolkits import mplot3d\n",
    "from matplotlib.ticker import MaxNLocator\n",
    "import math\n",
    "from scipy import signal\n",
    "from scipy.fftpack import fft\n",
    "from scipy import ndimage\n",
    "from scipy.io import loadmat\n",
    "from scipy.optimize import curve_fit\n",
    "import os\n",
    "%matplotlib inline"
   ]
  },
  {
   "cell_type": "code",
   "execution_count": 2,
   "metadata": {},
   "outputs": [
    {
     "name": "stdout",
     "output_type": "stream",
     "text": [
      "importing Jupyter notebook from time_shifted_PID.ipynb\n",
      "importing Jupyter notebook from J_broja_PID.ipynb\n",
      "importing Jupyter notebook from Spike_Generation.ipynb\n",
      "importing Jupyter notebook from StimulusnResponse.ipynb\n",
      "importing Jupyter notebook from SpatialTemporal_Correlation_and_Convolution.ipynb\n"
     ]
    }
   ],
   "source": [
    "import import_ipynb\n",
    "try:\n",
    "    os.chdir('C:\\\\Users\\\\hydro_leo\\\\Documents\\\\GitHub\\\\python-code\\\\Modules')\n",
    "except:\n",
    "    os.chdir('C:\\\\Users\\\\llinc\\\\GitHub\\\\python-code\\\\Modules')\n",
    "from time_shifted_PID import Histo3D2Dict\n",
    "from time_shifted_PID import PIfunc\n",
    "from time_shifted_PID import EqualState\n",
    "from Spike_Generation import Spike_Time_Generater\n",
    "from Spike_Generation import NL\n",
    "from StimulusnResponse import expSnR\n",
    "from SpatialTemporal_Correlation_and_Convolution import ST_STA"
   ]
  },
  {
   "cell_type": "markdown",
   "metadata": {},
   "source": [
    "# Load Experimental data"
   ]
  },
  {
   "cell_type": "code",
   "execution_count": 3,
   "metadata": {},
   "outputs": [],
   "source": [
    "filenames = ['D:\\\\GoogleDrive\\\\retina\\\\Chou\\'s data\\\\20200408\\\\20200408_cSTA_sort_unit2']\n",
    "dt = 0.01\n",
    "x_list, T_list, rstate_list = expSnR(filenames, dt, 'LED', [32])\n",
    "i = 0\n",
    "rstate = rstate_list[i][32-1,:]\n",
    "x = x_list[i]\n",
    "\n",
    "cSTA = np.correlate(x , rstate, 'same')/ np.correlate(np.ones_like(x ), rstate, 'same')\n",
    "cSTA = cSTA[int(len(cSTA)/2)+1:int(len(cSTA)/2-0.5/dt)+1:-1]"
   ]
  },
  {
   "cell_type": "code",
   "execution_count": 4,
   "metadata": {},
   "outputs": [
    {
     "data": {
      "text/plain": [
       "[<matplotlib.lines.Line2D at 0x17300699308>]"
      ]
     },
     "execution_count": 4,
     "metadata": {},
     "output_type": "execute_result"
    },
    {
     "data": {
      "image/png": "[encoded data removed]",
      "text/plain": [
       "<Figure size 432x288 with 1 Axes>"
      ]
     },
     "metadata": {
      "needs_background": "light"
     },
     "output_type": "display_data"
    }
   ],
   "source": [
    "taxis = -np.arange(len(cSTA))*dt\n",
    "plt.plot(taxis, cSTA)"
   ]
  },
  {
   "cell_type": "code",
   "execution_count": 5,
   "metadata": {},
   "outputs": [],
   "source": [
    "# plt.plot(taxis, cSTA)\n",
    "# plt.plot(taxis, cSTA1)"
   ]
  },
  {
   "cell_type": "code",
   "execution_count": 6,
   "metadata": {},
   "outputs": [],
   "source": [
    "def NGDcSTA(x, alpha, beta, K, g, tau_y):\n",
    "\n",
    "    stimulus = x.copy()\n",
    "    T = np.arange(0,int(tau_y/dt*8))*dt\n",
    "    Ky=T/tau_y /tau_y *np.exp(-T/tau_y)\n",
    "    sstm = np.zeros_like(stimulus)\n",
    "    for i in range(len(Ky)-1):\n",
    "        for ii in range(i+1):\n",
    "            sstm[i] += stimulus[ii]*Ky[i-ii]*dt\n",
    "        sx = np.convolve(stimulus,Ky,'valid')*dt\n",
    "        sstm[len(Ky)-1:] = sx.copy()\n",
    "\n",
    "    y=np.zeros_like(sstm)\n",
    "    z=np.zeros_like(sstm)\n",
    "    for j in range(len(T_list[0])-1):\n",
    "        dy=dt*(-alpha*y[j]+K*(sstm[j]-z[j]))\n",
    "        dz=dt*(-beta*z[j]+g*y[j])\n",
    "        y[j+1]=y[j]+dy\n",
    "        z[j+1]=z[j]+dz\n",
    "\n",
    "    fcSTA = np.correlate(x , NL(-y,0), 'same')/ np.correlate(np.ones_like(x ), NL(-y,0), 'same')\n",
    "    fcSTA = fcSTA[int(len(fcSTA)/2)+1:int(len(fcSTA)/2-0.5/dt)+1:-1]\n",
    "    return  fcSTA"
   ]
  },
  {
   "cell_type": "code",
   "execution_count": 7,
   "metadata": {},
   "outputs": [
    {
     "data": {
      "text/plain": [
       "[<matplotlib.lines.Line2D at 0x17300755688>]"
      ]
     },
     "execution_count": 7,
     "metadata": {},
     "output_type": "execute_result"
    },
    {
     "data": {
      "image/png": "[encoded data removed]",
      "text/plain": [
       "<Figure size 432x288 with 1 Axes>"
      ]
     },
     "metadata": {
      "needs_background": "light"
     },
     "output_type": "display_data"
    }
   ],
   "source": [
    "alpha = 41. #1/sec\n",
    "beta =  2\n",
    "K = 28.\n",
    "g = 70.\n",
    "phi = 1\n",
    "tau_y = 0.06\n",
    "fcSTA = NGDcSTA(x, alpha, beta, K, g, tau_y)\n",
    "taxis = -np.arange(len(fcSTA))*dt\n",
    "plt.plot(taxis, fcSTA)"
   ]
  },
  {
   "cell_type": "code",
   "execution_count": null,
   "metadata": {},
   "outputs": [],
   "source": [
    "alpha = 30. #1/sec\n",
    "beta =  1.2\n",
    "K = 23.\n",
    "g = 40.\n",
    "phi = 1\n",
    "tau_y = 0.05\n",
    "popt,pcov = curve_fit(NGDcSTA, x, cSTA, p0=[alpha, beta, K, g, tau_y])\n",
    "print(popt)\n",
    "\n",
    "# plt.plot(datax, datay, 'b+:', label='data')\n",
    "# plt.plot(x, Gauss(x, *popt), 'r-', label='fit')\n",
    "# plt.legend()\n",
    "# plt.title('Fig. 3 - Fit for Time Constant')\n",
    "# plt.xlabel('Time (s)')\n",
    "# plt.ylabel('Voltage (V)')\n",
    "# plt.show()"
   ]
  },
  {
   "cell_type": "code",
   "execution_count": null,
   "metadata": {},
   "outputs": [],
   "source": [
    "plt.plot(taxis, cSTA, 'b+:', label='data')\n",
    "plt.plot(taxis, NGDcSTA(x, *popt), 'r-', label='fit')"
   ]
  },
  {
   "cell_type": "code",
   "execution_count": null,
   "metadata": {},
   "outputs": [],
   "source": [
    "[alpha, beta, K, g, tau_y] = popt"
   ]
  },
  {
   "cell_type": "code",
   "execution_count": null,
   "metadata": {},
   "outputs": [],
   "source": []
  }
 ],
 "metadata": {
  "kernelspec": {
   "display_name": "Python 3",
   "language": "python",
   "name": "python3"
  },
  "language_info": {
   "codemirror_mode": {
    "name": "ipython",
    "version": 3
   },
   "file_extension": ".py",
   "mimetype": "text/x-python",
   "name": "python",
   "nbconvert_exporter": "python",
   "pygments_lexer": "ipython3",
   "version": "3.7.6"
  },
  "toc": {
   "base_numbering": 1,
   "nav_menu": {
    "height": "187px",
    "width": "383px"
   },
   "number_sections": true,
   "sideBar": true,
   "skip_h1_title": false,
   "title_cell": "Table of Contents",
   "title_sidebar": "Contents",
   "toc_cell": false,
   "toc_position": {
    "height": "789px",
    "left": "557px",
    "top": "241px",
    "width": "165px"
   },
   "toc_section_display": true,
   "toc_window_display": true
  },
  "varInspector": {
   "cols": {
    "lenName": 16,
    "lenType": 16,
    "lenVar": 40
   },
   "kernels_config": {
    "python": {
     "delete_cmd_postfix": "",
     "delete_cmd_prefix": "del ",
     "library": "var_list.py",
     "varRefreshCmd": "print(var_dic_list())"
    },
    "r": {
     "delete_cmd_postfix": ") ",
     "delete_cmd_prefix": "rm(",
     "library": "var_list.r",
     "varRefreshCmd": "cat(var_dic_list()) "
    }
   },
   "position": {
    "height": "273px",
    "left": "1523px",
    "right": "20px",
    "top": "112px",
    "width": "350px"
   },
   "types_to_exclude": [
    "module",
    "function",
    "builtin_function_or_method",
    "instance",
    "_Feature"
   ],
   "window_display": false
  }
 },
 "nbformat": 4,
 "nbformat_minor": 4
}
