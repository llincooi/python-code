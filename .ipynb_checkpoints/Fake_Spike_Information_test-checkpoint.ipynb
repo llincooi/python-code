{
 "cells": [
  {
   "cell_type": "code",
   "execution_count": 8,
   "metadata": {},
   "outputs": [],
   "source": [
    "import numpy as np\n",
    "import matplotlib.pyplot as plt\n",
    "import math\n",
    "from scipy import signal\n",
    "from scipy.fftpack import fft\n",
    "from scipy import ndimage\n",
    "%matplotlib inline"
   ]
  },
  {
   "cell_type": "code",
   "execution_count": 9,
   "metadata": {},
   "outputs": [],
   "source": [
    "## EqualState assign states with equal possibility for input array x\n",
    "def EqualState(x, num_state):\n",
    "    xs=np.sort(x)\n",
    "    binlen=int(len(x)/num_state-0.5) #round\n",
    "    edges = xs[np.arange(num_state)*binlen]\n",
    "    xstate=np.zeros(len(x))\n",
    "    for i in range(num_state):\n",
    "        xstate[x>=edges[i]] = i\n",
    "    xstate = xstate.astype(int)\n",
    "    return xstate"
   ]
  },
  {
   "cell_type": "code",
   "execution_count": 35,
   "metadata": {},
   "outputs": [],
   "source": [
    "## PIfunc that calculate Unique, Synergy and Redundancy of three unsymmetric varibles\n",
    "def PIfunc(r, x, v, dt, window):\n",
    "    negshift=window[0] # second\n",
    "    posshift=window[1] # second\n",
    "    shiftlen=(posshift-negshift)/dt+1\n",
    "    timeshift=np.linspace(negshift,posshift,int(shiftlen))\n",
    "    bitshift=np.linspace(negshift/dt,posshift/dt,int(shiftlen),dtype = 'int8')\n",
    "    RedunS =np.zeros(len(bitshift))\n",
    "    RedunI =np.zeros(len(bitshift))\n",
    "    MIxr=np.zeros(len(bitshift))\n",
    "    MIvr=np.zeros(len(bitshift))\n",
    "    MIxvR=np.zeros(len(bitshift))\n",
    "    # shifted data\n",
    "    # shift>0 => y shifted to positive side\n",
    "    for i in range(len(bitshift)):\n",
    "        xx=[]\n",
    "        vv=[]\n",
    "        rr=[]\n",
    "        shift=bitshift[i]\n",
    "        if shift>0:\n",
    "            xx=x[shift:]\n",
    "            vv=v[shift:]\n",
    "            rr=r[:-shift]\n",
    "        elif shift==0:\n",
    "            xx=x\n",
    "            vv=v\n",
    "            rr=r\n",
    "        elif shift<0:\n",
    "            xx=x[:shift]\n",
    "            vv=v[:shift]\n",
    "            rr=r[-shift:]\n",
    "        #find weight of each states by 3D histogram \n",
    "        xedges = np.append(np.unique(xx),(max(xx)+1))\n",
    "        vedges = np.append(np.unique(vv),(max(vv)+1))\n",
    "        redges = np.append(np.unique(rr),(max(rr)+1))\n",
    "        dat = np.concatenate((xx[:,np.newaxis], vv[:,np.newaxis],rr[:,np.newaxis]), axis=1)\n",
    "        N, edges = np.histogramdd(dat, bins=(xedges, vedges, redges))\n",
    "        #Calculate all kinds of probability and make sure the shape of them, 0 -> x, 1 -> v, 2 -> r\n",
    "        px=(np.sum(N,axis=(1,2))/np.sum(N))[:, np.newaxis, np.newaxis]\n",
    "        pv=(np.sum(N,axis=(0,2))/np.sum(N))[np.newaxis, :, np.newaxis]\n",
    "        pr=(np.sum(N,axis=(0,1))/np.sum(N))[np.newaxis ,np.newaxis, :]\n",
    "        pxv=(np.sum(N,axis=2)/np.sum(N))[:, :, np.newaxis]\n",
    "        pxr=(np.sum(N,axis=1)/np.sum(N))[:, np.newaxis, :]\n",
    "        pvr=(np.sum(N,axis=0)/np.sum(N))[np.newaxis, :, :]\n",
    "        pxvr=(N/np.sum(N))\n",
    "        \n",
    "        MIxr[i]=np.nansum(pxr*np.log2(pxr/px/pr))/dt\n",
    "        MIvr[i]=np.nansum(pvr*np.log2(pvr/pv/pr))/dt\n",
    "        MIxvR[i]=np.nansum(pxvr*np.log2(pxvr/pxv/pr))/dt\n",
    "        \n",
    "        PS_xR = np.nansum(pxr*np.log2(pxr/px/pr), axis = (0,1))\n",
    "        PS_vR = np.nansum(pvr*np.log2(pvr/pv/pr), axis = (0,1))\n",
    "        PI_xR = -np.nansum(px*np.log2(px))+np.nansum(pxr/pr*np.log2(pxr/pr), axis = (0,1))\n",
    "        PI_vR = -np.nansum(pv*np.log2(pv))+np.nansum(pvr/pr*np.log2(pvr/pr), axis = (0,1))\n",
    "        \n",
    "        RedunS[i] = sum(np.minimum(PS_xR, PS_vR))/dt\n",
    "        RedunI[i] = sum(np.minimum(PI_xR, PI_vR)*np.squeeze(pr))/dt\n",
    "    return timeshift, MIxr, MIvr, MIxvR, RedunS, RedunI"
   ]
  },
  {
   "cell_type": "code",
   "execution_count": 11,
   "metadata": {},
   "outputs": [],
   "source": [
    "def TransferEntropy(x, y, shift):#T(x->y)\n",
    "    xx = x[:-shift]#x_past\n",
    "    vv = y[:-shift]#y_past\n",
    "    rr = y[shift:]#y_present\n",
    "    xedges = np.append(np.unique(xx),(max(xx)+1))\n",
    "    vedges = np.append(np.unique(vv),(max(vv)+1))\n",
    "    redges = np.append(np.unique(rr),(max(rr)+1))\n",
    "    dat = np.concatenate((xx[:,np.newaxis], vv[:,np.newaxis],rr[:,np.newaxis]), axis=1)\n",
    "    N, edges = np.histogramdd(dat, bins=(xedges, vedges, redges))\n",
    "    px=(np.sum(N,axis=(1,2))/np.sum(N))[:, np.newaxis, np.newaxis]\n",
    "    pv=(np.sum(N,axis=(0,2))/np.sum(N))[np.newaxis, :, np.newaxis]\n",
    "    pr=(np.sum(N,axis=(0,1))/np.sum(N))[np.newaxis ,np.newaxis, :]\n",
    "    pxv=(np.sum(N,axis=2)/np.sum(N))[:, :, np.newaxis]\n",
    "    pxr=(np.sum(N,axis=1)/np.sum(N))[:, np.newaxis, :]\n",
    "    pvr=(np.sum(N,axis=0)/np.sum(N))[np.newaxis, :, :]\n",
    "    pxvr=(N/np.sum(N))\n",
    "    \n",
    "    T = np.nansum(pxvr*np.log2(pxvr*pv/pxv/pvr))/dt\n",
    "    return T"
   ]
  },
  {
   "cell_type": "code",
   "execution_count": 12,
   "metadata": {},
   "outputs": [],
   "source": [
    "def  Shannon_entropy(serie):\n",
    "    N , bin_edges = np.histogram(serie, bins=(np.append(np.unique(serie),(max(serie)+1))))\n",
    "    p = N/np.sum(N)\n",
    "    H = np.nansum(-1*p*np.log2(p))\n",
    "    return H"
   ]
  },
  {
   "cell_type": "code",
   "execution_count": 46,
   "metadata": {},
   "outputs": [],
   "source": [
    "#main\n",
    "# OU ; input\n",
    "Tot=300\n",
    "dt=0.01\n",
    "T=np.arange(dt,Tot,dt)\n",
    "tau=1\n",
    "D = 4\n",
    "L=np.zeros(len(T))\n",
    "mu, sigma = 0, 1\n",
    "for i in range(len(T)-1):\n",
    "    L[i+1]=L[i]*(1-dt/tau)+math.sqrt(D*dt)*np.random.normal(mu,sigma)\n",
    "    \n",
    "# filtering for OUSmoothed\n",
    "cutoffFreq = 0.5\n",
    "b, a = signal.butter(2, 2*cutoffFreq*dt, btype='low', analog=False)\n",
    "x = signal.filtfilt(b, a, L)\n",
    "#v = ndimage.gaussian_filter1d(x, sigma=1, order=1, mode='wrap') / dt\n",
    "v = np.diff(x)/dt\n",
    "x=x[1:]\n",
    "v=v[0:] #cut ends.  V(n) = X(n) -X(n-1)\n",
    "T=T[1:]"
   ]
  },
  {
   "cell_type": "code",
   "execution_count": 47,
   "metadata": {},
   "outputs": [
    {
     "data": {
      "image/png": "[encoded data removed]",
      "text/plain": [
       "<Figure size 432x288 with 1 Axes>"
      ]
     },
     "metadata": {
      "needs_background": "light"
     },
     "output_type": "display_data"
    }
   ],
   "source": [
    "##response\n",
    "# Model one: simple estimation\n",
    "deltaT = 0.5\n",
    "r1 = x+v*deltaT\n",
    "\n",
    "# Model Two: negative group delay\n",
    "#following paremeters match x+v*0.5s\n",
    "alpha = 60.\n",
    "beta =  2\n",
    "K = 30.\n",
    "g = 30.\n",
    "#following paremeters match x+v*2s\n",
    "# alpha = 19.9\n",
    "# beta =  0.62\n",
    "# K = 10\n",
    "# g = 30\n",
    "y=np.zeros(len(T))\n",
    "z=np.zeros(len(T))\n",
    "for j in range(len(T)-1):\n",
    "    dy=dt*(-alpha*y[j]+K*(x[j]-z[j]))\n",
    "    dz=dt*(-beta*z[j]+g*y[j])\n",
    "    y[j+1]=y[j]+dy\n",
    "    z[j+1]=z[j]+dz\n",
    "\n",
    "y= y/np.std(y)\n",
    "r1= r1/np.std(r1)\n",
    "plt.plot(T,y)\n",
    "plt.plot(T,r1)\n",
    "plt.xlim(160,203)\n",
    "    \n",
    "#Chose which one to be response\n",
    "r = r1"
   ]
  },
  {
   "cell_type": "code",
   "execution_count": 48,
   "metadata": {},
   "outputs": [],
   "source": [
    "#assign states\n",
    "edges = np.append(min(r), np.array([np.std(r),2*np.std(r),3*np.std(r)])+np.mean(r));\n",
    "rstate=np.zeros(len(r))\n",
    "for i in range(4):\n",
    "    rstate[r>=edges[i]] = i\n",
    "rstate = rstate.astype(int)\n",
    "xstate = EqualState(x, 7)\n",
    "vstate = EqualState(v, 6)"
   ]
  },
  {
   "cell_type": "code",
   "execution_count": 49,
   "metadata": {},
   "outputs": [
    {
     "name": "stderr",
     "output_type": "stream",
     "text": [
      "C:\\Users\\hydro_leo\\anaconda3\\lib\\site-packages\\ipykernel_launcher.py:19: RuntimeWarning: divide by zero encountered in log2\n",
      "C:\\Users\\hydro_leo\\anaconda3\\lib\\site-packages\\ipykernel_launcher.py:19: RuntimeWarning: invalid value encountered in multiply\n",
      "C:\\Users\\hydro_leo\\anaconda3\\lib\\site-packages\\ipykernel_launcher.py:20: RuntimeWarning: divide by zero encountered in log2\n",
      "C:\\Users\\hydro_leo\\anaconda3\\lib\\site-packages\\ipykernel_launcher.py:20: RuntimeWarning: invalid value encountered in multiply\n",
      "C:\\Users\\hydro_leo\\anaconda3\\lib\\site-packages\\ipykernel_launcher.py:21: RuntimeWarning: divide by zero encountered in log2\n",
      "C:\\Users\\hydro_leo\\anaconda3\\lib\\site-packages\\ipykernel_launcher.py:21: RuntimeWarning: invalid value encountered in multiply\n",
      "C:\\Users\\hydro_leo\\anaconda3\\lib\\site-packages\\ipykernel_launcher.py:23: RuntimeWarning: divide by zero encountered in log2\n",
      "C:\\Users\\hydro_leo\\anaconda3\\lib\\site-packages\\ipykernel_launcher.py:23: RuntimeWarning: invalid value encountered in multiply\n",
      "C:\\Users\\hydro_leo\\anaconda3\\lib\\site-packages\\ipykernel_launcher.py:24: RuntimeWarning: divide by zero encountered in log2\n",
      "C:\\Users\\hydro_leo\\anaconda3\\lib\\site-packages\\ipykernel_launcher.py:24: RuntimeWarning: invalid value encountered in multiply\n",
      "C:\\Users\\hydro_leo\\anaconda3\\lib\\site-packages\\ipykernel_launcher.py:25: RuntimeWarning: divide by zero encountered in log2\n",
      "C:\\Users\\hydro_leo\\anaconda3\\lib\\site-packages\\ipykernel_launcher.py:25: RuntimeWarning: invalid value encountered in multiply\n",
      "C:\\Users\\hydro_leo\\anaconda3\\lib\\site-packages\\ipykernel_launcher.py:26: RuntimeWarning: divide by zero encountered in log2\n",
      "C:\\Users\\hydro_leo\\anaconda3\\lib\\site-packages\\ipykernel_launcher.py:26: RuntimeWarning: invalid value encountered in multiply\n"
     ]
    },
    {
     "data": {
      "text/plain": [
       "[<matplotlib.lines.Line2D at 0x1d057c55e88>]"
      ]
     },
     "execution_count": 49,
     "metadata": {},
     "output_type": "execute_result"
    },
    {
     "data": {
      "image/png": "[encoded data removed]",
      "text/plain": [
       "<Figure size 432x288 with 1 Axes>"
      ]
     },
     "metadata": {
      "needs_background": "light"
     },
     "output_type": "display_data"
    }
   ],
   "source": [
    "xx = xstate\n",
    "vv = vstate\n",
    "rr = rstate\n",
    "#find weight of each states by 3D histogram \n",
    "xedges = np.append(np.unique(xx),(max(xx)+1))\n",
    "vedges = np.append(np.unique(vv),(max(vv)+1))\n",
    "redges = np.append(np.unique(rr),(max(rr)+1))\n",
    "dat = np.concatenate((xx[:,np.newaxis], vv[:,np.newaxis],rr[:,np.newaxis]), axis=1)\n",
    "N, edges = np.histogramdd(dat, bins=(xedges, vedges, redges))\n",
    "#Calculate all kinds of probability and make sure the shape of them, 0 -> x, 1 -> v, 2 -> r\n",
    "px=(np.sum(N,axis=(1,2))/np.sum(N))[:, np.newaxis, np.newaxis]\n",
    "pv=(np.sum(N,axis=(0,2))/np.sum(N))[np.newaxis, :, np.newaxis]\n",
    "pr=(np.sum(N,axis=(0,1))/np.sum(N))[np.newaxis ,np.newaxis, :]\n",
    "pxv=(np.sum(N,axis=2)/np.sum(N))[:, :, np.newaxis]\n",
    "pxr=(np.sum(N,axis=1)/np.sum(N))[:, np.newaxis, :]\n",
    "pvr=(np.sum(N,axis=0)/np.sum(N))[np.newaxis, :, :]\n",
    "pxvr=(N/np.sum(N))\n",
    "\n",
    "MIxr=np.nansum(pxr*np.log2(pxr/px/pr))/dt\n",
    "MIvr=np.nansum(pvr*np.log2(pvr/pv/pr))/dt\n",
    "MIxvR=np.nansum(pxvr*np.log2(pxvr/pxv/pr))/dt\n",
    "\n",
    "PS_xR = np.nansum(pxr*np.log2(pxr/px/pr), axis = (0,1))\n",
    "PS_vR = np.nansum(pvr*np.log2(pvr/pv/pr), axis = (0,1))\n",
    "PI_xR = -np.nansum(px*np.log2(px))+np.nansum(pxr/pr*np.log2(pxr/pr), axis = (0,1))\n",
    "PI_vR = -np.nansum(pv*np.log2(pv))+np.nansum(pvr/pr*np.log2(pvr/pr), axis = (0,1))\n",
    "\n",
    "RedunS = sum(np.minimum(PS_xR, PS_vR))/dt\n",
    "RedunI = sum(np.minimum(PI_xR, PI_vR)*np.squeeze(pr))/dt\n",
    "plt.plot(np.minimum(PI_xR, PI_vR)*np.squeeze(pr), 'k-')\n",
    "plt.plot(np.minimum(PS_xR, PS_vR), 'g-')"
   ]
  },
  {
   "cell_type": "code",
   "execution_count": 50,
   "metadata": {},
   "outputs": [
    {
     "name": "stderr",
     "output_type": "stream",
     "text": [
      "C:\\Users\\hydro_leo\\anaconda3\\lib\\site-packages\\ipykernel_launcher.py:47: RuntimeWarning: divide by zero encountered in log2\n",
      "C:\\Users\\hydro_leo\\anaconda3\\lib\\site-packages\\ipykernel_launcher.py:47: RuntimeWarning: invalid value encountered in multiply\n",
      "C:\\Users\\hydro_leo\\anaconda3\\lib\\site-packages\\ipykernel_launcher.py:49: RuntimeWarning: divide by zero encountered in log2\n",
      "C:\\Users\\hydro_leo\\anaconda3\\lib\\site-packages\\ipykernel_launcher.py:49: RuntimeWarning: invalid value encountered in multiply\n",
      "C:\\Users\\hydro_leo\\anaconda3\\lib\\site-packages\\ipykernel_launcher.py:51: RuntimeWarning: divide by zero encountered in log2\n",
      "C:\\Users\\hydro_leo\\anaconda3\\lib\\site-packages\\ipykernel_launcher.py:51: RuntimeWarning: invalid value encountered in multiply\n",
      "C:\\Users\\hydro_leo\\anaconda3\\lib\\site-packages\\ipykernel_launcher.py:53: RuntimeWarning: divide by zero encountered in log2\n",
      "C:\\Users\\hydro_leo\\anaconda3\\lib\\site-packages\\ipykernel_launcher.py:53: RuntimeWarning: invalid value encountered in multiply\n",
      "C:\\Users\\hydro_leo\\anaconda3\\lib\\site-packages\\ipykernel_launcher.py:48: RuntimeWarning: divide by zero encountered in log2\n",
      "C:\\Users\\hydro_leo\\anaconda3\\lib\\site-packages\\ipykernel_launcher.py:48: RuntimeWarning: invalid value encountered in multiply\n",
      "C:\\Users\\hydro_leo\\anaconda3\\lib\\site-packages\\ipykernel_launcher.py:52: RuntimeWarning: divide by zero encountered in log2\n",
      "C:\\Users\\hydro_leo\\anaconda3\\lib\\site-packages\\ipykernel_launcher.py:52: RuntimeWarning: invalid value encountered in multiply\n",
      "C:\\Users\\hydro_leo\\anaconda3\\lib\\site-packages\\ipykernel_launcher.py:54: RuntimeWarning: divide by zero encountered in log2\n",
      "C:\\Users\\hydro_leo\\anaconda3\\lib\\site-packages\\ipykernel_launcher.py:54: RuntimeWarning: invalid value encountered in multiply\n"
     ]
    }
   ],
   "source": [
    "#calculate information\n",
    "window = [-1,1] # second\n",
    "timeshift, MI1, MI2, MIjoint, RedunS, RedunI = PIfunc(rstate, xstate, vstate, dt, window)\n",
    "I3 = -(MIjoint-MI1-MI2)\n",
    "# print(I3)\n",
    "# print(MIjoint)\n",
    "# print(RedunS)\n",
    "# print(RedunI)"
   ]
  },
  {
   "cell_type": "code",
   "execution_count": 41,
   "metadata": {},
   "outputs": [
    {
     "data": {
      "text/plain": [
       "[<matplotlib.lines.Line2D at 0x1d0579f2288>]"
      ]
     },
     "execution_count": 41,
     "metadata": {},
     "output_type": "execute_result"
    },
    {
     "data": {
      "image/png": "[encoded data removed]",
      "text/plain": [
       "<Figure size 432x288 with 1 Axes>"
      ]
     },
     "metadata": {
      "needs_background": "light"
     },
     "output_type": "display_data"
    }
   ],
   "source": [
    "plt.plot(timeshift,RedunI, 'k-')\n"
   ]
  },
  {
   "cell_type": "code",
   "execution_count": 9,
   "metadata": {},
   "outputs": [
    {
     "name": "stdout",
     "output_type": "stream",
     "text": [
      "[-14.72762343]\n",
      "[36.08769873]\n",
      "[1.27477502]\n"
     ]
    },
    {
     "name": "stderr",
     "output_type": "stream",
     "text": [
      "C:\\Users\\llinc\\anaconda3\\lib\\site-packages\\ipykernel_launcher.py:44: RuntimeWarning: divide by zero encountered in log2\n",
      "C:\\Users\\llinc\\anaconda3\\lib\\site-packages\\ipykernel_launcher.py:44: RuntimeWarning: invalid value encountered in multiply\n",
      "C:\\Users\\llinc\\anaconda3\\lib\\site-packages\\ipykernel_launcher.py:46: RuntimeWarning: invalid value encountered in true_divide\n",
      "C:\\Users\\llinc\\anaconda3\\lib\\site-packages\\ipykernel_launcher.py:46: RuntimeWarning: divide by zero encountered in log2\n",
      "C:\\Users\\llinc\\anaconda3\\lib\\site-packages\\ipykernel_launcher.py:46: RuntimeWarning: invalid value encountered in multiply\n",
      "C:\\Users\\llinc\\anaconda3\\lib\\site-packages\\ipykernel_launcher.py:48: RuntimeWarning: divide by zero encountered in log2\n",
      "C:\\Users\\llinc\\anaconda3\\lib\\site-packages\\ipykernel_launcher.py:48: RuntimeWarning: invalid value encountered in multiply\n"
     ]
    }
   ],
   "source": [
    "#calculate information\n",
    "window = [0,0] # second\n",
    "timeshift, MI1, MI2, MIjoint, Redun = PIfunc(xstate, rstate, vstate, dt, window)\n",
    "I3 = -(MIjoint-MI1-MI2)\n",
    "print(I3)\n",
    "print(MIjoint)\n",
    "print(Redun)"
   ]
  },
  {
   "cell_type": "code",
   "execution_count": 10,
   "metadata": {},
   "outputs": [
    {
     "name": "stdout",
     "output_type": "stream",
     "text": [
      "[-14.72762343]\n",
      "[31.3415904]\n",
      "[1.13550414]\n"
     ]
    },
    {
     "name": "stderr",
     "output_type": "stream",
     "text": [
      "C:\\Users\\llinc\\anaconda3\\lib\\site-packages\\ipykernel_launcher.py:45: RuntimeWarning: divide by zero encountered in log2\n",
      "C:\\Users\\llinc\\anaconda3\\lib\\site-packages\\ipykernel_launcher.py:45: RuntimeWarning: invalid value encountered in multiply\n",
      "C:\\Users\\llinc\\anaconda3\\lib\\site-packages\\ipykernel_launcher.py:46: RuntimeWarning: invalid value encountered in true_divide\n",
      "C:\\Users\\llinc\\anaconda3\\lib\\site-packages\\ipykernel_launcher.py:46: RuntimeWarning: divide by zero encountered in log2\n",
      "C:\\Users\\llinc\\anaconda3\\lib\\site-packages\\ipykernel_launcher.py:46: RuntimeWarning: invalid value encountered in multiply\n",
      "C:\\Users\\llinc\\anaconda3\\lib\\site-packages\\ipykernel_launcher.py:49: RuntimeWarning: divide by zero encountered in log2\n",
      "C:\\Users\\llinc\\anaconda3\\lib\\site-packages\\ipykernel_launcher.py:49: RuntimeWarning: invalid value encountered in multiply\n"
     ]
    }
   ],
   "source": [
    "#calculate information\n",
    "window = [0,0] # second\n",
    "timeshift, MI1, MI2, MIjoint, Redun = PIfunc(vstate, xstate, rstate, dt, window)\n",
    "I3 = -(MIjoint-MI1-MI2)\n",
    "print(I3)\n",
    "print(MIjoint)\n",
    "print(Redun)"
   ]
  },
  {
   "cell_type": "code",
   "execution_count": 16,
   "metadata": {},
   "outputs": [
    {
     "name": "stderr",
     "output_type": "stream",
     "text": [
      "C:\\Users\\llinc\\anaconda3\\lib\\site-packages\\ipykernel_launcher.py:47: RuntimeWarning: divide by zero encountered in log2\n",
      "C:\\Users\\llinc\\anaconda3\\lib\\site-packages\\ipykernel_launcher.py:47: RuntimeWarning: invalid value encountered in multiply\n",
      "C:\\Users\\llinc\\anaconda3\\lib\\site-packages\\ipykernel_launcher.py:48: RuntimeWarning: divide by zero encountered in log2\n",
      "C:\\Users\\llinc\\anaconda3\\lib\\site-packages\\ipykernel_launcher.py:48: RuntimeWarning: invalid value encountered in multiply\n",
      "C:\\Users\\llinc\\anaconda3\\lib\\site-packages\\ipykernel_launcher.py:51: RuntimeWarning: divide by zero encountered in log2\n",
      "C:\\Users\\llinc\\anaconda3\\lib\\site-packages\\ipykernel_launcher.py:51: RuntimeWarning: invalid value encountered in multiply\n"
     ]
    }
   ],
   "source": [
    "#calculate information\n",
    "window = [-0,0] # second\n",
    "dt=1\n",
    "#calculate TE by partial information method\n",
    "timeshift, MIx, MIv, MIjoint, Redun = PIfunc(xstate[1:], vstate[:-1], xstate[:-1], dt, window)\n",
    "\n",
    "Ux = MIx-Redun\n",
    "Uv = MIv-Redun\n",
    "Syner = MIjoint-MIx-MIv+Redun\n",
    "#T(x->y) = U(x_past,y)+S([x_past,y_past],y)\n",
    "Txy= Syner+Ux"
   ]
  },
  {
   "cell_type": "code",
   "execution_count": 17,
   "metadata": {},
   "outputs": [
    {
     "name": "stdout",
     "output_type": "stream",
     "text": [
      "0.03683043042270394\n",
      "[0.03683043]\n"
     ]
    },
    {
     "name": "stderr",
     "output_type": "stream",
     "text": [
      "C:\\Users\\llinc\\anaconda3\\lib\\site-packages\\ipykernel_launcher.py:18: RuntimeWarning: invalid value encountered in true_divide\n",
      "C:\\Users\\llinc\\anaconda3\\lib\\site-packages\\ipykernel_launcher.py:18: RuntimeWarning: divide by zero encountered in log2\n",
      "C:\\Users\\llinc\\anaconda3\\lib\\site-packages\\ipykernel_launcher.py:18: RuntimeWarning: invalid value encountered in multiply\n"
     ]
    }
   ],
   "source": [
    "print(TransferEntropy(vstate, xstate, 1))\n",
    "print(Txy)"
   ]
  },
  {
   "cell_type": "code",
   "execution_count": 34,
   "metadata": {},
   "outputs": [],
   "source": [
    "RedunI = sum(np.minimum(PI_xR, PI_vR)*np.squeeze(pr))/dt"
   ]
  },
  {
   "cell_type": "code",
   "execution_count": 12,
   "metadata": {},
   "outputs": [
    {
     "data": {
      "text/plain": [
       "-14.727623430060476"
      ]
     },
     "execution_count": 12,
     "metadata": {},
     "output_type": "execute_result"
    }
   ],
   "source": [
    "Hx = Shannon_entropy(xx)/dt\n",
    "Hv = Shannon_entropy(vv)/dt\n",
    "Hr = Shannon_entropy(rr)/dt\n",
    "Hxv = Shannon_entropy(xv)/dt\n",
    "Hxr = Shannon_entropy(xr)/dt\n",
    "Hvr = Shannon_entropy(vr)/dt\n",
    "xvr = (max(xv)+1)*rr+xv\n",
    "Hxvr = Shannon_entropy(xvr)/dt\n",
    "Ixvr = Hx+Hv+Hr-(Hxv+Hvr+Hxr)+Hxvr\n",
    "Ixvr"
   ]
  },
  {
   "cell_type": "code",
   "execution_count": 13,
   "metadata": {},
   "outputs": [],
   "source": [
    "px=np.sum(pxr,axis=1)\n",
    "pv=np.sum(pvr,axis=1)\n",
    "pr=np.sum(pxr,axis=0)\n",
    "\n",
    "P_xv=np.sum(prxv,axis=1)\n",
    "P_vr=np.sum(pxvr,axis=1)\n",
    "P_rv=np.sum(pxrv,axis=1)\n",
    "P_xr=np.sum(pvxr,axis=1)"
   ]
  },
  {
   "cell_type": "code",
   "execution_count": 14,
   "metadata": {},
   "outputs": [
    {
     "name": "stdout",
     "output_type": "stream",
     "text": [
      "1.4421162309315636 1.4421162309315605\n",
      "15.171850738185805 15.17185073818581\n",
      "15.171850738185807 15.17185073818581\n",
      "19.917959070240947 19.917959070240954\n"
     ]
    },
    {
     "name": "stderr",
     "output_type": "stream",
     "text": [
      "C:\\Users\\llinc\\anaconda3\\lib\\site-packages\\ipykernel_launcher.py:1: RuntimeWarning: divide by zero encountered in log2\n",
      "  \"\"\"Entry point for launching an IPython kernel.\n",
      "C:\\Users\\llinc\\anaconda3\\lib\\site-packages\\ipykernel_launcher.py:1: RuntimeWarning: invalid value encountered in multiply\n",
      "  \"\"\"Entry point for launching an IPython kernel.\n",
      "C:\\Users\\llinc\\anaconda3\\lib\\site-packages\\ipykernel_launcher.py:2: RuntimeWarning: divide by zero encountered in log2\n",
      "  \n",
      "C:\\Users\\llinc\\anaconda3\\lib\\site-packages\\ipykernel_launcher.py:2: RuntimeWarning: invalid value encountered in multiply\n",
      "  \n",
      "C:\\Users\\llinc\\anaconda3\\lib\\site-packages\\ipykernel_launcher.py:3: RuntimeWarning: divide by zero encountered in log2\n",
      "  This is separate from the ipykernel package so we can avoid doing imports until\n",
      "C:\\Users\\llinc\\anaconda3\\lib\\site-packages\\ipykernel_launcher.py:3: RuntimeWarning: invalid value encountered in multiply\n",
      "  This is separate from the ipykernel package so we can avoid doing imports until\n"
     ]
    }
   ],
   "source": [
    "MIxr=np.nansum(pxr*np.log2(pxr/px.reshape(-1,1)/pr))/dt\n",
    "MIvr=np.nansum(pvr*np.log2(pvr/pv.reshape(-1,1)/pr))/dt\n",
    "MIrv=np.nansum(prv*np.log2(prv/pr.reshape(-1,1)/pv))/dt\n",
    "MIxv=np.nansum(pxv*np.log2(pxv/px.reshape(-1,1)/pv))/dt\n",
    "print(MIxv, Hx+Hv-Hxv)\n",
    "print(MIvr, Hr+Hv-Hvr)\n",
    "print(MIrv, Hr+Hv-Hvr)\n",
    "print(MIxr, Hx+Hr-Hxr)"
   ]
  },
  {
   "cell_type": "code",
   "execution_count": 15,
   "metadata": {},
   "outputs": [
    {
     "name": "stdout",
     "output_type": "stream",
     "text": [
      "36.08769873123288\n",
      "31.341590399177676\n",
      "49.817433238486956\n"
     ]
    }
   ],
   "source": [
    "print(Hx+Hvr-Hxvr)\n",
    "print(Hxr+Hv-Hxvr)\n",
    "print(Hxv+Hr-Hxvr)"
   ]
  },
  {
   "cell_type": "code",
   "execution_count": null,
   "metadata": {},
   "outputs": [],
   "source": []
  },
  {
   "cell_type": "code",
   "execution_count": null,
   "metadata": {},
   "outputs": [],
   "source": []
  },
  {
   "cell_type": "code",
   "execution_count": null,
   "metadata": {},
   "outputs": [],
   "source": []
  },
  {
   "cell_type": "code",
   "execution_count": null,
   "metadata": {},
   "outputs": [],
   "source": []
  },
  {
   "cell_type": "code",
   "execution_count": null,
   "metadata": {},
   "outputs": [],
   "source": []
  },
  {
   "cell_type": "code",
   "execution_count": 16,
   "metadata": {},
   "outputs": [
    {
     "name": "stdout",
     "output_type": "stream",
     "text": [
      "[[0.16584439 0.00080005 0.        ]\n",
      " [0.1609774  0.00566704 0.        ]\n",
      " [0.15851057 0.00770051 0.00043336]\n",
      " [0.14997667 0.01533436 0.00133342]\n",
      " [0.13170878 0.03226882 0.00266684]\n",
      " [0.0860724  0.06020401 0.02050137]]\n",
      "[[0.16584439 0.00080005 0.        ]\n",
      " [0.1609774  0.00566704 0.        ]\n",
      " [0.15851057 0.00770051 0.00043336]\n",
      " [0.14997667 0.01533436 0.00133342]\n",
      " [0.13170878 0.03226882 0.00266684]\n",
      " [0.0860724  0.06020401 0.02050137]]\n",
      "[0.16584439 0.00040003 0.1609774  0.00283352 0.15851057 0.00770051\n",
      " 0.00043336 0.14997667 0.01533436 0.00133342 0.13170878 0.03226882\n",
      " 0.00266684 0.0860724  0.06020401 0.02050137]\n",
      "[0.16584439 0.1609774  0.15851057 0.14997667 0.13170878 0.0860724\n",
      " 0.00080005 0.00566704 0.00770051 0.01533436 0.03226882 0.020068\n",
      " 0.00043336 0.00133342 0.00266684 0.02050137]\n"
     ]
    }
   ],
   "source": [
    "print(pvr)\n",
    "print(prv.T)\n",
    "print(P_vr)\n",
    "print(P_rv)"
   ]
  },
  {
   "cell_type": "code",
   "execution_count": 17,
   "metadata": {},
   "outputs": [],
   "source": [
    "pj = prv.reshape(1,-1)\n",
    "pj = pj[np.where(pj)]"
   ]
  },
  {
   "cell_type": "code",
   "execution_count": 18,
   "metadata": {},
   "outputs": [
    {
     "data": {
      "text/plain": [
       "array([ 0.00000000e+00,  2.77555756e-17,  0.00000000e+00,  0.00000000e+00,\n",
       "        0.00000000e+00,  1.38777878e-17,  0.00000000e+00,  0.00000000e+00,\n",
       "        0.00000000e+00,  0.00000000e+00, -6.93889390e-18,  4.01360091e-02,\n",
       "        0.00000000e+00,  0.00000000e+00,  0.00000000e+00,  0.00000000e+00])"
      ]
     },
     "execution_count": 18,
     "metadata": {},
     "output_type": "execute_result"
    }
   ],
   "source": [
    "pj-P_rv"
   ]
  },
  {
   "cell_type": "code",
   "execution_count": 19,
   "metadata": {},
   "outputs": [
    {
     "name": "stdout",
     "output_type": "stream",
     "text": [
      "5.556277702528092 0.9967664510967398\n",
      "5.57830658292235 1.0\n",
      "5.557107517975964 0.9970998066537768\n"
     ]
    },
    {
     "name": "stderr",
     "output_type": "stream",
     "text": [
      "C:\\Users\\llinc\\anaconda3\\lib\\site-packages\\ipykernel_launcher.py:2: RuntimeWarning: divide by zero encountered in log2\n",
      "  \n",
      "C:\\Users\\llinc\\anaconda3\\lib\\site-packages\\ipykernel_launcher.py:2: RuntimeWarning: invalid value encountered in multiply\n",
      "  \n",
      "C:\\Users\\llinc\\anaconda3\\lib\\site-packages\\ipykernel_launcher.py:4: RuntimeWarning: divide by zero encountered in log2\n",
      "  after removing the cwd from sys.path.\n",
      "C:\\Users\\llinc\\anaconda3\\lib\\site-packages\\ipykernel_launcher.py:4: RuntimeWarning: invalid value encountered in multiply\n",
      "  after removing the cwd from sys.path.\n",
      "C:\\Users\\llinc\\anaconda3\\lib\\site-packages\\ipykernel_launcher.py:6: RuntimeWarning: divide by zero encountered in log2\n",
      "  \n",
      "C:\\Users\\llinc\\anaconda3\\lib\\site-packages\\ipykernel_launcher.py:6: RuntimeWarning: invalid value encountered in multiply\n",
      "  \n"
     ]
    },
    {
     "data": {
      "text/plain": [
       "557.8306582922351"
      ]
     },
     "execution_count": 19,
     "metadata": {},
     "output_type": "execute_result"
    }
   ],
   "source": [
    "pj = pxvr\n",
    "print(-np.nansum(pj*np.log2(pj)), np.sum(pj))\n",
    "pj = prxv\n",
    "print(-np.nansum(pj*np.log2(pj)), np.sum(pj))\n",
    "pj = pvxr\n",
    "print(-np.nansum(pj*np.log2(pj)), np.sum(pj))\n",
    "Hxvr"
   ]
  },
  {
   "cell_type": "code",
   "execution_count": 20,
   "metadata": {},
   "outputs": [
    {
     "data": {
      "text/plain": [
       "array([1.42642843e-01, 1.66677779e-04, 1.41709447e-01, 1.10007334e-03,\n",
       "       1.38275885e-01, 4.53363558e-03, 1.34642309e-01, 8.06720448e-03,\n",
       "       1.00006667e-04, 1.27775185e-01, 1.45343023e-02, 5.00033336e-04,\n",
       "       1.05773718e-01, 3.44356290e-02, 2.60017334e-03, 6.22708181e-02,\n",
       "       5.91372758e-02, 2.17347823e-02])"
      ]
     },
     "execution_count": 20,
     "metadata": {},
     "output_type": "execute_result"
    }
   ],
   "source": [
    "serie = xr\n",
    "N , bin_edges = np.histogram(serie, bins=(np.append(np.unique(serie),(max(serie)+1))))\n",
    "p = N/np.sum(N)\n",
    "p"
   ]
  },
  {
   "cell_type": "code",
   "execution_count": 21,
   "metadata": {},
   "outputs": [
    {
     "name": "stdout",
     "output_type": "stream",
     "text": [
      "3.306760050309903 330.6760050309903\n"
     ]
    },
    {
     "name": "stderr",
     "output_type": "stream",
     "text": [
      "C:\\Users\\llinc\\anaconda3\\lib\\site-packages\\ipykernel_launcher.py:1: RuntimeWarning: divide by zero encountered in log2\n",
      "  \"\"\"Entry point for launching an IPython kernel.\n",
      "C:\\Users\\llinc\\anaconda3\\lib\\site-packages\\ipykernel_launcher.py:1: RuntimeWarning: invalid value encountered in multiply\n",
      "  \"\"\"Entry point for launching an IPython kernel.\n"
     ]
    }
   ],
   "source": [
    "print(-np.nansum(pxr*np.log2(pxr)), Hxr)"
   ]
  },
  {
   "cell_type": "code",
   "execution_count": 22,
   "metadata": {},
   "outputs": [
    {
     "data": {
      "text/plain": [
       "array([-2.77555756e-17, -8.33388893e-05,  0.00000000e+00, -5.50036669e-04,\n",
       "        0.00000000e+00, -2.26681779e-03,  0.00000000e+00,  0.00000000e+00,\n",
       "        0.00000000e+00,  0.00000000e+00,  0.00000000e+00,  0.00000000e+00,\n",
       "        0.00000000e+00,  0.00000000e+00,  0.00000000e+00,  0.00000000e+00,\n",
       "        0.00000000e+00,  0.00000000e+00])"
      ]
     },
     "execution_count": 22,
     "metadata": {},
     "output_type": "execute_result"
    }
   ],
   "source": [
    "P_xr-p"
   ]
  },
  {
   "cell_type": "code",
   "execution_count": 23,
   "metadata": {},
   "outputs": [
    {
     "name": "stderr",
     "output_type": "stream",
     "text": [
      "C:\\Users\\llinc\\anaconda3\\lib\\site-packages\\ipykernel_launcher.py:1: RuntimeWarning: divide by zero encountered in log2\n",
      "  \"\"\"Entry point for launching an IPython kernel.\n",
      "C:\\Users\\llinc\\anaconda3\\lib\\site-packages\\ipykernel_launcher.py:1: RuntimeWarning: invalid value encountered in double_scalars\n",
      "  \"\"\"Entry point for launching an IPython kernel.\n"
     ]
    },
    {
     "data": {
      "text/plain": [
       "nan"
      ]
     },
     "execution_count": 23,
     "metadata": {},
     "output_type": "execute_result"
    }
   ],
   "source": [
    "0*np.log2(0)"
   ]
  },
  {
   "cell_type": "code",
   "execution_count": 24,
   "metadata": {},
   "outputs": [],
   "source": [
    "pj, xedges, yedges = np.histogram2d(xx, vv, bins=(np.append(np.unique(xx),(max(xx)+1)),np.append(np.unique(vv),(max(vv)+1))), density = True)"
   ]
  },
  {
   "cell_type": "code",
   "execution_count": 25,
   "metadata": {},
   "outputs": [
    {
     "data": {
      "text/plain": [
       "(42, 1)"
      ]
     },
     "execution_count": 25,
     "metadata": {},
     "output_type": "execute_result"
    }
   ],
   "source": [
    "np.shape(pj.reshape(-1,1))"
   ]
  },
  {
   "cell_type": "code",
   "execution_count": 26,
   "metadata": {},
   "outputs": [
    {
     "data": {
      "text/plain": [
       "array([[0.02283486, 0.02813521, 0.02226815, 0.0215681 , 0.02283486,\n",
       "        0.02516834],\n",
       "       [0.02533502, 0.02396826, 0.02206814, 0.02500167, 0.01886792,\n",
       "        0.0275685 ],\n",
       "       [0.02726848, 0.02426828, 0.019968  , 0.01590106, 0.02940196,\n",
       "        0.02600173],\n",
       "       [0.02190146, 0.02153477, 0.02576838, 0.02903527, 0.02543503,\n",
       "        0.01913461],\n",
       "       [0.01966798, 0.02150143, 0.02796853, 0.0334689 , 0.0230682 ,\n",
       "        0.01713448],\n",
       "       [0.02460164, 0.02376825, 0.02406827, 0.02140143, 0.02293486,\n",
       "        0.02603507],\n",
       "       [0.025035  , 0.02346823, 0.02453497, 0.02026802, 0.02410161,\n",
       "        0.02573505]])"
      ]
     },
     "execution_count": 26,
     "metadata": {},
     "output_type": "execute_result"
    }
   ],
   "source": [
    "pj"
   ]
  },
  {
   "cell_type": "code",
   "execution_count": 27,
   "metadata": {},
   "outputs": [
    {
     "data": {
      "text/plain": [
       "array([ 0,  1,  2,  3,  4,  5,  6,  7,  8,  9, 10, 11, 12, 13, 14, 15, 16,\n",
       "       17, 18, 19, 20, 21, 22, 23, 24, 25, 26, 27, 28, 29, 30, 31, 32, 33,\n",
       "       34, 35, 36, 37, 38, 39, 40, 41])"
      ]
     },
     "execution_count": 27,
     "metadata": {},
     "output_type": "execute_result"
    }
   ],
   "source": [
    "np.unique(xv)"
   ]
  },
  {
   "cell_type": "code",
   "execution_count": 28,
   "metadata": {},
   "outputs": [],
   "source": [
    "a = np.array([0, 1, 0, 1,1,1,1,11,1,1,0])\n",
    "a = a[np.where(a)]"
   ]
  },
  {
   "cell_type": "code",
   "execution_count": 29,
   "metadata": {},
   "outputs": [],
   "source": [
    "xedges = np.append(np.unique(xx),(max(xx)+1))\n",
    "vedges = np.append(np.unique(vv),(max(vv)+1))\n",
    "redges = np.append(np.unique(rr),(max(rr)+1))\n",
    "dat = np.concatenate((xx[:,np.newaxis], vv[:,np.newaxis],rr[:,np.newaxis]), axis=1)\n",
    "N, edges = np.histogramdd(dat, bins=(xedges, vedges, redges))"
   ]
  },
  {
   "cell_type": "code",
   "execution_count": 30,
   "metadata": {},
   "outputs": [
    {
     "data": {
      "text/plain": [
       "(7, 1, 3)"
      ]
     },
     "execution_count": 30,
     "metadata": {},
     "output_type": "execute_result"
    }
   ],
   "source": [
    "np.shape(np.sum(N,axis=1)[:,np.newaxis,:])"
   ]
  },
  {
   "cell_type": "code",
   "execution_count": 31,
   "metadata": {},
   "outputs": [
    {
     "data": {
      "text/plain": [
       "(1, 6, 3)"
      ]
     },
     "execution_count": 31,
     "metadata": {},
     "output_type": "execute_result"
    }
   ],
   "source": [
    "np.shape(np.sum(N,axis=0)[np.newaxis,:,:])"
   ]
  },
  {
   "cell_type": "code",
   "execution_count": 32,
   "metadata": {},
   "outputs": [
    {
     "data": {
      "text/plain": [
       "(7, 6, 1)"
      ]
     },
     "execution_count": 32,
     "metadata": {},
     "output_type": "execute_result"
    }
   ],
   "source": [
    "np.shape(np.sum(N,axis=2)[:,:,np.newaxis])"
   ]
  },
  {
   "cell_type": "code",
   "execution_count": 33,
   "metadata": {},
   "outputs": [
    {
     "data": {
      "text/plain": [
       "masked_array(data=[0, 1, 2],\n",
       "             mask=False,\n",
       "       fill_value=999999)"
      ]
     },
     "execution_count": 33,
     "metadata": {},
     "output_type": "execute_result"
    }
   ],
   "source": [
    "np.ma.arange(3)"
   ]
  },
  {
   "cell_type": "code",
   "execution_count": 34,
   "metadata": {},
   "outputs": [
    {
     "data": {
      "text/plain": [
       "array([[1, 2],\n",
       "       [5, 6]])"
      ]
     },
     "execution_count": 34,
     "metadata": {},
     "output_type": "execute_result"
    }
   ],
   "source": [
    "a = np.array([[1, 2]])\n",
    "b = np.array([[5, 6]])\n",
    "np.concatenate((a, b), axis=0)"
   ]
  },
  {
   "cell_type": "code",
   "execution_count": 35,
   "metadata": {},
   "outputs": [
    {
     "data": {
      "text/plain": [
       "array([[0, 0, 0, ..., 0, 0, 0]])"
      ]
     },
     "execution_count": 35,
     "metadata": {},
     "output_type": "execute_result"
    }
   ],
   "source": [
    "np.array([rr])"
   ]
  },
  {
   "cell_type": "code",
   "execution_count": null,
   "metadata": {},
   "outputs": [],
   "source": []
  },
  {
   "cell_type": "code",
   "execution_count": 36,
   "metadata": {},
   "outputs": [],
   "source": [
    "np.newaxis"
   ]
  },
  {
   "cell_type": "code",
   "execution_count": 37,
   "metadata": {},
   "outputs": [
    {
     "data": {
      "text/plain": [
       "(29998, 1, 1)"
      ]
     },
     "execution_count": 37,
     "metadata": {},
     "output_type": "execute_result"
    }
   ],
   "source": [
    "xxx = xx[:,np.newaxis]\n",
    "np.shape(xxx[:,np.newaxis])"
   ]
  },
  {
   "cell_type": "code",
   "execution_count": 38,
   "metadata": {},
   "outputs": [
    {
     "data": {
      "text/plain": [
       "array([6, 6, 6, ..., 2, 2, 2])"
      ]
     },
     "execution_count": 38,
     "metadata": {},
     "output_type": "execute_result"
    }
   ],
   "source": [
    "xx"
   ]
  },
  {
   "cell_type": "code",
   "execution_count": 39,
   "metadata": {},
   "outputs": [],
   "source": [
    "r = np.random.randn(5,3)\n",
    "rrr=r[:,np.newaxis,:]"
   ]
  },
  {
   "cell_type": "code",
   "execution_count": 40,
   "metadata": {},
   "outputs": [
    {
     "data": {
      "text/plain": [
       "array([[ 0.93967306,  0.48669824, -0.01708656],\n",
       "       [-0.82207495, -0.81833979, -0.2149464 ],\n",
       "       [ 0.03505943, -0.48642769,  2.43273929],\n",
       "       [-0.79454841,  0.8228676 , -1.75420575],\n",
       "       [-0.56429967, -2.94009374, -0.29673373]])"
      ]
     },
     "execution_count": 40,
     "metadata": {},
     "output_type": "execute_result"
    }
   ],
   "source": [
    "r"
   ]
  },
  {
   "cell_type": "code",
   "execution_count": 41,
   "metadata": {},
   "outputs": [
    {
     "data": {
      "text/plain": [
       "-1.7542057499131962"
      ]
     },
     "execution_count": 41,
     "metadata": {},
     "output_type": "execute_result"
    }
   ],
   "source": [
    "r[3,2]"
   ]
  },
  {
   "cell_type": "code",
   "execution_count": 42,
   "metadata": {},
   "outputs": [
    {
     "ename": "IndexError",
     "evalue": "index 3 is out of bounds for axis 2 with size 3",
     "output_type": "error",
     "traceback": [
      "\u001b[1;31m---------------------------------------------------------------------------\u001b[0m",
      "\u001b[1;31mIndexError\u001b[0m                                Traceback (most recent call last)",
      "\u001b[1;32m<ipython-input-42-56265801b2bc>\u001b[0m in \u001b[0;36m<module>\u001b[1;34m\u001b[0m\n\u001b[1;32m----> 1\u001b[1;33m \u001b[0mrrr\u001b[0m\u001b[1;33m[\u001b[0m\u001b[1;36m2\u001b[0m\u001b[1;33m,\u001b[0m\u001b[1;36m0\u001b[0m\u001b[1;33m,\u001b[0m\u001b[1;36m3\u001b[0m\u001b[1;33m]\u001b[0m\u001b[1;33m\u001b[0m\u001b[1;33m\u001b[0m\u001b[0m\n\u001b[0m",
      "\u001b[1;31mIndexError\u001b[0m: index 3 is out of bounds for axis 2 with size 3"
     ]
    }
   ],
   "source": [
    "rrr[2,0,3]"
   ]
  },
  {
   "cell_type": "code",
   "execution_count": null,
   "metadata": {},
   "outputs": [],
   "source": [
    "xedges = np.append(np.unique(xx),(max(xx)+1))\n",
    "vedges = np.append(np.unique(vv),(max(vv)+1))\n",
    "redges = np.append(np.unique(rr),(max(rr)+1))\n",
    "dat = np.concatenate((xx[:,np.newaxis], vv[:,np.newaxis],rr[:,np.newaxis]), axis=1)\n",
    "N, edges = np.histogramdd(dat, bins=(xedges, vedges, redges))\n",
    "px=(np.sum(N,axis=(1,2))/np.sum(N))[:, np.newaxis, np.newaxis]\n",
    "pv=(np.sum(N,axis=(0,2))/np.sum(N))[np.newaxis, :, np.newaxis]\n",
    "pr=(np.sum(N,axis=(0,1))/np.sum(N))[np.newaxis ,np.newaxis, :]\n",
    "pxv=(np.sum(N,axis=(2))/np.sum(N))[:, :, np.newaxis]\n",
    "pxr=(np.sum(N,axis=(1))/np.sum(N))[:, np.newaxis, :]\n",
    "pvr=(np.sum(N,axis=(0))/np.sum(N))[np.newaxis, :, :]\n",
    "pxvr=(N/np.sum(N))\n",
    "\n",
    "np.nansum(pxr*np.log2(pxr/px/pr))/dt"
   ]
  },
  {
   "cell_type": "code",
   "execution_count": null,
   "metadata": {},
   "outputs": [],
   "source": [
    "pr.dtype"
   ]
  },
  {
   "cell_type": "code",
   "execution_count": null,
   "metadata": {},
   "outputs": [],
   "source": [
    "np.shape(PI_vR)"
   ]
  },
  {
   "cell_type": "code",
   "execution_count": null,
   "metadata": {},
   "outputs": [],
   "source": []
  }
 ],
 "metadata": {
  "kernelspec": {
   "display_name": "Python 3",
   "language": "python",
   "name": "python3"
  },
  "language_info": {
   "codemirror_mode": {
    "name": "ipython",
    "version": 3
   },
   "file_extension": ".py",
   "mimetype": "text/x-python",
   "name": "python",
   "nbconvert_exporter": "python",
   "pygments_lexer": "ipython3",
   "version": "3.7.6"
  }
 },
 "nbformat": 4,
 "nbformat_minor": 4
}
