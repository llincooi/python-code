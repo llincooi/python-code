{
 "cells": [
  {
   "cell_type": "markdown",
   "metadata": {},
   "source": [
    "You can perform PID on MI(r;(x,v)), and compare the result of different 'x'.\n",
    "'x' can from experimental data or produce in this code for different Tau (Gramma) or cutoff frequency\n",
    "'r' can be real responses of RGC or from NGD or from x+$\\Delta$*v.\n",
    "Using 20200408 Chou's data, unit2."
   ]
  },
  {
   "cell_type": "markdown",
   "metadata": {},
   "source": [
    "# Functions"
   ]
  },
  {
   "cell_type": "code",
   "execution_count": 1,
   "metadata": {
    "run_control": {
     "marked": true
    }
   },
   "outputs": [],
   "source": [
    "import numpy as np\n",
    "import matplotlib.pyplot as plt\n",
    "from mpl_toolkits import mplot3d\n",
    "from matplotlib.ticker import MaxNLocator\n",
    "import math\n",
    "from scipy import signal\n",
    "from scipy.fftpack import fft\n",
    "from scipy import ndimage\n",
    "from scipy.io import loadmat\n",
    "import os\n",
    "%matplotlib inline"
   ]
  },
  {
   "cell_type": "code",
   "execution_count": 2,
   "metadata": {
    "run_control": {
     "marked": true
    }
   },
   "outputs": [],
   "source": [
    "def Histo3D2Dict(P):\n",
    "    PDF = dict()\n",
    "    for i in range(np.size(P, 0)):\n",
    "        for j in range(np.size(P, 1)):\n",
    "            for k in range(np.size(P, 2)):\n",
    "                PDF[(k,i,j)] = float(P[i,j,k])\n",
    "    return PDF"
   ]
  },
  {
   "cell_type": "code",
   "execution_count": 3,
   "metadata": {
    "run_control": {
     "marked": true
    }
   },
   "outputs": [],
   "source": [
    "## EqualState assign states with equal possibility for input array x\n",
    "def EqualState(x, num_state):\n",
    "    xs=np.sort(x)\n",
    "    binlen=int(len(x)/num_state-0.5) #round\n",
    "    edges = xs[np.arange(num_state+1)*binlen]\n",
    "    xstate=np.zeros(len(x))\n",
    "    for i in range(num_state):\n",
    "        xstate[x>=edges[i]] = i\n",
    "    xstate = xstate.astype(int)\n",
    "    return xstate, edges"
   ]
  },
  {
   "cell_type": "code",
   "execution_count": 4,
   "metadata": {
    "run_control": {
     "marked": true
    }
   },
   "outputs": [],
   "source": [
    "def PIfunc(r, x, v, dt, window):\n",
    "    negshift=window[0] # second\n",
    "    posshift=window[1] # second\n",
    "    shiftlen=(posshift-negshift)/dt+1\n",
    "    timeshift=np.linspace(negshift,posshift,int(shiftlen))\n",
    "    bitshift=np.linspace(negshift/dt,posshift/dt,int(shiftlen),dtype = 'int16')\n",
    "    Information = dict()\n",
    "    Information[('BROJA_2PID','SI')]=np.zeros(len(bitshift))\n",
    "    Information[('BROJA_2PID','UIx')]=np.zeros(len(bitshift))\n",
    "    Information[('BROJA_2PID','UIv')]=np.zeros(len(bitshift))\n",
    "    Information[('BROJA_2PID','CI')]=np.zeros(len(bitshift))\n",
    "    Information[('Beer','Red')]=np.zeros(len(bitshift))\n",
    "    Information[('Beer','UIx')]=np.zeros(len(bitshift))\n",
    "    Information[('Beer','UIv')]=np.zeros(len(bitshift))\n",
    "    Information[('Beer','Syn')]=np.zeros(len(bitshift))\n",
    "    \n",
    "    Information[('test','SI')]=np.zeros(len(bitshift))\n",
    "    Information[('test','UIx')]=np.zeros(len(bitshift))\n",
    "    Information[('test','UIv')]=np.zeros(len(bitshift))\n",
    "    Information[('test','CI')]=np.zeros(len(bitshift))\n",
    "    Redun =np.zeros(len(bitshift))\n",
    "    MIxr=np.zeros(len(bitshift))\n",
    "    MIvr=np.zeros(len(bitshift))\n",
    "    MIxvR=np.zeros(len(bitshift))\n",
    "    parms = dict()\n",
    "    parms['max_iters'] = 20\n",
    "    # shifted data\n",
    "    # shift>0 => y shifted to positive side\n",
    "    for i in range(len(bitshift)):\n",
    "        xx=[]\n",
    "        vv=[]\n",
    "        rr=[]\n",
    "        shift=bitshift[i]\n",
    "        if shift>0:\n",
    "            xx=x[shift:]\n",
    "            vv=v[shift:]\n",
    "            rr=r[:(-1*shift)]\n",
    "        elif shift==0:\n",
    "            xx=x\n",
    "            vv=v\n",
    "            rr=r\n",
    "        elif shift<0:\n",
    "            xx=x[:shift]\n",
    "            vv=v[:shift]\n",
    "            rr=r[(-1*shift):]\n",
    "        #find weight of each states by 3D histogram \n",
    "        xedges = np.append(np.unique(xx),(max(xx)+1))\n",
    "        vedges = np.append(np.unique(vv),(max(vv)+1))\n",
    "        redges = np.append(np.unique(rr),(max(rr)+1))\n",
    "        dat = np.concatenate((xx[:,np.newaxis], vv[:,np.newaxis],rr[:,np.newaxis]), axis=1)\n",
    "        N, edges = np.histogramdd(dat, bins=(xedges, vedges, redges))\n",
    "        #Calculate all kinds of probability and make sure the shape of them, 0 -> x, 1 -> v, 2 -> r\n",
    "        px=(np.sum(N,axis=(1,2))/np.sum(N))[:, np.newaxis, np.newaxis]\n",
    "        pv=(np.sum(N,axis=(0,2))/np.sum(N))[np.newaxis, :, np.newaxis]\n",
    "        pr=(np.sum(N,axis=(0,1))/np.sum(N))[np.newaxis ,np.newaxis, :]\n",
    "        pxv=(np.sum(N,axis=2)/np.sum(N))[:, :, np.newaxis]\n",
    "        pxr=(np.sum(N,axis=1)/np.sum(N))[:, np.newaxis, :]\n",
    "        pvr=(np.sum(N,axis=0)/np.sum(N))[np.newaxis, :, :]\n",
    "        pxvr=(N/np.sum(N))\n",
    "        \n",
    "        Information[('test','UIx')][i] = np.nansum(pxvr*np.log2(pxvr*px/pxv/pxr))/dt\n",
    "        Information[('test','UIv')][i] = np.nansum(pxvr*np.log2(pxvr*pv/pxv/pvr))/dt\n",
    "                \n",
    "#         PDF=Histo3D2Dict(pxvr)\n",
    "#         BROJA_2PID = pid(PDF, cone_solver=\"ECOS\", output=0, **parms)\n",
    "#         Information[('BROJA_2PID','SI')][i]=BROJA_2PID['SI']/dt\n",
    "#         Information[('BROJA_2PID','UIx')][i]=BROJA_2PID['UIY']/dt\n",
    "#         Information[('BROJA_2PID','UIv')][i]=BROJA_2PID['UIZ']/dt\n",
    "#         Information[('BROJA_2PID','CI')][i]=BROJA_2PID['CI']/dt\n",
    "        \n",
    "\n",
    "        MIxr=np.nansum(pxr*np.log2(pxr/px/pr))/dt\n",
    "        MIvr=np.nansum(pvr*np.log2(pvr/pv/pr))/dt\n",
    "        MIxvR=np.nansum(pxvr*np.log2(pxvr/pxv/pr))/dt\n",
    "        PI_xR = np.nansum(pxr*np.log2(pxr/px/pr), axis = (0,1))\n",
    "        PI_vR = np.nansum(pvr*np.log2(pvr/pv/pr), axis = (0,1))\n",
    "        R = sum(np.minimum(PI_xR, PI_vR))/dt\n",
    "        Information[('Beer','Red')][i] = R\n",
    "        Information[('Beer','UIx')][i] = MIxr - R\n",
    "        Information[('Beer','UIv')][i] = MIvr - R\n",
    "        Information[('Beer','Syn')][i] = MIxvR - MIxr - MIvr + R\n",
    "\n",
    "    return timeshift, Information"
   ]
  },
  {
   "cell_type": "code",
   "execution_count": 5,
   "metadata": {
    "run_control": {
     "marked": true
    }
   },
   "outputs": [],
   "source": [
    "def Fake_Spike_Activation_function(realr, r, distribution, noise_list):\n",
    "    rstate=np.zeros(len(r))\n",
    "    model = 0\n",
    "    if distribution == 'burst distributed':\n",
    "        model += 10\n",
    "    elif distribution == 'real distributed':\n",
    "        model += 20\n",
    "    elif distribution == 'fake distributed':\n",
    "        model += 30\n",
    "    for noise in noise_list:\n",
    "        if noise == 'poisson process':\n",
    "            model += 1\n",
    "        elif noise == 'randomly not fire':\n",
    "            model += 100\n",
    "            \n",
    "    if model == 121: #'randomly not fire' + 'real distributed' + 'poisson process'\n",
    "        counter = 0\n",
    "        for n in np.arange(1, max(realr)+1):\n",
    "            edge = np.sort(r)[counter]\n",
    "            counter += round((np.shape(np.where(realr==n))[1])/(len(r)-(np.shape(np.where(realr==0))[1]))*len(r))\n",
    "            rstate[r>=edge] = np.random.poisson(n)\n",
    "        randomly_not_fire = np.append(np.ones(len(r)-(np.shape(np.where(realr==0))[1])), np.zeros(np.shape(np.where(realr==0))[1]))\n",
    "        np.random.shuffle(randomly_not_fire)\n",
    "        rstate = rstate*randomly_not_fire\n",
    "        rstate = rstate.astype(int)\n",
    "    elif model == 21: #'real distributed' + 'poisson process'\n",
    "        counter = 0\n",
    "        for n in np.unique(realr):\n",
    "            edge = np.sort(r)[counter]\n",
    "            counter += (np.shape(np.where(realr==n))[1])\n",
    "            rstate[r>=edge] = np.random.poisson(n)\n",
    "    elif model == 30: #'fake distributed' \n",
    "        edges = np.append(min(r), np.array([np.std(r),2*np.std(r),3*np.std(r)])+np.mean(r));\n",
    "        rstate=np.zeros(len(r))\n",
    "        for i in range(4):\n",
    "            rstate[r>=edges[i]] = i\n",
    "    elif model == 110: #'randomly not fire' + 'burst distributed' \n",
    "        counter = 0\n",
    "        burst_distr = np.array([0.95, 0.03, 0.02]);\n",
    "        for n in np.arange(1,3):\n",
    "            edge = np.sort(r)[int(counter)]\n",
    "            counter += int(len(r)*burst_distr[n]/(1-burst_distr[0])+0.5)\n",
    "            rstate[r>=edge] = n\n",
    "        randomly_not_fire = np.append(np.ones(int(len(r)*(1-burst_distr[0])+0.5)), np.zeros(int(len(r)*burst_distr[0]+0.5)))\n",
    "        np.random.shuffle(randomly_not_fire)\n",
    "        rstate = rstate*randomly_not_fire\n",
    "        rstate = rstate.astype(int)\n",
    "    else:  #'real spike'\n",
    "        rstate = np.nan\n",
    "    return rstate"
   ]
  },
  {
   "cell_type": "code",
   "execution_count": 6,
   "metadata": {
    "run_control": {
     "marked": true
    }
   },
   "outputs": [],
   "source": [
    "# activation function\n",
    "def nA(x,theta=0):\n",
    "    y = np.zeros(len(x))\n",
    "    for i in range(len(x)):\n",
    "        if x[i]- theta>0:\n",
    "            y[i]= 1\n",
    "    return(y)\n",
    "\n",
    "# activation function\n",
    "def nA2(x,theta1, theta2):\n",
    "    y = np.zeros(len(x))\n",
    "    for i in range(len(x)):\n",
    "        if x[i]- theta2>0:\n",
    "            y[i]= 2\n",
    "        elif x[i]- theta1>0:\n",
    "            y[i]= 1\n",
    "    return(y)"
   ]
  },
  {
   "cell_type": "code",
   "execution_count": 7,
   "metadata": {
    "run_control": {
     "marked": true
    }
   },
   "outputs": [],
   "source": [
    "def STA(r, x, v, dt, window):\n",
    "    negshift=round(window[0]/dt) # second\n",
    "    posshift=round(window[1]/dt) # second\n",
    "    xSTS = np.zeros(posshift-negshift)\n",
    "    vSTS = np.zeros(posshift-negshift)\n",
    "    for i in np.arange(-negshift, len(r)-posshift):\n",
    "        xSTS = xSTS + x[i+negshift:i+posshift]*r[i]\n",
    "        vSTS = vSTS + v[i+negshift:i+posshift]*r[i]\n",
    "    xSTA = xSTS/sum(r[-negshift:len(r)-posshift])\n",
    "    vSTA = vSTS/sum(r[-negshift:len(r)-posshift])\n",
    "    time = np.arange(negshift*dt, posshift*dt, dt)\n",
    "    return time, xSTA, vSTA"
   ]
  },
  {
   "cell_type": "code",
   "execution_count": 8,
   "metadata": {
    "run_control": {
     "marked": true
    }
   },
   "outputs": [],
   "source": [
    "def Get_StimulusnResponse(ExporSim, conPar, par_list, IndParValue=1, channelnumber = 39):\n",
    "    rstate_list = []\n",
    "    if ExporSim=='Exp':\n",
    "        x_list = []\n",
    "        T_list = []\n",
    "        if conPar=='Gramma':\n",
    "            for G in par_list:\n",
    "                exp_folder = 'D:\\\\GoogleDrive\\\\retina\\\\Exps\\\\2020\\\\0503'\n",
    "                annots = loadmat(exp_folder+'\\\\merge\\\\'+'merge_0224_OUsmooth_RL_G'+str(G)+'_5min_Q100_6.5mW_1Hz.mat')\n",
    "                x = np.squeeze(annots['bin_pos'])\n",
    "                x = x.astype(float)\n",
    "                x = (x-np.mean(x))/np.std(x)\n",
    "                T = np.squeeze(annots['diode_BT'])\n",
    "                rstate, _ = np.histogram(annots['reconstruct_spikes'][0][channelnumber-1], np.append(0,T))\n",
    "                rstate_list.append(rstate.copy())\n",
    "                x_list.append( x.copy())\n",
    "                T_list.append( T.copy())\n",
    "            dt = 1/60\n",
    "        elif conPar=='Fc':\n",
    "            for Fc in par_list:\n",
    "                exp_folder = 'D:\\\\GoogleDrive\\\\retina\\\\Chou\\'s data\\\\20200408'\n",
    "                annots = loadmat(exp_folder+'\\\\20200408_OU_cutoff='+str(Fc)+'_sort_unit2')\n",
    "                dt = 0.01\n",
    "                sampling_rate = 20000\n",
    "                TimeStamps =np.round(np.squeeze(annots['TimeStamps']))\n",
    "                TimeStamps = TimeStamps.astype(int)\n",
    "                x = annots['a_data'][0, TimeStamps[0]*sampling_rate:TimeStamps[1]*sampling_rate+1]\n",
    "                x = x[::int(sampling_rate*dt)]\n",
    "                x = x.astype(float)\n",
    "                T=np.arange(len(x))*dt\n",
    "                rstate, _ = np.histogram(annots['Spikes'][0][channelnumber-1]-TimeStamps[0], np.append(0,T))\n",
    "                rstate_list.append(rstate.copy())\n",
    "                x_list.append( x.copy())\n",
    "                T_list.append( T.copy())\n",
    "    else:    ##'Sim':\n",
    "        if conPar=='Tau':\n",
    "            Tot=300\n",
    "            dt=1./60\n",
    "            T=np.arange(dt,Tot,dt)\n",
    "            # OU ; input\n",
    "            tau= 0.1\n",
    "            D = 27*10**5\n",
    "            OU=np.zeros(len(T))\n",
    "            mu, sigma = 0, 1\n",
    "            cutoffFreq = IndParValue\n",
    "            for tau in par_list:\n",
    "                for i in range(len(T)-1):\n",
    "                    OU[i+1]=OU[i]*(1-dt/tau)+math.sqrt(D*dt)*np.random.normal(mu,sigma)\n",
    "                # filtering for OUSmoothed\n",
    "                LPOU_list = []\n",
    "                b, a = signal.butter(2, 2*cutoffFreq*dt, btype='low', analog=False)\n",
    "                LPOU_list.append(signal.filtfilt(b, a, OU))\n",
    "            x_list = LPOU_list.copy()  ##HMM or OU or LPOU\n",
    "        elif conPar=='Fc':\n",
    "            Tot=300\n",
    "            dt=1./60\n",
    "            T=np.arange(dt,Tot,dt)\n",
    "            # OU ; input\n",
    "            tau= IndParValue\n",
    "            D = 27*10**5\n",
    "            OU=np.zeros(len(T))\n",
    "            mu, sigma = 0, 1\n",
    "            for i in range(len(T)-1):\n",
    "                OU[i+1]=OU[i]*(1-dt/tau)+math.sqrt(D*dt)*np.random.normal(mu,sigma)\n",
    "            # filtering for OUSmoothed\n",
    "            LPOU_list = []\n",
    "            for cutoffFreq in par_list:\n",
    "                b, a = signal.butter(2, 2*cutoffFreq*dt, btype='low', analog=False)\n",
    "                LPOU_list.append(signal.filtfilt(b, a, OU))\n",
    "            x_list = LPOU_list.copy()  ##HMM or OU or LPOU\n",
    "        T_list = [T]*len(par_list)\n",
    "    return x_list, T_list, dt, rstate_list\n"
   ]
  },
  {
   "cell_type": "code",
   "execution_count": 9,
   "metadata": {
    "run_control": {
     "marked": true
    }
   },
   "outputs": [],
   "source": [
    "def Spike_Time_Generater(rdt, dt, Garmma=1):\n",
    "    rdt = rdt*Garmma\n",
    "    Spike_time = []\n",
    "    \n",
    "    counter = 0\n",
    "    post_remainer_c = 0\n",
    "    p = 1\n",
    "    while True:\n",
    "        the_random_number = 1-np.random.rand()\n",
    "        while (the_random_number < p and counter < len(rdt)):\n",
    "            p *= np.exp(-rdt[counter])\n",
    "            counter += 1\n",
    "        if counter >= len(rdt):\n",
    "            break\n",
    "        remainer_c = -np.log(p/the_random_number)/rdt[counter-1]\n",
    "#         if remainer_c>=1 or remainer_c<=0:\n",
    "#             print('shit!')\n",
    "        Spike_time.append(dt*(counter-remainer_c))\n",
    "        p = np.exp(-remainer_c*rdt[counter-1])\n",
    "    return Spike_time[::Garmma]"
   ]
  },
  {
   "cell_type": "code",
   "execution_count": 10,
   "metadata": {
    "run_control": {
     "marked": true
    }
   },
   "outputs": [],
   "source": [
    "def Retina_Mechine_1D(stimulus, sigma_dict, para_dict, dx, dt, loc_dict = 1):\n",
    "    if loc_dict == 1:\n",
    "        loc_dict = {}\n",
    "        loc_dict['C'] = 1\n",
    "        loc_dict['H'] = 1\n",
    "        \n",
    "    klen = max(sigma_dict.values())*5\n",
    "    xx = np.arange(-klen,klen,dx)\n",
    "    KC = Gaussian(xx,sigma_dict['C'])\n",
    "    KH = Gaussian(xx,sigma_dict['H'])\n",
    "\n",
    "    output = np.zeros_like(stimulus)#y output\n",
    "    zts = np.zeros_like(stimulus)#horizontal\n",
    "    sstm = np.zeros_like(stimulus)\n",
    "    rpeak = np.zeros(np.shape(stimulus)[0])\n",
    "    \n",
    "    if 'tau_y' in sigma_dict.keys():\n",
    "        T = np.arange(0,int(sigma_dict['tau_y']/dt*8))*dt\n",
    "        Ky=T/sigma_dict['tau_y'] /sigma_dict['tau_y'] *np.exp(-T/sigma_dict['tau_y'])\n",
    "        for j in range(np.shape(stimulus)[1]):\n",
    "            for i in range(len(Ky)-1):\n",
    "                for ii in range(i+1):\n",
    "                    sstm[i,j] += stimulus[ii,j]*Ky[i-ii]*dt\n",
    "            sx = np.convolve(stimulus[:,j],Ky,'valid')*dt\n",
    "            sstm[len(Ky)-1:,j] = sx.copy()\n",
    "    else:\n",
    "        sstm = stimulus.copy()\n",
    "\n",
    "    for i in range(np.shape(stimulus)[0]-1):\n",
    "        s = sstm[i,:]\n",
    "        rs = np.convolve(s,KC,'same')*dx\n",
    "        ry = np.convolve(output[i,:],KH,'same')*dx# feedback from horizontal cell (y convoluted with horitonatl cell receptive field KH)\n",
    "        rz = np.convolve(zts[i,:],KH,'same')*dx# feedback from horizontal cell (z convoluted with horitonatl cell receptive field KH)\n",
    "\n",
    "        dyj =(-para_dict['alpha']*output[i,:]+para_dict['k']*(rs-para_dict['phi']*rz))*dt\n",
    "        dzj =(-para_dict['beta']*zts[i,:]+para_dict['g']*output[i,:])*dt\n",
    "        output[i+1,:] = (output[i,:]+dyj)*loc_dict['C']\n",
    "        zts[i+1,:] = (zts[i,:]+dzj)*loc_dict['H']\n",
    "        \n",
    "        maxpos = np.argmax(output[i+1,:])\n",
    "        rpeak[i+1]= maxpos*dx\n",
    "    return output, zts, rpeak"
   ]
  },
  {
   "cell_type": "code",
   "execution_count": 11,
   "metadata": {
    "run_control": {
     "marked": true
    }
   },
   "outputs": [],
   "source": [
    "def Gaussian(x,s):\n",
    "    return(np.exp(-(x/s)**2))/s/np.sqrt(np.pi)"
   ]
  },
  {
   "cell_type": "code",
   "execution_count": 12,
   "metadata": {
    "run_control": {
     "marked": true
    }
   },
   "outputs": [],
   "source": [
    "# activation function\n",
    "def NL(x,theta=0):\n",
    "    y = np.zeros(len(x))\n",
    "    for i in range(len(x)):\n",
    "        if x[i]- theta>0:\n",
    "            y[i]= x[i]-theta\n",
    "    return(y)"
   ]
  },
  {
   "cell_type": "markdown",
   "metadata": {},
   "source": [
    "# Main"
   ]
  },
  {
   "cell_type": "markdown",
   "metadata": {},
   "source": [
    "Loading Exp.mat for position series"
   ]
  },
  {
   "cell_type": "code",
   "execution_count": 13,
   "metadata": {},
   "outputs": [
    {
     "data": {
      "text/plain": [
       "[<matplotlib.lines.Line2D at 0x217858ff608>,\n",
       " <matplotlib.lines.Line2D at 0x21787249948>,\n",
       " <matplotlib.lines.Line2D at 0x217872499c8>,\n",
       " <matplotlib.lines.Line2D at 0x21787249b88>,\n",
       " <matplotlib.lines.Line2D at 0x21787249f48>,\n",
       " <matplotlib.lines.Line2D at 0x217872541c8>,\n",
       " <matplotlib.lines.Line2D at 0x21787254208>,\n",
       " <matplotlib.lines.Line2D at 0x21787254448>]"
      ]
     },
     "execution_count": 13,
     "metadata": {},
     "output_type": "execute_result"
    },
    {
     "data": {
      "image/png": "[encoded data removed]",
      "text/plain": [
       "<Figure size 432x288 with 1 Axes>"
      ]
     },
     "metadata": {
      "needs_background": "light"
     },
     "output_type": "display_data"
    }
   ],
   "source": [
    "fig, ax = plt.subplots() \n",
    "loadfiles = np.load('4PID_paper\\\\Delta vs. PI\\\\PeakHeightnTime vs Fc.npz', allow_pickle=True)\n",
    "for k in loadfiles.files:\n",
    "    vars()[k] = loadfiles[k][()]\n",
    "model_Uvox_ratio_list_list = []\n",
    "for Lambda in np.arange(0.3,0.7,0.05):\n",
    "    model_Uvox_ratio_list = []\n",
    "    for i in range(len(Fc_list)):\n",
    "        Uvox_ratio_table = Uv_peakH_list[i]/Ux_peakH_list[i]\n",
    "        model_Uvox_ratio = np.interp(Lambda, Lambdas, Uvox_ratio_table)\n",
    "        model_Uvox_ratio_list.append(model_Uvox_ratio.copy())\n",
    "    model_Uvox_ratio_list_list.append(model_Uvox_ratio_list.copy())\n",
    "model_Uvox_ratio_list_list = np.array(model_Uvox_ratio_list_list)\n",
    "ax.set_prop_cycle(plt.cycler('color', plt.cm.copper(np.linspace(0, 1, len(model_Uvox_ratio_list_list)))))\n",
    "ax.plot(Fc_list, model_Uvox_ratio_list_list.T, zorder=1)"
   ]
  },
  {
   "cell_type": "code",
   "execution_count": 14,
   "metadata": {
    "run_control": {
     "marked": true
    },
    "scrolled": true
   },
   "outputs": [
    {
     "name": "stderr",
     "output_type": "stream",
     "text": [
      "C:\\Users\\hydro_leo\\anaconda3\\lib\\site-packages\\ipykernel_launcher.py:61: RuntimeWarning: divide by zero encountered in log2\n",
      "C:\\Users\\hydro_leo\\anaconda3\\lib\\site-packages\\ipykernel_launcher.py:61: RuntimeWarning: invalid value encountered in multiply\n",
      "C:\\Users\\hydro_leo\\anaconda3\\lib\\site-packages\\ipykernel_launcher.py:62: RuntimeWarning: divide by zero encountered in log2\n",
      "C:\\Users\\hydro_leo\\anaconda3\\lib\\site-packages\\ipykernel_launcher.py:62: RuntimeWarning: invalid value encountered in multiply\n",
      "C:\\Users\\hydro_leo\\anaconda3\\lib\\site-packages\\ipykernel_launcher.py:74: RuntimeWarning: divide by zero encountered in log2\n",
      "C:\\Users\\hydro_leo\\anaconda3\\lib\\site-packages\\ipykernel_launcher.py:74: RuntimeWarning: invalid value encountered in multiply\n",
      "C:\\Users\\hydro_leo\\anaconda3\\lib\\site-packages\\ipykernel_launcher.py:62: RuntimeWarning: invalid value encountered in true_divide\n",
      "C:\\Users\\hydro_leo\\anaconda3\\lib\\site-packages\\ipykernel_launcher.py:73: RuntimeWarning: divide by zero encountered in log2\n",
      "C:\\Users\\hydro_leo\\anaconda3\\lib\\site-packages\\ipykernel_launcher.py:73: RuntimeWarning: invalid value encountered in multiply\n",
      "C:\\Users\\hydro_leo\\anaconda3\\lib\\site-packages\\ipykernel_launcher.py:76: RuntimeWarning: divide by zero encountered in log2\n",
      "C:\\Users\\hydro_leo\\anaconda3\\lib\\site-packages\\ipykernel_launcher.py:76: RuntimeWarning: invalid value encountered in multiply\n",
      "C:\\Users\\hydro_leo\\anaconda3\\lib\\site-packages\\ipykernel_launcher.py:61: RuntimeWarning: invalid value encountered in true_divide\n",
      "C:\\Users\\hydro_leo\\anaconda3\\lib\\site-packages\\ipykernel_launcher.py:72: RuntimeWarning: divide by zero encountered in log2\n",
      "C:\\Users\\hydro_leo\\anaconda3\\lib\\site-packages\\ipykernel_launcher.py:72: RuntimeWarning: invalid value encountered in multiply\n",
      "C:\\Users\\hydro_leo\\anaconda3\\lib\\site-packages\\ipykernel_launcher.py:75: RuntimeWarning: divide by zero encountered in log2\n",
      "C:\\Users\\hydro_leo\\anaconda3\\lib\\site-packages\\ipykernel_launcher.py:75: RuntimeWarning: invalid value encountered in multiply\n"
     ]
    }
   ],
   "source": [
    "pcells = [1,20,33,39,40,42,53]\n",
    "ax.set_prop_cycle(plt.cycler('color', plt.cm.jet(np.linspace(0, 1, len(pcells )))))\n",
    "for pcell in pcells:\n",
    "    Fc_list = [2,4,7,10]\n",
    "    x_list, T_list, dt, rstate_list = Get_StimulusnResponse('Exp', 'Fc', Fc_list,_, pcell)\n",
    "    # x_list, T_list, dt, rstate_list = Get_StimulusnResponse('Exp', 'Gramma', [2.5,4.3,4.5,7.5,20],_, 21)\n",
    "    # x_list, T_list, dt, _ = Get_StimulusnResponse('Sim', 'Fc', [0.5,1,2,4,8], 1)\n",
    "    # x_list, T_list, dt, _ = Get_StimulusnResponse('Sim', 'Tau', [1.8,1.4,1,0.6,0.22], 1)\n",
    "\n",
    "    v_list = []\n",
    "    for i in range(len(x_list)):\n",
    "        v = ndimage.gaussian_filter1d(x_list[i].copy(), sigma=5, order=1, mode='reflect') / dt\n",
    "        v_list.append(v[1:-1].copy())    \n",
    "        x_list[i] = x_list[i][1:-1]\n",
    "        T_list[i] = T_list[i][1:-1]\n",
    "        rstate_list[i] = rstate_list[i][1:-1]\n",
    "\n",
    "    #assign states\n",
    "    ystate_list = []\n",
    "    xstate_list = []\n",
    "    vstate_list = []\n",
    "\n",
    "    for i in range(len(x_list)):\n",
    "        xstate, _= EqualState(x_list[i], 6)\n",
    "        vstate, _= EqualState(v_list[i], 6)\n",
    "        xstate_list.append(xstate)\n",
    "        vstate_list.append(vstate)\n",
    "\n",
    "    window = [-1,1] # second\n",
    "    Information_list = [0]*len(x_list)\n",
    "    Uvox_ratio_list = []\n",
    "    for i in range(len(x_list)):\n",
    "        timeshift, Information_list[i] = PIfunc(rstate_list[i], xstate_list[i], vstate_list[i], dt, window)\n",
    "        Uvox_ratio = max(Information_list[i][('Beer','UIv')])/max(Information_list[i][('Beer','UIx')])\n",
    "        Uvox_ratio_list.append(Uvox_ratio)\n",
    "\n",
    "    ax.scatter(Fc_list,Uvox_ratio_list, zorder=2)"
   ]
  },
  {
   "cell_type": "code",
   "execution_count": 15,
   "metadata": {},
   "outputs": [
    {
     "data": {
      "image/png": "[encoded data removed]",
      "text/plain": [
       "<Figure size 1152x648 with 1 Axes>"
      ]
     },
     "execution_count": 15,
     "metadata": {},
     "output_type": "execute_result"
    }
   ],
   "source": [
    "ax.set_ylabel(r'$U_v/U_x$ (peak)')\n",
    "ax.set_xlabel(r'$F_c$ (Hz)')\n",
    "fig.set_size_inches(16, 9)\n",
    "fig"
   ]
  },
  {
   "cell_type": "code",
   "execution_count": null,
   "metadata": {},
   "outputs": [],
   "source": []
  }
 ],
 "metadata": {
  "kernelspec": {
   "display_name": "Python 3",
   "language": "python",
   "name": "python3"
  },
  "language_info": {
   "codemirror_mode": {
    "name": "ipython",
    "version": 3
   },
   "file_extension": ".py",
   "mimetype": "text/x-python",
   "name": "python",
   "nbconvert_exporter": "python",
   "pygments_lexer": "ipython3",
   "version": "3.7.6"
  },
  "toc": {
   "base_numbering": 1,
   "nav_menu": {
    "height": "187px",
    "width": "383px"
   },
   "number_sections": true,
   "sideBar": true,
   "skip_h1_title": false,
   "title_cell": "Table of Contents",
   "title_sidebar": "Contents",
   "toc_cell": false,
   "toc_position": {
    "height": "789px",
    "left": "557px",
    "top": "241px",
    "width": "165px"
   },
   "toc_section_display": true,
   "toc_window_display": true
  },
  "varInspector": {
   "cols": {
    "lenName": 16,
    "lenType": 16,
    "lenVar": 40
   },
   "kernels_config": {
    "python": {
     "delete_cmd_postfix": "",
     "delete_cmd_prefix": "del ",
     "library": "var_list.py",
     "varRefreshCmd": "print(var_dic_list())"
    },
    "r": {
     "delete_cmd_postfix": ") ",
     "delete_cmd_prefix": "rm(",
     "library": "var_list.r",
     "varRefreshCmd": "cat(var_dic_list()) "
    }
   },
   "position": {
    "height": "337px",
    "left": "1469px",
    "right": "20px",
    "top": "114px",
    "width": "350px"
   },
   "types_to_exclude": [
    "module",
    "function",
    "builtin_function_or_method",
    "instance",
    "_Feature"
   ],
   "window_display": true
  }
 },
 "nbformat": 4,
 "nbformat_minor": 4
}
