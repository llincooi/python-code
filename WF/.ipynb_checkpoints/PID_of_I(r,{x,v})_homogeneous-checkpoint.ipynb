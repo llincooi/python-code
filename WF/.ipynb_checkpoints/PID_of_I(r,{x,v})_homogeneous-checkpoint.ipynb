{
 "cells": [
  {
   "cell_type": "markdown",
   "metadata": {},
   "source": [
    "You can perform PID on MI(r;(x,v)), and compare the result of different 'x'.<br>\n",
    "'x' can from experimental data or produce in this code for different Tau (Gramma) or cutoff frequency.<br>\n",
    "'r' can be real responses of RGC or from NGD or from x+$\\Delta$*v.<br>\n",
    "Using 20200408 Chou's data, unit2.<br>"
   ]
  },
  {
   "cell_type": "markdown",
   "metadata": {},
   "source": [
    "# Functions"
   ]
  },
  {
   "cell_type": "code",
   "execution_count": 1,
   "metadata": {
    "run_control": {
     "marked": true
    }
   },
   "outputs": [],
   "source": [
    "import numpy as np\n",
    "import matplotlib.pyplot as plt\n",
    "from mpl_toolkits import mplot3d\n",
    "from matplotlib.ticker import MaxNLocator\n",
    "import math\n",
    "from scipy import signal\n",
    "from scipy.fftpack import fft\n",
    "from scipy import ndimage\n",
    "from scipy.io import loadmat\n",
    "import os\n",
    "%matplotlib inline"
   ]
  },
  {
   "cell_type": "code",
   "execution_count": 4,
   "metadata": {},
   "outputs": [
    {
     "ename": "FileNotFoundError",
     "evalue": "[WinError 3] 系統找不到指定的路徑。: 'C:\\\\Users\\\\llinc\\\\GitHub\\\\python-code\\\\Modules'",
     "output_type": "error",
     "traceback": [
      "\u001b[1;31m---------------------------------------------------------------------------\u001b[0m",
      "\u001b[1;31mFileNotFoundError\u001b[0m                         Traceback (most recent call last)",
      "\u001b[1;32m<ipython-input-4-91d01549c012>\u001b[0m in \u001b[0;36m<module>\u001b[1;34m\u001b[0m\n\u001b[0;32m      2\u001b[0m \u001b[1;32mtry\u001b[0m\u001b[1;33m:\u001b[0m\u001b[1;33m\u001b[0m\u001b[1;33m\u001b[0m\u001b[0m\n\u001b[1;32m----> 3\u001b[1;33m     \u001b[0mos\u001b[0m\u001b[1;33m.\u001b[0m\u001b[0mchdir\u001b[0m\u001b[1;33m(\u001b[0m\u001b[1;34m'C:\\\\Users\\\\hydro_leo\\\\Documents\\\\GitHub\\\\python-code\\\\Modules'\u001b[0m\u001b[1;33m)\u001b[0m\u001b[1;33m\u001b[0m\u001b[1;33m\u001b[0m\u001b[0m\n\u001b[0m\u001b[0;32m      4\u001b[0m \u001b[1;32mexcept\u001b[0m\u001b[1;33m:\u001b[0m\u001b[1;33m\u001b[0m\u001b[1;33m\u001b[0m\u001b[0m\n",
      "\u001b[1;31mFileNotFoundError\u001b[0m: [WinError 3] 系統找不到指定的路徑。: 'C:\\\\Users\\\\hydro_leo\\\\Documents\\\\GitHub\\\\python-code\\\\Modules'",
      "\nDuring handling of the above exception, another exception occurred:\n",
      "\u001b[1;31mFileNotFoundError\u001b[0m                         Traceback (most recent call last)",
      "\u001b[1;32m<ipython-input-4-91d01549c012>\u001b[0m in \u001b[0;36m<module>\u001b[1;34m\u001b[0m\n\u001b[0;32m      3\u001b[0m     \u001b[0mos\u001b[0m\u001b[1;33m.\u001b[0m\u001b[0mchdir\u001b[0m\u001b[1;33m(\u001b[0m\u001b[1;34m'C:\\\\Users\\\\hydro_leo\\\\Documents\\\\GitHub\\\\python-code\\\\Modules'\u001b[0m\u001b[1;33m)\u001b[0m\u001b[1;33m\u001b[0m\u001b[1;33m\u001b[0m\u001b[0m\n\u001b[0;32m      4\u001b[0m \u001b[1;32mexcept\u001b[0m\u001b[1;33m:\u001b[0m\u001b[1;33m\u001b[0m\u001b[1;33m\u001b[0m\u001b[0m\n\u001b[1;32m----> 5\u001b[1;33m     \u001b[0mos\u001b[0m\u001b[1;33m.\u001b[0m\u001b[0mchdir\u001b[0m\u001b[1;33m(\u001b[0m\u001b[1;34m'C:\\\\Users\\\\llinc\\\\GitHub\\\\python-code\\\\Modules'\u001b[0m\u001b[1;33m)\u001b[0m\u001b[1;33m\u001b[0m\u001b[1;33m\u001b[0m\u001b[0m\n\u001b[0m\u001b[0;32m      6\u001b[0m \u001b[1;32mfrom\u001b[0m \u001b[0mtime_shifted_PID\u001b[0m \u001b[1;32mimport\u001b[0m \u001b[0mHisto3D2Dict\u001b[0m\u001b[1;33m\u001b[0m\u001b[1;33m\u001b[0m\u001b[0m\n\u001b[0;32m      7\u001b[0m \u001b[1;32mfrom\u001b[0m \u001b[0mtime_shifted_PID\u001b[0m \u001b[1;32mimport\u001b[0m \u001b[0mPIfunc\u001b[0m\u001b[1;33m\u001b[0m\u001b[1;33m\u001b[0m\u001b[0m\n",
      "\u001b[1;31mFileNotFoundError\u001b[0m: [WinError 3] 系統找不到指定的路徑。: 'C:\\\\Users\\\\llinc\\\\GitHub\\\\python-code\\\\Modules'"
     ]
    }
   ],
   "source": [
    "import import_ipynb\n",
    "try:\n",
    "    os.chdir('C:\\\\Users\\\\hydro_leo\\\\Documents\\\\GitHub\\\\python-code\\\\Modules')\n",
    "except:\n",
    "    os.chdir('C:\\\\Users\\\\llinc\\\\GitHub\\\\python-code\\\\Modules')\n",
    "from time_shifted_PID import Histo3D2Dict\n",
    "from time_shifted_PID import PIfunc\n",
    "from time_shifted_PID import EqualState\n",
    "from Spike_Generation import Spike_Time_Generater\n",
    "from Spike_Generation import NL\n",
    "from StimulusnResponse import expSnR\n",
    "from SpatialTemporal_Correlation_and_Convolution import ST_STA"
   ]
  },
  {
   "cell_type": "markdown",
   "metadata": {},
   "source": [
    "# Load Experimental data"
   ]
  },
  {
   "cell_type": "markdown",
   "metadata": {},
   "source": [
    "## select files and channels"
   ]
  },
  {
   "cell_type": "code",
   "execution_count": null,
   "metadata": {
    "run_control": {
     "marked": true
    }
   },
   "outputs": [],
   "source": [
    "Fc_list = [2,4,7,10]\n",
    "filenames = ['D:\\\\GoogleDrive\\\\retina\\\\Chou\\'s data\\\\20200408\\\\20200408_OU_cutoff='+str(Fc)+'_sort_unit2' for Fc in Fc_list]\n",
    "dt = 0.01\n",
    "x_list, T_list, rstate_list = expSnR(filenames, dt, 'LED', [53])\n",
    "for i in range(len(x_list)):\n",
    "    rstate_list[i] = rstate_list[i][53-1,:]"
   ]
  },
  {
   "cell_type": "code",
   "execution_count": null,
   "metadata": {
    "run_control": {
     "marked": true
    }
   },
   "outputs": [],
   "source": [
    "Dt = 0.01\n",
    "v_list = [np.append(np.zeros(int(Dt/dt)), x[int(Dt/dt):]-x[:-int(Dt/dt)])/Dt  for x in x_list]\n",
    "tv_list = [np.append(0, np.diff(x))/dt  for x in x_list]"
   ]
  },
  {
   "cell_type": "code",
   "execution_count": null,
   "metadata": {
    "run_control": {
     "marked": true
    }
   },
   "outputs": [],
   "source": [
    "t_cor_list = []\n",
    "for i in range(len(x_list)):\n",
    "    x_cor = np.correlate(x_list[i], x_list[i], \"same\")\n",
    "    x_cor = x_cor[:int((len(x_cor)+1)/2)+1]\n",
    "    Taxis = np.flip(T_list[i][:len(x_cor)]-dt/2)\n",
    "    t_cor_list.append( round(np.interp(0.5*max(x_cor),  x_cor, Taxis), 3)) \n",
    "t_cor_list"
   ]
  },
  {
   "cell_type": "code",
   "execution_count": null,
   "metadata": {
    "run_control": {
     "marked": true
    }
   },
   "outputs": [],
   "source": [
    "#assign states\n",
    "state_num = 6\n",
    "xstate_list = [EqualState(x, state_num)[0] for x in x_list]\n",
    "vstate_list = [EqualState(v, state_num)[0] for v in v_list]\n",
    "tvstate_list = [EqualState(tv, state_num)[0] for tv in tv_list]"
   ]
  },
  {
   "cell_type": "markdown",
   "metadata": {},
   "source": [
    "# Real Spike"
   ]
  },
  {
   "cell_type": "markdown",
   "metadata": {},
   "source": [
    "## Plot MI"
   ]
  },
  {
   "cell_type": "code",
   "execution_count": null,
   "metadata": {
    "run_control": {
     "marked": true
    },
    "scrolled": true
   },
   "outputs": [],
   "source": [
    "window = [-1,1] # second\n",
    "Real_Information_list = [0]*len(x_list)\n",
    "for i in range(len(x_list)):\n",
    "    timeshift, Real_Information_list[i] = PIfunc(rstate_list[i], xstate_list[i], vstate_list[i], dt, window)\n",
    "Information_list = Real_Information_list.copy()"
   ]
  },
  {
   "cell_type": "code",
   "execution_count": null,
   "metadata": {
    "run_control": {
     "marked": true
    },
    "scrolled": false
   },
   "outputs": [],
   "source": [
    "for i in range(len(x_list)):\n",
    "    fig, (ax2, ax3) = plt.subplots(nrows=1, ncols=2) \n",
    "    ax2.plot(timeshift,Information_list[i][('Beer','UIx')], 'r-')\n",
    "    ax2.plot(timeshift,Information_list[i][('Beer','UIv')], 'b-')\n",
    "    ax2.plot(timeshift,Information_list[i][('Beer','Syn')], 'k-')\n",
    "    ax2.plot(timeshift,Information_list[i][('Beer','Red')], 'g-')\n",
    "    ax2.yaxis.set_major_locator(MaxNLocator(integer=True))\n",
    "    ax2.set_title('Partial Information (Beer)  '+r'$t_{corr}$='+str(t_cor_list[i]))\n",
    "    ax2.set_xlabel('Time(s)')\n",
    "    ax2.set_ylabel('Information(bit/s)')\n",
    "    ax2.legend( (r'$U_x$', r'$U_v$', 'synergy', 'redundancy'), loc='best', prop={'size': 'large', 'family': 'monospace'})\n",
    "    ax2.grid()\n",
    "    \n",
    "    #plot MIs\n",
    "    ax3.plot(timeshift,Information_list[i][('Beer','UIx')]+Information_list[i][('Beer','Red')], 'r-')\n",
    "    ax3.plot(timeshift,Information_list[i][('Beer','UIv')]+Information_list[i][('Beer','Red')], 'b-')\n",
    "    ax3.plot(timeshift,Information_list[i][('Beer','UIx')]+Information_list[i][('Beer','Red')]+Information_list[i][('Beer','UIv')]+Information_list[i][('Beer','Syn')], 'k-')\n",
    "    ax3.plot(timeshift,Information_list[i][('Beer','UIx')]+2*Information_list[i][('Beer','Red')]+Information_list[i][('Beer','UIv')], 'm-')\n",
    "    ax3.yaxis.set_major_locator(MaxNLocator(integer=True))\n",
    "    ax3.set_title('Mutual Information '+r'$t_{corr}$='+str(t_cor_list[i]))\n",
    "    ax3.set_xlabel('Time(s)')\n",
    "    ax3.set_ylabel('Information(bit/s)')\n",
    "    ax3.grid()\n",
    "    ax3.legend( ('MI(x,r)', 'MI(v,r)', 'MI({x,v},r)', 'MI(x,r)+MI(v,r)'), loc='best', prop={'size': 'large', 'family': 'monospace'})\n",
    "    fig.set_size_inches(15, 5)"
   ]
  },
  {
   "cell_type": "markdown",
   "metadata": {},
   "source": [
    "x"
   ]
  },
  {
   "cell_type": "code",
   "execution_count": null,
   "metadata": {
    "run_control": {
     "marked": true
    }
   },
   "outputs": [],
   "source": [
    "legend_list = []\n",
    "fig, (ax2, ax3) = plt.subplots(nrows=1, ncols=2) \n",
    "for i in range(len(x_list)):\n",
    "    ax2.plot(timeshift,Information_list[i][('Beer','UIx')])\n",
    "    ax3.plot(timeshift,Information_list[i][('Beer','UIx')]+Information_list[i][('Beer','Red')])\n",
    "    legend_list.append (r'$t_{corr}$='+str(t_cor_list[i]))\n",
    "ax2.set_title('UI(r;x/v) (Beer)')\n",
    "ax2.set_xlabel('Time(s)')\n",
    "ax2.set_ylabel('Information(bit/s)')\n",
    "ax3.set_title('MI(r,x)')\n",
    "ax3.set_xlabel('Time(s)')\n",
    "ax3.set_ylabel('Information(bit/s)')\n",
    "ax2.legend( legend_list , loc='best', prop={'size': 'large', 'family': 'monospace'})\n",
    "ax3.legend( legend_list , loc='best', prop={'size': 'large', 'family': 'monospace'})\n",
    "ax3.grid()\n",
    "ax2.grid()\n",
    "fig.set_size_inches(15, 5)"
   ]
  },
  {
   "cell_type": "markdown",
   "metadata": {},
   "source": [
    "v"
   ]
  },
  {
   "cell_type": "code",
   "execution_count": null,
   "metadata": {
    "run_control": {
     "marked": true
    }
   },
   "outputs": [],
   "source": [
    "legend_list = []\n",
    "fig, (ax2, ax3) = plt.subplots(nrows=1, ncols=2) \n",
    "for i in range(len(x_list)):\n",
    "    ax2.plot(timeshift,Information_list[i][('Beer','UIv')])\n",
    "    ax3.plot(timeshift,Information_list[i][('Beer','UIv')]+Information_list[i][('Beer','Red')])\n",
    "    legend_list.append (r'$t_{corr}$='+str(t_cor_list[i]))\n",
    "ax2.set_title('UI(r;v/x) (Beer)')\n",
    "ax2.set_xlabel('Time(s)')\n",
    "ax2.set_ylabel('Information(bit/s)')\n",
    "ax3.set_title('MI(r,v)')\n",
    "ax3.set_xlabel('Time(s)')\n",
    "ax3.set_ylabel('Information(bit/s)')\n",
    "ax2.legend( legend_list , loc='best', prop={'size': 'large', 'family': 'monospace'})\n",
    "ax3.legend( legend_list , loc='best', prop={'size': 'large', 'family': 'monospace'})\n",
    "ax3.grid()\n",
    "ax2.grid()\n",
    "# ax2.set_xlim( -0.3, 0.3)\n",
    "fig.set_size_inches(15, 5)"
   ]
  },
  {
   "cell_type": "markdown",
   "metadata": {},
   "source": [
    "Synergy and MI(r;{x,v})"
   ]
  },
  {
   "cell_type": "code",
   "execution_count": null,
   "metadata": {
    "run_control": {
     "marked": false
    }
   },
   "outputs": [],
   "source": [
    "legend_list = []\n",
    "fig, (ax2, ax3) = plt.subplots(nrows=1, ncols=2) \n",
    "for i in range(len(x_list)):\n",
    "    ax2.plot(timeshift,Information_list[i][('Beer','Red')])\n",
    "    ax3.plot(timeshift,Information_list[i][('Beer','UIx')]+Information_list[i][('Beer','Red')]+Information_list[i][('Beer','UIv')]+Information_list[i][('Beer','Syn')])\n",
    "    legend_list.append (r'$t_{corr}$='+str(t_cor_list[i]))\n",
    "ax2.set_title('CI(r;(x,v)) (Beer)')\n",
    "ax2.set_xlabel('Time(s)')\n",
    "ax2.set_ylabel('Information(bit/s)')\n",
    "ax3.set_title('MI(r;(x,v))')\n",
    "ax3.set_xlabel('Time(s)')\n",
    "ax3.set_ylabel('Information(bit/s)')\n",
    "ax2.legend( legend_list , loc='best', prop={'size': 'large', 'family': 'monospace'})\n",
    "ax3.legend( legend_list , loc='best', prop={'size': 'large', 'family': 'monospace'})\n",
    "ax3.grid()\n",
    "ax2.grid()\n",
    "# ax2.set_xlim( -0.5, 0.2)\n",
    "fig.set_size_inches(15, 5)"
   ]
  },
  {
   "cell_type": "markdown",
   "metadata": {},
   "source": [
    "# Matching peak height and $\\Delta$"
   ]
  },
  {
   "cell_type": "code",
   "execution_count": null,
   "metadata": {
    "run_control": {
     "marked": true
    }
   },
   "outputs": [],
   "source": [
    "# Delta_list = []\n",
    "# for i in range(len(x_list)):\n",
    "# #     loadfiles = np.load('4PID_paper\\\\lambda vs. PI\\\\WF_PeakHeights_Fc='+str(Fc_list[i])+'.npz', allow_pickle=True)\n",
    "#     loadfiles = np.load('4PID_paper\\\\lambda vs. PI\\\\WF_PeakHeightnTime_Fc.npz', allow_pickle=True)\n",
    "#     for k in loadfiles.files:\n",
    "#         vars()[k] = loadfiles[k][()]\n",
    "#     Uvox_ratio_table = Uv_peakH/Ux_peakH\n",
    "#     Uvox_ratio = max(Information_list[i][('Beer','UIv')])/max(Information_list[i][('Beer','UIx')])\n",
    "#     delta = np.interp(Uvox_ratio, Uvox_ratio_table, Lambdas)\n",
    "#     Delta_list.append(delta)\n",
    "# print(Delta_list)\n",
    "# Lambda_list = []\n",
    "\n",
    "# loadfiles = np.load('4PID_paper\\\\beta vs. PI\\\\PeakHeightnTime vs Fc.npz', allow_pickle=True)\n",
    "# for k in loadfiles.files:\n",
    "#     vars()[k] = loadfiles[k][()]\n",
    "    \n",
    "# for i in range(len(x_list)-1):\n",
    "#     Uvox_ratio_table = ndimage.gaussian_filter1d(Uv_peakH_list[i]/Ux_peakH_list[i], sigma=1, mode='reflect')\n",
    "#     plt.plot(Lambdas, Uvox_ratio_table)\n",
    "#     Uvox_ratio = max(Information_list[i][('Beer','UIv')])/max(Information_list[i][('Beer','UIx')])\n",
    "#     Lambda = np.interp(Uvox_ratio, Uvox_ratio_table, Lambdas)\n",
    "#     plt.scatter(Lambda, Uvox_ratio)\n",
    "#     Lambda_list.append(Lambda)\n",
    "# print(Lambda_list)"
   ]
  },
  {
   "cell_type": "markdown",
   "metadata": {},
   "source": [
    "# Fake Spike - LC model"
   ]
  },
  {
   "cell_type": "markdown",
   "metadata": {},
   "source": [
    "## parameters for LC model and Spike Generator"
   ]
  },
  {
   "cell_type": "code",
   "execution_count": null,
   "metadata": {},
   "outputs": [],
   "source": [
    "#Assign states\n",
    "r1state_list = []\n",
    "ystate_list = [0]*len(x_list)\n",
    "# Delta_list = [0.4, 0.3, 0.26, 0.24]\n",
    "# Delta_list = [.9, .9, .9, .9]\n",
    "FakeSpike_list = [0]*len(x_list)\n",
    "for i in range(len(x_list)):\n",
    "    Lambda = 0.3\n",
    "    r1 = (1-Lambda)*x_list[i]+Lambda*v_list[i]\n",
    "\n",
    "    r = NL(r1-np.mean(r1), 0)\n",
    "    ratio = sum(r)/T_list[i][-1]/2\n",
    "    FakeSpike_list[i] = Spike_Time_Generater(r/ratio, dt, 10)\n",
    "    ystate_list[i], _ = np.histogram(FakeSpike_list[i], np.append(0,T_list[i]))"
   ]
  },
  {
   "cell_type": "markdown",
   "metadata": {},
   "source": [
    "## Plot MI"
   ]
  },
  {
   "cell_type": "code",
   "execution_count": null,
   "metadata": {
    "scrolled": true
   },
   "outputs": [],
   "source": [
    "window = [-1,1] # second\n",
    "LC_Information_list = [0]*len(x_list)\n",
    "for i in range(len(x_list)):\n",
    "    timeshift, LC_Information_list[i] = PIfunc(ystate_list[i], xstate_list[i], tvstate_list[i], dt, window)\n",
    "Information_list = LC_Information_list.copy()"
   ]
  },
  {
   "cell_type": "code",
   "execution_count": null,
   "metadata": {
    "scrolled": false
   },
   "outputs": [],
   "source": [
    "for i in range(len(x_list)):\n",
    "    fig, (ax2, ax3) = plt.subplots(nrows=1, ncols=2) \n",
    "    ax2.plot(timeshift,Information_list[i][('Beer','UIx')], 'r-')\n",
    "    ax2.plot(timeshift,Information_list[i][('Beer','UIv')], 'b-')\n",
    "    ax2.plot(timeshift,Information_list[i][('Beer','Syn')], 'k-')\n",
    "    ax2.plot(timeshift,Information_list[i][('Beer','Red')], 'g-')\n",
    "    ax2.yaxis.set_major_locator(MaxNLocator(integer=True))\n",
    "    ax2.set_title('Partial Information (Beer)  '+r'$t_{corr}$='+str(t_cor_list[i]))\n",
    "    ax2.set_xlabel('Time(s)')\n",
    "    ax2.set_ylabel('Information(bit/s)')\n",
    "    ax2.legend( (r'$U_x$', r'$U_v$', 'synergy', 'redundancy'), loc='best', prop={'size': 'large', 'family': 'monospace'})\n",
    "    ax2.grid()\n",
    "    \n",
    "    #plot MIs\n",
    "    ax3.plot(timeshift,Information_list[i][('Beer','UIx')]+Information_list[i][('Beer','Red')], 'r-')\n",
    "    ax3.plot(timeshift,Information_list[i][('Beer','UIv')]+Information_list[i][('Beer','Red')], 'b-')\n",
    "    ax3.plot(timeshift,Information_list[i][('Beer','UIx')]+Information_list[i][('Beer','Red')]+Information_list[i][('Beer','UIv')]+Information_list[i][('Beer','Syn')], 'k-')\n",
    "    ax3.plot(timeshift,Information_list[i][('Beer','UIx')]+2*Information_list[i][('Beer','Red')]+Information_list[i][('Beer','UIv')], 'm-')\n",
    "    ax3.yaxis.set_major_locator(MaxNLocator(integer=True))\n",
    "    ax3.set_title('Mutual Information '+r'$t_{corr}$='+str(t_cor_list[i]))\n",
    "    ax3.set_xlabel('Time(s)')\n",
    "    ax3.set_ylabel('Information(bit/s)')\n",
    "    ax3.grid()\n",
    "    ax3.legend( ('MI(x,r)', 'MI(v,r)', 'MI({x,v},r)', 'MI(x,r)+MI(v,r)'), loc='best', prop={'size': 'large', 'family': 'monospace'})\n",
    "    fig.set_size_inches(15, 5)"
   ]
  },
  {
   "cell_type": "markdown",
   "metadata": {},
   "source": [
    "x"
   ]
  },
  {
   "cell_type": "code",
   "execution_count": null,
   "metadata": {},
   "outputs": [],
   "source": [
    "legend_list = []\n",
    "fig, (ax2, ax3) = plt.subplots(nrows=1, ncols=2) \n",
    "for i in range(len(x_list)):\n",
    "    ax2.plot(timeshift,Information_list[i][('Beer','UIx')])\n",
    "    ax3.plot(timeshift,Information_list[i][('Beer','UIx')]+Information_list[i][('Beer','Red')])\n",
    "    legend_list.append (r'$t_{corr}$='+str(t_cor_list[i]))\n",
    "ax2.set_title('UI(r;x/v) (Beer)')\n",
    "ax2.set_xlabel('Time(s)')\n",
    "ax2.set_ylabel('Information(bit/s)')\n",
    "ax3.set_title('MI(r,x)')\n",
    "ax3.set_xlabel('Time(s)')\n",
    "ax3.set_ylabel('Information(bit/s)')\n",
    "ax2.legend( legend_list , loc='best', prop={'size': 'large', 'family': 'monospace'})\n",
    "ax3.legend( legend_list , loc='best', prop={'size': 'large', 'family': 'monospace'})\n",
    "ax3.grid()\n",
    "ax2.grid()\n",
    "fig.set_size_inches(15, 5)"
   ]
  },
  {
   "cell_type": "markdown",
   "metadata": {},
   "source": [
    "v"
   ]
  },
  {
   "cell_type": "code",
   "execution_count": null,
   "metadata": {},
   "outputs": [],
   "source": [
    "legend_list = []\n",
    "fig, (ax2, ax3) = plt.subplots(nrows=1, ncols=2) \n",
    "for i in range(len(x_list)):\n",
    "    ax2.plot(timeshift,Information_list[i][('Beer','UIv')])\n",
    "    ax3.plot(timeshift,Information_list[i][('Beer','UIv')]+Information_list[i][('Beer','Red')])\n",
    "    legend_list.append (r'$t_{corr}$='+str(t_cor_list[i]))\n",
    "ax2.set_title('UI(r;v/x) (Beer)')\n",
    "ax2.set_xlabel('Time(s)')\n",
    "ax2.set_ylabel('Information(bit/s)')\n",
    "ax3.set_title('MI(r,v)')\n",
    "ax3.set_xlabel('Time(s)')\n",
    "ax3.set_ylabel('Information(bit/s)')\n",
    "ax2.legend( legend_list , loc='best', prop={'size': 'large', 'family': 'monospace'})\n",
    "ax3.legend( legend_list , loc='best', prop={'size': 'large', 'family': 'monospace'})\n",
    "ax3.grid()\n",
    "ax2.grid()\n",
    "# ax2.set_xlim( -0.3, 0.3)\n",
    "fig.set_size_inches(15, 5)"
   ]
  },
  {
   "cell_type": "markdown",
   "metadata": {},
   "source": [
    "Synergy and MI(r;{x,v})"
   ]
  },
  {
   "cell_type": "code",
   "execution_count": null,
   "metadata": {
    "scrolled": true
   },
   "outputs": [],
   "source": [
    "legend_list = []\n",
    "fig, (ax2, ax3) = plt.subplots(nrows=1, ncols=2) \n",
    "for i in range(len(x_list)):\n",
    "    ax2.plot(timeshift,Information_list[i][('Beer','Syn')])\n",
    "    ax3.plot(timeshift,Information_list[i][('Beer','UIx')]+Information_list[i][('Beer','Red')]+Information_list[i][('Beer','UIv')]+Information_list[i][('Beer','Syn')])\n",
    "    legend_list.append (r'$t_{corr}$='+str(t_cor_list[i]))\n",
    "ax2.set_title('CI(r;(x,v)) (Beer)')\n",
    "ax2.set_xlabel('Time(s)')\n",
    "ax2.set_ylabel('Information(bit/s)')\n",
    "ax3.set_title('MI(r;(x,v))')\n",
    "ax3.set_xlabel('Time(s)')\n",
    "ax3.set_ylabel('Information(bit/s)')\n",
    "ax2.legend( legend_list , loc='best', prop={'size': 'large', 'family': 'monospace'})\n",
    "ax3.legend( legend_list , loc='best', prop={'size': 'large', 'family': 'monospace'})\n",
    "ax3.grid()\n",
    "ax2.grid()\n",
    "# ax2.set_xlim( -0.5, 0.2)\n",
    "fig.set_size_inches(15, 5)"
   ]
  },
  {
   "cell_type": "markdown",
   "metadata": {},
   "source": [
    "# Fake Spike - NGD0D"
   ]
  },
  {
   "cell_type": "markdown",
   "metadata": {},
   "source": [
    "## parameters for NGD model and Spike generator"
   ]
  },
  {
   "cell_type": "code",
   "execution_count": null,
   "metadata": {},
   "outputs": [],
   "source": [
    "#following paremeters match x+v*0.5s\n",
    "alpha = 40. #1/sec\n",
    "beta =  2\n",
    "K = 50.\n",
    "g = 2.\n",
    "phi = 20\n",
    "\n",
    "\n",
    "y_list = []\n",
    "# Delta_list = [.85, .85, .85, .85]\n",
    "for i in range(len(x_list)):\n",
    "    x = x_list[i].copy()\n",
    "    v = v_list[i].copy()\n",
    "#     r1 = x_list[i]+Delta_list[i]*v_list[i]\n",
    "    y=np.zeros(len(T_list[i]))\n",
    "    z=np.zeros(len(T_list[i]))\n",
    "    for j in range(len(T_list[i])-1):\n",
    "        dy=dt*(-alpha*y[j]+K*(x[j]-phi*z[j]))\n",
    "        dz=dt*(-beta*z[j]+g*y[j])\n",
    "        noise = K/alpha*np.std(x)*np.random.randn()*0\n",
    "        y[j+1]=y[j]+dy+noise\n",
    "        z[j+1]=z[j]+dz\n",
    "    y_list.append(y.copy())"
   ]
  },
  {
   "cell_type": "code",
   "execution_count": null,
   "metadata": {},
   "outputs": [],
   "source": [
    "plt.plot(x_list[3])\n",
    "plt.plot(y_list[3])\n",
    "plt.xlim([15000, 16000])"
   ]
  },
  {
   "cell_type": "markdown",
   "metadata": {},
   "source": [
    "Assign states"
   ]
  },
  {
   "cell_type": "code",
   "execution_count": null,
   "metadata": {},
   "outputs": [],
   "source": [
    "FakeSpike_list = [0]*len(x_list)\n",
    "ystate_list = [0]*len(x_list)\n",
    "time_ystate_list = [0]*len(x_list)\n",
    "order = np.arange(len(x_list))\n",
    "np.random.shuffle(order)\n",
    "print(order)\n",
    "ratio, theta = 0, 0\n",
    "for i in order:\n",
    "    y = y_list[i].copy()\n",
    "    r = NL(y-np.mean(y), 0)\n",
    "    ratio = sum(r)/T_list[i][-1]/2\n",
    "    FakeSpike_list[i] = Spike_Time_Generater(r/ratio, dt, 10)\n",
    "    ystate_list[i], _ = np.histogram(FakeSpike_list[i], np.append(0,T_list[i]))\n",
    "#     theta = 1.5*np.std(y) if theta == 0 else theta\n",
    "#     r = NL(np.mean(y)-y, theta)\n",
    "#     ratio = sum(r)/sum(rstate_list[i]) if ratio == 0 else ratio\n",
    "#     FakeSpike_list[i] = Spike_Time_Generater(r/ratio, dt, 10)\n",
    "#     print(len(FakeSpike_list[i])/sum(rstate_list[i]), len(FakeSpike_list[i])/len(r1))\n",
    "#     ystate_list[i], _ = np.histogram(FakeSpike_list[i], np.append(0,T_list[i]))\n",
    "#     Spike = np.hstack((0, FakeSpike_list[i], T_list[i][-1]))\n",
    "#     counter = 0\n",
    "#     ty = np.zeros_like(y)\n",
    "#     for k in range(len(ystate_list[i])):\n",
    "#         counter += ystate_list[i][k]\n",
    "#         ty[k] = (Spike[counter+1]-Spike[counter-ystate_list[i][k]])/(ystate_list[i][k]+1)\n",
    "#     time_ystate_list[i], _ = EqualState(ty, 6)"
   ]
  },
  {
   "cell_type": "markdown",
   "metadata": {},
   "source": [
    "## Plot STA"
   ]
  },
  {
   "cell_type": "code",
   "execution_count": null,
   "metadata": {},
   "outputs": [],
   "source": [
    "fig, (ax2, ax3) = plt.subplots(2,1)\n",
    "for i in range(len(x_list)):\n",
    "    ax2.plot(T_list[i]-np.mean(T_list[i]), np.correlate(x_list[i], ystate_list[i], 'same')/ np.correlate(np.ones_like(x_list[i]), ystate_list[i], 'same'))\n",
    "    ax2.set_title('Fake')\n",
    "    ax3.plot(T_list[i]-np.mean(T_list[i]), np.correlate(x_list[i], rstate_list[i], 'same')/ np.correlate(np.ones_like(x_list[i]), rstate_list[i], 'same'))\n",
    "    ax3.set_title('Real')\n",
    "for ax in (ax2, ax3): \n",
    "    ax.set_xlim([-1,1])\n",
    "    ax.grid()\n",
    "fig.set_size_inches(6, 7.5)"
   ]
  },
  {
   "cell_type": "markdown",
   "metadata": {},
   "source": [
    "## Plot MI"
   ]
  },
  {
   "cell_type": "code",
   "execution_count": null,
   "metadata": {
    "scrolled": true
   },
   "outputs": [],
   "source": [
    "window = [-1,1] # second\n",
    "NGD_Information_list = [0]*len(y_list)\n",
    "for i in range(len(y_list)):\n",
    "    timeshift, NGD_Information_list[i] = PIfunc(ystate_list[i], xstate_list[i], vstate_list[i], dt, window)\n",
    "Information_list = NGD_Information_list.copy()"
   ]
  },
  {
   "cell_type": "code",
   "execution_count": null,
   "metadata": {},
   "outputs": [],
   "source": [
    "for i in range(len(x_list)):\n",
    "    fig, (ax2, ax3) = plt.subplots(nrows=1, ncols=2) \n",
    "    ax2.plot(timeshift,Information_list[i][('Beer','UIx')], 'r-')\n",
    "    ax2.plot(timeshift,Information_list[i][('Beer','UIv')], 'b-')\n",
    "    ax2.plot(timeshift,Information_list[i][('Beer','Syn')], 'k-')\n",
    "    ax2.plot(timeshift,Information_list[i][('Beer','Red')], 'g-')\n",
    "    ax2.yaxis.set_major_locator(MaxNLocator(integer=True))\n",
    "    ax2.set_title('Partial Information (Beer)  '+r'$t_{corr}$='+str(t_cor_list[i]))\n",
    "    ax2.set_xlabel('Time(s)')\n",
    "    ax2.set_ylabel('Information(bit/s)')\n",
    "    ax2.legend( (r'$U_x$', r'$U_v$', 'synergy', 'redundancy'), loc='best', prop={'size': 'large', 'family': 'monospace'})\n",
    "    ax2.grid()\n",
    "    \n",
    "    #plot MIs\n",
    "    ax3.plot(timeshift,Information_list[i][('Beer','UIx')]+Information_list[i][('Beer','Red')], 'r-')\n",
    "    ax3.plot(timeshift,Information_list[i][('Beer','UIv')]+Information_list[i][('Beer','Red')], 'b-')\n",
    "    ax3.plot(timeshift,Information_list[i][('Beer','UIx')]+Information_list[i][('Beer','Red')]+Information_list[i][('Beer','UIv')]+Information_list[i][('Beer','Syn')], 'k-')\n",
    "    ax3.plot(timeshift,Information_list[i][('Beer','UIx')]+2*Information_list[i][('Beer','Red')]+Information_list[i][('Beer','UIv')], 'm-')\n",
    "    ax3.yaxis.set_major_locator(MaxNLocator(integer=True))\n",
    "    ax3.set_title('Mutual Information '+r'$t_{corr}$='+str(t_cor_list[i]))\n",
    "    ax3.set_xlabel('Time(s)')\n",
    "    ax3.set_ylabel('Information(bit/s)')\n",
    "    ax3.grid()\n",
    "    ax3.legend( ('MI(x,r)', 'MI(v,r)', 'MI({x,v},r)', 'MI(x,r)+MI(v,r)'), loc='best', prop={'size': 'large', 'family': 'monospace'})\n",
    "    fig.set_size_inches(15, 5)"
   ]
  },
  {
   "cell_type": "markdown",
   "metadata": {},
   "source": [
    "x"
   ]
  },
  {
   "cell_type": "code",
   "execution_count": null,
   "metadata": {},
   "outputs": [],
   "source": [
    "legend_list = []\n",
    "fig, (ax2, ax3) = plt.subplots(nrows=1, ncols=2) \n",
    "for i in range(len(y_list)):\n",
    "    ax2.plot(timeshift,Information_list[i][('Beer','UIx')])\n",
    "    ax3.plot(timeshift,Information_list[i][('Beer','UIx')]+Information_list[i][('Beer','Red')])\n",
    "    legend_list.append (r'$t_{corr}$='+str(t_cor_list[i]))\n",
    "ax2.set_title('UI(r;x/v) (Beer)')\n",
    "ax2.set_xlabel('Time(s)')\n",
    "ax2.set_ylabel('Information(bit/s)')\n",
    "ax3.set_title('MI(r,x)')\n",
    "ax3.set_xlabel('Time(s)')\n",
    "ax3.set_ylabel('Information(bit/s)')\n",
    "ax2.legend( legend_list , loc='best', prop={'size': 'large', 'family': 'monospace'})\n",
    "ax3.legend( legend_list , loc='best', prop={'size': 'large', 'family': 'monospace'})\n",
    "ax3.grid()\n",
    "ax2.grid()\n",
    "fig.set_size_inches(15, 5)"
   ]
  },
  {
   "cell_type": "markdown",
   "metadata": {},
   "source": [
    "v"
   ]
  },
  {
   "cell_type": "code",
   "execution_count": null,
   "metadata": {},
   "outputs": [],
   "source": [
    "legend_list = []\n",
    "fig, (ax2, ax3) = plt.subplots(nrows=1, ncols=2) \n",
    "for i in range(len(y_list)):\n",
    "    ax2.plot(timeshift,Information_list[i][('Beer','UIv')])\n",
    "    ax3.plot(timeshift,Information_list[i][('Beer','UIv')]+Information_list[i][('Beer','Red')])\n",
    "    legend_list.append (r'$t_{corr}$='+str(t_cor_list[i]))\n",
    "ax2.set_title('UI(r;v/x) (Beer)')\n",
    "ax2.set_xlabel('Time(s)')\n",
    "ax2.set_ylabel('Information(bit/s)')\n",
    "ax3.set_title('MI(r,v)')\n",
    "ax3.set_xlabel('Time(s)')\n",
    "ax3.set_ylabel('Information(bit/s)')\n",
    "ax2.legend( legend_list , loc='best', prop={'size': 'large', 'family': 'monospace'})\n",
    "ax3.legend( legend_list , loc='best', prop={'size': 'large', 'family': 'monospace'})\n",
    "ax3.grid()\n",
    "ax2.grid()\n",
    "# ax2.set_xlim( -0.3, 0.3)\n",
    "fig.set_size_inches(15, 5)"
   ]
  },
  {
   "cell_type": "markdown",
   "metadata": {},
   "source": [
    "Synergy and MI(r;{x,v})"
   ]
  },
  {
   "cell_type": "code",
   "execution_count": null,
   "metadata": {
    "scrolled": true
   },
   "outputs": [],
   "source": [
    "legend_list = []\n",
    "fig, (ax2, ax3) = plt.subplots(nrows=1, ncols=2) \n",
    "for i in range(len(y_list)):\n",
    "    ax2.plot(timeshift,Information_list[i][('Beer','Syn')])\n",
    "    ax3.plot(timeshift,Information_list[i][('Beer','UIx')]+Information_list[i][('Beer','Red')]+Information_list[i][('Beer','UIv')]+Information_list[i][('Beer','Syn')])\n",
    "    legend_list.append (r'$t_{corr}$='+str(t_cor_list[i]))\n",
    "ax2.set_title('CI(r;(x,v)) (Beer)')\n",
    "ax2.set_xlabel('Time(s)')\n",
    "ax2.set_ylabel('Information(bit/s)')\n",
    "ax3.set_title('MI(r;(x,v))')\n",
    "ax3.set_xlabel('Time(s)')\n",
    "ax3.set_ylabel('Information(bit/s)')\n",
    "ax2.legend( legend_list , loc='best', prop={'size': 'large', 'family': 'monospace'})\n",
    "ax3.legend( legend_list , loc='best', prop={'size': 'large', 'family': 'monospace'})\n",
    "ax3.grid()\n",
    "ax2.grid()\n",
    "# ax2.set_xlim( -0.5, 0.2)\n",
    "fig.set_size_inches(15, 5)"
   ]
  },
  {
   "cell_type": "markdown",
   "metadata": {},
   "source": [
    "## Matching peak height and $\\Delta$ (of spikes from NGD)"
   ]
  },
  {
   "cell_type": "code",
   "execution_count": null,
   "metadata": {},
   "outputs": [],
   "source": [
    "# Delta_list = []\n",
    "# for i in range(len(x_list)):\n",
    "#     loadfiles = np.load('4PID_paper\\\\Delta vs. PI\\\\WF_PeakHeights_Fc='+str(Fc_list[i])+'.npz', allow_pickle=True)\n",
    "#     for k in loadfiles.files:\n",
    "#         vars()[k] = loadfiles[k][()]\n",
    "#     Uvox_ratio_table = Uv_peakH/Ux_peakH\n",
    "#     Uvox_ratio = max(Information_list[i][('Beer','UIv')])/max(Information_list[i][('Beer','UIx')])\n",
    "#     delta = np.interp(Uvox_ratio, Uvox_ratio_table, deltaTs)\n",
    "#     Delta_list.append(delta)\n",
    "# print(Delta_list)"
   ]
  },
  {
   "cell_type": "code",
   "execution_count": null,
   "metadata": {},
   "outputs": [],
   "source": []
  },
  {
   "cell_type": "code",
   "execution_count": null,
   "metadata": {},
   "outputs": [],
   "source": []
  },
  {
   "cell_type": "markdown",
   "metadata": {},
   "source": [
    "# For Paper"
   ]
  },
  {
   "cell_type": "code",
   "execution_count": null,
   "metadata": {},
   "outputs": [],
   "source": [
    "# i = 3\n",
    "# print('Fc=', Fc_list[i])\n",
    "# fig, (ax2, ax3) = plt.subplots(nrows=1, ncols=2) \n",
    "# ax2.plot(timeshift,Information_list[i][('Beer','UIx')], 'r-')\n",
    "# ax2.plot(timeshift,Information_list[i][('Beer','UIv')], 'b-')\n",
    "# ax2.plot(timeshift,Information_list[i][('Beer','Syn')], 'k-')\n",
    "# ax2.plot(timeshift,Information_list[i][('Beer','Red')], 'g-')\n",
    "# ax2.set_title('Partial Information')#+r'$t_{corr}$='+str(t_cor_list[i]))\n",
    "# ax2.set_xlabel('Time (s)')\n",
    "# ax2.set_ylabel('Information (bit/s)')\n",
    "# ax2.legend( (r'$U_x$', r'$U_{\\dotx}$', 'synergy', 'redundancy'), loc='best', prop={'size': 'large', 'family': 'monospace'})\n",
    "# ax2.grid()\n",
    "\n",
    "# #plot MIs\n",
    "# ax3.plot(timeshift,Information_list[i][('Beer','UIx')]+Information_list[i][('Beer','Red')], 'r-')\n",
    "# ax3.plot(timeshift,Information_list[i][('Beer','UIv')]+Information_list[i][('Beer','Red')], 'b-')\n",
    "# ax3.plot(timeshift,Information_list[i][('Beer','UIx')]+Information_list[i][('Beer','Red')]\n",
    "#          +Information_list[i][('Beer','UIv')]+Information_list[i][('Beer','Syn')], 'k-')\n",
    "# ax3.plot(timeshift,Information_list[i][('Beer','UIx')]+2*Information_list[i][('Beer','Red')]\n",
    "#          +Information_list[i][('Beer','UIv')], 'm-')\n",
    "# ax3.set_title('Mutual Information ')#+r'$t_{corr}$='+str(t_cor_list[i]))\n",
    "# ax3.set_xlabel('Time (s)')\n",
    "# ax3.set_ylabel('Information (bit/s)')\n",
    "# ax3.grid()\n",
    "# ax3.legend( ('I(x,r)', r'I($\\dotx$,r)', r'I({x,$\\dotx$},r)', r'I(x,r)+I($\\dotx$,r)'), loc='best', prop={'size': 'large', 'family': 'monospace'})\n",
    "# fig.text(0.06,0.8, '(a)', fontsize = 20)\n",
    "# fig.set_size_inches(16, 4*(np.sqrt(5)-1))"
   ]
  },
  {
   "cell_type": "code",
   "execution_count": null,
   "metadata": {},
   "outputs": [],
   "source": [
    "# fig.savefig('D:\\\\GoogleDrive\\\\retina\\\\PID_paper\\\\NP_TLPID.jpeg')"
   ]
  },
  {
   "cell_type": "code",
   "execution_count": null,
   "metadata": {},
   "outputs": [],
   "source": [
    "# import pandas as pd\n",
    "# i = 3\n",
    "# Information_list[i][('timeshift','timeshift')] = timeshift\n",
    "# Information_list[i][('MI','I(x,r)')] = Information_list[i][('Beer','UIx')]+Information_list[i][('Beer','Red')]\n",
    "# Information_list[i][('MI',r'I($\\dotx$,r)')] = Information_list[i][('Beer','UIv')]+Information_list[i][('Beer','Red')]\n",
    "# Information_list[i][('MI',r'I({x,$\\dotx$},r)')] = Information_list[i][('Beer','UIx')]+Information_list[i][('Beer','Red')]+Information_list[i][('Beer','UIv')]+Information_list[i][('Beer','Syn')]\n",
    "# Information_list[i][('MI',r'I(x,r)+I($\\dotx$,r)')] = Information_list[i][('Beer','UIx')]+2*Information_list[i][('Beer','Red')]+Information_list[i][('Beer','UIv')]\n",
    "# data_df = pd.DataFrame(Information_list[i])\n",
    "# # data = np.arange(1,101).reshape((10,10))\n",
    "# # data_df = pd.DataFrame(data)\n",
    " \n",
    "# # # change the index and column name\n",
    "# # data_df.columns = ['A','B','C','D','E','F','G','H','I','J']\n",
    "# # data_df.index = ['a','b','c','d','e','f','g','h','i','j']\n",
    " \n",
    "# # create and writer pd.DataFrame to excel\n",
    "# name  = 'ModelMIPI_5Hz'\n",
    "# writer = pd.ExcelWriter('D:\\\\GoogleDrive\\\\retina\\\\PID_paper\\\\For Origin Plot\\\\'+name+'.xlsx')\n",
    "# data_df.to_excel(writer,'page_1',float_format='%.5f') # float_format 控制精度\n",
    "# writer.save()"
   ]
  },
  {
   "cell_type": "code",
   "execution_count": null,
   "metadata": {},
   "outputs": [],
   "source": []
  }
 ],
 "metadata": {
  "kernelspec": {
   "display_name": "Python 3",
   "language": "python",
   "name": "python3"
  },
  "language_info": {
   "codemirror_mode": {
    "name": "ipython",
    "version": 3
   },
   "file_extension": ".py",
   "mimetype": "text/x-python",
   "name": "python",
   "nbconvert_exporter": "python",
   "pygments_lexer": "ipython3",
   "version": "3.7.6"
  },
  "toc": {
   "base_numbering": 1,
   "nav_menu": {
    "height": "187px",
    "width": "383px"
   },
   "number_sections": true,
   "sideBar": true,
   "skip_h1_title": false,
   "title_cell": "Table of Contents",
   "title_sidebar": "Contents",
   "toc_cell": false,
   "toc_position": {
    "height": "789px",
    "left": "557px",
    "top": "241px",
    "width": "165px"
   },
   "toc_section_display": true,
   "toc_window_display": true
  },
  "varInspector": {
   "cols": {
    "lenName": 16,
    "lenType": 16,
    "lenVar": 40
   },
   "kernels_config": {
    "python": {
     "delete_cmd_postfix": "",
     "delete_cmd_prefix": "del ",
     "library": "var_list.py",
     "varRefreshCmd": "print(var_dic_list())"
    },
    "r": {
     "delete_cmd_postfix": ") ",
     "delete_cmd_prefix": "rm(",
     "library": "var_list.r",
     "varRefreshCmd": "cat(var_dic_list()) "
    }
   },
   "position": {
    "height": "273px",
    "left": "1523px",
    "right": "20px",
    "top": "112px",
    "width": "350px"
   },
   "types_to_exclude": [
    "module",
    "function",
    "builtin_function_or_method",
    "instance",
    "_Feature"
   ],
   "window_display": false
  }
 },
 "nbformat": 4,
 "nbformat_minor": 4
}
