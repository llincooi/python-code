{
 "cells": [
  {
   "attachments": {},
   "cell_type": "markdown",
   "metadata": {},
   "source": [
    "# Figsetup\n",
    "Using 20200408 Chou's data, unit2.<br>\n",
    "shortcaption: Temporal kernel of cells on MEA in the LED setup<br>\n",
    "label: TK_MEA_LED"
   ]
  },
  {
   "cell_type": "code",
   "execution_count": 1,
   "metadata": {
    "run_control": {
     "marked": true
    }
   },
   "outputs": [],
   "source": [
    "import numpy as np\n",
    "import matplotlib.pyplot as plt\n",
    "from mpl_toolkits import mplot3d\n",
    "from matplotlib.ticker import MaxNLocator\n",
    "import math\n",
    "from scipy import signal\n",
    "from scipy.fftpack import fft\n",
    "from scipy import ndimage\n",
    "from scipy.io import loadmat\n",
    "from scipy.optimize import curve_fit\n",
    "import os\n",
    "import warnings\n",
    "warnings.filterwarnings('ignore')\n",
    "%matplotlib inline"
   ]
  },
  {
   "cell_type": "code",
   "execution_count": 2,
   "metadata": {},
   "outputs": [
    {
     "name": "stdout",
     "output_type": "stream",
     "text": [
      "importing Jupyter notebook from StimulusnResponse.ipynb\n"
     ]
    }
   ],
   "source": [
    "import import_ipynb\n",
    "try:\n",
    "    os.chdir('C:\\\\Users\\\\hydro_leo\\\\Documents\\\\GitHub\\\\python-code\\\\Modules')\n",
    "except:\n",
    "    os.chdir('C:\\\\Users\\\\llinc\\\\GitHub\\\\python-code\\\\Modules')\n",
    "from StimulusnResponse import expSnR"
   ]
  },
  {
   "cell_type": "code",
   "execution_count": 3,
   "metadata": {},
   "outputs": [],
   "source": [
    "def ensure_dir(file_path):\n",
    "    if not os.path.exists(file_path):\n",
    "        os.makedirs(file_path)"
   ]
  },
  {
   "cell_type": "code",
   "execution_count": 4,
   "metadata": {},
   "outputs": [],
   "source": [
    "def NGD_TK_AS(T, epsilon, omegastar, deltastar, tau_y, Bmp):\n",
    "    dt = np.mean(np.diff(T))\n",
    "    dt = dt/50\n",
    "    T = np.arange(0, T[-1]+dt, dt)\n",
    "    x = T/tau_y /tau_y *np.exp(-T/tau_y)*dt\n",
    "    \n",
    "    Kt = -Bmp*np.exp(-epsilon*T)*np.cos(T*omegastar+deltastar)\n",
    "    return np.convolve(x, Kt, 'full')[:len(T):50]"
   ]
  },
  {
   "cell_type": "code",
   "execution_count": 5,
   "metadata": {},
   "outputs": [],
   "source": [
    "#This function deals with differentiation of angle within [-pi,pi).\n",
    "#It will fail if angle array x change too fast.\n",
    "def angular_gradient(x):\n",
    "    diffx= np.gradient(x)\n",
    "    diffx[np.abs(diffx)>0.6*np.pi] -= np.pi*diffx[np.abs(diffx)>0.6*np.pi]/abs(diffx[np.abs(diffx)>0.6*np.pi])\n",
    "    return diffx"
   ]
  },
  {
   "cell_type": "code",
   "execution_count": 6,
   "metadata": {},
   "outputs": [],
   "source": [
    "figmap = [[np.nan, 7,15,23,31,39,47,np.nan],\n",
    "          [     1, 8,16,24,32,40,48,    55],\n",
    "          [     2, 9,17,25,33,41,49,    56],\n",
    "          [     3,10,18,26,34,42,50,    57],\n",
    "          [     4,11,19,27,35,43,51,    58],\n",
    "          [     5,12,20,28,36,44,52,    59],\n",
    "          [     6,13,21,29,37,45,53,    60],\n",
    "          [np.nan,14,22,30,38,46,54,np.nan]]\n",
    "figmap = np.array(figmap)\n",
    "XOsave = True"
   ]
  },
  {
   "cell_type": "code",
   "execution_count": null,
   "metadata": {},
   "outputs": [],
   "source": [
    "for exp_date in ['0408']:\n",
    "    exp_folder = 'D:\\\\GoogleDrive\\\\retina\\\\Chou\\'s data\\\\2020'+exp_date\n",
    "    for filename in os.listdir(exp_folder):\n",
    "        if filename.find('cSTA') != -1:\n",
    "            dt = 0.01\n",
    "            x_list, T_list, rstate_list = expSnR([exp_folder+'\\\\'+filename], dt, 'LED', np.arange(60)+1)\n",
    "            x = x_list[0]\n",
    "            x = x-np.mean(x)\n",
    "            cSTA_list = [0]*60\n",
    "            dcn = []\n",
    "            fig, ax = plt.subplots(nrows=8, ncols=8)\n",
    "            fig.set_size_inches(60, 30)\n",
    "            for cn in range(60):\n",
    "                rstate = rstate_list[0][cn,:]\n",
    "                if sum(rstate) == 0: continue\n",
    "                cSTA = np.correlate(x , rstate, 'same')/ np.correlate(np.ones_like(x), rstate, 'same')\n",
    "                cSTA = cSTA[int(len(cSTA)/2):int(len(cSTA)/2-1/dt)-1:-1]\n",
    "                taxis = -np.arange(len(cSTA))*dt\n",
    "                if (np.abs(cSTA[:round(len(cSTA)/2)]) < 7*np.std(cSTA[round(len(cSTA)/2):-1])).all(): continue\n",
    "                if sum(cSTA[:8]) < -1: dcn.append(cn) # exclude fitting of On-cell\n",
    "                ax[np.where(figmap == cn+1)][0].plot(taxis, cSTA, 'b+:')\n",
    "                cSTA_list[cn] = cSTA\n",
    "\n",
    "            name_list = ['epsilon', 'gamma', 'omegastar', 'deltastar', 'tau_y', 'Dmp']\n",
    "            para_dict = {}\n",
    "            for l in range(len(name_list)):\n",
    "                para_dict[name_list[l]] = np.zeros(60)\n",
    "            #-------------------------------------\n",
    "            fit_cSTA_list = [0]*60\n",
    "            para_dict['error'] = np.zeros(60)\n",
    "            for cn in dcn.copy():\n",
    "                epsilon = 10. #1/sec\n",
    "                gamma = 25.\n",
    "                omegastar = 30. \n",
    "                deltastar = 0.\n",
    "                tau_y = 0.04\n",
    "                Dmp = 10.\n",
    "                try:\n",
    "                    popt,pcov = curve_fit(NGD2L_TK_AS, np.abs(taxis), cSTA_list[cn], \n",
    "                                          p0     =  [epsilon, gamma , omegastar, deltastar, tau_y, Dmp   ],\n",
    "                                          bounds = ([0      , 0     , 0        , -np.pi/2 , 0    , 0     ], \n",
    "                                                    [np.inf , np.inf, np.inf   ,  np.pi/2 , 0.1  , np.inf ] ))\n",
    "                except:\n",
    "                    dcn.remove(cn)\n",
    "                    continue\n",
    "                for l in range(len(popt)):\n",
    "                    para_dict[name_list[l]][cn] = popt[l]\n",
    "            #     print(popt)\n",
    "                fit_cSTA_list[cn] = NGD2L_TK_AS(np.abs(taxis), *popt).copy()\n",
    "                para_dict['error'][cn] = sum((fit_cSTA_list[cn]-cSTA_list[cn])**2)\n",
    "                ax[np.where(figmap == cn+1)][0].plot(taxis, fit_cSTA_list[cn], 'r-')\n",
    "\n",
    "            for cn in range(60):\n",
    "                ax[np.where(figmap == cn+1)][0].set_title(str(cn+1), fontsize = 16)\n",
    "            fig.set_size_inches(30, 15)\n",
    "            fig.tight_layout()\n"
   ]
  },
  {
   "cell_type": "code",
   "execution_count": null,
   "metadata": {},
   "outputs": [],
   "source": [
    "# fig.set_size_inches(50, 25)\n",
    "# fig.tight_layout()\n",
    "# fig.savefig(exp_folder+'\\\\TKfit\\\\'+un+'_fitNGD2LASparameter.tiff', bbox_inches = 'tight',pad_inches = 0.3)"
   ]
  },
  {
   "cell_type": "code",
   "execution_count": null,
   "metadata": {},
   "outputs": [],
   "source": []
  }
 ],
 "metadata": {
  "kernelspec": {
   "display_name": "Python 3",
   "language": "python",
   "name": "python3"
  },
  "language_info": {
   "codemirror_mode": {
    "name": "ipython",
    "version": 3
   },
   "file_extension": ".py",
   "mimetype": "text/x-python",
   "name": "python",
   "nbconvert_exporter": "python",
   "pygments_lexer": "ipython3",
   "version": "3.7.6"
  },
  "toc": {
   "base_numbering": 1,
   "nav_menu": {
    "height": "187px",
    "width": "383px"
   },
   "number_sections": true,
   "sideBar": true,
   "skip_h1_title": false,
   "title_cell": "Table of Contents",
   "title_sidebar": "Contents",
   "toc_cell": false,
   "toc_position": {
    "height": "789px",
    "left": "557px",
    "top": "241px",
    "width": "165px"
   },
   "toc_section_display": true,
   "toc_window_display": false
  },
  "varInspector": {
   "cols": {
    "lenName": 16,
    "lenType": 16,
    "lenVar": 40
   },
   "kernels_config": {
    "python": {
     "delete_cmd_postfix": "",
     "delete_cmd_prefix": "del ",
     "library": "var_list.py",
     "varRefreshCmd": "print(var_dic_list())"
    },
    "r": {
     "delete_cmd_postfix": ") ",
     "delete_cmd_prefix": "rm(",
     "library": "var_list.r",
     "varRefreshCmd": "cat(var_dic_list()) "
    }
   },
   "position": {
    "height": "273px",
    "left": "1523px",
    "right": "20px",
    "top": "112px",
    "width": "350px"
   },
   "types_to_exclude": [
    "module",
    "function",
    "builtin_function_or_method",
    "instance",
    "_Feature"
   ],
   "window_display": true
  }
 },
 "nbformat": 4,
 "nbformat_minor": 4
}
