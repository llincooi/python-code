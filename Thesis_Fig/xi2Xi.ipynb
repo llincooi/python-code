{
 "cells": [
  {
   "cell_type": "markdown",
   "metadata": {},
   "source": [
    "# Functions"
   ]
  },
  {
   "cell_type": "code",
   "execution_count": 1,
   "metadata": {
    "run_control": {
     "marked": true
    }
   },
   "outputs": [],
   "source": [
    "import numpy as np\n",
    "import matplotlib.pyplot as plt\n",
    "from matplotlib.ticker import MaxNLocator\n",
    "from scipy import ndimage\n",
    "from scipy.io import loadmat\n",
    "import pandas as pd\n",
    "import os\n",
    "%matplotlib inline\n",
    "\n",
    "plt.rcParams['figure.facecolor'] = 'white'\n",
    "# plt.rcParams[\"font.family\"] = \"Times New Roman\"\n",
    "# plt.rcParams[\"font.size\"] = 16\n",
    "plt.rcParams[\"mathtext.fontset\"] = \"cm\""
   ]
  },
  {
   "cell_type": "code",
   "execution_count": 2,
   "metadata": {},
   "outputs": [
    {
     "name": "stdout",
     "output_type": "stream",
     "text": [
      "importing Jupyter notebook from time_shifted_PID.ipynb\n",
      "importing Jupyter notebook from J_broja_PID.ipynb\n",
      "importing Jupyter notebook from Spike_Generation.ipynb\n",
      "importing Jupyter notebook from StimulusnResponse.ipynb\n",
      "importing Jupyter notebook from SpatialTemporal_Correlation_and_Convolution.ipynb\n",
      "importing Jupyter notebook from NGD_TK_AS.ipynb\n"
     ]
    }
   ],
   "source": [
    "import import_ipynb\n",
    "try:\n",
    "    os.chdir('C:\\\\Users\\\\hydro_leo\\\\Documents\\\\GitHub\\\\python-code\\\\Modules')\n",
    "except:\n",
    "    os.chdir('C:\\\\Users\\\\llinc\\\\GitHub\\\\python-code\\\\Modules')\n",
    "from time_shifted_PID import Histo3D2Dict\n",
    "from time_shifted_PID import PIfunc\n",
    "from time_shifted_PID import EqualState\n",
    "from Spike_Generation import Spike_Time_Generater\n",
    "from Spike_Generation import NL\n",
    "from StimulusnResponse import expSnR\n",
    "from SpatialTemporal_Correlation_and_Convolution import ST_STA\n",
    "from NGD_TK_AS import NGD2L_TK_AS\n",
    "from NGD_TK_AS import ParaTrans"
   ]
  },
  {
   "cell_type": "code",
   "execution_count": 3,
   "metadata": {},
   "outputs": [],
   "source": [
    "def angular_gradient(x):\n",
    "    diffx= np.gradient(x)\n",
    "    diffx[np.abs(diffx)>0.6*np.pi] -= np.pi*diffx[np.abs(diffx)>0.6*np.pi]/abs(diffx[np.abs(diffx)>0.6*np.pi])\n",
    "    return diffx"
   ]
  },
  {
   "cell_type": "code",
   "execution_count": 4,
   "metadata": {},
   "outputs": [],
   "source": [
    "def cm2inch(value):\n",
    "    return value/2.54"
   ]
  },
  {
   "attachments": {},
   "cell_type": "markdown",
   "metadata": {},
   "source": [
    "# Figsetup\n",
    "\n",
    "shortcaption: The distribution of $\\xi$ and that of $\\Xi$. <br>\n",
    "label: xi2Xi"
   ]
  },
  {
   "cell_type": "code",
   "execution_count": 5,
   "metadata": {},
   "outputs": [],
   "source": [
    "filename = 'xi2Xi'"
   ]
  },
  {
   "cell_type": "markdown",
   "metadata": {},
   "source": [
    "# Load Experimental data"
   ]
  },
  {
   "cell_type": "markdown",
   "metadata": {},
   "source": [
    "## select files and channels"
   ]
  },
  {
   "cell_type": "code",
   "execution_count": 6,
   "metadata": {
    "run_control": {
     "marked": true
    }
   },
   "outputs": [],
   "source": [
    "Fc_list = [2]\n",
    "filenames = ['D:\\\\GoogleDrive\\\\retina\\\\Chou\\'s data\\\\20200408\\\\20200408_OU_cutoff='+str(Fc)+'_sort_unit2' for Fc in Fc_list]\n",
    "\n",
    "dt = 0.01\n",
    "cn = 53\n",
    "x_list, T_list, rstate_list = expSnR(filenames, dt, 'LED', [cn])"
   ]
  },
  {
   "cell_type": "code",
   "execution_count": 7,
   "metadata": {
    "run_control": {
     "marked": true
    }
   },
   "outputs": [],
   "source": [
    "#assign states\n",
    "state_num = 6\n",
    "xstate_list = [EqualState(x, state_num)[0] for x in x_list]"
   ]
  },
  {
   "cell_type": "code",
   "execution_count": 12,
   "metadata": {
    "run_control": {
     "marked": true
    }
   },
   "outputs": [
    {
     "data": {
      "image/png": "[encoded data removed]",
      "text/plain": [
       "<Figure size 720x216 with 2 Axes>"
      ]
     },
     "metadata": {},
     "output_type": "display_data"
    }
   ],
   "source": [
    "plt.rcParams[\"font.size\"] = 8\n",
    "fig, ax = plt.subplots(1,2)\n",
    "ax[0].hist(x_list[0], bins= np.arange(-3,3+1+0.5,0.5)-0.5)\n",
    "ax[1].hist(xstate_list[0], bins= np.arange(7)-0.5, rwidth= 0.95)\n",
    "\n",
    "ax[0].set_xlabel(r'normalized $\\xi$', fontsize = 16)\n",
    "ax[1].set_xlabel(r'$\\Xi$', fontsize = 16)\n",
    "for a in ax:\n",
    "    a.set_ylabel('number counts', fontsize = 16)\n",
    "    \n",
    "fig.tight_layout(pad = 0, w_pad = 0.0, h_pad=0.0)\n",
    "fig.set_size_inches(10, 3)\n"
   ]
  },
  {
   "cell_type": "code",
   "execution_count": 13,
   "metadata": {},
   "outputs": [],
   "source": [
    "fig.savefig('D:\\\\GoogleDrive\\\\retina\\\\thesis\\\\fig\\\\M\\\\'+filename+'.png',  bbox_inches='tight', pad_inches=0.1, dpi=300)"
   ]
  },
  {
   "cell_type": "code",
   "execution_count": null,
   "metadata": {},
   "outputs": [],
   "source": []
  },
  {
   "cell_type": "code",
   "execution_count": null,
   "metadata": {},
   "outputs": [],
   "source": []
  }
 ],
 "metadata": {
  "kernelspec": {
   "display_name": "Python 3",
   "language": "python",
   "name": "python3"
  },
  "language_info": {
   "codemirror_mode": {
    "name": "ipython",
    "version": 3
   },
   "file_extension": ".py",
   "mimetype": "text/x-python",
   "name": "python",
   "nbconvert_exporter": "python",
   "pygments_lexer": "ipython3",
   "version": "3.7.6"
  },
  "toc": {
   "base_numbering": 1,
   "nav_menu": {
    "height": "187px",
    "width": "383px"
   },
   "number_sections": true,
   "sideBar": true,
   "skip_h1_title": false,
   "title_cell": "Table of Contents",
   "title_sidebar": "Contents",
   "toc_cell": false,
   "toc_position": {
    "height": "789px",
    "left": "119px",
    "top": "229px",
    "width": "165px"
   },
   "toc_section_display": true,
   "toc_window_display": true
  },
  "varInspector": {
   "cols": {
    "lenName": 16,
    "lenType": 16,
    "lenVar": 40
   },
   "kernels_config": {
    "python": {
     "delete_cmd_postfix": "",
     "delete_cmd_prefix": "del ",
     "library": "var_list.py",
     "varRefreshCmd": "print(var_dic_list())"
    },
    "r": {
     "delete_cmd_postfix": ") ",
     "delete_cmd_prefix": "rm(",
     "library": "var_list.r",
     "varRefreshCmd": "cat(var_dic_list()) "
    }
   },
   "position": {
    "height": "273px",
    "left": "1523px",
    "right": "20px",
    "top": "112px",
    "width": "350px"
   },
   "types_to_exclude": [
    "module",
    "function",
    "builtin_function_or_method",
    "instance",
    "_Feature"
   ],
   "window_display": false
  }
 },
 "nbformat": 4,
 "nbformat_minor": 4
}
