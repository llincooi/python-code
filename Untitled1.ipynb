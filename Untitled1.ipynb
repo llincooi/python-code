{
 "cells": [
  {
   "cell_type": "code",
   "execution_count": 1,
   "metadata": {},
   "outputs": [],
   "source": [
    "import numpy as np\n",
    "import matplotlib.pyplot as plt\n",
    "from mpl_toolkits import mplot3d\n",
    "import math\n",
    "from scipy import signal\n",
    "from scipy.fftpack import fft\n",
    "from scipy import ndimage\n",
    "%matplotlib inline"
   ]
  },
  {
   "cell_type": "code",
   "execution_count": 2,
   "metadata": {},
   "outputs": [],
   "source": [
    "import os\n",
    "os.chdir('C:\\\\Users\\\\hydro_leo\\\\Documents\\\\GitHub\\\\python-code\\\\func')\n",
    "from BROJA_2PID_noprint import pid, BROJA_2PID_Exception"
   ]
  },
  {
   "cell_type": "code",
   "execution_count": 3,
   "metadata": {},
   "outputs": [
    {
     "name": "stdout",
     "output_type": "stream",
     "text": [
      "BROJA_2PID: Preparing Cone Program data...done.\n",
      "BROJA_2PID: Starting solver.\n",
      "\n",
      "ECOS 2.0.7 - (C) embotech GmbH, Zurich Switzerland, 2012-15. Web: www.embotech.com/ECOS\n",
      "\n",
      "It     pcost       dcost      gap   pres   dres    k/t    mu     step   sigma     IR    |   BT\n",
      " 0  +0.000e+00  -0.000e+00  +2e+01  8e-01  3e-01  1e+00  1e+00    ---    ---    0  0  - |  -  - \n",
      " 1  -1.633e+00  -1.107e+00  +5e+00  7e-01  1e-01  9e-01  2e-01  0.7833  9e-03   1  1  1 |  1  1\n",
      " 2  -1.477e+00  -1.310e+00  +1e+00  3e-01  3e-02  3e-01  5e-02  0.7833  9e-03   1  1  1 |  1  1\n",
      " 3  -5.699e-01  -5.330e-01  +2e-01  7e-02  7e-03  6e-02  1e-02  0.7833  9e-03   1  1  1 |  1  1\n",
      " 4  -3.905e-01  -3.700e-01  +1e-01  4e-02  4e-03  3e-02  5e-03  0.5013  1e-01   1  1  1 |  3  3\n",
      " 5  -2.725e-01  -2.680e-01  +2e-02  1e-02  9e-04  8e-03  1e-03  0.7833  1e-02   1  1  1 |  1  1\n",
      " 6  -2.514e-01  -2.496e-01  +9e-03  4e-03  4e-04  3e-03  4e-04  0.6266  5e-02   1  1  1 |  2  2\n",
      " 7  -2.415e-01  -2.411e-01  +2e-03  9e-04  8e-05  7e-04  9e-05  0.7833  9e-03   1  1  1 |  1  1\n",
      " 8  -2.398e-01  -2.397e-01  +8e-04  4e-04  3e-05  3e-04  4e-05  0.6266  5e-02   1  1  1 |  2  2\n",
      " 9  -2.390e-01  -2.389e-01  +2e-04  8e-05  8e-06  6e-05  8e-06  0.7833  9e-03   2  1  1 |  1  1\n",
      "10  -2.388e-01  -2.388e-01  +7e-05  3e-05  3e-06  2e-05  3e-06  0.6266  5e-02   1  1  1 |  2  2\n",
      "11  -2.387e-01  -2.387e-01  +2e-05  7e-06  7e-07  5e-06  8e-07  0.7833  9e-03   1  1  1 |  1  1\n",
      "12  -2.387e-01  -2.387e-01  +6e-06  3e-06  3e-07  2e-06  3e-07  0.6266  5e-02   2  0  0 |  2  2\n",
      "13  -2.387e-01  -2.387e-01  +1e-06  7e-07  6e-08  5e-07  7e-08  0.7833  9e-03   2  0  0 |  1  1\n",
      "14  -2.387e-01  -2.387e-01  +6e-07  3e-07  3e-08  2e-07  3e-08  0.6266  5e-02   1  0  0 |  2  2\n",
      "15  -2.387e-01  -2.387e-01  +1e-07  6e-08  6e-09  4e-08  6e-09  0.7833  9e-03   2  0  0 |  1  1\n",
      "16  -2.387e-01  -2.387e-01  +5e-08  2e-08  2e-09  2e-08  3e-09  0.6266  5e-02   1  0  0 |  2  2\n",
      "17  -2.387e-01  -2.387e-01  +1e-08  5e-09  5e-10  4e-09  6e-10  0.7833  9e-03   2  0  0 |  1  1\n",
      "18  -2.387e-01  -2.387e-01  +5e-09  2e-09  2e-10  1e-09  2e-10  0.6266  5e-02   1  0  0 |  2  2\n",
      "\n",
      "OPTIMAL (within feastol=2.2e-09, reltol=2.0e-08, abstol=4.7e-09).\n",
      "Runtime: 0.000472 seconds.\n",
      "\n",
      "\n",
      "BROJA_2PID: done.\n",
      "{'exitFlag': 0, 'pcost': -0.23869281976733164, 'dcost': -0.2386928190509024, 'pres': 2.176020576434228e-09, 'dres': 2.0594273044480632e-10, 'pinf': 0.0, 'dinf': 0.0, 'pinfres': nan, 'dinfres': 0.3665062245397669, 'gap': 4.688285197562703e-09, 'relgap': 1.9641500746158425e-08, 'r0': 1e-08, 'iter': 18, 'mi_iter': -1, 'infostring': 'Optimal solution found', 'timing': {'runtime': 0.0004724, 'tsetup': 4.26e-05, 'tsolve': 0.0004298}, 'numerr': 0}\n",
      "(0, 0, 0)\n",
      "0.2499999998228199\n",
      "0.37499999973359266\n",
      "0.25\n",
      "0.37499999953566354\n",
      "-6.524927300243185e-11\n",
      "\n",
      "\n",
      "(1, 0, 0)\n",
      "0.12499999971284363\n",
      "0.37499999973359266\n",
      "0.125\n",
      "0.37499999953566354\n",
      "-3.8434456871685306e-10\n",
      "\n",
      "\n",
      "(1, 0, 1)\n",
      "0.19136366393612073\n",
      "0.4999999996461699\n",
      "0.5\n",
      "0.19136366393612073\n",
      "-5.797149961435678e-10\n",
      "\n",
      "\n",
      "(1, 0, 2)\n",
      "0.05863633608532685\n",
      "0.12499999991164581\n",
      "0.125\n",
      "0.05863633608532685\n",
      "-6.395091159263698e-10\n",
      "\n",
      "\n",
      "(1, 1, 0)\n",
      "1.9792910969981217e-10\n",
      "0.37499999973359266\n",
      "0.125\n",
      "1.9792910969981217e-10\n",
      "-3.257988994539047e-10\n",
      "\n",
      "\n",
      "(1, 1, 1)\n",
      "0.30863633571004917\n",
      "0.4999999996461699\n",
      "0.5\n",
      "0.30863633571004917\n",
      "-6.408973989643028e-10\n",
      "\n",
      "\n",
      "(1, 1, 2)\n",
      "0.06636366382631896\n",
      "0.12499999991164581\n",
      "0.125\n",
      "0.06636366382631896\n",
      "-7.085714237922203e-10\n",
      "\n",
      "\n",
      "Time to check optimiality conditions:  0.0 secs\n"
     ]
    }
   ],
   "source": [
    "gate =dict()\n",
    "gate[(0,0,0)]=0.25\n",
    "gate[(1,1,0)]=0.125\n",
    "gate[(1,0,2)]=0.125\n",
    "gate[(1,0,1)]=0.25\n",
    "gate[(1,1,1)]=0.25\n",
    "parms = dict()\n",
    "parms['max_iters'] = 20\n",
    "parms['keep_solver_object'] = True\n",
    "return_data = pid(gate,output=2, **parms)"
   ]
  },
  {
   "cell_type": "code",
   "execution_count": 4,
   "metadata": {},
   "outputs": [
    {
     "data": {
      "text/plain": [
       "{'SI': 0.20443400508585557,\n",
       " 'UIY': -7.085714237922203e-10,\n",
       " 'UIZ': 0.26248318287019085,\n",
       " 'CI': 0.34436093721165784,\n",
       " 'Num_err': (3.5383013186063295e-10, 0.0, 6.327661450367117e-09),\n",
       " 'Solver': 'ECOS http://www.embotech.com/ECOS',\n",
       " 'Solver Object': <BROJA_2PID_noprint.Solve_w_ECOS at 0x178e3783d48>}"
      ]
     },
     "execution_count": 4,
     "metadata": {},
     "output_type": "execute_result"
    }
   ],
   "source": [
    "return_data"
   ]
  },
  {
   "cell_type": "code",
   "execution_count": 5,
   "metadata": {},
   "outputs": [
    {
     "data": {
      "text/plain": [
       "{(0, 0): 0.37499999953566354,\n",
       " (0, 1): 0.19136366393612073,\n",
       " (0, 2): 0.05863633608532685,\n",
       " (1, 0): 1.9792910969981217e-10,\n",
       " (1, 1): 0.30863633571004917,\n",
       " (1, 2): 0.06636366382631896}"
      ]
     },
     "execution_count": 5,
     "metadata": {},
     "output_type": "execute_result"
    }
   ],
   "source": [
    "return_data[\"Solver Object\"].marg_yz"
   ]
  },
  {
   "cell_type": "code",
   "execution_count": 16,
   "metadata": {},
   "outputs": [],
   "source": [
    "N = np.zeros((2,2,3), dtype=np.float)\n",
    "for k,v in gate.items():\n",
    "    N[k]=v\n",
    "#Calculate all kinds of probability and make sure the shape of them, 0 -> x, 1 -> v, 2 -> r\n",
    "px=(np.sum(N,axis=(1,2))/np.sum(N))[:, np.newaxis, np.newaxis]\n",
    "py=(np.sum(N,axis=(0,2))/np.sum(N))[np.newaxis, :, np.newaxis]\n",
    "pz=(np.sum(N,axis=(0,1))/np.sum(N))[np.newaxis ,np.newaxis, :]\n",
    "pxy=(np.sum(N,axis=2)/np.sum(N))[:, :, np.newaxis]\n",
    "pxz=(np.sum(N,axis=1)/np.sum(N))[:, np.newaxis, :]\n",
    "pyz=(np.sum(N,axis=0)/np.sum(N))[np.newaxis, :, :]\n",
    "pxyz=(N/np.sum(N))"
   ]
  },
  {
   "cell_type": "code",
   "execution_count": 25,
   "metadata": {},
   "outputs": [
    {
     "name": "stderr",
     "output_type": "stream",
     "text": [
      "C:\\Users\\hydro_leo\\anaconda3\\lib\\site-packages\\ipykernel_launcher.py:1: RuntimeWarning: divide by zero encountered in log2\n",
      "  \"\"\"Entry point for launching an IPython kernel.\n",
      "C:\\Users\\hydro_leo\\anaconda3\\lib\\site-packages\\ipykernel_launcher.py:1: RuntimeWarning: invalid value encountered in multiply\n",
      "  \"\"\"Entry point for launching an IPython kernel.\n",
      "C:\\Users\\hydro_leo\\anaconda3\\lib\\site-packages\\ipykernel_launcher.py:2: RuntimeWarning: divide by zero encountered in log2\n",
      "  \n",
      "C:\\Users\\hydro_leo\\anaconda3\\lib\\site-packages\\ipykernel_launcher.py:2: RuntimeWarning: invalid value encountered in multiply\n",
      "  \n",
      "C:\\Users\\hydro_leo\\anaconda3\\lib\\site-packages\\ipykernel_launcher.py:3: RuntimeWarning: invalid value encountered in true_divide\n",
      "  This is separate from the ipykernel package so we can avoid doing imports until\n",
      "C:\\Users\\hydro_leo\\anaconda3\\lib\\site-packages\\ipykernel_launcher.py:3: RuntimeWarning: divide by zero encountered in log2\n",
      "  This is separate from the ipykernel package so we can avoid doing imports until\n",
      "C:\\Users\\hydro_leo\\anaconda3\\lib\\site-packages\\ipykernel_launcher.py:3: RuntimeWarning: invalid value encountered in multiply\n",
      "  This is separate from the ipykernel package so we can avoid doing imports until\n",
      "C:\\Users\\hydro_leo\\anaconda3\\lib\\site-packages\\ipykernel_launcher.py:4: RuntimeWarning: divide by zero encountered in log2\n",
      "  after removing the cwd from sys.path.\n",
      "C:\\Users\\hydro_leo\\anaconda3\\lib\\site-packages\\ipykernel_launcher.py:4: RuntimeWarning: invalid value encountered in multiply\n",
      "  after removing the cwd from sys.path.\n",
      "C:\\Users\\hydro_leo\\anaconda3\\lib\\site-packages\\ipykernel_launcher.py:5: RuntimeWarning: divide by zero encountered in log2\n",
      "  \"\"\"\n",
      "C:\\Users\\hydro_leo\\anaconda3\\lib\\site-packages\\ipykernel_launcher.py:5: RuntimeWarning: invalid value encountered in multiply\n",
      "  \"\"\"\n"
     ]
    }
   ],
   "source": [
    "MIxz = np.nansum(pxz*np.log2(pxz/px/pz))\n",
    "MIxy = np.nansum(pxy*np.log2(pxy/px/py))\n",
    "MIyzX=np.nansum(pxyz*np.log2(pxyz/pyz/px))\n",
    "PI_yX = np.nansum(pxy*np.log2(pxy/px/py), axis = (1,2))\n",
    "PI_zX = np.nansum(pxz*np.log2(pxz/px/pz), axis = (1,2))\n",
    "R = sum(np.minimum(PI_yX, PI_zX))"
   ]
  },
  {
   "cell_type": "code",
   "execution_count": 27,
   "metadata": {},
   "outputs": [
    {
     "name": "stdout",
     "output_type": "stream",
     "text": [
      "0.46691718668869925 0.4669171879560464\n",
      "0.204434002924965 0.20443400437728415\n"
     ]
    },
    {
     "data": {
      "text/plain": [
       "0.204434002924965"
      ]
     },
     "execution_count": 27,
     "metadata": {},
     "output_type": "execute_result"
    }
   ],
   "source": [
    "print(MIxz, return_data['SI']+return_data['UIZ'])\n",
    "print(MIxy, return_data['SI']+return_data['UIY'])\n",
    "R"
   ]
  },
  {
   "cell_type": "code",
   "execution_count": null,
   "metadata": {},
   "outputs": [],
   "source": []
  }
 ],
 "metadata": {
  "kernelspec": {
   "display_name": "Python 3",
   "language": "python",
   "name": "python3"
  },
  "language_info": {
   "codemirror_mode": {
    "name": "ipython",
    "version": 3
   },
   "file_extension": ".py",
   "mimetype": "text/x-python",
   "name": "python",
   "nbconvert_exporter": "python",
   "pygments_lexer": "ipython3",
   "version": "3.7.6"
  }
 },
 "nbformat": 4,
 "nbformat_minor": 4
}
