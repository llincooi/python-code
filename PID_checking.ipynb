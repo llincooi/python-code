{
 "cells": [
  {
   "cell_type": "code",
   "execution_count": 1,
   "metadata": {},
   "outputs": [],
   "source": [
    "import numpy as np\n",
    "import matplotlib.pyplot as plt\n",
    "from mpl_toolkits import mplot3d\n",
    "import math\n",
    "from scipy import signal\n",
    "from scipy.fftpack import fft\n",
    "from scipy import ndimage\n",
    "%matplotlib inline"
   ]
  },
  {
   "cell_type": "code",
   "execution_count": 3,
   "metadata": {},
   "outputs": [],
   "source": [
    "import os\n",
    "os.chdir('C:\\\\Users\\\\hydro_leo\\\\Documents\\\\GitHub\\\\python-code\\\\func')\n",
    "# os.chdir('C:\\\\Users\\\\llinc\\\\GitHub\\\\python code\\\\func')\n",
    "from BROJA_2PID_noprint import pid, BROJA_2PID_Exception"
   ]
  },
  {
   "cell_type": "code",
   "execution_count": 19,
   "metadata": {},
   "outputs": [
    {
     "name": "stdout",
     "output_type": "stream",
     "text": [
      "(0, 0, 1)\n",
      "0.2499999991830173\n",
      "0.4999999983660346\n",
      "0.25\n",
      "0.2499999991830173\n",
      "0.2499999980043604\n",
      "\n",
      "\n",
      "(1, 0, 0)\n",
      "0.24999999918303487\n",
      "0.49999999836606973\n",
      "0.5\n",
      "0.24999999918303487\n",
      "0.24999999682572885\n",
      "\n",
      "\n",
      "(1, 1, 0)\n",
      "0.24999999918303487\n",
      "0.49999999836606973\n",
      "0.5\n",
      "0.24999999918303487\n",
      "0.2499999956470973\n",
      "\n",
      "\n",
      "(2, 1, 1)\n",
      "0.2499999991830173\n",
      "0.4999999983660346\n",
      "0.25\n",
      "0.2499999991830173\n",
      "0.4999999936514577\n",
      "\n",
      "\n"
     ]
    }
   ],
   "source": [
    "gate =dict()\n",
    "gate[(0,0,0)]=0.25\n",
    "gate[(0,0,1)]=0.25\n",
    "gate[(0,1,0)]=0.25\n",
    "gate[(0,1,1)]=0.25\n",
    "parms = dict()\n",
    "parms['max_iters'] = 20\n",
    "parms['keep_solver_object'] = True\n",
    "return_data = pid(gate,output=0, **parms)"
   ]
  },
  {
   "cell_type": "code",
   "execution_count": 20,
   "metadata": {},
   "outputs": [
    {
     "data": {
      "text/plain": [
       "{'SI': 1.4331015041335604e-08,\n",
       " 'UIY': 0.4999999936514577,\n",
       " 'UIZ': 0.9999999920175273,\n",
       " 'CI': 0.0,\n",
       " 'Num_err': (1.6339302966184022e-09, 0.0, 1.0605746185750827e-08),\n",
       " 'Solver': 'ECOS http://www.embotech.com/ECOS',\n",
       " 'Solver Object': <BROJA_2PID_noprint.Solve_w_ECOS at 0x2332e96eac8>}"
      ]
     },
     "execution_count": 20,
     "metadata": {},
     "output_type": "execute_result"
    }
   ],
   "source": [
    "return_data"
   ]
  },
  {
   "cell_type": "code",
   "execution_count": 6,
   "metadata": {},
   "outputs": [
    {
     "data": {
      "text/plain": [
       "{(0, 0): 0.24999999715247656,\n",
       " (0, 1): 0.2500000020983879,\n",
       " (1, 0): 2.475534080748902e-09,\n",
       " (1, 1): 0.49999999678567913}"
      ]
     },
     "execution_count": 6,
     "metadata": {},
     "output_type": "execute_result"
    }
   ],
   "source": [
    "return_data[\"Solver Object\"].marg_yz"
   ]
  },
  {
   "cell_type": "code",
   "execution_count": 6,
   "metadata": {},
   "outputs": [],
   "source": [
    "N = np.zeros((2,2,2), dtype=np.float)\n",
    "for k,v in gate.items():\n",
    "    N[k]=v\n",
    "#Calculate all kinds of probability and make sure the shape of them, 0 -> x, 1 -> v, 2 -> r\n",
    "px=(np.sum(N,axis=(1,2))/np.sum(N))[:, np.newaxis, np.newaxis]\n",
    "py=(np.sum(N,axis=(0,2))/np.sum(N))[np.newaxis, :, np.newaxis]\n",
    "pz=(np.sum(N,axis=(0,1))/np.sum(N))[np.newaxis ,np.newaxis, :]\n",
    "pxy=(np.sum(N,axis=2)/np.sum(N))[:, :, np.newaxis]\n",
    "pxz=(np.sum(N,axis=1)/np.sum(N))[:, np.newaxis, :]\n",
    "pyz=(np.sum(N,axis=0)/np.sum(N))[np.newaxis, :, :]\n",
    "pxyz=(N/np.sum(N))"
   ]
  },
  {
   "cell_type": "code",
   "execution_count": 7,
   "metadata": {},
   "outputs": [
    {
     "name": "stderr",
     "output_type": "stream",
     "text": [
      "C:\\Users\\llinc\\anaconda3\\lib\\site-packages\\ipykernel_launcher.py:1: RuntimeWarning: divide by zero encountered in log2\n",
      "  \"\"\"Entry point for launching an IPython kernel.\n",
      "C:\\Users\\llinc\\anaconda3\\lib\\site-packages\\ipykernel_launcher.py:1: RuntimeWarning: invalid value encountered in multiply\n",
      "  \"\"\"Entry point for launching an IPython kernel.\n",
      "C:\\Users\\llinc\\anaconda3\\lib\\site-packages\\ipykernel_launcher.py:2: RuntimeWarning: divide by zero encountered in log2\n",
      "  \n",
      "C:\\Users\\llinc\\anaconda3\\lib\\site-packages\\ipykernel_launcher.py:2: RuntimeWarning: invalid value encountered in multiply\n",
      "  \n",
      "C:\\Users\\llinc\\anaconda3\\lib\\site-packages\\ipykernel_launcher.py:3: RuntimeWarning: divide by zero encountered in log2\n",
      "  This is separate from the ipykernel package so we can avoid doing imports until\n",
      "C:\\Users\\llinc\\anaconda3\\lib\\site-packages\\ipykernel_launcher.py:3: RuntimeWarning: invalid value encountered in multiply\n",
      "  This is separate from the ipykernel package so we can avoid doing imports until\n",
      "C:\\Users\\llinc\\anaconda3\\lib\\site-packages\\ipykernel_launcher.py:4: RuntimeWarning: divide by zero encountered in log2\n",
      "  after removing the cwd from sys.path.\n",
      "C:\\Users\\llinc\\anaconda3\\lib\\site-packages\\ipykernel_launcher.py:4: RuntimeWarning: invalid value encountered in multiply\n",
      "  after removing the cwd from sys.path.\n",
      "C:\\Users\\llinc\\anaconda3\\lib\\site-packages\\ipykernel_launcher.py:5: RuntimeWarning: divide by zero encountered in log2\n",
      "  \"\"\"\n",
      "C:\\Users\\llinc\\anaconda3\\lib\\site-packages\\ipykernel_launcher.py:5: RuntimeWarning: invalid value encountered in multiply\n",
      "  \"\"\"\n"
     ]
    }
   ],
   "source": [
    "MIxz = np.nansum(pxz*np.log2(pxz/px/pz))\n",
    "MIxy = np.nansum(pxy*np.log2(pxy/px/py))\n",
    "MIyzX=np.nansum(pxyz*np.log2(pxyz/pyz/px))\n",
    "PI_yX = np.nansum(pxy*np.log2(pxy/px/py), axis = (1,2))\n",
    "PI_zX = np.nansum(pxz*np.log2(pxz/px/pz), axis = (1,2))\n",
    "R = sum(np.minimum(PI_yX, PI_zX))"
   ]
  },
  {
   "cell_type": "code",
   "execution_count": 8,
   "metadata": {},
   "outputs": [
    {
     "name": "stdout",
     "output_type": "stream",
     "text": [
      "0.31127812445913283 0.31127812576284875\n",
      "0.31127812445913283 0.31127812576284875\n",
      "0.22957395851362228\n",
      "0.5408520829727551\n"
     ]
    }
   ],
   "source": [
    "print(MIxz, return_data['SI']+return_data['UIZ'])\n",
    "print(MIxy, return_data['SI']+return_data['UIY'])\n",
    "print(MIyzX-MIxy-MIxy+R)\n",
    "print(MIyzX)"
   ]
  },
  {
   "cell_type": "code",
   "execution_count": 9,
   "metadata": {},
   "outputs": [
    {
     "data": {
      "text/plain": [
       "2.584962500721156"
      ]
     },
     "execution_count": 9,
     "metadata": {},
     "output_type": "execute_result"
    }
   ],
   "source": [
    "import math\n",
    "\n",
    "math.log2(6)"
   ]
  },
  {
   "cell_type": "code",
   "execution_count": 10,
   "metadata": {},
   "outputs": [
    {
     "data": {
      "text/plain": [
       "0.3333333333333333"
      ]
     },
     "execution_count": 10,
     "metadata": {},
     "output_type": "execute_result"
    }
   ],
   "source": [
    "1/3"
   ]
  },
  {
   "cell_type": "code",
   "execution_count": null,
   "metadata": {},
   "outputs": [],
   "source": []
  }
 ],
 "metadata": {
  "kernelspec": {
   "display_name": "Python 3",
   "language": "python",
   "name": "python3"
  },
  "language_info": {
   "codemirror_mode": {
    "name": "ipython",
    "version": 3
   },
   "file_extension": ".py",
   "mimetype": "text/x-python",
   "name": "python",
   "nbconvert_exporter": "python",
   "pygments_lexer": "ipython3",
   "version": "3.7.6"
  },
  "toc": {
   "base_numbering": 1,
   "nav_menu": {},
   "number_sections": true,
   "sideBar": true,
   "skip_h1_title": false,
   "title_cell": "Table of Contents",
   "title_sidebar": "Contents",
   "toc_cell": false,
   "toc_position": {},
   "toc_section_display": true,
   "toc_window_display": false
  },
  "varInspector": {
   "cols": {
    "lenName": 16,
    "lenType": 16,
    "lenVar": 40
   },
   "kernels_config": {
    "python": {
     "delete_cmd_postfix": "",
     "delete_cmd_prefix": "del ",
     "library": "var_list.py",
     "varRefreshCmd": "print(var_dic_list())"
    },
    "r": {
     "delete_cmd_postfix": ") ",
     "delete_cmd_prefix": "rm(",
     "library": "var_list.r",
     "varRefreshCmd": "cat(var_dic_list()) "
    }
   },
   "types_to_exclude": [
    "module",
    "function",
    "builtin_function_or_method",
    "instance",
    "_Feature"
   ],
   "window_display": false
  }
 },
 "nbformat": 4,
 "nbformat_minor": 4
}
