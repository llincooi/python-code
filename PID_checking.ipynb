{
 "cells": [
  {
   "cell_type": "code",
   "execution_count": 1,
   "metadata": {},
   "outputs": [],
   "source": [
    "import numpy as np\n",
    "import matplotlib.pyplot as plt\n",
    "from mpl_toolkits import mplot3d\n",
    "import math\n",
    "from scipy import signal\n",
    "from scipy.fftpack import fft\n",
    "from scipy import ndimage\n",
    "%matplotlib inline"
   ]
  },
  {
   "cell_type": "code",
   "execution_count": 2,
   "metadata": {},
   "outputs": [],
   "source": [
    "import os\n",
    "# os.chdir('C:\\\\Users\\\\hydro_leo\\\\Documents\\\\GitHub\\\\python-code\\\\func')\n",
    "os.chdir('C:\\\\Users\\\\llinc\\\\GitHub\\\\python code\\\\func')\n",
    "from BROJA_2PID_noprint import pid, BROJA_2PID_Exception"
   ]
  },
  {
   "cell_type": "code",
   "execution_count": 3,
   "metadata": {},
   "outputs": [
    {
     "name": "stdout",
     "output_type": "stream",
     "text": [
      "(0, 0, 0)\n",
      "0.49999999624654656\n",
      "0.49999999966102404\n",
      "0.5\n",
      "0.49999999624654656\n",
      "-4.890389306787927e-10\n",
      "\n",
      "\n",
      "(0, 0, 1)\n",
      "3.414477485337035e-09\n",
      "0.4999999996664844\n",
      "0.25\n",
      "3.414477485337035e-09\n",
      "2.925438551372413e-09\n",
      "\n",
      "\n",
      "(0, 1, 0)\n",
      "3.41447748336223e-09\n",
      "0.49999999966102404\n",
      "0.5\n",
      "3.41447748336223e-09\n",
      "2.9254385480327885e-09\n",
      "\n",
      "\n",
      "(0, 1, 1)\n",
      "0.24999999641874876\n",
      "0.4999999996664844\n",
      "0.25\n",
      "0.4999999962520069\n",
      "2.2180999521116738e-10\n",
      "\n",
      "\n",
      "(1, 1, 1)\n",
      "0.24999999983325816\n",
      "0.4999999996664844\n",
      "0.25\n",
      "0.4999999962520069\n",
      "2.4442772202734657e-09\n",
      "\n",
      "\n"
     ]
    }
   ],
   "source": [
    "gate =dict()\n",
    "gate[(0,0,0)]=1/3\n",
    "gate[(0,0,1)]=1/6\n",
    "gate[(0,1,0)]=1/6\n",
    "gate[(0,1,1)]=1/12\n",
    "gate[(1,1,1)]=0.25\n",
    "parms = dict()\n",
    "parms['max_iters'] = 20\n",
    "parms['keep_solver_object'] = True\n",
    "return_data = pid(gate,output=0, **parms)"
   ]
  },
  {
   "cell_type": "code",
   "execution_count": 4,
   "metadata": {},
   "outputs": [
    {
     "data": {
      "text/plain": [
       "{'SI': 0.3112781233185715,\n",
       " 'UIY': 2.4442772202734657e-09,\n",
       " 'UIZ': 2.4442772182986605e-09,\n",
       " 'CI': 0.22957395476562925,\n",
       " 'Num_err': (3.3897595358765267e-10, 0.0, 5.5504751350632375e-09),\n",
       " 'Solver': 'ECOS http://www.embotech.com/ECOS',\n",
       " 'Solver Object': <BROJA_2PID_noprint.Solve_w_ECOS at 0x286e2033a88>}"
      ]
     },
     "execution_count": 4,
     "metadata": {},
     "output_type": "execute_result"
    }
   ],
   "source": [
    "return_data"
   ]
  },
  {
   "cell_type": "code",
   "execution_count": 5,
   "metadata": {},
   "outputs": [
    {
     "data": {
      "text/plain": [
       "{(0, 0): 0.49999999624654656,\n",
       " (0, 1): 3.414477485337035e-09,\n",
       " (1, 0): 3.41447748336223e-09,\n",
       " (1, 1): 0.4999999962520069}"
      ]
     },
     "execution_count": 5,
     "metadata": {},
     "output_type": "execute_result"
    }
   ],
   "source": [
    "return_data[\"Solver Object\"].marg_yz"
   ]
  },
  {
   "cell_type": "code",
   "execution_count": 6,
   "metadata": {},
   "outputs": [],
   "source": [
    "N = np.zeros((2,2,2), dtype=np.float)\n",
    "for k,v in gate.items():\n",
    "    N[k]=v\n",
    "#Calculate all kinds of probability and make sure the shape of them, 0 -> x, 1 -> v, 2 -> r\n",
    "px=(np.sum(N,axis=(1,2))/np.sum(N))[:, np.newaxis, np.newaxis]\n",
    "py=(np.sum(N,axis=(0,2))/np.sum(N))[np.newaxis, :, np.newaxis]\n",
    "pz=(np.sum(N,axis=(0,1))/np.sum(N))[np.newaxis ,np.newaxis, :]\n",
    "pxy=(np.sum(N,axis=2)/np.sum(N))[:, :, np.newaxis]\n",
    "pxz=(np.sum(N,axis=1)/np.sum(N))[:, np.newaxis, :]\n",
    "pyz=(np.sum(N,axis=0)/np.sum(N))[np.newaxis, :, :]\n",
    "pxyz=(N/np.sum(N))"
   ]
  },
  {
   "cell_type": "code",
   "execution_count": 7,
   "metadata": {},
   "outputs": [
    {
     "name": "stderr",
     "output_type": "stream",
     "text": [
      "C:\\Users\\llinc\\anaconda3\\lib\\site-packages\\ipykernel_launcher.py:1: RuntimeWarning: divide by zero encountered in log2\n",
      "  \"\"\"Entry point for launching an IPython kernel.\n",
      "C:\\Users\\llinc\\anaconda3\\lib\\site-packages\\ipykernel_launcher.py:1: RuntimeWarning: invalid value encountered in multiply\n",
      "  \"\"\"Entry point for launching an IPython kernel.\n",
      "C:\\Users\\llinc\\anaconda3\\lib\\site-packages\\ipykernel_launcher.py:2: RuntimeWarning: divide by zero encountered in log2\n",
      "  \n",
      "C:\\Users\\llinc\\anaconda3\\lib\\site-packages\\ipykernel_launcher.py:2: RuntimeWarning: invalid value encountered in multiply\n",
      "  \n",
      "C:\\Users\\llinc\\anaconda3\\lib\\site-packages\\ipykernel_launcher.py:3: RuntimeWarning: divide by zero encountered in log2\n",
      "  This is separate from the ipykernel package so we can avoid doing imports until\n",
      "C:\\Users\\llinc\\anaconda3\\lib\\site-packages\\ipykernel_launcher.py:3: RuntimeWarning: invalid value encountered in multiply\n",
      "  This is separate from the ipykernel package so we can avoid doing imports until\n",
      "C:\\Users\\llinc\\anaconda3\\lib\\site-packages\\ipykernel_launcher.py:4: RuntimeWarning: divide by zero encountered in log2\n",
      "  after removing the cwd from sys.path.\n",
      "C:\\Users\\llinc\\anaconda3\\lib\\site-packages\\ipykernel_launcher.py:4: RuntimeWarning: invalid value encountered in multiply\n",
      "  after removing the cwd from sys.path.\n",
      "C:\\Users\\llinc\\anaconda3\\lib\\site-packages\\ipykernel_launcher.py:5: RuntimeWarning: divide by zero encountered in log2\n",
      "  \"\"\"\n",
      "C:\\Users\\llinc\\anaconda3\\lib\\site-packages\\ipykernel_launcher.py:5: RuntimeWarning: invalid value encountered in multiply\n",
      "  \"\"\"\n"
     ]
    }
   ],
   "source": [
    "MIxz = np.nansum(pxz*np.log2(pxz/px/pz))\n",
    "MIxy = np.nansum(pxy*np.log2(pxy/px/py))\n",
    "MIyzX=np.nansum(pxyz*np.log2(pxyz/pyz/px))\n",
    "PI_yX = np.nansum(pxy*np.log2(pxy/px/py), axis = (1,2))\n",
    "PI_zX = np.nansum(pxz*np.log2(pxz/px/pz), axis = (1,2))\n",
    "R = sum(np.minimum(PI_yX, PI_zX))"
   ]
  },
  {
   "cell_type": "code",
   "execution_count": 8,
   "metadata": {},
   "outputs": [
    {
     "name": "stdout",
     "output_type": "stream",
     "text": [
      "0.31127812445913283 0.31127812576284875\n",
      "0.31127812445913283 0.31127812576284875\n",
      "0.22957395851362228\n",
      "0.5408520829727551\n"
     ]
    }
   ],
   "source": [
    "print(MIxz, return_data['SI']+return_data['UIZ'])\n",
    "print(MIxy, return_data['SI']+return_data['UIY'])\n",
    "print(MIyzX-MIxy-MIxy+R)\n",
    "print(MIyzX)"
   ]
  },
  {
   "cell_type": "code",
   "execution_count": 9,
   "metadata": {},
   "outputs": [
    {
     "data": {
      "text/plain": [
       "2.584962500721156"
      ]
     },
     "execution_count": 9,
     "metadata": {},
     "output_type": "execute_result"
    }
   ],
   "source": [
    "import math\n",
    "\n",
    "math.log2(6)"
   ]
  },
  {
   "cell_type": "code",
   "execution_count": 10,
   "metadata": {},
   "outputs": [
    {
     "data": {
      "text/plain": [
       "0.3333333333333333"
      ]
     },
     "execution_count": 10,
     "metadata": {},
     "output_type": "execute_result"
    }
   ],
   "source": [
    "1/3"
   ]
  },
  {
   "cell_type": "code",
   "execution_count": null,
   "metadata": {},
   "outputs": [],
   "source": []
  }
 ],
 "metadata": {
  "kernelspec": {
   "display_name": "Python 3",
   "language": "python",
   "name": "python3"
  },
  "language_info": {
   "codemirror_mode": {
    "name": "ipython",
    "version": 3
   },
   "file_extension": ".py",
   "mimetype": "text/x-python",
   "name": "python",
   "nbconvert_exporter": "python",
   "pygments_lexer": "ipython3",
   "version": "3.7.6"
  }
 },
 "nbformat": 4,
 "nbformat_minor": 4
}
