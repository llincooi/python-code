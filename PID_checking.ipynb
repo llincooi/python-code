{
 "cells": [
  {
   "cell_type": "code",
   "execution_count": 1,
   "metadata": {},
   "outputs": [],
   "source": [
    "import numpy as np\n",
    "import matplotlib.pyplot as plt\n",
    "from mpl_toolkits import mplot3d\n",
    "import math\n",
    "from scipy import signal\n",
    "from scipy.fftpack import fft\n",
    "from scipy import ndimage\n",
    "%matplotlib inline"
   ]
  },
  {
   "cell_type": "code",
   "execution_count": 2,
   "metadata": {},
   "outputs": [],
   "source": [
    "import os\n",
    "os.chdir('C:\\\\Users\\\\hydro_leo\\\\Documents\\\\GitHub\\\\python-code\\\\func')\n",
    "from BROJA_2PID_noprint import pid, BROJA_2PID_Exception"
   ]
  },
  {
   "cell_type": "code",
   "execution_count": 3,
   "metadata": {},
   "outputs": [
    {
     "name": "stdout",
     "output_type": "stream",
     "text": [
      "(0, 0, 0)\n",
      "0.12499999932482703\n",
      "0.5000000000047526\n",
      "0.25\n",
      "0.24999999864810668\n",
      "2.8303474293043693e-12\n",
      "\n",
      "\n",
      "(0, 0, 1)\n",
      "0.12500000067754932\n",
      "0.5000000000047526\n",
      "0.25\n",
      "0.250000001356646\n",
      "3.428307032312907e-12\n",
      "\n",
      "\n",
      "(0, 1, 0)\n",
      "0.12500000067754932\n",
      "0.5000000000047526\n",
      "0.25\n",
      "0.250000001356646\n",
      "4.026266635321445e-12\n",
      "\n",
      "\n",
      "(0, 1, 1)\n",
      "0.12499999932482701\n",
      "0.5000000000047526\n",
      "0.25\n",
      "0.24999999864810668\n",
      "6.856614064625814e-12\n",
      "\n",
      "\n",
      "(1, 0, 0)\n",
      "0.12499999932327965\n",
      "0.5000000000047526\n",
      "0.25\n",
      "0.24999999864810668\n",
      "7.454573661155963e-12\n",
      "\n",
      "\n",
      "(1, 0, 1)\n",
      "0.1250000006790967\n",
      "0.5000000000047526\n",
      "0.25\n",
      "0.250000001356646\n",
      "1.0284921121124763e-11\n",
      "\n",
      "\n",
      "(1, 1, 0)\n",
      "0.1250000006790967\n",
      "0.5000000000047526\n",
      "0.25\n",
      "0.250000001356646\n",
      "1.3115268581093562e-11\n",
      "\n",
      "\n",
      "(1, 1, 1)\n",
      "0.12499999932327965\n",
      "0.5000000000047526\n",
      "0.25\n",
      "0.24999999864810668\n",
      "1.3713228177623712e-11\n",
      "\n",
      "\n"
     ]
    }
   ],
   "source": [
    "gate =dict()\n",
    "gate[(0,0,0)]=0.125\n",
    "gate[(1,0,1)]=0.125\n",
    "gate[(1,1,0)]=0.125\n",
    "gate[(0,1,1)]=0.125\n",
    "gate[(1,0,0)]=0.125\n",
    "gate[(0,0,1)]=0.125\n",
    "gate[(0,1,0)]=0.125\n",
    "gate[(1,1,1)]=0.125\n",
    "parms = dict()\n",
    "parms['max_iters'] = 20\n",
    "parms['keep_solver_object'] = True\n",
    "return_data = pid(gate,output=0, **parms)"
   ]
  },
  {
   "cell_type": "code",
   "execution_count": 4,
   "metadata": {},
   "outputs": [
    {
     "data": {
      "text/plain": [
       "{'SI': -3.6931963847483086e-11,\n",
       " 'UIY': 1.3713228177623712e-11,\n",
       " 'UIZ': 1.3713228177623712e-11,\n",
       " 'CI': 9.505507492235665e-12,\n",
       " 'Num_err': (2.3763491174833007e-12, 0.0, 5.373869127467401e-09),\n",
       " 'Solver': 'ECOS http://www.embotech.com/ECOS',\n",
       " 'Solver Object': <BROJA_2PID_noprint.Solve_w_ECOS at 0x206a7a0df08>}"
      ]
     },
     "execution_count": 4,
     "metadata": {},
     "output_type": "execute_result"
    }
   ],
   "source": [
    "return_data"
   ]
  },
  {
   "cell_type": "code",
   "execution_count": 5,
   "metadata": {},
   "outputs": [
    {
     "data": {
      "text/plain": [
       "{(0, 0): 0.24999999864810668,\n",
       " (0, 1): 0.250000001356646,\n",
       " (1, 0): 0.250000001356646,\n",
       " (1, 1): 0.24999999864810668}"
      ]
     },
     "execution_count": 5,
     "metadata": {},
     "output_type": "execute_result"
    }
   ],
   "source": [
    "return_data[\"Solver Object\"].marg_yz"
   ]
  },
  {
   "cell_type": "code",
   "execution_count": 6,
   "metadata": {},
   "outputs": [],
   "source": [
    "N = np.zeros((4,2,2), dtype=np.float)\n",
    "for k,v in gate.items():\n",
    "    N[k]=v\n",
    "#Calculate all kinds of probability and make sure the shape of them, 0 -> x, 1 -> v, 2 -> r\n",
    "px=(np.sum(N,axis=(1,2))/np.sum(N))[:, np.newaxis, np.newaxis]\n",
    "py=(np.sum(N,axis=(0,2))/np.sum(N))[np.newaxis, :, np.newaxis]\n",
    "pz=(np.sum(N,axis=(0,1))/np.sum(N))[np.newaxis ,np.newaxis, :]\n",
    "pxy=(np.sum(N,axis=2)/np.sum(N))[:, :, np.newaxis]\n",
    "pxz=(np.sum(N,axis=1)/np.sum(N))[:, np.newaxis, :]\n",
    "pyz=(np.sum(N,axis=0)/np.sum(N))[np.newaxis, :, :]\n",
    "pxyz=(N/np.sum(N))"
   ]
  },
  {
   "cell_type": "code",
   "execution_count": 7,
   "metadata": {},
   "outputs": [
    {
     "name": "stderr",
     "output_type": "stream",
     "text": [
      "C:\\Users\\hydro_leo\\anaconda3\\lib\\site-packages\\ipykernel_launcher.py:1: RuntimeWarning: invalid value encountered in true_divide\n",
      "  \"\"\"Entry point for launching an IPython kernel.\n",
      "C:\\Users\\hydro_leo\\anaconda3\\lib\\site-packages\\ipykernel_launcher.py:2: RuntimeWarning: invalid value encountered in true_divide\n",
      "  \n",
      "C:\\Users\\hydro_leo\\anaconda3\\lib\\site-packages\\ipykernel_launcher.py:3: RuntimeWarning: invalid value encountered in true_divide\n",
      "  This is separate from the ipykernel package so we can avoid doing imports until\n",
      "C:\\Users\\hydro_leo\\anaconda3\\lib\\site-packages\\ipykernel_launcher.py:4: RuntimeWarning: invalid value encountered in true_divide\n",
      "  after removing the cwd from sys.path.\n",
      "C:\\Users\\hydro_leo\\anaconda3\\lib\\site-packages\\ipykernel_launcher.py:5: RuntimeWarning: invalid value encountered in true_divide\n",
      "  \"\"\"\n"
     ]
    }
   ],
   "source": [
    "MIxz = np.nansum(pxz*np.log2(pxz/px/pz))\n",
    "MIxy = np.nansum(pxy*np.log2(pxy/px/py))\n",
    "MIyzX=np.nansum(pxyz*np.log2(pxyz/pyz/px))\n",
    "PI_yX = np.nansum(pxy*np.log2(pxy/px/py), axis = (1,2))\n",
    "PI_zX = np.nansum(pxz*np.log2(pxz/px/pz), axis = (1,2))\n",
    "R = sum(np.minimum(PI_yX, PI_zX))"
   ]
  },
  {
   "cell_type": "code",
   "execution_count": 10,
   "metadata": {},
   "outputs": [
    {
     "name": "stdout",
     "output_type": "stream",
     "text": [
      "0.0 -2.3218735669859376e-11\n",
      "0.0 -2.3218735669859376e-11\n",
      "0.0\n"
     ]
    },
    {
     "data": {
      "text/plain": [
       "0.0"
      ]
     },
     "execution_count": 10,
     "metadata": {},
     "output_type": "execute_result"
    }
   ],
   "source": [
    "print(MIxz, return_data['SI']+return_data['UIZ'])\n",
    "print(MIxy, return_data['SI']+return_data['UIY'])\n",
    "print(MIyzX-MIxy-MIxy+R)\n",
    "R"
   ]
  },
  {
   "cell_type": "code",
   "execution_count": null,
   "metadata": {},
   "outputs": [],
   "source": []
  }
 ],
 "metadata": {
  "kernelspec": {
   "display_name": "Python 3",
   "language": "python",
   "name": "python3"
  },
  "language_info": {
   "codemirror_mode": {
    "name": "ipython",
    "version": 3
   },
   "file_extension": ".py",
   "mimetype": "text/x-python",
   "name": "python",
   "nbconvert_exporter": "python",
   "pygments_lexer": "ipython3",
   "version": "3.7.6"
  }
 },
 "nbformat": 4,
 "nbformat_minor": 4
}
