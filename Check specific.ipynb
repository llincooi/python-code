{
 "cells": [
  {
   "cell_type": "code",
   "execution_count": 1,
   "metadata": {},
   "outputs": [],
   "source": [
    "import numpy as np\n",
    "import matplotlib.pyplot as plt\n",
    "import math"
   ]
  },
  {
   "cell_type": "code",
   "execution_count": 2,
   "metadata": {},
   "outputs": [
    {
     "name": "stdout",
     "output_type": "stream",
     "text": [
      "S = 0.9001987194907266\n",
      "I = -0.6684071437598926\n"
     ]
    }
   ],
   "source": [
    "pX = np.array([0.9, 0.06, 0.04])\n",
    "pXy = np.array([0.5, 0.45, 0.05])\n",
    "S = np.nansum(pXy*np.log2(pXy/pX))\n",
    "I = np.nansum(pXy*np.log2(pXy))- np.nansum(pX*np.log2(pX))\n",
    "print('S =', S)\n",
    "print('I =', I)"
   ]
  },
  {
   "cell_type": "code",
   "execution_count": 3,
   "metadata": {},
   "outputs": [
    {
     "name": "stdout",
     "output_type": "stream",
     "text": [
      "S = 0.7516890164295984\n",
      "I = -0.933909346965252\n"
     ]
    }
   ],
   "source": [
    "pX = np.array([0.9, 0.06, 0.04])\n",
    "pXy = np.array([0.5, 0.25, 0.25])\n",
    "S = np.nansum(pXy*np.log2(pXy/pX))\n",
    "I = np.nansum(pXy*np.log2(pXy))- np.nansum(pX*np.log2(pX))\n",
    "print('S =', S)\n",
    "print('I =', I)"
   ]
  },
  {
   "cell_type": "code",
   "execution_count": 4,
   "metadata": {},
   "outputs": [
    {
     "name": "stdout",
     "output_type": "stream",
     "text": [
      "S = 0.07454998782261114\n",
      "I = 0.4046501104929274\n"
     ]
    }
   ],
   "source": [
    "pX = np.array([0.9, 0.06, 0.04])\n",
    "pXy = np.array([0.98, 0.01, 0.01])\n",
    "S = np.nansum(pXy*np.log2(pXy/pX))\n",
    "I = np.nansum(pXy*np.log2(pXy))- np.nansum(pX*np.log2(pX))\n",
    "print('S =', S)\n",
    "print('I =', I)"
   ]
  },
  {
   "cell_type": "code",
   "execution_count": 5,
   "metadata": {},
   "outputs": [
    {
     "name": "stdout",
     "output_type": "stream",
     "text": [
      "S = 0.1252981626864564\n",
      "I = -0.16970420994059032\n"
     ]
    }
   ],
   "source": [
    "pX = np.array([0.9, 0.06, 0.04])\n",
    "pXy = np.array([0.82, 0.17, 0.01])\n",
    "S = np.nansum(pXy*np.log2(pXy/pX))\n",
    "I = np.nansum(pXy*np.log2(pXy))- np.nansum(pX*np.log2(pX))\n",
    "print('S =', S)\n",
    "print('I =', I)"
   ]
  },
  {
   "cell_type": "code",
   "execution_count": 6,
   "metadata": {},
   "outputs": [
    {
     "ename": "NameError",
     "evalue": "name 'y' is not defined",
     "output_type": "error",
     "traceback": [
      "\u001b[1;31m---------------------------------------------------------------------------\u001b[0m",
      "\u001b[1;31mNameError\u001b[0m                                 Traceback (most recent call last)",
      "\u001b[1;32m<ipython-input-6-8869a850605a>\u001b[0m in \u001b[0;36m<module>\u001b[1;34m\u001b[0m\n\u001b[1;32m----> 1\u001b[1;33m \u001b[0mplt\u001b[0m\u001b[1;33m.\u001b[0m\u001b[0mhlines\u001b[0m\u001b[1;33m(\u001b[0m\u001b[0my\u001b[0m\u001b[1;33m,\u001b[0m \u001b[0mxmin\u001b[0m\u001b[1;33m,\u001b[0m \u001b[0mxmax\u001b[0m\u001b[1;33m)\u001b[0m\u001b[1;33m\u001b[0m\u001b[1;33m\u001b[0m\u001b[0m\n\u001b[0m",
      "\u001b[1;31mNameError\u001b[0m: name 'y' is not defined"
     ]
    }
   ],
   "source": [
    "plt.hlines(y, xmin, xmax)"
   ]
  }
 ],
 "metadata": {
  "kernelspec": {
   "display_name": "Python 3",
   "language": "python",
   "name": "python3"
  },
  "language_info": {
   "codemirror_mode": {
    "name": "ipython",
    "version": 3
   },
   "file_extension": ".py",
   "mimetype": "text/x-python",
   "name": "python",
   "nbconvert_exporter": "python",
   "pygments_lexer": "ipython3",
   "version": "3.7.6"
  }
 },
 "nbformat": 4,
 "nbformat_minor": 4
}
