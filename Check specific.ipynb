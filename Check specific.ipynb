{
 "cells": [
  {
   "cell_type": "code",
   "execution_count": 2,
   "metadata": {},
   "outputs": [],
   "source": [
    "import numpy as np\n",
    "import matplotlib.pyplot as plt\n",
    "import math"
   ]
  },
  {
   "cell_type": "code",
   "execution_count": 18,
   "metadata": {},
   "outputs": [
    {
     "name": "stdout",
     "output_type": "stream",
     "text": [
      "S = 0.9001987194907266\n",
      "I = -0.6684071437598926\n"
     ]
    }
   ],
   "source": [
    "pX = np.array([0.9, 0.06, 0.04])\n",
    "pXy = np.array([0.5, 0.45, 0.05])\n",
    "S = np.nansum(pXy*np.log2(pXy/pX))\n",
    "I = np.nansum(pXy*np.log2(pXy))- np.nansum(pX*np.log2(pX))\n",
    "print('S =', S)\n",
    "print('I =', I)"
   ]
  },
  {
   "cell_type": "code",
   "execution_count": 19,
   "metadata": {},
   "outputs": [
    {
     "name": "stdout",
     "output_type": "stream",
     "text": [
      "S = 0.7516890164295984\n",
      "I = -0.933909346965252\n"
     ]
    }
   ],
   "source": [
    "pX = np.array([0.9, 0.06, 0.04])\n",
    "pXy = np.array([0.5, 0.25, 0.25])\n",
    "S = np.nansum(pXy*np.log2(pXy/pX))\n",
    "I = np.nansum(pXy*np.log2(pXy))- np.nansum(pX*np.log2(pX))\n",
    "print('S =', S)\n",
    "print('I =', I)"
   ]
  },
  {
   "cell_type": "code",
   "execution_count": 25,
   "metadata": {},
   "outputs": [
    {
     "name": "stdout",
     "output_type": "stream",
     "text": [
      "S = 0.07454998782261114\n",
      "I = 0.4046501104929274\n"
     ]
    }
   ],
   "source": [
    "pX = np.array([0.9, 0.06, 0.04])\n",
    "pXy = np.array([0.98, 0.01, 0.01])\n",
    "S = np.nansum(pXy*np.log2(pXy/pX))\n",
    "I = np.nansum(pXy*np.log2(pXy))- np.nansum(pX*np.log2(pX))\n",
    "print('S =', S)\n",
    "print('I =', I)"
   ]
  },
  {
   "cell_type": "code",
   "execution_count": 26,
   "metadata": {},
   "outputs": [
    {
     "name": "stdout",
     "output_type": "stream",
     "text": [
      "S = 0.1252981626864564\n",
      "I = -0.16970420994059032\n"
     ]
    }
   ],
   "source": [
    "pX = np.array([0.9, 0.06, 0.04])\n",
    "pXy = np.array([0.82, 0.17, 0.01])\n",
    "S = np.nansum(pXy*np.log2(pXy/pX))\n",
    "I = np.nansum(pXy*np.log2(pXy))- np.nansum(pX*np.log2(pX))\n",
    "print('S =', S)\n",
    "print('I =', I)"
   ]
  },
  {
   "cell_type": "code",
   "execution_count": null,
   "metadata": {},
   "outputs": [],
   "source": [
    "plt.hlines(y, xmin, xmax)"
   ]
  }
 ],
 "metadata": {
  "kernelspec": {
   "display_name": "Python 3",
   "language": "python",
   "name": "python3"
  },
  "language_info": {
   "codemirror_mode": {
    "name": "ipython",
    "version": 3
   },
   "file_extension": ".py",
   "mimetype": "text/x-python",
   "name": "python",
   "nbconvert_exporter": "python",
   "pygments_lexer": "ipython3",
   "version": "3.7.6"
  }
 },
 "nbformat": 4,
 "nbformat_minor": 4
}
