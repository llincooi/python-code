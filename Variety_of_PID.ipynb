{
 "cells": [
  {
   "cell_type": "code",
   "execution_count": 1,
   "metadata": {},
   "outputs": [],
   "source": [
    "import numpy as np\n",
    "import matplotlib.pyplot as plt\n",
    "from mpl_toolkits import mplot3d\n",
    "import math\n",
    "from scipy import signal\n",
    "from scipy.fftpack import fft\n",
    "from scipy import ndimage\n",
    "%matplotlib inline"
   ]
  },
  {
   "cell_type": "code",
   "execution_count": 2,
   "metadata": {},
   "outputs": [],
   "source": [
    "import os\n",
    "os.chdir('C:\\\\Users\\\\hydro_leo\\\\Documents\\\\GitHub\\\\BROJA_2PID')\n",
    "from BROJA_2PID import pid, BROJA_2PID_Exception"
   ]
  },
  {
   "cell_type": "code",
   "execution_count": 2,
   "metadata": {},
   "outputs": [],
   "source": [
    "def PIfunc(r, x, v, dt, window):\n",
    "    negshift=window[0] # second\n",
    "    posshift=window[1] # second\n",
    "    shiftlen=(posshift-negshift)/dt+1\n",
    "    timeshift=np.linspace(negshift,posshift,int(shiftlen))\n",
    "    bitshift=np.linspace(negshift/dt,posshift/dt,int(shiftlen),dtype = 'int16')\n",
    "    Redun =np.zeros(len(bitshift))\n",
    "    MIxr=np.zeros(len(bitshift))\n",
    "    MIvr=np.zeros(len(bitshift))\n",
    "    MIxvR=np.zeros(len(bitshift))\n",
    "    # shifted data\n",
    "    # shift>0 => y shifted to positive side\n",
    "    for i in range(len(bitshift)):\n",
    "        xx=[]\n",
    "        vv=[]\n",
    "        rr=[]\n",
    "        shift=bitshift[i]\n",
    "        if shift>0:\n",
    "            xx=x[shift:]\n",
    "            vv=v[shift:]\n",
    "            rr=r[:(-1*shift)]\n",
    "        elif shift==0:\n",
    "            xx=x\n",
    "            vv=v\n",
    "            rr=r\n",
    "        elif shift<0:\n",
    "            xx=x[:shift]\n",
    "            vv=v[:shift]\n",
    "            rr=r[(-1*shift):]\n",
    "        #find weight of each states by 3D histogram \n",
    "        xedges = np.append(np.unique(xx),(max(xx)+1))\n",
    "        vedges = np.append(np.unique(vv),(max(vv)+1))\n",
    "        redges = np.append(np.unique(rr),(max(rr)+1))\n",
    "        dat = np.concatenate((xx[:,np.newaxis], vv[:,np.newaxis],rr[:,np.newaxis]), axis=1)\n",
    "        N, edges = np.histogramdd(dat, bins=(xedges, vedges, redges))\n",
    "        #Calculate all kinds of probability and make sure the shape of them, 0 -> x, 1 -> v, 2 -> r\n",
    "        px=(np.sum(N,axis=(1,2))/np.sum(N))[:, np.newaxis, np.newaxis]\n",
    "        pv=(np.sum(N,axis=(0,2))/np.sum(N))[np.newaxis, :, np.newaxis]\n",
    "        pr=(np.sum(N,axis=(0,1))/np.sum(N))[np.newaxis ,np.newaxis, :]\n",
    "        pxv=(np.sum(N,axis=2)/np.sum(N))[:, :, np.newaxis]\n",
    "        pxr=(np.sum(N,axis=1)/np.sum(N))[:, np.newaxis, :]\n",
    "        pvr=(np.sum(N,axis=0)/np.sum(N))[np.newaxis, :, :]\n",
    "        pxvr=(N/np.sum(N))\n",
    "        \n",
    "        MIxr[i]=np.nansum(pxr*np.log2(pxr/px/pr))/dt\n",
    "        MIvr[i]=np.nansum(pvr*np.log2(pvr/pv/pr))/dt\n",
    "        MIxvR[i]=np.nansum(pxvr*np.log2(pxvr/pxv/pr))/dt\n",
    "        \n",
    "        PI_xR = np.nansum(pxr*np.log2(pxr/px/pr), axis = (0,1))\n",
    "        PI_vR = np.nansum(pvr*np.log2(pvr/pv/pr), axis = (0,1))\n",
    "        Redun[i] = sum(np.minimum(PI_xR, PI_vR))/dt\n",
    "    return timeshift, MIxr, MIvr, MIxvR, Redun"
   ]
  },
  {
   "cell_type": "code",
   "execution_count": 8,
   "metadata": {},
   "outputs": [
    {
     "name": "stderr",
     "output_type": "stream",
     "text": [
      "C:\\Users\\hydro_leo\\anaconda3\\lib\\site-packages\\ipykernel_launcher.py:45: RuntimeWarning: divide by zero encountered in log2\n",
      "C:\\Users\\hydro_leo\\anaconda3\\lib\\site-packages\\ipykernel_launcher.py:45: RuntimeWarning: invalid value encountered in multiply\n",
      "C:\\Users\\hydro_leo\\anaconda3\\lib\\site-packages\\ipykernel_launcher.py:46: RuntimeWarning: divide by zero encountered in log2\n",
      "C:\\Users\\hydro_leo\\anaconda3\\lib\\site-packages\\ipykernel_launcher.py:46: RuntimeWarning: invalid value encountered in multiply\n",
      "C:\\Users\\hydro_leo\\anaconda3\\lib\\site-packages\\ipykernel_launcher.py:47: RuntimeWarning: divide by zero encountered in log2\n",
      "C:\\Users\\hydro_leo\\anaconda3\\lib\\site-packages\\ipykernel_launcher.py:47: RuntimeWarning: invalid value encountered in multiply\n",
      "C:\\Users\\hydro_leo\\anaconda3\\lib\\site-packages\\ipykernel_launcher.py:49: RuntimeWarning: divide by zero encountered in log2\n",
      "C:\\Users\\hydro_leo\\anaconda3\\lib\\site-packages\\ipykernel_launcher.py:49: RuntimeWarning: invalid value encountered in multiply\n",
      "C:\\Users\\hydro_leo\\anaconda3\\lib\\site-packages\\ipykernel_launcher.py:50: RuntimeWarning: divide by zero encountered in log2\n",
      "C:\\Users\\hydro_leo\\anaconda3\\lib\\site-packages\\ipykernel_launcher.py:50: RuntimeWarning: invalid value encountered in multiply\n"
     ]
    }
   ],
   "source": [
    "#calculate STA\n",
    "xstate = np.random.randint(2, size=1000)\n",
    "vstate = np.random.randint(2, size=1000)\n",
    "rstate = vstate*2+xstate\n",
    "dt = 1\n",
    "window = [0,0] # second\n",
    "timeshift, MIrx, MIrv, MIjoint, Redun = PIfunc(rstate, xstate, vstate, dt, window)\n",
    "timeshift, A, MIxv, B, C = PIfunc(xstate, xstate, vstate, dt, window)\n",
    "Ux = MIrx-Redun\n",
    "Uv = MIrv-Redun\n",
    "Syner = MIjoint-MIrx-MIrv+Redun"
   ]
  },
  {
   "cell_type": "code",
   "execution_count": 9,
   "metadata": {},
   "outputs": [
    {
     "name": "stdout",
     "output_type": "stream",
     "text": [
      "[0.97479838] [0.00046814]\n",
      "[0.02389944]\n",
      "[0.02454881]\n",
      "[0.97526652]\n",
      "[1.99851315]\n"
     ]
    }
   ],
   "source": [
    "print(Syner, MIxv)\n",
    "print(Ux)\n",
    "print(Uv)\n",
    "print(Redun)\n",
    "print(MIjoint)"
   ]
  },
  {
   "cell_type": "code",
   "execution_count": 6,
   "metadata": {},
   "outputs": [
    {
     "name": "stdout",
     "output_type": "stream",
     "text": [
      "Starting BROJA_2PID.pid() on AND gate.\n",
      "BROJA_2PID: Preparing Cone Program data...done.\n",
      "BROJA_2PID: Starting solver.\n",
      "\n",
      "ECOS 2.0.7 - (C) embotech GmbH, Zurich Switzerland, 2012-15. Web: www.embotech.com/ECOS\n",
      "\n",
      "It     pcost       dcost      gap   pres   dres    k/t    mu     step   sigma     IR    |   BT\n",
      " 0  +0.000e+00  -0.000e+00  +2e+01  8e-01  3e-01  1e+00  1e+00    ---    ---    0  0  - |  -  - \n",
      " 1  -1.441e+00  -9.177e-01  +5e+00  9e-01  1e-01  9e-01  2e-01  0.7833  9e-03   1  1  1 |  1  1\n",
      " 2  -1.258e+00  -1.091e+00  +1e+00  3e-01  3e-02  3e-01  5e-02  0.7833  9e-03   1  1  1 |  1  1\n",
      " 3  -4.328e-01  -3.968e-01  +2e-01  8e-02  7e-03  6e-02  1e-02  0.7833  1e-02   1  1  1 |  1  1\n",
      " 4  -4.802e-02  -3.725e-02  +4e-02  2e-02  2e-03  2e-02  2e-03  0.7833  5e-02   1  1  1 |  2  1\n",
      " 5  -2.207e-02  -1.742e-02  +2e-02  1e-02  9e-04  8e-03  9e-04  0.6266  1e-01   1  1  1 |  3  2\n",
      " 6  -8.261e-03  -7.311e-03  +4e-03  2e-03  2e-04  2e-03  2e-04  0.7830  3e-04   1  1  1 |  0  1\n",
      " 7  -1.638e-03  -1.423e-03  +9e-04  5e-04  4e-05  4e-04  4e-05  0.7833  9e-03   1  1  1 |  1  1\n",
      " 8  -6.777e-04  -5.944e-04  +4e-04  2e-04  2e-05  1e-04  2e-05  0.6266  5e-02   1  1  1 |  2  2\n",
      " 9  -1.502e-04  -1.318e-04  +8e-05  5e-05  4e-06  3e-05  4e-06  0.7833  9e-03   2  1  1 |  1  1\n",
      "10  -3.818e-05  -3.420e-05  +2e-05  1e-05  8e-07  7e-06  9e-07  0.7833  1e-02   2  0  1 |  1  1\n",
      "Maximum number of iterations reached, stopping.\n",
      "\n",
      "Close to OPTIMAL (within feastol=1.0e-05, reltol=4.9e-01, abstol=1.9e-05).\n",
      "Runtime: 0.000305 seconds.\n",
      "\n",
      "\n",
      "BROJA_2PID: done.\n",
      "{'exitFlag': 10, 'pcost': -3.817503693473504e-05, 'dcost': -3.420024884553646e-05, 'pres': 1.017500852975447e-05, 'dres': 8.306984132966821e-07, 'pinf': 0.0, 'dinf': 0.0, 'pinfres': nan, 'dinfres': 0.3432150189586011, 'gap': 1.8598887282963994e-05, 'relgap': 0.4872002433098126, 'r0': 1e-08, 'iter': 10, 'mi_iter': -1, 'infostring': 'Close to optimal solution found', 'timing': {'runtime': 0.00030460000000000003, 'tsetup': 3.64e-05, 'tsolve': 0.0002682}, 'numerr': 0}\n",
      "Time to check optimiality conditions:  0.0 secs\n",
      "Shared information: 0.31128820548431646\n",
      "  Unique information in Y: -4.296051812807815e-06\n",
      "  Unique information in Z: 0.4999942150266292\n",
      "  Synergistic information: 0.0\n",
      "  Primal feasibility: 1.4888790770828386e-06\n",
      "  Dual feasibility: 0.0\n",
      "  Duality Gap: 3.420024884553647e-05\n",
      "The End\n"
     ]
    }
   ],
   "source": [
    "# test_and_gate.py\n",
    "from BROJA_2PID import pid, BROJA_2PID_Exception\n",
    "\n",
    "# AND gate\n",
    "andgate = dict()\n",
    "andgate[ (0,0,0) ] = .25\n",
    "andgate[ (0,0,1) ] = .25\n",
    "andgate[ (0,1,2) ] = .25\n",
    "andgate[ (1,1,3) ] = .25\n",
    "\n",
    "# ECOS parameters \n",
    "parms = dict()\n",
    "parms['max_iters'] = 10\n",
    "\n",
    "print(\"Starting BROJA_2PID.pid() on AND gate.\")\n",
    "try:\n",
    "  returndict = pid(andgate, cone_solver=\"ECOS\", output=2, **parms)\n",
    "\n",
    "  msg=\"\"\"Shared information: {SI}\n",
    "  Unique information in Y: {UIY}\n",
    "  Unique information in Z: {UIZ}\n",
    "  Synergistic information: {CI}\n",
    "  Primal feasibility: {Num_err[0]}\n",
    "  Dual feasibility: {Num_err[1]}\n",
    "  Duality Gap: {Num_err[2]}\"\"\"\n",
    "  print(msg.format(**returndict))\n",
    "  \n",
    "except BROJA_2PID_Exception:\n",
    "  print(\"Cone Programming solver failed to find (near) optimal solution. Please report the input probability density function to abdullah.makkeh@gmail.com\")\n",
    "\n",
    "print(\"The End\")"
   ]
  },
  {
   "cell_type": "code",
   "execution_count": null,
   "metadata": {},
   "outputs": [],
   "source": []
  }
 ],
 "metadata": {
  "kernelspec": {
   "display_name": "Python 3",
   "language": "python",
   "name": "python3"
  },
  "language_info": {
   "codemirror_mode": {
    "name": "ipython",
    "version": 3
   },
   "file_extension": ".py",
   "mimetype": "text/x-python",
   "name": "python",
   "nbconvert_exporter": "python",
   "pygments_lexer": "ipython3",
   "version": "3.7.6"
  }
 },
 "nbformat": 4,
 "nbformat_minor": 4
}
