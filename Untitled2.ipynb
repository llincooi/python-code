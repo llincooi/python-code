{
 "cells": [
  {
   "cell_type": "code",
   "execution_count": 1,
   "metadata": {},
   "outputs": [
    {
     "name": "stdout",
     "output_type": "stream",
     "text": [
      "4999999950000000\n",
      "Time used: 5.4464311599731445 sec\n"
     ]
    }
   ],
   "source": [
    "import time\n",
    "def sum_cal(x,y):\n",
    "    sum_num = 0\n",
    "    for i in range(x,y):\n",
    "        sum_num += i    \n",
    "    return sum_num\n",
    "start_time = time.time()\n",
    "print(sum_cal(1,100000000))\n",
    "print('Time used: {} sec'.format(time.time()-start_time))"
   ]
  },
  {
   "cell_type": "code",
   "execution_count": 2,
   "metadata": {},
   "outputs": [
    {
     "name": "stdout",
     "output_type": "stream",
     "text": [
      "4999999950000000\n",
      "Time used: 9.567407131195068 sec\n"
     ]
    }
   ],
   "source": [
    "start_time = time.time()\n",
    "\n",
    "sum_num = 0\n",
    "x = 1\n",
    "y = 100000000\n",
    "for i in range(x,y):\n",
    "    sum_num += i    \n",
    "print(sum_num)\n",
    "print('Time used: {} sec'.format(time.time()-start_time))"
   ]
  },
  {
   "cell_type": "code",
   "execution_count": 3,
   "metadata": {},
   "outputs": [
    {
     "name": "stdout",
     "output_type": "stream",
     "text": [
      "4999999950000000\n",
      "Time used: 0.24434590339660645 sec\n"
     ]
    }
   ],
   "source": [
    "from numba import jit\n",
    "\n",
    "@jit\n",
    "def sum_cal(x,y):\n",
    "    sum_num = 0\n",
    "    for i in range(x,y):\n",
    "        sum_num += i    \n",
    "    return sum_num\n",
    "start_time = time.time()\n",
    "print(sum_cal(1,100000000))\n",
    "print('Time used: {} sec'.format(time.time()-start_time))"
   ]
  },
  {
   "cell_type": "code",
   "execution_count": 4,
   "metadata": {},
   "outputs": [
    {
     "ename": "SyntaxError",
     "evalue": "invalid syntax (<ipython-input-4-5c851bb246fd>, line 4)",
     "output_type": "error",
     "traceback": [
      "\u001b[1;36m  File \u001b[1;32m\"<ipython-input-4-5c851bb246fd>\"\u001b[1;36m, line \u001b[1;32m4\u001b[0m\n\u001b[1;33m    sum_num = 0\u001b[0m\n\u001b[1;37m          ^\u001b[0m\n\u001b[1;31mSyntaxError\u001b[0m\u001b[1;31m:\u001b[0m invalid syntax\n"
     ]
    }
   ],
   "source": [
    "start_time = time.time()\n",
    "\n",
    "\n",
    "sum_num = 0\n",
    "x = 1\n",
    "y = 100000000\n",
    "for i in range(x,y):\n",
    "    sum_num += i    \n",
    "print(sum_num)\n",
    "print('Time used: {} sec'.format(time.time()-start_time))"
   ]
  },
  {
   "cell_type": "code",
   "execution_count": null,
   "metadata": {},
   "outputs": [],
   "source": []
  }
 ],
 "metadata": {
  "kernelspec": {
   "display_name": "Python 3",
   "language": "python",
   "name": "python3"
  },
  "language_info": {
   "codemirror_mode": {
    "name": "ipython",
    "version": 3
   },
   "file_extension": ".py",
   "mimetype": "text/x-python",
   "name": "python",
   "nbconvert_exporter": "python",
   "pygments_lexer": "ipython3",
   "version": "3.7.6"
  },
  "toc": {
   "base_numbering": 1,
   "nav_menu": {},
   "number_sections": true,
   "sideBar": true,
   "skip_h1_title": false,
   "title_cell": "Table of Contents",
   "title_sidebar": "Contents",
   "toc_cell": false,
   "toc_position": {},
   "toc_section_display": true,
   "toc_window_display": false
  },
  "varInspector": {
   "cols": {
    "lenName": 16,
    "lenType": 16,
    "lenVar": 40
   },
   "kernels_config": {
    "python": {
     "delete_cmd_postfix": "",
     "delete_cmd_prefix": "del ",
     "library": "var_list.py",
     "varRefreshCmd": "print(var_dic_list())"
    },
    "r": {
     "delete_cmd_postfix": ") ",
     "delete_cmd_prefix": "rm(",
     "library": "var_list.r",
     "varRefreshCmd": "cat(var_dic_list()) "
    }
   },
   "types_to_exclude": [
    "module",
    "function",
    "builtin_function_or_method",
    "instance",
    "_Feature"
   ],
   "window_display": false
  }
 },
 "nbformat": 4,
 "nbformat_minor": 4
}
