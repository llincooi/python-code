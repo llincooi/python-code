{
 "cells": [
  {
   "cell_type": "code",
   "execution_count": 2,
   "metadata": {},
   "outputs": [
    {
     "data": {
      "image/png": "[encoded data removed]",
      "text/plain": [
       "<Figure size 432x288 with 1 Axes>"
      ]
     },
     "metadata": {
      "needs_background": "light"
     },
     "output_type": "display_data"
    }
   ],
   "source": [
    "#matplotlib_animation_sample.py\n",
    "import numpy as np\n",
    "import matplotlib.pyplot as plt\n",
    "from matplotlib.animation import FuncAnimation\n",
    "\n",
    "fig, ax = plt.subplots()\n",
    "A = range(-5,5)\n",
    "xdata, ydata = [], []\n",
    "xdata2, ydata2 = [], []\n",
    "xdata3, ydata3 = [], []\n",
    "\n",
    "ln1, ln2, ln3, ln4 = ax.plot([], [], 'r-', \n",
    "                         [], [], 'b-', \n",
    "                         [], [], 'y-', \n",
    "                         [], [], 'c-', \n",
    "                         animated=False) #animated is associated with blit\n",
    "                         \n",
    "def init():\n",
    "    ax.set_xlim(0, 10)\n",
    "    ax.set_ylim(-6, 6)    \n",
    "    return ln1,ln2,ln3,ln4\n",
    "\n",
    "def update(i): #i is an int from 0 to frames-1, and keep looping\n",
    "    ax.set_xlim(i/250, 10+i/250)\n",
    "    global A\n",
    "    iter = int(i/50)\n",
    "    if i==0:\n",
    "        xdata.clear()\n",
    "        ydata.clear()\n",
    "        xdata2.clear()\n",
    "        ydata2.clear()\n",
    "        iter = 0\n",
    "    xdata.append(i/50)\n",
    "    ydata.append(A[iter])\n",
    "    xdata2.append(i/50)\n",
    "    ydata2.append(np.cos(i/100))\n",
    "    xdata3.append(i/50)\n",
    "    ydata3.append(np.cos(i/100-np.pi))\n",
    "    ln1.set_data(xdata, ydata)\n",
    "    ln2.set_data(xdata2, ydata2)\n",
    "    ln3.set_data(xdata3, ydata3)\n",
    "    x = np.linspace(0, 10, 1000)\n",
    "    y = np.sin(np.pi*(x + i/100))\n",
    "    ln4.set_data(x, y)\n",
    "    iter += 1\n",
    "    return ln1, ln2, ln3, ln4\n",
    "\n",
    "def main():\n",
    "    ani = FuncAnimation(fig, update, frames = 500, interval = 20,\n",
    "                    init_func=init, blit=False)\n",
    "    ani.save('test.mp4', writer='ffmpeg', fps=30) #save as .mp4\n",
    "    plt.show() #show result\n",
    "        \n",
    "if __name__ == '__main__':\n",
    "    main()    "
   ]
  },
  {
   "cell_type": "code",
   "execution_count": null,
   "metadata": {},
   "outputs": [],
   "source": []
  }
 ],
 "metadata": {
  "kernelspec": {
   "display_name": "Python 3",
   "language": "python",
   "name": "python3"
  },
  "language_info": {
   "codemirror_mode": {
    "name": "ipython",
    "version": 3
   },
   "file_extension": ".py",
   "mimetype": "text/x-python",
   "name": "python",
   "nbconvert_exporter": "python",
   "pygments_lexer": "ipython3",
   "version": "3.7.6"
  },
  "toc": {
   "base_numbering": 1,
   "nav_menu": {},
   "number_sections": true,
   "sideBar": true,
   "skip_h1_title": false,
   "title_cell": "Table of Contents",
   "title_sidebar": "Contents",
   "toc_cell": false,
   "toc_position": {},
   "toc_section_display": true,
   "toc_window_display": false
  },
  "varInspector": {
   "cols": {
    "lenName": 16,
    "lenType": 16,
    "lenVar": 40
   },
   "kernels_config": {
    "python": {
     "delete_cmd_postfix": "",
     "delete_cmd_prefix": "del ",
     "library": "var_list.py",
     "varRefreshCmd": "print(var_dic_list())"
    },
    "r": {
     "delete_cmd_postfix": ") ",
     "delete_cmd_prefix": "rm(",
     "library": "var_list.r",
     "varRefreshCmd": "cat(var_dic_list()) "
    }
   },
   "types_to_exclude": [
    "module",
    "function",
    "builtin_function_or_method",
    "instance",
    "_Feature"
   ],
   "window_display": false
  }
 },
 "nbformat": 4,
 "nbformat_minor": 4
}
